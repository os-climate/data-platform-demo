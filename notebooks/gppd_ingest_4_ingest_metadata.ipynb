{
 "cells": [
  {
   "cell_type": "markdown",
   "id": "22096f99-a79b-4476-85f4-936f388962e3",
   "metadata": {},
   "source": [
    "# WRI Global Power Plant Database Ingestion Pipeline (Step 4)\n",
    "# Metadata ingestion in OpenMetadata using Python APIs\n",
    "Copyright (C) 2021 OS-Climate\n",
    "\n",
    "This sample shows:\n",
    "* How to connect to OpenMetadata\n",
    "* How to query and interact with objects such as tables via the Python API\n",
    "* How to ingest additional metadata information using the REST API\n",
    "\n",
    "\n",
    "Permission is hereby granted, free of charge, to any person obtaining a copy of this software and associated documentation files (the \"Software\"), to deal in the Software without restriction, including without limitation the rights to use, copy, modify, merge, publish, distribute, sublicense, and/or sell copies of the Software, and to permit persons to whom the Software is furnished to do so, subject to the following conditions:\n",
    "\n",
    "The above copyright notice and this permission notice shall be included in all copies or substantial portions of the Software.\n",
    "\n",
    "THE SOFTWARE IS PROVIDED \"AS IS\", WITHOUT WARRANTY OF ANY KIND, EXPRESS OR IMPLIED, INCLUDING BUT NOT LIMITED TO THE WARRANTIES OF MERCHANTABILITY, FITNESS FOR A PARTICULAR PURPOSE AND NONINFRINGEMENT. IN NO EVENT SHALL THE AUTHORS OR COPYRIGHT HOLDERS BE LIABLE FOR ANY CLAIM, DAMAGES OR OTHER LIABILITY, WHETHER IN AN ACTION OF CONTRACT, TORT OR OTHERWISE, ARISING FROM, OUT OF OR IN CONNECTION WITH THE SOFTWARE OR THE USE OR OTHER DEALINGS IN THE SOFTWARE."
   ]
  },
  {
   "cell_type": "code",
   "execution_count": 1,
   "id": "be626765-0b86-481d-8024-04553b042ac8",
   "metadata": {},
   "outputs": [],
   "source": [
    "%%capture pipoutput\n",
    "\n",
    "# For loading predefined environment variables from files\n",
    "# Typically used to load sensitive access credentials\n",
    "%pip install python-dotenv\n",
    "\n",
    "# Interacting with Trino and using Trino with sqlalchemy\n",
    "%pip install trino sqlalchemy sqlalchemy-trino\n",
    "\n",
    "# OpenMetadata Python APIs\n",
    "%pip install openmetadata-ingestion-core\n",
    "%pip install openmetadata-ingestion==0.10.3\n",
    "\n",
    "# OS-Climate utilities to make data ingest easier\n",
    "%pip install osc-ingest-tools"
   ]
  },
  {
   "cell_type": "code",
   "execution_count": 2,
   "id": "d2c50eaf-720f-4423-9c0d-c1aad9acbbf8",
   "metadata": {},
   "outputs": [
    {
     "name": "stdout",
     "output_type": "stream",
     "text": [
      "Exception reporting mode: Minimal\n"
     ]
    }
   ],
   "source": [
    "# Report exceptions only in cells output\n",
    "%xmode Minimal"
   ]
  },
  {
   "cell_type": "code",
   "execution_count": 3,
   "id": "413fe089-07d5-41f5-b4f7-8f4382c76582",
   "metadata": {},
   "outputs": [],
   "source": [
    "from dotenv import dotenv_values, load_dotenv\n",
    "import os\n",
    "import pathlib\n",
    "import osc_ingest_trino as osc\n",
    "from metadata.generated.schema.entity.services.connections.metadata.openMetadataConnection import (\n",
    "    OpenMetadataConnection,\n",
    "    AuthProvider\n",
    ")\n",
    "from metadata.generated.schema.security.client.openMetadataJWTClientConfig import OpenMetadataJWTClientConfig\n",
    "from metadata.ingestion.ometa.ometa_api import OpenMetadata\n",
    "from metadata.generated.schema.entity.services.databaseService import (\n",
    "    DatabaseService,\n",
    "    DatabaseServiceType,\n",
    "    DatabaseConnection,\n",
    ")"
   ]
  },
  {
   "cell_type": "code",
   "execution_count": 4,
   "id": "5cfe9297-39e8-4011-b8c2-f2222ddd9d49",
   "metadata": {},
   "outputs": [],
   "source": [
    "# Load environment variables from credentials.env\n",
    "osc.load_credentials_dotenv()"
   ]
  },
  {
   "cell_type": "markdown",
   "id": "7a5e9f50-d1d8-46cf-ae80-fb0b3f81dbf7",
   "metadata": {},
   "source": [
    "Initialize OpenMetadata"
   ]
  },
  {
   "cell_type": "code",
   "execution_count": 5,
   "id": "bb2f9e58-c18a-45ca-afa3-7cb63f695d21",
   "metadata": {},
   "outputs": [
    {
     "name": "stdout",
     "output_type": "stream",
     "text": [
      "True\n"
     ]
    }
   ],
   "source": [
    "server_config = OpenMetadataConnection(\n",
    "    hostPort=os.environ['OPENMETA_ENDPOINT'],\n",
    "    authProvider=AuthProvider.openmetadata,\n",
    "    securityConfig=OpenMetadataJWTClientConfig(\n",
    "        jwtToken=os.getenv('JWT_TOKEN', os.environ['OPENMETA_TOKEN'])\n",
    "    )\n",
    ")\n",
    "metadata = OpenMetadata(server_config)\n",
    "print(metadata.health_check())"
   ]
  },
  {
   "cell_type": "code",
   "execution_count": 6,
   "id": "1da3ee6e-1077-4164-8667-bfc02f4c4522",
   "metadata": {},
   "outputs": [
    {
     "name": "stdout",
     "output_type": "stream",
     "text": [
      "{'data': [{'id': '6a2391a9-dd2b-409d-afdf-1674b5fdbb50', 'name': 'osc_datacommons_dev', 'fullyQualifiedName': 'OSC-CL1-trino.osc_datacommons_dev', 'version': 0.1, 'updatedAt': 1655211682414, 'updatedBy': 'ingestion-bot', 'href': 'http://openmetadata-openmetadata.apps.odh-cl2.apps.os-climate.org/api/v1/databases/6a2391a9-dd2b-409d-afdf-1674b5fdbb50', 'service': {'id': '2b84ea88-b436-4e01-b26a-f7ca6f4afdb1', 'type': 'databaseService', 'name': 'OSC-CL1-trino', 'fullyQualifiedName': 'OSC-CL1-trino', 'description': '', 'deleted': False, 'href': 'http://openmetadata-openmetadata.apps.odh-cl2.apps.os-climate.org/api/v1/services/databaseServices/2b84ea88-b436-4e01-b26a-f7ca6f4afdb1'}, 'serviceType': 'Trino', 'default': False, 'deleted': False}, {'id': '49b55c18-e7dc-4a5e-949c-aacdb8f3211e', 'name': 'osc_datacommons_dev', 'fullyQualifiedName': 'OSC-CL2.osc_datacommons_dev', 'version': 0.1, 'updatedAt': 1655303523009, 'updatedBy': 'ingestion-bot', 'href': 'http://openmetadata-openmetadata.apps.odh-cl2.apps.os-climate.org/api/v1/databases/49b55c18-e7dc-4a5e-949c-aacdb8f3211e', 'service': {'id': 'cd3bbcb9-37ab-46f6-bc66-32764e55170a', 'type': 'databaseService', 'name': 'OSC-CL2', 'fullyQualifiedName': 'OSC-CL2', 'description': '', 'deleted': False, 'href': 'http://openmetadata-openmetadata.apps.odh-cl2.apps.os-climate.org/api/v1/services/databaseServices/cd3bbcb9-37ab-46f6-bc66-32764e55170a'}, 'serviceType': 'Trino', 'default': False, 'deleted': False}], 'paging': {'total': 2}}\n"
     ]
    }
   ],
   "source": [
    "print(metadata.client.get('/databases'))"
   ]
  },
  {
   "cell_type": "code",
   "execution_count": 7,
   "id": "67a0069a-5ee1-47e9-9cbe-2b9207077654",
   "metadata": {},
   "outputs": [
    {
     "name": "stdout",
     "output_type": "stream",
     "text": [
      "id=Uuid(__root__=UUID('cd3bbcb9-37ab-46f6-bc66-32764e55170a')) name=EntityName(__root__='OSC-CL2') displayName=None serviceType=<DatabaseServiceType.Trino: 'Trino'> description='' connection=DatabaseConnection(config=TrinoConnection(type=<TrinoType.Trino: 'Trino'>, scheme=<TrinoScheme.trino: 'trino'>, username='admin', password=SecretStr('**********'), hostPort='trino-secure-odh-trino.apps.odh-cl2.apps.os-climate.org:443', catalog='osc_datacommons_dev', database=None, proxies={}, params={}, connectionOptions=ConnectionOptions(), connectionArguments=ConnectionArguments(), supportsMetadataExtraction=SupportsMetadataExtraction(__root__=True), supportsProfiler=SupportsProfiler(__root__=True))) pipelines=None version=EntityVersion(__root__=0.1) updatedAt=Timestamp(__root__=1655299738578) updatedBy='humair88' owner=None href=Href(__root__=AnyUrl('http://openmetadata-openmetadata.apps.odh-cl2.apps.os-climate.org/api/v1/services/databaseServices/cd3bbcb9-37ab-46f6-bc66-32764e55170a', scheme='http', host='openmetadata-openmetadata.apps.odh-cl2.apps.os-climate.org', tld='org', host_type='domain', path='/api/v1/services/databaseServices/cd3bbcb9-37ab-46f6-bc66-32764e55170a')) changeDescription=None deleted=False\n"
     ]
    }
   ],
   "source": [
    "service_query = metadata.get_by_name(entity=DatabaseService, fqdn=\"OSC-CL2\")\n",
    "print(service_query)"
   ]
  },
  {
   "cell_type": "code",
   "execution_count": 8,
   "id": "1c3b55f7-e9be-4cb9-aa2b-e8287d838288",
   "metadata": {},
   "outputs": [
    {
     "name": "stdout",
     "output_type": "stream",
     "text": [
      "OSC-CL1-trino.osc_datacommons_dev.company_data.fundamental_data\n"
     ]
    }
   ],
   "source": [
    "print(metadata.client.get('/tables')['data'][0]['fullyQualifiedName'])"
   ]
  },
  {
   "cell_type": "code",
   "execution_count": 9,
   "id": "43a1fee8-311e-430c-81a8-cc78f16d231e",
   "metadata": {},
   "outputs": [
    {
     "ename": "NameError",
     "evalue": "name 'Table' is not defined",
     "output_type": "error",
     "traceback": [
      "\u001b[0;31mNameError\u001b[0m\u001b[0;31m:\u001b[0m name 'Table' is not defined\n"
     ]
    }
   ],
   "source": [
    "my_table = metadata.get_by_name(entity=Table, fqdn=\"OSC-CL1-trino.osc_datacommons_dev.company_data.fundamental_data\")\n",
    "print(my_table)"
   ]
  },
  {
   "cell_type": "code",
   "execution_count": null,
   "id": "ad13fb2f-1cb5-4e6a-9ab9-f1af369d29af",
   "metadata": {},
   "outputs": [],
   "source": []
  }
 ],
 "metadata": {
  "kernelspec": {
   "display_name": "Python 3 (ipykernel)",
   "language": "python",
   "name": "python3"
  },
  "language_info": {
   "codemirror_mode": {
    "name": "ipython",
    "version": 3
   },
   "file_extension": ".py",
   "mimetype": "text/x-python",
   "name": "python",
   "nbconvert_exporter": "python",
   "pygments_lexer": "ipython3",
   "version": "3.8.8"
  }
 },
 "nbformat": 4,
 "nbformat_minor": 5
}
