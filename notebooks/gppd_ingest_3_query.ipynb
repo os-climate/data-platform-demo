{
 "cells": [
  {
   "cell_type": "markdown",
   "id": "85242414-1037-453d-9f3c-75a35f578edd",
   "metadata": {},
   "source": [
    "# WRI Global Power Plant Database Ingestion Pipeline (Step 3)\n",
    "# Trino Access Controls and Query Execution\n",
    "Copyright (C) 2021 OS-Climate\n",
    "\n",
    "This sample shows:\n",
    "* How data scientists and users can connect via Trino and use simple SQL to retrieve the data they need into a dataframe\n",
    "* How we leverage Trino as centralized data access layer to manage fine-grained data access controls in a federated manner\n",
    "\n",
    "Permission is hereby granted, free of charge, to any person obtaining a copy of this software and associated documentation files (the \"Software\"), to deal in the Software without restriction, including without limitation the rights to use, copy, modify, merge, publish, distribute, sublicense, and/or sell copies of the Software, and to permit persons to whom the Software is furnished to do so, subject to the following conditions:\n",
    "\n",
    "The above copyright notice and this permission notice shall be included in all copies or substantial portions of the Software.\n",
    "\n",
    "THE SOFTWARE IS PROVIDED \"AS IS\", WITHOUT WARRANTY OF ANY KIND, EXPRESS OR IMPLIED, INCLUDING BUT NOT LIMITED TO THE WARRANTIES OF MERCHANTABILITY, FITNESS FOR A PARTICULAR PURPOSE AND NONINFRINGEMENT. IN NO EVENT SHALL THE AUTHORS OR COPYRIGHT HOLDERS BE LIABLE FOR ANY CLAIM, DAMAGES OR OTHER LIABILITY, WHETHER IN AN ACTION OF CONTRACT, TORT OR OTHERWISE, ARISING FROM, OUT OF OR IN CONNECTION WITH THE SOFTWARE OR THE USE OR OTHER DEALINGS IN THE SOFTWARE."
   ]
  },
  {
   "cell_type": "code",
   "execution_count": null,
   "id": "e68faa73-e643-4521-b28c-1484f84e4b7b",
   "metadata": {},
   "outputs": [],
   "source": [
    "%%capture pipoutput\n",
    "\n",
    "# For loading predefined environment variables from files\n",
    "# Typically used to load sensitive access credentials\n",
    "%pip install python-dotenv\n",
    "\n",
    "# Interacting with Trino and using Trino with sqlalchemy\n",
    "%pip install trino sqlalchemy sqlalchemy-trino\n",
    "\n",
    "# Pandas, pandas profiling and pyarrow\n",
    "%pip install pandas\n",
    "%pip install -U pandas-profiling[notebook]\n",
    "%pip install pyarrow\n",
    "\n",
    "# OS-Climate utilities to make data ingest easier\n",
    "%pip install osc-ingest-tools"
   ]
  },
  {
   "cell_type": "code",
   "execution_count": 1,
   "id": "0fc1ae46-121c-4531-a191-531e9640d1d4",
   "metadata": {},
   "outputs": [
    {
     "name": "stdout",
     "output_type": "stream",
     "text": [
      "Exception reporting mode: Minimal\n"
     ]
    }
   ],
   "source": [
    "# Report exceptions only in cells output\n",
    "%xmode Minimal"
   ]
  },
  {
   "cell_type": "code",
   "execution_count": 2,
   "id": "e7d0a162-6e6a-4efa-baed-4b2728b88bdb",
   "metadata": {},
   "outputs": [],
   "source": [
    "from dotenv import dotenv_values, load_dotenv\n",
    "import os\n",
    "import pandas as pd\n",
    "import trino\n",
    "from sqlalchemy.engine import create_engine\n",
    "import osc_ingest_trino as osc"
   ]
  },
  {
   "cell_type": "markdown",
   "id": "5c5d5dc2-0187-4168-a28f-8a7684d815f1",
   "metadata": {},
   "source": [
    "Define Environment and Execution Variables"
   ]
  },
  {
   "cell_type": "code",
   "execution_count": 3,
   "id": "96c84a7b-b63d-4c9a-90e3-b4afcbac1891",
   "metadata": {},
   "outputs": [],
   "source": [
    "# Load environment variables from credentials.env\n",
    "osc.load_credentials_dotenv()"
   ]
  },
  {
   "cell_type": "markdown",
   "id": "97b31dcf-2dd9-412a-86ab-6412fa9e2dc9",
   "metadata": {},
   "source": [
    "Connect to Trino and load the data"
   ]
  },
  {
   "cell_type": "code",
   "execution_count": 4,
   "id": "3b159698-9464-4266-aaab-a6f43a63d3e0",
   "metadata": {},
   "outputs": [],
   "source": [
    "# Define execution variables for loading to Iceberg / Trino\n",
    "ingest_catalog = 'osc_datacommons_dev'\n",
    "ingest_schema = 'sandbox'\n",
    "ingest_table = 'gppd'"
   ]
  },
  {
   "cell_type": "code",
   "execution_count": 5,
   "id": "bdd40dcd-f938-4f74-ae6f-da5c36ca3ef7",
   "metadata": {},
   "outputs": [
    {
     "name": "stdout",
     "output_type": "stream",
     "text": [
      "using connect string: trino://caldeirav@trino-secure-odh-trino.apps.odh-cl2.apps.os-climate.org:443/osc_datacommons_dev\n"
     ]
    }
   ],
   "source": [
    "engine = osc.attach_trino_engine(verbose=True, catalog=ingest_catalog)"
   ]
  },
  {
   "cell_type": "code",
   "execution_count": 6,
   "id": "7017a9bc-cfe2-45dd-99c4-c3902145fe49",
   "metadata": {},
   "outputs": [],
   "source": [
    "sql=f\"\"\"\n",
    "select * from {ingest_catalog}.{ingest_schema}.{ingest_table}\n",
    "\"\"\""
   ]
  },
  {
   "cell_type": "code",
   "execution_count": 7,
   "id": "8fe57c12-a432-470f-84bd-f4e399bf6c86",
   "metadata": {},
   "outputs": [],
   "source": [
    "df = pd.read_sql(sql, engine).convert_dtypes()"
   ]
  },
  {
   "cell_type": "code",
   "execution_count": 8,
   "id": "fde23241-d435-4ff6-aee9-cce6b613a3cf",
   "metadata": {},
   "outputs": [
    {
     "name": "stdout",
     "output_type": "stream",
     "text": [
      "<class 'pandas.core.frame.DataFrame'>\n",
      "RangeIndex: 108 entries, 0 to 107\n",
      "Data columns (total 22 columns):\n",
      " #   Column                  Non-Null Count  Dtype  \n",
      "---  ------                  --------------  -----  \n",
      " 0   country                 108 non-null    string \n",
      " 1   country_long            108 non-null    string \n",
      " 2   name                    108 non-null    string \n",
      " 3   gppd_idnr               108 non-null    string \n",
      " 4   capacity_mw             108 non-null    Float64\n",
      " 5   latitude                108 non-null    Float64\n",
      " 6   longitude               108 non-null    Float64\n",
      " 7   primary_fuel            108 non-null    string \n",
      " 8   other_fuel1             0 non-null      object \n",
      " 9   other_fuel2             0 non-null      object \n",
      " 10  other_fuel3             0 non-null      object \n",
      " 11  commissioning_year      0 non-null      object \n",
      " 12  owner                   0 non-null      object \n",
      " 13  source                  108 non-null    string \n",
      " 14  url                     108 non-null    string \n",
      " 15  geolocation_source      108 non-null    string \n",
      " 16  wepp_id                 60 non-null     string \n",
      " 17  year_of_capacity_data   84 non-null     Int64  \n",
      " 18  generation_data_source  0 non-null      object \n",
      " 19  value                   108 non-null    Float64\n",
      " 20  observation_method      108 non-null    string \n",
      " 21  observation_year        108 non-null    Int64  \n",
      "dtypes: Float64(4), Int64(2), object(6), string(10)\n",
      "memory usage: 19.3+ KB\n",
      "None\n"
     ]
    }
   ],
   "source": [
    "print(df.info(verbose=True))"
   ]
  },
  {
   "cell_type": "code",
   "execution_count": 9,
   "id": "397b5a60-0d32-4254-b138-29e72eb54c15",
   "metadata": {},
   "outputs": [
    {
     "data": {
      "text/html": [
       "<div>\n",
       "<style scoped>\n",
       "    .dataframe tbody tr th:only-of-type {\n",
       "        vertical-align: middle;\n",
       "    }\n",
       "\n",
       "    .dataframe tbody tr th {\n",
       "        vertical-align: top;\n",
       "    }\n",
       "\n",
       "    .dataframe thead th {\n",
       "        text-align: right;\n",
       "    }\n",
       "</style>\n",
       "<table border=\"1\" class=\"dataframe\">\n",
       "  <thead>\n",
       "    <tr style=\"text-align: right;\">\n",
       "      <th></th>\n",
       "      <th>country</th>\n",
       "      <th>country_long</th>\n",
       "      <th>name</th>\n",
       "      <th>gppd_idnr</th>\n",
       "      <th>capacity_mw</th>\n",
       "      <th>latitude</th>\n",
       "      <th>longitude</th>\n",
       "      <th>primary_fuel</th>\n",
       "      <th>other_fuel1</th>\n",
       "      <th>other_fuel2</th>\n",
       "      <th>...</th>\n",
       "      <th>owner</th>\n",
       "      <th>source</th>\n",
       "      <th>url</th>\n",
       "      <th>geolocation_source</th>\n",
       "      <th>wepp_id</th>\n",
       "      <th>year_of_capacity_data</th>\n",
       "      <th>generation_data_source</th>\n",
       "      <th>value</th>\n",
       "      <th>observation_method</th>\n",
       "      <th>observation_year</th>\n",
       "    </tr>\n",
       "  </thead>\n",
       "  <tbody>\n",
       "    <tr>\n",
       "      <th>0</th>\n",
       "      <td>AFG</td>\n",
       "      <td>Afghanistan</td>\n",
       "      <td>Kandahar DOG</td>\n",
       "      <td>WKS0070144</td>\n",
       "      <td>10.0</td>\n",
       "      <td>31.67</td>\n",
       "      <td>65.795</td>\n",
       "      <td>Solar</td>\n",
       "      <td>None</td>\n",
       "      <td>None</td>\n",
       "      <td>...</td>\n",
       "      <td>None</td>\n",
       "      <td>Wiki-Solar</td>\n",
       "      <td>https://www.wiki-solar.org</td>\n",
       "      <td>Wiki-Solar</td>\n",
       "      <td>&lt;NA&gt;</td>\n",
       "      <td>&lt;NA&gt;</td>\n",
       "      <td>None</td>\n",
       "      <td>18.29</td>\n",
       "      <td>estimated_generation_gwh</td>\n",
       "      <td>2017</td>\n",
       "    </tr>\n",
       "    <tr>\n",
       "      <th>1</th>\n",
       "      <td>AFG</td>\n",
       "      <td>Afghanistan</td>\n",
       "      <td>Kandahar JOL</td>\n",
       "      <td>WKS0071196</td>\n",
       "      <td>10.0</td>\n",
       "      <td>31.623</td>\n",
       "      <td>65.792</td>\n",
       "      <td>Solar</td>\n",
       "      <td>None</td>\n",
       "      <td>None</td>\n",
       "      <td>...</td>\n",
       "      <td>None</td>\n",
       "      <td>Wiki-Solar</td>\n",
       "      <td>https://www.wiki-solar.org</td>\n",
       "      <td>Wiki-Solar</td>\n",
       "      <td>&lt;NA&gt;</td>\n",
       "      <td>&lt;NA&gt;</td>\n",
       "      <td>None</td>\n",
       "      <td>18.72</td>\n",
       "      <td>estimated_generation_gwh</td>\n",
       "      <td>2017</td>\n",
       "    </tr>\n",
       "    <tr>\n",
       "      <th>2</th>\n",
       "      <td>AFG</td>\n",
       "      <td>Afghanistan</td>\n",
       "      <td>Mahipar Hydroelectric Power Plant Afghanistan</td>\n",
       "      <td>GEODB0040541</td>\n",
       "      <td>66.0</td>\n",
       "      <td>34.556</td>\n",
       "      <td>69.4787</td>\n",
       "      <td>Hydro</td>\n",
       "      <td>None</td>\n",
       "      <td>None</td>\n",
       "      <td>...</td>\n",
       "      <td>None</td>\n",
       "      <td>GEODB</td>\n",
       "      <td>http://globalenergyobservatory.org</td>\n",
       "      <td>GEODB</td>\n",
       "      <td>1009795</td>\n",
       "      <td>2017</td>\n",
       "      <td>None</td>\n",
       "      <td>174.91</td>\n",
       "      <td>estimated_generation_gwh</td>\n",
       "      <td>2017</td>\n",
       "    </tr>\n",
       "    <tr>\n",
       "      <th>3</th>\n",
       "      <td>AFG</td>\n",
       "      <td>Afghanistan</td>\n",
       "      <td>Naghlu Dam Hydroelectric Power Plant Afghanistan</td>\n",
       "      <td>GEODB0040534</td>\n",
       "      <td>100.0</td>\n",
       "      <td>34.641</td>\n",
       "      <td>69.717</td>\n",
       "      <td>Hydro</td>\n",
       "      <td>None</td>\n",
       "      <td>None</td>\n",
       "      <td>...</td>\n",
       "      <td>None</td>\n",
       "      <td>GEODB</td>\n",
       "      <td>http://globalenergyobservatory.org</td>\n",
       "      <td>GEODB</td>\n",
       "      <td>1009797</td>\n",
       "      <td>2017</td>\n",
       "      <td>None</td>\n",
       "      <td>350.8</td>\n",
       "      <td>estimated_generation_gwh</td>\n",
       "      <td>2017</td>\n",
       "    </tr>\n",
       "    <tr>\n",
       "      <th>4</th>\n",
       "      <td>AFG</td>\n",
       "      <td>Afghanistan</td>\n",
       "      <td>Nangarhar (Darunta) Hydroelectric Power Plant ...</td>\n",
       "      <td>GEODB0040536</td>\n",
       "      <td>11.55</td>\n",
       "      <td>34.4847</td>\n",
       "      <td>70.3633</td>\n",
       "      <td>Hydro</td>\n",
       "      <td>None</td>\n",
       "      <td>None</td>\n",
       "      <td>...</td>\n",
       "      <td>None</td>\n",
       "      <td>GEODB</td>\n",
       "      <td>http://globalenergyobservatory.org</td>\n",
       "      <td>GEODB</td>\n",
       "      <td>1009787</td>\n",
       "      <td>2017</td>\n",
       "      <td>None</td>\n",
       "      <td>46.12</td>\n",
       "      <td>estimated_generation_gwh</td>\n",
       "      <td>2017</td>\n",
       "    </tr>\n",
       "  </tbody>\n",
       "</table>\n",
       "<p>5 rows × 22 columns</p>\n",
       "</div>"
      ],
      "text/plain": [
       "  country country_long                                               name  \\\n",
       "0     AFG  Afghanistan                                       Kandahar DOG   \n",
       "1     AFG  Afghanistan                                       Kandahar JOL   \n",
       "2     AFG  Afghanistan      Mahipar Hydroelectric Power Plant Afghanistan   \n",
       "3     AFG  Afghanistan   Naghlu Dam Hydroelectric Power Plant Afghanistan   \n",
       "4     AFG  Afghanistan  Nangarhar (Darunta) Hydroelectric Power Plant ...   \n",
       "\n",
       "      gppd_idnr  capacity_mw  latitude  longitude primary_fuel other_fuel1  \\\n",
       "0    WKS0070144         10.0     31.67     65.795        Solar        None   \n",
       "1    WKS0071196         10.0    31.623     65.792        Solar        None   \n",
       "2  GEODB0040541         66.0    34.556    69.4787        Hydro        None   \n",
       "3  GEODB0040534        100.0    34.641     69.717        Hydro        None   \n",
       "4  GEODB0040536        11.55   34.4847    70.3633        Hydro        None   \n",
       "\n",
       "  other_fuel2  ... owner      source                                 url  \\\n",
       "0        None  ...  None  Wiki-Solar          https://www.wiki-solar.org   \n",
       "1        None  ...  None  Wiki-Solar          https://www.wiki-solar.org   \n",
       "2        None  ...  None       GEODB  http://globalenergyobservatory.org   \n",
       "3        None  ...  None       GEODB  http://globalenergyobservatory.org   \n",
       "4        None  ...  None       GEODB  http://globalenergyobservatory.org   \n",
       "\n",
       "  geolocation_source  wepp_id year_of_capacity_data generation_data_source  \\\n",
       "0         Wiki-Solar     <NA>                  <NA>                   None   \n",
       "1         Wiki-Solar     <NA>                  <NA>                   None   \n",
       "2              GEODB  1009795                  2017                   None   \n",
       "3              GEODB  1009797                  2017                   None   \n",
       "4              GEODB  1009787                  2017                   None   \n",
       "\n",
       "    value        observation_method  observation_year  \n",
       "0   18.29  estimated_generation_gwh              2017  \n",
       "1   18.72  estimated_generation_gwh              2017  \n",
       "2  174.91  estimated_generation_gwh              2017  \n",
       "3   350.8  estimated_generation_gwh              2017  \n",
       "4   46.12  estimated_generation_gwh              2017  \n",
       "\n",
       "[5 rows x 22 columns]"
      ]
     },
     "execution_count": 9,
     "metadata": {},
     "output_type": "execute_result"
    }
   ],
   "source": [
    "df.head()"
   ]
  },
  {
   "cell_type": "markdown",
   "id": "c5362b88-aee2-49c6-975e-1031688d0205",
   "metadata": {},
   "source": [
    "Create another connection engine for os-climate-user3 who has restricted access"
   ]
  },
  {
   "cell_type": "code",
   "execution_count": 10,
   "id": "68a438bc-c6dd-4265-a329-195d26db6246",
   "metadata": {},
   "outputs": [
    {
     "name": "stdout",
     "output_type": "stream",
     "text": [
      "using connect string: trino://os-climate-user3@trino-secure-odh-trino.apps.odh-cl2.apps.os-climate.org:443/osc_datacommons_dev\n"
     ]
    }
   ],
   "source": [
    "engine_user3 = osc.attach_trino_engine(\"TRINO_USER3\", verbose=True, catalog=ingest_catalog)"
   ]
  },
  {
   "cell_type": "code",
   "execution_count": 11,
   "id": "d0424dd5-1a76-4076-b823-e37f92df2130",
   "metadata": {},
   "outputs": [
    {
     "ename": "TrinoUserError",
     "evalue": "TrinoUserError(type=USER_ERROR, name=PERMISSION_DENIED, message=\"Access Denied: Cannot select from table osc_datacommons_dev.sandbox.gppd\", query_id=20220421_100618_00020_67jqs)",
     "output_type": "error",
     "traceback": [
      "\u001b[0;31mTrinoUserError\u001b[0m\u001b[0;31m:\u001b[0m TrinoUserError(type=USER_ERROR, name=PERMISSION_DENIED, message=\"Access Denied: Cannot select from table osc_datacommons_dev.sandbox.gppd\", query_id=20220421_100618_00020_67jqs)\n"
     ]
    }
   ],
   "source": [
    "df_user3 = pd.read_sql(sql, engine_user3).convert_dtypes()"
   ]
  },
  {
   "cell_type": "code",
   "execution_count": null,
   "id": "174ca72c-eb72-494a-b252-be8e193421c6",
   "metadata": {},
   "outputs": [],
   "source": [
    "print(df_user3.info(verbose=True))"
   ]
  },
  {
   "cell_type": "code",
   "execution_count": null,
   "id": "204b1a6c-0cd0-4aff-ba43-a87c239398e5",
   "metadata": {},
   "outputs": [],
   "source": [
    "print(df_user3.info(verbose=True))"
   ]
  },
  {
   "cell_type": "code",
   "execution_count": null,
   "id": "3cbb9c94-860c-4d0e-8081-0794e89bc4e3",
   "metadata": {},
   "outputs": [],
   "source": [
    "df_user3.head()"
   ]
  }
 ],
 "metadata": {
  "kernelspec": {
   "display_name": "Python 3 (ipykernel)",
   "language": "python",
   "name": "python3"
  },
  "language_info": {
   "codemirror_mode": {
    "name": "ipython",
    "version": 3
   },
   "file_extension": ".py",
   "mimetype": "text/x-python",
   "name": "python",
   "nbconvert_exporter": "python",
   "pygments_lexer": "ipython3",
   "version": "3.8.8"
  }
 },
 "nbformat": 4,
 "nbformat_minor": 5
}
