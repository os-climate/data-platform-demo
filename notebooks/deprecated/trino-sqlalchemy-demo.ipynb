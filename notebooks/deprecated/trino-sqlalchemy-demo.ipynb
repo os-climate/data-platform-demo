{
 "cells": [
  {
   "cell_type": "markdown",
   "id": "02ccf027-a8bc-4fba-9010-de91695a0eef",
   "metadata": {},
   "source": [
    "## Loading package dependencies\n",
    "\n",
    "The `sqlalchemy-trino` package currently requires `sqlalchemy==1.3`.\n",
    "This requirement may be lifted in the future.\n",
    "\n",
    "`%pip install` commands need only be run once per JupyterHub session.\n",
    "If you restart your JupyterHub server, they should be re-installed.\n",
    "\n",
    "Notebook dependencies may be pre-installed on custom notebook images in future iterations."
   ]
  },
  {
   "cell_type": "code",
   "execution_count": 1,
   "id": "0cdae41a-133c-4628-aafb-b581f3ef99cb",
   "metadata": {},
   "outputs": [
    {
     "name": "stdout",
     "output_type": "stream",
     "text": [
      "Collecting trino\n",
      "  Downloading trino-0.306.0-py3-none-any.whl (22 kB)\n",
      "Collecting python-dotenv\n",
      "  Downloading python_dotenv-0.19.1-py2.py3-none-any.whl (17 kB)\n",
      "Requirement already satisfied: requests in /opt/app-root/lib/python3.8/site-packages (from trino) (2.25.1)\n",
      "Requirement already satisfied: urllib3<1.27,>=1.21.1 in /opt/app-root/lib/python3.8/site-packages (from requests->trino) (1.26.4)\n",
      "Requirement already satisfied: certifi>=2017.4.17 in /opt/app-root/lib/python3.8/site-packages (from requests->trino) (2020.12.5)\n",
      "Requirement already satisfied: idna<3,>=2.5 in /opt/app-root/lib/python3.8/site-packages (from requests->trino) (2.10)\n",
      "Requirement already satisfied: chardet<5,>=3.0.2 in /opt/app-root/lib/python3.8/site-packages (from requests->trino) (4.0.0)\n",
      "Installing collected packages: trino, python-dotenv\n",
      "Successfully installed python-dotenv-0.19.1 trino-0.306.0\n",
      "\u001b[33mWARNING: You are using pip version 21.1; however, version 21.3 is available.\n",
      "You should consider upgrading via the '/opt/app-root/bin/python3.8 -m pip install --upgrade pip' command.\u001b[0m\n",
      "Note: you may need to restart the kernel to use updated packages.\n",
      "Collecting sqlalchemy==1.3\n",
      "  Downloading SQLAlchemy-1.3.0.tar.gz (5.9 MB)\n",
      "\u001b[K     |████████████████████████████████| 5.9 MB 24.8 MB/s eta 0:00:01\n",
      "\u001b[?25hCollecting sqlalchemy-trino\n",
      "  Downloading sqlalchemy_trino-0.4.0-py3-none-any.whl (13 kB)\n",
      "Requirement already satisfied: trino~=0.306 in /opt/app-root/lib/python3.8/site-packages (from sqlalchemy-trino) (0.306.0)\n",
      "Requirement already satisfied: requests in /opt/app-root/lib/python3.8/site-packages (from trino~=0.306->sqlalchemy-trino) (2.25.1)\n",
      "Requirement already satisfied: chardet<5,>=3.0.2 in /opt/app-root/lib/python3.8/site-packages (from requests->trino~=0.306->sqlalchemy-trino) (4.0.0)\n",
      "Requirement already satisfied: certifi>=2017.4.17 in /opt/app-root/lib/python3.8/site-packages (from requests->trino~=0.306->sqlalchemy-trino) (2020.12.5)\n",
      "Requirement already satisfied: idna<3,>=2.5 in /opt/app-root/lib/python3.8/site-packages (from requests->trino~=0.306->sqlalchemy-trino) (2.10)\n",
      "Requirement already satisfied: urllib3<1.27,>=1.21.1 in /opt/app-root/lib/python3.8/site-packages (from requests->trino~=0.306->sqlalchemy-trino) (1.26.4)\n",
      "Building wheels for collected packages: sqlalchemy\n",
      "  Building wheel for sqlalchemy (setup.py) ... \u001b[?25ldone\n",
      "\u001b[?25h  Created wheel for sqlalchemy: filename=SQLAlchemy-1.3.0-cp38-cp38-linux_x86_64.whl size=1189613 sha256=4c861aa103f6d5fb3f9e53230727ac4a0afea46634028c03e07e4599a17df757\n",
      "  Stored in directory: /tmp/pip-ephem-wheel-cache-ld75r3de/wheels/e7/9b/ce/99e0d063a0e8ae45e080f65c4618cef3e5760708ace991a22a\n",
      "Successfully built sqlalchemy\n",
      "Installing collected packages: sqlalchemy, sqlalchemy-trino\n",
      "  Attempting uninstall: sqlalchemy\n",
      "    Found existing installation: SQLAlchemy 1.4.10\n",
      "    Uninstalling SQLAlchemy-1.4.10:\n",
      "      Successfully uninstalled SQLAlchemy-1.4.10\n",
      "Successfully installed sqlalchemy-1.3.0 sqlalchemy-trino-0.4.0\n",
      "\u001b[33mWARNING: You are using pip version 21.1; however, version 21.3 is available.\n",
      "You should consider upgrading via the '/opt/app-root/bin/python3.8 -m pip install --upgrade pip' command.\u001b[0m\n",
      "Note: you may need to restart the kernel to use updated packages.\n"
     ]
    }
   ],
   "source": [
    "%pip install trino python-dotenv\n",
    "%pip install --upgrade sqlalchemy==1.3 sqlalchemy-trino"
   ]
  },
  {
   "cell_type": "code",
   "execution_count": 2,
   "id": "024b3081-4484-4dc1-82be-e4faec0a2b42",
   "metadata": {},
   "outputs": [],
   "source": [
    "from dotenv import load_dotenv\n",
    "import os\n",
    "import pathlib\n",
    "\n",
    "dotenv_dir = os.environ.get('CREDENTIAL_DOTENV_DIR', os.environ.get('PWD', '/opt/app-root/src'))\n",
    "dotenv_path = pathlib.Path(dotenv_dir) / 'credentials.env'\n",
    "if os.path.exists(dotenv_path):\n",
    "    load_dotenv(dotenv_path=dotenv_path,override=True)"
   ]
  },
  {
   "cell_type": "markdown",
   "id": "313365aa-acc5-4889-aa18-ccc399f1ebf3",
   "metadata": {},
   "source": [
    "SQL Alchemy DB Connection through Trino"
   ]
  },
  {
   "cell_type": "code",
   "execution_count": 3,
   "id": "928d68d7-b4e8-48ba-8605-a6afac2ea385",
   "metadata": {
    "tags": []
   },
   "outputs": [
    {
     "name": "stdout",
     "output_type": "stream",
     "text": [
      "connecting with engine Engine(trino://erikerlandson@trino-secure-odh-trino.apps.odh-cl1.apps.os-climate.org:443/)\n"
     ]
    }
   ],
   "source": [
    "import trino\n",
    "from sqlalchemy.engine import create_engine\n",
    "\n",
    "sqlstring = 'trino://{user}@{host}:{port}/'.format(\n",
    "    user = os.environ['TRINO_USER'],\n",
    "    host = os.environ['TRINO_HOST'],\n",
    "    port = os.environ['TRINO_PORT']\n",
    ")\n",
    "sqlargs = {\n",
    "    'auth': trino.auth.JWTAuthentication(os.environ['TRINO_PASSWD']),\n",
    "    'http_scheme': 'https'\n",
    "}\n",
    "engine = create_engine(sqlstring, connect_args = sqlargs)\n",
    "print(\"connecting with engine \" + str(engine))\n",
    "connection = engine.connect()"
   ]
  },
  {
   "cell_type": "markdown",
   "id": "604863b5-f77d-4982-9a37-ef9aea6ba03b",
   "metadata": {},
   "source": [
    "Show available trino catalogs"
   ]
  },
  {
   "cell_type": "code",
   "execution_count": 4,
   "id": "6635da87-8547-43fa-9e6c-c90cd26c8c4a",
   "metadata": {},
   "outputs": [
    {
     "name": "stdout",
     "output_type": "stream",
     "text": [
      "('jmx',)\n",
      "('osc_datacommons_dev',)\n",
      "('osc_datacommons_iceberg_dev',)\n",
      "('osc_datacommons_prod',)\n",
      "('system',)\n"
     ]
    }
   ],
   "source": [
    "schema_read = engine.execute(\"show catalogs\")\n",
    "for row in schema_read.fetchall():\n",
    "    print(row)"
   ]
  },
  {
   "cell_type": "code",
   "execution_count": null,
   "id": "d6e55454-4eef-44e6-b210-c0d74ac9b4dd",
   "metadata": {},
   "outputs": [],
   "source": []
  }
 ],
 "metadata": {
  "kernelspec": {
   "display_name": "Python 3",
   "language": "python",
   "name": "python3"
  },
  "language_info": {
   "codemirror_mode": {
    "name": "ipython",
    "version": 3
   },
   "file_extension": ".py",
   "mimetype": "text/x-python",
   "name": "python",
   "nbconvert_exporter": "python",
   "pygments_lexer": "ipython3",
   "version": "3.8.3"
  }
 },
 "nbformat": 4,
 "nbformat_minor": 5
}
