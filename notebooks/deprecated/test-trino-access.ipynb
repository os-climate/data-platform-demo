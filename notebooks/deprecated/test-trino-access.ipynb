{
 "cells": [
  {
   "cell_type": "markdown",
   "id": "19556c14-25e0-4f39-a48d-84ef24508b96",
   "metadata": {},
   "source": [
    "## Install python libraries\n",
    "\n",
    "The following cell can be used to ensure that the python libraries used\n",
    "in this test notebook are installed.\n",
    "These may be pre-installed in future notebook images.\n",
    "Once this cell has been run, it need not be re-run unless you have restarted your jupyter server."
   ]
  },
  {
   "cell_type": "code",
   "execution_count": 1,
   "id": "57f72ee9-c4c5-451c-a1fa-8b64c23e5e47",
   "metadata": {},
   "outputs": [
    {
     "name": "stdout",
     "output_type": "stream",
     "text": [
      "Requirement already satisfied: trino in /opt/app-root/lib/python3.8/site-packages (0.306.0)\n",
      "Requirement already satisfied: python-dotenv in /opt/app-root/lib/python3.8/site-packages (0.19.1)\n",
      "Requirement already satisfied: requests in /opt/app-root/lib/python3.8/site-packages (from trino) (2.25.1)\n",
      "Requirement already satisfied: chardet<5,>=3.0.2 in /opt/app-root/lib/python3.8/site-packages (from requests->trino) (4.0.0)\n",
      "Requirement already satisfied: urllib3<1.27,>=1.21.1 in /opt/app-root/lib/python3.8/site-packages (from requests->trino) (1.26.4)\n",
      "Requirement already satisfied: certifi>=2017.4.17 in /opt/app-root/lib/python3.8/site-packages (from requests->trino) (2020.12.5)\n",
      "Requirement already satisfied: idna<3,>=2.5 in /opt/app-root/lib/python3.8/site-packages (from requests->trino) (2.10)\n",
      "\u001b[33mWARNING: You are using pip version 21.1; however, version 21.3 is available.\n",
      "You should consider upgrading via the '/opt/app-root/bin/python3.8 -m pip install --upgrade pip' command.\u001b[0m\n",
      "Note: you may need to restart the kernel to use updated packages.\n"
     ]
    }
   ],
   "source": [
    "# Install the library dependencies used in this notebook\n",
    "# (comment this out if you prefer to not re-run this cell)\n",
    "%pip install trino python-dotenv"
   ]
  },
  {
   "cell_type": "markdown",
   "id": "51edbfd4-4106-48a6-9ee1-c161e138befb",
   "metadata": {},
   "source": [
    "## Loading credentials\n",
    "\n",
    "The following cell finds a `credentials.env` file at the jupyter \"home\" (top level) directory.\n",
    "\n",
    "Values in this `dotenv` file are loaded into the `os.environ` table,\n",
    "as if they were regular environment variables.\n",
    "\n",
    "Credentials are stored in `dotenv` files so that they can be referred to by standard\n",
    "environment variable names, and do not appear in notebooks or other code,\n",
    "which would be a security leak."
   ]
  },
  {
   "cell_type": "code",
   "execution_count": 2,
   "id": "f803795f-68c9-4923-9a18-ee78e31478a1",
   "metadata": {},
   "outputs": [],
   "source": [
    "from dotenv import dotenv_values, load_dotenv\n",
    "import os\n",
    "import pathlib\n",
    "\n",
    "dotenv_dir = os.environ.get('CREDENTIAL_DOTENV_DIR', os.environ.get('PWD', '/opt/app-root/src'))\n",
    "dotenv_path = pathlib.Path(dotenv_dir) / 'credentials.env'\n",
    "if os.path.exists(dotenv_path):\n",
    "    load_dotenv(dotenv_path=dotenv_path,override=True)"
   ]
  },
  {
   "cell_type": "markdown",
   "id": "6a358a85-e573-4699-a1ff-1ea0c030dedf",
   "metadata": {},
   "source": [
    "## Connect to trino\n",
    "\n",
    "The following cell creates a trino api connection.\n",
    "\n",
    "It assumes that your `credentials.env` file has been edited so that\n",
    "`TRINO_PASSWD` has a JWT token obtained from:\n",
    "https://das-odh-trino.apps.odh-cl1.apps.os-climate.org/\n",
    "\n",
    "Your `TRINO_USER` value should be your github username."
   ]
  },
  {
   "cell_type": "code",
   "execution_count": 3,
   "id": "33d42bf2-e410-4618-97b5-fdfd6ac2509f",
   "metadata": {},
   "outputs": [],
   "source": [
    "import trino\n",
    "conn = trino.dbapi.connect(\n",
    "    host=os.environ['TRINO_HOST'],\n",
    "    port=int(os.environ['TRINO_PORT']),\n",
    "    user=os.environ['TRINO_USER'],\n",
    "    http_scheme='https',\n",
    "    auth=trino.auth.JWTAuthentication(os.environ['TRINO_PASSWD']),\n",
    "    verify=True,\n",
    ")\n",
    "cur = conn.cursor()"
   ]
  },
  {
   "cell_type": "markdown",
   "id": "0e0922b9-f30d-4a57-995f-746143269413",
   "metadata": {},
   "source": [
    "## Test your trino connection\n",
    "\n",
    "This cell shows all the catalogs visible to you.\n",
    "If your trino api connection initialized correctly above,\n",
    "this `show catalogs` command should always succeed."
   ]
  },
  {
   "cell_type": "code",
   "execution_count": 4,
   "id": "9141551d-c53d-4635-8bda-7bb75852b30e",
   "metadata": {},
   "outputs": [
    {
     "data": {
      "text/plain": [
       "[['jmx'],\n",
       " ['osc_datacommons_dev'],\n",
       " ['osc_datacommons_iceberg_dev'],\n",
       " ['osc_datacommons_prod'],\n",
       " ['system']]"
      ]
     },
     "execution_count": 4,
     "metadata": {},
     "output_type": "execute_result"
    }
   ],
   "source": [
    "cur.execute('show catalogs')\n",
    "cur.fetchall()"
   ]
  },
  {
   "cell_type": "code",
   "execution_count": null,
   "id": "fb4118aa-e40d-4110-ad36-64e736f19723",
   "metadata": {},
   "outputs": [],
   "source": []
  }
 ],
 "metadata": {
  "kernelspec": {
   "display_name": "Python 3",
   "language": "python",
   "name": "python3"
  },
  "language_info": {
   "codemirror_mode": {
    "name": "ipython",
    "version": 3
   },
   "file_extension": ".py",
   "mimetype": "text/x-python",
   "name": "python",
   "nbconvert_exporter": "python",
   "pygments_lexer": "ipython3",
   "version": "3.8.3"
  }
 },
 "nbformat": 4,
 "nbformat_minor": 5
}
