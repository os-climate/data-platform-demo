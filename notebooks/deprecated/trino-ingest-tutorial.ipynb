{
 "cells": [
  {
   "cell_type": "markdown",
   "id": "11dad87a-f8a8-4305-a672-f68a39f26d59",
   "metadata": {},
   "source": [
    "## Ingest Tutorial\n",
    "\n",
    "Examples of standard techniques and idioms for data ingestion to the OS-Climate Data Commons"
   ]
  },
  {
   "cell_type": "markdown",
   "id": "a09158ad-c92a-4207-b0ec-b2b46927f1ce",
   "metadata": {},
   "source": [
    "## python dependencies\n",
    "The following are python packages commonly used for data ingest.\n",
    "If your jupyter environment does not already have these,\n",
    "you can copy and paste these into a live code cell to install them."
   ]
  },
  {
   "cell_type": "markdown",
   "id": "ac566b57-18f1-4f16-bfbd-221371b7967b",
   "metadata": {},
   "source": [
    "Run these in a notebook cell if you need to install onto your nb env\n",
    "```\n",
    "# 'capture' magic prevents long outputs from spamming your notebook\n",
    "%%capture pipoutput\n",
    "\n",
    "# For loading predefined environment variables from files\n",
    "# Typically used to load sensitive access credentials\n",
    "%pip install python-dotenv\n",
    "\n",
    "# Standard python package for interacting with S3 buckets\n",
    "%pip install boto3\n",
    "\n",
    "# Interacting with Trino and using Trino with sqlalchemy\n",
    "%pip install trino sqlalchemy sqlalchemy-trino\n",
    "\n",
    "# Pandas and parquet file i/o\n",
    "%pip install pandas pyarrow fastparquet\n",
    "\n",
    "# OS-Climate utilities to make data ingest easier\n",
    "%pip install osc-ingest-tools\n",
    "```"
   ]
  },
  {
   "cell_type": "markdown",
   "id": "cc144c8b-874f-490b-9c4e-a0b4d14e8e8d",
   "metadata": {},
   "source": [
    "## Environment variables and dot-env\n",
    "\n",
    "The following cell looks for a \"dot-env\" file in some standard locations,\n",
    "and loads its contents into `os.environ`."
   ]
  },
  {
   "cell_type": "code",
   "execution_count": 2,
   "id": "17552a2b-0763-480c-ae55-384472dd201b",
   "metadata": {},
   "outputs": [],
   "source": [
    "import os\n",
    "import pathlib\n",
    "from dotenv import load_dotenv\n",
    "\n",
    "# Load some standard environment variables from a dot-env file, if it exists.\n",
    "# If no such file can be found, does not fail, and so allows these environment vars to\n",
    "# be populated in some other way\n",
    "dotenv_dir = os.environ.get('CREDENTIAL_DOTENV_DIR', os.environ.get('PWD', '/opt/app-root/src'))\n",
    "dotenv_path = pathlib.Path(dotenv_dir) / 'credentials.env'\n",
    "if os.path.exists(dotenv_path):\n",
    "    load_dotenv(dotenv_path=dotenv_path,override=True)"
   ]
  },
  {
   "cell_type": "markdown",
   "id": "1cb67b83-bfd0-4725-9d67-8f0a97e413fd",
   "metadata": {},
   "source": [
    "## S3 and boto3"
   ]
  },
  {
   "cell_type": "code",
   "execution_count": 14,
   "id": "fe3773a1-7fff-4e88-b77f-c6dc8e37cf5a",
   "metadata": {},
   "outputs": [],
   "source": [
    "import boto3\n",
    "s3 = boto3.resource(\n",
    "    service_name=\"s3\",\n",
    "    endpoint_url=os.environ[\"S3_DEV_ENDPOINT\"],\n",
    "    aws_access_key_id=os.environ[\"S3_DEV_ACCESS_KEY\"],\n",
    "    aws_secret_access_key=os.environ[\"S3_DEV_SECRET_KEY\"],\n",
    ")\n",
    "bucket = s3.Bucket(os.environ[\"S3_DEV_BUCKET\"])"
   ]
  },
  {
   "cell_type": "markdown",
   "id": "960e7e77-1c13-4e33-bb7e-caa80995e7b8",
   "metadata": {},
   "source": [
    "## Connecting to Trino with sqlalchemy"
   ]
  },
  {
   "cell_type": "code",
   "execution_count": 5,
   "id": "bb91fe85-2d0d-46e4-b781-adeda4054703",
   "metadata": {},
   "outputs": [],
   "source": [
    "import trino\n",
    "from sqlalchemy.engine import create_engine\n",
    "\n",
    "sqlstring = 'trino://{user}@{host}:{port}/'.format(\n",
    "    user = os.environ['TRINO_USER'],\n",
    "    host = os.environ['TRINO_HOST'],\n",
    "    port = os.environ['TRINO_PORT']\n",
    ")\n",
    "sqlargs = {\n",
    "    'auth': trino.auth.JWTAuthentication(os.environ['TRINO_PASSWD']),\n",
    "    'http_scheme': 'https'\n",
    "}\n",
    "engine = create_engine(sqlstring, connect_args = sqlargs)\n",
    "connection = engine.connect()"
   ]
  },
  {
   "cell_type": "markdown",
   "id": "5d265991-d368-4cda-8d5a-7a4fcef59fb0",
   "metadata": {},
   "source": [
    "## tutorial example data"
   ]
  },
  {
   "cell_type": "code",
   "execution_count": 6,
   "id": "004c390e-59c8-483e-bb02-fd3efa3e1ca7",
   "metadata": {},
   "outputs": [
    {
     "data": {
      "text/html": [
       "<div>\n",
       "<style scoped>\n",
       "    .dataframe tbody tr th:only-of-type {\n",
       "        vertical-align: middle;\n",
       "    }\n",
       "\n",
       "    .dataframe tbody tr th {\n",
       "        vertical-align: top;\n",
       "    }\n",
       "\n",
       "    .dataframe thead th {\n",
       "        text-align: right;\n",
       "    }\n",
       "</style>\n",
       "<table border=\"1\" class=\"dataframe\">\n",
       "  <thead>\n",
       "    <tr style=\"text-align: right;\">\n",
       "      <th></th>\n",
       "      <th>First Name</th>\n",
       "      <th>Age In Years</th>\n",
       "    </tr>\n",
       "  </thead>\n",
       "  <tbody>\n",
       "    <tr>\n",
       "      <th>0</th>\n",
       "      <td>tom</td>\n",
       "      <td>10</td>\n",
       "    </tr>\n",
       "    <tr>\n",
       "      <th>1</th>\n",
       "      <td>nick</td>\n",
       "      <td>15</td>\n",
       "    </tr>\n",
       "    <tr>\n",
       "      <th>2</th>\n",
       "      <td>juli</td>\n",
       "      <td>14</td>\n",
       "    </tr>\n",
       "  </tbody>\n",
       "</table>\n",
       "</div>"
      ],
      "text/plain": [
       "  First Name  Age In Years\n",
       "0        tom            10\n",
       "1       nick            15\n",
       "2       juli            14"
      ]
     },
     "execution_count": 6,
     "metadata": {},
     "output_type": "execute_result"
    }
   ],
   "source": [
    "import pandas as pd\n",
    "data = [['tom', 10], ['nick', 15], ['juli', 14]]\n",
    "df = pd.DataFrame(data, columns = ['First Name', 'Age In Years'])\n",
    "df"
   ]
  },
  {
   "cell_type": "markdown",
   "id": "5bf076fd-5571-4a5d-9045-4da008785ea9",
   "metadata": {},
   "source": [
    "## staging example data to an S3 bucket"
   ]
  },
  {
   "cell_type": "code",
   "execution_count": 15,
   "id": "505c4921-2025-4c2c-8cdb-3c74a734e12a",
   "metadata": {},
   "outputs": [],
   "source": [
    "from io import BytesIO\n",
    "\n",
    "tutorial_data_prefix = 'tutorial/ingest'\n",
    "tutorial_data_filename = 'example01.parquet'\n",
    "\n",
    "buf = BytesIO()\n",
    "df.to_parquet(path=buf)\n",
    "buf.seek(0)\n",
    "\n",
    "bucket.upload_fileobj(Fileobj=buf,\n",
    "                      Key=f'{tutorial_data_prefix}/{tutorial_data_filename}')"
   ]
  },
  {
   "cell_type": "markdown",
   "id": "1399ec23-56f9-414c-b3e6-8107f41611ff",
   "metadata": {},
   "source": [
    "## loading a raw parquet file from S3 into pandas"
   ]
  },
  {
   "cell_type": "code",
   "execution_count": 20,
   "id": "fc4fe29e-8b4f-4ed9-9b38-f277d3a51e62",
   "metadata": {},
   "outputs": [
    {
     "data": {
      "text/html": [
       "<div>\n",
       "<style scoped>\n",
       "    .dataframe tbody tr th:only-of-type {\n",
       "        vertical-align: middle;\n",
       "    }\n",
       "\n",
       "    .dataframe tbody tr th {\n",
       "        vertical-align: top;\n",
       "    }\n",
       "\n",
       "    .dataframe thead th {\n",
       "        text-align: right;\n",
       "    }\n",
       "</style>\n",
       "<table border=\"1\" class=\"dataframe\">\n",
       "  <thead>\n",
       "    <tr style=\"text-align: right;\">\n",
       "      <th></th>\n",
       "      <th>First Name</th>\n",
       "      <th>Age In Years</th>\n",
       "    </tr>\n",
       "  </thead>\n",
       "  <tbody>\n",
       "    <tr>\n",
       "      <th>0</th>\n",
       "      <td>tom</td>\n",
       "      <td>10</td>\n",
       "    </tr>\n",
       "    <tr>\n",
       "      <th>1</th>\n",
       "      <td>nick</td>\n",
       "      <td>15</td>\n",
       "    </tr>\n",
       "    <tr>\n",
       "      <th>2</th>\n",
       "      <td>juli</td>\n",
       "      <td>14</td>\n",
       "    </tr>\n",
       "  </tbody>\n",
       "</table>\n",
       "</div>"
      ],
      "text/plain": [
       "  First Name  Age In Years\n",
       "0        tom            10\n",
       "1       nick            15\n",
       "2       juli            14"
      ]
     },
     "execution_count": 20,
     "metadata": {},
     "output_type": "execute_result"
    }
   ],
   "source": [
    "obj = bucket.Object(f'{tutorial_data_prefix}/{tutorial_data_filename}')\n",
    "buf = BytesIO()\n",
    "obj.download_fileobj(buf)\n",
    "df = pd.read_parquet(buf)\n",
    "df"
   ]
  },
  {
   "cell_type": "markdown",
   "id": "8c2efe6f-024b-4510-a97c-c604a4d3b8e2",
   "metadata": {},
   "source": [
    "## Pandas DataFrame Column types\n",
    "Here we see that pandas has left the `First Name` column as generic `object` instead of `string`"
   ]
  },
  {
   "cell_type": "code",
   "execution_count": 21,
   "id": "1eaf322b-c4d3-4128-ad73-319cfd6433f1",
   "metadata": {},
   "outputs": [
    {
     "name": "stdout",
     "output_type": "stream",
     "text": [
      "<class 'pandas.core.frame.DataFrame'>\n",
      "RangeIndex: 3 entries, 0 to 2\n",
      "Data columns (total 2 columns):\n",
      " #   Column        Non-Null Count  Dtype \n",
      "---  ------        --------------  ----- \n",
      " 0   First Name    3 non-null      object\n",
      " 1   Age In Years  3 non-null      int64 \n",
      "dtypes: int64(1), object(1)\n",
      "memory usage: 176.0+ bytes\n"
     ]
    }
   ],
   "source": [
    "df.info(verbose=True)"
   ]
  },
  {
   "cell_type": "markdown",
   "id": "57bdf173-7afe-46f2-bee5-b3bfdc104c98",
   "metadata": {},
   "source": [
    "## Using `df.convert_dtypes()`\n",
    "\n",
    "You can tell pandas to make more specific column type assignments using the `convert_dtypes()` method."
   ]
  },
  {
   "cell_type": "code",
   "execution_count": 22,
   "id": "8b793cdb-f035-474b-abf1-55774a10b046",
   "metadata": {},
   "outputs": [
    {
     "name": "stdout",
     "output_type": "stream",
     "text": [
      "<class 'pandas.core.frame.DataFrame'>\n",
      "RangeIndex: 3 entries, 0 to 2\n",
      "Data columns (total 2 columns):\n",
      " #   Column        Non-Null Count  Dtype \n",
      "---  ------        --------------  ----- \n",
      " 0   First Name    3 non-null      string\n",
      " 1   Age In Years  3 non-null      Int64 \n",
      "dtypes: Int64(1), string(1)\n",
      "memory usage: 179.0 bytes\n"
     ]
    }
   ],
   "source": [
    "df = df.convert_dtypes()\n",
    "df.info(verbose=True)"
   ]
  },
  {
   "cell_type": "markdown",
   "id": "874f5cce-e04f-4ef1-ae3e-ed40bdfcbe77",
   "metadata": {},
   "source": [
    "## `osc-ingest-tools`"
   ]
  },
  {
   "cell_type": "markdown",
   "id": "350198fa-f1f7-4049-be7e-1fd08c2fd980",
   "metadata": {},
   "source": [
    "## Enforcing valid SQL column names"
   ]
  },
  {
   "cell_type": "code",
   "execution_count": 23,
   "id": "6403e86a-931c-43f1-bf75-2ef618648e93",
   "metadata": {},
   "outputs": [
    {
     "data": {
      "text/html": [
       "<div>\n",
       "<style scoped>\n",
       "    .dataframe tbody tr th:only-of-type {\n",
       "        vertical-align: middle;\n",
       "    }\n",
       "\n",
       "    .dataframe tbody tr th {\n",
       "        vertical-align: top;\n",
       "    }\n",
       "\n",
       "    .dataframe thead th {\n",
       "        text-align: right;\n",
       "    }\n",
       "</style>\n",
       "<table border=\"1\" class=\"dataframe\">\n",
       "  <thead>\n",
       "    <tr style=\"text-align: right;\">\n",
       "      <th></th>\n",
       "      <th>first_name</th>\n",
       "      <th>age_in_years</th>\n",
       "    </tr>\n",
       "  </thead>\n",
       "  <tbody>\n",
       "    <tr>\n",
       "      <th>0</th>\n",
       "      <td>tom</td>\n",
       "      <td>10</td>\n",
       "    </tr>\n",
       "    <tr>\n",
       "      <th>1</th>\n",
       "      <td>nick</td>\n",
       "      <td>15</td>\n",
       "    </tr>\n",
       "    <tr>\n",
       "      <th>2</th>\n",
       "      <td>juli</td>\n",
       "      <td>14</td>\n",
       "    </tr>\n",
       "  </tbody>\n",
       "</table>\n",
       "</div>"
      ],
      "text/plain": [
       "  first_name  age_in_years\n",
       "0        tom            10\n",
       "1       nick            15\n",
       "2       juli            14"
      ]
     },
     "execution_count": 23,
     "metadata": {},
     "output_type": "execute_result"
    }
   ],
   "source": [
    "import osc_ingest_trino as osc\n",
    "osc.enforce_sql_column_names(df, inplace=True)\n",
    "df"
   ]
  },
  {
   "cell_type": "markdown",
   "id": "3a16330f-3f9d-4bc8-908f-4083fd5656bf",
   "metadata": {},
   "source": [
    "## Trino catalog, schema, table"
   ]
  },
  {
   "cell_type": "code",
   "execution_count": 24,
   "id": "a0ff76ad-55d4-490d-93ed-1f1b64713b0a",
   "metadata": {},
   "outputs": [],
   "source": [
    "ingest_catalog = 'osc_datacommons_dev'\n",
    "ingest_schema = 'demo'\n",
    "ingest_table = 'ingest_tutorial_01'"
   ]
  },
  {
   "cell_type": "markdown",
   "id": "f3c5257d-ea25-47c0-a076-651e3d722f4c",
   "metadata": {},
   "source": [
    "## Staging parquet files for trino tables"
   ]
  },
  {
   "cell_type": "code",
   "execution_count": 25,
   "id": "adc211fd-3dcb-407f-b173-3187983d495a",
   "metadata": {},
   "outputs": [],
   "source": [
    "buf = BytesIO()\n",
    "df.to_parquet(path=buf)\n",
    "buf.seek(0)\n",
    "\n",
    "bucket.upload_fileobj(Fileobj=buf,\n",
    "                      Key=f'trino/{ingest_schema}/{ingest_table}/data.parquet')"
   ]
  },
  {
   "cell_type": "markdown",
   "id": "dba4077a-6767-4727-868c-854e853adb3b",
   "metadata": {},
   "source": [
    "## Declaring a trino table on top of a raw parquet file"
   ]
  },
  {
   "cell_type": "code",
   "execution_count": 30,
   "id": "0677a7ea-ef11-4962-89a6-9fe0a672d50f",
   "metadata": {},
   "outputs": [
    {
     "name": "stdout",
     "output_type": "stream",
     "text": [
      "\n",
      "create table if not exists osc_datacommons_dev.demo.ingest_tutorial_01(\n",
      "    first_name varchar,\n",
      "    age_in_years bigint\n",
      ") with (\n",
      "    format = 'parquet',\n",
      "    external_location = 's3a://ocp-odh-os-demo-s3/trino/demo/ingest_tutorial_01/'\n",
      ")\n",
      "\n",
      "[(True,)]\n"
     ]
    }
   ],
   "source": [
    "columnschema = osc.create_table_schema_pairs(df)\n",
    "\n",
    "tabledef = f\"\"\"\n",
    "create table if not exists {ingest_catalog}.{ingest_schema}.{ingest_table}(\n",
    "{columnschema}\n",
    ") with (\n",
    "    format = 'parquet',\n",
    "    external_location = 's3a://{bucket.name}/trino/{ingest_schema}/{ingest_table}/'\n",
    ")\n",
    "\"\"\"\n",
    "print(tabledef)\n",
    "qres = engine.execute(tabledef)\n",
    "print(qres.fetchall())"
   ]
  },
  {
   "cell_type": "markdown",
   "id": "a4706e01-5de8-4830-bafa-2ba4b4499199",
   "metadata": {},
   "source": [
    "## SQL queries on our new table"
   ]
  },
  {
   "cell_type": "code",
   "execution_count": 31,
   "id": "acadd96c-c48a-44d3-8b5c-ecb507a19557",
   "metadata": {},
   "outputs": [
    {
     "data": {
      "text/html": [
       "<div>\n",
       "<style scoped>\n",
       "    .dataframe tbody tr th:only-of-type {\n",
       "        vertical-align: middle;\n",
       "    }\n",
       "\n",
       "    .dataframe tbody tr th {\n",
       "        vertical-align: top;\n",
       "    }\n",
       "\n",
       "    .dataframe thead th {\n",
       "        text-align: right;\n",
       "    }\n",
       "</style>\n",
       "<table border=\"1\" class=\"dataframe\">\n",
       "  <thead>\n",
       "    <tr style=\"text-align: right;\">\n",
       "      <th></th>\n",
       "      <th>first_name</th>\n",
       "      <th>age_in_years</th>\n",
       "    </tr>\n",
       "  </thead>\n",
       "  <tbody>\n",
       "    <tr>\n",
       "      <th>0</th>\n",
       "      <td>tom</td>\n",
       "      <td>10</td>\n",
       "    </tr>\n",
       "    <tr>\n",
       "      <th>1</th>\n",
       "      <td>nick</td>\n",
       "      <td>15</td>\n",
       "    </tr>\n",
       "    <tr>\n",
       "      <th>2</th>\n",
       "      <td>juli</td>\n",
       "      <td>14</td>\n",
       "    </tr>\n",
       "  </tbody>\n",
       "</table>\n",
       "</div>"
      ],
      "text/plain": [
       "  first_name  age_in_years\n",
       "0        tom            10\n",
       "1       nick            15\n",
       "2       juli            14"
      ]
     },
     "execution_count": 31,
     "metadata": {},
     "output_type": "execute_result"
    }
   ],
   "source": [
    "sql = f\"\"\"\n",
    "select * from {ingest_catalog}.{ingest_schema}.{ingest_table}\n",
    "\"\"\"\n",
    "pd.read_sql(sql, engine).convert_dtypes()"
   ]
  },
  {
   "cell_type": "markdown",
   "id": "387acd12-acd2-4acb-8d7e-87ace8ee887d",
   "metadata": {},
   "source": [
    "## Dropping a table"
   ]
  },
  {
   "cell_type": "code",
   "execution_count": 33,
   "id": "6577ae04-b470-47f6-a33a-2b6cb4d31fdc",
   "metadata": {},
   "outputs": [
    {
     "name": "stdout",
     "output_type": "stream",
     "text": [
      "[(True,)]\n"
     ]
    }
   ],
   "source": [
    "sql = f\"\"\"\n",
    "drop table if exists {ingest_catalog}.{ingest_schema}.{ingest_table}\n",
    "\"\"\"\n",
    "qres = engine.execute(sql)\n",
    "print(qres.fetchall())"
   ]
  },
  {
   "cell_type": "markdown",
   "id": "75c22ad4-9f6a-4ec8-b545-3d447ab21603",
   "metadata": {},
   "source": [
    "## Removing unmanaged parquet files"
   ]
  },
  {
   "cell_type": "code",
   "execution_count": 34,
   "id": "5995f2c4-0615-447b-9a97-839db32f76fb",
   "metadata": {},
   "outputs": [
    {
     "data": {
      "text/plain": [
       "[{'ResponseMetadata': {'RequestId': 'VFN51ZQG18RK2091',\n",
       "   'HostId': 'RzWFMCazA0Ujr5uByh68ub0C34mG4BEvflCJyCuQVENtjQ5FiSYKrrgoqCHOV3lJ0rRoCvcRc6I=',\n",
       "   'HTTPStatusCode': 200,\n",
       "   'HTTPHeaders': {'x-amz-id-2': 'RzWFMCazA0Ujr5uByh68ub0C34mG4BEvflCJyCuQVENtjQ5FiSYKrrgoqCHOV3lJ0rRoCvcRc6I=',\n",
       "    'x-amz-request-id': 'VFN51ZQG18RK2091',\n",
       "    'date': 'Mon, 22 Nov 2021 21:13:17 GMT',\n",
       "    'content-type': 'application/xml',\n",
       "    'transfer-encoding': 'chunked',\n",
       "    'server': 'AmazonS3',\n",
       "    'connection': 'close'},\n",
       "   'RetryAttempts': 0},\n",
       "  'Deleted': [{'Key': 'trino/demo/ingest_tutorial_01/data.parquet'}]}]"
      ]
     },
     "execution_count": 34,
     "metadata": {},
     "output_type": "execute_result"
    }
   ],
   "source": [
    "bucket.objects \\\n",
    "    .filter(Prefix=f'trino/{ingest_schema}/{ingest_table}/') \\\n",
    "    .delete()"
   ]
  },
  {
   "cell_type": "code",
   "execution_count": null,
   "id": "d0f90d25-b80d-4704-a652-4077d29f7de0",
   "metadata": {},
   "outputs": [],
   "source": []
  }
 ],
 "metadata": {
  "kernelspec": {
   "display_name": "Python 3",
   "language": "python",
   "name": "python3"
  },
  "language_info": {
   "codemirror_mode": {
    "name": "ipython",
    "version": 3
   },
   "file_extension": ".py",
   "mimetype": "text/x-python",
   "name": "python",
   "nbconvert_exporter": "python",
   "pygments_lexer": "ipython3",
   "version": "3.8.3"
  }
 },
 "nbformat": 4,
 "nbformat_minor": 5
}
