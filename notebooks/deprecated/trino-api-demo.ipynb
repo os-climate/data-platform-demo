{
 "cells": [
  {
   "cell_type": "markdown",
   "id": "190336a2-5904-43ee-a98b-06e11a8900da",
   "metadata": {
    "tags": []
   },
   "source": [
    "## library dependencies\n",
    "\n",
    "The following examples assume that python libraries `trino` and `urllib3` are installed.\n",
    "If they are not already installed on your notebook image, you can pip install them like so:"
   ]
  },
  {
   "cell_type": "code",
   "execution_count": null,
   "id": "da64159e-1171-4e29-8237-45fe19407f26",
   "metadata": {
    "tags": []
   },
   "outputs": [],
   "source": [
    "#pip install trino urllib3"
   ]
  },
  {
   "cell_type": "code",
   "execution_count": 1,
   "id": "54e922d8-1718-4ccd-81c7-1f2fca7543ba",
   "metadata": {
    "tags": []
   },
   "outputs": [],
   "source": [
    "import trino\n",
    "import urllib3\n",
    "import os\n",
    "\n",
    "urllib3.disable_warnings()"
   ]
  },
  {
   "cell_type": "markdown",
   "id": "cd93aea6-24d5-4511-8c2d-7312ed668589",
   "metadata": {},
   "source": [
    "## Trino DB connection\n",
    "\n",
    "The following cell establishes a trino connection variable `conn` and a cursor variable `cur`.\n",
    "The cursor `cur` is used to execute SQL queries."
   ]
  },
  {
   "cell_type": "code",
   "execution_count": 17,
   "id": "852c0bab-6993-4c99-90f2-0ba495bdc3fb",
   "metadata": {},
   "outputs": [],
   "source": [
    "# In a live environment, it is best practice to fill these from environment variables\n",
    "# that have been injected with proper values\n",
    "username = 'hukhan'\n",
    "passwd = 'osctrino987'\n",
    "\n",
    "conn = trino.dbapi.connect(\n",
    "    auth=trino.auth.BasicAuthentication(username, passwd),\n",
    "# These may be used to set connection session defaults but are not necessary\n",
    "#    catalog='hive',\n",
    "#    schema='team1',\n",
    "    host='trino-secure-odh-trino.apps.odh-cl1.apps.os-climate.org',\n",
    "    port=443,\n",
    "    http_scheme='https',\n",
    "    verify=False,\n",
    ")\n",
    "cur = conn.cursor()"
   ]
  },
  {
   "cell_type": "markdown",
   "id": "0e97cff1-86f3-40f0-aa16-a79aeb2822e3",
   "metadata": {},
   "source": [
    "## schemas\n",
    "\n",
    "You can list available schemas for the user you are connected as.\n",
    "This user has access to a schema `team1`\n",
    "\n",
    "Note: Trino has a quirk such that it will show any (visible) schemas under all available `catalog` entries.\n",
    "In other words, it will return the same list of visible schema regardless of which catalog is specified (below catalog `hive`)"
   ]
  },
  {
   "cell_type": "code",
   "execution_count": 18,
   "id": "79a7b394-aafe-4668-83b9-4dd68bcf4da2",
   "metadata": {},
   "outputs": [
    {
     "data": {
      "text/plain": [
       "[['team1']]"
      ]
     },
     "execution_count": 18,
     "metadata": {},
     "output_type": "execute_result"
    }
   ],
   "source": [
    "cur.execute('show schemas in hive')\n",
    "rows = cur.fetchall()\n",
    "rows"
   ]
  },
  {
   "cell_type": "markdown",
   "id": "8fdcd600-db98-4b16-866d-4cc221a4c87b",
   "metadata": {},
   "source": [
    "## Listing tables\n",
    "\n",
    "You can list the tables visible to you in a schema:"
   ]
  },
  {
   "cell_type": "code",
   "execution_count": 21,
   "id": "4057fd4e-4173-4635-9aca-f52e723078ec",
   "metadata": {},
   "outputs": [
    {
     "data": {
      "text/plain": [
       "[['cat']]"
      ]
     },
     "execution_count": 21,
     "metadata": {},
     "output_type": "execute_result"
    }
   ],
   "source": [
    "cur.execute('show tables in hive.team1')\n",
    "rows = cur.fetchall()\n",
    "rows"
   ]
  },
  {
   "cell_type": "markdown",
   "id": "884ef05e-232f-41f3-97c3-835cf51d85ea",
   "metadata": {},
   "source": [
    "## SQL queries on tables\n",
    "\n",
    "You can execute SQL queries on tables visible to you"
   ]
  },
  {
   "cell_type": "code",
   "execution_count": 22,
   "id": "840093bf-1d76-4d9f-81e0-ed28daab4048",
   "metadata": {},
   "outputs": [
    {
     "data": {
      "text/plain": [
       "[['word', 'length'],\n",
       " ['the', '3'],\n",
       " ['cat', '3'],\n",
       " ['in', '2'],\n",
       " ['the', '3'],\n",
       " ['hat', '3']]"
      ]
     },
     "execution_count": 22,
     "metadata": {},
     "output_type": "execute_result"
    }
   ],
   "source": [
    "cur.execute('select * from hive.team1.cat')\n",
    "rows = cur.fetchall()\n",
    "rows"
   ]
  },
  {
   "cell_type": "code",
   "execution_count": null,
   "id": "0de14381-ab04-4a8b-9d98-b5f3c17a2be0",
   "metadata": {},
   "outputs": [],
   "source": []
  }
 ],
 "metadata": {
  "kernelspec": {
   "display_name": "Python 3",
   "language": "python",
   "name": "python3"
  },
  "language_info": {
   "codemirror_mode": {
    "name": "ipython",
    "version": 3
   },
   "file_extension": ".py",
   "mimetype": "text/x-python",
   "name": "python",
   "nbconvert_exporter": "python",
   "pygments_lexer": "ipython3",
   "version": "3.8.3"
  }
 },
 "nbformat": 4,
 "nbformat_minor": 5
}
