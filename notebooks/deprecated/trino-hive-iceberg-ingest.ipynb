{
 "cells": [
  {
   "cell_type": "markdown",
   "id": "055e228d-c294-4bff-ace1-8470358f0a57",
   "metadata": {},
   "source": [
    "Run these in a notebook cell if you need to install onto your nb env\n",
    "```\n",
    "# 'capture' magic prevents long outputs from spamming your notebook\n",
    "%%capture pipoutput\n",
    "\n",
    "# For loading predefined environment variables from files\n",
    "# Typically used to load sensitive access credentials\n",
    "%pip install python-dotenv\n",
    "\n",
    "# Standard python package for interacting with S3 buckets\n",
    "%pip install boto3\n",
    "\n",
    "# Interacting with Trino and using Trino with sqlalchemy\n",
    "%pip install trino sqlalchemy sqlalchemy-trino\n",
    "\n",
    "# Pandas and parquet file i/o\n",
    "%pip install pandas pyarrow fastparquet\n",
    "\n",
    "# OS-Climate utilities to make data ingest easier\n",
    "%pip install osc-ingest-tools\n",
    "```"
   ]
  },
  {
   "cell_type": "code",
   "execution_count": 1,
   "id": "b34594f6-c5c7-42e0-8904-2d5022c5e78f",
   "metadata": {},
   "outputs": [
    {
     "name": "stdout",
     "output_type": "stream",
     "text": [
      "Exception reporting mode: Minimal\n"
     ]
    }
   ],
   "source": [
    "%xmode Minimal"
   ]
  },
  {
   "cell_type": "code",
   "execution_count": 2,
   "id": "743ee77d-ef5f-4735-8d24-8d0195a0066c",
   "metadata": {},
   "outputs": [],
   "source": [
    "%%capture pipoutput\n",
    "%pip install python-dotenv boto3 trino sqlalchemy sqlalchemy-trino pandas pyarrow fastparquet "
   ]
  },
  {
   "cell_type": "code",
   "execution_count": 3,
   "id": "be49e398-3ce3-4cda-be1d-c6c0ea3689ab",
   "metadata": {},
   "outputs": [],
   "source": [
    "%%capture pipoutput\n",
    "%pip install --upgrade osc-ingest-tools==0.2.1"
   ]
  },
  {
   "cell_type": "code",
   "execution_count": 4,
   "id": "92b3a90b-b48f-4f0f-aa4a-f49c4e47e384",
   "metadata": {},
   "outputs": [
    {
     "name": "stdout",
     "output_type": "stream",
     "text": [
      "using connect string: trino://erikerlandson@trino-secure-odh-trino.apps.odh-cl1.apps.os-climate.org:443\n"
     ]
    }
   ],
   "source": [
    "# this notebook assumes osc-ingest-tools == 0.2.1\n",
    "import osc_ingest_trino as osc\n",
    "osc.load_credentials_dotenv()\n",
    "bucket = osc.attach_s3_bucket('S3_DEV')\n",
    "engine = osc.attach_trino_engine(verbose=True)"
   ]
  },
  {
   "cell_type": "markdown",
   "id": "44bea771-1ee5-41b2-8385-5cff0eb2ced1",
   "metadata": {},
   "source": [
    "Ingest table is on hive catalog"
   ]
  },
  {
   "cell_type": "code",
   "execution_count": 5,
   "id": "64f8501f-6145-4cc1-8573-892a63cccaac",
   "metadata": {},
   "outputs": [],
   "source": [
    "ingest_catalog = 'osc_datacommons_dev'\n",
    "ingest_schema = 'demo'\n",
    "ingest_table = 'parquet_partitions_tutorial'"
   ]
  },
  {
   "cell_type": "code",
   "execution_count": 6,
   "id": "643cf26e-8c52-422d-b6c5-a5f802ed86ac",
   "metadata": {},
   "outputs": [],
   "source": [
    "partition_columns = ['year']"
   ]
  },
  {
   "cell_type": "code",
   "execution_count": 7,
   "id": "af903cc5-8b28-43c8-b1f5-6e22ea79f670",
   "metadata": {},
   "outputs": [
    {
     "data": {
      "text/html": [
       "<div>\n",
       "<style scoped>\n",
       "    .dataframe tbody tr th:only-of-type {\n",
       "        vertical-align: middle;\n",
       "    }\n",
       "\n",
       "    .dataframe tbody tr th {\n",
       "        vertical-align: top;\n",
       "    }\n",
       "\n",
       "    .dataframe thead th {\n",
       "        text-align: right;\n",
       "    }\n",
       "</style>\n",
       "<table border=\"1\" class=\"dataframe\">\n",
       "  <thead>\n",
       "    <tr style=\"text-align: right;\">\n",
       "      <th></th>\n",
       "      <th>year</th>\n",
       "      <th>metric</th>\n",
       "    </tr>\n",
       "  </thead>\n",
       "  <tbody>\n",
       "    <tr>\n",
       "      <th>0</th>\n",
       "      <td>2021</td>\n",
       "      <td>0.139033</td>\n",
       "    </tr>\n",
       "    <tr>\n",
       "      <th>1</th>\n",
       "      <td>2021</td>\n",
       "      <td>0.04874</td>\n",
       "    </tr>\n",
       "    <tr>\n",
       "      <th>2</th>\n",
       "      <td>2021</td>\n",
       "      <td>0.220513</td>\n",
       "    </tr>\n",
       "    <tr>\n",
       "      <th>3</th>\n",
       "      <td>2022</td>\n",
       "      <td>0.567443</td>\n",
       "    </tr>\n",
       "    <tr>\n",
       "      <th>4</th>\n",
       "      <td>2021</td>\n",
       "      <td>0.630204</td>\n",
       "    </tr>\n",
       "    <tr>\n",
       "      <th>...</th>\n",
       "      <td>...</td>\n",
       "      <td>...</td>\n",
       "    </tr>\n",
       "    <tr>\n",
       "      <th>9999995</th>\n",
       "      <td>2022</td>\n",
       "      <td>0.061562</td>\n",
       "    </tr>\n",
       "    <tr>\n",
       "      <th>9999996</th>\n",
       "      <td>2020</td>\n",
       "      <td>0.470861</td>\n",
       "    </tr>\n",
       "    <tr>\n",
       "      <th>9999997</th>\n",
       "      <td>2022</td>\n",
       "      <td>0.718266</td>\n",
       "    </tr>\n",
       "    <tr>\n",
       "      <th>9999998</th>\n",
       "      <td>2020</td>\n",
       "      <td>0.758396</td>\n",
       "    </tr>\n",
       "    <tr>\n",
       "      <th>9999999</th>\n",
       "      <td>2020</td>\n",
       "      <td>0.513649</td>\n",
       "    </tr>\n",
       "  </tbody>\n",
       "</table>\n",
       "<p>10000000 rows × 2 columns</p>\n",
       "</div>"
      ],
      "text/plain": [
       "         year    metric\n",
       "0        2021  0.139033\n",
       "1        2021   0.04874\n",
       "2        2021  0.220513\n",
       "3        2022  0.567443\n",
       "4        2021  0.630204\n",
       "...       ...       ...\n",
       "9999995  2022  0.061562\n",
       "9999996  2020  0.470861\n",
       "9999997  2022  0.718266\n",
       "9999998  2020  0.758396\n",
       "9999999  2020  0.513649\n",
       "\n",
       "[10000000 rows x 2 columns]"
      ]
     },
     "execution_count": 7,
     "metadata": {},
     "output_type": "execute_result"
    }
   ],
   "source": [
    "import random\n",
    "import pandas as pd\n",
    "\n",
    "datasize = 10000000\n",
    "yeardata = [random.randrange(2020,2023) for x in range(datasize)]\n",
    "metricdata = [random.random() for x in range(datasize)]\n",
    "\n",
    "df1 = pd.DataFrame(data={\"year\": yeardata, \"metric\": metricdata})\n",
    "df1.convert_dtypes()"
   ]
  },
  {
   "cell_type": "code",
   "execution_count": 8,
   "id": "4b00f05a-5e85-4212-9c93-b368d9051661",
   "metadata": {},
   "outputs": [
    {
     "name": "stdout",
     "output_type": "stream",
     "text": [
      "<class 'pandas.core.frame.DataFrame'>\n",
      "RangeIndex: 10000000 entries, 0 to 9999999\n",
      "Data columns (total 2 columns):\n",
      " #   Column  Dtype  \n",
      "---  ------  -----  \n",
      " 0   year    int64  \n",
      " 1   metric  float64\n",
      "dtypes: float64(1), int64(1)\n",
      "memory usage: 152.6 MB\n"
     ]
    }
   ],
   "source": [
    "df1.info(verbose=True)"
   ]
  },
  {
   "cell_type": "code",
   "execution_count": 9,
   "id": "75f91a7d-271e-4a04-9b95-759d2f851741",
   "metadata": {},
   "outputs": [
    {
     "data": {
      "text/html": [
       "<div>\n",
       "<style scoped>\n",
       "    .dataframe tbody tr th:only-of-type {\n",
       "        vertical-align: middle;\n",
       "    }\n",
       "\n",
       "    .dataframe tbody tr th {\n",
       "        vertical-align: top;\n",
       "    }\n",
       "\n",
       "    .dataframe thead th {\n",
       "        text-align: right;\n",
       "    }\n",
       "</style>\n",
       "<table border=\"1\" class=\"dataframe\">\n",
       "  <thead>\n",
       "    <tr style=\"text-align: right;\">\n",
       "      <th></th>\n",
       "      <th>metric</th>\n",
       "      <th>year</th>\n",
       "    </tr>\n",
       "  </thead>\n",
       "  <tbody>\n",
       "    <tr>\n",
       "      <th>0</th>\n",
       "      <td>0.139033</td>\n",
       "      <td>2021</td>\n",
       "    </tr>\n",
       "    <tr>\n",
       "      <th>1</th>\n",
       "      <td>0.048740</td>\n",
       "      <td>2021</td>\n",
       "    </tr>\n",
       "    <tr>\n",
       "      <th>2</th>\n",
       "      <td>0.220513</td>\n",
       "      <td>2021</td>\n",
       "    </tr>\n",
       "    <tr>\n",
       "      <th>3</th>\n",
       "      <td>0.567443</td>\n",
       "      <td>2022</td>\n",
       "    </tr>\n",
       "    <tr>\n",
       "      <th>4</th>\n",
       "      <td>0.630204</td>\n",
       "      <td>2021</td>\n",
       "    </tr>\n",
       "    <tr>\n",
       "      <th>...</th>\n",
       "      <td>...</td>\n",
       "      <td>...</td>\n",
       "    </tr>\n",
       "    <tr>\n",
       "      <th>9999995</th>\n",
       "      <td>0.061562</td>\n",
       "      <td>2022</td>\n",
       "    </tr>\n",
       "    <tr>\n",
       "      <th>9999996</th>\n",
       "      <td>0.470861</td>\n",
       "      <td>2020</td>\n",
       "    </tr>\n",
       "    <tr>\n",
       "      <th>9999997</th>\n",
       "      <td>0.718266</td>\n",
       "      <td>2022</td>\n",
       "    </tr>\n",
       "    <tr>\n",
       "      <th>9999998</th>\n",
       "      <td>0.758396</td>\n",
       "      <td>2020</td>\n",
       "    </tr>\n",
       "    <tr>\n",
       "      <th>9999999</th>\n",
       "      <td>0.513649</td>\n",
       "      <td>2020</td>\n",
       "    </tr>\n",
       "  </tbody>\n",
       "</table>\n",
       "<p>10000000 rows × 2 columns</p>\n",
       "</div>"
      ],
      "text/plain": [
       "           metric  year\n",
       "0        0.139033  2021\n",
       "1        0.048740  2021\n",
       "2        0.220513  2021\n",
       "3        0.567443  2022\n",
       "4        0.630204  2021\n",
       "...           ...   ...\n",
       "9999995  0.061562  2022\n",
       "9999996  0.470861  2020\n",
       "9999997  0.718266  2022\n",
       "9999998  0.758396  2020\n",
       "9999999  0.513649  2020\n",
       "\n",
       "[10000000 rows x 2 columns]"
      ]
     },
     "execution_count": 9,
     "metadata": {},
     "output_type": "execute_result"
    }
   ],
   "source": [
    "osc.enforce_partition_column_order(df1, partition_columns, inplace=True)\n",
    "df1"
   ]
  },
  {
   "cell_type": "code",
   "execution_count": 10,
   "id": "b668e919-1fc6-441d-ae2f-be77b821b24c",
   "metadata": {},
   "outputs": [
    {
     "name": "stdout",
     "output_type": "stream",
     "text": [
      "[{'ResponseMetadata': {'RequestId': '1KCJ99CYJTKT8M29', 'HostId': 'TtEU8WkbS/wlp0O0Il6O6kxfcb8iWItkazI3jf+hfcpQxnWx7y9r4D13+XT6xR5tSNqBcsOBA6U=', 'HTTPStatusCode': 200, 'HTTPHeaders': {'x-amz-id-2': 'TtEU8WkbS/wlp0O0Il6O6kxfcb8iWItkazI3jf+hfcpQxnWx7y9r4D13+XT6xR5tSNqBcsOBA6U=', 'x-amz-request-id': '1KCJ99CYJTKT8M29', 'date': 'Fri, 03 Jun 2022 23:58:41 GMT', 'content-type': 'application/xml', 'transfer-encoding': 'chunked', 'server': 'AmazonS3', 'connection': 'close'}, 'RetryAttempts': 0}, 'Deleted': [{'Key': 'trino/demo/parquet_partitions_tutorial/year=2021/08238079797f4628b23938b73bb44593-0.parquet'}, {'Key': 'trino/demo/parquet_partitions_tutorial/year=2022/08238079797f4628b23938b73bb44593-0.parquet'}, {'Key': 'trino/demo/parquet_partitions_tutorial/year=2020/08238079797f4628b23938b73bb44593-0.parquet'}]}]\n"
     ]
    },
    {
     "data": {
      "text/plain": [
       "<sqlalchemy.engine.cursor.LegacyCursorResult at 0x7fa1f642e220>"
      ]
     },
     "execution_count": 10,
     "metadata": {},
     "output_type": "execute_result"
    }
   ],
   "source": [
    "osc.drop_unmanaged_table(ingest_catalog, ingest_schema, ingest_table, engine, bucket, verbose=True)"
   ]
  },
  {
   "cell_type": "code",
   "execution_count": 11,
   "id": "7cf12db5-8ba9-4c1d-844b-a9868f82e7d9",
   "metadata": {},
   "outputs": [
    {
     "name": "stdout",
     "output_type": "stream",
     "text": [
      "/tmp/parquet_partitions_tutorial/year=2022/2f914d2af2d444aa93a80e8969c11e09-0.parquet  -->  trino/demo/parquet_partitions_tutorial/year=2022/2f914d2af2d444aa93a80e8969c11e09-0.parquet\n",
      "/tmp/parquet_partitions_tutorial/year=2021/2f914d2af2d444aa93a80e8969c11e09-0.parquet  -->  trino/demo/parquet_partitions_tutorial/year=2021/2f914d2af2d444aa93a80e8969c11e09-0.parquet\n",
      "/tmp/parquet_partitions_tutorial/year=2020/2f914d2af2d444aa93a80e8969c11e09-0.parquet  -->  trino/demo/parquet_partitions_tutorial/year=2020/2f914d2af2d444aa93a80e8969c11e09-0.parquet\n"
     ]
    }
   ],
   "source": [
    "osc.ingest_unmanaged_parquet(df1, ingest_schema, ingest_table, bucket,\n",
    "                             partition_columns=partition_columns,\n",
    "                             verbose=True)"
   ]
  },
  {
   "cell_type": "code",
   "execution_count": 12,
   "id": "9efa26a6-8002-4ab2-b859-45ce1eac224c",
   "metadata": {},
   "outputs": [
    {
     "name": "stdout",
     "output_type": "stream",
     "text": [
      "trino/demo/parquet_partitions_tutorial/year=2020/2f914d2af2d444aa93a80e8969c11e09-0.parquet\n",
      "trino/demo/parquet_partitions_tutorial/year=2021/2f914d2af2d444aa93a80e8969c11e09-0.parquet\n",
      "trino/demo/parquet_partitions_tutorial/year=2022/2f914d2af2d444aa93a80e8969c11e09-0.parquet\n"
     ]
    }
   ],
   "source": [
    "for e in bucket.objects \\\n",
    "    .filter(Prefix=f'trino/{ingest_schema}/{ingest_table}/'):\n",
    "    print(e.key)"
   ]
  },
  {
   "cell_type": "code",
   "execution_count": 13,
   "id": "8fdaba9f-bcd3-4055-89c4-9e51ee985a8e",
   "metadata": {},
   "outputs": [
    {
     "name": "stdout",
     "output_type": "stream",
     "text": [
      "create table if not exists osc_datacommons_dev.demo.parquet_partitions_tutorial (\n",
      "    metric double,\n",
      "    year bigint\n",
      ") with (\n",
      "    format = 'parquet',\n",
      "    partitioned_by = array['year'],\n",
      "    external_location = 's3a://ocp-odh-os-demo-s3/trino/demo/parquet_partitions_tutorial/'\n",
      ")\n",
      "[(True,)]\n"
     ]
    }
   ],
   "source": [
    "sql = osc.unmanaged_parquet_tabledef(df1, ingest_catalog, ingest_schema, ingest_table, bucket,\n",
    "                                    partition_columns = partition_columns,\n",
    "                                    verbose = True)\n",
    "qres = engine.execute(sql)\n",
    "print(qres.fetchall())"
   ]
  },
  {
   "cell_type": "code",
   "execution_count": 14,
   "id": "c20b9f91-5879-49b4-9032-6e9afc404e25",
   "metadata": {},
   "outputs": [
    {
     "name": "stdout",
     "output_type": "stream",
     "text": [
      "[(True,)]\n"
     ]
    }
   ],
   "source": [
    "sql = f\"\"\"\n",
    "call {ingest_catalog}.system.sync_partition_metadata('{ingest_schema}', '{ingest_table}', 'FULL')\n",
    "\"\"\"\n",
    "qres = engine.execute(sql)\n",
    "print(qres.fetchall())"
   ]
  },
  {
   "cell_type": "code",
   "execution_count": 15,
   "id": "fcd63805-7930-435e-ae38-69de37a9def5",
   "metadata": {},
   "outputs": [
    {
     "data": {
      "text/html": [
       "<div>\n",
       "<style scoped>\n",
       "    .dataframe tbody tr th:only-of-type {\n",
       "        vertical-align: middle;\n",
       "    }\n",
       "\n",
       "    .dataframe tbody tr th {\n",
       "        vertical-align: top;\n",
       "    }\n",
       "\n",
       "    .dataframe thead th {\n",
       "        text-align: right;\n",
       "    }\n",
       "</style>\n",
       "<table border=\"1\" class=\"dataframe\">\n",
       "  <thead>\n",
       "    <tr style=\"text-align: right;\">\n",
       "      <th></th>\n",
       "      <th>year</th>\n",
       "    </tr>\n",
       "  </thead>\n",
       "  <tbody>\n",
       "    <tr>\n",
       "      <th>0</th>\n",
       "      <td>2020</td>\n",
       "    </tr>\n",
       "    <tr>\n",
       "      <th>1</th>\n",
       "      <td>2021</td>\n",
       "    </tr>\n",
       "    <tr>\n",
       "      <th>2</th>\n",
       "      <td>2022</td>\n",
       "    </tr>\n",
       "  </tbody>\n",
       "</table>\n",
       "</div>"
      ],
      "text/plain": [
       "   year\n",
       "0  2020\n",
       "1  2021\n",
       "2  2022"
      ]
     },
     "execution_count": 15,
     "metadata": {},
     "output_type": "execute_result"
    }
   ],
   "source": [
    "sql = f\"\"\"\n",
    "select * from {ingest_catalog}.{ingest_schema}.\"{ingest_table}$partitions\"\n",
    "\"\"\"\n",
    "df = pd.read_sql(sql, engine)\n",
    "df"
   ]
  },
  {
   "cell_type": "code",
   "execution_count": 16,
   "id": "1e58eb64-90a8-4abb-aef5-6da46a8d2e40",
   "metadata": {},
   "outputs": [
    {
     "data": {
      "text/html": [
       "<div>\n",
       "<style scoped>\n",
       "    .dataframe tbody tr th:only-of-type {\n",
       "        vertical-align: middle;\n",
       "    }\n",
       "\n",
       "    .dataframe tbody tr th {\n",
       "        vertical-align: top;\n",
       "    }\n",
       "\n",
       "    .dataframe thead th {\n",
       "        text-align: right;\n",
       "    }\n",
       "</style>\n",
       "<table border=\"1\" class=\"dataframe\">\n",
       "  <thead>\n",
       "    <tr style=\"text-align: right;\">\n",
       "      <th></th>\n",
       "      <th>metric</th>\n",
       "      <th>year</th>\n",
       "    </tr>\n",
       "  </thead>\n",
       "  <tbody>\n",
       "    <tr>\n",
       "      <th>0</th>\n",
       "      <td>0.083461</td>\n",
       "      <td>2022</td>\n",
       "    </tr>\n",
       "    <tr>\n",
       "      <th>1</th>\n",
       "      <td>0.095466</td>\n",
       "      <td>2022</td>\n",
       "    </tr>\n",
       "    <tr>\n",
       "      <th>2</th>\n",
       "      <td>0.089612</td>\n",
       "      <td>2022</td>\n",
       "    </tr>\n",
       "    <tr>\n",
       "      <th>3</th>\n",
       "      <td>0.080941</td>\n",
       "      <td>2022</td>\n",
       "    </tr>\n",
       "    <tr>\n",
       "      <th>4</th>\n",
       "      <td>0.043161</td>\n",
       "      <td>2022</td>\n",
       "    </tr>\n",
       "    <tr>\n",
       "      <th>...</th>\n",
       "      <td>...</td>\n",
       "      <td>...</td>\n",
       "    </tr>\n",
       "    <tr>\n",
       "      <th>333707</th>\n",
       "      <td>0.001402</td>\n",
       "      <td>2022</td>\n",
       "    </tr>\n",
       "    <tr>\n",
       "      <th>333708</th>\n",
       "      <td>0.036057</td>\n",
       "      <td>2022</td>\n",
       "    </tr>\n",
       "    <tr>\n",
       "      <th>333709</th>\n",
       "      <td>0.006256</td>\n",
       "      <td>2022</td>\n",
       "    </tr>\n",
       "    <tr>\n",
       "      <th>333710</th>\n",
       "      <td>0.041585</td>\n",
       "      <td>2022</td>\n",
       "    </tr>\n",
       "    <tr>\n",
       "      <th>333711</th>\n",
       "      <td>0.071623</td>\n",
       "      <td>2022</td>\n",
       "    </tr>\n",
       "  </tbody>\n",
       "</table>\n",
       "<p>333712 rows × 2 columns</p>\n",
       "</div>"
      ],
      "text/plain": [
       "          metric  year\n",
       "0       0.083461  2022\n",
       "1       0.095466  2022\n",
       "2       0.089612  2022\n",
       "3       0.080941  2022\n",
       "4       0.043161  2022\n",
       "...          ...   ...\n",
       "333707  0.001402  2022\n",
       "333708  0.036057  2022\n",
       "333709  0.006256  2022\n",
       "333710  0.041585  2022\n",
       "333711  0.071623  2022\n",
       "\n",
       "[333712 rows x 2 columns]"
      ]
     },
     "execution_count": 16,
     "metadata": {},
     "output_type": "execute_result"
    }
   ],
   "source": [
    "sql = f\"\"\"\n",
    "select * from {ingest_catalog}.{ingest_schema}.{ingest_table}\n",
    "where metric < 0.1 and year = 2022\n",
    "\"\"\"\n",
    "df = pd.read_sql(sql, engine)\n",
    "df"
   ]
  },
  {
   "cell_type": "code",
   "execution_count": 17,
   "id": "ebe29d4e-6b69-44e3-9424-457927b775b0",
   "metadata": {},
   "outputs": [],
   "source": [
    "iceberg_catalog = 'osc_datacommons_iceberg_dev'\n",
    "iceberg_schema = 'iceberg_demo'\n",
    "iceberg_table = 'hive_iceberg_ingest'"
   ]
  },
  {
   "cell_type": "code",
   "execution_count": 18,
   "id": "04acb214-f5f8-41a9-a9a6-29cc857c957c",
   "metadata": {},
   "outputs": [
    {
     "name": "stdout",
     "output_type": "stream",
     "text": [
      "[(True,)]\n"
     ]
    }
   ],
   "source": [
    "sql = f\"\"\"\n",
    "drop table if exists {iceberg_catalog}.{iceberg_schema}.{iceberg_table}\n",
    "\"\"\"\n",
    "qres = engine.execute(sql)\n",
    "print(qres.fetchall())"
   ]
  },
  {
   "cell_type": "code",
   "execution_count": 19,
   "id": "17ac1f26-7a62-4ae6-afb7-24c3caf807bc",
   "metadata": {},
   "outputs": [
    {
     "name": "stdout",
     "output_type": "stream",
     "text": [
      "\n",
      "create table if not exists osc_datacommons_iceberg_dev.iceberg_demo.hive_iceberg_ingest(\n",
      "    metric double,\n",
      "    year bigint\n",
      ") with (\n",
      "    format = 'parquet',\n",
      "    partitioning = array['year']\n",
      ")\n",
      "\n",
      "[(True,)]\n"
     ]
    }
   ],
   "source": [
    "import osc_ingest_trino as osc\n",
    "columnschema = osc.create_table_schema_pairs(df1)\n",
    "\n",
    "tabledef = f\"\"\"\n",
    "create table if not exists {iceberg_catalog}.{iceberg_schema}.{iceberg_table}(\n",
    "{columnschema}\n",
    ") with (\n",
    "    format = 'parquet',\n",
    "    partitioning = array['year']\n",
    ")\n",
    "\"\"\"\n",
    "print(tabledef)\n",
    "qres = engine.execute(tabledef)\n",
    "print(qres.fetchall())"
   ]
  },
  {
   "cell_type": "code",
   "execution_count": 20,
   "id": "954db59b-88f0-4c81-a451-bc7bea099fc9",
   "metadata": {},
   "outputs": [
    {
     "name": "stdout",
     "output_type": "stream",
     "text": [
      "[(10000000,)]\n"
     ]
    }
   ],
   "source": [
    "sql = f\"\"\"\n",
    "insert into {iceberg_catalog}.{iceberg_schema}.{iceberg_table} (metric, year)\n",
    "select metric, year from {ingest_catalog}.{ingest_schema}.{ingest_table}\n",
    "\"\"\"\n",
    "qres = engine.execute(sql)\n",
    "print(qres.fetchall())"
   ]
  },
  {
   "cell_type": "code",
   "execution_count": null,
   "id": "72e153e6-3883-49ad-bb46-e3eafada397b",
   "metadata": {},
   "outputs": [],
   "source": []
  }
 ],
 "metadata": {
  "kernelspec": {
   "display_name": "Python 3",
   "language": "python",
   "name": "python3"
  },
  "language_info": {
   "codemirror_mode": {
    "name": "ipython",
    "version": 3
   },
   "file_extension": ".py",
   "mimetype": "text/x-python",
   "name": "python",
   "nbconvert_exporter": "python",
   "pygments_lexer": "ipython3",
   "version": "3.8.6"
  }
 },
 "nbformat": 4,
 "nbformat_minor": 5
}
