{
 "cells": [
  {
   "cell_type": "markdown",
   "id": "055e228d-c294-4bff-ace1-8470358f0a57",
   "metadata": {},
   "source": [
    "Run these in a notebook cell if you need to install onto your nb env\n",
    "```\n",
    "# 'capture' magic prevents long outputs from spamming your notebook\n",
    "%%capture pipoutput\n",
    "\n",
    "# For loading predefined environment variables from files\n",
    "# Typically used to load sensitive access credentials\n",
    "%pip install python-dotenv\n",
    "\n",
    "# Standard python package for interacting with S3 buckets\n",
    "%pip install boto3\n",
    "\n",
    "# Interacting with Trino and using Trino with sqlalchemy\n",
    "%pip install trino sqlalchemy sqlalchemy-trino\n",
    "\n",
    "# Pandas and parquet file i/o\n",
    "%pip install pandas pyarrow fastparquet\n",
    "\n",
    "# OS-Climate utilities to make data ingest easier\n",
    "%pip install osc-ingest-tools\n",
    "```"
   ]
  },
  {
   "cell_type": "code",
   "execution_count": 1,
   "id": "b34594f6-c5c7-42e0-8904-2d5022c5e78f",
   "metadata": {},
   "outputs": [
    {
     "name": "stdout",
     "output_type": "stream",
     "text": [
      "Exception reporting mode: Minimal\n"
     ]
    }
   ],
   "source": [
    "%xmode Minimal"
   ]
  },
  {
   "cell_type": "code",
   "execution_count": 2,
   "id": "743ee77d-ef5f-4735-8d24-8d0195a0066c",
   "metadata": {},
   "outputs": [],
   "source": [
    "%%capture pipoutput\n",
    "%pip install python-dotenv boto3 trino sqlalchemy sqlalchemy-trino pandas pyarrow fastparquet "
   ]
  },
  {
   "cell_type": "code",
   "execution_count": 3,
   "id": "be49e398-3ce3-4cda-be1d-c6c0ea3689ab",
   "metadata": {},
   "outputs": [],
   "source": [
    "%%capture pipoutput\n",
    "%pip install --upgrade osc-ingest-tools==0.2.1"
   ]
  },
  {
   "cell_type": "code",
   "execution_count": 4,
   "id": "6ad0299b-4a92-4dbc-81f2-336084bf6078",
   "metadata": {},
   "outputs": [],
   "source": [
    "ingest_catalog = 'osc_datacommons_dev'\n",
    "ingest_schema = 'demo'\n",
    "ingest_table = 'parquet_partitions_tutorial'"
   ]
  },
  {
   "cell_type": "code",
   "execution_count": 5,
   "id": "a4205f08-c1ba-4b14-90b8-fd3a1a4910b1",
   "metadata": {},
   "outputs": [],
   "source": [
    "partition_columns = ['year']"
   ]
  },
  {
   "cell_type": "code",
   "execution_count": 6,
   "id": "e79f7952-0fbe-483e-b6b0-806cf715e900",
   "metadata": {},
   "outputs": [],
   "source": [
    "iceberg_catalog = 'osc_datacommons_iceberg_dev'\n",
    "iceberg_schema = 'iceberg_demo'\n",
    "iceberg_table = 'hive_iceberg_ingest'\n",
    "iceberg_table_tosql = 'iceberg_tosql'"
   ]
  },
  {
   "cell_type": "code",
   "execution_count": 7,
   "id": "92b3a90b-b48f-4f0f-aa4a-f49c4e47e384",
   "metadata": {},
   "outputs": [
    {
     "name": "stdout",
     "output_type": "stream",
     "text": [
      "using connect string: trino://erikerlandson@trino-secure-odh-trino.apps.odh-cl1.apps.os-climate.org:443/osc_datacommons_iceberg_dev\n"
     ]
    }
   ],
   "source": [
    "# this notebook assumes osc-ingest-tools == 0.2.1\n",
    "import osc_ingest_trino as osc\n",
    "osc.load_credentials_dotenv()\n",
    "bucket = osc.attach_s3_bucket('S3_DEV')\n",
    "engine = osc.attach_trino_engine(catalog = iceberg_catalog, verbose=True)"
   ]
  },
  {
   "cell_type": "markdown",
   "id": "44bea771-1ee5-41b2-8385-5cff0eb2ced1",
   "metadata": {},
   "source": [
    "Ingest table is on hive catalog"
   ]
  },
  {
   "cell_type": "code",
   "execution_count": 8,
   "id": "af903cc5-8b28-43c8-b1f5-6e22ea79f670",
   "metadata": {},
   "outputs": [
    {
     "data": {
      "text/html": [
       "<div>\n",
       "<style scoped>\n",
       "    .dataframe tbody tr th:only-of-type {\n",
       "        vertical-align: middle;\n",
       "    }\n",
       "\n",
       "    .dataframe tbody tr th {\n",
       "        vertical-align: top;\n",
       "    }\n",
       "\n",
       "    .dataframe thead th {\n",
       "        text-align: right;\n",
       "    }\n",
       "</style>\n",
       "<table border=\"1\" class=\"dataframe\">\n",
       "  <thead>\n",
       "    <tr style=\"text-align: right;\">\n",
       "      <th></th>\n",
       "      <th>year</th>\n",
       "      <th>metric</th>\n",
       "    </tr>\n",
       "  </thead>\n",
       "  <tbody>\n",
       "    <tr>\n",
       "      <th>0</th>\n",
       "      <td>2020</td>\n",
       "      <td>0.236327</td>\n",
       "    </tr>\n",
       "    <tr>\n",
       "      <th>1</th>\n",
       "      <td>2020</td>\n",
       "      <td>0.284953</td>\n",
       "    </tr>\n",
       "    <tr>\n",
       "      <th>2</th>\n",
       "      <td>2020</td>\n",
       "      <td>0.267217</td>\n",
       "    </tr>\n",
       "    <tr>\n",
       "      <th>3</th>\n",
       "      <td>2020</td>\n",
       "      <td>0.278004</td>\n",
       "    </tr>\n",
       "    <tr>\n",
       "      <th>4</th>\n",
       "      <td>2022</td>\n",
       "      <td>0.663924</td>\n",
       "    </tr>\n",
       "    <tr>\n",
       "      <th>...</th>\n",
       "      <td>...</td>\n",
       "      <td>...</td>\n",
       "    </tr>\n",
       "    <tr>\n",
       "      <th>99995</th>\n",
       "      <td>2020</td>\n",
       "      <td>0.490976</td>\n",
       "    </tr>\n",
       "    <tr>\n",
       "      <th>99996</th>\n",
       "      <td>2020</td>\n",
       "      <td>0.299551</td>\n",
       "    </tr>\n",
       "    <tr>\n",
       "      <th>99997</th>\n",
       "      <td>2020</td>\n",
       "      <td>0.167506</td>\n",
       "    </tr>\n",
       "    <tr>\n",
       "      <th>99998</th>\n",
       "      <td>2020</td>\n",
       "      <td>0.77609</td>\n",
       "    </tr>\n",
       "    <tr>\n",
       "      <th>99999</th>\n",
       "      <td>2022</td>\n",
       "      <td>0.868441</td>\n",
       "    </tr>\n",
       "  </tbody>\n",
       "</table>\n",
       "<p>100000 rows × 2 columns</p>\n",
       "</div>"
      ],
      "text/plain": [
       "       year    metric\n",
       "0      2020  0.236327\n",
       "1      2020  0.284953\n",
       "2      2020  0.267217\n",
       "3      2020  0.278004\n",
       "4      2022  0.663924\n",
       "...     ...       ...\n",
       "99995  2020  0.490976\n",
       "99996  2020  0.299551\n",
       "99997  2020  0.167506\n",
       "99998  2020   0.77609\n",
       "99999  2022  0.868441\n",
       "\n",
       "[100000 rows x 2 columns]"
      ]
     },
     "execution_count": 8,
     "metadata": {},
     "output_type": "execute_result"
    }
   ],
   "source": [
    "import random\n",
    "import pandas as pd\n",
    "\n",
    "datasize = 100000\n",
    "yeardata = [random.randrange(2020,2023) for x in range(datasize)]\n",
    "metricdata = [random.random() for x in range(datasize)]\n",
    "\n",
    "df1 = pd.DataFrame(data={\"year\": yeardata, \"metric\": metricdata})\n",
    "df1.convert_dtypes()"
   ]
  },
  {
   "cell_type": "code",
   "execution_count": 9,
   "id": "4b00f05a-5e85-4212-9c93-b368d9051661",
   "metadata": {},
   "outputs": [
    {
     "name": "stdout",
     "output_type": "stream",
     "text": [
      "<class 'pandas.core.frame.DataFrame'>\n",
      "RangeIndex: 100000 entries, 0 to 99999\n",
      "Data columns (total 2 columns):\n",
      " #   Column  Non-Null Count   Dtype  \n",
      "---  ------  --------------   -----  \n",
      " 0   year    100000 non-null  int64  \n",
      " 1   metric  100000 non-null  float64\n",
      "dtypes: float64(1), int64(1)\n",
      "memory usage: 1.5 MB\n"
     ]
    }
   ],
   "source": [
    "df1.info(verbose=True)"
   ]
  },
  {
   "cell_type": "code",
   "execution_count": 10,
   "id": "75f91a7d-271e-4a04-9b95-759d2f851741",
   "metadata": {},
   "outputs": [
    {
     "data": {
      "text/html": [
       "<div>\n",
       "<style scoped>\n",
       "    .dataframe tbody tr th:only-of-type {\n",
       "        vertical-align: middle;\n",
       "    }\n",
       "\n",
       "    .dataframe tbody tr th {\n",
       "        vertical-align: top;\n",
       "    }\n",
       "\n",
       "    .dataframe thead th {\n",
       "        text-align: right;\n",
       "    }\n",
       "</style>\n",
       "<table border=\"1\" class=\"dataframe\">\n",
       "  <thead>\n",
       "    <tr style=\"text-align: right;\">\n",
       "      <th></th>\n",
       "      <th>metric</th>\n",
       "      <th>year</th>\n",
       "    </tr>\n",
       "  </thead>\n",
       "  <tbody>\n",
       "    <tr>\n",
       "      <th>0</th>\n",
       "      <td>0.236327</td>\n",
       "      <td>2020</td>\n",
       "    </tr>\n",
       "    <tr>\n",
       "      <th>1</th>\n",
       "      <td>0.284953</td>\n",
       "      <td>2020</td>\n",
       "    </tr>\n",
       "    <tr>\n",
       "      <th>2</th>\n",
       "      <td>0.267217</td>\n",
       "      <td>2020</td>\n",
       "    </tr>\n",
       "    <tr>\n",
       "      <th>3</th>\n",
       "      <td>0.278004</td>\n",
       "      <td>2020</td>\n",
       "    </tr>\n",
       "    <tr>\n",
       "      <th>4</th>\n",
       "      <td>0.663924</td>\n",
       "      <td>2022</td>\n",
       "    </tr>\n",
       "    <tr>\n",
       "      <th>...</th>\n",
       "      <td>...</td>\n",
       "      <td>...</td>\n",
       "    </tr>\n",
       "    <tr>\n",
       "      <th>99995</th>\n",
       "      <td>0.490976</td>\n",
       "      <td>2020</td>\n",
       "    </tr>\n",
       "    <tr>\n",
       "      <th>99996</th>\n",
       "      <td>0.299551</td>\n",
       "      <td>2020</td>\n",
       "    </tr>\n",
       "    <tr>\n",
       "      <th>99997</th>\n",
       "      <td>0.167506</td>\n",
       "      <td>2020</td>\n",
       "    </tr>\n",
       "    <tr>\n",
       "      <th>99998</th>\n",
       "      <td>0.776090</td>\n",
       "      <td>2020</td>\n",
       "    </tr>\n",
       "    <tr>\n",
       "      <th>99999</th>\n",
       "      <td>0.868441</td>\n",
       "      <td>2022</td>\n",
       "    </tr>\n",
       "  </tbody>\n",
       "</table>\n",
       "<p>100000 rows × 2 columns</p>\n",
       "</div>"
      ],
      "text/plain": [
       "         metric  year\n",
       "0      0.236327  2020\n",
       "1      0.284953  2020\n",
       "2      0.267217  2020\n",
       "3      0.278004  2020\n",
       "4      0.663924  2022\n",
       "...         ...   ...\n",
       "99995  0.490976  2020\n",
       "99996  0.299551  2020\n",
       "99997  0.167506  2020\n",
       "99998  0.776090  2020\n",
       "99999  0.868441  2022\n",
       "\n",
       "[100000 rows x 2 columns]"
      ]
     },
     "execution_count": 10,
     "metadata": {},
     "output_type": "execute_result"
    }
   ],
   "source": [
    "osc.enforce_partition_column_order(df1, partition_columns, inplace=True)\n",
    "df1"
   ]
  },
  {
   "cell_type": "code",
   "execution_count": 11,
   "id": "b668e919-1fc6-441d-ae2f-be77b821b24c",
   "metadata": {},
   "outputs": [
    {
     "name": "stdout",
     "output_type": "stream",
     "text": [
      "[{'ResponseMetadata': {'RequestId': 'FXX07RMPCDJ8XVGY', 'HostId': 'cLLLzaE1w0ti9uyTHXPvsoN3v9xUJAJLvImQwSFSK0XgE+hzlmyxaeMS0MkILc6olFWJqbr8cJY=', 'HTTPStatusCode': 200, 'HTTPHeaders': {'x-amz-id-2': 'cLLLzaE1w0ti9uyTHXPvsoN3v9xUJAJLvImQwSFSK0XgE+hzlmyxaeMS0MkILc6olFWJqbr8cJY=', 'x-amz-request-id': 'FXX07RMPCDJ8XVGY', 'date': 'Sat, 04 Jun 2022 18:07:43 GMT', 'content-type': 'application/xml', 'transfer-encoding': 'chunked', 'server': 'AmazonS3', 'connection': 'close'}, 'RetryAttempts': 0}, 'Deleted': [{'Key': 'trino/demo/parquet_partitions_tutorial/year=2021/355edeac7c99443da3e4fa911705583c-0.parquet'}, {'Key': 'trino/demo/parquet_partitions_tutorial/year=2020/355edeac7c99443da3e4fa911705583c-0.parquet'}, {'Key': 'trino/demo/parquet_partitions_tutorial/year=2022/355edeac7c99443da3e4fa911705583c-0.parquet'}]}]\n"
     ]
    },
    {
     "data": {
      "text/plain": [
       "<sqlalchemy.engine.cursor.LegacyCursorResult at 0x7fc2bd183ca0>"
      ]
     },
     "execution_count": 11,
     "metadata": {},
     "output_type": "execute_result"
    }
   ],
   "source": [
    "osc.drop_unmanaged_table(ingest_catalog, ingest_schema, ingest_table, engine, bucket, verbose=True)"
   ]
  },
  {
   "cell_type": "code",
   "execution_count": 12,
   "id": "7cf12db5-8ba9-4c1d-844b-a9868f82e7d9",
   "metadata": {},
   "outputs": [
    {
     "name": "stdout",
     "output_type": "stream",
     "text": [
      "/tmp/parquet_partitions_tutorial/year=2020/b31e4b82e0ba403fac3b3000abce37b5-0.parquet  -->  trino/demo/parquet_partitions_tutorial/year=2020/b31e4b82e0ba403fac3b3000abce37b5-0.parquet\n",
      "/tmp/parquet_partitions_tutorial/year=2022/b31e4b82e0ba403fac3b3000abce37b5-0.parquet  -->  trino/demo/parquet_partitions_tutorial/year=2022/b31e4b82e0ba403fac3b3000abce37b5-0.parquet\n",
      "/tmp/parquet_partitions_tutorial/year=2021/b31e4b82e0ba403fac3b3000abce37b5-0.parquet  -->  trino/demo/parquet_partitions_tutorial/year=2021/b31e4b82e0ba403fac3b3000abce37b5-0.parquet\n",
      "CPU times: user 47 ms, sys: 17.8 ms, total: 64.7 ms\n",
      "Wall time: 335 ms\n"
     ]
    }
   ],
   "source": [
    "%%time\n",
    "osc.ingest_unmanaged_parquet(df1, ingest_schema, ingest_table, bucket,\n",
    "                             partition_columns=partition_columns,\n",
    "                             verbose=True)"
   ]
  },
  {
   "cell_type": "code",
   "execution_count": 13,
   "id": "9efa26a6-8002-4ab2-b859-45ce1eac224c",
   "metadata": {},
   "outputs": [
    {
     "name": "stdout",
     "output_type": "stream",
     "text": [
      "trino/demo/parquet_partitions_tutorial/year=2020/b31e4b82e0ba403fac3b3000abce37b5-0.parquet\n",
      "trino/demo/parquet_partitions_tutorial/year=2021/b31e4b82e0ba403fac3b3000abce37b5-0.parquet\n",
      "trino/demo/parquet_partitions_tutorial/year=2022/b31e4b82e0ba403fac3b3000abce37b5-0.parquet\n"
     ]
    }
   ],
   "source": [
    "for e in bucket.objects \\\n",
    "    .filter(Prefix=f'trino/{ingest_schema}/{ingest_table}/'):\n",
    "    print(e.key)"
   ]
  },
  {
   "cell_type": "code",
   "execution_count": 14,
   "id": "8fdaba9f-bcd3-4055-89c4-9e51ee985a8e",
   "metadata": {},
   "outputs": [
    {
     "name": "stdout",
     "output_type": "stream",
     "text": [
      "create table if not exists osc_datacommons_dev.demo.parquet_partitions_tutorial (\n",
      "    metric double,\n",
      "    year bigint\n",
      ") with (\n",
      "    format = 'parquet',\n",
      "    partitioned_by = array['year'],\n",
      "    external_location = 's3a://ocp-odh-os-demo-s3/trino/demo/parquet_partitions_tutorial/'\n",
      ")\n",
      "[(True,)]\n"
     ]
    }
   ],
   "source": [
    "sql = osc.unmanaged_parquet_tabledef(df1, ingest_catalog, ingest_schema, ingest_table, bucket,\n",
    "                                    partition_columns = partition_columns,\n",
    "                                    verbose = True)\n",
    "qres = engine.execute(sql)\n",
    "print(qres.fetchall())"
   ]
  },
  {
   "cell_type": "code",
   "execution_count": 15,
   "id": "c20b9f91-5879-49b4-9032-6e9afc404e25",
   "metadata": {},
   "outputs": [
    {
     "name": "stdout",
     "output_type": "stream",
     "text": [
      "[(True,)]\n"
     ]
    }
   ],
   "source": [
    "sql = f\"\"\"\n",
    "call {ingest_catalog}.system.sync_partition_metadata('{ingest_schema}', '{ingest_table}', 'FULL')\n",
    "\"\"\"\n",
    "qres = engine.execute(sql)\n",
    "print(qres.fetchall())"
   ]
  },
  {
   "cell_type": "code",
   "execution_count": 16,
   "id": "fcd63805-7930-435e-ae38-69de37a9def5",
   "metadata": {},
   "outputs": [
    {
     "data": {
      "text/html": [
       "<div>\n",
       "<style scoped>\n",
       "    .dataframe tbody tr th:only-of-type {\n",
       "        vertical-align: middle;\n",
       "    }\n",
       "\n",
       "    .dataframe tbody tr th {\n",
       "        vertical-align: top;\n",
       "    }\n",
       "\n",
       "    .dataframe thead th {\n",
       "        text-align: right;\n",
       "    }\n",
       "</style>\n",
       "<table border=\"1\" class=\"dataframe\">\n",
       "  <thead>\n",
       "    <tr style=\"text-align: right;\">\n",
       "      <th></th>\n",
       "      <th>year</th>\n",
       "    </tr>\n",
       "  </thead>\n",
       "  <tbody>\n",
       "    <tr>\n",
       "      <th>0</th>\n",
       "      <td>2020</td>\n",
       "    </tr>\n",
       "    <tr>\n",
       "      <th>1</th>\n",
       "      <td>2021</td>\n",
       "    </tr>\n",
       "    <tr>\n",
       "      <th>2</th>\n",
       "      <td>2022</td>\n",
       "    </tr>\n",
       "  </tbody>\n",
       "</table>\n",
       "</div>"
      ],
      "text/plain": [
       "   year\n",
       "0  2020\n",
       "1  2021\n",
       "2  2022"
      ]
     },
     "execution_count": 16,
     "metadata": {},
     "output_type": "execute_result"
    }
   ],
   "source": [
    "sql = f\"\"\"\n",
    "select * from {ingest_catalog}.{ingest_schema}.\"{ingest_table}$partitions\"\n",
    "\"\"\"\n",
    "df = pd.read_sql(sql, engine)\n",
    "df"
   ]
  },
  {
   "cell_type": "code",
   "execution_count": 17,
   "id": "1e58eb64-90a8-4abb-aef5-6da46a8d2e40",
   "metadata": {},
   "outputs": [
    {
     "data": {
      "text/html": [
       "<div>\n",
       "<style scoped>\n",
       "    .dataframe tbody tr th:only-of-type {\n",
       "        vertical-align: middle;\n",
       "    }\n",
       "\n",
       "    .dataframe tbody tr th {\n",
       "        vertical-align: top;\n",
       "    }\n",
       "\n",
       "    .dataframe thead th {\n",
       "        text-align: right;\n",
       "    }\n",
       "</style>\n",
       "<table border=\"1\" class=\"dataframe\">\n",
       "  <thead>\n",
       "    <tr style=\"text-align: right;\">\n",
       "      <th></th>\n",
       "      <th>metric</th>\n",
       "      <th>year</th>\n",
       "    </tr>\n",
       "  </thead>\n",
       "  <tbody>\n",
       "    <tr>\n",
       "      <th>0</th>\n",
       "      <td>0.038092</td>\n",
       "      <td>2022</td>\n",
       "    </tr>\n",
       "    <tr>\n",
       "      <th>1</th>\n",
       "      <td>0.025893</td>\n",
       "      <td>2022</td>\n",
       "    </tr>\n",
       "    <tr>\n",
       "      <th>2</th>\n",
       "      <td>0.039929</td>\n",
       "      <td>2022</td>\n",
       "    </tr>\n",
       "    <tr>\n",
       "      <th>3</th>\n",
       "      <td>0.004726</td>\n",
       "      <td>2022</td>\n",
       "    </tr>\n",
       "    <tr>\n",
       "      <th>4</th>\n",
       "      <td>0.008931</td>\n",
       "      <td>2022</td>\n",
       "    </tr>\n",
       "    <tr>\n",
       "      <th>...</th>\n",
       "      <td>...</td>\n",
       "      <td>...</td>\n",
       "    </tr>\n",
       "    <tr>\n",
       "      <th>1646</th>\n",
       "      <td>0.028098</td>\n",
       "      <td>2022</td>\n",
       "    </tr>\n",
       "    <tr>\n",
       "      <th>1647</th>\n",
       "      <td>0.047064</td>\n",
       "      <td>2022</td>\n",
       "    </tr>\n",
       "    <tr>\n",
       "      <th>1648</th>\n",
       "      <td>0.041197</td>\n",
       "      <td>2022</td>\n",
       "    </tr>\n",
       "    <tr>\n",
       "      <th>1649</th>\n",
       "      <td>0.035970</td>\n",
       "      <td>2022</td>\n",
       "    </tr>\n",
       "    <tr>\n",
       "      <th>1650</th>\n",
       "      <td>0.028511</td>\n",
       "      <td>2022</td>\n",
       "    </tr>\n",
       "  </tbody>\n",
       "</table>\n",
       "<p>1651 rows × 2 columns</p>\n",
       "</div>"
      ],
      "text/plain": [
       "        metric  year\n",
       "0     0.038092  2022\n",
       "1     0.025893  2022\n",
       "2     0.039929  2022\n",
       "3     0.004726  2022\n",
       "4     0.008931  2022\n",
       "...        ...   ...\n",
       "1646  0.028098  2022\n",
       "1647  0.047064  2022\n",
       "1648  0.041197  2022\n",
       "1649  0.035970  2022\n",
       "1650  0.028511  2022\n",
       "\n",
       "[1651 rows x 2 columns]"
      ]
     },
     "execution_count": 17,
     "metadata": {},
     "output_type": "execute_result"
    }
   ],
   "source": [
    "sql = f\"\"\"\n",
    "select * from {ingest_catalog}.{ingest_schema}.{ingest_table}\n",
    "where metric < 0.05 and year = 2022\n",
    "\"\"\"\n",
    "df = pd.read_sql(sql, engine)\n",
    "df"
   ]
  },
  {
   "cell_type": "code",
   "execution_count": 18,
   "id": "04acb214-f5f8-41a9-a9a6-29cc857c957c",
   "metadata": {},
   "outputs": [
    {
     "name": "stdout",
     "output_type": "stream",
     "text": [
      "[(True,)]\n"
     ]
    }
   ],
   "source": [
    "sql = f\"\"\"\n",
    "drop table if exists {iceberg_catalog}.{iceberg_schema}.{iceberg_table}\n",
    "\"\"\"\n",
    "qres = engine.execute(sql)\n",
    "print(qres.fetchall())"
   ]
  },
  {
   "cell_type": "code",
   "execution_count": 19,
   "id": "17ac1f26-7a62-4ae6-afb7-24c3caf807bc",
   "metadata": {},
   "outputs": [
    {
     "name": "stdout",
     "output_type": "stream",
     "text": [
      "\n",
      "create table if not exists osc_datacommons_iceberg_dev.iceberg_demo.hive_iceberg_ingest(\n",
      "    metric double,\n",
      "    year bigint\n",
      ") with (\n",
      "    format = 'parquet',\n",
      "    partitioning = array['year']\n",
      ")\n",
      "\n",
      "[(True,)]\n"
     ]
    }
   ],
   "source": [
    "import osc_ingest_trino as osc\n",
    "columnschema = osc.create_table_schema_pairs(df1)\n",
    "\n",
    "tabledef = f\"\"\"\n",
    "create table if not exists {iceberg_catalog}.{iceberg_schema}.{iceberg_table}(\n",
    "{columnschema}\n",
    ") with (\n",
    "    format = 'parquet',\n",
    "    partitioning = array['year']\n",
    ")\n",
    "\"\"\"\n",
    "print(tabledef)\n",
    "qres = engine.execute(tabledef)\n",
    "print(qres.fetchall())"
   ]
  },
  {
   "cell_type": "code",
   "execution_count": 20,
   "id": "954db59b-88f0-4c81-a451-bc7bea099fc9",
   "metadata": {},
   "outputs": [
    {
     "name": "stdout",
     "output_type": "stream",
     "text": [
      "[(100000,)]\n",
      "CPU times: user 14 ms, sys: 966 µs, total: 15 ms\n",
      "Wall time: 1.43 s\n"
     ]
    }
   ],
   "source": [
    "%%time\n",
    "sql = f\"\"\"\n",
    "insert into {iceberg_catalog}.{iceberg_schema}.{iceberg_table} (metric, year)\n",
    "select metric, year from {ingest_catalog}.{ingest_schema}.{ingest_table}\n",
    "\"\"\"\n",
    "qres = engine.execute(sql)\n",
    "print(qres.fetchall())"
   ]
  },
  {
   "cell_type": "code",
   "execution_count": 21,
   "id": "72e153e6-3883-49ad-bb46-e3eafada397b",
   "metadata": {},
   "outputs": [],
   "source": [
    "import math\n",
    "import os\n",
    "from datetime import datetime\n",
    "\n",
    "import trino\n",
    "from sqlalchemy.engine import create_engine\n",
    "from sqlalchemy.sql import text\n",
    "\n",
    "class TrinoBatchInsert(object):\n",
    "    def __init__(self, catalog=None, schema=None, batch_size=1000, optimize=False, verbose=False):\n",
    "        self.catalog = catalog\n",
    "        self.schema = schema\n",
    "        self.batch_size = batch_size\n",
    "        self.optimize = optimize\n",
    "        self.verbose = verbose\n",
    "\n",
    "    # conforms to signature expected by pandas 'callable' value for method kw arg\n",
    "    # https://pandas.pydata.org/docs/reference/api/pandas.DataFrame.to_sql.html\n",
    "    # https://pandas.pydata.org/docs/user_guide/io.html#io-sql-method\n",
    "    def __call__(self, sqltbl, dbcxn, columns, data_iter):\n",
    "        fqname = self._full_table_name(sqltbl)\n",
    "        batch = []\n",
    "        self.ninserts = 0\n",
    "        for r in data_iter:\n",
    "            # each row of data_iter is a python tuple\n",
    "            # I cannot currently make good use of sqlalchemy ':params'\n",
    "            # and so I have to do my own \"manual\" value formatting for insertions\n",
    "            row = \", \".join([TrinoBatchInsert._sqlform(e) for e in r])\n",
    "            row = f\"({row})\"\n",
    "            batch.append(row)\n",
    "            # possible alternative: dispatch batches by total batch size in bytes\n",
    "            if len(batch) >= self.batch_size:\n",
    "                self._do_insert(dbcxn, fqname, batch)\n",
    "                batch = []\n",
    "        if len(batch) > 0:\n",
    "            self._do_insert(dbcxn, fqname, batch)\n",
    "        if self.optimize:\n",
    "            if self.verbose:\n",
    "                print(\"optimizing table files\")\n",
    "            sql = text(f\"alter table {fqname} execute optimize\")\n",
    "            qres = dbcxn.execute(sql)\n",
    "            x = qres.fetchall()\n",
    "            if self.verbose:\n",
    "                print(f\"execute optimize: {x}\")\n",
    "\n",
    "    def _do_insert(self, dbcxn, fqname, batch):\n",
    "        if self.verbose:\n",
    "            print(f\"inserting {len(batch)} records\")\n",
    "            TrinoBatchInsert._print_batch(batch)\n",
    "        # trino is not currently supporting sqlalchemy cursor.executemany()\n",
    "        # and so I am generating an insert command with no ':params' that\n",
    "        # includes all batch data as literal sql values\n",
    "        valclause = \",\\n\".join(batch)\n",
    "        # injecting raw sql strings is deprecated and will be illegal in sqlalchemy 2.x\n",
    "        # using text() is the correct way:\n",
    "        sql = text(f\"insert into {fqname} values\\n{valclause}\")\n",
    "        # if self.verbose: print(f'{sql}')\n",
    "        qres = dbcxn.execute(sql)\n",
    "        x = qres.fetchall()\n",
    "        if self.verbose:\n",
    "            print(f\"batch insert result: {x}\")\n",
    "\n",
    "    def _full_table_name(self, sqltbl):\n",
    "        # start with table name\n",
    "        name = f\"{sqltbl.name}\"\n",
    "        # prepend schema - allow override from this class\n",
    "        name = f\"{self.schema or sqltbl.schema}.{name}\"\n",
    "        # prepend catalog, if provided\n",
    "        if self.catalog is not None:\n",
    "            name = f\"{self.catalog}.{name}\"\n",
    "        if self.verbose:\n",
    "            print(f'constructed fully qualified table name as: \"{name}\"')\n",
    "        return name\n",
    "\n",
    "    @staticmethod\n",
    "    def _sqlform(x):\n",
    "        if x is None:\n",
    "            return \"NULL\"\n",
    "        if isinstance(x, str):\n",
    "            # escape any single quotes in the string\n",
    "            t = x.replace(\"'\", \"''\")\n",
    "            # colons are mostly a problem for ':some_id_name', which is interpreted as\n",
    "            # a parameter requiring binding, but just escaping them all works\n",
    "            t = t.replace(\":\", \"\\\\:\")\n",
    "            # enclose string with single quotes\n",
    "            return f\"'{t}'\"\n",
    "        if isinstance(x, datetime):\n",
    "            return f\"TIMESTAMP '{x}'\"\n",
    "        if isinstance(x, float):\n",
    "            if math.isnan(x):\n",
    "                return \"nan()\"\n",
    "            if math.isinf(x):\n",
    "                if x < 0:\n",
    "                    return \"-infinity()\"\n",
    "                return \"infinity()\"\n",
    "        return str(x)\n",
    "\n",
    "    @staticmethod\n",
    "    def _print_batch(batch):\n",
    "        if len(batch) > 5:\n",
    "            print(\"\\n\".join(f\"  {e}\" for e in batch[:3]))\n",
    "            print(\"  ...\")\n",
    "            print(f\"  {batch[-1]}\")\n",
    "        else:\n",
    "            print(\"\\n\".join(f\"  {e}\" for e in batch))"
   ]
  },
  {
   "cell_type": "code",
   "execution_count": 22,
   "id": "c1fbdcf6-9081-41e2-b60b-60c522727128",
   "metadata": {},
   "outputs": [
    {
     "name": "stdout",
     "output_type": "stream",
     "text": [
      "[(True,)]\n"
     ]
    }
   ],
   "source": [
    "sql = f\"\"\"\n",
    "drop table if exists {iceberg_catalog}.{iceberg_schema}.{iceberg_table_tosql}\n",
    "\"\"\"\n",
    "qres = engine.execute(sql)\n",
    "print(qres.fetchall())"
   ]
  },
  {
   "cell_type": "code",
   "execution_count": 23,
   "id": "722f5e25-530d-4ebb-9ae1-861ca926f59f",
   "metadata": {},
   "outputs": [
    {
     "name": "stdout",
     "output_type": "stream",
     "text": [
      "\n",
      "create table if not exists osc_datacommons_iceberg_dev.iceberg_demo.iceberg_tosql(\n",
      "    metric double,\n",
      "    year bigint\n",
      ") with (\n",
      "    format = 'parquet',\n",
      "    partitioning = array['year']\n",
      ")\n",
      "\n",
      "[(True,)]\n"
     ]
    }
   ],
   "source": [
    "columnschema = osc.create_table_schema_pairs(df1)\n",
    "\n",
    "tabledef = f\"\"\"\n",
    "create table if not exists {iceberg_catalog}.{iceberg_schema}.{iceberg_table_tosql}(\n",
    "{columnschema}\n",
    ") with (\n",
    "    format = 'parquet',\n",
    "    partitioning = array['year']\n",
    ")\n",
    "\"\"\"\n",
    "print(tabledef)\n",
    "qres = engine.execute(tabledef)\n",
    "print(qres.fetchall())"
   ]
  },
  {
   "cell_type": "code",
   "execution_count": 24,
   "id": "c6ecc281-aa07-4a94-86af-66f1ff70b9ac",
   "metadata": {},
   "outputs": [
    {
     "name": "stdout",
     "output_type": "stream",
     "text": [
      "constructed fully qualified table name as: \"osc_datacommons_iceberg_dev.iceberg_demo.iceberg_tosql\"\n",
      "inserting 10000 records\n",
      "  (0.2363267296442988, 2020)\n",
      "  (0.28495342468047025, 2020)\n",
      "  (0.26721730150989764, 2020)\n",
      "  ...\n",
      "  (0.36733658467995256, 2020)\n",
      "batch insert result: [(10000,)]\n",
      "inserting 10000 records\n",
      "  (0.1073199769094757, 2022)\n",
      "  (0.6040171521454266, 2020)\n",
      "  (0.8017334232530048, 2020)\n",
      "  ...\n",
      "  (0.07489413375778031, 2022)\n",
      "batch insert result: [(10000,)]\n",
      "inserting 10000 records\n",
      "  (0.03276188622718912, 2020)\n",
      "  (0.29457713400891994, 2021)\n",
      "  (0.35411996702132553, 2022)\n",
      "  ...\n",
      "  (0.7302995205471225, 2021)\n",
      "batch insert result: [(10000,)]\n",
      "inserting 10000 records\n",
      "  (0.8352265518994908, 2020)\n",
      "  (0.11706624824011358, 2020)\n",
      "  (0.9951036349813431, 2021)\n",
      "  ...\n",
      "  (0.7629798084864959, 2022)\n",
      "batch insert result: [(10000,)]\n",
      "inserting 10000 records\n",
      "  (0.8058771459126449, 2020)\n",
      "  (0.3004698206676726, 2020)\n",
      "  (0.15043774796325327, 2020)\n",
      "  ...\n",
      "  (0.6674073713470688, 2020)\n",
      "batch insert result: [(10000,)]\n",
      "inserting 10000 records\n",
      "  (0.9089696140215731, 2022)\n",
      "  (0.4778584960520308, 2021)\n",
      "  (0.12754143407915208, 2021)\n",
      "  ...\n",
      "  (0.2153220161836189, 2022)\n",
      "batch insert result: [(10000,)]\n",
      "inserting 10000 records\n",
      "  (0.09701877346002952, 2021)\n",
      "  (0.812516455984601, 2021)\n",
      "  (0.08452382131648006, 2020)\n",
      "  ...\n",
      "  (0.6989880258542217, 2020)\n",
      "batch insert result: [(10000,)]\n",
      "inserting 10000 records\n",
      "  (0.8925886055739556, 2021)\n",
      "  (0.04023365451670147, 2021)\n",
      "  (0.9294382322206763, 2022)\n",
      "  ...\n",
      "  (0.19665781972969343, 2022)\n",
      "batch insert result: [(10000,)]\n",
      "inserting 10000 records\n",
      "  (0.5051264577959756, 2020)\n",
      "  (0.6855647832717703, 2021)\n",
      "  (0.10739002523159213, 2022)\n",
      "  ...\n",
      "  (0.9694251529947818, 2020)\n",
      "batch insert result: [(10000,)]\n",
      "inserting 10000 records\n",
      "  (0.2667866141256908, 2021)\n",
      "  (0.5200320829293971, 2022)\n",
      "  (0.7378425606658201, 2022)\n",
      "  ...\n",
      "  (0.868440760458117, 2022)\n",
      "batch insert result: [(10000,)]\n",
      "CPU times: user 654 ms, sys: 21.6 ms, total: 676 ms\n",
      "Wall time: 1min 40s\n"
     ]
    }
   ],
   "source": [
    "%%time\n",
    "df1.to_sql(iceberg_table_tosql,\n",
    "           con=engine,\n",
    "           schema=iceberg_schema,\n",
    "           if_exists='append',\n",
    "           index=False,\n",
    "           method=TrinoBatchInsert(catalog = iceberg_catalog, batch_size = 10000, verbose = True))"
   ]
  }
 ],
 "metadata": {
  "kernelspec": {
   "display_name": "Python 3",
   "language": "python",
   "name": "python3"
  },
  "language_info": {
   "codemirror_mode": {
    "name": "ipython",
    "version": 3
   },
   "file_extension": ".py",
   "mimetype": "text/x-python",
   "name": "python",
   "nbconvert_exporter": "python",
   "pygments_lexer": "ipython3",
   "version": "3.8.6"
  }
 },
 "nbformat": 4,
 "nbformat_minor": 5
}
