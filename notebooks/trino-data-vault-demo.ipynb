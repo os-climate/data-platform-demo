{
 "cells": [
  {
   "cell_type": "markdown",
   "id": "ab2029b6-0226-4992-b729-fae1b231ec97",
   "metadata": {},
   "source": [
    "Run these in a cell if you need to install onto your nb env\n",
    "```\n",
    "%%capture pipoutput\n",
    "%pip install boto3 python-dotenv\n",
    "%pip install trino sqlalchemy sqlalchemy-trino\n",
    "%pip install pandas pyarrow fastparquet\n",
    "%pip install anytree\n",
    "%pip install osc-ingest-tools\n",
    "```"
   ]
  },
  {
   "cell_type": "code",
   "execution_count": 1,
   "id": "8d4846c9-f326-4809-a3e5-357b8cdf706f",
   "metadata": {},
   "outputs": [],
   "source": [
    "from dotenv import dotenv_values, load_dotenv\n",
    "import os\n",
    "import pathlib\n",
    "\n",
    "dotenv_dir = os.environ.get('CREDENTIAL_DOTENV_DIR', os.environ.get('PWD', '/opt/app-root/src'))\n",
    "dotenv_path = pathlib.Path(dotenv_dir) / 'credentials.env'\n",
    "if os.path.exists(dotenv_path):\n",
    "    load_dotenv(dotenv_path=dotenv_path,override=True)"
   ]
  },
  {
   "cell_type": "code",
   "execution_count": 2,
   "id": "ea7d60c4-23b5-4a03-abb0-8aef75c91bda",
   "metadata": {},
   "outputs": [
    {
     "name": "stdout",
     "output_type": "stream",
     "text": [
      "os-climate-user1\n",
      "os-climate-user2\n",
      "os-climate-user3\n"
     ]
    }
   ],
   "source": [
    "print(os.environ['TRINO_USER_USER1'])\n",
    "print(os.environ['TRINO_USER_USER2'])\n",
    "print(os.environ['TRINO_USER_USER3'])"
   ]
  },
  {
   "cell_type": "code",
   "execution_count": 3,
   "id": "87f5f9f2-d7a9-4c31-9b49-9202b8cb4e3d",
   "metadata": {},
   "outputs": [
    {
     "name": "stdout",
     "output_type": "stream",
     "text": [
      "connecting with engine Engine(trino://os-climate-user1@trino-secure-odh-trino.apps.odh-cl1.apps.os-climate.org:443/)\n"
     ]
    }
   ],
   "source": [
    "import trino\n",
    "from sqlalchemy.engine import create_engine\n",
    "\n",
    "sqlstring = 'trino://{user}@{host}:{port}/'.format(\n",
    "    user = os.environ['TRINO_USER_USER1'],\n",
    "    host = os.environ['TRINO_HOST'],\n",
    "    port = os.environ['TRINO_PORT']\n",
    ")\n",
    "sqlargs = {\n",
    "    'auth': trino.auth.JWTAuthentication(os.environ['TRINO_PASSWD_USER1']),\n",
    "    'http_scheme': 'https'\n",
    "}\n",
    "engine_dev = create_engine(sqlstring, connect_args = sqlargs)\n",
    "print(\"connecting with engine \" + str(engine_dev))\n",
    "connection_dev = engine_dev.connect()"
   ]
  },
  {
   "cell_type": "code",
   "execution_count": 4,
   "id": "f15be501-8725-4406-8f92-f0d2ca89d753",
   "metadata": {},
   "outputs": [],
   "source": [
    "import boto3\n",
    "s3 = boto3.resource(\n",
    "    service_name=\"s3\",\n",
    "    endpoint_url=os.environ[\"S3_DEV_ENDPOINT\"],\n",
    "    aws_access_key_id=os.environ[\"S3_DEV_ACCESS_KEY\"],\n",
    "    aws_secret_access_key=os.environ[\"S3_DEV_SECRET_KEY\"],\n",
    ")\n",
    "bucket = s3.Bucket(os.environ[\"S3_DEV_BUCKET\"])"
   ]
  },
  {
   "cell_type": "code",
   "execution_count": 5,
   "id": "023977be-8cdd-408f-ab15-2e87960d7ea3",
   "metadata": {},
   "outputs": [
    {
     "name": "stdout",
     "output_type": "stream",
     "text": [
      "<class 'pandas.core.frame.DataFrame'>\n",
      "RangeIndex: 3 entries, 0 to 2\n",
      "Data columns (total 2 columns):\n",
      " #   Column        Non-Null Count  Dtype  \n",
      "---  ------        --------------  -----  \n",
      " 0   company_name  3 non-null      string \n",
      " 1   dev1          3 non-null      Float64\n",
      "dtypes: Float64(1), string(1)\n",
      "memory usage: 179.0 bytes\n",
      "None\n"
     ]
    },
    {
     "data": {
      "text/html": [
       "<div>\n",
       "<style scoped>\n",
       "    .dataframe tbody tr th:only-of-type {\n",
       "        vertical-align: middle;\n",
       "    }\n",
       "\n",
       "    .dataframe tbody tr th {\n",
       "        vertical-align: top;\n",
       "    }\n",
       "\n",
       "    .dataframe thead th {\n",
       "        text-align: right;\n",
       "    }\n",
       "</style>\n",
       "<table border=\"1\" class=\"dataframe\">\n",
       "  <thead>\n",
       "    <tr style=\"text-align: right;\">\n",
       "      <th></th>\n",
       "      <th>company_name</th>\n",
       "      <th>dev1</th>\n",
       "    </tr>\n",
       "  </thead>\n",
       "  <tbody>\n",
       "    <tr>\n",
       "      <th>0</th>\n",
       "      <td>company1</td>\n",
       "      <td>1.1</td>\n",
       "    </tr>\n",
       "    <tr>\n",
       "      <th>1</th>\n",
       "      <td>company2</td>\n",
       "      <td>2.2</td>\n",
       "    </tr>\n",
       "    <tr>\n",
       "      <th>2</th>\n",
       "      <td>company3</td>\n",
       "      <td>3.3</td>\n",
       "    </tr>\n",
       "  </tbody>\n",
       "</table>\n",
       "</div>"
      ],
      "text/plain": [
       "  company_name  dev1\n",
       "0     company1   1.1\n",
       "1     company2   2.2\n",
       "2     company3   3.3"
      ]
     },
     "execution_count": 5,
     "metadata": {},
     "output_type": "execute_result"
    }
   ],
   "source": [
    "import pandas as pd\n",
    "data = [['company1',1.1], ['company2', 2.2], ['company3', 3.3]]\n",
    "dfbe = pd.DataFrame(data, columns = ['company_name','dev1'])\n",
    "dfbe = dfbe.convert_dtypes()\n",
    "print(dfbe.info(verbose=True))\n",
    "dfbe"
   ]
  },
  {
   "cell_type": "code",
   "execution_count": 6,
   "id": "9a7153d1-52e3-4a63-9030-fbf72fb0eaab",
   "metadata": {},
   "outputs": [],
   "source": [
    "ingest_catalog = 'osc_datacommons_dev'\n",
    "ingest_schema = 'demo'\n",
    "ingest_table = 'demo_dv_backend'\n",
    "ingest_prefix = f'trino/{ingest_schema}/{ingest_table}/'"
   ]
  },
  {
   "cell_type": "code",
   "execution_count": 7,
   "id": "4f29e627-f867-4181-9e32-98b5872e5271",
   "metadata": {},
   "outputs": [],
   "source": [
    "tmp = f'/tmp/{ingest_table}.parquet'\n",
    "dfbe.to_parquet(tmp,index=False)\n",
    "bucket.upload_file(tmp, f'{ingest_prefix}{ingest_table}.parquet')"
   ]
  },
  {
   "cell_type": "code",
   "execution_count": 8,
   "id": "26b84d07-8179-4eb5-8b13-77ca561c1761",
   "metadata": {},
   "outputs": [
    {
     "name": "stdout",
     "output_type": "stream",
     "text": [
      "\n",
      "create table if not exists osc_datacommons_dev.demo.demo_dv_backend(\n",
      "    company_name varchar,\n",
      "    dev1 double\n",
      ") with (\n",
      "    format = 'parquet',\n",
      "    external_location = 's3a://ocp-odh-os-demo-s3/trino/demo/demo_dv_backend/'\n",
      ")\n",
      "\n",
      "[(True,)]\n"
     ]
    }
   ],
   "source": [
    "import osc_ingest_trino as osc\n",
    "columnschema = osc.create_table_schema_pairs(dfbe)\n",
    "\n",
    "sql = f\"\"\"\n",
    "create table if not exists {ingest_catalog}.{ingest_schema}.{ingest_table}(\n",
    "{columnschema}\n",
    ") with (\n",
    "    format = 'parquet',\n",
    "    external_location = 's3a://{bucket.name}/{ingest_prefix}'\n",
    ")\n",
    "\"\"\"\n",
    "print(sql)\n",
    "qres = engine_dev.execute(sql)\n",
    "print(qres.fetchall())"
   ]
  },
  {
   "cell_type": "code",
   "execution_count": 9,
   "id": "2569728a-a8a5-42b0-8504-07f1fbd9f351",
   "metadata": {},
   "outputs": [
    {
     "data": {
      "text/html": [
       "<div>\n",
       "<style scoped>\n",
       "    .dataframe tbody tr th:only-of-type {\n",
       "        vertical-align: middle;\n",
       "    }\n",
       "\n",
       "    .dataframe tbody tr th {\n",
       "        vertical-align: top;\n",
       "    }\n",
       "\n",
       "    .dataframe thead th {\n",
       "        text-align: right;\n",
       "    }\n",
       "</style>\n",
       "<table border=\"1\" class=\"dataframe\">\n",
       "  <thead>\n",
       "    <tr style=\"text-align: right;\">\n",
       "      <th></th>\n",
       "      <th>company_name</th>\n",
       "      <th>dev1</th>\n",
       "    </tr>\n",
       "  </thead>\n",
       "  <tbody>\n",
       "    <tr>\n",
       "      <th>0</th>\n",
       "      <td>company1</td>\n",
       "      <td>1.1</td>\n",
       "    </tr>\n",
       "    <tr>\n",
       "      <th>1</th>\n",
       "      <td>company2</td>\n",
       "      <td>2.2</td>\n",
       "    </tr>\n",
       "    <tr>\n",
       "      <th>2</th>\n",
       "      <td>company3</td>\n",
       "      <td>3.3</td>\n",
       "    </tr>\n",
       "  </tbody>\n",
       "</table>\n",
       "</div>"
      ],
      "text/plain": [
       "  company_name  dev1\n",
       "0     company1   1.1\n",
       "1     company2   2.2\n",
       "2     company3   3.3"
      ]
     },
     "execution_count": 9,
     "metadata": {},
     "output_type": "execute_result"
    }
   ],
   "source": [
    "sql = f\"\"\"\n",
    "select * from {ingest_catalog}.{ingest_schema}.{ingest_table}\n",
    "\"\"\"\n",
    "dfuf = pd.read_sql(sql, engine_dev)\n",
    "dfuf"
   ]
  },
  {
   "cell_type": "code",
   "execution_count": 10,
   "id": "fdb094aa-c79b-4dba-9043-739296dd3e0f",
   "metadata": {},
   "outputs": [],
   "source": [
    "import math\n",
    "dfuf['quant1'] = dfuf['dev1'].map(lambda x: 2 * x)\n",
    "dfuf['user1'] = dfuf['quant1'].map(lambda x: x * x)\n",
    "dfuf['user2'] = dfuf['quant1'].map(lambda x: math.sqrt(x))\n",
    "dfuf = dfuf.convert_dtypes()"
   ]
  },
  {
   "cell_type": "code",
   "execution_count": 11,
   "id": "99ed14a6-d58c-4e1c-ae38-c682cfbd7186",
   "metadata": {},
   "outputs": [],
   "source": [
    "ingest_table = 'demo_dv_userfacing'\n",
    "ingest_prefix = f'trino/{ingest_schema}/{ingest_table}/'"
   ]
  },
  {
   "cell_type": "code",
   "execution_count": 12,
   "id": "d5dc2d48-dcbb-4db9-83a3-21e869d5b821",
   "metadata": {},
   "outputs": [],
   "source": [
    "tmp = f'/tmp/{ingest_table}.parquet'\n",
    "dfuf.to_parquet(tmp,index=False)\n",
    "bucket.upload_file(tmp, f'{ingest_prefix}{ingest_table}.parquet')"
   ]
  },
  {
   "cell_type": "code",
   "execution_count": 13,
   "id": "af44d582-7498-484e-abd0-cfcf2b70f4ec",
   "metadata": {},
   "outputs": [
    {
     "name": "stdout",
     "output_type": "stream",
     "text": [
      "\n",
      "create table if not exists osc_datacommons_dev.demo.demo_dv_userfacing(\n",
      "    company_name varchar,\n",
      "    dev1 double,\n",
      "    quant1 double,\n",
      "    user1 double,\n",
      "    user2 double\n",
      ") with (\n",
      "    format = 'parquet',\n",
      "    external_location = 's3a://ocp-odh-os-demo-s3/trino/demo/demo_dv_userfacing/'\n",
      ")\n",
      "\n",
      "[(True,)]\n"
     ]
    }
   ],
   "source": [
    "columnschema = osc.create_table_schema_pairs(dfuf)\n",
    "\n",
    "sql = f\"\"\"\n",
    "create table if not exists {ingest_catalog}.{ingest_schema}.{ingest_table}(\n",
    "{columnschema}\n",
    ") with (\n",
    "    format = 'parquet',\n",
    "    external_location = 's3a://{bucket.name}/{ingest_prefix}'\n",
    ")\n",
    "\"\"\"\n",
    "print(sql)\n",
    "qres = engine_dev.execute(sql)\n",
    "print(qres.fetchall())"
   ]
  },
  {
   "cell_type": "code",
   "execution_count": 14,
   "id": "d74c5a14-c06a-4290-88f2-4c8e3f9496e4",
   "metadata": {},
   "outputs": [],
   "source": [
    "userfacing_table = f'{ingest_catalog}.{ingest_schema}.{ingest_table}'"
   ]
  },
  {
   "cell_type": "code",
   "execution_count": 15,
   "id": "c42569ca-6c77-4d69-8164-6c0885dd096b",
   "metadata": {},
   "outputs": [
    {
     "data": {
      "text/html": [
       "<div>\n",
       "<style scoped>\n",
       "    .dataframe tbody tr th:only-of-type {\n",
       "        vertical-align: middle;\n",
       "    }\n",
       "\n",
       "    .dataframe tbody tr th {\n",
       "        vertical-align: top;\n",
       "    }\n",
       "\n",
       "    .dataframe thead th {\n",
       "        text-align: right;\n",
       "    }\n",
       "</style>\n",
       "<table border=\"1\" class=\"dataframe\">\n",
       "  <thead>\n",
       "    <tr style=\"text-align: right;\">\n",
       "      <th></th>\n",
       "      <th>company_name</th>\n",
       "      <th>dev1</th>\n",
       "      <th>quant1</th>\n",
       "      <th>user1</th>\n",
       "      <th>user2</th>\n",
       "    </tr>\n",
       "  </thead>\n",
       "  <tbody>\n",
       "    <tr>\n",
       "      <th>0</th>\n",
       "      <td>company1</td>\n",
       "      <td>1.1</td>\n",
       "      <td>2.2</td>\n",
       "      <td>4.84</td>\n",
       "      <td>1.483240</td>\n",
       "    </tr>\n",
       "    <tr>\n",
       "      <th>1</th>\n",
       "      <td>company2</td>\n",
       "      <td>2.2</td>\n",
       "      <td>4.4</td>\n",
       "      <td>19.36</td>\n",
       "      <td>2.097618</td>\n",
       "    </tr>\n",
       "    <tr>\n",
       "      <th>2</th>\n",
       "      <td>company3</td>\n",
       "      <td>3.3</td>\n",
       "      <td>6.6</td>\n",
       "      <td>43.56</td>\n",
       "      <td>2.569047</td>\n",
       "    </tr>\n",
       "  </tbody>\n",
       "</table>\n",
       "</div>"
      ],
      "text/plain": [
       "  company_name  dev1  quant1  user1     user2\n",
       "0     company1   1.1     2.2   4.84  1.483240\n",
       "1     company2   2.2     4.4  19.36  2.097618\n",
       "2     company3   3.3     6.6  43.56  2.569047"
      ]
     },
     "execution_count": 15,
     "metadata": {},
     "output_type": "execute_result"
    }
   ],
   "source": [
    "sql = f\"\"\"\n",
    "select * from {userfacing_table}\n",
    "\"\"\"\n",
    "df = pd.read_sql(sql, engine_dev)\n",
    "df"
   ]
  },
  {
   "cell_type": "code",
   "execution_count": 16,
   "id": "6af26078-6246-44ef-97e0-d5efd0d50924",
   "metadata": {},
   "outputs": [
    {
     "name": "stdout",
     "output_type": "stream",
     "text": [
      "connecting with engine Engine(trino://os-climate-user2@trino-secure-odh-trino.apps.odh-cl1.apps.os-climate.org:443/)\n"
     ]
    }
   ],
   "source": [
    "sqlstring = 'trino://{user}@{host}:{port}/'.format(\n",
    "    user = os.environ['TRINO_USER_USER2'],\n",
    "    host = os.environ['TRINO_HOST'],\n",
    "    port = os.environ['TRINO_PORT']\n",
    ")\n",
    "sqlargs = {\n",
    "    'auth': trino.auth.JWTAuthentication(os.environ['TRINO_PASSWD_USER2']),\n",
    "    'http_scheme': 'https'\n",
    "}\n",
    "engine_quant = create_engine(sqlstring, connect_args = sqlargs)\n",
    "print(\"connecting with engine \" + str(engine_quant))\n",
    "connection_quant = engine_quant.connect()"
   ]
  },
  {
   "cell_type": "code",
   "execution_count": 17,
   "id": "69a20d15-d931-4718-8311-1c624810d175",
   "metadata": {},
   "outputs": [
    {
     "name": "stdout",
     "output_type": "stream",
     "text": [
      "connecting with engine Engine(trino://os-climate-user3@trino-secure-odh-trino.apps.odh-cl1.apps.os-climate.org:443/)\n"
     ]
    }
   ],
   "source": [
    "sqlstring = 'trino://{user}@{host}:{port}/'.format(\n",
    "    user = os.environ['TRINO_USER_USER3'],\n",
    "    host = os.environ['TRINO_HOST'],\n",
    "    port = os.environ['TRINO_PORT']\n",
    ")\n",
    "sqlargs = {\n",
    "    'auth': trino.auth.JWTAuthentication(os.environ['TRINO_PASSWD_USER3']),\n",
    "    'http_scheme': 'https'\n",
    "}\n",
    "engine_user = create_engine(sqlstring, connect_args = sqlargs)\n",
    "print(\"connecting with engine \" + str(engine_user))\n",
    "connection_user = engine_user.connect()"
   ]
  },
  {
   "cell_type": "code",
   "execution_count": 18,
   "id": "b7d8a934-21a5-4596-9707-e9a340ac6292",
   "metadata": {},
   "outputs": [
    {
     "data": {
      "text/html": [
       "<div>\n",
       "<style scoped>\n",
       "    .dataframe tbody tr th:only-of-type {\n",
       "        vertical-align: middle;\n",
       "    }\n",
       "\n",
       "    .dataframe tbody tr th {\n",
       "        vertical-align: top;\n",
       "    }\n",
       "\n",
       "    .dataframe thead th {\n",
       "        text-align: right;\n",
       "    }\n",
       "</style>\n",
       "<table border=\"1\" class=\"dataframe\">\n",
       "  <thead>\n",
       "    <tr style=\"text-align: right;\">\n",
       "      <th></th>\n",
       "      <th>company_name</th>\n",
       "      <th>quant1</th>\n",
       "      <th>user1</th>\n",
       "      <th>user2</th>\n",
       "    </tr>\n",
       "  </thead>\n",
       "  <tbody>\n",
       "    <tr>\n",
       "      <th>0</th>\n",
       "      <td>company1</td>\n",
       "      <td>2.2</td>\n",
       "      <td>4.84</td>\n",
       "      <td>1.483240</td>\n",
       "    </tr>\n",
       "    <tr>\n",
       "      <th>1</th>\n",
       "      <td>company2</td>\n",
       "      <td>4.4</td>\n",
       "      <td>19.36</td>\n",
       "      <td>2.097618</td>\n",
       "    </tr>\n",
       "    <tr>\n",
       "      <th>2</th>\n",
       "      <td>company3</td>\n",
       "      <td>6.6</td>\n",
       "      <td>43.56</td>\n",
       "      <td>2.569047</td>\n",
       "    </tr>\n",
       "  </tbody>\n",
       "</table>\n",
       "</div>"
      ],
      "text/plain": [
       "  company_name  quant1  user1     user2\n",
       "0     company1     2.2   4.84  1.483240\n",
       "1     company2     4.4  19.36  2.097618\n",
       "2     company3     6.6  43.56  2.569047"
      ]
     },
     "execution_count": 18,
     "metadata": {},
     "output_type": "execute_result"
    }
   ],
   "source": [
    "sql = f\"\"\"\n",
    "select company_name, quant1, user1, user2 from {userfacing_table}\n",
    "\"\"\"\n",
    "df = pd.read_sql(sql, engine_quant)\n",
    "df"
   ]
  },
  {
   "cell_type": "code",
   "execution_count": 19,
   "id": "0d451bba-eb5c-47db-af5b-f2009c20e2bb",
   "metadata": {},
   "outputs": [
    {
     "name": "stdout",
     "output_type": "stream",
     "text": [
      "TrinoUserError(type=USER_ERROR, name=PERMISSION_DENIED, message=\"Access Denied: Cannot select from table osc_datacommons_dev.demo.demo_dv_userfacing\", query_id=20211130_001810_00050_8n8pw)\n"
     ]
    }
   ],
   "source": [
    "try:\n",
    "    sql = f\"\"\"\n",
    "        select dev1 from {userfacing_table}\n",
    "    \"\"\"\n",
    "    df = pd.read_sql(sql, engine_quant)\n",
    "except Exception as e:\n",
    "    print(e)"
   ]
  },
  {
   "cell_type": "code",
   "execution_count": 20,
   "id": "7ec76141-beae-40dd-ad4c-b217fe5d918e",
   "metadata": {},
   "outputs": [
    {
     "data": {
      "text/html": [
       "<div>\n",
       "<style scoped>\n",
       "    .dataframe tbody tr th:only-of-type {\n",
       "        vertical-align: middle;\n",
       "    }\n",
       "\n",
       "    .dataframe tbody tr th {\n",
       "        vertical-align: top;\n",
       "    }\n",
       "\n",
       "    .dataframe thead th {\n",
       "        text-align: right;\n",
       "    }\n",
       "</style>\n",
       "<table border=\"1\" class=\"dataframe\">\n",
       "  <thead>\n",
       "    <tr style=\"text-align: right;\">\n",
       "      <th></th>\n",
       "      <th>company_name</th>\n",
       "      <th>user1</th>\n",
       "      <th>user2</th>\n",
       "    </tr>\n",
       "  </thead>\n",
       "  <tbody>\n",
       "    <tr>\n",
       "      <th>0</th>\n",
       "      <td>company1</td>\n",
       "      <td>4.84</td>\n",
       "      <td>1.483240</td>\n",
       "    </tr>\n",
       "    <tr>\n",
       "      <th>1</th>\n",
       "      <td>company2</td>\n",
       "      <td>19.36</td>\n",
       "      <td>2.097618</td>\n",
       "    </tr>\n",
       "    <tr>\n",
       "      <th>2</th>\n",
       "      <td>company3</td>\n",
       "      <td>43.56</td>\n",
       "      <td>2.569047</td>\n",
       "    </tr>\n",
       "  </tbody>\n",
       "</table>\n",
       "</div>"
      ],
      "text/plain": [
       "  company_name  user1     user2\n",
       "0     company1   4.84  1.483240\n",
       "1     company2  19.36  2.097618\n",
       "2     company3  43.56  2.569047"
      ]
     },
     "execution_count": 20,
     "metadata": {},
     "output_type": "execute_result"
    }
   ],
   "source": [
    "sql = f\"\"\"\n",
    "select company_name, user1, user2 from {userfacing_table}\n",
    "\"\"\"\n",
    "df = pd.read_sql(sql, engine_user)\n",
    "df"
   ]
  },
  {
   "cell_type": "code",
   "execution_count": 21,
   "id": "288f8c71-de9b-4191-b32d-5f2b9ced2ef7",
   "metadata": {},
   "outputs": [
    {
     "name": "stdout",
     "output_type": "stream",
     "text": [
      "TrinoUserError(type=USER_ERROR, name=PERMISSION_DENIED, message=\"Access Denied: Cannot select from table osc_datacommons_dev.demo.demo_dv_userfacing\", query_id=20211130_001810_00052_8n8pw)\n"
     ]
    }
   ],
   "source": [
    "try:\n",
    "    sql = f\"\"\"\n",
    "        select dev1 from {userfacing_table}\n",
    "    \"\"\"\n",
    "    df = pd.read_sql(sql, engine_user)\n",
    "except Exception as e:\n",
    "    print(e)"
   ]
  },
  {
   "cell_type": "code",
   "execution_count": 22,
   "id": "14382150-170c-4cef-ae62-73cda8dd5e27",
   "metadata": {},
   "outputs": [
    {
     "name": "stdout",
     "output_type": "stream",
     "text": [
      "TrinoUserError(type=USER_ERROR, name=PERMISSION_DENIED, message=\"Access Denied: Cannot select from table osc_datacommons_dev.demo.demo_dv_userfacing\", query_id=20211130_001810_00053_8n8pw)\n"
     ]
    }
   ],
   "source": [
    "try:\n",
    "    sql = f\"\"\"\n",
    "        select  quant1 from {userfacing_table}\n",
    "    \"\"\"\n",
    "    df = pd.read_sql(sql, engine_user)\n",
    "except Exception as e:\n",
    "    print(e)"
   ]
  },
  {
   "cell_type": "code",
   "execution_count": null,
   "id": "3932468b-b7ee-4df1-a4aa-69299a1ca48f",
   "metadata": {},
   "outputs": [],
   "source": []
  }
 ],
 "metadata": {
  "kernelspec": {
   "display_name": "Python 3",
   "language": "python",
   "name": "python3"
  },
  "language_info": {
   "codemirror_mode": {
    "name": "ipython",
    "version": 3
   },
   "file_extension": ".py",
   "mimetype": "text/x-python",
   "name": "python",
   "nbconvert_exporter": "python",
   "pygments_lexer": "ipython3",
   "version": "3.8.3"
  }
 },
 "nbformat": 4,
 "nbformat_minor": 5
}
