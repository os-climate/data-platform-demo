{
 "cells": [
  {
   "cell_type": "markdown",
   "id": "ab2029b6-0226-4992-b729-fae1b231ec97",
   "metadata": {},
   "source": [
    "Run these in a cell if you need to install onto your nb env\n",
    "```\n",
    "%%capture pipoutput\n",
    "%pip install boto3 python-dotenv\n",
    "%pip install trino sqlalchemy sqlalchemy-trino\n",
    "%pip install pandas pyarrow fastparquet\n",
    "%pip install anytree\n",
    "%pip install osc-ingest-tools\n",
    "```"
   ]
  },
  {
   "cell_type": "code",
   "execution_count": 1,
   "id": "8d4846c9-f326-4809-a3e5-357b8cdf706f",
   "metadata": {},
   "outputs": [],
   "source": [
    "import osc_ingest_trino as osc\n",
    "osc.load_credentials_dotenv()\n",
    "bucket = osc.attach_s3_bucket('S3_DEV')\n",
    "engine_dev = osc.attach_trino_engine('TRINO_OSCU1')\n",
    "engine_quant = osc.attach_trino_engine('TRINO_OSCU2')\n",
    "engine_user = osc.attach_trino_engine('TRINO_OSCU3')"
   ]
  },
  {
   "cell_type": "code",
   "execution_count": 2,
   "id": "ea7d60c4-23b5-4a03-abb0-8aef75c91bda",
   "metadata": {},
   "outputs": [
    {
     "name": "stdout",
     "output_type": "stream",
     "text": [
      "os-climate-user1\n",
      "os-climate-user2\n",
      "os-climate-user3\n"
     ]
    }
   ],
   "source": [
    "import os\n",
    "print(os.environ['TRINO_OSCU1_USER'])\n",
    "print(os.environ['TRINO_OSCU2_USER'])\n",
    "print(os.environ['TRINO_OSCU3_USER'])"
   ]
  },
  {
   "cell_type": "code",
   "execution_count": 3,
   "id": "023977be-8cdd-408f-ab15-2e87960d7ea3",
   "metadata": {},
   "outputs": [
    {
     "name": "stdout",
     "output_type": "stream",
     "text": [
      "<class 'pandas.core.frame.DataFrame'>\n",
      "RangeIndex: 3 entries, 0 to 2\n",
      "Data columns (total 2 columns):\n",
      " #   Column        Non-Null Count  Dtype  \n",
      "---  ------        --------------  -----  \n",
      " 0   company_name  3 non-null      string \n",
      " 1   dev1          3 non-null      Float64\n",
      "dtypes: Float64(1), string(1)\n",
      "memory usage: 179.0 bytes\n",
      "None\n"
     ]
    },
    {
     "data": {
      "text/html": [
       "<div>\n",
       "<style scoped>\n",
       "    .dataframe tbody tr th:only-of-type {\n",
       "        vertical-align: middle;\n",
       "    }\n",
       "\n",
       "    .dataframe tbody tr th {\n",
       "        vertical-align: top;\n",
       "    }\n",
       "\n",
       "    .dataframe thead th {\n",
       "        text-align: right;\n",
       "    }\n",
       "</style>\n",
       "<table border=\"1\" class=\"dataframe\">\n",
       "  <thead>\n",
       "    <tr style=\"text-align: right;\">\n",
       "      <th></th>\n",
       "      <th>company_name</th>\n",
       "      <th>dev1</th>\n",
       "    </tr>\n",
       "  </thead>\n",
       "  <tbody>\n",
       "    <tr>\n",
       "      <th>0</th>\n",
       "      <td>company1</td>\n",
       "      <td>1.1</td>\n",
       "    </tr>\n",
       "    <tr>\n",
       "      <th>1</th>\n",
       "      <td>company2</td>\n",
       "      <td>2.2</td>\n",
       "    </tr>\n",
       "    <tr>\n",
       "      <th>2</th>\n",
       "      <td>company3</td>\n",
       "      <td>3.3</td>\n",
       "    </tr>\n",
       "  </tbody>\n",
       "</table>\n",
       "</div>"
      ],
      "text/plain": [
       "  company_name  dev1\n",
       "0     company1   1.1\n",
       "1     company2   2.2\n",
       "2     company3   3.3"
      ]
     },
     "execution_count": 3,
     "metadata": {},
     "output_type": "execute_result"
    }
   ],
   "source": [
    "import pandas as pd\n",
    "data = [['company1',1.1], ['company2', 2.2], ['company3', 3.3]]\n",
    "dfbe = pd.DataFrame(data, columns = ['company_name','dev1'])\n",
    "dfbe = dfbe.convert_dtypes()\n",
    "print(dfbe.info(verbose=True))\n",
    "dfbe"
   ]
  },
  {
   "cell_type": "code",
   "execution_count": 4,
   "id": "9a7153d1-52e3-4a63-9030-fbf72fb0eaab",
   "metadata": {},
   "outputs": [],
   "source": [
    "ingest_catalog = 'osc_datacommons_dev'\n",
    "ingest_schema = 'demo'\n",
    "ingest_table = 'demo_dv_backend'"
   ]
  },
  {
   "cell_type": "code",
   "execution_count": 5,
   "id": "67aeb94f-fefd-487d-9ca5-d7ca5a34f0c3",
   "metadata": {},
   "outputs": [
    {
     "name": "stdout",
     "output_type": "stream",
     "text": [
      "[{'ResponseMetadata': {'RequestId': 'DJ6KVQVBY5M72DQH', 'HostId': 'a++lyCY0mSCsvf33bst8a0zh/wgiuNNyA1xB9hgK7eHQOFVePxFqLh7SC1okFXzqD1nG4p7Q+iU=', 'HTTPStatusCode': 200, 'HTTPHeaders': {'x-amz-id-2': 'a++lyCY0mSCsvf33bst8a0zh/wgiuNNyA1xB9hgK7eHQOFVePxFqLh7SC1okFXzqD1nG4p7Q+iU=', 'x-amz-request-id': 'DJ6KVQVBY5M72DQH', 'date': 'Wed, 08 Dec 2021 23:23:58 GMT', 'content-type': 'application/xml', 'transfer-encoding': 'chunked', 'server': 'AmazonS3', 'connection': 'close'}, 'RetryAttempts': 0}, 'Deleted': [{'Key': 'trino/demo/demo_dv_backend/c9682d24c7ab44e5acfdd9c4522f3d9f.parquet'}]}]\n",
      "/tmp/a42dd7191cfd4714aa9c1e867c1cf036.parquet  -->  trino/demo/demo_dv_backend/a42dd7191cfd4714aa9c1e867c1cf036.parquet\n",
      "create table if not exists osc_datacommons_dev.demo.demo_dv_backend (\n",
      "    company_name varchar,\n",
      "    dev1 double\n",
      ") with (\n",
      "    format = 'parquet',\n",
      "    external_location = 's3a://ocp-odh-os-demo-s3/trino/demo/demo_dv_backend/'\n",
      ")\n",
      "[(True,)]\n"
     ]
    }
   ],
   "source": [
    "osc.drop_unmanaged_table(ingest_catalog, ingest_schema, ingest_table, engine_dev, bucket, verbose=True)\n",
    "osc.ingest_unmanaged_parquet(dfbe, ingest_schema, ingest_table, bucket,\n",
    "                             verbose=True)\n",
    "sql = osc.unmanaged_parquet_tabledef(dfbe, ingest_catalog, ingest_schema, ingest_table, bucket,\n",
    "                                    verbose = True)\n",
    "qres = engine_dev.execute(sql)\n",
    "print(qres.fetchall())"
   ]
  },
  {
   "cell_type": "code",
   "execution_count": 6,
   "id": "2569728a-a8a5-42b0-8504-07f1fbd9f351",
   "metadata": {},
   "outputs": [
    {
     "data": {
      "text/html": [
       "<div>\n",
       "<style scoped>\n",
       "    .dataframe tbody tr th:only-of-type {\n",
       "        vertical-align: middle;\n",
       "    }\n",
       "\n",
       "    .dataframe tbody tr th {\n",
       "        vertical-align: top;\n",
       "    }\n",
       "\n",
       "    .dataframe thead th {\n",
       "        text-align: right;\n",
       "    }\n",
       "</style>\n",
       "<table border=\"1\" class=\"dataframe\">\n",
       "  <thead>\n",
       "    <tr style=\"text-align: right;\">\n",
       "      <th></th>\n",
       "      <th>company_name</th>\n",
       "      <th>dev1</th>\n",
       "    </tr>\n",
       "  </thead>\n",
       "  <tbody>\n",
       "    <tr>\n",
       "      <th>0</th>\n",
       "      <td>company1</td>\n",
       "      <td>1.1</td>\n",
       "    </tr>\n",
       "    <tr>\n",
       "      <th>1</th>\n",
       "      <td>company2</td>\n",
       "      <td>2.2</td>\n",
       "    </tr>\n",
       "    <tr>\n",
       "      <th>2</th>\n",
       "      <td>company3</td>\n",
       "      <td>3.3</td>\n",
       "    </tr>\n",
       "  </tbody>\n",
       "</table>\n",
       "</div>"
      ],
      "text/plain": [
       "  company_name  dev1\n",
       "0     company1   1.1\n",
       "1     company2   2.2\n",
       "2     company3   3.3"
      ]
     },
     "execution_count": 6,
     "metadata": {},
     "output_type": "execute_result"
    }
   ],
   "source": [
    "sql = f\"\"\"\n",
    "select * from {ingest_catalog}.{ingest_schema}.{ingest_table}\n",
    "\"\"\"\n",
    "dfuf = pd.read_sql(sql, engine_dev)\n",
    "dfuf"
   ]
  },
  {
   "cell_type": "code",
   "execution_count": 7,
   "id": "d8f72ca8-5c8b-4eeb-a27b-ae1b5abcadeb",
   "metadata": {},
   "outputs": [
    {
     "data": {
      "text/plain": [
       "['public', 'demo_dv_licensed', 'demo_dv_eval']"
      ]
     },
     "execution_count": 7,
     "metadata": {},
     "output_type": "execute_result"
    }
   ],
   "source": [
    "nrows = dfuf.shape[0]\n",
    "npublic = max(1, int(nrows * 0.1))\n",
    "neval = max(1, int(nrows * 0.1))\n",
    "nlicensed = nrows - npublic - neval\n",
    "assert(nlicensed > 0)\n",
    "accesscol = ['public']*npublic\n",
    "accesscol.extend(['demo_dv_licensed']*nlicensed)\n",
    "accesscol.extend(['demo_dv_eval']*neval)\n",
    "accesscol"
   ]
  },
  {
   "cell_type": "code",
   "execution_count": 8,
   "id": "fdb094aa-c79b-4dba-9043-739296dd3e0f",
   "metadata": {},
   "outputs": [
    {
     "data": {
      "text/html": [
       "<div>\n",
       "<style scoped>\n",
       "    .dataframe tbody tr th:only-of-type {\n",
       "        vertical-align: middle;\n",
       "    }\n",
       "\n",
       "    .dataframe tbody tr th {\n",
       "        vertical-align: top;\n",
       "    }\n",
       "\n",
       "    .dataframe thead th {\n",
       "        text-align: right;\n",
       "    }\n",
       "</style>\n",
       "<table border=\"1\" class=\"dataframe\">\n",
       "  <thead>\n",
       "    <tr style=\"text-align: right;\">\n",
       "      <th></th>\n",
       "      <th>company_name</th>\n",
       "      <th>dev1</th>\n",
       "      <th>quant1</th>\n",
       "      <th>user1</th>\n",
       "      <th>user2</th>\n",
       "      <th>access</th>\n",
       "    </tr>\n",
       "  </thead>\n",
       "  <tbody>\n",
       "    <tr>\n",
       "      <th>0</th>\n",
       "      <td>company1</td>\n",
       "      <td>1.1</td>\n",
       "      <td>2.2</td>\n",
       "      <td>4.84</td>\n",
       "      <td>1.48324</td>\n",
       "      <td>public</td>\n",
       "    </tr>\n",
       "    <tr>\n",
       "      <th>1</th>\n",
       "      <td>company2</td>\n",
       "      <td>2.2</td>\n",
       "      <td>4.4</td>\n",
       "      <td>19.36</td>\n",
       "      <td>2.097618</td>\n",
       "      <td>demo_dv_licensed</td>\n",
       "    </tr>\n",
       "    <tr>\n",
       "      <th>2</th>\n",
       "      <td>company3</td>\n",
       "      <td>3.3</td>\n",
       "      <td>6.6</td>\n",
       "      <td>43.56</td>\n",
       "      <td>2.569047</td>\n",
       "      <td>demo_dv_eval</td>\n",
       "    </tr>\n",
       "  </tbody>\n",
       "</table>\n",
       "</div>"
      ],
      "text/plain": [
       "  company_name  dev1  quant1  user1     user2            access\n",
       "0     company1   1.1     2.2   4.84   1.48324            public\n",
       "1     company2   2.2     4.4  19.36  2.097618  demo_dv_licensed\n",
       "2     company3   3.3     6.6  43.56  2.569047      demo_dv_eval"
      ]
     },
     "execution_count": 8,
     "metadata": {},
     "output_type": "execute_result"
    }
   ],
   "source": [
    "import math\n",
    "dfuf['quant1'] = dfuf['dev1'].map(lambda x: 2 * x)\n",
    "dfuf['user1'] = dfuf['quant1'].map(lambda x: x * x)\n",
    "dfuf['user2'] = dfuf['quant1'].map(lambda x: math.sqrt(x))\n",
    "dfuf['access'] = accesscol\n",
    "dfuf = dfuf.convert_dtypes()\n",
    "dfuf"
   ]
  },
  {
   "cell_type": "code",
   "execution_count": 9,
   "id": "99ed14a6-d58c-4e1c-ae38-c682cfbd7186",
   "metadata": {},
   "outputs": [],
   "source": [
    "ingest_table = 'demo_dv_userfacing'"
   ]
  },
  {
   "cell_type": "code",
   "execution_count": 10,
   "id": "d5dc2d48-dcbb-4db9-83a3-21e869d5b821",
   "metadata": {},
   "outputs": [
    {
     "name": "stdout",
     "output_type": "stream",
     "text": [
      "[{'ResponseMetadata': {'RequestId': 'F7YM2SE2V1V0ADCM', 'HostId': '228gynI0yNv7nvEFt4xjQhlNNRIl43LavijISbQW5BUmu5SDmj9YVLuupyBM6EsjbT15UwWxK6Y=', 'HTTPStatusCode': 200, 'HTTPHeaders': {'x-amz-id-2': '228gynI0yNv7nvEFt4xjQhlNNRIl43LavijISbQW5BUmu5SDmj9YVLuupyBM6EsjbT15UwWxK6Y=', 'x-amz-request-id': 'F7YM2SE2V1V0ADCM', 'date': 'Wed, 08 Dec 2021 23:24:00 GMT', 'content-type': 'application/xml', 'transfer-encoding': 'chunked', 'server': 'AmazonS3', 'connection': 'close'}, 'RetryAttempts': 0}, 'Deleted': [{'Key': 'trino/demo/demo_dv_userfacing/a9ac28b40ab446ea978e4e8423c0750a.parquet'}]}]\n",
      "/tmp/9f0c0b8ee8c847dcb6b10b02ee38a961.parquet  -->  trino/demo/demo_dv_userfacing/9f0c0b8ee8c847dcb6b10b02ee38a961.parquet\n",
      "create table if not exists osc_datacommons_dev.demo.demo_dv_userfacing (\n",
      "    company_name varchar,\n",
      "    dev1 double,\n",
      "    quant1 double,\n",
      "    user1 double,\n",
      "    user2 double,\n",
      "    access varchar\n",
      ") with (\n",
      "    format = 'parquet',\n",
      "    external_location = 's3a://ocp-odh-os-demo-s3/trino/demo/demo_dv_userfacing/'\n",
      ")\n",
      "[(True,)]\n"
     ]
    }
   ],
   "source": [
    "osc.drop_unmanaged_table(ingest_catalog, ingest_schema, ingest_table, engine_dev, bucket, verbose=True)\n",
    "osc.ingest_unmanaged_parquet(dfuf, ingest_schema, ingest_table, bucket,\n",
    "                             verbose=True)\n",
    "sql = osc.unmanaged_parquet_tabledef(dfuf, ingest_catalog, ingest_schema, ingest_table, bucket,\n",
    "                                    verbose = True)\n",
    "qres = engine_dev.execute(sql)\n",
    "print(qres.fetchall())"
   ]
  },
  {
   "cell_type": "code",
   "execution_count": 11,
   "id": "d74c5a14-c06a-4290-88f2-4c8e3f9496e4",
   "metadata": {},
   "outputs": [],
   "source": [
    "userfacing_table = f'{ingest_catalog}.{ingest_schema}.{ingest_table}'"
   ]
  },
  {
   "cell_type": "code",
   "execution_count": 12,
   "id": "c42569ca-6c77-4d69-8164-6c0885dd096b",
   "metadata": {},
   "outputs": [
    {
     "data": {
      "text/html": [
       "<div>\n",
       "<style scoped>\n",
       "    .dataframe tbody tr th:only-of-type {\n",
       "        vertical-align: middle;\n",
       "    }\n",
       "\n",
       "    .dataframe tbody tr th {\n",
       "        vertical-align: top;\n",
       "    }\n",
       "\n",
       "    .dataframe thead th {\n",
       "        text-align: right;\n",
       "    }\n",
       "</style>\n",
       "<table border=\"1\" class=\"dataframe\">\n",
       "  <thead>\n",
       "    <tr style=\"text-align: right;\">\n",
       "      <th></th>\n",
       "      <th>company_name</th>\n",
       "      <th>dev1</th>\n",
       "      <th>quant1</th>\n",
       "      <th>user1</th>\n",
       "      <th>user2</th>\n",
       "      <th>access</th>\n",
       "    </tr>\n",
       "  </thead>\n",
       "  <tbody>\n",
       "    <tr>\n",
       "      <th>0</th>\n",
       "      <td>company1</td>\n",
       "      <td>1.1</td>\n",
       "      <td>2.2</td>\n",
       "      <td>4.84</td>\n",
       "      <td>1.483240</td>\n",
       "      <td>public</td>\n",
       "    </tr>\n",
       "    <tr>\n",
       "      <th>1</th>\n",
       "      <td>company2</td>\n",
       "      <td>2.2</td>\n",
       "      <td>4.4</td>\n",
       "      <td>19.36</td>\n",
       "      <td>2.097618</td>\n",
       "      <td>demo_dv_licensed</td>\n",
       "    </tr>\n",
       "    <tr>\n",
       "      <th>2</th>\n",
       "      <td>company3</td>\n",
       "      <td>3.3</td>\n",
       "      <td>6.6</td>\n",
       "      <td>43.56</td>\n",
       "      <td>2.569047</td>\n",
       "      <td>demo_dv_eval</td>\n",
       "    </tr>\n",
       "  </tbody>\n",
       "</table>\n",
       "</div>"
      ],
      "text/plain": [
       "  company_name  dev1  quant1  user1     user2            access\n",
       "0     company1   1.1     2.2   4.84  1.483240            public\n",
       "1     company2   2.2     4.4  19.36  2.097618  demo_dv_licensed\n",
       "2     company3   3.3     6.6  43.56  2.569047      demo_dv_eval"
      ]
     },
     "execution_count": 12,
     "metadata": {},
     "output_type": "execute_result"
    }
   ],
   "source": [
    "sql = f\"\"\"\n",
    "select * from {userfacing_table}\n",
    "\"\"\"\n",
    "df = pd.read_sql(sql, engine_dev)\n",
    "df"
   ]
  },
  {
   "cell_type": "code",
   "execution_count": 13,
   "id": "b7d8a934-21a5-4596-9707-e9a340ac6292",
   "metadata": {},
   "outputs": [
    {
     "data": {
      "text/html": [
       "<div>\n",
       "<style scoped>\n",
       "    .dataframe tbody tr th:only-of-type {\n",
       "        vertical-align: middle;\n",
       "    }\n",
       "\n",
       "    .dataframe tbody tr th {\n",
       "        vertical-align: top;\n",
       "    }\n",
       "\n",
       "    .dataframe thead th {\n",
       "        text-align: right;\n",
       "    }\n",
       "</style>\n",
       "<table border=\"1\" class=\"dataframe\">\n",
       "  <thead>\n",
       "    <tr style=\"text-align: right;\">\n",
       "      <th></th>\n",
       "      <th>access</th>\n",
       "      <th>company_name</th>\n",
       "      <th>quant1</th>\n",
       "      <th>user1</th>\n",
       "      <th>user2</th>\n",
       "    </tr>\n",
       "  </thead>\n",
       "  <tbody>\n",
       "    <tr>\n",
       "      <th>0</th>\n",
       "      <td>public</td>\n",
       "      <td>company1</td>\n",
       "      <td>2.2</td>\n",
       "      <td>4.84</td>\n",
       "      <td>1.483240</td>\n",
       "    </tr>\n",
       "    <tr>\n",
       "      <th>1</th>\n",
       "      <td>demo_dv_eval</td>\n",
       "      <td>company3</td>\n",
       "      <td>6.6</td>\n",
       "      <td>43.56</td>\n",
       "      <td>2.569047</td>\n",
       "    </tr>\n",
       "  </tbody>\n",
       "</table>\n",
       "</div>"
      ],
      "text/plain": [
       "         access company_name  quant1  user1     user2\n",
       "0        public     company1     2.2   4.84  1.483240\n",
       "1  demo_dv_eval     company3     6.6  43.56  2.569047"
      ]
     },
     "execution_count": 13,
     "metadata": {},
     "output_type": "execute_result"
    }
   ],
   "source": [
    "sql = f\"\"\"\n",
    "select access, company_name, quant1, user1, user2 from {userfacing_table}\n",
    "\"\"\"\n",
    "df = pd.read_sql(sql, engine_quant)\n",
    "df"
   ]
  },
  {
   "cell_type": "code",
   "execution_count": 14,
   "id": "0d451bba-eb5c-47db-af5b-f2009c20e2bb",
   "metadata": {},
   "outputs": [
    {
     "name": "stdout",
     "output_type": "stream",
     "text": [
      "TrinoUserError(type=USER_ERROR, name=PERMISSION_DENIED, message=\"Access Denied: Cannot select from table osc_datacommons_dev.demo.demo_dv_userfacing\", query_id=20211208_232400_00545_kx99a)\n"
     ]
    }
   ],
   "source": [
    "try:\n",
    "    sql = f\"\"\"\n",
    "        select dev1 from {userfacing_table}\n",
    "    \"\"\"\n",
    "    df = pd.read_sql(sql, engine_quant)\n",
    "except Exception as e:\n",
    "    print(e)"
   ]
  },
  {
   "cell_type": "code",
   "execution_count": 15,
   "id": "7ec76141-beae-40dd-ad4c-b217fe5d918e",
   "metadata": {},
   "outputs": [
    {
     "data": {
      "text/html": [
       "<div>\n",
       "<style scoped>\n",
       "    .dataframe tbody tr th:only-of-type {\n",
       "        vertical-align: middle;\n",
       "    }\n",
       "\n",
       "    .dataframe tbody tr th {\n",
       "        vertical-align: top;\n",
       "    }\n",
       "\n",
       "    .dataframe thead th {\n",
       "        text-align: right;\n",
       "    }\n",
       "</style>\n",
       "<table border=\"1\" class=\"dataframe\">\n",
       "  <thead>\n",
       "    <tr style=\"text-align: right;\">\n",
       "      <th></th>\n",
       "      <th>access</th>\n",
       "      <th>company_name</th>\n",
       "      <th>user1</th>\n",
       "      <th>user2</th>\n",
       "    </tr>\n",
       "  </thead>\n",
       "  <tbody>\n",
       "    <tr>\n",
       "      <th>0</th>\n",
       "      <td>public</td>\n",
       "      <td>company1</td>\n",
       "      <td>4.84</td>\n",
       "      <td>1.48324</td>\n",
       "    </tr>\n",
       "  </tbody>\n",
       "</table>\n",
       "</div>"
      ],
      "text/plain": [
       "   access company_name  user1    user2\n",
       "0  public     company1   4.84  1.48324"
      ]
     },
     "execution_count": 15,
     "metadata": {},
     "output_type": "execute_result"
    }
   ],
   "source": [
    "sql = f\"\"\"\n",
    "select access, company_name, user1, user2 from {userfacing_table}\n",
    "\"\"\"\n",
    "df = pd.read_sql(sql, engine_user)\n",
    "df"
   ]
  },
  {
   "cell_type": "code",
   "execution_count": 16,
   "id": "288f8c71-de9b-4191-b32d-5f2b9ced2ef7",
   "metadata": {},
   "outputs": [
    {
     "name": "stdout",
     "output_type": "stream",
     "text": [
      "TrinoUserError(type=USER_ERROR, name=PERMISSION_DENIED, message=\"Access Denied: Cannot select from table osc_datacommons_dev.demo.demo_dv_userfacing\", query_id=20211208_232400_00547_kx99a)\n"
     ]
    }
   ],
   "source": [
    "try:\n",
    "    sql = f\"\"\"\n",
    "        select dev1 from {userfacing_table}\n",
    "    \"\"\"\n",
    "    df = pd.read_sql(sql, engine_user)\n",
    "except Exception as e:\n",
    "    print(e)"
   ]
  },
  {
   "cell_type": "code",
   "execution_count": 17,
   "id": "14382150-170c-4cef-ae62-73cda8dd5e27",
   "metadata": {},
   "outputs": [
    {
     "name": "stdout",
     "output_type": "stream",
     "text": [
      "TrinoUserError(type=USER_ERROR, name=PERMISSION_DENIED, message=\"Access Denied: Cannot select from table osc_datacommons_dev.demo.demo_dv_userfacing\", query_id=20211208_232400_00548_kx99a)\n"
     ]
    }
   ],
   "source": [
    "try:\n",
    "    sql = f\"\"\"\n",
    "        select  quant1 from {userfacing_table}\n",
    "    \"\"\"\n",
    "    df = pd.read_sql(sql, engine_user)\n",
    "except Exception as e:\n",
    "    print(e)"
   ]
  },
  {
   "cell_type": "code",
   "execution_count": 18,
   "id": "3932468b-b7ee-4df1-a4aa-69299a1ca48f",
   "metadata": {},
   "outputs": [
    {
     "name": "stdout",
     "output_type": "stream",
     "text": [
      "[{'ResponseMetadata': {'RequestId': 'XSGG7D9FTZD8JG4W', 'HostId': 'Sfa1NrrYiNVTQcdQ9MWUWA6h9K43qGqZgO+41qaVA83HAEnyQBIDC0o18YRdv/YBSH9Jdtik8ss=', 'HTTPStatusCode': 200, 'HTTPHeaders': {'x-amz-id-2': 'Sfa1NrrYiNVTQcdQ9MWUWA6h9K43qGqZgO+41qaVA83HAEnyQBIDC0o18YRdv/YBSH9Jdtik8ss=', 'x-amz-request-id': 'XSGG7D9FTZD8JG4W', 'date': 'Wed, 08 Dec 2021 23:24:02 GMT', 'content-type': 'application/xml', 'transfer-encoding': 'chunked', 'server': 'AmazonS3', 'connection': 'close'}, 'RetryAttempts': 0}, 'Deleted': [{'Key': 'trino/demo/demo_dv_backend/a42dd7191cfd4714aa9c1e867c1cf036.parquet'}]}]\n",
      "[{'ResponseMetadata': {'RequestId': 'XSGQ0CR5342G8WZG', 'HostId': '1h3Qq2gEGkbNBoqlrUrb7SgnVBmlCXCehCN1qM9RD07/yJoFo6Upu7SOVb2SnhaY4zh+dHtUrUE=', 'HTTPStatusCode': 200, 'HTTPHeaders': {'x-amz-id-2': '1h3Qq2gEGkbNBoqlrUrb7SgnVBmlCXCehCN1qM9RD07/yJoFo6Upu7SOVb2SnhaY4zh+dHtUrUE=', 'x-amz-request-id': 'XSGQ0CR5342G8WZG', 'date': 'Wed, 08 Dec 2021 23:24:02 GMT', 'content-type': 'application/xml', 'transfer-encoding': 'chunked', 'server': 'AmazonS3', 'connection': 'close'}, 'RetryAttempts': 0}, 'Deleted': [{'Key': 'trino/demo/demo_dv_userfacing/9f0c0b8ee8c847dcb6b10b02ee38a961.parquet'}]}]\n"
     ]
    },
    {
     "data": {
      "text/plain": [
       "<sqlalchemy.engine.cursor.LegacyCursorResult at 0x7f812c8b0160>"
      ]
     },
     "execution_count": 18,
     "metadata": {},
     "output_type": "execute_result"
    }
   ],
   "source": [
    "# going to start doing table drop at the end, which\n",
    "# should increase odds of other being able to run demos\n",
    "osc.drop_unmanaged_table(ingest_catalog, ingest_schema, 'demo_dv_backend', engine_dev, bucket, verbose=True)\n",
    "osc.drop_unmanaged_table(ingest_catalog, ingest_schema, 'demo_dv_userfacing', engine_dev, bucket, verbose=True)"
   ]
  }
 ],
 "metadata": {
  "kernelspec": {
   "display_name": "Python 3",
   "language": "python",
   "name": "python3"
  },
  "language_info": {
   "codemirror_mode": {
    "name": "ipython",
    "version": 3
   },
   "file_extension": ".py",
   "mimetype": "text/x-python",
   "name": "python",
   "nbconvert_exporter": "python",
   "pygments_lexer": "ipython3",
   "version": "3.8.3"
  }
 },
 "nbformat": 4,
 "nbformat_minor": 5
}
