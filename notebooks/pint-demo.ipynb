{
 "cells": [
  {
   "cell_type": "markdown",
   "id": "ee88f3bb-af73-4e72-887d-7e85c70ebf13",
   "metadata": {},
   "source": [
    "Demonstrate writing and reading dataframes containing PINT data (and highlight limitations)\n",
    "\n",
    "Next step: add uncertainties"
   ]
  },
  {
   "cell_type": "code",
   "execution_count": 1,
   "id": "bba35062-ffa7-44a0-bd5d-f36ac7e6ef23",
   "metadata": {},
   "outputs": [],
   "source": [
    "import os\n",
    "import pathlib\n",
    "from dotenv import load_dotenv\n",
    "\n",
    "# Load some standard environment variables from a dot-env file, if it exists.\n",
    "# If no such file can be found, does not fail, and so allows these environment vars to\n",
    "# be populated in some other way\n",
    "dotenv_dir = os.environ.get('CREDENTIAL_DOTENV_DIR', os.environ.get('PWD', '/opt/app-root/src'))\n",
    "dotenv_path = pathlib.Path(dotenv_dir) / 'credentials.env'\n",
    "if os.path.exists(dotenv_path):\n",
    "    load_dotenv(dotenv_path=dotenv_path,override=True)\n",
    "\n",
    "import osc_ingest_trino as osc\n",
    "\n",
    "import numpy as np\n",
    "import pandas as pd\n",
    "\n",
    "import pint\n",
    "import pint_pandas\n",
    "import openscm_units\n",
    "\n",
    "from pint import set_application_registry\n",
    "from pint_pandas import PintArray, PintType\n",
    "from openscm_units import unit_registry\n",
    "PintType.ureg = unit_registry\n",
    "ureg = unit_registry\n",
    "set_application_registry(ureg)\n",
    "Q_ = ureg.Quantity\n",
    "PA_ = PintArray\n",
    "\n",
    "ureg.define(\"CO2e = CO2 = CO2eq = CO2_eq\")\n",
    "ureg.define(\"Fe_ton = [produced_ton]\")\n",
    "\n",
    "import ast"
   ]
  },
  {
   "cell_type": "markdown",
   "id": "3fdb1a3e-be1e-4e37-9ddc-f24bed3358a5",
   "metadata": {},
   "source": [
    "### Connect to Trino with sqlalchemy"
   ]
  },
  {
   "cell_type": "code",
   "execution_count": 2,
   "id": "fb3c2400-0604-49c5-8289-7fd1d8e9eefc",
   "metadata": {},
   "outputs": [],
   "source": [
    "import trino\n",
    "from sqlalchemy.engine import create_engine\n",
    "\n",
    "ingest_catalog = 'osc_datacommons_dev'\n",
    "ingest_schema = 'sandbox'\n",
    "\n",
    "sqlstring = 'trino://{user}@{host}:{port}/'.format(\n",
    "    user = os.environ['TRINO_USER'],\n",
    "    host = os.environ['TRINO_HOST'],\n",
    "    port = os.environ['TRINO_PORT']\n",
    ")\n",
    "sqlargs = {\n",
    "    'auth': trino.auth.JWTAuthentication(os.environ['TRINO_PASSWD']),\n",
    "    'http_scheme': 'https',\n",
    "    'catalog': ingest_catalog,\n",
    "    'schema': ingest_schema,\n",
    "}\n",
    "engine = create_engine(sqlstring, connect_args = sqlargs)\n",
    "connection = engine.connect()"
   ]
  },
  {
   "cell_type": "markdown",
   "id": "35706a5c-6e2d-48c9-99dc-8bc06e9a1672",
   "metadata": {},
   "source": [
    "Create simple dataframe with pint units (megametric tons co2) and numeric data (year expressed as a number).\n",
    "\n",
    "Note that dates can neither be *datetime* nor *string*, because neither types are understood by Pint."
   ]
  },
  {
   "cell_type": "code",
   "execution_count": 3,
   "id": "26c2e036-1e37-41a3-8d10-2b072c8247dd",
   "metadata": {},
   "outputs": [],
   "source": [
    "co2_df = pd.DataFrame({'co2': pd.Series([Q_(1.0, 'Mt CO2'), Q_(0.9, 'Mt CO2'), Q_(0.8, 'Mt CO2')],\n",
    "                                        dtype='pint[Mt CO2]'),\n",
    "                       'year': pd.Series([2016.0, 2017.0, 2018.0],\n",
    "                                         dtype='pint[dimensionless]')})"
   ]
  },
  {
   "cell_type": "markdown",
   "id": "69ad0e71-cd1d-4235-bf94-5d2ce36e31d5",
   "metadata": {},
   "source": [
    "Write the dataframe to a Trino table.\n",
    "\n",
    "The *pint.dequantify* method converts Pint columns to tuples of column names and Pint types.  But in so doing, it also downcases the CO2 units, ***which are then no longer correctly recognized in the unit registry***.  This problem is not unique to CO2: M and m mean different things to Pint, as do G and g, and several other SI abbreviations."
   ]
  },
  {
   "cell_type": "code",
   "execution_count": 4,
   "id": "088e90e5-84d5-4317-93d6-c5c7f2f4e3d4",
   "metadata": {},
   "outputs": [
    {
     "name": "stdout",
     "output_type": "stream",
     "text": [
      "constructed fully qualified table name as: \"sandbox.pint_co2\"\n",
      "inserting 3 records\n",
      "  (1.0, 2016.0)\n",
      "  (0.9, 2017.0)\n",
      "  (0.8, 2018.0)\n",
      "batch insert result: [(3,)]\n",
      "optimizing table files\n",
      "execute optimize: []\n"
     ]
    }
   ],
   "source": [
    "ingest_table = \"pint_co2\"\n",
    "\n",
    "engine.execute(f\"drop table if exists {ingest_schema}.{ingest_table}\")\n",
    "co2_df.pint.dequantify().to_sql(ingest_table, con=engine, schema=ingest_schema, if_exists='append', index=False,\n",
    "              method=osc.TrinoBatchInsert(batch_size = 100, verbose = True, optimize = True))"
   ]
  },
  {
   "cell_type": "code",
   "execution_count": 5,
   "id": "362e99c4-5a93-4957-8ff9-14c240c03c42",
   "metadata": {},
   "outputs": [
    {
     "data": {
      "text/plain": [
       "[(\"('co2', 'co2 * megametric_ton')\", 'double', '', ''),\n",
       " (\"('year', 'dimensionless')\", 'double', '', '')]"
      ]
     },
     "execution_count": 5,
     "metadata": {},
     "output_type": "execute_result"
    }
   ],
   "source": [
    "engine.execute(\"describe sandbox.pint_co2\").fetchall()"
   ]
  },
  {
   "cell_type": "code",
   "execution_count": 6,
   "id": "e47f13cc-c7d8-4198-b0c6-d34d2d1ccd42",
   "metadata": {},
   "outputs": [
    {
     "data": {
      "text/plain": [
       "[(1.0, 2016.0), (0.9, 2017.0), (0.8, 2018.0)]"
      ]
     },
     "execution_count": 6,
     "metadata": {},
     "output_type": "execute_result"
    }
   ],
   "source": [
    "engine.execute(\"select * from sandbox.pint_co2\").fetchall()"
   ]
  },
  {
   "cell_type": "code",
   "execution_count": 7,
   "id": "40d2e2f9-d4c2-4811-bcaf-5f8ff26ee246",
   "metadata": {},
   "outputs": [],
   "source": [
    "new_df = pd.read_sql(f\"select * from {ingest_schema}.{ingest_table}\", con=engine)"
   ]
  },
  {
   "cell_type": "code",
   "execution_count": 8,
   "id": "c60e5ad6-3efc-4aa3-80c7-dca149091d42",
   "metadata": {},
   "outputs": [
    {
     "data": {
      "text/plain": [
       "Index(['('co2', 'co2 * megametric_ton')', '('year', 'dimensionless')'], dtype='object')"
      ]
     },
     "execution_count": 8,
     "metadata": {},
     "output_type": "execute_result"
    }
   ],
   "source": [
    "new_df.columns"
   ]
  },
  {
   "cell_type": "markdown",
   "id": "7436e7ca-5551-4e3c-b776-b7f3b9c001b5",
   "metadata": {},
   "source": [
    "To reconstruct the dataframe back into Pint quantities we can use, we need to use the specially constructed column names to reconstruct the proper column name and Pint datatype.  Is there an easier way?"
   ]
  },
  {
   "cell_type": "code",
   "execution_count": 9,
   "id": "1c862acd-10c3-4aac-9f85-89737a3bdbd1",
   "metadata": {},
   "outputs": [
    {
     "data": {
      "text/plain": [
       "co2     pint[CO2 * megametric_ton]\n",
       "year           pint[dimensionless]\n",
       "dtype: object"
      ]
     },
     "execution_count": 9,
     "metadata": {},
     "output_type": "execute_result"
    }
   ],
   "source": [
    "new_co2_df = pd.DataFrame({col:series.astype(f\"pint[{unit.replace('co2', 'CO2')}]\")\n",
    "                          for col, unit, series in zip(list(map(lambda x: ast.literal_eval(x)[0], new_df.T.apply(lambda x: x.index, axis=1).index.values)),\n",
    "                                                       list(map(lambda x: ast.literal_eval(x)[1], new_df.T.apply(lambda x: x.index, axis=1).index.values)),\n",
    "                                                       [v for v in new_df.to_dict(orient='series').values()])})\n",
    "new_co2_df.dtypes"
   ]
  },
  {
   "cell_type": "code",
   "execution_count": 10,
   "id": "aa8b2867-2ec7-495d-b5df-6328d7172982",
   "metadata": {},
   "outputs": [
    {
     "name": "stderr",
     "output_type": "stream",
     "text": [
      "/opt/app-root/lib64/python3.8/site-packages/pint_pandas/pint_array.py:648: UnitStrippedWarning: The unit of the quantity is stripped when downcasting to ndarray.\n",
      "  return np.array(qtys, dtype=\"object\", copy=copy)\n",
      "/opt/app-root/lib64/python3.8/site-packages/pint_pandas/pint_array.py:648: UnitStrippedWarning: The unit of the quantity is stripped when downcasting to ndarray.\n",
      "  return np.array(qtys, dtype=\"object\", copy=copy)\n"
     ]
    },
    {
     "data": {
      "text/html": [
       "<div>\n",
       "<style scoped>\n",
       "    .dataframe tbody tr th:only-of-type {\n",
       "        vertical-align: middle;\n",
       "    }\n",
       "\n",
       "    .dataframe tbody tr th {\n",
       "        vertical-align: top;\n",
       "    }\n",
       "\n",
       "    .dataframe thead th {\n",
       "        text-align: right;\n",
       "    }\n",
       "</style>\n",
       "<table border=\"1\" class=\"dataframe\">\n",
       "  <thead>\n",
       "    <tr style=\"text-align: right;\">\n",
       "      <th></th>\n",
       "      <th>co2</th>\n",
       "      <th>year</th>\n",
       "    </tr>\n",
       "  </thead>\n",
       "  <tbody>\n",
       "    <tr>\n",
       "      <th>0</th>\n",
       "      <td>1.0</td>\n",
       "      <td>2016.0</td>\n",
       "    </tr>\n",
       "    <tr>\n",
       "      <th>1</th>\n",
       "      <td>0.9</td>\n",
       "      <td>2017.0</td>\n",
       "    </tr>\n",
       "    <tr>\n",
       "      <th>2</th>\n",
       "      <td>0.8</td>\n",
       "      <td>2018.0</td>\n",
       "    </tr>\n",
       "  </tbody>\n",
       "</table>\n",
       "</div>"
      ],
      "text/plain": [
       "   co2    year\n",
       "0  1.0  2016.0\n",
       "1  0.9  2017.0\n",
       "2  0.8  2018.0"
      ]
     },
     "execution_count": 10,
     "metadata": {},
     "output_type": "execute_result"
    }
   ],
   "source": [
    "new_co2_df"
   ]
  },
  {
   "cell_type": "code",
   "execution_count": 11,
   "id": "21dca81e-bfbf-4b51-b860-f8fd473c9f81",
   "metadata": {},
   "outputs": [
    {
     "data": {
      "text/html": [
       "<div>\n",
       "<style scoped>\n",
       "    .dataframe tbody tr th:only-of-type {\n",
       "        vertical-align: middle;\n",
       "    }\n",
       "\n",
       "    .dataframe tbody tr th {\n",
       "        vertical-align: top;\n",
       "    }\n",
       "\n",
       "    .dataframe thead tr th {\n",
       "        text-align: left;\n",
       "    }\n",
       "</style>\n",
       "<table border=\"1\" class=\"dataframe\">\n",
       "  <thead>\n",
       "    <tr>\n",
       "      <th></th>\n",
       "      <th>co2</th>\n",
       "      <th>year</th>\n",
       "    </tr>\n",
       "    <tr>\n",
       "      <th>unit</th>\n",
       "      <th>CO2 * megametric_ton</th>\n",
       "      <th>dimensionless</th>\n",
       "    </tr>\n",
       "  </thead>\n",
       "  <tbody>\n",
       "    <tr>\n",
       "      <th>0</th>\n",
       "      <td>1.0</td>\n",
       "      <td>2016.0</td>\n",
       "    </tr>\n",
       "    <tr>\n",
       "      <th>1</th>\n",
       "      <td>0.9</td>\n",
       "      <td>2017.0</td>\n",
       "    </tr>\n",
       "    <tr>\n",
       "      <th>2</th>\n",
       "      <td>0.8</td>\n",
       "      <td>2018.0</td>\n",
       "    </tr>\n",
       "  </tbody>\n",
       "</table>\n",
       "</div>"
      ],
      "text/plain": [
       "                      co2          year\n",
       "unit CO2 * megametric_ton dimensionless\n",
       "0                     1.0        2016.0\n",
       "1                     0.9        2017.0\n",
       "2                     0.8        2018.0"
      ]
     },
     "execution_count": 11,
     "metadata": {},
     "output_type": "execute_result"
    }
   ],
   "source": [
    "\n",
    "new_co2_df.pint.dequantify()"
   ]
  },
  {
   "cell_type": "code",
   "execution_count": null,
   "id": "62915671-99d0-4582-8ca7-5a2a36c498f1",
   "metadata": {},
   "outputs": [],
   "source": []
  }
 ],
 "metadata": {
  "kernelspec": {
   "display_name": "Python 3 (ipykernel)",
   "language": "python",
   "name": "python3"
  },
  "language_info": {
   "codemirror_mode": {
    "name": "ipython",
    "version": 3
   },
   "file_extension": ".py",
   "mimetype": "text/x-python",
   "name": "python",
   "nbconvert_exporter": "python",
   "pygments_lexer": "ipython3",
   "version": "3.8.8"
  }
 },
 "nbformat": 4,
 "nbformat_minor": 5
}
