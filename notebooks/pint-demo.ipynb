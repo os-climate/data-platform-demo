{
 "cells": [
  {
   "cell_type": "markdown",
   "id": "ee88f3bb-af73-4e72-887d-7e85c70ebf13",
   "metadata": {},
   "source": [
    "Demonstrate writing and reading dataframes containing PINT data (and highlight limitations)\n",
    "\n",
    "Next step: Try using uncertainties (expressed as Pint measurements)"
   ]
  },
  {
   "cell_type": "code",
   "execution_count": 1,
   "id": "bba35062-ffa7-44a0-bd5d-f36ac7e6ef23",
   "metadata": {},
   "outputs": [],
   "source": [
    "import os\n",
    "import pathlib\n",
    "from dotenv import load_dotenv\n",
    "\n",
    "# Load some standard environment variables from a dot-env file, if it exists.\n",
    "# If no such file can be found, does not fail, and so allows these environment vars to\n",
    "# be populated in some other way\n",
    "dotenv_dir = os.environ.get('CREDENTIAL_DOTENV_DIR', os.environ.get('PWD', '/opt/app-root/src'))\n",
    "dotenv_path = pathlib.Path(dotenv_dir) / 'credentials.env'\n",
    "if os.path.exists(dotenv_path):\n",
    "    load_dotenv(dotenv_path=dotenv_path,override=True)\n",
    "\n",
    "import osc_ingest_trino as osc\n",
    "\n",
    "import numpy as np\n",
    "import pandas as pd\n",
    "\n",
    "import pint\n",
    "import pint_pandas\n",
    "import openscm_units\n",
    "\n",
    "from pint import set_application_registry, Quantity\n",
    "from pint_pandas import PintArray, PintType\n",
    "from pint_pandas.pint_array import is_pint_type\n",
    "from openscm_units import unit_registry\n",
    "PintType.ureg = unit_registry\n",
    "ureg = unit_registry\n",
    "set_application_registry(ureg)\n",
    "Q_ = ureg.Quantity\n",
    "PA_ = PintArray\n",
    "\n",
    "ureg.define(\"CO2e = CO2 = CO2eq = CO2_eq\")\n",
    "ureg.define(\"Fe_ton = [produced_ton]\")\n",
    "ureg.define(\"USD = [currency]\")\n",
    "\n",
    "import ast"
   ]
  },
  {
   "cell_type": "markdown",
   "id": "3fdb1a3e-be1e-4e37-9ddc-f24bed3358a5",
   "metadata": {},
   "source": [
    "### Connect to Trino with sqlalchemy"
   ]
  },
  {
   "cell_type": "code",
   "execution_count": 2,
   "id": "fb3c2400-0604-49c5-8289-7fd1d8e9eefc",
   "metadata": {},
   "outputs": [],
   "source": [
    "import trino\n",
    "from sqlalchemy.engine import create_engine\n",
    "\n",
    "ingest_catalog = 'osc_datacommons_dev'\n",
    "ingest_schema = 'sandbox'\n",
    "\n",
    "sqlstring = 'trino://{user}@{host}:{port}/'.format(\n",
    "    user = os.environ['TRINO_USER'],\n",
    "    host = os.environ['TRINO_HOST'],\n",
    "    port = os.environ['TRINO_PORT']\n",
    ")\n",
    "sqlargs = {\n",
    "    'auth': trino.auth.JWTAuthentication(os.environ['TRINO_PASSWD']),\n",
    "    'http_scheme': 'https',\n",
    "    'catalog': ingest_catalog,\n",
    "    'schema': ingest_schema,\n",
    "}\n",
    "engine = create_engine(sqlstring, connect_args = sqlargs)\n",
    "connection = engine.connect()"
   ]
  },
  {
   "cell_type": "markdown",
   "id": "35706a5c-6e2d-48c9-99dc-8bc06e9a1672",
   "metadata": {},
   "source": [
    "Create simple dataframe with pint units (megametric tons co2) and numeric data (year expressed as a number).\n",
    "\n",
    "Note that dates can neither be *datetime* nor *string*, because neither types are understood by Pint."
   ]
  },
  {
   "cell_type": "code",
   "execution_count": 3,
   "id": "26c2e036-1e37-41a3-8d10-2b072c8247dd",
   "metadata": {},
   "outputs": [],
   "source": [
    "sample_df = pd.DataFrame({'company_name': ['PG&E Corp.', 'PNM Resources, Inc.', 'POSCO', 'PPL Corp.'],\n",
    "                          'company_lei': ['8YQ2GSDWYZXO2EDN3511', '5493003JOBJGLZSDDQ28', '988400E5HRVX81AYLM04', '9N3UAJSNOUXFKQLF3V18'],\n",
    "                          'comapny_isin': ['US69331C1080','US69349H1077','KR7005490008','US69351T1060'],\n",
    "                          '2019_revenue': PintArray([17129000000.0,1457603000.0,55955872344.0,7769000000.0],'USD'),\n",
    "                          '2016_ghg_s1': PintArray([2.216543993,6.337250786,81.309800,30.08848723],'Mt CO2'),\n",
    "                          '2017_ghg_s1': PintArray([2.251191566,6.488768702,75.633360,30.24837146],'Mt CO2'),\n",
    "                          '2018_ghg_s1': PintArray([2.451149772,5.217895758,77.391479,31.61146904],'Mt CO2'),\n",
    "                          '2019_ghg_s1': PintArray([2.451149772,np.nan,77.391479,np.nan],'Mt CO2')\n",
    "                          # As of 20220430, the following create the dataframe correctly, but throws UnitStrippedWarning\n",
    "                          # '2016_production': [Q_(32.993292,'TWh'),Q_(10.2316757,'TWh'),Q_(42199000.0,'Fe_ton'),Q_(34.61322117,'TWh')],\n",
    "                          # '2017_production': [Q_(34.490224,'TWh'),Q_(10.1709745,'TWh'),Q_(37207000.0,'Fe_ton'),Q_(33.53286848,'TWh')],\n",
    "                          # '2018_production': [Q_(32.28122,'TWh'),Q_(9.307788099,'TWh'),Q_(37735000.0,'Fe_ton'),Q_(35.57197004,'TWh')],\n",
    "                          })\n",
    "# We can construct an equivalent DataFrame by separating magnitudes and units, and then combining via multiplication\n",
    "s_2016 = pd.Series(data=[32.993292, 10.2316757, 42199000.0, 34.61322117], name='2016_production') * pd.Series(data=[ureg(x).u for x in ['TWh','TWh','Fe_ton','TWh']], name='2016_production')\n",
    "s_2017 = pd.Series(data=[34.490224, 10.1709745, 37207000.0, 33.53286848], name='2017_production') * pd.Series(data=[ureg(x).u for x in ['TWh','TWh','Fe_ton','TWh']], name='2017_production')\n",
    "s_2018 = pd.Series(data=[32.28122, 9.307788099, 37735000.0, 35.57197004], name='2018_production') * pd.Series(data=[ureg(x).u for x in ['TWh','TWh','Fe_ton','TWh']], name='2018_production')\n",
    "sample_df = pd.concat([sample_df, s_2016, s_2017, s_2018], axis=1).convert_dtypes()"
   ]
  },
  {
   "cell_type": "code",
   "execution_count": 4,
   "id": "45c5b051-b3ad-48fd-be30-1dace5f77b4d",
   "metadata": {},
   "outputs": [
    {
     "name": "stderr",
     "output_type": "stream",
     "text": [
      "/opt/app-root/lib64/python3.8/site-packages/pint_pandas/pint_array.py:648: UnitStrippedWarning: The unit of the quantity is stripped when downcasting to ndarray.\n",
      "  return np.array(qtys, dtype=\"object\", copy=copy)\n",
      "/opt/app-root/lib64/python3.8/site-packages/pint_pandas/pint_array.py:648: UnitStrippedWarning: The unit of the quantity is stripped when downcasting to ndarray.\n",
      "  return np.array(qtys, dtype=\"object\", copy=copy)\n"
     ]
    },
    {
     "data": {
      "text/html": [
       "<div>\n",
       "<style scoped>\n",
       "    .dataframe tbody tr th:only-of-type {\n",
       "        vertical-align: middle;\n",
       "    }\n",
       "\n",
       "    .dataframe tbody tr th {\n",
       "        vertical-align: top;\n",
       "    }\n",
       "\n",
       "    .dataframe thead th {\n",
       "        text-align: right;\n",
       "    }\n",
       "</style>\n",
       "<table border=\"1\" class=\"dataframe\">\n",
       "  <thead>\n",
       "    <tr style=\"text-align: right;\">\n",
       "      <th></th>\n",
       "      <th>company_name</th>\n",
       "      <th>company_lei</th>\n",
       "      <th>comapny_isin</th>\n",
       "      <th>2019_revenue</th>\n",
       "      <th>2016_ghg_s1</th>\n",
       "      <th>2017_ghg_s1</th>\n",
       "      <th>2018_ghg_s1</th>\n",
       "      <th>2019_ghg_s1</th>\n",
       "      <th>2016_production</th>\n",
       "      <th>2017_production</th>\n",
       "      <th>2018_production</th>\n",
       "    </tr>\n",
       "  </thead>\n",
       "  <tbody>\n",
       "    <tr>\n",
       "      <th>0</th>\n",
       "      <td>PG&amp;E Corp.</td>\n",
       "      <td>8YQ2GSDWYZXO2EDN3511</td>\n",
       "      <td>US69331C1080</td>\n",
       "      <td>17129000000.0</td>\n",
       "      <td>2.216543993</td>\n",
       "      <td>2.251191566</td>\n",
       "      <td>2.451149772</td>\n",
       "      <td>2.451149772</td>\n",
       "      <td>32.993292 terawatt_hour</td>\n",
       "      <td>34.490224 terawatt_hour</td>\n",
       "      <td>32.28122 terawatt_hour</td>\n",
       "    </tr>\n",
       "    <tr>\n",
       "      <th>1</th>\n",
       "      <td>PNM Resources, Inc.</td>\n",
       "      <td>5493003JOBJGLZSDDQ28</td>\n",
       "      <td>US69349H1077</td>\n",
       "      <td>1457603000.0</td>\n",
       "      <td>6.337250786</td>\n",
       "      <td>6.488768702</td>\n",
       "      <td>5.217895758</td>\n",
       "      <td>nan</td>\n",
       "      <td>10.2316757 terawatt_hour</td>\n",
       "      <td>10.1709745 terawatt_hour</td>\n",
       "      <td>9.307788099 terawatt_hour</td>\n",
       "    </tr>\n",
       "    <tr>\n",
       "      <th>2</th>\n",
       "      <td>POSCO</td>\n",
       "      <td>988400E5HRVX81AYLM04</td>\n",
       "      <td>KR7005490008</td>\n",
       "      <td>55955872344.0</td>\n",
       "      <td>81.3098</td>\n",
       "      <td>75.63336</td>\n",
       "      <td>77.391479</td>\n",
       "      <td>77.391479</td>\n",
       "      <td>42199000.0 Fe_ton</td>\n",
       "      <td>37207000.0 Fe_ton</td>\n",
       "      <td>37735000.0 Fe_ton</td>\n",
       "    </tr>\n",
       "    <tr>\n",
       "      <th>3</th>\n",
       "      <td>PPL Corp.</td>\n",
       "      <td>9N3UAJSNOUXFKQLF3V18</td>\n",
       "      <td>US69351T1060</td>\n",
       "      <td>7769000000.0</td>\n",
       "      <td>30.08848723</td>\n",
       "      <td>30.24837146</td>\n",
       "      <td>31.61146904</td>\n",
       "      <td>nan</td>\n",
       "      <td>34.61322117 terawatt_hour</td>\n",
       "      <td>33.53286848 terawatt_hour</td>\n",
       "      <td>35.57197004 terawatt_hour</td>\n",
       "    </tr>\n",
       "  </tbody>\n",
       "</table>\n",
       "</div>"
      ],
      "text/plain": [
       "          company_name           company_lei  comapny_isin   2019_revenue  \\\n",
       "0           PG&E Corp.  8YQ2GSDWYZXO2EDN3511  US69331C1080  17129000000.0   \n",
       "1  PNM Resources, Inc.  5493003JOBJGLZSDDQ28  US69349H1077   1457603000.0   \n",
       "2                POSCO  988400E5HRVX81AYLM04  KR7005490008  55955872344.0   \n",
       "3            PPL Corp.  9N3UAJSNOUXFKQLF3V18  US69351T1060   7769000000.0   \n",
       "\n",
       "   2016_ghg_s1  2017_ghg_s1  2018_ghg_s1  2019_ghg_s1  \\\n",
       "0  2.216543993  2.251191566  2.451149772  2.451149772   \n",
       "1  6.337250786  6.488768702  5.217895758          nan   \n",
       "2      81.3098     75.63336    77.391479    77.391479   \n",
       "3  30.08848723  30.24837146  31.61146904          nan   \n",
       "\n",
       "             2016_production            2017_production  \\\n",
       "0    32.993292 terawatt_hour    34.490224 terawatt_hour   \n",
       "1   10.2316757 terawatt_hour   10.1709745 terawatt_hour   \n",
       "2          42199000.0 Fe_ton          37207000.0 Fe_ton   \n",
       "3  34.61322117 terawatt_hour  33.53286848 terawatt_hour   \n",
       "\n",
       "             2018_production  \n",
       "0     32.28122 terawatt_hour  \n",
       "1  9.307788099 terawatt_hour  \n",
       "2          37735000.0 Fe_ton  \n",
       "3  35.57197004 terawatt_hour  "
      ]
     },
     "execution_count": 4,
     "metadata": {},
     "output_type": "execute_result"
    }
   ],
   "source": [
    "# https://github.com/hgrecco/pint-pandas/issues/125 concerns the best way to move beyond the UnitStrippedWarning messages\n",
    "sample_df.sort_values(by='company_name')"
   ]
  },
  {
   "cell_type": "code",
   "execution_count": 5,
   "id": "5268e73e-0b15-4e0f-b888-130655eca421",
   "metadata": {},
   "outputs": [],
   "source": [
    "# If DF_COL contains Pint quantities (because it is a PintArray or an array of Pint Quantities),\n",
    "# return a two-column dataframe of magnitudes and units.\n",
    "# If DF_COL contains no Pint quanities, return it unchanged.\n",
    "\n",
    "def dequantify_column(df_col: pd.Series):\n",
    "    if type(df_col.values)==PintArray:\n",
    "        return pd.DataFrame({df_col.name: df_col.values.quantity.m,\n",
    "                             df_col.name + \"_units\": str(df_col.values.dtype.units)},\n",
    "                            index=df_col.index)\n",
    "    elif df_col.size==0:\n",
    "        return df_col\n",
    "    elif isinstance(df_col.iloc[0], Quantity):\n",
    "        values = df_col.map(lambda x: (x.m, x.u))\n",
    "        return pd.DataFrame({df_col.name: df_col.map(lambda x: x.m),\n",
    "                             df_col.name + \"_units\": df_col.map(lambda x: str(x.u))},\n",
    "                            index=df_col.index)\n",
    "    else:\n",
    "        return df_col\n",
    "\n",
    "# Rewrite dataframe DF so that columns containing Pint quantities are represented by a column for the Magnitude and column for the Units.\n",
    "# The magnitude column retains the original column name and the units column is renamed with a _units suffix.\n",
    "def dequantify_df(df):\n",
    "    return pd.concat([dequantify_column(df[col]) for col in df.columns], axis=1)"
   ]
  },
  {
   "cell_type": "code",
   "execution_count": 6,
   "id": "8c852c21-8bc8-4f4e-89b2-d20a0f01ec1f",
   "metadata": {},
   "outputs": [],
   "source": [
    "# dequantify_df(sample_df)"
   ]
  },
  {
   "cell_type": "markdown",
   "id": "69ad0e71-cd1d-4235-bf94-5d2ce36e31d5",
   "metadata": {},
   "source": [
    "Write the dataframe to a Trino table.\n",
    "\n",
    "The *pint.dequantify* method converts PintArray columns to columns named as tuples of original column names and Pint types.  This leads to two problems:\n",
    "1. If column values contain Quantities of different units, dequantify fails\n",
    "2. Trino requires lower-case column names ***which are then no longer correctly recognized in the unit registry***.  This problem is not unique to CO2: M and m mean different things to Pint, as do G and g, and several other SI abbreviations.\n",
    "\n",
    "To solve this we write our own dequantify routine, which explodes Quantity columns into magnitude (using original column name {COL}) and {COL}_units"
   ]
  },
  {
   "cell_type": "code",
   "execution_count": 7,
   "id": "088e90e5-84d5-4317-93d6-c5c7f2f4e3d4",
   "metadata": {},
   "outputs": [
    {
     "name": "stdout",
     "output_type": "stream",
     "text": [
      "constructed fully qualified table name as: \"sandbox.sample_itr\"\n",
      "inserting 4 records\n",
      "  ('PG&E Corp.', '8YQ2GSDWYZXO2EDN3511', 'US69331C1080', 17129000000.0, 'USD', 2.216543993, 'CO2 * megametric_ton', 2.251191566, 'CO2 * megametric_ton', 2.451149772, 'CO2 * megametric_ton', 2.451149772, 'CO2 * megametric_ton', 32.993292, 'terawatt_hour', 34.490224, 'terawatt_hour', 32.28122, 'terawatt_hour')\n",
      "  ('PNM Resources, Inc.', '5493003JOBJGLZSDDQ28', 'US69349H1077', 1457603000.0, 'USD', 6.337250786, 'CO2 * megametric_ton', 6.488768702, 'CO2 * megametric_ton', 5.217895758, 'CO2 * megametric_ton', NULL, 'CO2 * megametric_ton', 10.2316757, 'terawatt_hour', 10.1709745, 'terawatt_hour', 9.307788099, 'terawatt_hour')\n",
      "  ('POSCO', '988400E5HRVX81AYLM04', 'KR7005490008', 55955872344.0, 'USD', 81.3098, 'CO2 * megametric_ton', 75.63336, 'CO2 * megametric_ton', 77.391479, 'CO2 * megametric_ton', 77.391479, 'CO2 * megametric_ton', 42199000.0, 'Fe_ton', 37207000.0, 'Fe_ton', 37735000.0, 'Fe_ton')\n",
      "  ('PPL Corp.', '9N3UAJSNOUXFKQLF3V18', 'US69351T1060', 7769000000.0, 'USD', 30.08848723, 'CO2 * megametric_ton', 30.24837146, 'CO2 * megametric_ton', 31.61146904, 'CO2 * megametric_ton', NULL, 'CO2 * megametric_ton', 34.61322117, 'terawatt_hour', 33.53286848, 'terawatt_hour', 35.57197004, 'terawatt_hour')\n",
      "batch insert result: [(4,)]\n",
      "optimizing table files\n",
      "execute optimize: []\n"
     ]
    }
   ],
   "source": [
    "ingest_table = \"sample_itr\"\n",
    "\n",
    "engine.execute(f\"drop table if exists {ingest_schema}.{ingest_table}\")\n",
    "dequantify_df(sample_df).to_sql(ingest_table, con=engine, schema=ingest_schema, if_exists='append', index=False,\n",
    "                                method=osc.TrinoBatchInsert(batch_size = 100, verbose = True, optimize = True))"
   ]
  },
  {
   "cell_type": "code",
   "execution_count": 8,
   "id": "362e99c4-5a93-4957-8ff9-14c240c03c42",
   "metadata": {},
   "outputs": [
    {
     "data": {
      "text/plain": [
       "[('company_name', 'varchar', '', ''),\n",
       " ('company_lei', 'varchar', '', ''),\n",
       " ('comapny_isin', 'varchar', '', ''),\n",
       " ('2019_revenue', 'double', '', ''),\n",
       " ('2019_revenue_units', 'varchar', '', ''),\n",
       " ('2016_ghg_s1', 'double', '', ''),\n",
       " ('2016_ghg_s1_units', 'varchar', '', ''),\n",
       " ('2017_ghg_s1', 'double', '', ''),\n",
       " ('2017_ghg_s1_units', 'varchar', '', ''),\n",
       " ('2018_ghg_s1', 'double', '', ''),\n",
       " ('2018_ghg_s1_units', 'varchar', '', ''),\n",
       " ('2019_ghg_s1', 'double', '', ''),\n",
       " ('2019_ghg_s1_units', 'varchar', '', ''),\n",
       " ('2016_production', 'double', '', ''),\n",
       " ('2016_production_units', 'varchar', '', ''),\n",
       " ('2017_production', 'double', '', ''),\n",
       " ('2017_production_units', 'varchar', '', ''),\n",
       " ('2018_production', 'double', '', ''),\n",
       " ('2018_production_units', 'varchar', '', '')]"
      ]
     },
     "execution_count": 8,
     "metadata": {},
     "output_type": "execute_result"
    }
   ],
   "source": [
    "# Describe returns a list of tuples (column_name, column_type, extra, comment)\n",
    "engine.execute(f\"describe {ingest_schema}.{ingest_table}\").fetchall()"
   ]
  },
  {
   "cell_type": "code",
   "execution_count": 9,
   "id": "e47f13cc-c7d8-4198-b0c6-d34d2d1ccd42",
   "metadata": {},
   "outputs": [
    {
     "data": {
      "text/plain": [
       "[('PNM Resources, Inc.', '5493003JOBJGLZSDDQ28', 'US69349H1077', 1457603000.0, 'USD', 6.337250786, 'CO2 * megametric_ton', 6.488768702, 'CO2 * megametric_ton', 5.217895758, 'CO2 * megametric_ton', None, 'CO2 * megametric_ton', 10.2316757, 'terawatt_hour', 10.1709745, 'terawatt_hour', 9.307788099, 'terawatt_hour'),\n",
       " ('POSCO', '988400E5HRVX81AYLM04', 'KR7005490008', 55955872344.0, 'USD', 81.3098, 'CO2 * megametric_ton', 75.63336, 'CO2 * megametric_ton', 77.391479, 'CO2 * megametric_ton', 77.391479, 'CO2 * megametric_ton', 42199000.0, 'Fe_ton', 37207000.0, 'Fe_ton', 37735000.0, 'Fe_ton'),\n",
       " ('PG&E Corp.', '8YQ2GSDWYZXO2EDN3511', 'US69331C1080', 17129000000.0, 'USD', 2.216543993, 'CO2 * megametric_ton', 2.251191566, 'CO2 * megametric_ton', 2.451149772, 'CO2 * megametric_ton', 2.451149772, 'CO2 * megametric_ton', 32.993292, 'terawatt_hour', 34.490224, 'terawatt_hour', 32.28122, 'terawatt_hour'),\n",
       " ('PPL Corp.', '9N3UAJSNOUXFKQLF3V18', 'US69351T1060', 7769000000.0, 'USD', 30.08848723, 'CO2 * megametric_ton', 30.24837146, 'CO2 * megametric_ton', 31.61146904, 'CO2 * megametric_ton', None, 'CO2 * megametric_ton', 34.61322117, 'terawatt_hour', 33.53286848, 'terawatt_hour', 35.57197004, 'terawatt_hour')]"
      ]
     },
     "execution_count": 9,
     "metadata": {},
     "output_type": "execute_result"
    }
   ],
   "source": [
    "engine.execute(f\"select * from {ingest_schema}.{ingest_table}\").fetchall()"
   ]
  },
  {
   "cell_type": "code",
   "execution_count": 10,
   "id": "40d2e2f9-d4c2-4811-bcaf-5f8ff26ee246",
   "metadata": {},
   "outputs": [],
   "source": [
    "sql_df = pd.read_sql(f\"select * from {ingest_schema}.{ingest_table}\", con=engine)\n",
    "# sql_df"
   ]
  },
  {
   "cell_type": "code",
   "execution_count": 11,
   "id": "62915671-99d0-4582-8ca7-5a2a36c498f1",
   "metadata": {},
   "outputs": [],
   "source": [
    "# Because this DF comes from reading a Trino table, and because columns must be unqiue, we don't have to enumerate to ensure we properly handle columns with duplicated names\n",
    "\n",
    "def requantify_df(df):\n",
    "    units_col = None\n",
    "    columns_reversed = reversed(df.columns)\n",
    "    for col in columns_reversed:\n",
    "        if col.endswith(\"_units\"):\n",
    "            if units_col:\n",
    "                # We expect _units column to follow a non-units column\n",
    "                raise ValueError\n",
    "            units_col = col\n",
    "            continue\n",
    "        if units_col:\n",
    "            if col + '_units' != units_col:\n",
    "                raise ValueError\n",
    "            if (df[units_col]==df[units_col][0]).all():\n",
    "                # Make a PintArray\n",
    "                new_col = PintArray(df[col], dtype=f\"pint[{ureg(df[units_col][0]).u}]\")\n",
    "            else:\n",
    "                # Make a pd.Series of Quantity in a way that does not throw UnitStrippedWarning\n",
    "                new_col = pd.Series(data=df[col], name=col) * pd.Series(data=df[units_col].map(lambda x: ureg(x).u), name=col)\n",
    "            df = df.drop(columns=units_col)\n",
    "            df[col] = new_col\n",
    "            units_col = None\n",
    "    return df"
   ]
  },
  {
   "cell_type": "code",
   "execution_count": 12,
   "id": "00a2bd12-22bb-4569-a3e6-c420ba7d1b8d",
   "metadata": {},
   "outputs": [],
   "source": [
    "new_df = requantify_df(sql_df).convert_dtypes()"
   ]
  },
  {
   "cell_type": "code",
   "execution_count": 13,
   "id": "927a1121-94e8-4465-94c8-df70b537bee1",
   "metadata": {},
   "outputs": [
    {
     "data": {
      "text/plain": [
       "Index(['company_name', 'company_lei', 'comapny_isin', '2019_revenue',\n",
       "       '2016_ghg_s1', '2017_ghg_s1', '2018_ghg_s1', '2019_ghg_s1',\n",
       "       '2016_production', '2017_production', '2018_production'],\n",
       "      dtype='object')"
      ]
     },
     "execution_count": 13,
     "metadata": {},
     "output_type": "execute_result"
    }
   ],
   "source": [
    "new_df.columns"
   ]
  },
  {
   "cell_type": "code",
   "execution_count": 14,
   "id": "90eb447c-8a42-4f5c-b1af-9201f819b5a3",
   "metadata": {},
   "outputs": [
    {
     "name": "stderr",
     "output_type": "stream",
     "text": [
      "/opt/app-root/lib64/python3.8/site-packages/pint_pandas/pint_array.py:648: UnitStrippedWarning: The unit of the quantity is stripped when downcasting to ndarray.\n",
      "  return np.array(qtys, dtype=\"object\", copy=copy)\n",
      "/opt/app-root/lib64/python3.8/site-packages/pint_pandas/pint_array.py:648: UnitStrippedWarning: The unit of the quantity is stripped when downcasting to ndarray.\n",
      "  return np.array(qtys, dtype=\"object\", copy=copy)\n"
     ]
    },
    {
     "data": {
      "text/html": [
       "<div>\n",
       "<style scoped>\n",
       "    .dataframe tbody tr th:only-of-type {\n",
       "        vertical-align: middle;\n",
       "    }\n",
       "\n",
       "    .dataframe tbody tr th {\n",
       "        vertical-align: top;\n",
       "    }\n",
       "\n",
       "    .dataframe thead th {\n",
       "        text-align: right;\n",
       "    }\n",
       "</style>\n",
       "<table border=\"1\" class=\"dataframe\">\n",
       "  <thead>\n",
       "    <tr style=\"text-align: right;\">\n",
       "      <th></th>\n",
       "      <th>company_name</th>\n",
       "      <th>company_lei</th>\n",
       "      <th>comapny_isin</th>\n",
       "      <th>2019_revenue</th>\n",
       "      <th>2016_ghg_s1</th>\n",
       "      <th>2017_ghg_s1</th>\n",
       "      <th>2018_ghg_s1</th>\n",
       "      <th>2019_ghg_s1</th>\n",
       "      <th>2016_production</th>\n",
       "      <th>2017_production</th>\n",
       "      <th>2018_production</th>\n",
       "    </tr>\n",
       "  </thead>\n",
       "  <tbody>\n",
       "    <tr>\n",
       "      <th>0</th>\n",
       "      <td>PG&amp;E Corp.</td>\n",
       "      <td>8YQ2GSDWYZXO2EDN3511</td>\n",
       "      <td>US69331C1080</td>\n",
       "      <td>17129000000.0</td>\n",
       "      <td>2.216543993</td>\n",
       "      <td>2.251191566</td>\n",
       "      <td>2.451149772</td>\n",
       "      <td>2.451149772</td>\n",
       "      <td>32.993292 terawatt_hour</td>\n",
       "      <td>34.490224 terawatt_hour</td>\n",
       "      <td>32.28122 terawatt_hour</td>\n",
       "    </tr>\n",
       "    <tr>\n",
       "      <th>1</th>\n",
       "      <td>PNM Resources, Inc.</td>\n",
       "      <td>5493003JOBJGLZSDDQ28</td>\n",
       "      <td>US69349H1077</td>\n",
       "      <td>1457603000.0</td>\n",
       "      <td>6.337250786</td>\n",
       "      <td>6.488768702</td>\n",
       "      <td>5.217895758</td>\n",
       "      <td>nan</td>\n",
       "      <td>10.2316757 terawatt_hour</td>\n",
       "      <td>10.1709745 terawatt_hour</td>\n",
       "      <td>9.307788099 terawatt_hour</td>\n",
       "    </tr>\n",
       "    <tr>\n",
       "      <th>2</th>\n",
       "      <td>POSCO</td>\n",
       "      <td>988400E5HRVX81AYLM04</td>\n",
       "      <td>KR7005490008</td>\n",
       "      <td>55955872344.0</td>\n",
       "      <td>81.3098</td>\n",
       "      <td>75.63336</td>\n",
       "      <td>77.391479</td>\n",
       "      <td>77.391479</td>\n",
       "      <td>42199000.0 Fe_ton</td>\n",
       "      <td>37207000.0 Fe_ton</td>\n",
       "      <td>37735000.0 Fe_ton</td>\n",
       "    </tr>\n",
       "    <tr>\n",
       "      <th>3</th>\n",
       "      <td>PPL Corp.</td>\n",
       "      <td>9N3UAJSNOUXFKQLF3V18</td>\n",
       "      <td>US69351T1060</td>\n",
       "      <td>7769000000.0</td>\n",
       "      <td>30.08848723</td>\n",
       "      <td>30.24837146</td>\n",
       "      <td>31.61146904</td>\n",
       "      <td>nan</td>\n",
       "      <td>34.61322117 terawatt_hour</td>\n",
       "      <td>33.53286848 terawatt_hour</td>\n",
       "      <td>35.57197004 terawatt_hour</td>\n",
       "    </tr>\n",
       "  </tbody>\n",
       "</table>\n",
       "</div>"
      ],
      "text/plain": [
       "          company_name           company_lei  comapny_isin   2019_revenue  \\\n",
       "0           PG&E Corp.  8YQ2GSDWYZXO2EDN3511  US69331C1080  17129000000.0   \n",
       "1  PNM Resources, Inc.  5493003JOBJGLZSDDQ28  US69349H1077   1457603000.0   \n",
       "2                POSCO  988400E5HRVX81AYLM04  KR7005490008  55955872344.0   \n",
       "3            PPL Corp.  9N3UAJSNOUXFKQLF3V18  US69351T1060   7769000000.0   \n",
       "\n",
       "   2016_ghg_s1  2017_ghg_s1  2018_ghg_s1  2019_ghg_s1  \\\n",
       "0  2.216543993  2.251191566  2.451149772  2.451149772   \n",
       "1  6.337250786  6.488768702  5.217895758          nan   \n",
       "2      81.3098     75.63336    77.391479    77.391479   \n",
       "3  30.08848723  30.24837146  31.61146904          nan   \n",
       "\n",
       "             2016_production            2017_production  \\\n",
       "0    32.993292 terawatt_hour    34.490224 terawatt_hour   \n",
       "1   10.2316757 terawatt_hour   10.1709745 terawatt_hour   \n",
       "2          42199000.0 Fe_ton          37207000.0 Fe_ton   \n",
       "3  34.61322117 terawatt_hour  33.53286848 terawatt_hour   \n",
       "\n",
       "             2018_production  \n",
       "0     32.28122 terawatt_hour  \n",
       "1  9.307788099 terawatt_hour  \n",
       "2          37735000.0 Fe_ton  \n",
       "3  35.57197004 terawatt_hour  "
      ]
     },
     "execution_count": 14,
     "metadata": {},
     "output_type": "execute_result"
    }
   ],
   "source": [
    "# https://github.com/hgrecco/pint-pandas/issues/125 concerns the best way to move beyond the UnitStrippedWarning messages\n",
    "new_df.sort_values(by='company_name')"
   ]
  },
  {
   "cell_type": "code",
   "execution_count": 15,
   "id": "40334bca-fb10-4104-9cc8-ea6388387caa",
   "metadata": {},
   "outputs": [],
   "source": [
    "# display(sample_df.sort_values(by='company_name').set_index('company_name').info(verbose=True))\n",
    "\n",
    "# display(new_df.sort_values(by='company_name').set_index('company_name').info(verbose=True))\n",
    "\n",
    "pd.testing.assert_frame_equal(sample_df.sort_values(by='company_name').set_index('company_name'),\n",
    "                              new_df.sort_values(by='company_name').set_index('company_name'))"
   ]
  },
  {
   "cell_type": "markdown",
   "id": "03a77cc7-8b16-4a4e-88aa-c42a9e4e87f6",
   "metadata": {},
   "source": [
    "The following code is a testbed for implementing helper functions around read_sql when Trino contains tables quantified as above.\n",
    "\n",
    "The basic IO interfaces would be:\n",
    "\n",
    "```\n",
    "def create_table_from_df (df: pd.DataFrame, schemaname: str, tablename: str, engine: sqlalchemy.engine.base.Engine, verbose=False):\n",
    "    drop_table = f\"drop table if exists {schemaname}.{tablename}\"\n",
    "    qres = engine.execute(drop_table)\n",
    "    rows = qres.fetchall()\n",
    "    if verbose:\n",
    "        print(f\"SQL: {drop_table}\")\n",
    "        for row in rows:\n",
    "            print(f\"SQL RESULT: {row}\")\n",
    "    new_df = dequantify_df (df)\n",
    "    new_df.to_sql(tablename, con=engine, schema=schemaname, if_exists='append',\n",
    "                  index=False,\n",
    "                  method=osc.TrinoBatchInsert(batch_size = 5000, verbose = True))\n",
    "\n",
    "# When reading SQL tables to import into DataFrames, it is up to the user to preserve {COL}, {COL}_units pairings so they can be reconstructed.\n",
    "# If the user does a naive \"select * from ...\" this happens naturally.\n",
    "# We can give a warning when we see a resulting dataframe that could have, but does not have, unit information properly integrated.  But\n",
    "# fixing the query on the fly becomes difficult when we consider the fully complexity of parsing and rewriting SQL queries to put the units columns in the correct locations.\n",
    "# (i.e., properly in the principal SELECT clause (which can have arbitrarily complex terms), not confused by FROM, WHERE, GROUP BY, ORDER BY, etc.)\n",
    "\n",
    "def read_quantified_sql (sql: str, schemaname, tablename, engine: sqlalchemy.engine.base.Engine, index_col=None) -> pd.DataFrame:\n",
    "    qres = engine.execute(f\"describe {schemaname}.{tablename}\")\n",
    "    # tabledesc will be a list of tuples (column, type, extra, comment)\n",
    "    colnames = [x[0] for x in qres.fetchall()]\n",
    "    # read columns normally...this will be missing any unit-related information\n",
    "    sql_df = pd.read_sql(sql, engine, index_col)\n",
    "    # if the query requests columns that don't otherwise bring unit information along with them, get that information too\n",
    "    extra_unit_columns = [ (i, f\"{col}_units\") for i, col in enumerate(sql_df.columns) if f\"{col}_units\" not in sql_df.columns and f\"{col}_units\" in colnames ]\n",
    "    if extra_unit_columns:\n",
    "        extra_unit_columns_positions = [ (i, extra_unit_columns[i][0], extra_unit_columns[i][1]) for i in range(len(extra_unit_columns)) ]\n",
    "        for col_tuple in extra_unit_columns_positions:\n",
    "            print(f\"Missing units column '{col_tuple[2]}' after original column '{udf.columns[col_tuple[1]]}' (should be column #{col_tuple[0]+col_tuple[1]+1} in new query)\")\n",
    "        raise ValueError\n",
    "    else:\n",
    "        return requantify_df(sql_df).convert_dtypes()\n",
    "```"
   ]
  },
  {
   "cell_type": "code",
   "execution_count": 16,
   "id": "31a88a86-1ae7-4f70-8ed6-61f8543e50f0",
   "metadata": {},
   "outputs": [],
   "source": [
    "schemaname='sandbox'\n",
    "tablename='sample_itr'\n",
    "qres = engine.execute(f\"describe {schemaname}.{tablename}\")\n",
    "# tabledesc will be a list of tuples (column, type, extra, comment)\n",
    "colnames = [x[0] for x in qres.fetchall()]\n",
    "# read columns normally...this will be missing any unit-related information\n",
    "sql_df = pd.read_sql(f\"\"\"\n",
    "select company_name,\n",
    "       \\\"2016_ghg_s1\\\", \\\"2016_ghg_s1_units\\\",\n",
    "       \\\"2017_ghg_s1\\\",\n",
    "       \\\"2016_production\\\",\n",
    "       \\\"2017_production\\\", \\\"2017_production_units\\\"\n",
    "from {schemaname}.{tablename}\n",
    "\"\"\", engine)\n",
    "# if the query requests columns that don't otherwise bring unit information along with them, get that information too                                                                  \n",
    "extra_unit_columns = [ (i, f\"{col}_units\") for i, col in enumerate(sql_df.columns) if f\"{col}_units\" not in sql_df.columns and f\"{col}_units\" in colnames ]\n",
    "extra_unit_columns_positions = [ (i, extra_unit_columns[i][0], extra_unit_columns[i][1]) for i in range(len(extra_unit_columns)) ]"
   ]
  },
  {
   "cell_type": "code",
   "execution_count": 17,
   "id": "a6731c92-acca-4957-973f-3edfc21e551f",
   "metadata": {},
   "outputs": [
    {
     "name": "stdout",
     "output_type": "stream",
     "text": [
      "Missing units column '2017_ghg_s1_units' after original column '2017_ghg_s1' (should be column #4 in new query)\n",
      "Missing units column '2016_production_units' after original column '2016_production' (should be column #6 in new query)\n"
     ]
    }
   ],
   "source": [
    "for col_tuple in extra_unit_columns_positions:\n",
    "    print(f\"Missing units column '{col_tuple[2]}' after original column '{sql_df.columns[col_tuple[1]]}' (should be column #{col_tuple[0]+col_tuple[1]+1} in new query)\")"
   ]
  },
  {
   "cell_type": "code",
   "execution_count": 18,
   "id": "2439b10b-446e-4eb8-87ed-78b53bdc5393",
   "metadata": {},
   "outputs": [],
   "source": [
    "sql_df = pd.read_sql(f\"\"\"\n",
    "select company_name,\n",
    "       \\\"2016_ghg_s1\\\", \\\"2016_ghg_s1_units\\\",\n",
    "       \\\"2017_ghg_s1\\\", \\\"2017_ghg_s1_units\\\",\n",
    "       \\\"2016_production\\\", \\\"2016_production_units\\\",\n",
    "       \\\"2017_production\\\", \\\"2017_production_units\\\"\n",
    "from {schemaname}.{tablename}\n",
    "\"\"\", engine)\n",
    "# if the query requests columns that don't otherwise bring unit information along with them, get that information too                                                                  \n",
    "extra_unit_columns = [ (i, f\"{col}_units\") for i, col in enumerate(sql_df.columns) if f\"{col}_units\" not in sql_df.columns and f\"{col}_units\" in colnames ]\n",
    "extra_unit_columns_positions = [ (i, extra_unit_columns[i][0], extra_unit_columns[i][1]) for i in range(len(extra_unit_columns)) ]"
   ]
  },
  {
   "cell_type": "code",
   "execution_count": 19,
   "id": "7b77ccbc-587a-476b-87b6-deeb1a50493b",
   "metadata": {},
   "outputs": [],
   "source": [
    "for col_tuple in extra_unit_columns_positions:\n",
    "    print(f\"Missing units column '{col_tuple[2]}' after original column '{sql_df.columns[col_tuple[1]]}' (should be column #{col_tuple[0]+col_tuple[1]+1} in new query)\")"
   ]
  },
  {
   "cell_type": "code",
   "execution_count": 20,
   "id": "45af0973-ca29-465f-a32d-c85fbb782411",
   "metadata": {},
   "outputs": [
    {
     "name": "stderr",
     "output_type": "stream",
     "text": [
      "/opt/app-root/lib64/python3.8/site-packages/pint_pandas/pint_array.py:648: UnitStrippedWarning: The unit of the quantity is stripped when downcasting to ndarray.\n",
      "  return np.array(qtys, dtype=\"object\", copy=copy)\n",
      "/opt/app-root/lib64/python3.8/site-packages/pint_pandas/pint_array.py:648: UnitStrippedWarning: The unit of the quantity is stripped when downcasting to ndarray.\n",
      "  return np.array(qtys, dtype=\"object\", copy=copy)\n"
     ]
    },
    {
     "data": {
      "text/html": [
       "<div>\n",
       "<style scoped>\n",
       "    .dataframe tbody tr th:only-of-type {\n",
       "        vertical-align: middle;\n",
       "    }\n",
       "\n",
       "    .dataframe tbody tr th {\n",
       "        vertical-align: top;\n",
       "    }\n",
       "\n",
       "    .dataframe thead th {\n",
       "        text-align: right;\n",
       "    }\n",
       "</style>\n",
       "<table border=\"1\" class=\"dataframe\">\n",
       "  <thead>\n",
       "    <tr style=\"text-align: right;\">\n",
       "      <th></th>\n",
       "      <th>company_name</th>\n",
       "      <th>2016_ghg_s1</th>\n",
       "      <th>2017_ghg_s1</th>\n",
       "      <th>2016_production</th>\n",
       "      <th>2017_production</th>\n",
       "    </tr>\n",
       "  </thead>\n",
       "  <tbody>\n",
       "    <tr>\n",
       "      <th>0</th>\n",
       "      <td>PNM Resources, Inc.</td>\n",
       "      <td>6.337250786</td>\n",
       "      <td>6.488768702</td>\n",
       "      <td>10.2316757 terawatt_hour</td>\n",
       "      <td>10.1709745 terawatt_hour</td>\n",
       "    </tr>\n",
       "    <tr>\n",
       "      <th>1</th>\n",
       "      <td>POSCO</td>\n",
       "      <td>81.3098</td>\n",
       "      <td>75.63336</td>\n",
       "      <td>42199000.0 Fe_ton</td>\n",
       "      <td>37207000.0 Fe_ton</td>\n",
       "    </tr>\n",
       "    <tr>\n",
       "      <th>2</th>\n",
       "      <td>PPL Corp.</td>\n",
       "      <td>30.08848723</td>\n",
       "      <td>30.24837146</td>\n",
       "      <td>34.61322117 terawatt_hour</td>\n",
       "      <td>33.53286848 terawatt_hour</td>\n",
       "    </tr>\n",
       "    <tr>\n",
       "      <th>3</th>\n",
       "      <td>PG&amp;E Corp.</td>\n",
       "      <td>2.216543993</td>\n",
       "      <td>2.251191566</td>\n",
       "      <td>32.993292 terawatt_hour</td>\n",
       "      <td>34.490224 terawatt_hour</td>\n",
       "    </tr>\n",
       "  </tbody>\n",
       "</table>\n",
       "</div>"
      ],
      "text/plain": [
       "          company_name  2016_ghg_s1  2017_ghg_s1            2016_production  \\\n",
       "0  PNM Resources, Inc.  6.337250786  6.488768702   10.2316757 terawatt_hour   \n",
       "1                POSCO      81.3098     75.63336          42199000.0 Fe_ton   \n",
       "2            PPL Corp.  30.08848723  30.24837146  34.61322117 terawatt_hour   \n",
       "3           PG&E Corp.  2.216543993  2.251191566    32.993292 terawatt_hour   \n",
       "\n",
       "             2017_production  \n",
       "0   10.1709745 terawatt_hour  \n",
       "1          37207000.0 Fe_ton  \n",
       "2  33.53286848 terawatt_hour  \n",
       "3    34.490224 terawatt_hour  "
      ]
     },
     "execution_count": 20,
     "metadata": {},
     "output_type": "execute_result"
    }
   ],
   "source": [
    "new_df = requantify_df(sql_df).convert_dtypes()\n",
    "new_df"
   ]
  },
  {
   "cell_type": "code",
   "execution_count": 21,
   "id": "9c61f731-d27e-42b9-819e-1536899bdb5b",
   "metadata": {},
   "outputs": [
    {
     "data": {
      "text/plain": [
       "company_name                           string\n",
       "2016_ghg_s1        pint[CO2 * megametric_ton]\n",
       "2017_ghg_s1        pint[CO2 * megametric_ton]\n",
       "2016_production                        object\n",
       "2017_production                        object\n",
       "dtype: object"
      ]
     },
     "execution_count": 21,
     "metadata": {},
     "output_type": "execute_result"
    }
   ],
   "source": [
    "new_df.dtypes"
   ]
  },
  {
   "cell_type": "code",
   "execution_count": null,
   "id": "b258ddd5-9cf8-43e1-a93c-f580d2d4b9fc",
   "metadata": {},
   "outputs": [],
   "source": []
  }
 ],
 "metadata": {
  "kernelspec": {
   "display_name": "Python 3 (ipykernel)",
   "language": "python",
   "name": "python3"
  },
  "language_info": {
   "codemirror_mode": {
    "name": "ipython",
    "version": 3
   },
   "file_extension": ".py",
   "mimetype": "text/x-python",
   "name": "python",
   "nbconvert_exporter": "python",
   "pygments_lexer": "ipython3",
   "version": "3.8.8"
  }
 },
 "nbformat": 4,
 "nbformat_minor": 5
}
