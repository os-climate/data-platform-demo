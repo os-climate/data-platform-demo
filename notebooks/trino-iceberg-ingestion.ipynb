{
 "cells": [
  {
   "cell_type": "markdown",
   "id": "b15f030d-bd29-4ba5-a0ed-2c22afbfcee2",
   "metadata": {},
   "source": [
    "# Trino / Iceberg connector data management demo sample\n",
    "Copyright (C) 2021 OS-Climate\n",
    "\n",
    "This sample shows:\n",
    "* How to create schemas and tables and ingest data from a dataframe via Trino / SQLAlchemy running on an Apache Iceberg data volume\n",
    "* Simple data set metadata ingestion at the schema and fields level in dedicated Trino data store\n",
    "* Apache Iceberg ACID transaction and time travel capabilities used for data set versioning\n",
    "\n",
    "\n",
    "Permission is hereby granted, free of charge, to any person obtaining a copy of this software and associated documentation files (the \"Software\"), to deal in the Software without restriction, including without limitation the rights to use, copy, modify, merge, publish, distribute, sublicense, and/or sell copies of the Software, and to permit persons to whom the Software is furnished to do so, subject to the following conditions:\n",
    "\n",
    "The above copyright notice and this permission notice shall be included in all copies or substantial portions of the Software.\n",
    "\n",
    "THE SOFTWARE IS PROVIDED \"AS IS\", WITHOUT WARRANTY OF ANY KIND, EXPRESS OR IMPLIED, INCLUDING BUT NOT LIMITED TO THE WARRANTIES OF MERCHANTABILITY, FITNESS FOR A PARTICULAR PURPOSE AND NONINFRINGEMENT. IN NO EVENT SHALL THE AUTHORS OR COPYRIGHT HOLDERS BE LIABLE FOR ANY CLAIM, DAMAGES OR OTHER LIABILITY, WHETHER IN AN ACTION OF CONTRACT, TORT OR OTHERWISE, ARISING FROM, OUT OF OR IN CONNECTION WITH THE SOFTWARE OR THE USE OR OTHER DEALINGS IN THE SOFTWARE."
   ]
  },
  {
   "cell_type": "code",
   "execution_count": 1,
   "id": "d19cbfc0-c0c4-4f2d-ac77-b8aac2ecf982",
   "metadata": {},
   "outputs": [],
   "source": [
    "%%capture pipoutput\n",
    "\n",
    "# For loading predefined environment variables from files\n",
    "# Typically used to load sensitive access credentials\n",
    "%pip install python-dotenv\n",
    "\n",
    "# Standard python package for interacting with S3 buckets\n",
    "%pip install boto3\n",
    "\n",
    "# Interacting with Trino and using Trino with sqlalchemy\n",
    "%pip install trino sqlalchemy sqlalchemy-trino\n",
    "\n",
    "# Pandas and parquet file i/o\n",
    "%pip install pandas pyarrow fastparquet\n",
    "\n",
    "# OS-Climate utilities to make data ingest easier\n",
    "%pip install osc-ingest-tools"
   ]
  },
  {
   "cell_type": "code",
   "execution_count": 2,
   "id": "8f0479a4-03c3-4ca0-8e2e-0d589a7370ec",
   "metadata": {},
   "outputs": [],
   "source": [
    "from dotenv import dotenv_values, load_dotenv\n",
    "import os\n",
    "import pathlib\n",
    "import pandas as pd\n",
    "import uuid\n",
    "import trino\n",
    "from sqlalchemy.engine import create_engine\n",
    "from osc_ingest_trino import *"
   ]
  },
  {
   "cell_type": "markdown",
   "id": "8959cc90-035e-45fc-bf40-566430c6d954",
   "metadata": {},
   "source": [
    "Load Environment Variables"
   ]
  },
  {
   "cell_type": "code",
   "execution_count": 3,
   "id": "60bb11a6-bce9-4150-b0b1-563e85d71a91",
   "metadata": {},
   "outputs": [],
   "source": [
    "dotenv_dir = os.environ.get('CREDENTIAL_DOTENV_DIR', os.environ.get('PWD', '/opt/app-root/src'))\n",
    "dotenv_path = pathlib.Path(dotenv_dir) / 'credentials.env'\n",
    "if os.path.exists(dotenv_path):\n",
    "    load_dotenv(dotenv_path=dotenv_path,override=True)"
   ]
  },
  {
   "cell_type": "markdown",
   "id": "0255e9e5-d2b7-426b-8f98-56126c4891cc",
   "metadata": {},
   "source": [
    "Create a simple data frame with list of power plans and capacity for ingestion"
   ]
  },
  {
   "cell_type": "code",
   "execution_count": 4,
   "id": "c76c9a7d-a214-42a2-9b66-ce4031e2e62a",
   "metadata": {},
   "outputs": [
    {
     "data": {
      "text/html": [
       "<div>\n",
       "<style scoped>\n",
       "    .dataframe tbody tr th:only-of-type {\n",
       "        vertical-align: middle;\n",
       "    }\n",
       "\n",
       "    .dataframe tbody tr th {\n",
       "        vertical-align: top;\n",
       "    }\n",
       "\n",
       "    .dataframe thead th {\n",
       "        text-align: right;\n",
       "    }\n",
       "</style>\n",
       "<table border=\"1\" class=\"dataframe\">\n",
       "  <thead>\n",
       "    <tr style=\"text-align: right;\">\n",
       "      <th></th>\n",
       "      <th>name</th>\n",
       "      <th>capacity_gwh</th>\n",
       "      <th>uuid</th>\n",
       "    </tr>\n",
       "  </thead>\n",
       "  <tbody>\n",
       "    <tr>\n",
       "      <th>0</th>\n",
       "      <td>Albas</td>\n",
       "      <td>1.8</td>\n",
       "      <td>fedc4764-a2c7-472b-8c20-5b51b7f85075</td>\n",
       "    </tr>\n",
       "    <tr>\n",
       "      <th>1</th>\n",
       "      <td>Albi</td>\n",
       "      <td>6.70448</td>\n",
       "      <td>fedc4764-a2c7-472b-8c20-5b51b7f85075</td>\n",
       "    </tr>\n",
       "    <tr>\n",
       "      <th>2</th>\n",
       "      <td>Albias</td>\n",
       "      <td>2.41</td>\n",
       "      <td>fedc4764-a2c7-472b-8c20-5b51b7f85075</td>\n",
       "    </tr>\n",
       "    <tr>\n",
       "      <th>3</th>\n",
       "      <td>Allaire</td>\n",
       "      <td>8.2</td>\n",
       "      <td>fedc4764-a2c7-472b-8c20-5b51b7f85075</td>\n",
       "    </tr>\n",
       "  </tbody>\n",
       "</table>\n",
       "</div>"
      ],
      "text/plain": [
       "      name  capacity_gwh                                  uuid\n",
       "0    Albas           1.8  fedc4764-a2c7-472b-8c20-5b51b7f85075\n",
       "1     Albi       6.70448  fedc4764-a2c7-472b-8c20-5b51b7f85075\n",
       "2   Albias          2.41  fedc4764-a2c7-472b-8c20-5b51b7f85075\n",
       "3  Allaire           8.2  fedc4764-a2c7-472b-8c20-5b51b7f85075"
      ]
     },
     "execution_count": 4,
     "metadata": {},
     "output_type": "execute_result"
    }
   ],
   "source": [
    "# initialise data of lists of powerplants and capacity\n",
    "data = {'name':['Albas', 'Albi', 'Albias', 'Allaire'],\n",
    "        'capacity_gwh':[1.8, 6.70448, 2.41, 8.2]}\n",
    "# Create DataFrame\n",
    "df = pd.DataFrame(data)\n",
    "# Add a unique identifier to the data set\n",
    "uid = str(uuid.uuid4())\n",
    "df['uuid'] = uid\n",
    "# Print the output\n",
    "df = df.convert_dtypes()\n",
    "df"
   ]
  },
  {
   "cell_type": "code",
   "execution_count": 5,
   "id": "8b5c2d4d-3a07-439e-8f17-18057865f557",
   "metadata": {},
   "outputs": [
    {
     "name": "stdout",
     "output_type": "stream",
     "text": [
      "<class 'pandas.core.frame.DataFrame'>\n",
      "RangeIndex: 4 entries, 0 to 3\n",
      "Data columns (total 3 columns):\n",
      " #   Column        Non-Null Count  Dtype  \n",
      "---  ------        --------------  -----  \n",
      " 0   name          4 non-null      string \n",
      " 1   capacity_gwh  4 non-null      Float64\n",
      " 2   uuid          4 non-null      string \n",
      "dtypes: Float64(1), string(2)\n",
      "memory usage: 228.0 bytes\n"
     ]
    }
   ],
   "source": [
    "df.info(verbose=True)"
   ]
  },
  {
   "cell_type": "markdown",
   "id": "5946f4b1-b119-4003-8c58-96981ac1861c",
   "metadata": {},
   "source": [
    "Define variables for catalog / schema / table names for ingestion"
   ]
  },
  {
   "cell_type": "code",
   "execution_count": 6,
   "id": "03ad4100-aee6-4ada-939f-75451ebc4db1",
   "metadata": {},
   "outputs": [],
   "source": [
    "catalogname = 'osc_datacommons_iceberg_dev'\n",
    "schemaname = 'wri_dev'\n",
    "tablename = 'gppd'"
   ]
  },
  {
   "cell_type": "markdown",
   "id": "dc26caec-4101-40b6-8991-3525b5ffb491",
   "metadata": {},
   "source": [
    "Create a connection to Trino database via SQLAlchemy"
   ]
  },
  {
   "cell_type": "code",
   "execution_count": 7,
   "id": "09c609a5-7b0b-41b5-87de-92ccf522fb5e",
   "metadata": {},
   "outputs": [
    {
     "name": "stdout",
     "output_type": "stream",
     "text": [
      "connecting with engine Engine(trino://caldeirav@trino-secure-odh-trino.apps.odh-cl1.apps.os-climate.org:443/osc_datacommons_iceberg_dev)\n"
     ]
    }
   ],
   "source": [
    "# telling sqlalchemy about catalog has to be done in the sqlstring url\n",
    "sqlstring = 'trino://{user}@{host}:{port}/{catalog}'.format(\n",
    "    user = os.environ['TRINO_USER'],\n",
    "    host = os.environ['TRINO_HOST'],\n",
    "    port = os.environ['TRINO_PORT'],\n",
    "    catalog = catalogname\n",
    ")\n",
    "sqlargs = {\n",
    "    'auth': trino.auth.JWTAuthentication(os.environ['TRINO_PASSWD']),\n",
    "    'http_scheme': 'https'\n",
    "}\n",
    "engine = create_engine(sqlstring, connect_args = sqlargs)\n",
    "print(\"connecting with engine \" + str(engine))\n",
    "connection = engine.connect()"
   ]
  },
  {
   "cell_type": "code",
   "execution_count": 8,
   "id": "9836ffc4-c41d-4179-88f6-530537c77d56",
   "metadata": {},
   "outputs": [
    {
     "name": "stdout",
     "output_type": "stream",
     "text": [
      "[('aicoe_osc_demo',), ('company_data',), ('default',), ('defaultschema1',), ('demo',), ('eje',), ('eje_test_iceberg',), ('epa_frs',), ('epa_ghgrp',), ('epacems',), ('epacems_y95_al',), ('essd',), ('gleif',), ('information_schema',), ('ingest_schema',), ('mdt',), ('mdt_dera',), ('mdt_dera1',), ('metastore',), ('metastore_iceberg',), ('osc_corp_data',), ('physical_risk_project',), ('pudl',), ('rmi_utility_transition_hub',), ('sec_dera',), ('sfi_geoasset',), ('team1',), ('team2',), ('testaccessschema1',), ('testdb',), ('urgentem',), ('us_census',), ('wri',), ('wri_demo',), ('wri_gppd',), ('wri_gppd_md',), ('wri_new',), ('wri_test',)]\n"
     ]
    }
   ],
   "source": [
    "# Show available schemas to ensure trino connection is set correctly\n",
    "schema_show_sql = f\"\"\"\n",
    "show schemas in {catalogname}\n",
    "\"\"\"\n",
    "schema_show = engine.execute(schema_show_sql)\n",
    "print(schema_show.fetchall())"
   ]
  },
  {
   "cell_type": "markdown",
   "id": "f6692ef5-5265-41f1-8c93-7825916ba7e2",
   "metadata": {},
   "source": [
    "Create ingestion schema based on source data name, if required"
   ]
  },
  {
   "cell_type": "code",
   "execution_count": 9,
   "id": "59db9ec2-be12-4abe-aeea-3af2c93f1332",
   "metadata": {},
   "outputs": [
    {
     "name": "stdout",
     "output_type": "stream",
     "text": [
      "[(True,)]\n"
     ]
    }
   ],
   "source": [
    "schema_create_sql = f\"\"\"\n",
    "create schema if not exists {catalogname}.{schemaname}\n",
    "\"\"\"\n",
    "schema_create = engine.execute(schema_create_sql)\n",
    "print(schema_create.fetchall())"
   ]
  },
  {
   "cell_type": "markdown",
   "id": "43451dd1-17f9-4068-8ce9-dccd2fcd6fb4",
   "metadata": {},
   "source": [
    "Create ingestion table if required, by mapping the data frame schema to a SQL schema"
   ]
  },
  {
   "cell_type": "code",
   "execution_count": 10,
   "id": "d6176de6-753e-403d-834e-eb2ae35b3075",
   "metadata": {},
   "outputs": [
    {
     "name": "stdout",
     "output_type": "stream",
     "text": [
      "\n",
      "create table if not exists osc_datacommons_iceberg_dev.wri_dev.gppd(\n",
      "    name varchar,\n",
      "    capacity_gwh double,\n",
      "    uuid varchar\n",
      ") with (\n",
      "    format = 'ORC',\n",
      "    partitioning = ARRAY['uuid']\n",
      ")\n",
      "\n"
     ]
    }
   ],
   "source": [
    "schema = create_table_schema_pairs(df)\n",
    "\n",
    "tabledef = f\"\"\"\n",
    "create table if not exists {catalogname}.{schemaname}.{tablename}(\n",
    "{schema}\n",
    ") with (\n",
    "    format = 'ORC',\n",
    "    partitioning = ARRAY['uuid']\n",
    ")\n",
    "\"\"\"\n",
    "print(tabledef)"
   ]
  },
  {
   "cell_type": "code",
   "execution_count": 11,
   "id": "c886a3b3-a1f4-490f-9c25-66500fb93f93",
   "metadata": {},
   "outputs": [
    {
     "name": "stdout",
     "output_type": "stream",
     "text": [
      "[(True,)]\n"
     ]
    }
   ],
   "source": [
    "table_create = engine.execute(tabledef)\n",
    "print(table_create.fetchall())"
   ]
  },
  {
   "cell_type": "markdown",
   "id": "0b6a0796-5580-40b0-a4a8-ff0ae8394b38",
   "metadata": {},
   "source": [
    "Ingest the power plant data in Append mode"
   ]
  },
  {
   "cell_type": "code",
   "execution_count": 12,
   "id": "e7411f4e-4126-4cea-b10e-94ae4253c569",
   "metadata": {},
   "outputs": [],
   "source": [
    "# important specify the schema here, and catalog when you create the db connection earlier\n",
    "# use 'append' mode since we already created the table\n",
    "# index = False, unless you declared that as a column when you create the table\n",
    "# method = 'multi' is important, default will not work\n",
    "df.to_sql(tablename,\n",
    "           con=engine,\n",
    "           schema=schemaname,\n",
    "           if_exists='append',\n",
    "           index=False,\n",
    "           method='multi')"
   ]
  },
  {
   "cell_type": "markdown",
   "id": "c16e32a7-1ca9-4b44-ba1b-3f948dffbe2a",
   "metadata": {},
   "source": [
    "Query Iceberg snapshots for WRI GPPD data set. Snapshots allow having an immutable set of the data at a given time. They are automatically created on every append or removal of data."
   ]
  },
  {
   "cell_type": "code",
   "execution_count": 13,
   "id": "6fc3ee29-fd09-42e6-b74c-384c1adb7e4c",
   "metadata": {},
   "outputs": [
    {
     "name": "stdout",
     "output_type": "stream",
     "text": [
      "\n",
      "SELECT committed_at, snapshot_id, parent_id from osc_datacommons_iceberg_dev.wri_dev.\"gppd$snapshots\"\n",
      "    order by committed_at desc\n",
      "\n"
     ]
    },
    {
     "data": {
      "text/plain": [
       "[('2021-11-29 12:59:39.168 UTC', 6342786149887071998, 6733920372418153154),\n",
       " ('2021-11-29 12:59:36.409 UTC', 6733920372418153154, None)]"
      ]
     },
     "execution_count": 13,
     "metadata": {},
     "output_type": "execute_result"
    }
   ],
   "source": [
    "snapshot_query=f\"\"\"\n",
    "SELECT committed_at, snapshot_id, parent_id from {catalogname}.{schemaname}.\"{tablename}$snapshots\"\n",
    "    order by committed_at desc\n",
    "\"\"\"\n",
    "print(snapshot_query)\n",
    "snapshots = engine.execute(snapshot_query).fetchall()\n",
    "snapshots"
   ]
  },
  {
   "cell_type": "markdown",
   "id": "99c18759-a3fa-4571-9e99-db28ae691d05",
   "metadata": {},
   "source": [
    "Create custom meta data for the schema and field-level data"
   ]
  },
  {
   "cell_type": "code",
   "execution_count": 14,
   "id": "17457906-5bef-424e-8fa2-d9d6e5d28795",
   "metadata": {},
   "outputs": [],
   "source": [
    "custom_meta_content = {\n",
    "    'dataset_key': 'gppd',\n",
    "    'title': 'Global Power Plant Database',\n",
    "    'description': 'A comprehensive, global, open source database of power plants',\n",
    "    'version': '1.3.0',\n",
    "    'release_date': '20210602',\n",
    "    'fields': [\n",
    "    {\n",
    "        'field_name': 'name',\n",
    "        'definition': 'name of the power plant',\n",
    "        'type': 'text'\n",
    "    },\n",
    "    {\n",
    "        'field_name': 'capacity_gwh',\n",
    "        'definition': 'electricity generation in gigawatt-hours',\n",
    "        'type': 'number'\n",
    "    }]\n",
    "}"
   ]
  },
  {
   "cell_type": "markdown",
   "id": "7a07331c-71ac-4d0e-afd2-946b9ac994c2",
   "metadata": {},
   "source": [
    "Convert custom metadata content in json format into Pandas DataFrame"
   ]
  },
  {
   "cell_type": "code",
   "execution_count": 15,
   "id": "4acb619c-e62f-4b19-8285-b6ea3764aa4e",
   "metadata": {},
   "outputs": [
    {
     "data": {
      "text/html": [
       "<div>\n",
       "<style scoped>\n",
       "    .dataframe tbody tr th:only-of-type {\n",
       "        vertical-align: middle;\n",
       "    }\n",
       "\n",
       "    .dataframe tbody tr th {\n",
       "        vertical-align: top;\n",
       "    }\n",
       "\n",
       "    .dataframe thead th {\n",
       "        text-align: right;\n",
       "    }\n",
       "</style>\n",
       "<table border=\"1\" class=\"dataframe\">\n",
       "  <thead>\n",
       "    <tr style=\"text-align: right;\">\n",
       "      <th></th>\n",
       "      <th>field_name</th>\n",
       "      <th>definition</th>\n",
       "      <th>type</th>\n",
       "      <th>dataset_key</th>\n",
       "    </tr>\n",
       "  </thead>\n",
       "  <tbody>\n",
       "    <tr>\n",
       "      <th>0</th>\n",
       "      <td>name</td>\n",
       "      <td>name of the power plant</td>\n",
       "      <td>text</td>\n",
       "      <td>gppd</td>\n",
       "    </tr>\n",
       "    <tr>\n",
       "      <th>1</th>\n",
       "      <td>capacity_gwh</td>\n",
       "      <td>electricity generation in gigawatt-hours</td>\n",
       "      <td>number</td>\n",
       "      <td>gppd</td>\n",
       "    </tr>\n",
       "  </tbody>\n",
       "</table>\n",
       "</div>"
      ],
      "text/plain": [
       "     field_name                                definition    type dataset_key\n",
       "0          name                   name of the power plant    text        gppd\n",
       "1  capacity_gwh  electricity generation in gigawatt-hours  number        gppd"
      ]
     },
     "execution_count": 15,
     "metadata": {},
     "output_type": "execute_result"
    }
   ],
   "source": [
    "df_meta_fields = pd.json_normalize(custom_meta_content, record_path =['fields'], meta=['dataset_key']).convert_dtypes()\n",
    "df_meta_fields"
   ]
  },
  {
   "cell_type": "code",
   "execution_count": 16,
   "id": "d2a9dedd-900a-4f44-834f-5fc866492a7b",
   "metadata": {},
   "outputs": [
    {
     "name": "stdout",
     "output_type": "stream",
     "text": [
      "<class 'pandas.core.frame.DataFrame'>\n",
      "RangeIndex: 2 entries, 0 to 1\n",
      "Data columns (total 4 columns):\n",
      " #   Column       Non-Null Count  Dtype \n",
      "---  ------       --------------  ----- \n",
      " 0   field_name   2 non-null      string\n",
      " 1   definition   2 non-null      string\n",
      " 2   type         2 non-null      string\n",
      " 3   dataset_key  2 non-null      string\n",
      "dtypes: string(4)\n",
      "memory usage: 192.0 bytes\n"
     ]
    }
   ],
   "source": [
    "df_meta_fields.info(verbose=True)"
   ]
  },
  {
   "cell_type": "code",
   "execution_count": 17,
   "id": "64e78464-3546-45ac-ac98-46bfdf8a1ee5",
   "metadata": {},
   "outputs": [
    {
     "data": {
      "text/html": [
       "<div>\n",
       "<style scoped>\n",
       "    .dataframe tbody tr th:only-of-type {\n",
       "        vertical-align: middle;\n",
       "    }\n",
       "\n",
       "    .dataframe tbody tr th {\n",
       "        vertical-align: top;\n",
       "    }\n",
       "\n",
       "    .dataframe thead th {\n",
       "        text-align: right;\n",
       "    }\n",
       "</style>\n",
       "<table border=\"1\" class=\"dataframe\">\n",
       "  <thead>\n",
       "    <tr style=\"text-align: right;\">\n",
       "      <th></th>\n",
       "      <th>dataset_key</th>\n",
       "      <th>title</th>\n",
       "      <th>description</th>\n",
       "      <th>version</th>\n",
       "      <th>release_date</th>\n",
       "      <th>schema</th>\n",
       "    </tr>\n",
       "  </thead>\n",
       "  <tbody>\n",
       "    <tr>\n",
       "      <th>0</th>\n",
       "      <td>gppd</td>\n",
       "      <td>Global Power Plant Database</td>\n",
       "      <td>A comprehensive, global, open source database ...</td>\n",
       "      <td>1.3.0</td>\n",
       "      <td>20210602</td>\n",
       "      <td>wri_dev</td>\n",
       "    </tr>\n",
       "  </tbody>\n",
       "</table>\n",
       "</div>"
      ],
      "text/plain": [
       "  dataset_key                        title  \\\n",
       "0        gppd  Global Power Plant Database   \n",
       "\n",
       "                                         description version release_date  \\\n",
       "0  A comprehensive, global, open source database ...   1.3.0     20210602   \n",
       "\n",
       "    schema  \n",
       "0  wri_dev  "
      ]
     },
     "execution_count": 17,
     "metadata": {},
     "output_type": "execute_result"
    }
   ],
   "source": [
    "df_meta_table = pd.json_normalize(custom_meta_content, max_level=0)\n",
    "df_meta_table.drop('fields', inplace=True, axis=1)\n",
    "df_meta_table['schema'] = schemaname\n",
    "df_meta_table = df_meta_table.convert_dtypes()\n",
    "df_meta_table"
   ]
  },
  {
   "cell_type": "code",
   "execution_count": 18,
   "id": "a161cfab-e074-4186-8c45-62c80efe7caa",
   "metadata": {},
   "outputs": [
    {
     "name": "stdout",
     "output_type": "stream",
     "text": [
      "<class 'pandas.core.frame.DataFrame'>\n",
      "RangeIndex: 1 entries, 0 to 0\n",
      "Data columns (total 6 columns):\n",
      " #   Column        Non-Null Count  Dtype \n",
      "---  ------        --------------  ----- \n",
      " 0   dataset_key   1 non-null      string\n",
      " 1   title         1 non-null      string\n",
      " 2   description   1 non-null      string\n",
      " 3   version       1 non-null      string\n",
      " 4   release_date  1 non-null      string\n",
      " 5   schema        1 non-null      string\n",
      "dtypes: string(6)\n",
      "memory usage: 176.0 bytes\n"
     ]
    }
   ],
   "source": [
    "df_meta_table.info(verbose=True)"
   ]
  },
  {
   "cell_type": "markdown",
   "id": "a177d607-61e2-42e5-9ed1-b3e6c9694687",
   "metadata": {},
   "source": [
    "Ingest metadata table for schema (dataset) and field level information"
   ]
  },
  {
   "cell_type": "code",
   "execution_count": 19,
   "id": "d2ca51f1-73fa-41b2-869d-b552a55b558c",
   "metadata": {},
   "outputs": [],
   "source": [
    "# declare variable names for metadata structure in Trino\n",
    "meta_schema_name = 'metastore_iceberg'\n",
    "meta_table_name_dataset = 'meta_tables_iceberg'\n",
    "meta_table_name_fields = 'meta_fields_iceberg'"
   ]
  },
  {
   "cell_type": "code",
   "execution_count": 20,
   "id": "b1290f61-7805-4e4b-b833-007214dcf161",
   "metadata": {},
   "outputs": [
    {
     "name": "stdout",
     "output_type": "stream",
     "text": [
      "[(True,)]\n"
     ]
    }
   ],
   "source": [
    "# create metastore schema if it does not exist\n",
    "schema_create_sql = f\"\"\"\n",
    "create schema if not exists {catalogname}.{meta_schema_name}\n",
    "\"\"\"\n",
    "schema_create = engine.execute(schema_create_sql)\n",
    "print(schema_create.fetchall())"
   ]
  },
  {
   "cell_type": "code",
   "execution_count": 21,
   "id": "8c773167-a99d-4f70-a748-afb4f2fbc29b",
   "metadata": {},
   "outputs": [
    {
     "name": "stdout",
     "output_type": "stream",
     "text": [
      "\n",
      "create table if not exists osc_datacommons_iceberg_dev.metastore_iceberg.meta_tables_iceberg(\n",
      "    dataset_key varchar,\n",
      "    title varchar,\n",
      "    description varchar,\n",
      "    version varchar,\n",
      "    release_date varchar,\n",
      "    schema varchar\n",
      ") with (\n",
      "    format = 'ORC',\n",
      "    partitioning = ARRAY['dataset_key']\n",
      ")\n",
      "\n"
     ]
    }
   ],
   "source": [
    "# create table for data set level metadata\n",
    "schema_meta_table = create_table_schema_pairs(df_meta_table)\n",
    "\n",
    "tabledef = f\"\"\"\n",
    "create table if not exists {catalogname}.{meta_schema_name}.{meta_table_name_dataset}(\n",
    "{schema_meta_table}\n",
    ") with (\n",
    "    format = 'ORC',\n",
    "    partitioning = ARRAY['dataset_key']\n",
    ")\n",
    "\"\"\"\n",
    "print(tabledef)"
   ]
  },
  {
   "cell_type": "code",
   "execution_count": 22,
   "id": "188dbaf3-8cfe-4256-a229-3a157028832d",
   "metadata": {},
   "outputs": [
    {
     "name": "stdout",
     "output_type": "stream",
     "text": [
      "[(True,)]\n"
     ]
    }
   ],
   "source": [
    "meta_table_create = engine.execute(tabledef)\n",
    "print(meta_table_create.fetchall())"
   ]
  },
  {
   "cell_type": "code",
   "execution_count": 23,
   "id": "7531c106-48e0-4a13-bebe-b5032aa9ee19",
   "metadata": {},
   "outputs": [],
   "source": [
    "# ingest dataset metadata\n",
    "df_meta_table.to_sql(meta_table_name_dataset,\n",
    "           con=engine,\n",
    "           schema=meta_schema_name,\n",
    "           if_exists='append',\n",
    "           index=False,\n",
    "           method='multi')"
   ]
  },
  {
   "cell_type": "code",
   "execution_count": 24,
   "id": "f912e3b1-9488-4699-afbe-d2e6b74f8d9e",
   "metadata": {},
   "outputs": [
    {
     "name": "stdout",
     "output_type": "stream",
     "text": [
      "\n",
      "create table if not exists osc_datacommons_iceberg_dev.metastore_iceberg.meta_fields_iceberg(\n",
      "    field_name varchar,\n",
      "    definition varchar,\n",
      "    type varchar,\n",
      "    dataset_key varchar\n",
      ") with (\n",
      "    format = 'ORC',\n",
      "    partitioning = ARRAY['dataset_key']\n",
      ")\n",
      "\n"
     ]
    }
   ],
   "source": [
    "# create table for field level metadata\n",
    "schema_meta_fields = create_table_schema_pairs(df_meta_fields)\n",
    "\n",
    "tabledef = f\"\"\"\n",
    "create table if not exists {catalogname}.{meta_schema_name}.{meta_table_name_fields}(\n",
    "{schema_meta_fields}\n",
    ") with (\n",
    "    format = 'ORC',\n",
    "    partitioning = ARRAY['dataset_key']\n",
    ")\n",
    "\"\"\"\n",
    "print(tabledef)"
   ]
  },
  {
   "cell_type": "code",
   "execution_count": 25,
   "id": "2431d3e2-71c4-47be-923b-839ff5e4ccb0",
   "metadata": {},
   "outputs": [],
   "source": [
    "# ingest fields metadata\n",
    "df_meta_fields.to_sql(meta_table_name_fields,\n",
    "           con=engine,\n",
    "           schema=meta_schema_name,\n",
    "           if_exists='append',\n",
    "           index=False,\n",
    "           method='multi')"
   ]
  },
  {
   "cell_type": "markdown",
   "id": "5bf701c7-f645-4e00-9b70-98d9a8cfb00e",
   "metadata": {},
   "source": [
    "Update the source data to create a new data set for ingestion"
   ]
  },
  {
   "cell_type": "code",
   "execution_count": 26,
   "id": "a01c96f3-7604-42a2-9a68-704cd9ad01bc",
   "metadata": {},
   "outputs": [
    {
     "data": {
      "text/html": [
       "<div>\n",
       "<style scoped>\n",
       "    .dataframe tbody tr th:only-of-type {\n",
       "        vertical-align: middle;\n",
       "    }\n",
       "\n",
       "    .dataframe tbody tr th {\n",
       "        vertical-align: top;\n",
       "    }\n",
       "\n",
       "    .dataframe thead th {\n",
       "        text-align: right;\n",
       "    }\n",
       "</style>\n",
       "<table border=\"1\" class=\"dataframe\">\n",
       "  <thead>\n",
       "    <tr style=\"text-align: right;\">\n",
       "      <th></th>\n",
       "      <th>name</th>\n",
       "      <th>capacity_gwh</th>\n",
       "      <th>uuid</th>\n",
       "    </tr>\n",
       "  </thead>\n",
       "  <tbody>\n",
       "    <tr>\n",
       "      <th>0</th>\n",
       "      <td>Albas</td>\n",
       "      <td>2.8</td>\n",
       "      <td>2b687221-301b-4ce9-86c2-880f65c5151f</td>\n",
       "    </tr>\n",
       "    <tr>\n",
       "      <th>1</th>\n",
       "      <td>Albi</td>\n",
       "      <td>6.90448</td>\n",
       "      <td>2b687221-301b-4ce9-86c2-880f65c5151f</td>\n",
       "    </tr>\n",
       "    <tr>\n",
       "      <th>2</th>\n",
       "      <td>Albias</td>\n",
       "      <td>2.2</td>\n",
       "      <td>2b687221-301b-4ce9-86c2-880f65c5151f</td>\n",
       "    </tr>\n",
       "    <tr>\n",
       "      <th>3</th>\n",
       "      <td>Allaire</td>\n",
       "      <td>7.4</td>\n",
       "      <td>2b687221-301b-4ce9-86c2-880f65c5151f</td>\n",
       "    </tr>\n",
       "  </tbody>\n",
       "</table>\n",
       "</div>"
      ],
      "text/plain": [
       "      name  capacity_gwh                                  uuid\n",
       "0    Albas           2.8  2b687221-301b-4ce9-86c2-880f65c5151f\n",
       "1     Albi       6.90448  2b687221-301b-4ce9-86c2-880f65c5151f\n",
       "2   Albias           2.2  2b687221-301b-4ce9-86c2-880f65c5151f\n",
       "3  Allaire           7.4  2b687221-301b-4ce9-86c2-880f65c5151f"
      ]
     },
     "execution_count": 26,
     "metadata": {},
     "output_type": "execute_result"
    }
   ],
   "source": [
    "# initialise new data for powerplants and capacity\n",
    "new_data = {'name':['Albas', 'Albi', 'Albias', 'Allaire'],\n",
    "        'capacity_gwh':[2.8, 6.90448, 2.20, 7.4]}\n",
    "# Create DataFrame\n",
    "new_df = pd.DataFrame(new_data)\n",
    "# Add a unique identifier to the data set\n",
    "new_uid = str(uuid.uuid4())\n",
    "new_df['uuid'] = new_uid\n",
    "# Print the output\n",
    "new_df = new_df.convert_dtypes()\n",
    "new_df"
   ]
  },
  {
   "cell_type": "code",
   "execution_count": 27,
   "id": "c65232ae-ba27-489c-9df1-61e57f6e10f3",
   "metadata": {},
   "outputs": [],
   "source": [
    "# Ingest new data set\n",
    "new_df.to_sql(tablename,\n",
    "           con=engine,\n",
    "           schema=schemaname,\n",
    "           if_exists='append',\n",
    "           index=False,\n",
    "           method='multi')"
   ]
  },
  {
   "cell_type": "markdown",
   "id": "f7bbcd9a-8566-40d8-9b4b-5c2f56ea7d4a",
   "metadata": {},
   "source": [
    "Query data and Iceberg snapshot"
   ]
  },
  {
   "cell_type": "code",
   "execution_count": 28,
   "id": "2c6c0333-5a79-417c-ac16-9e738220e584",
   "metadata": {},
   "outputs": [
    {
     "name": "stdout",
     "output_type": "stream",
     "text": [
      "\n",
      "select * from osc_datacommons_iceberg_dev.wri_dev.gppd\n",
      "\n"
     ]
    },
    {
     "data": {
      "text/html": [
       "<div>\n",
       "<style scoped>\n",
       "    .dataframe tbody tr th:only-of-type {\n",
       "        vertical-align: middle;\n",
       "    }\n",
       "\n",
       "    .dataframe tbody tr th {\n",
       "        vertical-align: top;\n",
       "    }\n",
       "\n",
       "    .dataframe thead th {\n",
       "        text-align: right;\n",
       "    }\n",
       "</style>\n",
       "<table border=\"1\" class=\"dataframe\">\n",
       "  <thead>\n",
       "    <tr style=\"text-align: right;\">\n",
       "      <th></th>\n",
       "      <th>name</th>\n",
       "      <th>capacity_gwh</th>\n",
       "      <th>uuid</th>\n",
       "    </tr>\n",
       "  </thead>\n",
       "  <tbody>\n",
       "    <tr>\n",
       "      <th>0</th>\n",
       "      <td>Albas</td>\n",
       "      <td>2.80000</td>\n",
       "      <td>2b687221-301b-4ce9-86c2-880f65c5151f</td>\n",
       "    </tr>\n",
       "    <tr>\n",
       "      <th>1</th>\n",
       "      <td>Albi</td>\n",
       "      <td>6.90448</td>\n",
       "      <td>2b687221-301b-4ce9-86c2-880f65c5151f</td>\n",
       "    </tr>\n",
       "    <tr>\n",
       "      <th>2</th>\n",
       "      <td>Albias</td>\n",
       "      <td>2.20000</td>\n",
       "      <td>2b687221-301b-4ce9-86c2-880f65c5151f</td>\n",
       "    </tr>\n",
       "    <tr>\n",
       "      <th>3</th>\n",
       "      <td>Allaire</td>\n",
       "      <td>7.40000</td>\n",
       "      <td>2b687221-301b-4ce9-86c2-880f65c5151f</td>\n",
       "    </tr>\n",
       "    <tr>\n",
       "      <th>4</th>\n",
       "      <td>Albas</td>\n",
       "      <td>1.80000</td>\n",
       "      <td>fedc4764-a2c7-472b-8c20-5b51b7f85075</td>\n",
       "    </tr>\n",
       "    <tr>\n",
       "      <th>5</th>\n",
       "      <td>Albi</td>\n",
       "      <td>6.70448</td>\n",
       "      <td>fedc4764-a2c7-472b-8c20-5b51b7f85075</td>\n",
       "    </tr>\n",
       "    <tr>\n",
       "      <th>6</th>\n",
       "      <td>Albias</td>\n",
       "      <td>2.41000</td>\n",
       "      <td>fedc4764-a2c7-472b-8c20-5b51b7f85075</td>\n",
       "    </tr>\n",
       "    <tr>\n",
       "      <th>7</th>\n",
       "      <td>Allaire</td>\n",
       "      <td>8.20000</td>\n",
       "      <td>fedc4764-a2c7-472b-8c20-5b51b7f85075</td>\n",
       "    </tr>\n",
       "  </tbody>\n",
       "</table>\n",
       "</div>"
      ],
      "text/plain": [
       "      name  capacity_gwh                                  uuid\n",
       "0    Albas       2.80000  2b687221-301b-4ce9-86c2-880f65c5151f\n",
       "1     Albi       6.90448  2b687221-301b-4ce9-86c2-880f65c5151f\n",
       "2   Albias       2.20000  2b687221-301b-4ce9-86c2-880f65c5151f\n",
       "3  Allaire       7.40000  2b687221-301b-4ce9-86c2-880f65c5151f\n",
       "4    Albas       1.80000  fedc4764-a2c7-472b-8c20-5b51b7f85075\n",
       "5     Albi       6.70448  fedc4764-a2c7-472b-8c20-5b51b7f85075\n",
       "6   Albias       2.41000  fedc4764-a2c7-472b-8c20-5b51b7f85075\n",
       "7  Allaire       8.20000  fedc4764-a2c7-472b-8c20-5b51b7f85075"
      ]
     },
     "execution_count": 28,
     "metadata": {},
     "output_type": "execute_result"
    }
   ],
   "source": [
    "dataset_query=f\"\"\"\n",
    "select * from {catalogname}.{schemaname}.{tablename}\n",
    "\"\"\"\n",
    "print(dataset_query)\n",
    "pd.read_sql(dataset_query, engine)"
   ]
  },
  {
   "cell_type": "code",
   "execution_count": 29,
   "id": "a7bf6c37-47bc-4858-91fc-3434e37d5ca1",
   "metadata": {},
   "outputs": [
    {
     "name": "stdout",
     "output_type": "stream",
     "text": [
      "\n",
      "SELECT committed_at, snapshot_id, parent_id from osc_datacommons_iceberg_dev.wri_dev.\"gppd$snapshots\"\n",
      "    order by committed_at desc\n",
      "\n"
     ]
    },
    {
     "data": {
      "text/plain": [
       "[('2021-11-29 13:00:13.533 UTC', 3101584315002768302, 6342786149887071998),\n",
       " ('2021-11-29 12:59:39.168 UTC', 6342786149887071998, 6733920372418153154),\n",
       " ('2021-11-29 12:59:36.409 UTC', 6733920372418153154, None)]"
      ]
     },
     "execution_count": 29,
     "metadata": {},
     "output_type": "execute_result"
    }
   ],
   "source": [
    "# A new data snapshot has been added with the ingestion timestamp, and parent_id as our previous data ingestion\n",
    "print(snapshot_query)\n",
    "new_snapshots = engine.execute(snapshot_query).fetchall()\n",
    "new_snapshots"
   ]
  },
  {
   "cell_type": "markdown",
   "id": "039d43b8-1406-4d4d-b3e7-d39e551aa261",
   "metadata": {},
   "source": [
    "Query only the first data set (Iceberg time machine)"
   ]
  },
  {
   "cell_type": "code",
   "execution_count": 30,
   "id": "7944d88e-a812-4fde-9290-756d58acc3a1",
   "metadata": {},
   "outputs": [
    {
     "data": {
      "text/plain": [
       "6342786149887071998"
      ]
     },
     "execution_count": 30,
     "metadata": {},
     "output_type": "execute_result"
    }
   ],
   "source": [
    "# retrieve the id of the previous snapshot\n",
    "previous_snapshot = new_snapshots[0][2]\n",
    "previous_snapshot"
   ]
  },
  {
   "cell_type": "code",
   "execution_count": 31,
   "id": "5ec966b0-a89f-4245-a724-38a4516a7667",
   "metadata": {},
   "outputs": [
    {
     "name": "stdout",
     "output_type": "stream",
     "text": [
      "\n",
      "select * from osc_datacommons_iceberg_dev.wri_dev.\"gppd@6342786149887071998\"\n",
      "\n"
     ]
    },
    {
     "data": {
      "text/html": [
       "<div>\n",
       "<style scoped>\n",
       "    .dataframe tbody tr th:only-of-type {\n",
       "        vertical-align: middle;\n",
       "    }\n",
       "\n",
       "    .dataframe tbody tr th {\n",
       "        vertical-align: top;\n",
       "    }\n",
       "\n",
       "    .dataframe thead th {\n",
       "        text-align: right;\n",
       "    }\n",
       "</style>\n",
       "<table border=\"1\" class=\"dataframe\">\n",
       "  <thead>\n",
       "    <tr style=\"text-align: right;\">\n",
       "      <th></th>\n",
       "      <th>name</th>\n",
       "      <th>capacity_gwh</th>\n",
       "      <th>uuid</th>\n",
       "    </tr>\n",
       "  </thead>\n",
       "  <tbody>\n",
       "    <tr>\n",
       "      <th>0</th>\n",
       "      <td>Albas</td>\n",
       "      <td>1.80000</td>\n",
       "      <td>fedc4764-a2c7-472b-8c20-5b51b7f85075</td>\n",
       "    </tr>\n",
       "    <tr>\n",
       "      <th>1</th>\n",
       "      <td>Albi</td>\n",
       "      <td>6.70448</td>\n",
       "      <td>fedc4764-a2c7-472b-8c20-5b51b7f85075</td>\n",
       "    </tr>\n",
       "    <tr>\n",
       "      <th>2</th>\n",
       "      <td>Albias</td>\n",
       "      <td>2.41000</td>\n",
       "      <td>fedc4764-a2c7-472b-8c20-5b51b7f85075</td>\n",
       "    </tr>\n",
       "    <tr>\n",
       "      <th>3</th>\n",
       "      <td>Allaire</td>\n",
       "      <td>8.20000</td>\n",
       "      <td>fedc4764-a2c7-472b-8c20-5b51b7f85075</td>\n",
       "    </tr>\n",
       "  </tbody>\n",
       "</table>\n",
       "</div>"
      ],
      "text/plain": [
       "      name  capacity_gwh                                  uuid\n",
       "0    Albas       1.80000  fedc4764-a2c7-472b-8c20-5b51b7f85075\n",
       "1     Albi       6.70448  fedc4764-a2c7-472b-8c20-5b51b7f85075\n",
       "2   Albias       2.41000  fedc4764-a2c7-472b-8c20-5b51b7f85075\n",
       "3  Allaire       8.20000  fedc4764-a2c7-472b-8c20-5b51b7f85075"
      ]
     },
     "execution_count": 31,
     "metadata": {},
     "output_type": "execute_result"
    }
   ],
   "source": [
    "# query the table state after first snapshot ingestion\n",
    "past_dataset_query=f\"\"\"\n",
    "select * from {catalogname}.{schemaname}.\"{tablename}@{previous_snapshot}\"\n",
    "\"\"\"\n",
    "print(past_dataset_query)\n",
    "pd.read_sql(past_dataset_query, engine)"
   ]
  },
  {
   "cell_type": "markdown",
   "id": "b805b14d-1b38-49f7-9a26-a7beb48ce546",
   "metadata": {},
   "source": [
    "Rollback the second data set"
   ]
  },
  {
   "cell_type": "code",
   "execution_count": 32,
   "id": "ea642f5e-7b4b-416e-97f3-62c5729f470e",
   "metadata": {},
   "outputs": [
    {
     "name": "stdout",
     "output_type": "stream",
     "text": [
      "\n",
      "call osc_datacommons_iceberg_dev.system.rollback_to_snapshot('wri_dev', 'gppd', 6342786149887071998)\n",
      "\n",
      "[(True,)]\n"
     ]
    }
   ],
   "source": [
    "rollback_request=f\"\"\"\n",
    "call {catalogname}.system.rollback_to_snapshot('{schemaname}', '{tablename}', {previous_snapshot})\n",
    "\"\"\"\n",
    "print(rollback_request)\n",
    "print(engine.execute(rollback_request).fetchall())"
   ]
  },
  {
   "cell_type": "code",
   "execution_count": 33,
   "id": "503e2270-c472-43a1-8740-ba86253f966d",
   "metadata": {},
   "outputs": [
    {
     "data": {
      "text/html": [
       "<div>\n",
       "<style scoped>\n",
       "    .dataframe tbody tr th:only-of-type {\n",
       "        vertical-align: middle;\n",
       "    }\n",
       "\n",
       "    .dataframe tbody tr th {\n",
       "        vertical-align: top;\n",
       "    }\n",
       "\n",
       "    .dataframe thead th {\n",
       "        text-align: right;\n",
       "    }\n",
       "</style>\n",
       "<table border=\"1\" class=\"dataframe\">\n",
       "  <thead>\n",
       "    <tr style=\"text-align: right;\">\n",
       "      <th></th>\n",
       "      <th>name</th>\n",
       "      <th>capacity_gwh</th>\n",
       "      <th>uuid</th>\n",
       "    </tr>\n",
       "  </thead>\n",
       "  <tbody>\n",
       "    <tr>\n",
       "      <th>0</th>\n",
       "      <td>Albas</td>\n",
       "      <td>1.80000</td>\n",
       "      <td>fedc4764-a2c7-472b-8c20-5b51b7f85075</td>\n",
       "    </tr>\n",
       "    <tr>\n",
       "      <th>1</th>\n",
       "      <td>Albi</td>\n",
       "      <td>6.70448</td>\n",
       "      <td>fedc4764-a2c7-472b-8c20-5b51b7f85075</td>\n",
       "    </tr>\n",
       "    <tr>\n",
       "      <th>2</th>\n",
       "      <td>Albias</td>\n",
       "      <td>2.41000</td>\n",
       "      <td>fedc4764-a2c7-472b-8c20-5b51b7f85075</td>\n",
       "    </tr>\n",
       "    <tr>\n",
       "      <th>3</th>\n",
       "      <td>Allaire</td>\n",
       "      <td>8.20000</td>\n",
       "      <td>fedc4764-a2c7-472b-8c20-5b51b7f85075</td>\n",
       "    </tr>\n",
       "  </tbody>\n",
       "</table>\n",
       "</div>"
      ],
      "text/plain": [
       "      name  capacity_gwh                                  uuid\n",
       "0    Albas       1.80000  fedc4764-a2c7-472b-8c20-5b51b7f85075\n",
       "1     Albi       6.70448  fedc4764-a2c7-472b-8c20-5b51b7f85075\n",
       "2   Albias       2.41000  fedc4764-a2c7-472b-8c20-5b51b7f85075\n",
       "3  Allaire       8.20000  fedc4764-a2c7-472b-8c20-5b51b7f85075"
      ]
     },
     "execution_count": 33,
     "metadata": {},
     "output_type": "execute_result"
    }
   ],
   "source": [
    "# When querying the full table again, only the previous data set is now displayed\n",
    "pd.read_sql(dataset_query, engine)"
   ]
  },
  {
   "cell_type": "code",
   "execution_count": null,
   "id": "de5093d5-6616-4f17-9318-199d4bf08c7b",
   "metadata": {},
   "outputs": [],
   "source": []
  }
 ],
 "metadata": {
  "kernelspec": {
   "display_name": "Python 3",
   "language": "python",
   "name": "python3"
  },
  "language_info": {
   "codemirror_mode": {
    "name": "ipython",
    "version": 3
   },
   "file_extension": ".py",
   "mimetype": "text/x-python",
   "name": "python",
   "nbconvert_exporter": "python",
   "pygments_lexer": "ipython3",
   "version": "3.8.3"
  }
 },
 "nbformat": 4,
 "nbformat_minor": 5
}
