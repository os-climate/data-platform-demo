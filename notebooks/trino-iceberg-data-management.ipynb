{
 "cells": [
  {
   "cell_type": "markdown",
   "id": "6abf0869-f139-411a-9b34-51945c12cade",
   "metadata": {},
   "source": [
    "# Trino / Iceberg connector data management demo sample\n",
    "Copyright (C) 2021 OS-Climate\n",
    "\n",
    "This sample shows:\n",
    "* How to create schemas and tables via the Trino / SQLAlchemy on an underlying Iceberg data volume\n",
    "* Apache Iceberg ACID transaction and time travel capabilities used for data set versioning\n",
    "\n",
    "\n",
    "Permission is hereby granted, free of charge, to any person obtaining a copy of this software and associated documentation files (the \"Software\"), to deal in the Software without restriction, including without limitation the rights to use, copy, modify, merge, publish, distribute, sublicense, and/or sell copies of the Software, and to permit persons to whom the Software is furnished to do so, subject to the following conditions:\n",
    "\n",
    "The above copyright notice and this permission notice shall be included in all copies or substantial portions of the Software.\n",
    "\n",
    "THE SOFTWARE IS PROVIDED \"AS IS\", WITHOUT WARRANTY OF ANY KIND, EXPRESS OR IMPLIED, INCLUDING BUT NOT LIMITED TO THE WARRANTIES OF MERCHANTABILITY, FITNESS FOR A PARTICULAR PURPOSE AND NONINFRINGEMENT. IN NO EVENT SHALL THE AUTHORS OR COPYRIGHT HOLDERS BE LIABLE FOR ANY CLAIM, DAMAGES OR OTHER LIABILITY, WHETHER IN AN ACTION OF CONTRACT, TORT OR OTHERWISE, ARISING FROM, OUT OF OR IN CONNECTION WITH THE SOFTWARE OR THE USE OR OTHER DEALINGS IN THE SOFTWARE."
   ]
  },
  {
   "cell_type": "code",
   "execution_count": 1,
   "id": "d6875d86-4d96-4344-8051-76cad8b5aed0",
   "metadata": {},
   "outputs": [],
   "source": [
    "%%capture pipoutput\n",
    "%pip install boto3 python-dotenv\n",
    "%pip install --upgrade sqlalchemy==1.3 sqlalchemy-trino\n",
    "%pip install pandas pyarrow fastparquet\n",
    "%pip install anytree\n",
    "%pip install osc-ingest-tools"
   ]
  },
  {
   "cell_type": "code",
   "execution_count": 2,
   "id": "789567ff-268c-45e8-8f6f-e768ba62f327",
   "metadata": {},
   "outputs": [],
   "source": [
    "from dotenv import dotenv_values, load_dotenv\n",
    "from osc_ingest_trino import *\n",
    "import os\n",
    "import pathlib\n",
    "import pandas as pd\n",
    "import uuid\n",
    "import trino\n",
    "from sqlalchemy.engine import create_engine"
   ]
  },
  {
   "cell_type": "markdown",
   "id": "f7692120-2f4f-48be-9847-0f78a3359bc1",
   "metadata": {},
   "source": [
    "Load Environment Variables"
   ]
  },
  {
   "cell_type": "code",
   "execution_count": 3,
   "id": "a2ba14b4-0746-4ce6-9c0f-ff680221bdc9",
   "metadata": {},
   "outputs": [],
   "source": [
    "dotenv_dir = os.environ.get('CREDENTIAL_DOTENV_DIR', os.environ.get('PWD', '/opt/app-root/src'))\n",
    "dotenv_path = pathlib.Path(dotenv_dir) / 'credentials.env'\n",
    "if os.path.exists(dotenv_path):\n",
    "    load_dotenv(dotenv_path=dotenv_path,override=True)"
   ]
  },
  {
   "cell_type": "markdown",
   "id": "9cb78b98-863c-4626-adab-8c5d9dd6b094",
   "metadata": {},
   "source": [
    "Create a simple data frame for testing"
   ]
  },
  {
   "cell_type": "code",
   "execution_count": 4,
   "id": "fa67d836-453f-42e1-88cd-159b2f9543a3",
   "metadata": {},
   "outputs": [
    {
     "data": {
      "text/html": [
       "<div>\n",
       "<style scoped>\n",
       "    .dataframe tbody tr th:only-of-type {\n",
       "        vertical-align: middle;\n",
       "    }\n",
       "\n",
       "    .dataframe tbody tr th {\n",
       "        vertical-align: top;\n",
       "    }\n",
       "\n",
       "    .dataframe thead th {\n",
       "        text-align: right;\n",
       "    }\n",
       "</style>\n",
       "<table border=\"1\" class=\"dataframe\">\n",
       "  <thead>\n",
       "    <tr style=\"text-align: right;\">\n",
       "      <th></th>\n",
       "      <th>name</th>\n",
       "      <th>capacity_gwh</th>\n",
       "      <th>uuid</th>\n",
       "    </tr>\n",
       "  </thead>\n",
       "  <tbody>\n",
       "    <tr>\n",
       "      <th>0</th>\n",
       "      <td>Albas</td>\n",
       "      <td>1.8</td>\n",
       "      <td>9fb82ab3-46e8-4d24-893c-6970edb8aa43</td>\n",
       "    </tr>\n",
       "    <tr>\n",
       "      <th>1</th>\n",
       "      <td>Albi</td>\n",
       "      <td>6.70448</td>\n",
       "      <td>9fb82ab3-46e8-4d24-893c-6970edb8aa43</td>\n",
       "    </tr>\n",
       "    <tr>\n",
       "      <th>2</th>\n",
       "      <td>Albias</td>\n",
       "      <td>2.41</td>\n",
       "      <td>9fb82ab3-46e8-4d24-893c-6970edb8aa43</td>\n",
       "    </tr>\n",
       "    <tr>\n",
       "      <th>3</th>\n",
       "      <td>Allaire</td>\n",
       "      <td>8.2</td>\n",
       "      <td>9fb82ab3-46e8-4d24-893c-6970edb8aa43</td>\n",
       "    </tr>\n",
       "  </tbody>\n",
       "</table>\n",
       "</div>"
      ],
      "text/plain": [
       "      name  capacity_gwh                                  uuid\n",
       "0    Albas           1.8  9fb82ab3-46e8-4d24-893c-6970edb8aa43\n",
       "1     Albi       6.70448  9fb82ab3-46e8-4d24-893c-6970edb8aa43\n",
       "2   Albias          2.41  9fb82ab3-46e8-4d24-893c-6970edb8aa43\n",
       "3  Allaire           8.2  9fb82ab3-46e8-4d24-893c-6970edb8aa43"
      ]
     },
     "execution_count": 4,
     "metadata": {},
     "output_type": "execute_result"
    }
   ],
   "source": [
    "# initialise data of lists of powerplants and capacity\n",
    "data = {'name':['Albas', 'Albi', 'Albias', 'Allaire'],\n",
    "        'capacity_gwh':[1.8, 6.70448, 2.41, 8.2]}\n",
    "# Create DataFrame\n",
    "df = pd.DataFrame(data)\n",
    "# Add a unique identifier to the data set\n",
    "uid = str(uuid.uuid4())\n",
    "df['uuid'] = uid\n",
    "# Print the output\n",
    "df = df.convert_dtypes()\n",
    "df"
   ]
  },
  {
   "cell_type": "code",
   "execution_count": 5,
   "id": "cf641410-4c4a-46d3-b824-a32b871e186b",
   "metadata": {},
   "outputs": [
    {
     "name": "stdout",
     "output_type": "stream",
     "text": [
      "<class 'pandas.core.frame.DataFrame'>\n",
      "RangeIndex: 4 entries, 0 to 3\n",
      "Data columns (total 3 columns):\n",
      " #   Column        Non-Null Count  Dtype  \n",
      "---  ------        --------------  -----  \n",
      " 0   name          4 non-null      string \n",
      " 1   capacity_gwh  4 non-null      Float64\n",
      " 2   uuid          4 non-null      string \n",
      "dtypes: Float64(1), string(2)\n",
      "memory usage: 228.0 bytes\n"
     ]
    }
   ],
   "source": [
    "df.info(verbose=True)"
   ]
  },
  {
   "cell_type": "markdown",
   "id": "3b94102c-8c8e-450a-b95e-ea5a368fe09f",
   "metadata": {},
   "source": [
    "Create custom meta data and declare variable for schema and table for the data set"
   ]
  },
  {
   "cell_type": "code",
   "execution_count": 6,
   "id": "d0dc3dea-79c1-4ed6-a21a-b89032981fcd",
   "metadata": {},
   "outputs": [],
   "source": [
    "custom_meta_content = {\n",
    "    'dataset_key': 'gppd',\n",
    "    'title': 'Global Power Plant Database',\n",
    "    'description': 'A comprehensive, global, open source database of power plants',\n",
    "    'version': '1.3.0',\n",
    "    'release_date': '20210602',\n",
    "    'fields': [\n",
    "    {\n",
    "        'field_name': 'name',\n",
    "        'definition': 'name of the power plant',\n",
    "        'type': 'text'\n",
    "    },\n",
    "    {\n",
    "        'field_name': 'capacity_gwh',\n",
    "        'definition': 'electricity generation in gigawatt-hours',\n",
    "        'type': 'number'\n",
    "    }]\n",
    "}\n",
    "schemaname = 'wri_test'\n",
    "tablename = 'gppd'"
   ]
  },
  {
   "cell_type": "markdown",
   "id": "f80c9a40-2fdb-40c0-9dd5-7e7bf53db3da",
   "metadata": {},
   "source": [
    "Convert custom metadata content in json format into Pandas DataFrame"
   ]
  },
  {
   "cell_type": "code",
   "execution_count": 7,
   "id": "fcf5ef1b-05d4-4319-9b6e-073816e2dde1",
   "metadata": {},
   "outputs": [
    {
     "data": {
      "text/html": [
       "<div>\n",
       "<style scoped>\n",
       "    .dataframe tbody tr th:only-of-type {\n",
       "        vertical-align: middle;\n",
       "    }\n",
       "\n",
       "    .dataframe tbody tr th {\n",
       "        vertical-align: top;\n",
       "    }\n",
       "\n",
       "    .dataframe thead th {\n",
       "        text-align: right;\n",
       "    }\n",
       "</style>\n",
       "<table border=\"1\" class=\"dataframe\">\n",
       "  <thead>\n",
       "    <tr style=\"text-align: right;\">\n",
       "      <th></th>\n",
       "      <th>field_name</th>\n",
       "      <th>definition</th>\n",
       "      <th>type</th>\n",
       "      <th>dataset_key</th>\n",
       "    </tr>\n",
       "  </thead>\n",
       "  <tbody>\n",
       "    <tr>\n",
       "      <th>0</th>\n",
       "      <td>name</td>\n",
       "      <td>name of the power plant</td>\n",
       "      <td>text</td>\n",
       "      <td>gppd</td>\n",
       "    </tr>\n",
       "    <tr>\n",
       "      <th>1</th>\n",
       "      <td>capacity_gwh</td>\n",
       "      <td>electricity generation in gigawatt-hours</td>\n",
       "      <td>number</td>\n",
       "      <td>gppd</td>\n",
       "    </tr>\n",
       "  </tbody>\n",
       "</table>\n",
       "</div>"
      ],
      "text/plain": [
       "     field_name                                definition    type dataset_key\n",
       "0          name                   name of the power plant    text        gppd\n",
       "1  capacity_gwh  electricity generation in gigawatt-hours  number        gppd"
      ]
     },
     "execution_count": 7,
     "metadata": {},
     "output_type": "execute_result"
    }
   ],
   "source": [
    "df_meta_fields = pd.json_normalize(custom_meta_content, record_path =['fields'], meta=['dataset_key']).convert_dtypes()\n",
    "df_meta_fields"
   ]
  },
  {
   "cell_type": "code",
   "execution_count": 8,
   "id": "7f89670f-677f-4a2c-a258-259c671ea99c",
   "metadata": {},
   "outputs": [
    {
     "name": "stdout",
     "output_type": "stream",
     "text": [
      "<class 'pandas.core.frame.DataFrame'>\n",
      "RangeIndex: 2 entries, 0 to 1\n",
      "Data columns (total 4 columns):\n",
      " #   Column       Non-Null Count  Dtype \n",
      "---  ------       --------------  ----- \n",
      " 0   field_name   2 non-null      string\n",
      " 1   definition   2 non-null      string\n",
      " 2   type         2 non-null      string\n",
      " 3   dataset_key  2 non-null      string\n",
      "dtypes: string(4)\n",
      "memory usage: 192.0 bytes\n"
     ]
    }
   ],
   "source": [
    "df_meta_fields.info(verbose=True)"
   ]
  },
  {
   "cell_type": "code",
   "execution_count": 9,
   "id": "6fdf1950-cd9c-4b61-b4d2-12a8d8fe4ace",
   "metadata": {},
   "outputs": [
    {
     "data": {
      "text/html": [
       "<div>\n",
       "<style scoped>\n",
       "    .dataframe tbody tr th:only-of-type {\n",
       "        vertical-align: middle;\n",
       "    }\n",
       "\n",
       "    .dataframe tbody tr th {\n",
       "        vertical-align: top;\n",
       "    }\n",
       "\n",
       "    .dataframe thead th {\n",
       "        text-align: right;\n",
       "    }\n",
       "</style>\n",
       "<table border=\"1\" class=\"dataframe\">\n",
       "  <thead>\n",
       "    <tr style=\"text-align: right;\">\n",
       "      <th></th>\n",
       "      <th>dataset_key</th>\n",
       "      <th>title</th>\n",
       "      <th>description</th>\n",
       "      <th>version</th>\n",
       "      <th>release_date</th>\n",
       "      <th>schema</th>\n",
       "    </tr>\n",
       "  </thead>\n",
       "  <tbody>\n",
       "    <tr>\n",
       "      <th>0</th>\n",
       "      <td>gppd</td>\n",
       "      <td>Global Power Plant Database</td>\n",
       "      <td>A comprehensive, global, open source database ...</td>\n",
       "      <td>1.3.0</td>\n",
       "      <td>20210602</td>\n",
       "      <td>wri_test</td>\n",
       "    </tr>\n",
       "  </tbody>\n",
       "</table>\n",
       "</div>"
      ],
      "text/plain": [
       "  dataset_key                        title  \\\n",
       "0        gppd  Global Power Plant Database   \n",
       "\n",
       "                                         description version release_date  \\\n",
       "0  A comprehensive, global, open source database ...   1.3.0     20210602   \n",
       "\n",
       "     schema  \n",
       "0  wri_test  "
      ]
     },
     "execution_count": 9,
     "metadata": {},
     "output_type": "execute_result"
    }
   ],
   "source": [
    "df_meta_table = pd.json_normalize(custom_meta_content, max_level=0)\n",
    "df_meta_table.drop('fields', inplace=True, axis=1)\n",
    "df_meta_table['schema'] = schemaname\n",
    "df_meta_table = df_meta_table.convert_dtypes()\n",
    "df_meta_table"
   ]
  },
  {
   "cell_type": "code",
   "execution_count": 10,
   "id": "d1da3217-69e2-45cf-bc89-07898eee4ff0",
   "metadata": {},
   "outputs": [
    {
     "name": "stdout",
     "output_type": "stream",
     "text": [
      "<class 'pandas.core.frame.DataFrame'>\n",
      "RangeIndex: 1 entries, 0 to 0\n",
      "Data columns (total 6 columns):\n",
      " #   Column        Non-Null Count  Dtype \n",
      "---  ------        --------------  ----- \n",
      " 0   dataset_key   1 non-null      string\n",
      " 1   title         1 non-null      string\n",
      " 2   description   1 non-null      string\n",
      " 3   version       1 non-null      string\n",
      " 4   release_date  1 non-null      string\n",
      " 5   schema        1 non-null      string\n",
      "dtypes: string(6)\n",
      "memory usage: 176.0 bytes\n"
     ]
    }
   ],
   "source": [
    "df_meta_table.info(verbose=True)"
   ]
  },
  {
   "cell_type": "markdown",
   "id": "15efe080-b4eb-4713-8fd0-7f1d2e1fd966",
   "metadata": {},
   "source": [
    "Open a Trino connection using JWT for authentication"
   ]
  },
  {
   "cell_type": "code",
   "execution_count": 11,
   "id": "790b5e63-8d67-4314-844c-ae42266070b3",
   "metadata": {},
   "outputs": [
    {
     "name": "stdout",
     "output_type": "stream",
     "text": [
      "connecting with engine Engine(trino://caldeirav@trino-secure-odh-trino.apps.odh-cl1.apps.os-climate.org:443/)\n"
     ]
    }
   ],
   "source": [
    "sqlstring = 'trino://{user}@{host}:{port}/'.format(\n",
    "    user = os.environ['TRINO_USER'],\n",
    "    host = os.environ['TRINO_HOST'],\n",
    "    port = os.environ['TRINO_PORT']\n",
    ")\n",
    "sqlargs = {\n",
    "    'auth': trino.auth.JWTAuthentication(os.environ['TRINO_PASSWD']),\n",
    "    'http_scheme': 'https'\n",
    "}\n",
    "engine = create_engine(sqlstring, connect_args = sqlargs)\n",
    "print(\"connecting with engine \" + str(engine))\n",
    "connection = engine.connect()"
   ]
  },
  {
   "cell_type": "code",
   "execution_count": 12,
   "id": "bb96687d-74a7-46d8-9944-b63fddf11bd1",
   "metadata": {},
   "outputs": [
    {
     "name": "stdout",
     "output_type": "stream",
     "text": [
      "('aicoe_osc_demo',)\n",
      "('company_data',)\n",
      "('default',)\n",
      "('defaultschema1',)\n",
      "('demo',)\n",
      "('eje_test_iceberg',)\n",
      "('epacems',)\n",
      "('epacems_y95_al',)\n",
      "('gleif',)\n",
      "('information_schema',)\n",
      "('metastore',)\n",
      "('metastore_iceberg',)\n",
      "('osc_corp_data',)\n",
      "('physical_risk_project',)\n",
      "('pudl',)\n",
      "('rmi_utility_transition_hub',)\n",
      "('team1',)\n",
      "('team2',)\n",
      "('testaccessschema1',)\n",
      "('testdb',)\n",
      "('urgentem',)\n",
      "('wri',)\n",
      "('wri_gppd',)\n",
      "('wri_gppd_md',)\n",
      "('wri_test',)\n"
     ]
    }
   ],
   "source": [
    "# Show available schemas to ensure trino connection is set correctly\n",
    "schema_read = engine.execute('show schemas in osc_datacommons_iceberg_dev')\n",
    "for row in schema_read.fetchall():\n",
    "    print(row)"
   ]
  },
  {
   "cell_type": "markdown",
   "id": "2c0e2635-ac17-4dda-bc41-a5a18c61c44d",
   "metadata": {},
   "source": [
    "Create ingestion schema based on source data name and remove old tables if necessary"
   ]
  },
  {
   "cell_type": "code",
   "execution_count": 13,
   "id": "4aa21228-ec3d-4506-820a-bb071b56fc07",
   "metadata": {},
   "outputs": [
    {
     "name": "stdout",
     "output_type": "stream",
     "text": [
      "(True,)\n"
     ]
    }
   ],
   "source": [
    "schema_check = engine.execute('create schema if not exists osc_datacommons_iceberg_dev.' + schemaname)\n",
    "for row in schema_check.fetchall():\n",
    "    print(row)"
   ]
  },
  {
   "cell_type": "code",
   "execution_count": 14,
   "id": "06e809a5-85eb-4879-86ed-1b1c01e4104b",
   "metadata": {},
   "outputs": [
    {
     "name": "stdout",
     "output_type": "stream",
     "text": [
      "(True,)\n"
     ]
    }
   ],
   "source": [
    "table_check = engine.execute('drop table if exists osc_datacommons_iceberg_dev.' + schemaname + '.' + tablename)\n",
    "for row in table_check.fetchall():\n",
    "    print(row)"
   ]
  },
  {
   "cell_type": "code",
   "execution_count": 15,
   "id": "726c7d8e-45f9-48e7-a0db-66b103d5b25f",
   "metadata": {},
   "outputs": [
    {
     "name": "stdout",
     "output_type": "stream",
     "text": [
      "\n",
      "create table if not exists osc_datacommons_iceberg_dev.wri_test.gppd (\n",
      "    name varchar,\n",
      "    capacity_gwh double,\n",
      "    uuid varchar\n",
      ") with (\n",
      "    format = 'parquet',\n",
      "    partitioning = ARRAY['uuid']\n",
      ")\n",
      "\n"
     ]
    }
   ],
   "source": [
    "schema = create_table_schema_pairs(df)\n",
    "tabledef = \"\"\"\n",
    "create table if not exists osc_datacommons_iceberg_dev.{sname}.{tname} (\n",
    "{schema}\n",
    ") with (\n",
    "    format = 'parquet',\n",
    "    partitioning = ARRAY['uuid']\n",
    ")\n",
    "\"\"\".format(schema=schema, sname=schemaname, tname=tablename)\n",
    "print(tabledef)"
   ]
  },
  {
   "cell_type": "code",
   "execution_count": 16,
   "id": "eef7ff81-b20b-436c-bdc1-9be72b536076",
   "metadata": {},
   "outputs": [
    {
     "name": "stdout",
     "output_type": "stream",
     "text": [
      "(True,)\n"
     ]
    }
   ],
   "source": [
    "table_create = engine.execute(tabledef)\n",
    "for row in table_create.fetchall():\n",
    "    print(row)"
   ]
  },
  {
   "cell_type": "code",
   "execution_count": 17,
   "id": "1e6849aa-9841-46e1-84ee-a5448d29a0fe",
   "metadata": {},
   "outputs": [],
   "source": [
    "# Append data frame to new Trino table \n",
    "# this statement should work but receives a TrinoUserError: \"This connector does not support creating tables\"\n",
    "# df.to_sql('gppd', con=engine, schema='wri_test', if_exists='append')"
   ]
  },
  {
   "cell_type": "code",
   "execution_count": 18,
   "id": "d5217f55-c15b-4eed-ae0d-0c6a0c51a539",
   "metadata": {},
   "outputs": [
    {
     "data": {
      "text/plain": [
       "['Albas', 1.8, '9fb82ab3-46e8-4d24-893c-6970edb8aa43']"
      ]
     },
     "execution_count": 18,
     "metadata": {},
     "output_type": "execute_result"
    }
   ],
   "source": [
    "list_values = df.values.tolist()\n",
    "list_values[0]"
   ]
  },
  {
   "cell_type": "code",
   "execution_count": 19,
   "id": "2ea871be-8ae0-402a-8f8c-241b6700cd81",
   "metadata": {},
   "outputs": [
    {
     "name": "stdout",
     "output_type": "stream",
     "text": [
      "INSERT INTO osc_datacommons_iceberg_dev.wri_test.gppd \n",
      "    VALUES ('Albas', 1.8, '9fb82ab3-46e8-4d24-893c-6970edb8aa43')\n",
      "(1,)\n",
      "INSERT INTO osc_datacommons_iceberg_dev.wri_test.gppd \n",
      "    VALUES ('Albi', 6.70448, '9fb82ab3-46e8-4d24-893c-6970edb8aa43')\n",
      "(1,)\n",
      "INSERT INTO osc_datacommons_iceberg_dev.wri_test.gppd \n",
      "    VALUES ('Albias', 2.41, '9fb82ab3-46e8-4d24-893c-6970edb8aa43')\n",
      "(1,)\n",
      "INSERT INTO osc_datacommons_iceberg_dev.wri_test.gppd \n",
      "    VALUES ('Allaire', 8.2, '9fb82ab3-46e8-4d24-893c-6970edb8aa43')\n",
      "(1,)\n"
     ]
    }
   ],
   "source": [
    "list_length = len(list_values)\n",
    "for i in range(list_length):\n",
    "    joined_values = '(\\'' + list_values[i][0] + '\\', ' + str(list_values[i][1]) + ', \\'' + list_values[i][2] + '\\')'\n",
    "    insert_statement = \"\"\"INSERT INTO osc_datacommons_iceberg_dev.{sname}.{tname} \n",
    "    VALUES \"\"\".format(sname=schemaname, tname=tablename) + joined_values\n",
    "    print(insert_statement)\n",
    "    run_statement = engine.execute(insert_statement)\n",
    "    for row in run_statement.fetchall():\n",
    "        print(row)"
   ]
  },
  {
   "cell_type": "code",
   "execution_count": 20,
   "id": "ad522dd6-3b9f-4947-8cfe-29c7a01141ab",
   "metadata": {},
   "outputs": [
    {
     "name": "stdout",
     "output_type": "stream",
     "text": [
      "SELECT * FROM osc_datacommons_iceberg_dev.wri_test.gppd limit 10\n",
      "('Albias', 2.41, '9fb82ab3-46e8-4d24-893c-6970edb8aa43')\n",
      "('Albi', 6.70448, '9fb82ab3-46e8-4d24-893c-6970edb8aa43')\n",
      "('Albas', 1.8, '9fb82ab3-46e8-4d24-893c-6970edb8aa43')\n",
      "('Allaire', 8.2, '9fb82ab3-46e8-4d24-893c-6970edb8aa43')\n"
     ]
    }
   ],
   "source": [
    "dataset_query = ('SELECT * FROM osc_datacommons_iceberg_dev.{sname}.{tname} limit 10').format(sname=schemaname,tname=tablename)\n",
    "print(dataset_query)\n",
    "dataset = engine.execute(dataset_query)\n",
    "for row in dataset.fetchall():\n",
    "    print(row)"
   ]
  },
  {
   "cell_type": "markdown",
   "id": "1f87b7dd-d925-4eac-a5d4-edb831d3756f",
   "metadata": {},
   "source": [
    "Create metadata table for schema / dataset level information"
   ]
  },
  {
   "cell_type": "code",
   "execution_count": 21,
   "id": "28f2dc67-842b-4b9e-98ed-64e1261b2c64",
   "metadata": {},
   "outputs": [],
   "source": [
    "# declare variable names for metadata structure in Trino\n",
    "meta_schema_name = 'metastore_iceberg'\n",
    "meta_table_name_dataset = 'meta_tables_iceberg'\n",
    "meta_table_name_fields = 'meta_fields_iceberg'"
   ]
  },
  {
   "cell_type": "code",
   "execution_count": 22,
   "id": "9b792868-2a2b-474a-bbb6-b5c7f1f576d3",
   "metadata": {},
   "outputs": [
    {
     "name": "stdout",
     "output_type": "stream",
     "text": [
      "(True,)\n"
     ]
    }
   ],
   "source": [
    "schema_check = engine.execute('create schema if not exists osc_datacommons_iceberg_dev.' + meta_schema_name)\n",
    "for row in schema_check.fetchall():\n",
    "    print(row)"
   ]
  },
  {
   "cell_type": "code",
   "execution_count": 23,
   "id": "e8863ecf-4352-4e5f-8b8d-69b577c9d131",
   "metadata": {},
   "outputs": [
    {
     "name": "stdout",
     "output_type": "stream",
     "text": [
      "(True,)\n"
     ]
    }
   ],
   "source": [
    "table_check = engine.execute('drop table if exists osc_datacommons_iceberg_dev.' + meta_schema_name + '.' + meta_table_name_dataset)\n",
    "for row in table_check.fetchall():\n",
    "    print(row)"
   ]
  },
  {
   "cell_type": "code",
   "execution_count": 24,
   "id": "72008b37-fada-47e2-9c92-7099a4a950e6",
   "metadata": {},
   "outputs": [
    {
     "name": "stdout",
     "output_type": "stream",
     "text": [
      "\n",
      "create table if not exists osc_datacommons_iceberg_dev.metastore_iceberg.meta_tables_iceberg (\n",
      "    dataset_key varchar,\n",
      "    title varchar,\n",
      "    description varchar,\n",
      "    version varchar,\n",
      "    release_date varchar,\n",
      "    schema varchar\n",
      ") with (\n",
      "    format = 'parquet',\n",
      "    partitioning = ARRAY['dataset_key']\n",
      ")\n",
      "\n"
     ]
    }
   ],
   "source": [
    "schema_meta_table = create_table_schema_pairs(df_meta_table)\n",
    "tabledef = \"\"\"\n",
    "create table if not exists osc_datacommons_iceberg_dev.{sname}.{tname} (\n",
    "{schema}\n",
    ") with (\n",
    "    format = 'parquet',\n",
    "    partitioning = ARRAY['dataset_key']\n",
    ")\n",
    "\"\"\".format(schema=schema_meta_table, sname=meta_schema_name, tname=meta_table_name_dataset)\n",
    "print(tabledef)"
   ]
  },
  {
   "cell_type": "code",
   "execution_count": 25,
   "id": "06f6a5ad-f8bb-44d0-8e87-34576d08c1c5",
   "metadata": {},
   "outputs": [
    {
     "name": "stdout",
     "output_type": "stream",
     "text": [
      "(True,)\n"
     ]
    }
   ],
   "source": [
    "meta_table_create = engine.execute(tabledef)\n",
    "for row in meta_table_create.fetchall():\n",
    "    print(row)"
   ]
  },
  {
   "cell_type": "code",
   "execution_count": 26,
   "id": "bf59ca47-dae8-4883-b616-531f85be9e6f",
   "metadata": {},
   "outputs": [
    {
     "data": {
      "text/plain": [
       "['gppd',\n",
       " 'Global Power Plant Database',\n",
       " 'A comprehensive, global, open source database of power plants',\n",
       " '1.3.0',\n",
       " '20210602',\n",
       " 'wri_test']"
      ]
     },
     "execution_count": 26,
     "metadata": {},
     "output_type": "execute_result"
    }
   ],
   "source": [
    "list_values_meta_table = df_meta_table.values.tolist()\n",
    "list_values_meta_table[0]"
   ]
  },
  {
   "cell_type": "code",
   "execution_count": 27,
   "id": "2c6ef261-d51c-40bf-a1a1-bad4a0cd2b71",
   "metadata": {},
   "outputs": [
    {
     "name": "stdout",
     "output_type": "stream",
     "text": [
      "INSERT INTO osc_datacommons_iceberg_dev.metastore_iceberg.meta_tables_iceberg \n",
      "VALUES ('gppd', 'Global Power Plant Database', 'A comprehensive, global, open source database of power plants', '1.3.0', '20210602', 'wri_test')\n",
      "(1,)\n"
     ]
    }
   ],
   "source": [
    "joined_values = '(\\'' + list_values_meta_table[0][0] + '\\', \\'' + list_values_meta_table[0][1] + '\\', \\'' + list_values_meta_table[0][2] + '\\', \\'' + list_values_meta_table[0][3] + '\\', \\'' + list_values_meta_table[0][4] + '\\', \\'' + list_values_meta_table[0][5] + '\\')'\n",
    "insert_statement = \"\"\"INSERT INTO osc_datacommons_iceberg_dev.{sname}.{tname} \n",
    "VALUES \"\"\".format(sname=meta_schema_name,tname=meta_table_name_dataset) + joined_values\n",
    "print(insert_statement)\n",
    "run_statement = engine.execute(insert_statement)\n",
    "for row in run_statement.fetchall():\n",
    "    print(row)"
   ]
  },
  {
   "cell_type": "code",
   "execution_count": 28,
   "id": "45c0c4ea-89c6-4ab7-895c-89217f8c962d",
   "metadata": {},
   "outputs": [
    {
     "name": "stdout",
     "output_type": "stream",
     "text": [
      "SELECT * FROM osc_datacommons_iceberg_dev.metastore_iceberg.meta_tables_iceberg limit 10\n",
      "('gppd', 'Global Power Plant Database', 'A comprehensive, global, open source database of power plants', '1.3.0', '20210602', 'wri_test')\n"
     ]
    }
   ],
   "source": [
    "meta_query_table = ('SELECT * FROM osc_datacommons_iceberg_dev.{sname}.{tname} limit 10').format(sname=meta_schema_name,tname=meta_table_name_dataset)\n",
    "print(meta_query_table)\n",
    "meta_table_query = engine.execute(meta_query_table)\n",
    "for row in meta_table_query.fetchall():\n",
    "    print(row)"
   ]
  },
  {
   "cell_type": "markdown",
   "id": "f0ac0007-d564-46e8-a111-a568b05355de",
   "metadata": {},
   "source": [
    "Create metadata table for fields information"
   ]
  },
  {
   "cell_type": "code",
   "execution_count": 29,
   "id": "cc1964ef-40f5-4285-b65d-c02ba2aa053a",
   "metadata": {},
   "outputs": [
    {
     "name": "stdout",
     "output_type": "stream",
     "text": [
      "(True,)\n"
     ]
    }
   ],
   "source": [
    "table_check = engine.execute('drop table if exists osc_datacommons_iceberg_dev.' + meta_schema_name + '.' + meta_table_name_fields)\n",
    "for row in table_check.fetchall():\n",
    "    print(row)"
   ]
  },
  {
   "cell_type": "code",
   "execution_count": 30,
   "id": "4de0d1d2-1125-4286-b92c-b463f430e340",
   "metadata": {},
   "outputs": [
    {
     "name": "stdout",
     "output_type": "stream",
     "text": [
      "\n",
      "create table if not exists osc_datacommons_iceberg_dev.metastore_iceberg.meta_fields_iceberg (\n",
      "    field_name varchar,\n",
      "    definition varchar,\n",
      "    type varchar,\n",
      "    dataset_key varchar\n",
      ") with (\n",
      "    format = 'parquet',\n",
      "    partitioning = ARRAY['dataset_key']\n",
      ")\n",
      "\n"
     ]
    }
   ],
   "source": [
    "schema_meta_fields = create_table_schema_pairs(df_meta_fields)\n",
    "tabledef = \"\"\"\n",
    "create table if not exists osc_datacommons_iceberg_dev.{sname}.{tname} (\n",
    "{schema}\n",
    ") with (\n",
    "    format = 'parquet',\n",
    "    partitioning = ARRAY['dataset_key']\n",
    ")\n",
    "\"\"\".format(schema=schema_meta_fields, sname=meta_schema_name, tname=meta_table_name_fields)\n",
    "print(tabledef)"
   ]
  },
  {
   "cell_type": "code",
   "execution_count": 31,
   "id": "220516ae-6987-483b-b7e2-4b8ebaed083f",
   "metadata": {},
   "outputs": [
    {
     "name": "stdout",
     "output_type": "stream",
     "text": [
      "(True,)\n"
     ]
    }
   ],
   "source": [
    "meta_fields_create = engine.execute(tabledef)\n",
    "for row in meta_fields_create.fetchall():\n",
    "    print(row)"
   ]
  },
  {
   "cell_type": "code",
   "execution_count": 32,
   "id": "0683526c-3dea-404c-81bb-ae8450c11d32",
   "metadata": {},
   "outputs": [
    {
     "data": {
      "text/plain": [
       "['name', 'name of the power plant', 'text', 'gppd']"
      ]
     },
     "execution_count": 32,
     "metadata": {},
     "output_type": "execute_result"
    }
   ],
   "source": [
    "list_values_meta_fields = df_meta_fields.values.tolist()\n",
    "list_values_meta_fields[0]"
   ]
  },
  {
   "cell_type": "code",
   "execution_count": 33,
   "id": "184ce467-1528-4428-8695-fd2705a30b98",
   "metadata": {},
   "outputs": [
    {
     "name": "stdout",
     "output_type": "stream",
     "text": [
      "INSERT INTO osc_datacommons_iceberg_dev.metastore_iceberg.meta_fields_iceberg \n",
      "    VALUES ('name', 'name of the power plant', 'text', 'gppd')\n",
      "(1,)\n",
      "INSERT INTO osc_datacommons_iceberg_dev.metastore_iceberg.meta_fields_iceberg \n",
      "    VALUES ('capacity_gwh', 'electricity generation in gigawatt-hours', 'number', 'gppd')\n",
      "(1,)\n"
     ]
    }
   ],
   "source": [
    "list_fields_length = len(list_values_meta_fields)\n",
    "for i in range(list_fields_length):\n",
    "    joined_values = '(\\'' + list_values_meta_fields[i][0] + '\\', \\'' + list_values_meta_fields[i][1] + '\\', \\'' + list_values_meta_fields[i][2] + '\\', \\'' + list_values_meta_fields[i][3] + '\\')'\n",
    "    insert_statement = \"\"\"INSERT INTO osc_datacommons_iceberg_dev.{sname}.{tname} \n",
    "    VALUES \"\"\".format(sname=meta_schema_name, tname=meta_table_name_fields) + joined_values\n",
    "    print(insert_statement)\n",
    "    run_statement = engine.execute(insert_statement)\n",
    "    for row in run_statement.fetchall():\n",
    "        print(row)"
   ]
  },
  {
   "cell_type": "code",
   "execution_count": 34,
   "id": "540bcf2a-834f-4caf-8e35-d05b2ca32001",
   "metadata": {},
   "outputs": [
    {
     "name": "stdout",
     "output_type": "stream",
     "text": [
      "SELECT * FROM osc_datacommons_iceberg_dev.metastore_iceberg.meta_fields_iceberg limit 10\n",
      "('capacity_gwh', 'electricity generation in gigawatt-hours', 'number', 'gppd')\n",
      "('name', 'name of the power plant', 'text', 'gppd')\n"
     ]
    }
   ],
   "source": [
    "meta_query_fields = ('SELECT * FROM osc_datacommons_iceberg_dev.{sname}.{tname} limit 10').format(sname=meta_schema_name, tname=meta_table_name_fields)\n",
    "print(meta_query_fields)\n",
    "meta_fields_query = engine.execute(meta_query_fields)\n",
    "for row in meta_fields_query.fetchall():\n",
    "    print(row)"
   ]
  },
  {
   "cell_type": "code",
   "execution_count": null,
   "id": "a32dbcba-976d-4edc-bb4a-43d1da36b5ca",
   "metadata": {},
   "outputs": [],
   "source": []
  }
 ],
 "metadata": {
  "kernelspec": {
   "display_name": "Python 3",
   "language": "python",
   "name": "python3"
  },
  "language_info": {
   "codemirror_mode": {
    "name": "ipython",
    "version": 3
   },
   "file_extension": ".py",
   "mimetype": "text/x-python",
   "name": "python",
   "nbconvert_exporter": "python",
   "pygments_lexer": "ipython3",
   "version": "3.8.3"
  }
 },
 "nbformat": 4,
 "nbformat_minor": 5
}
