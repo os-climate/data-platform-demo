{
 "cells": [
  {
   "cell_type": "code",
   "execution_count": 1,
   "id": "39f85480-427f-4c23-9885-eb6f2f805a3d",
   "metadata": {},
   "outputs": [],
   "source": [
    "%%capture pipoutput\n",
    "%pip install trino python-dotenv\n",
    "%pip install --upgrade sqlalchemy sqlalchemy-trino\n",
    "%pip install osc-ingest-tools"
   ]
  },
  {
   "cell_type": "code",
   "execution_count": 2,
   "id": "9a0afb2c-9a82-4e82-be91-0e361994e16c",
   "metadata": {},
   "outputs": [
    {
     "name": "stderr",
     "output_type": "stream",
     "text": [
      "/opt/app-root/lib64/python3.8/site-packages/sqlalchemy_trino/dialect.py:259: SAWarning: Dialect trino:rest will not make use of SQL compilation caching as it does not set the 'supports_statement_cache' attribute to ``True``.  This can have significant performance implications including some performance degradations in comparison to prior SQLAlchemy versions.  Dialect maintainers should seek to set this attribute to True after appropriate development and testing for SQLAlchemy 1.4 caching support.   Alternatively, this attribute may be set to False which will disable this warning. (Background on this error at: https://sqlalche.me/e/14/cprf)\n",
      "  res = connection.execute(sql.text(query)).scalar()\n"
     ]
    }
   ],
   "source": [
    "import osc_ingest_trino as osc\n",
    "osc.load_credentials_dotenv()\n",
    "\n",
    "# my default personal identity: has full \"admin\" privileges\n",
    "engine_eje = osc.attach_trino_engine()\n",
    "\n",
    "# user1 has no admin privs but is declared on a few demo groups\n",
    "engine_user1 = osc.attach_trino_engine('TRINO_OSCU1')\n",
    "\n",
    "# user6 has no group memberships or any other declared privileges\n",
    "engine_user6 = osc.attach_trino_engine('TRINO_OSCU6')"
   ]
  },
  {
   "cell_type": "code",
   "execution_count": 3,
   "id": "5f211b67-bef3-4536-8b9a-9291c93afb91",
   "metadata": {},
   "outputs": [
    {
     "name": "stdout",
     "output_type": "stream",
     "text": [
      "Exception reporting mode: Minimal\n"
     ]
    }
   ],
   "source": [
    "%xmode Minimal\n",
    "# just report raw exceptions in output - makes this story easier to read"
   ]
  },
  {
   "cell_type": "code",
   "execution_count": 4,
   "id": "639de2b5-12a1-4263-bd4f-69fc98a4286d",
   "metadata": {},
   "outputs": [
    {
     "name": "stdout",
     "output_type": "stream",
     "text": [
      "eje:  [(['aicoe_osc_demo', 'admins'],)]\n",
      "user1:  [(['demo_dv_dev', 'demo_dv_eval', 'demo_dv_licensed'],)]\n",
      "user6:  [([],)]\n"
     ]
    }
   ],
   "source": [
    "sql = \"\"\"\n",
    "select current_groups()\n",
    "\"\"\"\n",
    "qres = engine_eje.execute(sql)\n",
    "print(f'eje:  {qres.fetchall()}')\n",
    "qres = engine_user1.execute(sql)\n",
    "print(f'user1:  {qres.fetchall()}')\n",
    "qres = engine_user6.execute(sql)\n",
    "print(f'user6:  {qres.fetchall()}')"
   ]
  },
  {
   "cell_type": "code",
   "execution_count": 5,
   "id": "2b9b04cc-af3e-4bd3-b296-54af1b4a257d",
   "metadata": {},
   "outputs": [
    {
     "name": "stdout",
     "output_type": "stream",
     "text": [
      "eje:  [('jmx',), ('osc_datacommons_dev',), ('osc_datacommons_iceberg_dev',), ('osc_datacommons_prod',), ('system',)]\n",
      "user1:  [('osc_datacommons_dev',)]\n",
      "user6:  []\n"
     ]
    }
   ],
   "source": [
    "sql = \"\"\"\n",
    "show catalogs\n",
    "\"\"\"\n",
    "qres = engine_eje.execute(sql)\n",
    "print(f'eje:  {qres.fetchall()}')\n",
    "qres = engine_user1.execute(sql)\n",
    "print(f'user1:  {qres.fetchall()}')\n",
    "qres = engine_user6.execute(sql)\n",
    "print(f'user6:  {qres.fetchall()}')"
   ]
  },
  {
   "cell_type": "code",
   "execution_count": 6,
   "id": "30b32655-fda8-4870-8c30-2c14e21b0197",
   "metadata": {},
   "outputs": [
    {
     "data": {
      "text/plain": [
       "[('aicoe_osc_demo',),\n",
       " ('company_data',),\n",
       " ('default',),\n",
       " ('defaultschema1',),\n",
       " ('demo',)]"
      ]
     },
     "execution_count": 6,
     "metadata": {},
     "output_type": "execute_result"
    }
   ],
   "source": [
    "qres = engine_eje.execute(\"show schemas in osc_datacommons_dev\")\n",
    "qres.fetchall()[:5]"
   ]
  },
  {
   "cell_type": "code",
   "execution_count": 7,
   "id": "7fefa4c6-9a4d-4352-8af5-db4ba3c13650",
   "metadata": {},
   "outputs": [
    {
     "data": {
      "text/plain": [
       "[('aicoe_osc_demo',),\n",
       " ('company_data',),\n",
       " ('default',),\n",
       " ('defaultschema1',),\n",
       " ('demo',)]"
      ]
     },
     "execution_count": 7,
     "metadata": {},
     "output_type": "execute_result"
    }
   ],
   "source": [
    "qres = engine_user1.execute(\"show schemas in osc_datacommons_dev\")\n",
    "qres.fetchall()[:5]"
   ]
  },
  {
   "cell_type": "code",
   "execution_count": 8,
   "id": "babcccbf-053a-41c9-8a23-b69513c0308d",
   "metadata": {},
   "outputs": [
    {
     "ename": "TrinoUserError",
     "evalue": "TrinoUserError(type=USER_ERROR, name=PERMISSION_DENIED, message=\"Access Denied: Cannot access catalog osc_datacommons_dev\", query_id=20220216_234016_00013_abma7)",
     "output_type": "error",
     "traceback": [
      "\u001b[0;31mTrinoUserError\u001b[0m\u001b[0;31m:\u001b[0m TrinoUserError(type=USER_ERROR, name=PERMISSION_DENIED, message=\"Access Denied: Cannot access catalog osc_datacommons_dev\", query_id=20220216_234016_00013_abma7)\n"
     ]
    }
   ],
   "source": [
    "qres = engine_user6.execute(\"show schemas in osc_datacommons_dev\")\n",
    "qres.fetchall()[:5]"
   ]
  },
  {
   "cell_type": "code",
   "execution_count": 9,
   "id": "b68d92c9-f173-460d-8ab0-9bff8a074d9e",
   "metadata": {},
   "outputs": [
    {
     "data": {
      "text/plain": [
       "[('gleif_direct_issuer_ultimate_issuer',), ('gleif_isin_lei',)]"
      ]
     },
     "execution_count": 9,
     "metadata": {},
     "output_type": "execute_result"
    }
   ],
   "source": [
    "qres = engine_eje.execute(\"show tables in osc_datacommons_dev.gleif\")\n",
    "qres.fetchall()"
   ]
  },
  {
   "cell_type": "code",
   "execution_count": 10,
   "id": "99975c99-2c7f-48f1-bd03-c3d722152fd6",
   "metadata": {},
   "outputs": [
    {
     "data": {
      "text/plain": [
       "[]"
      ]
     },
     "execution_count": 10,
     "metadata": {},
     "output_type": "execute_result"
    }
   ],
   "source": [
    "qres = engine_user1.execute(\"show tables in osc_datacommons_dev.gleif\")\n",
    "qres.fetchall()"
   ]
  },
  {
   "cell_type": "code",
   "execution_count": 11,
   "id": "c77b105d-1f8f-43f7-9cdf-8190c33e9a76",
   "metadata": {},
   "outputs": [
    {
     "ename": "TrinoUserError",
     "evalue": "TrinoUserError(type=USER_ERROR, name=PERMISSION_DENIED, message=\"Access Denied: Cannot access catalog osc_datacommons_dev\", query_id=20220216_234024_00016_abma7)",
     "output_type": "error",
     "traceback": [
      "\u001b[0;31mTrinoUserError\u001b[0m\u001b[0;31m:\u001b[0m TrinoUserError(type=USER_ERROR, name=PERMISSION_DENIED, message=\"Access Denied: Cannot access catalog osc_datacommons_dev\", query_id=20220216_234024_00016_abma7)\n"
     ]
    }
   ],
   "source": [
    "qres = engine_user6.execute(\"show tables in osc_datacommons_dev.gleif\")\n",
    "qres.fetchall()"
   ]
  },
  {
   "cell_type": "code",
   "execution_count": 12,
   "id": "5cdf2c9b-9802-444c-b324-308c8bc7d7c4",
   "metadata": {},
   "outputs": [
    {
     "data": {
      "text/plain": [
       "[('001GPB6A9XPE8XJICC14', 'US3158052262', '2021-12-20 08:00:00.000'),\n",
       " ('00EHHQ2ZHDCFXJCPCL46', 'US92204Q1031', '2021-12-20 08:00:00.000'),\n",
       " ('00KLB2PFTM3060S2N216', 'US4138382027', '2021-12-20 08:00:00.000'),\n",
       " ('00KLB2PFTM3060S2N216', 'US4138385749', '2021-12-20 08:00:00.000'),\n",
       " ('01ERPZV3DOLNXY2MLB90', 'US531554AA10', '2021-12-20 08:00:00.000')]"
      ]
     },
     "execution_count": 12,
     "metadata": {},
     "output_type": "execute_result"
    }
   ],
   "source": [
    "qres = engine_eje.execute(\"select * from osc_datacommons_dev.gleif.gleif_isin_lei limit 5\")\n",
    "qres.fetchall()"
   ]
  },
  {
   "cell_type": "code",
   "execution_count": 13,
   "id": "5118c3bc-a743-46d5-873f-ee2ce4eb14c4",
   "metadata": {},
   "outputs": [
    {
     "ename": "TrinoUserError",
     "evalue": "TrinoUserError(type=USER_ERROR, name=PERMISSION_DENIED, message=\"Access Denied: Cannot select from table osc_datacommons_dev.gleif.gleif_isin_lei\", query_id=20220216_234033_00018_abma7)",
     "output_type": "error",
     "traceback": [
      "\u001b[0;31mTrinoUserError\u001b[0m\u001b[0;31m:\u001b[0m TrinoUserError(type=USER_ERROR, name=PERMISSION_DENIED, message=\"Access Denied: Cannot select from table osc_datacommons_dev.gleif.gleif_isin_lei\", query_id=20220216_234033_00018_abma7)\n"
     ]
    }
   ],
   "source": [
    "qres = engine_user1.execute(\"select * from osc_datacommons_dev.gleif.gleif_isin_lei limit 5\")\n",
    "qres.fetchall()"
   ]
  },
  {
   "cell_type": "code",
   "execution_count": 14,
   "id": "3a55e38d-f028-4402-9a48-40af828c307a",
   "metadata": {},
   "outputs": [
    {
     "ename": "TrinoUserError",
     "evalue": "TrinoUserError(type=USER_ERROR, name=PERMISSION_DENIED, message=\"Access Denied: Cannot access catalog osc_datacommons_dev\", query_id=20220216_234049_00019_abma7)",
     "output_type": "error",
     "traceback": [
      "\u001b[0;31mTrinoUserError\u001b[0m\u001b[0;31m:\u001b[0m TrinoUserError(type=USER_ERROR, name=PERMISSION_DENIED, message=\"Access Denied: Cannot access catalog osc_datacommons_dev\", query_id=20220216_234049_00019_abma7)\n"
     ]
    }
   ],
   "source": [
    "qres = engine_user6.execute(\"select * from osc_datacommons_dev.gleif.gleif_isin_lei limit 5\")\n",
    "qres.fetchall()"
   ]
  },
  {
   "cell_type": "code",
   "execution_count": null,
   "id": "0cc30012-8d62-4cd3-9bad-4d6ee39a43ad",
   "metadata": {},
   "outputs": [],
   "source": []
  }
 ],
 "metadata": {
  "kernelspec": {
   "display_name": "Python 3",
   "language": "python",
   "name": "python3"
  },
  "language_info": {
   "codemirror_mode": {
    "name": "ipython",
    "version": 3
   },
   "file_extension": ".py",
   "mimetype": "text/x-python",
   "name": "python",
   "nbconvert_exporter": "python",
   "pygments_lexer": "ipython3",
   "version": "3.8.3"
  }
 },
 "nbformat": 4,
 "nbformat_minor": 5
}
