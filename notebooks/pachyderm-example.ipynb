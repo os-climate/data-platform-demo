{
 "cells": [
  {
   "cell_type": "markdown",
   "id": "f3f25610-ad0f-4740-b898-a9e0fcd53aa2",
   "metadata": {},
   "source": [
    "# Pachyderm Get Started Demo Sample: Data Versioning\n",
    "Copyright (C) 2021 OS-Climate\n",
    "\n",
    "This sample shows:\n",
    "* How to ingest data from an external source with data versioning in place\n",
    "* How to connect to pachyderm service, create a new repository and use versioning for data input and output\n",
    "* \n",
    "\n",
    "\n",
    "Permission is hereby granted, free of charge, to any person obtaining a copy of this software and associated documentation files (the \"Software\"), to deal in the Software without restriction, including without limitation the rights to use, copy, modify, merge, publish, distribute, sublicense, and/or sell copies of the Software, and to permit persons to whom the Software is furnished to do so, subject to the following conditions:\n",
    "\n",
    "The above copyright notice and this permission notice shall be included in all copies or substantial portions of the Software.\n",
    "\n",
    "THE SOFTWARE IS PROVIDED \"AS IS\", WITHOUT WARRANTY OF ANY KIND, EXPRESS OR IMPLIED, INCLUDING BUT NOT LIMITED TO THE WARRANTIES OF MERCHANTABILITY, FITNESS FOR A PARTICULAR PURPOSE AND NONINFRINGEMENT. IN NO EVENT SHALL THE AUTHORS OR COPYRIGHT HOLDERS BE LIABLE FOR ANY CLAIM, DAMAGES OR OTHER LIABILITY, WHETHER IN AN ACTION OF CONTRACT, TORT OR OTHERWISE, ARISING FROM, OUT OF OR IN CONNECTION WITH THE SOFTWARE OR THE USE OR OTHER DEALINGS IN THE SOFTWARE."
   ]
  },
  {
   "cell_type": "code",
   "execution_count": 1,
   "id": "12ea025c-b859-4e57-88a0-30d48d42302b",
   "metadata": {},
   "outputs": [],
   "source": [
    "%%capture pipoutput\n",
    "\n",
    "# For loading predefined environment variables from files\n",
    "# Typically used to load sensitive access credentials\n",
    "%pip install python-dotenv\n",
    "\n",
    "# Standard python package for interacting with S3 buckets\n",
    "%pip install boto3\n",
    "\n",
    "# Interacting with Trino and using Trino with sqlalchemy\n",
    "%pip install trino sqlalchemy sqlalchemy-trino\n",
    "\n",
    "# Pandas and parquet file i/o\n",
    "%pip install pandas\n",
    "\n",
    "# OS-Climate utilities to make data ingest easier\n",
    "%pip install osc-ingest-tools\n",
    "\n",
    "# Python client for Pachyderm\n",
    "%pip install python_pachyderm"
   ]
  },
  {
   "cell_type": "code",
   "execution_count": 2,
   "id": "c05b3806-2293-48a1-8c31-bd28f121e8ba",
   "metadata": {},
   "outputs": [
    {
     "name": "stdout",
     "output_type": "stream",
     "text": [
      "Exception reporting mode: Minimal\n"
     ]
    }
   ],
   "source": [
    "# Report exceptions only in cells output\n",
    "%xmode Minimal"
   ]
  },
  {
   "cell_type": "code",
   "execution_count": 3,
   "id": "3ccc3cfe-a75c-4b28-8bf2-9c3129bb7fe8",
   "metadata": {},
   "outputs": [],
   "source": [
    "from dotenv import dotenv_values, load_dotenv\n",
    "import os\n",
    "import pathlib\n",
    "import boto3\n",
    "from io import BytesIO\n",
    "import pandas as pd\n",
    "import trino\n",
    "from sqlalchemy.engine import create_engine\n",
    "import osc_ingest_trino as osc\n",
    "import python_pachyderm"
   ]
  },
  {
   "cell_type": "markdown",
   "id": "8e8e8b69-6f29-4f3c-b05d-8ee2e780ea9f",
   "metadata": {},
   "source": [
    "Define Environment and Execution Variables"
   ]
  },
  {
   "cell_type": "code",
   "execution_count": 4,
   "id": "375bf39e-c9e5-46a6-807d-d944598fd4bd",
   "metadata": {},
   "outputs": [],
   "source": [
    "# Define execution variables for loading to Iceberg / Trino\n",
    "ingest_catalog = 'osc_datacommons_dev'\n",
    "ingest_schema = 'sandbox'\n",
    "ingest_table = 'trino_iceberg_demo'"
   ]
  },
  {
   "cell_type": "code",
   "execution_count": 5,
   "id": "1e785101-ad84-4382-a725-8bb0c1280ed8",
   "metadata": {},
   "outputs": [],
   "source": [
    "# Load environment variables from credentials.env\n",
    "osc.load_credentials_dotenv()"
   ]
  },
  {
   "cell_type": "markdown",
   "id": "f6fa6a93-929e-46ba-82a2-3783c3663615",
   "metadata": {},
   "source": [
    "Create an S3 resource for the bucket holding source data, then retrieve the relevant bucket and list objects"
   ]
  },
  {
   "cell_type": "code",
   "execution_count": 6,
   "id": "bb2f27da-f795-411f-99cd-2833ec235869",
   "metadata": {},
   "outputs": [],
   "source": [
    "s3_resource = boto3.resource(\n",
    "    service_name=\"s3\",\n",
    "    endpoint_url=os.environ['S3_LANDING_ENDPOINT'],\n",
    "    aws_access_key_id=os.environ['S3_LANDING_ACCESS_KEY'],\n",
    "    aws_secret_access_key=os.environ['S3_LANDING_SECRET_KEY'],\n",
    ")"
   ]
  },
  {
   "cell_type": "code",
   "execution_count": 7,
   "id": "db05ee59-2dcd-4701-9ea3-527902791bce",
   "metadata": {},
   "outputs": [
    {
     "name": "stdout",
     "output_type": "stream",
     "text": [
      "WRI/global_power_plant_database_v_1_3/A_Global_Database_of_Power_Plants.pdf 2021-09-28 15:48:32+00:00\n",
      "WRI/global_power_plant_database_v_1_3/Estimating_Power_Plant_Generation_in_the_Global_Power_Plant_Database.pdf 2021-09-28 15:48:26+00:00\n",
      "WRI/global_power_plant_database_v_1_3/README.txt 2021-09-28 15:48:31+00:00\n",
      "WRI/global_power_plant_database_v_1_3/RELEASE_NOTES.txt 2021-09-28 15:48:31+00:00\n",
      "WRI/global_power_plant_database_v_1_3/global_power_plant_database.csv 2021-09-28 15:48:29+00:00\n"
     ]
    }
   ],
   "source": [
    "bucket = s3_resource.Bucket(os.environ['S3_LANDING_BUCKET'])\n",
    "\n",
    "# list all objects\n",
    "for obj in bucket.objects.filter(Prefix='WRI/global_power_plant_database_v_1_3/'):\n",
    "    print(obj.key, obj.last_modified)"
   ]
  },
  {
   "cell_type": "markdown",
   "id": "ea3d21c5-4ea5-44c7-b0fc-2d1ceffa21a1",
   "metadata": {},
   "source": [
    "Load the CSV FILE for GPPD and convert it into a dataframe for processing"
   ]
  },
  {
   "cell_type": "code",
   "execution_count": 8,
   "id": "495cc2a9-d4f9-482e-871e-fb71dc689b8e",
   "metadata": {},
   "outputs": [],
   "source": [
    "gppd_csv = s3_resource.Object(os.environ['S3_LANDING_BUCKET'], 'WRI/global_power_plant_database_v_1_3/global_power_plant_database.csv')\n",
    "gppd_csv_file = BytesIO(gppd_csv.get()['Body'].read())"
   ]
  },
  {
   "cell_type": "code",
   "execution_count": 9,
   "id": "45060dad-c60c-4a86-84d4-05d73aa5413e",
   "metadata": {},
   "outputs": [
    {
     "name": "stdout",
     "output_type": "stream",
     "text": [
      "<class 'pandas.core.frame.DataFrame'>\n",
      "RangeIndex: 34936 entries, 0 to 34935\n",
      "Data columns (total 36 columns):\n",
      " #   Column                          Non-Null Count  Dtype  \n",
      "---  ------                          --------------  -----  \n",
      " 0   country                         34936 non-null  string \n",
      " 1   country_long                    34936 non-null  string \n",
      " 2   name                            34936 non-null  string \n",
      " 3   gppd_idnr                       34936 non-null  string \n",
      " 4   capacity_mw                     34936 non-null  Float64\n",
      " 5   latitude                        34936 non-null  Float64\n",
      " 6   longitude                       34936 non-null  Float64\n",
      " 7   primary_fuel                    34936 non-null  string \n",
      " 8   other_fuel1                     1944 non-null   string \n",
      " 9   other_fuel2                     276 non-null    string \n",
      " 10  other_fuel3                     92 non-null     string \n",
      " 11  commissioning_year              17447 non-null  Float64\n",
      " 12  owner                           20868 non-null  string \n",
      " 13  source                          34921 non-null  string \n",
      " 14  url                             34918 non-null  string \n",
      " 15  geolocation_source              34517 non-null  string \n",
      " 16  wepp_id                         16234 non-null  string \n",
      " 17  year_of_capacity_data           14887 non-null  Int64  \n",
      " 18  generation_gwh_2013             6417 non-null   Float64\n",
      " 19  generation_gwh_2014             7226 non-null   Float64\n",
      " 20  generation_gwh_2015             8203 non-null   Float64\n",
      " 21  generation_gwh_2016             9144 non-null   Float64\n",
      " 22  generation_gwh_2017             9500 non-null   Float64\n",
      " 23  generation_gwh_2018             9637 non-null   Float64\n",
      " 24  generation_gwh_2019             9659 non-null   Float64\n",
      " 25  generation_data_source          11400 non-null  string \n",
      " 26  estimated_generation_gwh_2013   16120 non-null  Float64\n",
      " 27  estimated_generation_gwh_2014   16503 non-null  Float64\n",
      " 28  estimated_generation_gwh_2015   17050 non-null  Float64\n",
      " 29  estimated_generation_gwh_2016   17570 non-null  Float64\n",
      " 30  estimated_generation_gwh_2017   33138 non-null  Float64\n",
      " 31  estimated_generation_note_2013  34936 non-null  string \n",
      " 32  estimated_generation_note_2014  34936 non-null  string \n",
      " 33  estimated_generation_note_2015  34936 non-null  string \n",
      " 34  estimated_generation_note_2016  34936 non-null  string \n",
      " 35  estimated_generation_note_2017  34936 non-null  string \n",
      "dtypes: Float64(16), Int64(1), string(19)\n",
      "memory usage: 10.2 MB\n",
      "None\n"
     ]
    },
    {
     "data": {
      "text/html": [
       "<div>\n",
       "<style scoped>\n",
       "    .dataframe tbody tr th:only-of-type {\n",
       "        vertical-align: middle;\n",
       "    }\n",
       "\n",
       "    .dataframe tbody tr th {\n",
       "        vertical-align: top;\n",
       "    }\n",
       "\n",
       "    .dataframe thead th {\n",
       "        text-align: right;\n",
       "    }\n",
       "</style>\n",
       "<table border=\"1\" class=\"dataframe\">\n",
       "  <thead>\n",
       "    <tr style=\"text-align: right;\">\n",
       "      <th></th>\n",
       "      <th>country</th>\n",
       "      <th>country_long</th>\n",
       "      <th>name</th>\n",
       "      <th>gppd_idnr</th>\n",
       "      <th>capacity_mw</th>\n",
       "      <th>latitude</th>\n",
       "      <th>longitude</th>\n",
       "      <th>primary_fuel</th>\n",
       "      <th>other_fuel1</th>\n",
       "      <th>other_fuel2</th>\n",
       "      <th>...</th>\n",
       "      <th>estimated_generation_gwh_2013</th>\n",
       "      <th>estimated_generation_gwh_2014</th>\n",
       "      <th>estimated_generation_gwh_2015</th>\n",
       "      <th>estimated_generation_gwh_2016</th>\n",
       "      <th>estimated_generation_gwh_2017</th>\n",
       "      <th>estimated_generation_note_2013</th>\n",
       "      <th>estimated_generation_note_2014</th>\n",
       "      <th>estimated_generation_note_2015</th>\n",
       "      <th>estimated_generation_note_2016</th>\n",
       "      <th>estimated_generation_note_2017</th>\n",
       "    </tr>\n",
       "  </thead>\n",
       "  <tbody>\n",
       "    <tr>\n",
       "      <th>0</th>\n",
       "      <td>AFG</td>\n",
       "      <td>Afghanistan</td>\n",
       "      <td>Kajaki Hydroelectric Power Plant Afghanistan</td>\n",
       "      <td>GEODB0040538</td>\n",
       "      <td>33.0</td>\n",
       "      <td>32.322</td>\n",
       "      <td>65.119</td>\n",
       "      <td>Hydro</td>\n",
       "      <td>&lt;NA&gt;</td>\n",
       "      <td>&lt;NA&gt;</td>\n",
       "      <td>...</td>\n",
       "      <td>123.77</td>\n",
       "      <td>162.9</td>\n",
       "      <td>97.39</td>\n",
       "      <td>137.76</td>\n",
       "      <td>119.5</td>\n",
       "      <td>HYDRO-V1</td>\n",
       "      <td>HYDRO-V1</td>\n",
       "      <td>HYDRO-V1</td>\n",
       "      <td>HYDRO-V1</td>\n",
       "      <td>HYDRO-V1</td>\n",
       "    </tr>\n",
       "    <tr>\n",
       "      <th>1</th>\n",
       "      <td>AFG</td>\n",
       "      <td>Afghanistan</td>\n",
       "      <td>Kandahar DOG</td>\n",
       "      <td>WKS0070144</td>\n",
       "      <td>10.0</td>\n",
       "      <td>31.67</td>\n",
       "      <td>65.795</td>\n",
       "      <td>Solar</td>\n",
       "      <td>&lt;NA&gt;</td>\n",
       "      <td>&lt;NA&gt;</td>\n",
       "      <td>...</td>\n",
       "      <td>18.43</td>\n",
       "      <td>17.48</td>\n",
       "      <td>18.25</td>\n",
       "      <td>17.7</td>\n",
       "      <td>18.29</td>\n",
       "      <td>SOLAR-V1-NO-AGE</td>\n",
       "      <td>SOLAR-V1-NO-AGE</td>\n",
       "      <td>SOLAR-V1-NO-AGE</td>\n",
       "      <td>SOLAR-V1-NO-AGE</td>\n",
       "      <td>SOLAR-V1-NO-AGE</td>\n",
       "    </tr>\n",
       "    <tr>\n",
       "      <th>2</th>\n",
       "      <td>AFG</td>\n",
       "      <td>Afghanistan</td>\n",
       "      <td>Kandahar JOL</td>\n",
       "      <td>WKS0071196</td>\n",
       "      <td>10.0</td>\n",
       "      <td>31.623</td>\n",
       "      <td>65.792</td>\n",
       "      <td>Solar</td>\n",
       "      <td>&lt;NA&gt;</td>\n",
       "      <td>&lt;NA&gt;</td>\n",
       "      <td>...</td>\n",
       "      <td>18.64</td>\n",
       "      <td>17.58</td>\n",
       "      <td>19.1</td>\n",
       "      <td>17.62</td>\n",
       "      <td>18.72</td>\n",
       "      <td>SOLAR-V1-NO-AGE</td>\n",
       "      <td>SOLAR-V1-NO-AGE</td>\n",
       "      <td>SOLAR-V1-NO-AGE</td>\n",
       "      <td>SOLAR-V1-NO-AGE</td>\n",
       "      <td>SOLAR-V1-NO-AGE</td>\n",
       "    </tr>\n",
       "    <tr>\n",
       "      <th>3</th>\n",
       "      <td>AFG</td>\n",
       "      <td>Afghanistan</td>\n",
       "      <td>Mahipar Hydroelectric Power Plant Afghanistan</td>\n",
       "      <td>GEODB0040541</td>\n",
       "      <td>66.0</td>\n",
       "      <td>34.556</td>\n",
       "      <td>69.4787</td>\n",
       "      <td>Hydro</td>\n",
       "      <td>&lt;NA&gt;</td>\n",
       "      <td>&lt;NA&gt;</td>\n",
       "      <td>...</td>\n",
       "      <td>225.06</td>\n",
       "      <td>203.55</td>\n",
       "      <td>146.9</td>\n",
       "      <td>230.18</td>\n",
       "      <td>174.91</td>\n",
       "      <td>HYDRO-V1</td>\n",
       "      <td>HYDRO-V1</td>\n",
       "      <td>HYDRO-V1</td>\n",
       "      <td>HYDRO-V1</td>\n",
       "      <td>HYDRO-V1</td>\n",
       "    </tr>\n",
       "    <tr>\n",
       "      <th>4</th>\n",
       "      <td>AFG</td>\n",
       "      <td>Afghanistan</td>\n",
       "      <td>Naghlu Dam Hydroelectric Power Plant Afghanistan</td>\n",
       "      <td>GEODB0040534</td>\n",
       "      <td>100.0</td>\n",
       "      <td>34.641</td>\n",
       "      <td>69.717</td>\n",
       "      <td>Hydro</td>\n",
       "      <td>&lt;NA&gt;</td>\n",
       "      <td>&lt;NA&gt;</td>\n",
       "      <td>...</td>\n",
       "      <td>406.16</td>\n",
       "      <td>357.22</td>\n",
       "      <td>270.99</td>\n",
       "      <td>395.38</td>\n",
       "      <td>350.8</td>\n",
       "      <td>HYDRO-V1</td>\n",
       "      <td>HYDRO-V1</td>\n",
       "      <td>HYDRO-V1</td>\n",
       "      <td>HYDRO-V1</td>\n",
       "      <td>HYDRO-V1</td>\n",
       "    </tr>\n",
       "  </tbody>\n",
       "</table>\n",
       "<p>5 rows × 36 columns</p>\n",
       "</div>"
      ],
      "text/plain": [
       "  country country_long                                              name  \\\n",
       "0     AFG  Afghanistan      Kajaki Hydroelectric Power Plant Afghanistan   \n",
       "1     AFG  Afghanistan                                      Kandahar DOG   \n",
       "2     AFG  Afghanistan                                      Kandahar JOL   \n",
       "3     AFG  Afghanistan     Mahipar Hydroelectric Power Plant Afghanistan   \n",
       "4     AFG  Afghanistan  Naghlu Dam Hydroelectric Power Plant Afghanistan   \n",
       "\n",
       "      gppd_idnr  capacity_mw  latitude  longitude primary_fuel other_fuel1  \\\n",
       "0  GEODB0040538         33.0    32.322     65.119        Hydro        <NA>   \n",
       "1    WKS0070144         10.0     31.67     65.795        Solar        <NA>   \n",
       "2    WKS0071196         10.0    31.623     65.792        Solar        <NA>   \n",
       "3  GEODB0040541         66.0    34.556    69.4787        Hydro        <NA>   \n",
       "4  GEODB0040534        100.0    34.641     69.717        Hydro        <NA>   \n",
       "\n",
       "  other_fuel2  ... estimated_generation_gwh_2013  \\\n",
       "0        <NA>  ...                        123.77   \n",
       "1        <NA>  ...                         18.43   \n",
       "2        <NA>  ...                         18.64   \n",
       "3        <NA>  ...                        225.06   \n",
       "4        <NA>  ...                        406.16   \n",
       "\n",
       "   estimated_generation_gwh_2014 estimated_generation_gwh_2015  \\\n",
       "0                          162.9                         97.39   \n",
       "1                          17.48                         18.25   \n",
       "2                          17.58                          19.1   \n",
       "3                         203.55                         146.9   \n",
       "4                         357.22                        270.99   \n",
       "\n",
       "  estimated_generation_gwh_2016 estimated_generation_gwh_2017  \\\n",
       "0                        137.76                         119.5   \n",
       "1                          17.7                         18.29   \n",
       "2                         17.62                         18.72   \n",
       "3                        230.18                        174.91   \n",
       "4                        395.38                         350.8   \n",
       "\n",
       "  estimated_generation_note_2013 estimated_generation_note_2014  \\\n",
       "0                       HYDRO-V1                       HYDRO-V1   \n",
       "1                SOLAR-V1-NO-AGE                SOLAR-V1-NO-AGE   \n",
       "2                SOLAR-V1-NO-AGE                SOLAR-V1-NO-AGE   \n",
       "3                       HYDRO-V1                       HYDRO-V1   \n",
       "4                       HYDRO-V1                       HYDRO-V1   \n",
       "\n",
       "   estimated_generation_note_2015  estimated_generation_note_2016  \\\n",
       "0                        HYDRO-V1                        HYDRO-V1   \n",
       "1                 SOLAR-V1-NO-AGE                 SOLAR-V1-NO-AGE   \n",
       "2                 SOLAR-V1-NO-AGE                 SOLAR-V1-NO-AGE   \n",
       "3                        HYDRO-V1                        HYDRO-V1   \n",
       "4                        HYDRO-V1                        HYDRO-V1   \n",
       "\n",
       "   estimated_generation_note_2017  \n",
       "0                        HYDRO-V1  \n",
       "1                 SOLAR-V1-NO-AGE  \n",
       "2                 SOLAR-V1-NO-AGE  \n",
       "3                        HYDRO-V1  \n",
       "4                        HYDRO-V1  \n",
       "\n",
       "[5 rows x 36 columns]"
      ]
     },
     "execution_count": 9,
     "metadata": {},
     "output_type": "execute_result"
    }
   ],
   "source": [
    "df_gppd = pd.read_csv(gppd_csv_file, dtype={'other_fuel3': str}).convert_dtypes()\n",
    "print(df_gppd.info(verbose=True))\n",
    "df_gppd.head()"
   ]
  },
  {
   "cell_type": "code",
   "execution_count": 10,
   "id": "868d0ad9-44ae-4a36-a265-a9ae81bfbad3",
   "metadata": {},
   "outputs": [],
   "source": [
    "# Create a pachyderm client by manually setting up host and port\n",
    "client = python_pachyderm.Client(os.environ['PACH_ENDPOINT'], os.environ['PACH_PORT'])"
   ]
  },
  {
   "cell_type": "code",
   "execution_count": 11,
   "id": "bbd7e846-edae-4f26-a7ac-4fd7101a277e",
   "metadata": {},
   "outputs": [
    {
     "ename": "_InactiveRpcError",
     "evalue": "<_InactiveRpcError of RPC that terminated with:\n\tstatus = StatusCode.UNKNOWN\n\tdetails = \"repo gppd already exists\"\n\tdebug_error_string = \"{\"created\":\"@1648994242.088443590\",\"description\":\"Error received from peer ipv4:172.30.83.114:30650\",\"file\":\"src/core/lib/surface/call.cc\",\"file_line\":905,\"grpc_message\":\"repo gppd already exists\",\"grpc_status\":2}\"\n>",
     "output_type": "error",
     "traceback": [
      "\u001b[0;31m_InactiveRpcError\u001b[0m\u001b[0;31m:\u001b[0m <_InactiveRpcError of RPC that terminated with:\n\tstatus = StatusCode.UNKNOWN\n\tdetails = \"repo gppd already exists\"\n\tdebug_error_string = \"{\"created\":\"@1648994242.088443590\",\"description\":\"Error received from peer ipv4:172.30.83.114:30650\",\"file\":\"src/core/lib/surface/call.cc\",\"file_line\":905,\"grpc_message\":\"repo gppd already exists\",\"grpc_status\":2}\"\n>\n"
     ]
    }
   ],
   "source": [
    "# Create a pachyderm repo called `test`\n",
    "client.create_repo(\"gppd\")"
   ]
  },
  {
   "cell_type": "code",
   "execution_count": 12,
   "id": "26724770-78d4-4f8d-9096-b011b911075e",
   "metadata": {},
   "outputs": [
    {
     "name": "stdout",
     "output_type": "stream",
     "text": [
      "[repo {\n",
      "  name: \"gppd\"\n",
      "  type: \"user\"\n",
      "}\n",
      "created {\n",
      "  seconds: 1648985432\n",
      "  nanos: 747178000\n",
      "}\n",
      "branches {\n",
      "  repo {\n",
      "    name: \"gppd\"\n",
      "    type: \"user\"\n",
      "  }\n",
      "  name: \"master\"\n",
      "}\n",
      ", repo {\n",
      "  name: \"test\"\n",
      "  type: \"user\"\n",
      "}\n",
      "created {\n",
      "  seconds: 1648809473\n",
      "  nanos: 914898000\n",
      "}\n",
      "]\n"
     ]
    }
   ],
   "source": [
    "# Display list of repos\n",
    "print(list(client.list_repo()))"
   ]
  },
  {
   "cell_type": "code",
   "execution_count": 13,
   "id": "ef1625ec-af10-4b68-8da4-74ae16986793",
   "metadata": {},
   "outputs": [
    {
     "name": "stdout",
     "output_type": "stream",
     "text": [
      "[file {\n",
      "  commit {\n",
      "    branch {\n",
      "      repo {\n",
      "        name: \"gppd\"\n",
      "        type: \"user\"\n",
      "      }\n",
      "      name: \"master\"\n",
      "    }\n",
      "    id: \"5952c5bd0aa94fbcb60845a364f8c563\"\n",
      "  }\n",
      "  path: \"/global_power_plant_database_v_1_3/global_power_plant_database.csv\"\n",
      "  datum: \"default\"\n",
      "}\n",
      "file_type: FILE\n",
      "committed {\n",
      "  seconds: 1648994252\n",
      "  nanos: 875712000\n",
      "}\n",
      "hash: \"\\016WQ\\300&\\345C\\262\\350\\253.\\260`\\231\\332\\241\\321\\345\\337Gw\\217w\\207\\372\\253E\\315\\361/\\343\\250\"\n",
      "]\n"
     ]
    }
   ],
   "source": [
    "# Create a file in `(repo=\"gppd\", branch=\"master\")` at `/global_power_plant_database_v_1_3/global_power_plant_database.csv`\n",
    "with client.commit(\"gppd\", \"master\") as commit:\n",
    "    client.put_file_bytes(commit, \"/global_power_plant_database_v_1_3/global_power_plant_database.csv\", gppd_csv_file)\n",
    "# Check the file commit\n",
    "print(list(client.list_file((\"gppd\",\"master\"), \"/global_power_plant_database_v_1_3/\")))"
   ]
  },
  {
   "cell_type": "code",
   "execution_count": 14,
   "id": "a801cd65-c022-4172-ba64-d3e63015f197",
   "metadata": {},
   "outputs": [
    {
     "ename": "StopIteration",
     "evalue": "",
     "output_type": "error",
     "traceback": [
      "\u001b[0;31mStopIteration\u001b[0m\n"
     ]
    }
   ],
   "source": [
    "f = client.get_file((\"gppd\", \"master\"), \"/global_power_plant_database_v_1_3/global_power_plant_database.csv\")\n",
    "# df = pd.read_csv(f)"
   ]
  },
  {
   "cell_type": "code",
   "execution_count": null,
   "id": "caa3051e-32b1-492e-9622-839305388e53",
   "metadata": {},
   "outputs": [],
   "source": [
    "engine = osc.attach_trino_engine(verbose=True, catalog=ingest_catalog)"
   ]
  },
  {
   "cell_type": "code",
   "execution_count": null,
   "id": "b435bbfa-cd57-41a6-b7d7-a27746227fbe",
   "metadata": {},
   "outputs": [],
   "source": [
    "# Show available schemas to ensure trino connection is set correctly\n",
    "schema_show_sql = f\"\"\"\n",
    "show schemas in {ingest_catalog}\n",
    "\"\"\"\n",
    "schema_show = engine.execute(schema_show_sql)\n",
    "print(schema_show.fetchall())"
   ]
  },
  {
   "cell_type": "code",
   "execution_count": null,
   "id": "0aa9a34c-9755-4b89-b76b-581fe7eb78b7",
   "metadata": {},
   "outputs": [],
   "source": []
  }
 ],
 "metadata": {
  "kernelspec": {
   "display_name": "Python 3 (ipykernel)",
   "language": "python",
   "name": "python3"
  },
  "language_info": {
   "codemirror_mode": {
    "name": "ipython",
    "version": 3
   },
   "file_extension": ".py",
   "mimetype": "text/x-python",
   "name": "python",
   "nbconvert_exporter": "python",
   "pygments_lexer": "ipython3",
   "version": "3.8.6"
  }
 },
 "nbformat": 4,
 "nbformat_minor": 5
}
