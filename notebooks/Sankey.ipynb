{
 "cells": [
  {
   "cell_type": "markdown",
   "id": "1657beae-e7e0-43f5-bb4f-8b2600a33b39",
   "metadata": {},
   "source": [
    "# Begin with Credentials and Connection to Trino"
   ]
  },
  {
   "cell_type": "code",
   "execution_count": null,
   "id": "38048171-0323-47f8-a57b-b11591947836",
   "metadata": {},
   "outputs": [],
   "source": [
    "import os\n",
    "import pathlib\n",
    "from dotenv import load_dotenv\n",
    "\n",
    "# Load some standard environment variables from a dot-env file, if it exists.\n",
    "# If no such file can be found, does not fail, and so allows these environment vars to\n",
    "# be populated in some other way\n",
    "dotenv_dir = os.environ.get('CREDENTIAL_DOTENV_DIR', os.environ.get('PWD', '/opt/app-root/src'))\n",
    "dotenv_path = pathlib.Path(dotenv_dir) / 'credentials.env'\n",
    "if os.path.exists(dotenv_path):\n",
    "    load_dotenv(dotenv_path=dotenv_path,override=True)"
   ]
  },
  {
   "cell_type": "markdown",
   "id": "657176fb-79b1-4936-8a85-1bf78bd5a967",
   "metadata": {},
   "source": [
    "Set session variable CATALOG to make query terms much more compact"
   ]
  },
  {
   "cell_type": "code",
   "execution_count": null,
   "id": "77fcf3f1-3694-45ab-809c-8fb256dd0c66",
   "metadata": {},
   "outputs": [],
   "source": [
    "import trino\n",
    "from sqlalchemy.engine import create_engine\n",
    "\n",
    "env_var_prefix = 'TRINO'\n",
    "\n",
    "sqlstring = 'trino://{user}@{host}:{port}/'.format(\n",
    "    user = os.environ[f'{env_var_prefix}_USER'],\n",
    "    host = os.environ[f'{env_var_prefix}_HOST'],\n",
    "    port = os.environ[f'{env_var_prefix}_PORT']\n",
    ")\n",
    "sqlargs = {\n",
    "    'auth': trino.auth.JWTAuthentication(os.environ[f'{env_var_prefix}_PASSWD']),\n",
    "    'http_scheme': 'https',\n",
    "    'catalog': 'osc_datacommons_dev'\n",
    "}\n",
    "engine = create_engine(sqlstring, connect_args = sqlargs)\n",
    "connection = engine.connect()\n",
    "\n",
    "import pandas as pd"
   ]
  },
  {
   "cell_type": "code",
   "execution_count": null,
   "id": "5d43200b-4015-4a44-9183-40b47a781882",
   "metadata": {},
   "outputs": [],
   "source": [
    "from osc_ingest_trino import *\n",
    "\n",
    "trino_bucket = attach_s3_bucket(\"S3_DEV\")"
   ]
  },
  {
   "cell_type": "raw",
   "id": "77803a5f-cc8e-4b48-bc5e-45d1c4ee5565",
   "metadata": {},
   "source": [
    "source_data = {\n",
    "    'W-OFFSH': 'Petroleum and Natural Gas Systems – Offshore Production', # Direct Emitter\n",
    "    'W-ONSH': 'Petroleum and Natural Gas Systems – Onshore Production', # Onshore Oil & Gas Production\n",
    "    'FF': 'Underground Coal Mines', # Direct Emitter\n",
    "}\n",
    "\n",
    "sink_data = {\n",
    "    'W-UNSTG': 'Petroleum and Natural Gas Systems – Underground Natural Gas Storage', # Direct Emitter\n",
    "    'W-LNGSTG': 'Petroleum and Natural Gas Systems – Liquified Natural Gas Storage', # Direct Emitter\n",
    "    'HH': 'Municipal Landfills', # Direct Emitter\n",
    "    'II': 'Industrial Wastewater Treatment', # Direct Emitter\n",
    "    'MM – EXP': 'Petroleum Product Exporter', # Supplier\n",
    "    'RR': 'Geologic Sequestration of Carbon Dioxide', # CO2 Injection\n",
    "    'TT': 'Industrial Waste Landfills', # Direct Emitter\n",
    "    'UU': 'Injection of Carbon Dioxide', # CO2 Injection\n",
    "}\n",
    "\n",
    "process_data = {\n",
    "    'C': 'Stationary Combustion', # Direct Emitter\n",
    "    'D': 'Electricity Generation', # Direct Emitter\n",
    "    'E': 'Adipic Acid Production', # Direct Emitter\n",
    "    'F': 'Aluminum Production', # Direct Emitter\n",
    "    'G': 'Ammonia Manufacturing', # Direct Emitter\n",
    "    'H': 'Cement Production', # Direct Emitter\n",
    "    'I': 'Electronics Manufacture', # Direct Emitter\n",
    "    'K': 'Ferroalloy Production', # Direct Emitter\n",
    "    'L': 'Fluorinated GHG Production', # Direct Emitter\n",
    "    'N': 'Glass Production', # Direct Emitter\n",
    "    'O': 'HCFC–22 Production and HFC–23 Destruction', # Direct Emitter\n",
    "    'P': 'Hydrogen Production', # Direct Emitter\n",
    "    'Q': 'Iron and Steel Production', # Direct Emitter\n",
    "    'R': 'Lead Production', # Direct Emitter\n",
    "    'S': 'Lime Production', # Direct Emitter\n",
    "    'T': 'Magnesium Production', # Direct Emitter\n",
    "    'U': 'Miscellaneous Use of Carbonates', # Direct Emitter\n",
    "    'V': 'Nitric Acid Production', # Direct Emitter\n",
    "    'W': 'Petroleum and Natural Gas Systems', # Direct Emitter\n",
    "    'W-PROC': 'Petroleum and Natural Gas Systems – Natural Gas Processing', # Direct Emitter\n",
    "    'W-NGTC': 'Petroleum and Natural Gas Systems – Natural Gas Transmission/Compression', # Direct Emitter\n",
    "    'W-LNGIE': 'Petroleum and Natural Gas Systems – Liquified Natural Gas Import/Export Equipment', # Direct Emitter\n",
    "    'W-LDC': 'Petroleum and Natural Gas Systems – Natural Gas Local Distribution Company', # LDC - Direct Emissions\n",
    "    'X': 'Petrochemical Production', # Direct Emitter\n",
    "    'Y': 'Petroleum Refining', # Direct Emitter\n",
    "    'Z': 'Phosphoric Acid Production', # Direct Emitter\n",
    "    'AA': 'Pulp and Paper Manufacturing', # Direct Emitter\n",
    "    'BB': 'Silicon Carbide Production', # Direct Emitter\n",
    "    'CC': 'Soda Ash Manufacturing', # Direct Emitter\n",
    "    'DD': 'SF6 from Electrical Equipment', # SF6 from Elec. Equip.\n",
    "    'EE': 'Titanium Dioxide Production', # Direct Emitter\n",
    "    'GG': 'Zinc Production', # Direct Emitter\n",
    "    'LL': 'Suppliers of Coal Based Liquids Fuels', # Supplier\n",
    "    'MM': 'Suppliers of Petroleum Products', # Supplier\n",
    "    'MM – REF': 'Petroleum Refinery (Producer)', # Supplier\n",
    "    'MM – IMP': 'Petroleum Product Importer', # Supplier\n",
    "    'NN': 'Natural Gas and Natural Gas Liquid Supply', # Supplier\n",
    "    'NN-FRAC': 'Natural Gas Liquids Fractionator', # Supplier\n",
    "    'NN-LDC': 'Natural Gas Local Distribution Company (supply)', # Supplier\n",
    "    'OO': 'Non-CO2 Industrial Gas Supply', # Supplier\n",
    "    'PP': 'Carbon Dioxide (CO2) Supply', # Supplier\n",
    "    'QQ': 'Import and Export of Equipment Containing Fluorinated GHGs', # Supplier\n",
    "    'SS': 'Manufacture of Electric Transmission and Distribution Equipment', # Direct Emitter\n",
    "}\n",
    "\n",
    "link_data = {\n",
    "}"
   ]
  },
  {
   "cell_type": "markdown",
   "id": "79bff9f9-3f8d-4c0e-a966-4c79cace61ee",
   "metadata": {},
   "source": [
    "Leftmost in the diagram are the facilities.  Some facilities are owned by entities with known LEIs, others are not."
   ]
  },
  {
   "cell_type": "code",
   "execution_count": null,
   "id": "7928e7a3-9e63-4924-afce-1aaeba63ee5f",
   "metadata": {},
   "outputs": [],
   "source": [
    "fac_lei_list = engine.execute(\"\"\"\n",
    "select count (*), lei from ghgrp_demo.parent_attribution as PA\n",
    "where PA.lei is not null and PA.reporting_year=DATE('2020-01-01')\n",
    "group by lei\n",
    "order by count (*) desc\"\"\").fetchall()\n",
    "\n",
    "fac_nolei_list = engine.execute(\"\"\"\n",
    "select count (*), parent_company_name from ghgrp_demo.parent_attribution as PA\n",
    "where PA.lei is null and PA.reporting_year=DATE('2020-01-01')\n",
    "group by parent_company_name\n",
    "order by count (*) desc\"\"\").fetchall()"
   ]
  },
  {
   "cell_type": "markdown",
   "id": "ab78457b-5d71-41b8-9610-d358188e28dc",
   "metadata": {},
   "source": [
    "Companies reporting to the SEC DERA database list their primary SIC code.  `SIC_NOLIST_LEI_LIST` contains a list of SIC codes reported to SEC DERA that are not otherwise listed in the EPA GHGRP data."
   ]
  },
  {
   "cell_type": "code",
   "execution_count": null,
   "id": "37fa6e3b-708c-4dfc-9baf-ed67562c260e",
   "metadata": {},
   "outputs": [],
   "source": [
    "sic_nolist_lei_list = engine.execute(\"\"\"\n",
    "select count (*), S.sic\n",
    "from sec_dera.sub as S inner join\n",
    "  (select S2.lei as lei\n",
    "   from sec_dera.sub as S2\n",
    "   where S2.fp='FY' and S2.fy=DATE('2020-01-01') and S2.form='10-K'\n",
    "   except\n",
    "   select distinct(PA.lei) from ghgrp_demo.parent_attribution as PA where PA.lei IS NOT NULL and reporting_year=DATE('2020-01-01')) as S2_lei \n",
    "on S.lei=S2_lei.lei\n",
    "where S.fp='FY' and S.fy=DATE('2020-01-01') and S.form='10-K'\n",
    "group by S.sic\n",
    "order by count (*) desc\n",
    "\"\"\").fetchall()"
   ]
  },
  {
   "cell_type": "markdown",
   "id": "31558893-5bb7-4070-8735-9ea94fb7db22",
   "metadata": {},
   "source": [
    "Facilities in the EPA GHGRP dataset are categorized by a NAICS (not SIC) code.  `naics_nolist_nolei_list` contains the list of NAICS codes that will not be overriden by the SIC code of a publicly reporting company."
   ]
  },
  {
   "cell_type": "code",
   "execution_count": null,
   "id": "4457c924-16e4-4062-965f-e77fd7b29eab",
   "metadata": {},
   "outputs": [],
   "source": [
    "naics_nolist_nolei_list = engine.execute(\"\"\"\n",
    "select count (*), fnc\n",
    "from (select PA.facility_naics_code as fnc\n",
    "      from epa_ghgrp.parent_company as PA\n",
    "      where PA.reporting_year=DATE('2020-01-01') and PA.lei IS NULL\n",
    "      except\n",
    "      select distinct(PA2.facility_naics_code) as fnc\n",
    "      from ghgrp_demo.parent_attribution as PA2 inner join sec_dera.sub as S\n",
    "      on PA2.lei=S.lei and PA2.reporting_year=S.fy\n",
    "      where PA2.reporting_year=DATE('2020-01-01') and S.form='10-K' and S.fp='FY')\n",
    "group by fnc\n",
    "order by count (*) desc\n",
    "\"\"\").fetchall()"
   ]
  },
  {
   "cell_type": "markdown",
   "id": "5c16de21-12d6-45e3-b12e-0acdd9253e3f",
   "metadata": {},
   "source": [
    "The initial left-hand side of the Sankey diagram:"
   ]
  },
  {
   "cell_type": "code",
   "execution_count": null,
   "id": "ff9d2353-b6b5-4920-9c5b-521608f12b22",
   "metadata": {},
   "outputs": [],
   "source": [
    "sankey_data = [\n",
    "    ['SIC not listed', 'SIC', len(sic_nolist_lei_list)],\n",
    "    ['GHGRP facilities', 'facilities w/ LEI', sum([x[0] for x in fac_lei_list])],\n",
    "    ['facilities w/ LEI', 'GHGRP LEI', len(fac_lei_list)],\n",
    "    ['GHGRP facilities', 'facilities w/o LEI', sum([x[0] for x in fac_nolei_list])],\n",
    "    ['facilities w/o LEI', 'GHGRP no LEI', len(fac_nolei_list)],\n",
    "    ['NAICS not listed', 'NAICS', len(naics_nolist_nolei_list)],\n",
    "]\n",
    "display(sankey_data)"
   ]
  },
  {
   "cell_type": "code",
   "execution_count": null,
   "id": "7c11b801-c3c5-4346-ad16-ae08425ef850",
   "metadata": {},
   "outputs": [],
   "source": [
    "engine.execute(\"select distinct(table_source) from ghgrp_demo.parent_attribution where reporting_year=DATE('2020-01-01')\").fetchall()\n",
    "\n",
    "# Note here that PARENT_ATTRIBUTION doesn't yet have source data from SUPPLIERS, CO2_INJECTION, nor GEOLOGIC_SEQUESTRATION_OF_CO2"
   ]
  },
  {
   "cell_type": "markdown",
   "id": "dcf4dbd0-81cf-40c0-9064-5e77817e99ad",
   "metadata": {},
   "source": [
    "Build the next stages of the Sankey Diagram:\n",
    "* Facilities (LEI and no LEI) -> Parent Companies (LEI and no LEI)\n",
    "* Parent Companies -> Emitter Categories (Direct Emitters, etc)\n",
    "* Emitter Categories -> SIC/NAICS codes\n",
    "* SIC/NAICS codes -> grouped SIC/NAICS codes"
   ]
  },
  {
   "cell_type": "code",
   "execution_count": null,
   "id": "f4d52c6a-255f-41e3-9fb5-09fffe5bc737",
   "metadata": {},
   "outputs": [],
   "source": [
    "sic_others_cutoff = 30\n",
    "naics_others_cutoff = 31\n",
    "\n",
    "sic_df = pd.read_sql(\"select * from us_census.sic_ranges\", engine)\n",
    "\n",
    "def get_range_string(df):\n",
    "    return sic_df[(df.l <= sic) & (df.r >= sic)][['range', 'range_desc']].agg(': '.join, axis=1).squeeze()\n",
    "\n",
    "for tname in ['direct_emitters', 'onshore_oil_gas_prod', 'gathering_boosting',\n",
    "             'transmission_pipelines', 'ldc_direct_emissions', 'sf6_from_elec_equip',\n",
    "             # 'suppliers', 'co2_injection', 'geologic_sequestration_of_co2'\n",
    "             ]:\n",
    "    lei_2_epa_class_cnt = engine.execute(f\"\"\"\n",
    "select count (*) from\n",
    "  (select distinct(lei) from ghgrp_demo.parent_attribution as PA\n",
    "   where PA.lei IS NOT NULL and table_source='{tname}' and reporting_year=DATE('2020-01-01'))\n",
    "\"\"\").fetchall()[0][0]\n",
    "    sankey_data.append(['GHGRP LEI', f'{tname} LEI', lei_2_epa_class_cnt])\n",
    "    epa_lei_class_2_sic_list = engine.execute(f\"\"\"\n",
    "select count (*), sic\n",
    "from ghgrp_demo.parent_attribution as PA join sec_dera.sub as S\n",
    "on PA.lei=S.lei and PA.reporting_year=S.fy\n",
    "where PA.reporting_year=DATE('2020-01-01') and S.fp='FY' and S.form='10-K' and table_source='{tname}'\n",
    "group by sic\n",
    "order by count (*) desc\n",
    "\"\"\").fetchall()\n",
    "    for row in epa_lei_class_2_sic_list:\n",
    "        if row[0]==0:\n",
    "            continue\n",
    "        sic = row[1]\n",
    "        range_string = get_range_string(sic_df)\n",
    "        if row[0] < sic_others_cutoff:\n",
    "            sankey_data.append([f\"SIC others\", f\"SIC RANGE {range_string}\", row[0]])\n",
    "            continue\n",
    "        sankey_data.append([f'{tname} LEI', f\"SIC {sic}\", row[0]])\n",
    "        sankey_data.append([f\"SIC {sic}\", f\"SIC RANGE {range_string}\", row[0]])\n",
    "    sankey_data.append([f'{tname} LEI', f\"SIC others\", sum([x[0] for x in epa_lei_class_2_sic_list if x[0] < sic_others_cutoff])])\n",
    "    \n",
    "    nolei_2_epa_class_cnt = engine.execute(f\"\"\"\n",
    "select count (*) from\n",
    "  (select distinct(parent_company_name) from ghgrp_demo.parent_attribution as PA\n",
    "   where PA.lei IS NULL and table_source='{tname}' and reporting_year=DATE('2020-01-01'))\n",
    "\"\"\").fetchall()[0][0]\n",
    "    sankey_data.append(['GHGRP no LEI', f'{tname} no LEI', lei_2_epa_class_cnt])\n",
    "    epa_nolei_class_2_naics_list = engine.execute(f\"\"\"\n",
    "select count (*), facility_naics_code\n",
    "from ghgrp_demo.parent_attribution as PA\n",
    "where PA.reporting_year=DATE('2020-01-01') and PA.lei IS NULL and table_source='{tname}'\n",
    "group by facility_naics_code\n",
    "order by count (*) desc\n",
    "\"\"\").fetchall()\n",
    "    for row in epa_nolei_class_2_naics_list:\n",
    "        if row[0] < naics_others_cutoff:\n",
    "            continue\n",
    "        naics = row[1]\n",
    "        sankey_data.append([f'{tname} no LEI', f\"NAICS {naics}\", row[0]])\n",
    "    sankey_data.append([f'{tname} no LEI', f\"NAICS others\", sum([x[0] for x in epa_nolei_class_2_naics_list if x[0] < naics_others_cutoff])])"
   ]
  },
  {
   "cell_type": "markdown",
   "id": "82568d80-2d60-4c84-abb6-77f274d31395",
   "metadata": {},
   "source": [
    "Build the right-hand side of the diagram: SIC groups to Revenues and CO2e (arbitrarily scaled)"
   ]
  },
  {
   "cell_type": "code",
   "execution_count": null,
   "id": "0a78adbe-cb77-4145-a836-ba1d24db497a",
   "metadata": {},
   "outputs": [],
   "source": [
    "revenue_scale_factor = 1e3\n",
    "co2e_scale_factor = 7e5\n",
    "\n",
    "qres = engine.execute(\"\"\"\n",
    "select PA.lei, sic, sum(fractional_emissions) as tot_co2e, round(max(value)/1000000,3) as tot_revenue\n",
    "from ghgrp_demo.parent_attribution as PA join sec_dera.sub as S on PA.lei=S.lei and PA.reporting_year=S.fy\n",
    "     join sec_dera.num as N on S.adsh=N.adsh\n",
    "where PA.reporting_year=DATE('2020-01-01')\n",
    "and S.fp='FY' and S.form='10-K'\n",
    "and ddate>=DATE('2020-01-01') and ddate<DATE('2021-01-01')\n",
    "and coreg is NULL\n",
    "and (N.tag='Revenues'\n",
    "     or N.tag='RevenueFromContractWithCustomerIncludingAssessedTax'\n",
    "     or N.tag='RevenueFromContractWithCustomerExcludingAssessedTax'\n",
    "     or N.tag='RevenuesNetOfInterestExpense'\n",
    "     or N.tag='RegulatedAndUnregulatedOperatingRevenue'\n",
    "     or N.tag='RegulatedOperatingRevenuePipelines')\n",
    "and N.qtrs=4\n",
    "group by PA.lei, sic\n",
    "\"\"\").fetchall()\n",
    "\n",
    "for row in qres:\n",
    "    sic = row[1]\n",
    "    co2e = row[2]/co2e_scale_factor\n",
    "    rev = row[3]/revenue_scale_factor\n",
    "    range_string = get_range_string(sic_df)\n",
    "    sankey_data.append([f\"SIC RANGE {range_string}\", \"CO2e\", co2e])\n",
    "    sankey_data.append([f\"SIC RANGE {range_string}\", \"Revenue\", rev])"
   ]
  },
  {
   "cell_type": "markdown",
   "id": "0c02db17-da5b-48d7-89e0-121ff383e4b4",
   "metadata": {},
   "source": [
    "Build the right-hand side of the diagram: NAICS codes to CO2e (arbitrarily scaled).  We don't have revenue information for these emissions."
   ]
  },
  {
   "cell_type": "raw",
   "id": "91fba62f-a4da-4b76-ade4-5562ad3fcc7e",
   "metadata": {},
   "source": [
    "# There's an edge condition with 3 coming from direct_emitters and 27 comming from ldc_direct_emissions.  With a cutoff of 30, Following their separate paths to a NAICS category, they are separately bundled toward NAICS_OTHERS.  But together, they cross the threshold of having their own NAICS category.\n",
    "\n",
    "engine.execute(\"select * from ghgrp_demo.parent_attribution as PA where facility_naics_code='221210' and lei is null and reporting_year=DATE('2020-01-01')\").fetchall()"
   ]
  },
  {
   "cell_type": "code",
   "execution_count": null,
   "id": "61510e07-4209-4078-8539-62a5ebf435d7",
   "metadata": {},
   "outputs": [],
   "source": [
    "qres = engine.execute(\"\"\"\n",
    "select count (*), PA.facility_naics_code, sum(PA.fractional_emissions) as tot_co2e\n",
    "from ghgrp_demo.parent_attribution as PA\n",
    "where PA.lei IS NULL and PA.reporting_year=DATE('2020-01-01')\n",
    "group by PA.facility_naics_code\n",
    "\"\"\").fetchall()\n",
    "\n",
    "for row in qres:\n",
    "    cnt = row[0]\n",
    "    naics = row[1]\n",
    "    co2e = row[2]/co2e_scale_factor\n",
    "    if cnt < naics_others_cutoff:\n",
    "        sankey_data.append([f\"NAICS others\", \"CO2e\", co2e])\n",
    "    else:\n",
    "        sankey_data.append([f\"NAICS {naics}\", \"CO2e\", co2e])"
   ]
  },
  {
   "cell_type": "code",
   "execution_count": null,
   "id": "f4c116ee-cad1-40c2-9d48-2747c2dbe49b",
   "metadata": {},
   "outputs": [],
   "source": [
    "df = pd.DataFrame(data=sankey_data, columns=('source', 'target', 'qty'))\n",
    "\n",
    "df['year'] = pd.to_datetime(\"2020-01-01\")\n",
    "df = df.convert_dtypes()"
   ]
  },
  {
   "cell_type": "code",
   "execution_count": null,
   "id": "a341ab86-edee-407b-987e-93e980c492af",
   "metadata": {},
   "outputs": [],
   "source": [
    "def unmanaged_parquet_tabledef(df, catalog, schema, table, bucket, partition_columns = [], verbose = False):\n",
    "    if not isinstance(df, pd.DataFrame):\n",
    "        raise ValueError(\"df must be a pandas DataFrame\")\n",
    "    if not isinstance(partition_columns, list):\n",
    "        raise ValueError(\"partition_columns must be list of column names\")\n",
    "\n",
    "    columnschema = create_table_schema_pairs(df, typemap={'datetime64[ns]':'timestamp(3)'})\n",
    "\n",
    "    tabledef = f\"create table if not exists {catalog}.{schema}.{table} (\\n\"\n",
    "    tabledef += f\"{columnschema}\\n\"\n",
    "    tabledef += \") with (\\n    format = 'parquet',\\n\"\n",
    "    if len(partition_columns) > 0:\n",
    "        tabledef += f\"    partitioned_by = array{partition_columns},\\n\"\n",
    "    tabledef += f\"    external_location = 's3a://{bucket.name}/trino/{schema}/{table}/'\\n)\"\n",
    "\n",
    "    if verbose: print(tabledef)\n",
    "    return tabledef"
   ]
  },
  {
   "cell_type": "code",
   "execution_count": null,
   "id": "af651196-b8d0-4f4b-a068-54802c02b230",
   "metadata": {},
   "outputs": [],
   "source": [
    "qres = engine.execute('show tables in ghgrp_demo')\n",
    "qres.fetchall()\n",
    "\n",
    "drop_unmanaged_table(\"osc_datacommons_dev\", \"ghgrp_demo\", \"epa_sankey\", engine, trino_bucket, verbose=True)\n",
    "\n",
    "drop_unmanaged_data(\"ghgrp_demo\", \"epa_sankey\", trino_bucket, verbose=True)\n",
    "\n",
    "ingest_unmanaged_parquet(df, \"ghgrp_demo\", \"epa_sankey\", trino_bucket, partition_columns=[],\n",
    "                         append=False, workdir='/tmp', verbose=True)\n",
    "\n",
    "sql = unmanaged_parquet_tabledef(df, \"osc_datacommons_dev\", \"ghgrp_demo\", \"epa_sankey\", trino_bucket, partition_columns = [],\n",
    "                                 verbose=True)\n",
    "qres = engine.execute(sql)\n",
    "display(qres.fetchall())\n",
    "\n",
    "qres = engine.execute(\"select * from ghgrp_demo.epa_sankey\")\n",
    "qres.fetchall()"
   ]
  },
  {
   "cell_type": "code",
   "execution_count": null,
   "id": "9e84c539-5820-4e8b-bb7b-30d83b2d82e7",
   "metadata": {},
   "outputs": [],
   "source": [
    "len(sankey_data)"
   ]
  },
  {
   "cell_type": "code",
   "execution_count": null,
   "id": "f9e793b8-6510-49cf-8650-7c145592d6e1",
   "metadata": {},
   "outputs": [],
   "source": [
    "[x for x in sankey_data if '562212' in x[1]]"
   ]
  },
  {
   "cell_type": "code",
   "execution_count": null,
   "id": "493a277d-6c5f-4146-b242-d91cd25ad1a7",
   "metadata": {},
   "outputs": [],
   "source": [
    "engine.execute(\"select count(*) from ghgrp_demo.parent_attribution PA where reporting_year=DATE('2020-01-01') and facility_naics_code='562212' and lei is null and table_source='direct_emitters'\").fetchall()"
   ]
  },
  {
   "cell_type": "code",
   "execution_count": null,
   "id": "9ca21a06-9575-4403-bde3-706f846f8d87",
   "metadata": {},
   "outputs": [],
   "source": []
  }
 ],
 "metadata": {
  "kernelspec": {
   "display_name": "Python 3",
   "language": "python",
   "name": "python3"
  },
  "language_info": {
   "codemirror_mode": {
    "name": "ipython",
    "version": 3
   },
   "file_extension": ".py",
   "mimetype": "text/x-python",
   "name": "python",
   "nbconvert_exporter": "python",
   "pygments_lexer": "ipython3",
   "version": "3.8.3"
  }
 },
 "nbformat": 4,
 "nbformat_minor": 5
}
