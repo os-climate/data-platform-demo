{
 "cells": [
  {
   "cell_type": "code",
   "execution_count": 1,
   "id": "f3930173-d987-4032-ad15-717f43242262",
   "metadata": {},
   "outputs": [],
   "source": [
    "import os\n",
    "import pathlib\n",
    "from dotenv import load_dotenv\n",
    "\n",
    "# Load some standard environment variables from a dot-env file, if it exists.\n",
    "# If no such file can be found, does not fail, and so allows these environment vars to\n",
    "# be populated in some other way\n",
    "dotenv_dir = os.environ.get('CREDENTIAL_DOTENV_DIR', os.environ.get('PWD', '/opt/app-root/src'))\n",
    "dotenv_path = pathlib.Path(dotenv_dir) / 'credentials.env'\n",
    "if os.path.exists(dotenv_path):\n",
    "    load_dotenv(dotenv_path=dotenv_path,override=True)"
   ]
  },
  {
   "cell_type": "markdown",
   "id": "240a8da7-6fff-42ee-8f0b-387b67e3cf9d",
   "metadata": {},
   "source": [
    "Set session variable CATALOG to make query terms much more compact"
   ]
  },
  {
   "cell_type": "code",
   "execution_count": 2,
   "id": "a4b2596e-6876-4ff4-bba4-73ad49391435",
   "metadata": {},
   "outputs": [],
   "source": [
    "import trino\n",
    "from sqlalchemy.engine import create_engine\n",
    "\n",
    "sqlstring = 'trino://{user}@{host}:{port}/'.format(\n",
    "    user = os.environ['TRINO_USER'],\n",
    "    host = os.environ['TRINO_HOST'],\n",
    "    port = os.environ['TRINO_PORT']\n",
    ")\n",
    "sqlargs = {\n",
    "    'auth': trino.auth.JWTAuthentication(os.environ['TRINO_PASSWD']),\n",
    "    'http_scheme': 'https',\n",
    "    'catalog': 'osc_datacommons_dev'\n",
    "}\n",
    "engine = create_engine(sqlstring, connect_args = sqlargs)\n",
    "connection = engine.connect()"
   ]
  },
  {
   "cell_type": "markdown",
   "id": "a6ee5bc9-6ec3-422e-87ad-9df7d4a09452",
   "metadata": {},
   "source": [
    "The EPA's GHG Reporting Program (GHGRP) seems to be a gold standard in terms of creating a bottoms-up list that's good enough to play a major role in tops-down estimates."
   ]
  },
  {
   "cell_type": "code",
   "execution_count": 3,
   "id": "fdf989e4-3be8-4102-a298-e296ba661f25",
   "metadata": {},
   "outputs": [
    {
     "data": {
      "text/plain": [
       "[('co2_injection',),\n",
       " ('direct_emitters',),\n",
       " ('gathering_boosting',),\n",
       " ('geologic_sequestration_of_co2',),\n",
       " ('ldc_direct_emissions',),\n",
       " ('onshore_oil_gas_prod',),\n",
       " ('parent_company',),\n",
       " ('sf6_from_elec_equip',),\n",
       " ('suppliers',),\n",
       " ('transmission_pipelines',)]"
      ]
     },
     "metadata": {},
     "output_type": "display_data"
    }
   ],
   "source": [
    "qres = engine.execute(f\"show tables in epa_ghgrp\")\n",
    "display(qres.fetchall())"
   ]
  },
  {
   "cell_type": "markdown",
   "id": "fc3d71b7-9647-42f8-9d69-fcca59150e44",
   "metadata": {},
   "source": [
    "Direct Emitters are the lion's share of CO2 emissions.  There are other activities and industries with non-trivial emissions, but nothing compares to this."
   ]
  },
  {
   "cell_type": "code",
   "execution_count": 4,
   "id": "cac9acf8-c604-4bbd-ad94-a753e2225a2e",
   "metadata": {},
   "outputs": [
    {
     "data": {
      "text/plain": [
       "[('facility_id', 'bigint', '', ''),\n",
       " ('frs_id', 'varchar', '', ''),\n",
       " ('facility_name', 'varchar', '', ''),\n",
       " ('city', 'varchar', '', ''),\n",
       " ('state', 'varchar', '', ''),\n",
       " ('zip_code', 'varchar', '', ''),\n",
       " ('address', 'varchar', '', ''),\n",
       " ('county', 'varchar', '', ''),\n",
       " ('latitude', 'double', '', ''),\n",
       " ('longitude', 'double', '', ''),\n",
       " ('primary_naics_code', 'varchar', '', ''),\n",
       " ('latest_reported_industry_type_subparts', 'varchar', '', ''),\n",
       " ('latest_reported_industry_type_sectors', 'varchar', '', ''),\n",
       " ('total_reported_direct_emissions', 'double', '', ''),\n",
       " ('year', 'timestamp(3)', '', '')]"
      ]
     },
     "metadata": {},
     "output_type": "display_data"
    }
   ],
   "source": [
    "qres = engine.execute(f\"describe epa_ghgrp.direct_emitters\")\n",
    "display(qres.fetchall())"
   ]
  },
  {
   "cell_type": "code",
   "execution_count": 5,
   "id": "28beafc4-0bc3-4ee8-8b40-79c91d953d21",
   "metadata": {},
   "outputs": [
    {
     "data": {
      "text/plain": [
       "[('2020-01-01 00:00:00.000', 2400335017.1144834),\n",
       " ('2019-01-01 00:00:00.000', 2626532098.5932565),\n",
       " ('2018-01-01 00:00:00.000', 2779470637.179425),\n",
       " ('2017-01-01 00:00:00.000', 2735840754.8973103),\n",
       " ('2016-01-01 00:00:00.000', 2805104747.5443416),\n",
       " ('2015-01-01 00:00:00.000', 2939443583.3242407),\n",
       " ('2014-01-01 00:00:00.000', 3084068793.216346),\n",
       " ('2013-01-01 00:00:00.000', 3073213896.2733335),\n",
       " ('2012-01-01 00:00:00.000', 3058075792.5988026),\n",
       " ('2011-01-01 00:00:00.000', 3207582994.0028186)]"
      ]
     },
     "metadata": {},
     "output_type": "display_data"
    }
   ],
   "source": [
    "qres = engine.execute(f\"select year, sum(total_reported_direct_emissions) from epa_ghgrp.direct_emitters group by year order by year desc\")\n",
    "display(qres.fetchall())"
   ]
  },
  {
   "cell_type": "markdown",
   "id": "f412b218-a6eb-46c1-a7a4-af045c10621e",
   "metadata": {},
   "source": [
    "Here's a look at how they stack up (from a Database perspective--we should also look at this in Super Set)."
   ]
  },
  {
   "cell_type": "code",
   "execution_count": 6,
   "id": "b016a60d-59cb-4b3e-9373-bb422b56c586",
   "metadata": {},
   "outputs": [
    {
     "data": {
      "text/plain": [
       "[(1338, 'Power Plants', 1593302651.1495945),\n",
       " (371, 'Minerals', 112044493.16399996),\n",
       " (328, 'Chemicals', 106404264.83600003),\n",
       " (1066, 'Other', 101353022.50774214),\n",
       " (1187, 'Petroleum and Natural Gas Systems', 101032012.85843231),\n",
       " (1204, 'Waste', 100624446.79977302),\n",
       " (281, 'Metals', 69494113.83299993),\n",
       " (69, 'Petroleum Product Suppliers,Refineries', 65079994.47800001),\n",
       " (41, 'Chemicals,Petroleum Product Suppliers,Refineries', 64019038.494),\n",
       " (29, 'Chemicals,Suppliers of CO2', 27435824.12000001),\n",
       " (84, 'Pulp and Paper,Waste', 24953431.80600001),\n",
       " (7, 'Power Plants,Waste', 24875284.23),\n",
       " (11, 'Chemicals,Waste', 17522490.718),\n",
       " (10, 'Other,Power Plants', 17315702.882),\n",
       " (112, 'Other,Waste', 17100924.523999985),\n",
       " (3, 'Power Plants,Suppliers of CO2', 14904814.286),\n",
       " (17, 'Metals,Waste', 14615880.466000002),\n",
       " (4, 'Chemicals,Refineries,Suppliers of CO2', 13389032.404000001),\n",
       " (132, 'Pulp and Paper', 13028976.956000002),\n",
       " (97, 'Natural Gas and Natural Gas Liquids Suppliers,Petroleum and Natural Gas Systems', 12234044.463038893),\n",
       " (6, 'Chemicals,Refineries', 10342949.756),\n",
       " (4, 'Chemicals,Petroleum Product Suppliers,Refineries,Suppliers of CO2', 8575341.728),\n",
       " (1, 'Petroleum Product Suppliers,Power Plants,Refineries', 7655594.264),\n",
       " (1, 'Metals,Minerals', 6200941.828),\n",
       " (1, 'Chemicals,Petroleum Product Suppliers,Power Plants,Refineries', 5917240.992),\n",
       " (7, 'Refineries', 5708730.38),\n",
       " (15, 'Chemicals,Industrial Gas Suppliers', 5321142.312877),\n",
       " (1, 'Metals,Power Plants', 5235337.915),\n",
       " (1, 'Chemicals,Other,Petroleum Product Suppliers,Power Plants,Refineries', 4984461.77),\n",
       " (1, 'Chemicals,Refineries,Waste', 4854785.71),\n",
       " (1, 'Injection of CO2,Other,Suppliers of CO2,Waste', 4402189.878),\n",
       " (1, 'Chemicals,Petroleum Product Suppliers,Refineries,Suppliers of CO2,Waste', 4359504.494),\n",
       " (1, 'Chemicals,Other,Petroleum and Natural Gas Systems,Waste', 4264561.496),\n",
       " (1, 'Chemicals,Petroleum Product Suppliers,Power Plants,Refineries,Suppliers of CO2', 3651715.336),\n",
       " (10, 'Injection of CO2,Petroleum and Natural Gas Systems,Suppliers of CO2', 3523098.3588699494),\n",
       " (1, 'Chemicals,Power Plants', 3307323.432),\n",
       " (1, 'Chemicals,Coal-based Liquid Fuel Supply,Suppliers of CO2', 3137752.8),\n",
       " (10, 'Minerals,Waste', 3117763.17),\n",
       " (36, 'Other,Suppliers of CO2', 2949582.2079999996),\n",
       " (2, 'Chemicals,Petroleum Product Suppliers', 2367374.276),\n",
       " (1, 'Chemicals,Petroleum Product Suppliers,Refineries,Waste', 2300332.194),\n",
       " (2, 'Petroleum and Natural Gas Systems,Power Plants', 2257257.886),\n",
       " (11, 'Other,Suppliers of CO2,Waste', 2215138.864),\n",
       " (1, 'Chemicals,Power Plants,Waste', 2171412.544),\n",
       " (1, 'Natural Gas and Natural Gas Liquids Suppliers,Petroleum and Natural Gas Systems,Power Plants', 1523196.046),\n",
       " (4, 'Pulp and Paper,Suppliers of CO2,Waste', 1397541.568),\n",
       " (1, 'Petroleum Product Suppliers,Refineries,Waste', 893339.598),\n",
       " (8, 'Petroleum and Natural Gas Systems,Suppliers of CO2', 644980.9319999999),\n",
       " (1, 'Chemicals,Petroleum and Natural Gas Systems,Refineries', 600981.028),\n",
       " (7, 'Injection of CO2,Petroleum and Natural Gas Systems', 539684.7683135256),\n",
       " (3, 'Petroleum Product Suppliers,Petroleum and Natural Gas Systems', 268020.12),\n",
       " (7, 'Import and Export of Equipment Containing Fluorintaed GHGs,Other', 259750.28000000003),\n",
       " (3, 'Natural Gas and Natural Gas Liquids Suppliers,Power Plants', 250531.664),\n",
       " (2, 'Injection of CO2,Natural Gas and Natural Gas Liquids Suppliers,Petroleum and Natural Gas Systems,Suppliers of CO2', 226418.87615038402),\n",
       " (1, 'Pulp and Paper,Suppliers of CO2', 164000.67),\n",
       " (1, 'Injection of CO2,Natural Gas and Natural Gas Liquids Suppliers,Petroleum and Natural Gas Systems', 62200.56),\n",
       " (1, 'Chemicals,Industrial Gas Suppliers,Waste', 42333.542),\n",
       " (1, 'Import and Export of Equipment Containing Fluorintaed GHGs,Industrial Gas Suppliers,Other', 38044.08),\n",
       " (1, 'Chemicals,Industrial Gas Suppliers,Minerals', 32126.480472),\n",
       " (2, 'Other,Petroleum and Natural Gas Systems', 25392.604),\n",
       " (1, 'Industrial Gas Suppliers,Other', 11388.008),\n",
       " (1, 'Natural Gas and Natural Gas Liquids Suppliers,Other', 189.2)]"
      ]
     },
     "metadata": {},
     "output_type": "display_data"
    }
   ],
   "source": [
    "qres = engine.execute(f\"\"\"select count (*), latest_reported_industry_type_sectors, sum(total_reported_direct_emissions)\n",
    "from epa_ghgrp.direct_emitters\n",
    "where year>=DATE('2019-01-01') and year<DATE('2020-01-01')\n",
    "group by latest_reported_industry_type_sectors\n",
    "order by sum(total_reported_direct_emissions) desc\n",
    "\"\"\")\n",
    "display(qres.fetchall())"
   ]
  },
  {
   "cell_type": "markdown",
   "id": "26d22206-2eef-4f73-90be-5d07556118c6",
   "metadata": {},
   "source": [
    "This looks at the `Metals` industry.  We see that the top emitters have multiple facility locations."
   ]
  },
  {
   "cell_type": "code",
   "execution_count": 7,
   "id": "3f647b46-20a7-4f94-ad3d-821947944555",
   "metadata": {},
   "outputs": [
    {
     "data": {
      "text/plain": [
       "[(12, 'HOLCIM PARTICIPATIONS (US) INC', 10775100.462000001),\n",
       " (9, 'CEMEX INC', 7837412.011999999),\n",
       " (12, 'LEHIGH HANSON INC', 7170874.248),\n",
       " (8, 'RC LONESTAR INC', 6670842.868),\n",
       " (11, 'LHOIST NORTH AMERICA INC', 6095893.518),\n",
       " (11, 'CARMEUSE LIME INC', 4957669.602),\n",
       " (9, 'GRAYMONT INC', 4145991.5659999996),\n",
       " (8, 'CRH AMERICAS INC', 4038046.516),\n",
       " (4, 'MARTIN MARIETTA MATERIALS INC', 3939577.874000001),\n",
       " (4, 'ARGOS USA LLC', 3571057.906),\n",
       " (11, 'EAGLE MATERIALS INC', 3460129.46),\n",
       " (3, 'MISSISSIPPI LIME CO', 3386972.9599999995),\n",
       " (3, 'TAIHEIYO CEMENT USA INC', 3268649.0960000004),\n",
       " (5, 'GCC OF AMERICA INC', 2311521.19),\n",
       " (2, 'TITAN AMERICA LLC', 2230059.0100000002),\n",
       " (1, 'GENESIS ENERGY LP', 1824295.1),\n",
       " (1, 'LAFARGEHOLCIM NORTH AMERICA INC', 1792093.716),\n",
       " (2, 'NATIONAL CEMENT', 1633243.352),\n",
       " (2, 'SUMMIT MATERIALS INC', 1555637.794),\n",
       " (1, 'TATA CHEMICALS (SODA ASH) PARTNERS NORTH AMERICA', 1536763.272)]"
      ]
     },
     "metadata": {},
     "output_type": "display_data"
    }
   ],
   "source": [
    "qres = engine.execute(f\"\"\"select count (*), parent_company_name, sum(total_reported_direct_emissions)\n",
    "from epa_ghgrp.direct_emitters, epa_ghgrp.parent_company\n",
    "where year>=DATE('2019-01-01') and year<DATE('2020-01-01') and year=reporting_year\n",
    "      and latest_reported_industry_type_sectors='Minerals'\n",
    "      and epa_ghgrp.direct_emitters.facility_id=epa_ghgrp.parent_company.ghgrp_facility_id\n",
    "group by parent_company_name\n",
    "order by sum(total_reported_direct_emissions) desc\n",
    "limit 20\n",
    "\"\"\")\n",
    "display(qres.fetchall())"
   ]
  },
  {
   "cell_type": "code",
   "execution_count": null,
   "id": "671258a0-d7e7-49f5-8499-23eeb454b9d8",
   "metadata": {},
   "outputs": [],
   "source": []
  },
  {
   "cell_type": "markdown",
   "id": "6e5c50d7-4caa-463b-ae12-0f32cd897862",
   "metadata": {},
   "source": [
    "A look at some other table shapes..."
   ]
  },
  {
   "cell_type": "code",
   "execution_count": 8,
   "id": "a63e214f-12d9-40e1-ad69-4d2c06b5ad3e",
   "metadata": {},
   "outputs": [
    {
     "data": {
      "text/plain": [
       "[('facility_id', 'bigint', '', ''),\n",
       " ('frs_id', 'varchar', '', ''),\n",
       " ('facility_name', 'varchar', '', ''),\n",
       " ('basin', 'varchar', '', ''),\n",
       " ('reported_city', 'varchar', '', ''),\n",
       " ('reported_state', 'varchar', '', ''),\n",
       " ('reported_zip_code', 'varchar', '', ''),\n",
       " ('reported_address', 'varchar', '', ''),\n",
       " ('reported_county', 'varchar', '', ''),\n",
       " ('reported_latitude', 'double', '', ''),\n",
       " ('reported_longitude', 'double', '', ''),\n",
       " ('primary_naics_code', 'varchar', '', ''),\n",
       " ('latest_reported_industry_type_subparts', 'varchar', '', ''),\n",
       " ('total_reported_emissions_from_onshore_oil_gas_production', 'double', '', ''),\n",
       " ('year', 'timestamp(3)', '', '')]"
      ]
     },
     "metadata": {},
     "output_type": "display_data"
    }
   ],
   "source": [
    "qres = engine.execute(f\"describe epa_ghgrp.onshore_oil_gas_prod\")\n",
    "display(qres.fetchall())"
   ]
  },
  {
   "cell_type": "code",
   "execution_count": 9,
   "id": "6827713e-298b-4d39-8483-2885803ea013",
   "metadata": {},
   "outputs": [
    {
     "data": {
      "text/plain": [
       "[('facility_id', 'bigint', '', ''),\n",
       " ('frs_id', 'varchar', '', ''),\n",
       " ('facility_name', 'varchar', '', ''),\n",
       " ('city', 'varchar', '', ''),\n",
       " ('state', 'varchar', '', ''),\n",
       " ('zip_code', 'varchar', '', ''),\n",
       " ('address', 'varchar', '', ''),\n",
       " ('county', 'varchar', '', ''),\n",
       " ('latitude', 'double', '', ''),\n",
       " ('longitude', 'double', '', ''),\n",
       " ('primary_naics_code', 'varchar', '', ''),\n",
       " ('latest_reported_industry_type_subparts', 'varchar', '', ''),\n",
       " ('coal_based_liquid_fuel_production_ghg', 'double', '', ''),\n",
       " ('petroleum_products_produced_ghg', 'double', '', ''),\n",
       " ('petroleum_products_imported_ghg', 'double', '', ''),\n",
       " ('petroleum_products_exported_ghg', 'double', '', ''),\n",
       " ('natural_gas_supply_ghg', 'double', '', ''),\n",
       " ('natural_gas_liquids_supply_ghg', 'double', '', ''),\n",
       " ('co2_supply_ghg', 'double', '', ''),\n",
       " ('year', 'timestamp(3)', '', '')]"
      ]
     },
     "metadata": {},
     "output_type": "display_data"
    }
   ],
   "source": [
    "qres = engine.execute(f\"describe epa_ghgrp.suppliers\")\n",
    "display(qres.fetchall())"
   ]
  },
  {
   "cell_type": "markdown",
   "id": "d55668ba-edde-4070-962a-53da099a4c07",
   "metadata": {},
   "source": [
    "A quick summary of how many rows of data we have in `epa_ghgrp`.\n",
    "\n",
    "68k rows in `direct_emitters`: lots of facilities  \n",
    "103k rows in `parent_company`: lots of facility/owner relationships"
   ]
  },
  {
   "cell_type": "code",
   "execution_count": 10,
   "id": "6a5d3029-7379-47e2-9b50-6f49db7b88e6",
   "metadata": {},
   "outputs": [
    {
     "name": "stdout",
     "output_type": "stream",
     "text": [
      "select count (*) from osc_datacommons_dev.epa_ghgrp.co2_injection\n",
      "954\n",
      "select count (*) from osc_datacommons_dev.epa_ghgrp.direct_emitters\n",
      "68472\n",
      "select count (*) from osc_datacommons_dev.epa_ghgrp.gathering_boosting\n",
      "1703\n",
      "select count (*) from osc_datacommons_dev.epa_ghgrp.geologic_sequestration_of_co2\n",
      "20\n",
      "select count (*) from osc_datacommons_dev.epa_ghgrp.ldc_direct_emissions\n",
      "1730\n",
      "select count (*) from osc_datacommons_dev.epa_ghgrp.onshore_oil_gas_prod\n",
      "5068\n",
      "select count (*) from osc_datacommons_dev.epa_ghgrp.parent_company\n",
      "103043\n",
      "select count (*) from osc_datacommons_dev.epa_ghgrp.sf6_from_elec_equip\n",
      "1012\n",
      "select count (*) from osc_datacommons_dev.epa_ghgrp.suppliers\n",
      "8539\n",
      "select count (*) from osc_datacommons_dev.epa_ghgrp.transmission_pipelines\n",
      "780\n",
      "total rows = 191321\n"
     ]
    }
   ],
   "source": [
    "qres = engine.execute('show tables in osc_datacommons_dev.epa_ghgrp')\n",
    "l = qres.fetchall()\n",
    "totalrows = 0\n",
    "for e in l:\n",
    "    s = f'select count (*) from osc_datacommons_dev.epa_ghgrp.{e[0]}'\n",
    "    print(s)\n",
    "    qres = engine.execute(s)\n",
    "    rowcount = qres.fetchall()[0][0]\n",
    "    totalrows += rowcount\n",
    "    print(rowcount)\n",
    "    \n",
    "print(f'total rows = {totalrows}')"
   ]
  },
  {
   "cell_type": "markdown",
   "id": "cfac04f0-ac46-492a-9fcd-867aa64f37e7",
   "metadata": {},
   "source": [
    "We have very specifically shaped tables, which is needed to prepare this presetnation in Pandas.\n",
    "\n",
    "The key metric is total_emissions (in metric tons of CO2e), but the name of the metric depends on the source/process.  Nevertheless, we know that `year` is our last metric and that the CO2e metric is 2nd-to-last (hence the `-2` index).\n",
    "\n",
    "We also know that when building our final summary table, the sums feeding into it are all only one row per year.  We use `iat[0,1` to access the 0th row and the 1st column (which will be named specifically to the source/process).  By using `iat`, we get a scalar value we can sum, instead of a Series object we'd have to `squeeze`."
   ]
  },
  {
   "cell_type": "code",
   "execution_count": 11,
   "id": "193ec149-a1d2-49fa-9125-25f6d3be764e",
   "metadata": {},
   "outputs": [],
   "source": [
    "import pandas as pd\n",
    "\n",
    "emission_tables = ['direct_emitters', 'onshore_oil_gas_prod', 'gathering_boosting', 'transmission_pipelines', 'ldc_direct_emissions', 'sf6_from_elec_equip']\n",
    "q_dict = {}\n",
    "\n",
    "# A function that excludes terms using SQL to say \"and X!=Y\"\n",
    "def excl_text(excl):\n",
    "    return ' and '.join([f\"latest_reported_industry_type_sectors!='{e}'\" for e in excl])\n",
    "\n",
    "# A function that includes text that matches; SQL that says \"or X like '%Y%'\"\n",
    "def incl_text(excl):\n",
    "    return ' or '.join([f\"latest_reported_industry_type_sectors like '%{e}%'\" for e in excl])\n",
    "\n",
    "t = 'direct_emitters'\n",
    "qres = engine.execute(f\"describe epa_ghgrp.{t}\")\n",
    "t_cols = qres.fetchall()\n",
    "total_emission_cname = t_cols[-2][0]\n",
    "\n",
    "incl = [ 'Power', 'Petroleum']\n",
    "qres = engine.execute(f\"\"\"\n",
    "select year, sum({total_emission_cname}) from epa_ghgrp.{t}\n",
    "where {incl_text(incl)}\n",
    "group by year\n",
    "\"\"\")\n",
    "q_dict[t + f\" (incl {','.join(incl)})\"] = pd.DataFrame(qres.fetchall(), columns=['year', total_emission_cname + f\" (matching {','.join(incl)})\"])\n",
    "\n",
    "excl = [ 'Minerals', 'Other', 'Waste', 'Chemicals', 'Pulp and Paper,Waste', 'Metals,Waste', 'Pulp and Paper']\n",
    "qres = engine.execute(f\"\"\"\n",
    "select year, sum({total_emission_cname}) from epa_ghgrp.{t}\n",
    "where {excl_text(excl)}\n",
    "group by year\n",
    "\"\"\")\n",
    "q_dict[t + f\" (excl {','.join(excl)})\"] = pd.DataFrame(qres.fetchall(), columns=['year', total_emission_cname + f\" (excl {','.join(excl)})\"])\n",
    "\n",
    "for t in emission_tables:\n",
    "    qres = engine.execute(f\"describe epa_ghgrp.{t}\")\n",
    "    tr = qres.fetchall()\n",
    "    total_emission_cname = tr[-2][0]\n",
    "    qres = engine.execute(f\"select year, sum({total_emission_cname}) from epa_ghgrp.{t} group by year\")\n",
    "    q_dict[t] = pd.DataFrame(qres.fetchall(), columns=['year', total_emission_cname])\n",
    "\n",
    "grand_total = {}\n",
    "\n",
    "for year in q_dict['direct_emitters'].year:\n",
    "    grand_total[year] = sum([q_dict[t][q_dict[t].year==year].iat[0,1] for t in emission_tables if year in q_dict[t].year.values])\n",
    "\n",
    "df = pd.DataFrame.from_dict(grand_total, orient='index', columns=['total_co2e']).reset_index()\n",
    "df.rename(columns={'index':'year'}, inplace=True)\n",
    "q_dict['grand_total'] = df"
   ]
  },
  {
   "cell_type": "markdown",
   "id": "b775bc69-9788-4c29-af4c-4ac86a6a9528",
   "metadata": {},
   "source": [
    "This gem comes from https://stackoverflow.com/questions/44327999/python-pandas-merge-multiple-dataframes"
   ]
  },
  {
   "cell_type": "code",
   "execution_count": 12,
   "id": "20de814b-a94b-4c9f-aec1-c032f97d545e",
   "metadata": {},
   "outputs": [],
   "source": [
    "from functools import reduce\n",
    "\n",
    "df_merged = reduce(lambda left,right: pd.merge(left,right,on=['year'], how='outer'), q_dict.values()).fillna(0)"
   ]
  },
  {
   "cell_type": "markdown",
   "id": "e9fa55d5-1fa1-48b0-8bb6-d59201619d3e",
   "metadata": {},
   "source": [
    "A summary table showing (1) direct emitters that match \"Power\" or \"Petroleum\", (2) direct emitters that are not the top other industrie, and then (3..N): the totals from the GHGRP."
   ]
  },
  {
   "cell_type": "code",
   "execution_count": 13,
   "id": "16b2e44a-1e17-4b69-be21-19b797e0896f",
   "metadata": {},
   "outputs": [
    {
     "data": {
      "text/html": [
       "<div>\n",
       "<style scoped>\n",
       "    .dataframe tbody tr th:only-of-type {\n",
       "        vertical-align: middle;\n",
       "    }\n",
       "\n",
       "    .dataframe tbody tr th {\n",
       "        vertical-align: top;\n",
       "    }\n",
       "\n",
       "    .dataframe thead th {\n",
       "        text-align: right;\n",
       "    }\n",
       "</style>\n",
       "<table border=\"1\" class=\"dataframe\">\n",
       "  <thead>\n",
       "    <tr style=\"text-align: right;\">\n",
       "      <th></th>\n",
       "      <th>year</th>\n",
       "      <th>total reported direct emissions (matching Power,Petroleum)</th>\n",
       "      <th>total reported direct emissions (excl Minerals,Other,Waste,Chemicals,Pulp and Paper,Waste,Metals,Waste,Pulp and Paper)</th>\n",
       "      <th>total reported direct emissions</th>\n",
       "      <th>total reported emissions from onshore oil gas production</th>\n",
       "      <th>total reported emissions from gathering boosting</th>\n",
       "      <th>total reported direct emissions from transmission pipelines</th>\n",
       "      <th>total reported direct emissions from local dist companies</th>\n",
       "      <th>total reported direct emissions from electrical equipment use</th>\n",
       "      <th>total co2e</th>\n",
       "    </tr>\n",
       "  </thead>\n",
       "  <tbody>\n",
       "    <tr>\n",
       "      <th>4</th>\n",
       "      <td>2020-01-01 00:00:00.000</td>\n",
       "      <td>1.768353e+09</td>\n",
       "      <td>1.947463e+09</td>\n",
       "      <td>2.400335e+09</td>\n",
       "      <td>9.348811e+07</td>\n",
       "      <td>9.002867e+07</td>\n",
       "      <td>3.497590e+06</td>\n",
       "      <td>1.264110e+07</td>\n",
       "      <td>2.004836e+06</td>\n",
       "      <td>2.601995e+09</td>\n",
       "    </tr>\n",
       "    <tr>\n",
       "      <th>3</th>\n",
       "      <td>2019-01-01 00:00:00.000</td>\n",
       "      <td>1.958369e+09</td>\n",
       "      <td>2.153508e+09</td>\n",
       "      <td>2.626532e+09</td>\n",
       "      <td>1.201743e+08</td>\n",
       "      <td>9.276566e+07</td>\n",
       "      <td>2.859475e+06</td>\n",
       "      <td>1.284702e+07</td>\n",
       "      <td>2.510832e+06</td>\n",
       "      <td>2.857689e+09</td>\n",
       "    </tr>\n",
       "    <tr>\n",
       "      <th>2</th>\n",
       "      <td>2018-01-01 00:00:00.000</td>\n",
       "      <td>2.099221e+09</td>\n",
       "      <td>2.304343e+09</td>\n",
       "      <td>2.779471e+09</td>\n",
       "      <td>1.119588e+08</td>\n",
       "      <td>8.332560e+07</td>\n",
       "      <td>3.050315e+06</td>\n",
       "      <td>1.323626e+07</td>\n",
       "      <td>2.270228e+06</td>\n",
       "      <td>2.993312e+09</td>\n",
       "    </tr>\n",
       "    <tr>\n",
       "      <th>6</th>\n",
       "      <td>2017-01-01 00:00:00.000</td>\n",
       "      <td>2.070082e+09</td>\n",
       "      <td>2.270354e+09</td>\n",
       "      <td>2.735841e+09</td>\n",
       "      <td>9.624146e+07</td>\n",
       "      <td>7.783058e+07</td>\n",
       "      <td>2.699047e+06</td>\n",
       "      <td>1.367043e+07</td>\n",
       "      <td>2.555766e+06</td>\n",
       "      <td>2.928838e+09</td>\n",
       "    </tr>\n",
       "    <tr>\n",
       "      <th>0</th>\n",
       "      <td>2016-01-01 00:00:00.000</td>\n",
       "      <td>2.144348e+09</td>\n",
       "      <td>2.337524e+09</td>\n",
       "      <td>2.805105e+09</td>\n",
       "      <td>8.689825e+07</td>\n",
       "      <td>8.259701e+07</td>\n",
       "      <td>3.183982e+06</td>\n",
       "      <td>1.400229e+07</td>\n",
       "      <td>2.930497e+06</td>\n",
       "      <td>2.994717e+09</td>\n",
       "    </tr>\n",
       "    <tr>\n",
       "      <th>1</th>\n",
       "      <td>2015-01-01 00:00:00.000</td>\n",
       "      <td>2.261725e+09</td>\n",
       "      <td>2.452045e+09</td>\n",
       "      <td>2.939444e+09</td>\n",
       "      <td>1.017485e+08</td>\n",
       "      <td>0.000000e+00</td>\n",
       "      <td>0.000000e+00</td>\n",
       "      <td>1.455831e+07</td>\n",
       "      <td>2.472281e+06</td>\n",
       "      <td>3.058223e+09</td>\n",
       "    </tr>\n",
       "    <tr>\n",
       "      <th>7</th>\n",
       "      <td>2014-01-01 00:00:00.000</td>\n",
       "      <td>2.392070e+09</td>\n",
       "      <td>2.592859e+09</td>\n",
       "      <td>3.084069e+09</td>\n",
       "      <td>1.019517e+08</td>\n",
       "      <td>0.000000e+00</td>\n",
       "      <td>0.000000e+00</td>\n",
       "      <td>1.477185e+07</td>\n",
       "      <td>3.220287e+06</td>\n",
       "      <td>3.204013e+09</td>\n",
       "    </tr>\n",
       "    <tr>\n",
       "      <th>9</th>\n",
       "      <td>2013-01-01 00:00:00.000</td>\n",
       "      <td>2.392082e+09</td>\n",
       "      <td>2.593335e+09</td>\n",
       "      <td>3.073214e+09</td>\n",
       "      <td>9.795946e+07</td>\n",
       "      <td>0.000000e+00</td>\n",
       "      <td>0.000000e+00</td>\n",
       "      <td>1.516147e+07</td>\n",
       "      <td>3.258298e+06</td>\n",
       "      <td>3.189593e+09</td>\n",
       "    </tr>\n",
       "    <tr>\n",
       "      <th>5</th>\n",
       "      <td>2012-01-01 00:00:00.000</td>\n",
       "      <td>2.376107e+09</td>\n",
       "      <td>2.579361e+09</td>\n",
       "      <td>3.058076e+09</td>\n",
       "      <td>9.253966e+07</td>\n",
       "      <td>0.000000e+00</td>\n",
       "      <td>0.000000e+00</td>\n",
       "      <td>1.541235e+07</td>\n",
       "      <td>3.236291e+06</td>\n",
       "      <td>3.169264e+09</td>\n",
       "    </tr>\n",
       "    <tr>\n",
       "      <th>8</th>\n",
       "      <td>2011-01-01 00:00:00.000</td>\n",
       "      <td>2.509918e+09</td>\n",
       "      <td>2.728839e+09</td>\n",
       "      <td>3.207583e+09</td>\n",
       "      <td>9.119057e+07</td>\n",
       "      <td>0.000000e+00</td>\n",
       "      <td>0.000000e+00</td>\n",
       "      <td>1.566794e+07</td>\n",
       "      <td>3.920547e+06</td>\n",
       "      <td>3.318362e+09</td>\n",
       "    </tr>\n",
       "  </tbody>\n",
       "</table>\n",
       "</div>"
      ],
      "text/plain": [
       "                      year  \\\n",
       "4  2020-01-01 00:00:00.000   \n",
       "3  2019-01-01 00:00:00.000   \n",
       "2  2018-01-01 00:00:00.000   \n",
       "6  2017-01-01 00:00:00.000   \n",
       "0  2016-01-01 00:00:00.000   \n",
       "1  2015-01-01 00:00:00.000   \n",
       "7  2014-01-01 00:00:00.000   \n",
       "9  2013-01-01 00:00:00.000   \n",
       "5  2012-01-01 00:00:00.000   \n",
       "8  2011-01-01 00:00:00.000   \n",
       "\n",
       "   total reported direct emissions (matching Power,Petroleum)  \\\n",
       "4                                       1.768353e+09            \n",
       "3                                       1.958369e+09            \n",
       "2                                       2.099221e+09            \n",
       "6                                       2.070082e+09            \n",
       "0                                       2.144348e+09            \n",
       "1                                       2.261725e+09            \n",
       "7                                       2.392070e+09            \n",
       "9                                       2.392082e+09            \n",
       "5                                       2.376107e+09            \n",
       "8                                       2.509918e+09            \n",
       "\n",
       "   total reported direct emissions (excl Minerals,Other,Waste,Chemicals,Pulp and Paper,Waste,Metals,Waste,Pulp and Paper)  \\\n",
       "4                                       1.947463e+09                                                                        \n",
       "3                                       2.153508e+09                                                                        \n",
       "2                                       2.304343e+09                                                                        \n",
       "6                                       2.270354e+09                                                                        \n",
       "0                                       2.337524e+09                                                                        \n",
       "1                                       2.452045e+09                                                                        \n",
       "7                                       2.592859e+09                                                                        \n",
       "9                                       2.593335e+09                                                                        \n",
       "5                                       2.579361e+09                                                                        \n",
       "8                                       2.728839e+09                                                                        \n",
       "\n",
       "   total reported direct emissions  \\\n",
       "4                     2.400335e+09   \n",
       "3                     2.626532e+09   \n",
       "2                     2.779471e+09   \n",
       "6                     2.735841e+09   \n",
       "0                     2.805105e+09   \n",
       "1                     2.939444e+09   \n",
       "7                     3.084069e+09   \n",
       "9                     3.073214e+09   \n",
       "5                     3.058076e+09   \n",
       "8                     3.207583e+09   \n",
       "\n",
       "   total reported emissions from onshore oil gas production  \\\n",
       "4                                       9.348811e+07          \n",
       "3                                       1.201743e+08          \n",
       "2                                       1.119588e+08          \n",
       "6                                       9.624146e+07          \n",
       "0                                       8.689825e+07          \n",
       "1                                       1.017485e+08          \n",
       "7                                       1.019517e+08          \n",
       "9                                       9.795946e+07          \n",
       "5                                       9.253966e+07          \n",
       "8                                       9.119057e+07          \n",
       "\n",
       "   total reported emissions from gathering boosting  \\\n",
       "4                                      9.002867e+07   \n",
       "3                                      9.276566e+07   \n",
       "2                                      8.332560e+07   \n",
       "6                                      7.783058e+07   \n",
       "0                                      8.259701e+07   \n",
       "1                                      0.000000e+00   \n",
       "7                                      0.000000e+00   \n",
       "9                                      0.000000e+00   \n",
       "5                                      0.000000e+00   \n",
       "8                                      0.000000e+00   \n",
       "\n",
       "   total reported direct emissions from transmission pipelines  \\\n",
       "4                                       3.497590e+06             \n",
       "3                                       2.859475e+06             \n",
       "2                                       3.050315e+06             \n",
       "6                                       2.699047e+06             \n",
       "0                                       3.183982e+06             \n",
       "1                                       0.000000e+00             \n",
       "7                                       0.000000e+00             \n",
       "9                                       0.000000e+00             \n",
       "5                                       0.000000e+00             \n",
       "8                                       0.000000e+00             \n",
       "\n",
       "   total reported direct emissions from local dist companies  \\\n",
       "4                                       1.264110e+07           \n",
       "3                                       1.284702e+07           \n",
       "2                                       1.323626e+07           \n",
       "6                                       1.367043e+07           \n",
       "0                                       1.400229e+07           \n",
       "1                                       1.455831e+07           \n",
       "7                                       1.477185e+07           \n",
       "9                                       1.516147e+07           \n",
       "5                                       1.541235e+07           \n",
       "8                                       1.566794e+07           \n",
       "\n",
       "   total reported direct emissions from electrical equipment use    total co2e  \n",
       "4                                       2.004836e+06              2.601995e+09  \n",
       "3                                       2.510832e+06              2.857689e+09  \n",
       "2                                       2.270228e+06              2.993312e+09  \n",
       "6                                       2.555766e+06              2.928838e+09  \n",
       "0                                       2.930497e+06              2.994717e+09  \n",
       "1                                       2.472281e+06              3.058223e+09  \n",
       "7                                       3.220287e+06              3.204013e+09  \n",
       "9                                       3.258298e+06              3.189593e+09  \n",
       "5                                       3.236291e+06              3.169264e+09  \n",
       "8                                       3.920547e+06              3.318362e+09  "
      ]
     },
     "execution_count": 13,
     "metadata": {},
     "output_type": "execute_result"
    }
   ],
   "source": [
    "df_merged.rename(columns={v:v.replace('_', ' ') for v in df_merged.columns.values}).sort_values(by='year', ascending=False)"
   ]
  },
  {
   "cell_type": "markdown",
   "id": "1a654764-e8eb-4baf-ad76-9b45169d016e",
   "metadata": {},
   "source": [
    "Cross-check with ESSD tops-down dataset"
   ]
  },
  {
   "cell_type": "code",
   "execution_count": 14,
   "id": "d12fc52f-8072-494e-9244-dea81f4fd0b7",
   "metadata": {},
   "outputs": [
    {
     "data": {
      "text/plain": [
       "[('iso', 'varchar', '', ''),\n",
       " ('country', 'varchar', '', ''),\n",
       " ('region_ar6_6', 'varchar', '', ''),\n",
       " ('region_ar6_10', 'varchar', '', ''),\n",
       " ('region_ar6_22', 'varchar', '', ''),\n",
       " ('region_ar6_dev', 'varchar', '', ''),\n",
       " ('sector_title', 'varchar', '', ''),\n",
       " ('subsector_title', 'varchar', '', ''),\n",
       " ('gas', 'varchar', '', ''),\n",
       " ('gwp100_ar5', 'integer', '', ''),\n",
       " ('value', 'double', '', ''),\n",
       " ('year', 'timestamp(3)', '', '')]"
      ]
     },
     "execution_count": 14,
     "metadata": {},
     "output_type": "execute_result"
    }
   ],
   "source": [
    "qres = engine.execute('describe essd.ghg_data')\n",
    "qres.fetchall()"
   ]
  },
  {
   "cell_type": "markdown",
   "id": "d629c242-cb58-45fa-a480-943e64f24594",
   "metadata": {},
   "source": [
    "A quick look at *just* CO2.  We'll look at CO2e in the next set of cells."
   ]
  },
  {
   "cell_type": "code",
   "execution_count": 15,
   "id": "5070bb4f-f419-4163-b45f-4b2bdde15c7e",
   "metadata": {},
   "outputs": [
    {
     "data": {
      "text/plain": [
       "[('2020-01-01 00:00:00.000', 1751743410.33274, 'CO2'),\n",
       " ('2019-01-01 00:00:00.000', 1987569148.7149098, 'CO2'),\n",
       " ('2018-01-01 00:00:00.000', 2130195623.42906, 'CO2'),\n",
       " ('2017-01-01 00:00:00.000', 2106892474.32796, 'CO2'),\n",
       " ('2016-01-01 00:00:00.000', 2180627611.48211, 'CO2'),\n",
       " ('2015-01-01 00:00:00.000', 2275835961.04433, 'CO2'),\n",
       " ('2014-01-01 00:00:00.000', 2411676648.3933206, 'CO2'),\n",
       " ('2013-01-01 00:00:00.000', 2410360932.0616, 'CO2'),\n",
       " ('2012-01-01 00:00:00.000', 2390450900.39202, 'CO2'),\n",
       " ('2011-01-01 00:00:00.000', 2514780563.17824, 'CO2')]"
      ]
     },
     "execution_count": 15,
     "metadata": {},
     "output_type": "execute_result"
    }
   ],
   "source": [
    "qres = engine.execute(\"select year, sum(value), gas from essd.ghg_data where sector_title='Energy systems' and gas='CO2' and year>DATE('2010-01-01') and ISO='USA' group by year, gas order by year desc\")\n",
    "qres.fetchall()"
   ]
  },
  {
   "cell_type": "code",
   "execution_count": 16,
   "id": "ede8810a-a4e6-4889-8330-ed3f1e090e2f",
   "metadata": {},
   "outputs": [
    {
     "data": {
      "text/plain": [
       "[('iso', 'varchar', '', ''),\n",
       " ('country', 'varchar', '', ''),\n",
       " ('region_ar6_6', 'varchar', '', ''),\n",
       " ('region_ar6_10', 'varchar', '', ''),\n",
       " ('region_ar6_22', 'varchar', '', ''),\n",
       " ('region_ar6_dev', 'varchar', '', ''),\n",
       " ('sector_title', 'varchar', '', ''),\n",
       " ('subsector_title', 'varchar', '', ''),\n",
       " ('co2', 'double', '', ''),\n",
       " ('ch4', 'double', '', ''),\n",
       " ('n2o', 'double', '', ''),\n",
       " ('fgas', 'double', '', ''),\n",
       " ('ghg', 'double', '', ''),\n",
       " ('year', 'timestamp(3)', '', '')]"
      ]
     },
     "execution_count": 16,
     "metadata": {},
     "output_type": "execute_result"
    }
   ],
   "source": [
    "qres = engine.execute('describe essd.gwp100_data')\n",
    "qres.fetchall()"
   ]
  },
  {
   "cell_type": "markdown",
   "id": "80d50525-a408-4a60-baa1-300b74a90597",
   "metadata": {},
   "source": [
    "A look at CO2e (presuming that's what GHG gives us from the GWP100 table)."
   ]
  },
  {
   "cell_type": "code",
   "execution_count": 17,
   "id": "dc81d08f-8b5e-43b9-8e5f-a9a9b59b7ddc",
   "metadata": {},
   "outputs": [
    {
     "data": {
      "text/plain": [
       "[('2020-01-01 00:00:00.000', 1751743410.33274),\n",
       " ('2019-01-01 00:00:00.000', 2349291999.2192674),\n",
       " ('2018-01-01 00:00:00.000', 2477543798.400163),\n",
       " ('2017-01-01 00:00:00.000', 2451547006.5038967),\n",
       " ('2016-01-01 00:00:00.000', 2514167924.00994),\n",
       " ('2015-01-01 00:00:00.000', 2634213163.051593),\n",
       " ('2014-01-01 00:00:00.000', 2784719011.4105005),\n",
       " ('2013-01-01 00:00:00.000', 2779046573.6036997),\n",
       " ('2012-01-01 00:00:00.000', 2759253824.43615),\n",
       " ('2011-01-01 00:00:00.000', 2890949806.5313897)]"
      ]
     },
     "execution_count": 17,
     "metadata": {},
     "output_type": "execute_result"
    }
   ],
   "source": [
    "qres = engine.execute(\"select year, sum(GHG) from essd.gwp100_data where sector_title='Energy systems' and year>DATE('2010-01-01') and ISO='USA' group by year order by year desc\")\n",
    "qres.fetchall()"
   ]
  },
  {
   "cell_type": "code",
   "execution_count": 18,
   "id": "d8c935b0-78ae-463e-8ed8-c233541f7d2d",
   "metadata": {},
   "outputs": [
    {
     "data": {
      "text/plain": [
       "[('geo_id', 'varchar', '', ''),\n",
       " ('name', 'varchar', '', ''),\n",
       " ('geo_id_f', 'varchar', '', ''),\n",
       " ('naics2012', 'varchar', '', ''),\n",
       " ('naics2012_f', 'varchar', '', ''),\n",
       " ('naics2012_label', 'varchar', '', ''),\n",
       " ('year', 'varchar', '', ''),\n",
       " ('estab', 'varchar', '', ''),\n",
       " ('rcptot', 'varchar', '', ''),\n",
       " ('payann', 'varchar', '', ''),\n",
       " ('emp', 'varchar', '', '')]"
      ]
     },
     "metadata": {},
     "output_type": "display_data"
    },
    {
     "data": {
      "text/plain": [
       "[('0100000US', 'United States', None, '221112', None, 'Fossil fuel electric power generation', '2012', '1416', '81473633', '7997908', '82071'),\n",
       " ('0100000US', 'United States', None, '221112', None, 'Fossil fuel electric power generation', '2017', '1711', '75455040', '8192622', '76058')]"
      ]
     },
     "metadata": {},
     "output_type": "display_data"
    }
   ],
   "source": [
    "qres = engine.execute(\"describe us_census.all_sector_survey_2017\")\n",
    "display(qres.fetchall())\n",
    "qres = engine.execute(\"select * from us_census.all_sector_survey_2017 where naics2012='221112'\")\n",
    "display(qres.fetchall())\n"
   ]
  },
  {
   "cell_type": "markdown",
   "id": "3f4584df-8e81-4f43-a406-9f1a19265051",
   "metadata": {},
   "source": [
    "Exercise the connection to NAICS and sector information provided by US Department of Commerce (US_CENSUS)"
   ]
  },
  {
   "cell_type": "code",
   "execution_count": 19,
   "id": "72e985b2-beaf-4613-a558-3858ebb91f3e",
   "metadata": {},
   "outputs": [
    {
     "data": {
      "text/plain": [
       "[(1483, '2012-01-01 00:00:00.000', '221112', 'Fossil fuel electric power generation'),\n",
       " (1467, '2011-01-01 00:00:00.000', '221112', 'Fossil fuel electric power generation'),\n",
       " (1454, '2013-01-01 00:00:00.000', '221112', 'Fossil fuel electric power generation'),\n",
       " (1425, '2014-01-01 00:00:00.000', '221112', 'Fossil fuel electric power generation'),\n",
       " (1368, '2015-01-01 00:00:00.000', '221112', 'Fossil fuel electric power generation'),\n",
       " (1304, '2016-01-01 00:00:00.000', '221112', 'Fossil fuel electric power generation'),\n",
       " (1294, '2018-01-01 00:00:00.000', '221112', 'Fossil fuel electric power generation'),\n",
       " (1281, '2017-01-01 00:00:00.000', '221112', 'Fossil fuel electric power generation'),\n",
       " (1274, '2019-01-01 00:00:00.000', '221112', 'Fossil fuel electric power generation'),\n",
       " (1247, '2012-01-01 00:00:00.000', '562212', 'Solid waste landfill'),\n",
       " (1244, '2020-01-01 00:00:00.000', '221112', 'Fossil fuel electric power generation'),\n",
       " (1235, '2011-01-01 00:00:00.000', '562212', 'Solid waste landfill'),\n",
       " (1235, '2013-01-01 00:00:00.000', '562212', 'Solid waste landfill'),\n",
       " (1233, '2014-01-01 00:00:00.000', '562212', 'Solid waste landfill'),\n",
       " (1163, '2015-01-01 00:00:00.000', '562212', 'Solid waste landfill'),\n",
       " (1140, '2016-01-01 00:00:00.000', '562212', 'Solid waste landfill'),\n",
       " (1134, '2017-01-01 00:00:00.000', '562212', 'Solid waste landfill'),\n",
       " (1131, '2018-01-01 00:00:00.000', '562212', 'Solid waste landfill'),\n",
       " (1118, '2019-01-01 00:00:00.000', '562212', 'Solid waste landfill'),\n",
       " (1116, '2020-01-01 00:00:00.000', '562212', 'Solid waste landfill')]"
      ]
     },
     "metadata": {},
     "output_type": "display_data"
    }
   ],
   "source": [
    "# qres = engine.execute(\"select count (*), epa_ghgrp.direct_emitters.year, primary_naics_code from epa_ghgrp.direct_emitters where primary_naics_code='221112' group by epa_ghgrp.direct_emitters.year, primary_naics_code order by count (*) desc limit 20\")\n",
    "# display(qres.fetchall())\n",
    "\n",
    "qres = engine.execute(f\"\"\"\n",
    "select count (*), epa_ghgrp.direct_emitters.year, primary_naics_code, naics2012_label\n",
    "from epa_ghgrp.direct_emitters, us_census.all_sector_survey_2017\n",
    "where primary_naics_code=naics2012 and us_census.all_sector_survey_2017.year='2017'\n",
    "group by epa_ghgrp.direct_emitters.year, primary_naics_code, naics2012_label order by count (*) desc limit 20\n",
    "\"\"\")\n",
    "display(qres.fetchall())"
   ]
  },
  {
   "cell_type": "markdown",
   "id": "2768ee88-f911-4891-b1f1-59bd8861f8b8",
   "metadata": {},
   "source": [
    "See how many `PARENT_COMPANY` records have LEIs we know.  Note that there are about 5x facilities for each known LEI.  There are fewer average facilities for parent copmanies with unknown LEIs."
   ]
  },
  {
   "cell_type": "code",
   "execution_count": 20,
   "id": "52ce751f-a7d5-45cc-b8e7-b4129bf80099",
   "metadata": {},
   "outputs": [
    {
     "data": {
      "text/plain": [
       "[(1542, '2020-01-01 00:00:00.000'),\n",
       " (1559, '2019-01-01 00:00:00.000'),\n",
       " (1626, '2018-01-01 00:00:00.000'),\n",
       " (1562, '2017-01-01 00:00:00.000'),\n",
       " (1560, '2016-01-01 00:00:00.000'),\n",
       " (1541, '2015-01-01 00:00:00.000'),\n",
       " (1712, '2014-01-01 00:00:00.000'),\n",
       " (1695, '2013-01-01 00:00:00.000'),\n",
       " (1657, '2012-01-01 00:00:00.000'),\n",
       " (1578, '2011-01-01 00:00:00.000'),\n",
       " (1309, '2010-01-01 00:00:00.000')]"
      ]
     },
     "execution_count": 20,
     "metadata": {},
     "output_type": "execute_result"
    }
   ],
   "source": [
    "qres = engine.execute(f\"select count (*), reporting_year from (select lei, reporting_year from epa_ghgrp.parent_company where LEI is not null group by lei, reporting_year) group by reporting_year order by reporting_year desc\")\n",
    "qres.fetchall()"
   ]
  },
  {
   "cell_type": "code",
   "execution_count": 21,
   "id": "c359da00-344c-4c95-a770-edd2a905a6c5",
   "metadata": {},
   "outputs": [
    {
     "data": {
      "text/plain": [
       "[('adsh', 'varchar', '', ''),\n",
       " ('cik', 'integer', '', ''),\n",
       " ('name', 'varchar', '', ''),\n",
       " ('lei', 'varchar', '', ''),\n",
       " ('sic', 'integer', '', ''),\n",
       " ('countryba', 'varchar', '', ''),\n",
       " ('stprba', 'varchar', '', ''),\n",
       " ('cityba', 'varchar', '', ''),\n",
       " ('zipba', 'varchar', '', ''),\n",
       " ('bas1', 'varchar', '', ''),\n",
       " ('bas2', 'varchar', '', ''),\n",
       " ('baph', 'varchar', '', ''),\n",
       " ('countryma', 'varchar', '', ''),\n",
       " ('stprma', 'varchar', '', ''),\n",
       " ('cityma', 'varchar', '', ''),\n",
       " ('zipma', 'varchar', '', ''),\n",
       " ('mas1', 'varchar', '', ''),\n",
       " ('mas2', 'varchar', '', ''),\n",
       " ('countryinc', 'varchar', '', ''),\n",
       " ('stprinc', 'varchar', '', ''),\n",
       " ('ein', 'bigint', '', ''),\n",
       " ('former', 'varchar', '', ''),\n",
       " ('changed', 'varchar', '', ''),\n",
       " ('afs', 'varchar', '', ''),\n",
       " ('wksi', 'boolean', '', ''),\n",
       " ('fye', 'varchar', '', ''),\n",
       " ('form', 'varchar', '', ''),\n",
       " ('period', 'timestamp(3)', '', ''),\n",
       " ('fy', 'timestamp(3)', '', ''),\n",
       " ('fp', 'varchar', '', ''),\n",
       " ('filed', 'timestamp(3)', '', ''),\n",
       " ('accepted', 'timestamp(3)', '', ''),\n",
       " ('prevrpt', 'boolean', '', ''),\n",
       " ('detail', 'boolean', '', ''),\n",
       " ('instance', 'varchar', '', ''),\n",
       " ('nciks', 'integer', '', ''),\n",
       " ('aciks', 'varchar', '', ''),\n",
       " ('uuid', 'varchar', '', ''),\n",
       " ('quarter', 'varchar', '', '')]"
      ]
     },
     "execution_count": 21,
     "metadata": {},
     "output_type": "execute_result"
    }
   ],
   "source": [
    "qres = engine.execute(f\"describe sec_dera.sub\")\n",
    "qres.fetchall()"
   ]
  },
  {
   "cell_type": "code",
   "execution_count": 22,
   "id": "78c2d9c7-c108-4dcc-92c7-65b03556970e",
   "metadata": {},
   "outputs": [
    {
     "data": {
      "text/plain": [
       "[('adsh', 'varchar', '', ''),\n",
       " ('tag', 'varchar', '', ''),\n",
       " ('version', 'varchar', '', ''),\n",
       " ('coreg', 'varchar', '', ''),\n",
       " ('ddate', 'timestamp(3)', '', ''),\n",
       " ('qtrs', 'integer', '', ''),\n",
       " ('uom', 'varchar', '', ''),\n",
       " ('value', 'double', '', ''),\n",
       " ('footnote', 'varchar', '', ''),\n",
       " ('uuid', 'varchar', '', ''),\n",
       " ('quarter', 'varchar', '', '')]"
      ]
     },
     "execution_count": 22,
     "metadata": {},
     "output_type": "execute_result"
    }
   ],
   "source": [
    "qres = engine.execute(f\"describe sec_dera.num\")\n",
    "qres.fetchall()"
   ]
  },
  {
   "cell_type": "raw",
   "id": "53b6c6a7-d440-4dad-bd40-fee7d5db90b9",
   "metadata": {},
   "source": [
    "qres = engine.execute(f\"\"\"select lei, parent_company_name, total_reported_direct_emissions, reporting_year from epa_ghgrp.parent_company, epa_ghgrp.direct_emitters\n",
    "where lei is not null and reporting_year >= DATE('2020-01-01') and epa_ghgrp.parent_company.ghgrp_facility_id=epa_ghgrp.direct_emitters.facility_id\n",
    "order by total_reported_direct_emissions desc\n",
    "limit 10\n",
    "\"\"\")\n",
    "qres.fetchall()"
   ]
  },
  {
   "cell_type": "code",
   "execution_count": 23,
   "id": "89fb8fb1-852d-40d8-b3fb-1970fbf32ecf",
   "metadata": {},
   "outputs": [
    {
     "ename": "SyntaxError",
     "evalue": "invalid syntax (<ipython-input-23-8c726f94684c>, line 1)",
     "output_type": "error",
     "traceback": [
      "\u001b[0;36m  File \u001b[0;32m\"<ipython-input-23-8c726f94684c>\"\u001b[0;36m, line \u001b[0;32m1\u001b[0m\n\u001b[0;31m    stop!\u001b[0m\n\u001b[0m        ^\u001b[0m\n\u001b[0;31mSyntaxError\u001b[0m\u001b[0;31m:\u001b[0m invalid syntax\n"
     ]
    }
   ],
   "source": [
    "stop!"
   ]
  },
  {
   "cell_type": "markdown",
   "id": "04677fab-d23e-40db-b6f4-57880c9942ca",
   "metadata": {},
   "source": [
    "Things start getting ugly here.  The `FACILITY_ID` is a primary key in tables like `DIRECT_EMITTERS`.  The Plum Point Energy Station (#1000539) has 5 owners, meaning there are 5 entries in the `parent_copmany` table with #1000539 as the `GHGRP_FACILITY_ID`.  If not careful, that plant's 3.4M Mt CO2e could be reported as 5x as much if each owner picks up the full attribution of those emissions.  Similarly, the DERA data is quarterly, which means that an interesting datapoints can occur 4 times per year.  We must take care when connecting annually-reported data to quarterly-reported data.  So...BEWARE!\n",
    "\n",
    "Everything from the point onward are sketchy (literally) and likely wrong."
   ]
  },
  {
   "cell_type": "code",
   "execution_count": null,
   "id": "aae79cc9-39b0-4011-a7ab-c64d1aba3bde",
   "metadata": {},
   "outputs": [],
   "source": [
    "qres = engine.execute(f\"\"\"select count (*), year\n",
    "from epa_ghgrp.parent_company, epa_ghgrp.direct_emitters, sec_dera.sub\n",
    "where epa_ghgrp.parent_company.lei is not null\n",
    "and epa_ghgrp.parent_company.ghgrp_facility_id=epa_ghgrp.direct_emitters.facility_id\n",
    "and year=reporting_year and reporting_year >= DATE('2020-01-01') and filed > DATE('2020-01-01') and filed < DATE('2021-01-01')\n",
    "and epa_ghgrp.parent_company.lei=sec_dera.sub.lei\n",
    "group by year\n",
    "order by year desc\n",
    "\"\"\")\n",
    "qres.fetchall()"
   ]
  },
  {
   "cell_type": "code",
   "execution_count": null,
   "id": "d50505ff-8b78-4d1e-8add-e1700bd7deac",
   "metadata": {},
   "outputs": [],
   "source": [
    "qres = engine.execute(f\"\"\"select count (*), sec_dera.sub.period\n",
    "from sec_dera.sub\n",
    "where sec_dera.sub.lei is not null and sec_dera.sub.period>=DATE('2020-01-01') and sec_dera.sub.period<DATE('2021-01-01')\n",
    "group sec_dera.sub.period\n",
    "order sec_dera.sub.period\"\"\")\n",
    "qres.fetchall()"
   ]
  },
  {
   "cell_type": "code",
   "execution_count": null,
   "id": "903ab742-4624-469e-8744-1cd5be53229a",
   "metadata": {},
   "outputs": [],
   "source": [
    "qres = engine.execute(f\"\"\"select count (*), reporting_year\n",
    "from epa_ghgrp.parent_company, epa_ghgrp.direct_emitters\n",
    "where epa_ghgrp.parent_company.lei is not null and reporting_year >= DATE('2020-01-01') and year=reporting_year\n",
    "and epa_ghgrp.parent_company.ghgrp_facility_id=epa_ghgrp.direct_emitters.facility_id\n",
    "group by reporting_year\n",
    "\"\"\")\n",
    "qres.fetchall()"
   ]
  },
  {
   "cell_type": "code",
   "execution_count": null,
   "id": "d101603d-8d3d-4359-8a6c-4a6a90794dd4",
   "metadata": {},
   "outputs": [],
   "source": [
    "qres = engine.execute(f\"\"\"\n",
    "select DISTINCT(sec_dera.sub.lei), ghgrp_facility_id from osc_datacommons_dev.epa_ghgrp.parent_company,sec_dera.sub where epa_ghgrp.parent_company.lei=sec_dera.sub.lei\n",
    "-- and sec_dera.sub.lei is null\n",
    "\"\"\")\n",
    "l = cur.fetchall()\n",
    "print(len(l))"
   ]
  },
  {
   "cell_type": "code",
   "execution_count": null,
   "id": "caac6388-9fa6-46e2-89b5-1096dd466fb9",
   "metadata": {},
   "outputs": [],
   "source": [
    "qres = engine.execute(f\"\"\"select * from sec_dera.ticker limit 10\"\"\")\n",
    "qres.fetchall()"
   ]
  },
  {
   "cell_type": "code",
   "execution_count": null,
   "id": "065ae190-4b46-4cc4-abed-715d2332d8f9",
   "metadata": {},
   "outputs": [],
   "source": [
    "qres = engine.execute(f\"\"\"\n",
    "with leis as (select DISTINCT(sec_dera.sub.lei), if(tname IS NULL, '<private>', tname) as ticker\n",
    "              from epa_ghgrp.parent_company,sec_dera.sub,sec_dera.ticker\n",
    "              where epa_ghgrp.parent_company.lei=sec_dera.sub.lei and form='10-Q'\n",
    "              and sec_dera.sub.cik=sec_dera.ticker.cik)\n",
    "select count (*), ticker, leis.lei, parent_company_name, reporting_year\n",
    "from epa_ghgrp.parent_company, epa_ghgrp.direct_emitters, leis\n",
    "where reporting_year >= DATE('2020-01-01') and year=reporting_year\n",
    "and epa_ghgrp.parent_company.lei=leis.lei\n",
    "and epa_ghgrp.parent_company.ghgrp_facility_id=epa_ghgrp.direct_emitters.facility_id\n",
    "group by leis.ticker, leis.lei, parent_company_name, reporting_year\n",
    "order by count(*) desc\n",
    "-- limit 10\n",
    "\"\"\")\n",
    "l = qres.fetchall()\n",
    "print(len(l))"
   ]
  },
  {
   "cell_type": "code",
   "execution_count": null,
   "id": "6de62aab-52e4-4fd5-98d6-bcc4499f5754",
   "metadata": {},
   "outputs": [],
   "source": [
    "l"
   ]
  },
  {
   "cell_type": "code",
   "execution_count": null,
   "id": "647de092-d4b0-48e1-b4c1-2e8fbc93f1f7",
   "metadata": {},
   "outputs": [],
   "source": [
    "sum([e[0] for e in l])"
   ]
  },
  {
   "cell_type": "code",
   "execution_count": null,
   "id": "7e1565a7-fb6c-48b1-b051-75e244c15c7b",
   "metadata": {},
   "outputs": [],
   "source": [
    "qres = engine.execute(f\"\"\"\n",
    "with leis as (select DISTINCT(sec_dera.sub.lei), ghgrp_facility_id, adsh\n",
    "              from epa_ghgrp.parent_company,sec_dera.sub\n",
    "              where epa_ghgrp.parent_company.lei=sec_dera.sub.lei and form='10-Q')\n",
    "select leis.lei as lei, parent_company_name, sum(total_reported_direct_emissions) as tot_co2e, reporting_year, uom, sum(value) as tot_revenue, sum(total_reported_direct_emissions)/sum(value) as intensity\n",
    "from leis, epa_ghgrp.parent_company, epa_ghgrp.direct_emitters, sec_dera.num\n",
    "where osc_datacommons_dev.epa_ghgrp.parent_company.ghgrp_facility_id=leis.ghgrp_facility_id\n",
    "and reporting_year >= DATE('2020-01-01') and year=reporting_year\n",
    "and epa_ghgrp.parent_company.ghgrp_facility_id=epa_ghgrp.direct_emitters.facility_id\n",
    "and leis.adsh=sec_dera.num.adsh\n",
    "and sec_dera.num.tag = 'Revenues'\n",
    "and sec_dera.num.ddate < DATE('2021-01-01')\n",
    "and sec_dera.num.ddate >= DATE('2020-01-01')\n",
    "and sec_dera.num.qtrs=1\n",
    "and total_reported_direct_emissions>0\n",
    "group by leis.lei, parent_company_name, reporting_year, uom\n",
    "order by intensity desc\n",
    "-- limit 100\n",
    "\"\"\")\n",
    "list = qres.fetchall()\n",
    "print(len(list))\n",
    "display(list)"
   ]
  },
  {
   "cell_type": "code",
   "execution_count": null,
   "id": "2ac52434-a323-40ad-9d21-e37a27eb2f5e",
   "metadata": {},
   "outputs": [],
   "source": []
  },
  {
   "cell_type": "code",
   "execution_count": null,
   "id": "bf846061-1c8c-4026-b0c0-a98c772f9ba3",
   "metadata": {},
   "outputs": [],
   "source": []
  }
 ],
 "metadata": {
  "kernelspec": {
   "display_name": "Python 3",
   "language": "python",
   "name": "python3"
  },
  "language_info": {
   "codemirror_mode": {
    "name": "ipython",
    "version": 3
   },
   "file_extension": ".py",
   "mimetype": "text/x-python",
   "name": "python",
   "nbconvert_exporter": "python",
   "pygments_lexer": "ipython3",
   "version": "3.8.3"
  }
 },
 "nbformat": 4,
 "nbformat_minor": 5
}
