{
 "cells": [
  {
   "cell_type": "code",
   "execution_count": 1,
   "id": "f3930173-d987-4032-ad15-717f43242262",
   "metadata": {},
   "outputs": [],
   "source": [
    "import os\n",
    "import pathlib\n",
    "from dotenv import load_dotenv\n",
    "\n",
    "# Load some standard environment variables from a dot-env file, if it exists.\n",
    "# If no such file can be found, does not fail, and so allows these environment vars to\n",
    "# be populated in some other way\n",
    "dotenv_dir = os.environ.get('CREDENTIAL_DOTENV_DIR', os.environ.get('PWD', '/opt/app-root/src'))\n",
    "dotenv_path = pathlib.Path(dotenv_dir) / 'credentials.env'\n",
    "if os.path.exists(dotenv_path):\n",
    "    load_dotenv(dotenv_path=dotenv_path,override=True)"
   ]
  },
  {
   "cell_type": "markdown",
   "id": "240a8da7-6fff-42ee-8f0b-387b67e3cf9d",
   "metadata": {},
   "source": [
    "Set session variable CATALOG to make query terms much more compact"
   ]
  },
  {
   "cell_type": "code",
   "execution_count": 2,
   "id": "a4b2596e-6876-4ff4-bba4-73ad49391435",
   "metadata": {},
   "outputs": [],
   "source": [
    "import trino\n",
    "from sqlalchemy.engine import create_engine\n",
    "\n",
    "sqlstring = 'trino://{user}@{host}:{port}/'.format(\n",
    "    user = os.environ['TRINO_USER'],\n",
    "    host = os.environ['TRINO_HOST'],\n",
    "    port = os.environ['TRINO_PORT']\n",
    ")\n",
    "sqlargs = {\n",
    "    'auth': trino.auth.JWTAuthentication(os.environ['TRINO_PASSWD']),\n",
    "    'http_scheme': 'https',\n",
    "    'catalog': 'osc_datacommons_dev'\n",
    "}\n",
    "engine = create_engine(sqlstring, connect_args = sqlargs)\n",
    "connection = engine.connect()\n",
    "\n",
    "import pandas as pd"
   ]
  },
  {
   "cell_type": "markdown",
   "id": "a6ee5bc9-6ec3-422e-87ad-9df7d4a09452",
   "metadata": {},
   "source": [
    "The EPA's GHG Reporting Program (GHGRP) seems to be a gold standard in terms of creating a bottoms-up list that's good enough to play a major role in tops-down estimates."
   ]
  },
  {
   "cell_type": "code",
   "execution_count": 3,
   "id": "fdf989e4-3be8-4102-a298-e296ba661f25",
   "metadata": {},
   "outputs": [
    {
     "data": {
      "text/plain": [
       "[('co2_injection',),\n",
       " ('direct_emitters',),\n",
       " ('gathering_boosting',),\n",
       " ('geologic_sequestration_of_co2',),\n",
       " ('ldc_direct_emissions',),\n",
       " ('onshore_oil_gas_prod',),\n",
       " ('parent_company',),\n",
       " ('sf6_from_elec_equip',),\n",
       " ('suppliers',),\n",
       " ('transmission_pipelines',)]"
      ]
     },
     "metadata": {},
     "output_type": "display_data"
    }
   ],
   "source": [
    "qres = engine.execute(f\"show tables in epa_ghgrp\")\n",
    "display(qres.fetchall())"
   ]
  },
  {
   "cell_type": "markdown",
   "id": "fc3d71b7-9647-42f8-9d69-fcca59150e44",
   "metadata": {},
   "source": [
    "Direct Emitters are the lion's share of CO2 emissions.  There are other activities and industries with non-trivial emissions, but nothing compares to this."
   ]
  },
  {
   "cell_type": "code",
   "execution_count": 4,
   "id": "cac9acf8-c604-4bbd-ad94-a753e2225a2e",
   "metadata": {},
   "outputs": [
    {
     "data": {
      "text/plain": [
       "[('facility_id', 'bigint', '', ''),\n",
       " ('frs_id', 'varchar', '', ''),\n",
       " ('facility_name', 'varchar', '', ''),\n",
       " ('city', 'varchar', '', ''),\n",
       " ('state', 'varchar', '', ''),\n",
       " ('zip_code', 'varchar', '', ''),\n",
       " ('address', 'varchar', '', ''),\n",
       " ('county', 'varchar', '', ''),\n",
       " ('latitude', 'double', '', ''),\n",
       " ('longitude', 'double', '', ''),\n",
       " ('primary_naics_code', 'varchar', '', ''),\n",
       " ('latest_reported_industry_type_subparts', 'varchar', '', ''),\n",
       " ('latest_reported_industry_type_sectors', 'varchar', '', ''),\n",
       " ('total_reported_direct_emissions', 'double', '', ''),\n",
       " ('year', 'timestamp(3)', '', '')]"
      ]
     },
     "metadata": {},
     "output_type": "display_data"
    }
   ],
   "source": [
    "qres = engine.execute(f\"describe epa_ghgrp.direct_emitters\")\n",
    "display(qres.fetchall())"
   ]
  },
  {
   "cell_type": "code",
   "execution_count": 5,
   "id": "28beafc4-0bc3-4ee8-8b40-79c91d953d21",
   "metadata": {},
   "outputs": [
    {
     "data": {
      "text/plain": [
       "[('2020-01-01 00:00:00.000', 2400335017.1144834),\n",
       " ('2019-01-01 00:00:00.000', 2626532098.5932565),\n",
       " ('2018-01-01 00:00:00.000', 2779470637.179425),\n",
       " ('2017-01-01 00:00:00.000', 2735840754.8973103),\n",
       " ('2016-01-01 00:00:00.000', 2805104747.5443416),\n",
       " ('2015-01-01 00:00:00.000', 2939443583.3242407),\n",
       " ('2014-01-01 00:00:00.000', 3084068793.216346),\n",
       " ('2013-01-01 00:00:00.000', 3073213896.2733335),\n",
       " ('2012-01-01 00:00:00.000', 3058075792.5988026),\n",
       " ('2011-01-01 00:00:00.000', 3207582994.0028186)]"
      ]
     },
     "metadata": {},
     "output_type": "display_data"
    }
   ],
   "source": [
    "qres = engine.execute(f\"select year, sum(total_reported_direct_emissions) from epa_ghgrp.direct_emitters group by year order by year desc\")\n",
    "display(qres.fetchall())"
   ]
  },
  {
   "cell_type": "markdown",
   "id": "f412b218-a6eb-46c1-a7a4-af045c10621e",
   "metadata": {},
   "source": [
    "Here's a look at how they stack up (from a Database perspective--we should also look at this in Super Set)."
   ]
  },
  {
   "cell_type": "code",
   "execution_count": 6,
   "id": "b016a60d-59cb-4b3e-9373-bb422b56c586",
   "metadata": {},
   "outputs": [
    {
     "data": {
      "text/plain": [
       "[(1338, 'Power Plants', 1593302651.1495945),\n",
       " (371, 'Minerals', 112044493.16399996),\n",
       " (328, 'Chemicals', 106404264.83600003),\n",
       " (1066, 'Other', 101353022.50774214),\n",
       " (1187, 'Petroleum and Natural Gas Systems', 101032012.85843231),\n",
       " (1204, 'Waste', 100624446.79977302),\n",
       " (281, 'Metals', 69494113.83299993),\n",
       " (69, 'Petroleum Product Suppliers,Refineries', 65079994.47800001),\n",
       " (41, 'Chemicals,Petroleum Product Suppliers,Refineries', 64019038.494),\n",
       " (29, 'Chemicals,Suppliers of CO2', 27435824.12000001),\n",
       " (84, 'Pulp and Paper,Waste', 24953431.80600001),\n",
       " (7, 'Power Plants,Waste', 24875284.23),\n",
       " (11, 'Chemicals,Waste', 17522490.718),\n",
       " (10, 'Other,Power Plants', 17315702.882),\n",
       " (112, 'Other,Waste', 17100924.523999985),\n",
       " (3, 'Power Plants,Suppliers of CO2', 14904814.286),\n",
       " (17, 'Metals,Waste', 14615880.466000002),\n",
       " (4, 'Chemicals,Refineries,Suppliers of CO2', 13389032.404000001),\n",
       " (132, 'Pulp and Paper', 13028976.956000002),\n",
       " (97, 'Natural Gas and Natural Gas Liquids Suppliers,Petroleum and Natural Gas Systems', 12234044.463038893),\n",
       " (6, 'Chemicals,Refineries', 10342949.756),\n",
       " (4, 'Chemicals,Petroleum Product Suppliers,Refineries,Suppliers of CO2', 8575341.728),\n",
       " (1, 'Petroleum Product Suppliers,Power Plants,Refineries', 7655594.264),\n",
       " (1, 'Metals,Minerals', 6200941.828),\n",
       " (1, 'Chemicals,Petroleum Product Suppliers,Power Plants,Refineries', 5917240.992),\n",
       " (7, 'Refineries', 5708730.38),\n",
       " (15, 'Chemicals,Industrial Gas Suppliers', 5321142.312877),\n",
       " (1, 'Metals,Power Plants', 5235337.915),\n",
       " (1, 'Chemicals,Other,Petroleum Product Suppliers,Power Plants,Refineries', 4984461.77),\n",
       " (1, 'Chemicals,Refineries,Waste', 4854785.71),\n",
       " (1, 'Injection of CO2,Other,Suppliers of CO2,Waste', 4402189.878),\n",
       " (1, 'Chemicals,Petroleum Product Suppliers,Refineries,Suppliers of CO2,Waste', 4359504.494),\n",
       " (1, 'Chemicals,Other,Petroleum and Natural Gas Systems,Waste', 4264561.496),\n",
       " (1, 'Chemicals,Petroleum Product Suppliers,Power Plants,Refineries,Suppliers of CO2', 3651715.336),\n",
       " (10, 'Injection of CO2,Petroleum and Natural Gas Systems,Suppliers of CO2', 3523098.3588699494),\n",
       " (1, 'Chemicals,Power Plants', 3307323.432),\n",
       " (1, 'Chemicals,Coal-based Liquid Fuel Supply,Suppliers of CO2', 3137752.8),\n",
       " (10, 'Minerals,Waste', 3117763.17),\n",
       " (36, 'Other,Suppliers of CO2', 2949582.2079999996),\n",
       " (2, 'Chemicals,Petroleum Product Suppliers', 2367374.276),\n",
       " (1, 'Chemicals,Petroleum Product Suppliers,Refineries,Waste', 2300332.194),\n",
       " (2, 'Petroleum and Natural Gas Systems,Power Plants', 2257257.886),\n",
       " (11, 'Other,Suppliers of CO2,Waste', 2215138.864),\n",
       " (1, 'Chemicals,Power Plants,Waste', 2171412.544),\n",
       " (1, 'Natural Gas and Natural Gas Liquids Suppliers,Petroleum and Natural Gas Systems,Power Plants', 1523196.046),\n",
       " (4, 'Pulp and Paper,Suppliers of CO2,Waste', 1397541.568),\n",
       " (1, 'Petroleum Product Suppliers,Refineries,Waste', 893339.598),\n",
       " (8, 'Petroleum and Natural Gas Systems,Suppliers of CO2', 644980.9319999999),\n",
       " (1, 'Chemicals,Petroleum and Natural Gas Systems,Refineries', 600981.028),\n",
       " (7, 'Injection of CO2,Petroleum and Natural Gas Systems', 539684.7683135256),\n",
       " (3, 'Petroleum Product Suppliers,Petroleum and Natural Gas Systems', 268020.12),\n",
       " (7, 'Import and Export of Equipment Containing Fluorintaed GHGs,Other', 259750.28000000003),\n",
       " (3, 'Natural Gas and Natural Gas Liquids Suppliers,Power Plants', 250531.664),\n",
       " (2, 'Injection of CO2,Natural Gas and Natural Gas Liquids Suppliers,Petroleum and Natural Gas Systems,Suppliers of CO2', 226418.87615038402),\n",
       " (1, 'Pulp and Paper,Suppliers of CO2', 164000.67),\n",
       " (1, 'Injection of CO2,Natural Gas and Natural Gas Liquids Suppliers,Petroleum and Natural Gas Systems', 62200.56),\n",
       " (1, 'Chemicals,Industrial Gas Suppliers,Waste', 42333.542),\n",
       " (1, 'Import and Export of Equipment Containing Fluorintaed GHGs,Industrial Gas Suppliers,Other', 38044.08),\n",
       " (1, 'Chemicals,Industrial Gas Suppliers,Minerals', 32126.480472),\n",
       " (2, 'Other,Petroleum and Natural Gas Systems', 25392.604),\n",
       " (1, 'Industrial Gas Suppliers,Other', 11388.008),\n",
       " (1, 'Natural Gas and Natural Gas Liquids Suppliers,Other', 189.2)]"
      ]
     },
     "metadata": {},
     "output_type": "display_data"
    }
   ],
   "source": [
    "qres = engine.execute(f\"\"\"select count (*), latest_reported_industry_type_sectors, sum(total_reported_direct_emissions)\n",
    "from epa_ghgrp.direct_emitters\n",
    "where year>=DATE('2019-01-01') and year<DATE('2020-01-01')\n",
    "group by latest_reported_industry_type_sectors\n",
    "order by sum(total_reported_direct_emissions) desc\n",
    "\"\"\")\n",
    "display(qres.fetchall())"
   ]
  },
  {
   "cell_type": "markdown",
   "id": "26d22206-2eef-4f73-90be-5d07556118c6",
   "metadata": {},
   "source": [
    "This looks at the `Metals` industry.  We see that the top emitters have multiple facility locations."
   ]
  },
  {
   "cell_type": "code",
   "execution_count": 7,
   "id": "3f647b46-20a7-4f94-ad3d-821947944555",
   "metadata": {},
   "outputs": [
    {
     "data": {
      "text/plain": [
       "[(12, 'HOLCIM PARTICIPATIONS (US) INC', 10775100.462),\n",
       " (9, 'CEMEX INC', 7837412.011999999),\n",
       " (12, 'LEHIGH HANSON INC', 7170874.248),\n",
       " (8, 'RC LONESTAR INC', 6670842.868),\n",
       " (11, 'LHOIST NORTH AMERICA INC', 6095893.518),\n",
       " (11, 'CARMEUSE LIME INC', 4957669.602),\n",
       " (9, 'GRAYMONT INC', 4145991.5659999996),\n",
       " (8, 'CRH AMERICAS INC', 4038046.516),\n",
       " (4, 'MARTIN MARIETTA MATERIALS INC', 3939577.8740000003),\n",
       " (4, 'ARGOS USA LLC', 3571057.906),\n",
       " (11, 'EAGLE MATERIALS INC', 3460129.4600000004),\n",
       " (3, 'MISSISSIPPI LIME CO', 3386972.96),\n",
       " (3, 'TAIHEIYO CEMENT USA INC', 3268649.0960000004),\n",
       " (5, 'GCC OF AMERICA INC', 2311521.1900000004),\n",
       " (2, 'TITAN AMERICA LLC', 2230059.0100000002),\n",
       " (1, 'GENESIS ENERGY LP', 1824295.1),\n",
       " (1, 'LAFARGEHOLCIM NORTH AMERICA INC', 1792093.716),\n",
       " (2, 'NATIONAL CEMENT', 1633243.352),\n",
       " (2, 'SUMMIT MATERIALS INC', 1555637.794),\n",
       " (1, 'TATA CHEMICALS (SODA ASH) PARTNERS NORTH AMERICA', 1536763.272)]"
      ]
     },
     "metadata": {},
     "output_type": "display_data"
    }
   ],
   "source": [
    "qres = engine.execute(f\"\"\"select count (*), parent_company_name, sum(total_reported_direct_emissions)\n",
    "from epa_ghgrp.direct_emitters, epa_ghgrp.parent_company\n",
    "where year>=DATE('2019-01-01') and year<DATE('2020-01-01') and year=reporting_year\n",
    "      and latest_reported_industry_type_sectors='Minerals'\n",
    "      and epa_ghgrp.direct_emitters.facility_id=epa_ghgrp.parent_company.ghgrp_facility_id\n",
    "group by parent_company_name\n",
    "order by sum(total_reported_direct_emissions) desc\n",
    "limit 20\n",
    "\"\"\")\n",
    "display(qres.fetchall())"
   ]
  },
  {
   "cell_type": "code",
   "execution_count": null,
   "id": "671258a0-d7e7-49f5-8499-23eeb454b9d8",
   "metadata": {},
   "outputs": [],
   "source": []
  },
  {
   "cell_type": "markdown",
   "id": "6e5c50d7-4caa-463b-ae12-0f32cd897862",
   "metadata": {},
   "source": [
    "A look at some other table shapes..."
   ]
  },
  {
   "cell_type": "code",
   "execution_count": 8,
   "id": "a63e214f-12d9-40e1-ad69-4d2c06b5ad3e",
   "metadata": {},
   "outputs": [
    {
     "data": {
      "text/plain": [
       "[('facility_id', 'bigint', '', ''),\n",
       " ('frs_id', 'varchar', '', ''),\n",
       " ('facility_name', 'varchar', '', ''),\n",
       " ('basin', 'varchar', '', ''),\n",
       " ('reported_city', 'varchar', '', ''),\n",
       " ('reported_state', 'varchar', '', ''),\n",
       " ('reported_zip_code', 'varchar', '', ''),\n",
       " ('reported_address', 'varchar', '', ''),\n",
       " ('reported_county', 'varchar', '', ''),\n",
       " ('reported_latitude', 'double', '', ''),\n",
       " ('reported_longitude', 'double', '', ''),\n",
       " ('primary_naics_code', 'varchar', '', ''),\n",
       " ('latest_reported_industry_type_subparts', 'varchar', '', ''),\n",
       " ('total_reported_emissions_from_onshore_oil_gas_production', 'double', '', ''),\n",
       " ('year', 'timestamp(3)', '', '')]"
      ]
     },
     "metadata": {},
     "output_type": "display_data"
    }
   ],
   "source": [
    "qres = engine.execute(f\"describe epa_ghgrp.onshore_oil_gas_prod\")\n",
    "display(qres.fetchall())"
   ]
  },
  {
   "cell_type": "code",
   "execution_count": 9,
   "id": "6827713e-298b-4d39-8483-2885803ea013",
   "metadata": {},
   "outputs": [
    {
     "data": {
      "text/plain": [
       "[('facility_id', 'bigint', '', ''),\n",
       " ('frs_id', 'varchar', '', ''),\n",
       " ('facility_name', 'varchar', '', ''),\n",
       " ('city', 'varchar', '', ''),\n",
       " ('state', 'varchar', '', ''),\n",
       " ('zip_code', 'varchar', '', ''),\n",
       " ('address', 'varchar', '', ''),\n",
       " ('county', 'varchar', '', ''),\n",
       " ('latitude', 'double', '', ''),\n",
       " ('longitude', 'double', '', ''),\n",
       " ('primary_naics_code', 'varchar', '', ''),\n",
       " ('latest_reported_industry_type_subparts', 'varchar', '', ''),\n",
       " ('coal_based_liquid_fuel_production_ghg', 'double', '', ''),\n",
       " ('petroleum_products_produced_ghg', 'double', '', ''),\n",
       " ('petroleum_products_imported_ghg', 'double', '', ''),\n",
       " ('petroleum_products_exported_ghg', 'double', '', ''),\n",
       " ('natural_gas_supply_ghg', 'double', '', ''),\n",
       " ('natural_gas_liquids_supply_ghg', 'double', '', ''),\n",
       " ('co2_supply_ghg', 'double', '', ''),\n",
       " ('year', 'timestamp(3)', '', '')]"
      ]
     },
     "metadata": {},
     "output_type": "display_data"
    }
   ],
   "source": [
    "qres = engine.execute(f\"describe epa_ghgrp.suppliers\")\n",
    "display(qres.fetchall())"
   ]
  },
  {
   "cell_type": "markdown",
   "id": "d55668ba-edde-4070-962a-53da099a4c07",
   "metadata": {},
   "source": [
    "A quick summary of how many rows of data we have in `epa_ghgrp`.\n",
    "\n",
    "68k rows in `direct_emitters`: lots of facilities  \n",
    "103k rows in `parent_company`: lots of facility/owner relationships"
   ]
  },
  {
   "cell_type": "code",
   "execution_count": 10,
   "id": "6a5d3029-7379-47e2-9b50-6f49db7b88e6",
   "metadata": {},
   "outputs": [
    {
     "name": "stdout",
     "output_type": "stream",
     "text": [
      "select count (*) from osc_datacommons_dev.epa_ghgrp.co2_injection\n",
      "954\n",
      "select count (*) from osc_datacommons_dev.epa_ghgrp.direct_emitters\n",
      "68472\n",
      "select count (*) from osc_datacommons_dev.epa_ghgrp.gathering_boosting\n",
      "1703\n",
      "select count (*) from osc_datacommons_dev.epa_ghgrp.geologic_sequestration_of_co2\n",
      "20\n",
      "select count (*) from osc_datacommons_dev.epa_ghgrp.ldc_direct_emissions\n",
      "1730\n",
      "select count (*) from osc_datacommons_dev.epa_ghgrp.onshore_oil_gas_prod\n",
      "5068\n",
      "select count (*) from osc_datacommons_dev.epa_ghgrp.parent_company\n",
      "103043\n",
      "select count (*) from osc_datacommons_dev.epa_ghgrp.sf6_from_elec_equip\n",
      "1012\n",
      "select count (*) from osc_datacommons_dev.epa_ghgrp.suppliers\n",
      "8539\n",
      "select count (*) from osc_datacommons_dev.epa_ghgrp.transmission_pipelines\n",
      "780\n",
      "total rows = 191321\n"
     ]
    }
   ],
   "source": [
    "qres = engine.execute('show tables in osc_datacommons_dev.epa_ghgrp')\n",
    "l = qres.fetchall()\n",
    "totalrows = 0\n",
    "for e in l:\n",
    "    s = f'select count (*) from osc_datacommons_dev.epa_ghgrp.{e[0]}'\n",
    "    print(s)\n",
    "    qres = engine.execute(s)\n",
    "    rowcount = qres.fetchall()[0][0]\n",
    "    totalrows += rowcount\n",
    "    print(rowcount)\n",
    "    \n",
    "print(f'total rows = {totalrows}')"
   ]
  },
  {
   "cell_type": "markdown",
   "id": "cfac04f0-ac46-492a-9fcd-867aa64f37e7",
   "metadata": {},
   "source": [
    "We have very specifically shaped tables, which is needed to prepare this presetnation in Pandas.\n",
    "\n",
    "The key metric is total_emissions (in metric tons of CO2e), but the name of the metric depends on the source/process.  Nevertheless, we know that `year` is our last metric and that the CO2e metric is 2nd-to-last (hence the `-2` index).\n",
    "\n",
    "We also know that when building our final summary table, the sums feeding into it are all only one row per year.  We use `iat[0,1` to access the 0th row and the 1st column (which will be named specifically to the source/process).  By using `iat`, we get a scalar value we can sum, instead of a Series object we'd have to `squeeze`."
   ]
  },
  {
   "cell_type": "code",
   "execution_count": 11,
   "id": "193ec149-a1d2-49fa-9125-25f6d3be764e",
   "metadata": {},
   "outputs": [],
   "source": [
    "import pandas as pd\n",
    "\n",
    "emission_tables = ['direct_emitters', 'onshore_oil_gas_prod', 'gathering_boosting', 'transmission_pipelines', 'ldc_direct_emissions', 'sf6_from_elec_equip']\n",
    "q_dict = {}\n",
    "\n",
    "# A function that excludes terms using SQL to say \"and X!=Y\"\n",
    "def excl_text(excl):\n",
    "    return ' and '.join([f\"latest_reported_industry_type_sectors!='{e}'\" for e in excl])\n",
    "\n",
    "# A function that includes text that matches; SQL that says \"or X like '%Y%'\"\n",
    "def incl_text(excl):\n",
    "    return ' or '.join([f\"latest_reported_industry_type_sectors like '%{e}%'\" for e in excl])\n",
    "\n",
    "t = 'direct_emitters'\n",
    "qres = engine.execute(f\"describe epa_ghgrp.{t}\")\n",
    "t_cols = qres.fetchall()\n",
    "total_emission_cname = t_cols[-2][0]\n",
    "\n",
    "incl = [ 'Power', 'Petroleum']\n",
    "qres = engine.execute(f\"\"\"\n",
    "select year, sum({total_emission_cname}) from epa_ghgrp.{t}\n",
    "where {incl_text(incl)}\n",
    "group by year\n",
    "\"\"\")\n",
    "q_dict[t + f\" (incl {','.join(incl)})\"] = pd.DataFrame(qres.fetchall(), columns=['year', total_emission_cname + f\" (matching {','.join(incl)})\"])\n",
    "\n",
    "excl = [ 'Minerals', 'Other', 'Waste', 'Chemicals', 'Pulp and Paper,Waste', 'Metals,Waste', 'Pulp and Paper']\n",
    "qres = engine.execute(f\"\"\"\n",
    "select year, sum({total_emission_cname}) from epa_ghgrp.{t}\n",
    "where {excl_text(excl)}\n",
    "group by year\n",
    "\"\"\")\n",
    "q_dict[t + f\" (excl {','.join(excl)})\"] = pd.DataFrame(qres.fetchall(), columns=['year', total_emission_cname + f\" (excl {','.join(excl)})\"])\n",
    "\n",
    "for t in emission_tables:\n",
    "    qres = engine.execute(f\"describe epa_ghgrp.{t}\")\n",
    "    tr = qres.fetchall()\n",
    "    total_emission_cname = tr[-2][0]\n",
    "    qres = engine.execute(f\"select year, sum({total_emission_cname}) from epa_ghgrp.{t} group by year\")\n",
    "    q_dict[t] = pd.DataFrame(qres.fetchall(), columns=['year', total_emission_cname])\n",
    "\n",
    "grand_total = {}\n",
    "\n",
    "for year in q_dict['direct_emitters'].year:\n",
    "    grand_total[year] = sum([q_dict[t][q_dict[t].year==year].iat[0,1] for t in emission_tables if year in q_dict[t].year.values])\n",
    "\n",
    "df = pd.DataFrame.from_dict(grand_total, orient='index', columns=['total_co2e']).reset_index()\n",
    "df.rename(columns={'index':'year'}, inplace=True)\n",
    "q_dict['grand_total'] = df"
   ]
  },
  {
   "cell_type": "markdown",
   "id": "b775bc69-9788-4c29-af4c-4ac86a6a9528",
   "metadata": {},
   "source": [
    "This gem comes from https://stackoverflow.com/questions/44327999/python-pandas-merge-multiple-dataframes"
   ]
  },
  {
   "cell_type": "code",
   "execution_count": 12,
   "id": "20de814b-a94b-4c9f-aec1-c032f97d545e",
   "metadata": {},
   "outputs": [],
   "source": [
    "from functools import reduce\n",
    "\n",
    "df_merged = reduce(lambda left,right: pd.merge(left,right,on=['year'], how='outer'), q_dict.values()).fillna(0)"
   ]
  },
  {
   "cell_type": "markdown",
   "id": "e9fa55d5-1fa1-48b0-8bb6-d59201619d3e",
   "metadata": {},
   "source": [
    "A summary table showing (1) direct emitters that match \"Power\" or \"Petroleum\", (2) direct emitters that are not the top other industrie, and then (3..N): the totals from the GHGRP."
   ]
  },
  {
   "cell_type": "code",
   "execution_count": 13,
   "id": "16b2e44a-1e17-4b69-be21-19b797e0896f",
   "metadata": {},
   "outputs": [
    {
     "data": {
      "text/html": [
       "<div>\n",
       "<style scoped>\n",
       "    .dataframe tbody tr th:only-of-type {\n",
       "        vertical-align: middle;\n",
       "    }\n",
       "\n",
       "    .dataframe tbody tr th {\n",
       "        vertical-align: top;\n",
       "    }\n",
       "\n",
       "    .dataframe thead th {\n",
       "        text-align: right;\n",
       "    }\n",
       "</style>\n",
       "<table border=\"1\" class=\"dataframe\">\n",
       "  <thead>\n",
       "    <tr style=\"text-align: right;\">\n",
       "      <th></th>\n",
       "      <th>year</th>\n",
       "      <th>total reported direct emissions (matching Power,Petroleum)</th>\n",
       "      <th>total reported direct emissions (excl Minerals,Other,Waste,Chemicals,Pulp and Paper,Waste,Metals,Waste,Pulp and Paper)</th>\n",
       "      <th>total reported direct emissions</th>\n",
       "      <th>total reported emissions from onshore oil gas production</th>\n",
       "      <th>total reported emissions from gathering boosting</th>\n",
       "      <th>total reported direct emissions from transmission pipelines</th>\n",
       "      <th>total reported direct emissions from local dist companies</th>\n",
       "      <th>total reported direct emissions from electrical equipment use</th>\n",
       "      <th>total co2e</th>\n",
       "    </tr>\n",
       "  </thead>\n",
       "  <tbody>\n",
       "    <tr>\n",
       "      <th>5</th>\n",
       "      <td>2020-01-01 00:00:00.000</td>\n",
       "      <td>1.768353e+09</td>\n",
       "      <td>1.947463e+09</td>\n",
       "      <td>2.400335e+09</td>\n",
       "      <td>9.348811e+07</td>\n",
       "      <td>9.002867e+07</td>\n",
       "      <td>3.497590e+06</td>\n",
       "      <td>1.264110e+07</td>\n",
       "      <td>2.004836e+06</td>\n",
       "      <td>2.601995e+09</td>\n",
       "    </tr>\n",
       "    <tr>\n",
       "      <th>3</th>\n",
       "      <td>2019-01-01 00:00:00.000</td>\n",
       "      <td>1.958369e+09</td>\n",
       "      <td>2.153508e+09</td>\n",
       "      <td>2.626532e+09</td>\n",
       "      <td>1.201743e+08</td>\n",
       "      <td>9.276566e+07</td>\n",
       "      <td>2.859475e+06</td>\n",
       "      <td>1.284702e+07</td>\n",
       "      <td>2.510832e+06</td>\n",
       "      <td>2.857689e+09</td>\n",
       "    </tr>\n",
       "    <tr>\n",
       "      <th>0</th>\n",
       "      <td>2018-01-01 00:00:00.000</td>\n",
       "      <td>2.099221e+09</td>\n",
       "      <td>2.304343e+09</td>\n",
       "      <td>2.779471e+09</td>\n",
       "      <td>1.119588e+08</td>\n",
       "      <td>8.332560e+07</td>\n",
       "      <td>3.050315e+06</td>\n",
       "      <td>1.323626e+07</td>\n",
       "      <td>2.270228e+06</td>\n",
       "      <td>2.993312e+09</td>\n",
       "    </tr>\n",
       "    <tr>\n",
       "      <th>7</th>\n",
       "      <td>2017-01-01 00:00:00.000</td>\n",
       "      <td>2.070082e+09</td>\n",
       "      <td>2.270354e+09</td>\n",
       "      <td>2.735841e+09</td>\n",
       "      <td>9.624146e+07</td>\n",
       "      <td>7.783058e+07</td>\n",
       "      <td>2.699047e+06</td>\n",
       "      <td>1.367043e+07</td>\n",
       "      <td>2.555766e+06</td>\n",
       "      <td>2.928838e+09</td>\n",
       "    </tr>\n",
       "    <tr>\n",
       "      <th>2</th>\n",
       "      <td>2016-01-01 00:00:00.000</td>\n",
       "      <td>2.144348e+09</td>\n",
       "      <td>2.337524e+09</td>\n",
       "      <td>2.805105e+09</td>\n",
       "      <td>8.689825e+07</td>\n",
       "      <td>8.259701e+07</td>\n",
       "      <td>3.183982e+06</td>\n",
       "      <td>1.400229e+07</td>\n",
       "      <td>2.930497e+06</td>\n",
       "      <td>2.994717e+09</td>\n",
       "    </tr>\n",
       "    <tr>\n",
       "      <th>4</th>\n",
       "      <td>2015-01-01 00:00:00.000</td>\n",
       "      <td>2.261725e+09</td>\n",
       "      <td>2.452045e+09</td>\n",
       "      <td>2.939444e+09</td>\n",
       "      <td>1.017485e+08</td>\n",
       "      <td>0.000000e+00</td>\n",
       "      <td>0.000000e+00</td>\n",
       "      <td>1.455831e+07</td>\n",
       "      <td>2.472281e+06</td>\n",
       "      <td>3.058223e+09</td>\n",
       "    </tr>\n",
       "    <tr>\n",
       "      <th>8</th>\n",
       "      <td>2014-01-01 00:00:00.000</td>\n",
       "      <td>2.392070e+09</td>\n",
       "      <td>2.592859e+09</td>\n",
       "      <td>3.084069e+09</td>\n",
       "      <td>1.019517e+08</td>\n",
       "      <td>0.000000e+00</td>\n",
       "      <td>0.000000e+00</td>\n",
       "      <td>1.477185e+07</td>\n",
       "      <td>3.220287e+06</td>\n",
       "      <td>3.204013e+09</td>\n",
       "    </tr>\n",
       "    <tr>\n",
       "      <th>1</th>\n",
       "      <td>2013-01-01 00:00:00.000</td>\n",
       "      <td>2.392082e+09</td>\n",
       "      <td>2.593335e+09</td>\n",
       "      <td>3.073214e+09</td>\n",
       "      <td>9.795946e+07</td>\n",
       "      <td>0.000000e+00</td>\n",
       "      <td>0.000000e+00</td>\n",
       "      <td>1.516147e+07</td>\n",
       "      <td>3.258298e+06</td>\n",
       "      <td>3.189593e+09</td>\n",
       "    </tr>\n",
       "    <tr>\n",
       "      <th>6</th>\n",
       "      <td>2012-01-01 00:00:00.000</td>\n",
       "      <td>2.376107e+09</td>\n",
       "      <td>2.579361e+09</td>\n",
       "      <td>3.058076e+09</td>\n",
       "      <td>9.253966e+07</td>\n",
       "      <td>0.000000e+00</td>\n",
       "      <td>0.000000e+00</td>\n",
       "      <td>1.541235e+07</td>\n",
       "      <td>3.236291e+06</td>\n",
       "      <td>3.169264e+09</td>\n",
       "    </tr>\n",
       "    <tr>\n",
       "      <th>9</th>\n",
       "      <td>2011-01-01 00:00:00.000</td>\n",
       "      <td>2.509918e+09</td>\n",
       "      <td>2.728839e+09</td>\n",
       "      <td>3.207583e+09</td>\n",
       "      <td>9.119057e+07</td>\n",
       "      <td>0.000000e+00</td>\n",
       "      <td>0.000000e+00</td>\n",
       "      <td>1.566794e+07</td>\n",
       "      <td>3.920547e+06</td>\n",
       "      <td>3.318362e+09</td>\n",
       "    </tr>\n",
       "  </tbody>\n",
       "</table>\n",
       "</div>"
      ],
      "text/plain": [
       "                      year  \\\n",
       "5  2020-01-01 00:00:00.000   \n",
       "3  2019-01-01 00:00:00.000   \n",
       "0  2018-01-01 00:00:00.000   \n",
       "7  2017-01-01 00:00:00.000   \n",
       "2  2016-01-01 00:00:00.000   \n",
       "4  2015-01-01 00:00:00.000   \n",
       "8  2014-01-01 00:00:00.000   \n",
       "1  2013-01-01 00:00:00.000   \n",
       "6  2012-01-01 00:00:00.000   \n",
       "9  2011-01-01 00:00:00.000   \n",
       "\n",
       "   total reported direct emissions (matching Power,Petroleum)  \\\n",
       "5                                       1.768353e+09            \n",
       "3                                       1.958369e+09            \n",
       "0                                       2.099221e+09            \n",
       "7                                       2.070082e+09            \n",
       "2                                       2.144348e+09            \n",
       "4                                       2.261725e+09            \n",
       "8                                       2.392070e+09            \n",
       "1                                       2.392082e+09            \n",
       "6                                       2.376107e+09            \n",
       "9                                       2.509918e+09            \n",
       "\n",
       "   total reported direct emissions (excl Minerals,Other,Waste,Chemicals,Pulp and Paper,Waste,Metals,Waste,Pulp and Paper)  \\\n",
       "5                                       1.947463e+09                                                                        \n",
       "3                                       2.153508e+09                                                                        \n",
       "0                                       2.304343e+09                                                                        \n",
       "7                                       2.270354e+09                                                                        \n",
       "2                                       2.337524e+09                                                                        \n",
       "4                                       2.452045e+09                                                                        \n",
       "8                                       2.592859e+09                                                                        \n",
       "1                                       2.593335e+09                                                                        \n",
       "6                                       2.579361e+09                                                                        \n",
       "9                                       2.728839e+09                                                                        \n",
       "\n",
       "   total reported direct emissions  \\\n",
       "5                     2.400335e+09   \n",
       "3                     2.626532e+09   \n",
       "0                     2.779471e+09   \n",
       "7                     2.735841e+09   \n",
       "2                     2.805105e+09   \n",
       "4                     2.939444e+09   \n",
       "8                     3.084069e+09   \n",
       "1                     3.073214e+09   \n",
       "6                     3.058076e+09   \n",
       "9                     3.207583e+09   \n",
       "\n",
       "   total reported emissions from onshore oil gas production  \\\n",
       "5                                       9.348811e+07          \n",
       "3                                       1.201743e+08          \n",
       "0                                       1.119588e+08          \n",
       "7                                       9.624146e+07          \n",
       "2                                       8.689825e+07          \n",
       "4                                       1.017485e+08          \n",
       "8                                       1.019517e+08          \n",
       "1                                       9.795946e+07          \n",
       "6                                       9.253966e+07          \n",
       "9                                       9.119057e+07          \n",
       "\n",
       "   total reported emissions from gathering boosting  \\\n",
       "5                                      9.002867e+07   \n",
       "3                                      9.276566e+07   \n",
       "0                                      8.332560e+07   \n",
       "7                                      7.783058e+07   \n",
       "2                                      8.259701e+07   \n",
       "4                                      0.000000e+00   \n",
       "8                                      0.000000e+00   \n",
       "1                                      0.000000e+00   \n",
       "6                                      0.000000e+00   \n",
       "9                                      0.000000e+00   \n",
       "\n",
       "   total reported direct emissions from transmission pipelines  \\\n",
       "5                                       3.497590e+06             \n",
       "3                                       2.859475e+06             \n",
       "0                                       3.050315e+06             \n",
       "7                                       2.699047e+06             \n",
       "2                                       3.183982e+06             \n",
       "4                                       0.000000e+00             \n",
       "8                                       0.000000e+00             \n",
       "1                                       0.000000e+00             \n",
       "6                                       0.000000e+00             \n",
       "9                                       0.000000e+00             \n",
       "\n",
       "   total reported direct emissions from local dist companies  \\\n",
       "5                                       1.264110e+07           \n",
       "3                                       1.284702e+07           \n",
       "0                                       1.323626e+07           \n",
       "7                                       1.367043e+07           \n",
       "2                                       1.400229e+07           \n",
       "4                                       1.455831e+07           \n",
       "8                                       1.477185e+07           \n",
       "1                                       1.516147e+07           \n",
       "6                                       1.541235e+07           \n",
       "9                                       1.566794e+07           \n",
       "\n",
       "   total reported direct emissions from electrical equipment use    total co2e  \n",
       "5                                       2.004836e+06              2.601995e+09  \n",
       "3                                       2.510832e+06              2.857689e+09  \n",
       "0                                       2.270228e+06              2.993312e+09  \n",
       "7                                       2.555766e+06              2.928838e+09  \n",
       "2                                       2.930497e+06              2.994717e+09  \n",
       "4                                       2.472281e+06              3.058223e+09  \n",
       "8                                       3.220287e+06              3.204013e+09  \n",
       "1                                       3.258298e+06              3.189593e+09  \n",
       "6                                       3.236291e+06              3.169264e+09  \n",
       "9                                       3.920547e+06              3.318362e+09  "
      ]
     },
     "execution_count": 13,
     "metadata": {},
     "output_type": "execute_result"
    }
   ],
   "source": [
    "df_merged.rename(columns={v:v.replace('_', ' ') for v in df_merged.columns.values}).sort_values(by='year', ascending=False)"
   ]
  },
  {
   "cell_type": "markdown",
   "id": "1a654764-e8eb-4baf-ad76-9b45169d016e",
   "metadata": {},
   "source": [
    "Cross-check with ESSD tops-down dataset"
   ]
  },
  {
   "cell_type": "code",
   "execution_count": 14,
   "id": "d12fc52f-8072-494e-9244-dea81f4fd0b7",
   "metadata": {},
   "outputs": [
    {
     "data": {
      "text/plain": [
       "[('iso', 'varchar', '', ''),\n",
       " ('country', 'varchar', '', ''),\n",
       " ('region_ar6_6', 'varchar', '', ''),\n",
       " ('region_ar6_10', 'varchar', '', ''),\n",
       " ('region_ar6_22', 'varchar', '', ''),\n",
       " ('region_ar6_dev', 'varchar', '', ''),\n",
       " ('sector_title', 'varchar', '', ''),\n",
       " ('subsector_title', 'varchar', '', ''),\n",
       " ('gas', 'varchar', '', ''),\n",
       " ('gwp100_ar5', 'integer', '', ''),\n",
       " ('value', 'double', '', ''),\n",
       " ('year', 'timestamp(3)', '', '')]"
      ]
     },
     "execution_count": 14,
     "metadata": {},
     "output_type": "execute_result"
    }
   ],
   "source": [
    "qres = engine.execute('describe essd.ghg_data')\n",
    "qres.fetchall()"
   ]
  },
  {
   "cell_type": "markdown",
   "id": "d629c242-cb58-45fa-a480-943e64f24594",
   "metadata": {},
   "source": [
    "A quick look at *just* CO2.  We'll look at CO2e in the next set of cells."
   ]
  },
  {
   "cell_type": "code",
   "execution_count": 15,
   "id": "5070bb4f-f419-4163-b45f-4b2bdde15c7e",
   "metadata": {},
   "outputs": [
    {
     "data": {
      "text/plain": [
       "[('2020-01-01 00:00:00.000', 1751743410.33274, 'CO2'),\n",
       " ('2019-01-01 00:00:00.000', 1987569148.7149098, 'CO2'),\n",
       " ('2018-01-01 00:00:00.000', 2130195623.42906, 'CO2'),\n",
       " ('2017-01-01 00:00:00.000', 2106892474.32796, 'CO2'),\n",
       " ('2016-01-01 00:00:00.000', 2180627611.48211, 'CO2'),\n",
       " ('2015-01-01 00:00:00.000', 2275835961.04433, 'CO2'),\n",
       " ('2014-01-01 00:00:00.000', 2411676648.3933206, 'CO2'),\n",
       " ('2013-01-01 00:00:00.000', 2410360932.0616, 'CO2'),\n",
       " ('2012-01-01 00:00:00.000', 2390450900.39202, 'CO2'),\n",
       " ('2011-01-01 00:00:00.000', 2514780563.17824, 'CO2')]"
      ]
     },
     "execution_count": 15,
     "metadata": {},
     "output_type": "execute_result"
    }
   ],
   "source": [
    "qres = engine.execute(\"select year, sum(value), gas from essd.ghg_data where sector_title='Energy systems' and gas='CO2' and year>DATE('2010-01-01') and ISO='USA' group by year, gas order by year desc\")\n",
    "qres.fetchall()"
   ]
  },
  {
   "cell_type": "code",
   "execution_count": 16,
   "id": "ede8810a-a4e6-4889-8330-ed3f1e090e2f",
   "metadata": {},
   "outputs": [
    {
     "data": {
      "text/plain": [
       "[('iso', 'varchar', '', ''),\n",
       " ('country', 'varchar', '', ''),\n",
       " ('region_ar6_6', 'varchar', '', ''),\n",
       " ('region_ar6_10', 'varchar', '', ''),\n",
       " ('region_ar6_22', 'varchar', '', ''),\n",
       " ('region_ar6_dev', 'varchar', '', ''),\n",
       " ('sector_title', 'varchar', '', ''),\n",
       " ('subsector_title', 'varchar', '', ''),\n",
       " ('co2', 'double', '', ''),\n",
       " ('ch4', 'double', '', ''),\n",
       " ('n2o', 'double', '', ''),\n",
       " ('fgas', 'double', '', ''),\n",
       " ('ghg', 'double', '', ''),\n",
       " ('year', 'timestamp(3)', '', '')]"
      ]
     },
     "execution_count": 16,
     "metadata": {},
     "output_type": "execute_result"
    }
   ],
   "source": [
    "qres = engine.execute('describe essd.gwp100_data')\n",
    "qres.fetchall()"
   ]
  },
  {
   "cell_type": "markdown",
   "id": "80d50525-a408-4a60-baa1-300b74a90597",
   "metadata": {},
   "source": [
    "A look at CO2e (presuming that's what GHG gives us from the GWP100 table)."
   ]
  },
  {
   "cell_type": "code",
   "execution_count": 17,
   "id": "dc81d08f-8b5e-43b9-8e5f-a9a9b59b7ddc",
   "metadata": {},
   "outputs": [
    {
     "data": {
      "text/plain": [
       "[('2020-01-01 00:00:00.000', 1751743410.33274),\n",
       " ('2019-01-01 00:00:00.000', 2349291999.2192674),\n",
       " ('2018-01-01 00:00:00.000', 2477543798.400163),\n",
       " ('2017-01-01 00:00:00.000', 2451547006.5038967),\n",
       " ('2016-01-01 00:00:00.000', 2514167924.00994),\n",
       " ('2015-01-01 00:00:00.000', 2634213163.051593),\n",
       " ('2014-01-01 00:00:00.000', 2784719011.4105005),\n",
       " ('2013-01-01 00:00:00.000', 2779046573.6036997),\n",
       " ('2012-01-01 00:00:00.000', 2759253824.43615),\n",
       " ('2011-01-01 00:00:00.000', 2890949806.5313897)]"
      ]
     },
     "execution_count": 17,
     "metadata": {},
     "output_type": "execute_result"
    }
   ],
   "source": [
    "qres = engine.execute(\"select year, sum(GHG) from essd.gwp100_data where sector_title='Energy systems' and year>DATE('2010-01-01') and ISO='USA' group by year order by year desc\")\n",
    "qres.fetchall()"
   ]
  },
  {
   "cell_type": "code",
   "execution_count": 18,
   "id": "d8c935b0-78ae-463e-8ed8-c233541f7d2d",
   "metadata": {},
   "outputs": [
    {
     "data": {
      "text/plain": [
       "[('geo_id', 'varchar', '', ''),\n",
       " ('name', 'varchar', '', ''),\n",
       " ('geo_id_f', 'varchar', '', ''),\n",
       " ('naics2012', 'varchar', '', ''),\n",
       " ('naics2012_f', 'varchar', '', ''),\n",
       " ('naics2012_label', 'varchar', '', ''),\n",
       " ('year', 'varchar', '', ''),\n",
       " ('estab', 'varchar', '', ''),\n",
       " ('rcptot', 'varchar', '', ''),\n",
       " ('payann', 'varchar', '', ''),\n",
       " ('emp', 'varchar', '', '')]"
      ]
     },
     "metadata": {},
     "output_type": "display_data"
    },
    {
     "data": {
      "text/plain": [
       "[('0100000US', 'United States', None, '221112', None, 'Fossil fuel electric power generation', '2012', '1416', '81473633', '7997908', '82071'),\n",
       " ('0100000US', 'United States', None, '221112', None, 'Fossil fuel electric power generation', '2017', '1711', '75455040', '8192622', '76058')]"
      ]
     },
     "metadata": {},
     "output_type": "display_data"
    }
   ],
   "source": [
    "qres = engine.execute(\"describe us_census.all_sector_survey_2017\")\n",
    "display(qres.fetchall())\n",
    "qres = engine.execute(\"select * from us_census.all_sector_survey_2017 where naics2012='221112'\")\n",
    "display(qres.fetchall())\n"
   ]
  },
  {
   "cell_type": "markdown",
   "id": "3f4584df-8e81-4f43-a406-9f1a19265051",
   "metadata": {},
   "source": [
    "Exercise the connection to NAICS and sector information provided by US Department of Commerce (US_CENSUS)"
   ]
  },
  {
   "cell_type": "code",
   "execution_count": 19,
   "id": "72e985b2-beaf-4613-a558-3858ebb91f3e",
   "metadata": {},
   "outputs": [
    {
     "data": {
      "text/plain": [
       "[(1483, '2012-01-01 00:00:00.000', '221112', 'Fossil fuel electric power generation'),\n",
       " (1467, '2011-01-01 00:00:00.000', '221112', 'Fossil fuel electric power generation'),\n",
       " (1454, '2013-01-01 00:00:00.000', '221112', 'Fossil fuel electric power generation'),\n",
       " (1425, '2014-01-01 00:00:00.000', '221112', 'Fossil fuel electric power generation'),\n",
       " (1368, '2015-01-01 00:00:00.000', '221112', 'Fossil fuel electric power generation'),\n",
       " (1304, '2016-01-01 00:00:00.000', '221112', 'Fossil fuel electric power generation'),\n",
       " (1294, '2018-01-01 00:00:00.000', '221112', 'Fossil fuel electric power generation'),\n",
       " (1281, '2017-01-01 00:00:00.000', '221112', 'Fossil fuel electric power generation'),\n",
       " (1274, '2019-01-01 00:00:00.000', '221112', 'Fossil fuel electric power generation'),\n",
       " (1247, '2012-01-01 00:00:00.000', '562212', 'Solid waste landfill'),\n",
       " (1244, '2020-01-01 00:00:00.000', '221112', 'Fossil fuel electric power generation'),\n",
       " (1235, '2011-01-01 00:00:00.000', '562212', 'Solid waste landfill'),\n",
       " (1235, '2013-01-01 00:00:00.000', '562212', 'Solid waste landfill'),\n",
       " (1233, '2014-01-01 00:00:00.000', '562212', 'Solid waste landfill'),\n",
       " (1163, '2015-01-01 00:00:00.000', '562212', 'Solid waste landfill'),\n",
       " (1140, '2016-01-01 00:00:00.000', '562212', 'Solid waste landfill'),\n",
       " (1134, '2017-01-01 00:00:00.000', '562212', 'Solid waste landfill'),\n",
       " (1131, '2018-01-01 00:00:00.000', '562212', 'Solid waste landfill'),\n",
       " (1118, '2019-01-01 00:00:00.000', '562212', 'Solid waste landfill'),\n",
       " (1116, '2020-01-01 00:00:00.000', '562212', 'Solid waste landfill')]"
      ]
     },
     "metadata": {},
     "output_type": "display_data"
    }
   ],
   "source": [
    "# qres = engine.execute(\"select count (*), epa_ghgrp.direct_emitters.year, primary_naics_code from epa_ghgrp.direct_emitters where primary_naics_code='221112' group by epa_ghgrp.direct_emitters.year, primary_naics_code order by count (*) desc limit 20\")\n",
    "# display(qres.fetchall())\n",
    "\n",
    "qres = engine.execute(f\"\"\"\n",
    "select count (*), epa_ghgrp.direct_emitters.year, primary_naics_code, naics2012_label\n",
    "from epa_ghgrp.direct_emitters, us_census.all_sector_survey_2017\n",
    "where primary_naics_code=naics2012 and us_census.all_sector_survey_2017.year='2017'\n",
    "group by epa_ghgrp.direct_emitters.year, primary_naics_code, naics2012_label order by count (*) desc limit 20\n",
    "\"\"\")\n",
    "display(qres.fetchall())"
   ]
  },
  {
   "cell_type": "markdown",
   "id": "2768ee88-f911-4891-b1f1-59bd8861f8b8",
   "metadata": {},
   "source": [
    "See how many `PARENT_COMPANY` records have LEIs we know.  Note that there are about 5x facilities for each known LEI.  There are fewer average facilities for parent copmanies with unknown LEIs."
   ]
  },
  {
   "cell_type": "code",
   "execution_count": 20,
   "id": "52ce751f-a7d5-45cc-b8e7-b4129bf80099",
   "metadata": {},
   "outputs": [
    {
     "data": {
      "text/plain": [
       "[(1542, '2020-01-01 00:00:00.000'),\n",
       " (1559, '2019-01-01 00:00:00.000'),\n",
       " (1626, '2018-01-01 00:00:00.000'),\n",
       " (1562, '2017-01-01 00:00:00.000'),\n",
       " (1560, '2016-01-01 00:00:00.000'),\n",
       " (1541, '2015-01-01 00:00:00.000'),\n",
       " (1712, '2014-01-01 00:00:00.000'),\n",
       " (1695, '2013-01-01 00:00:00.000'),\n",
       " (1657, '2012-01-01 00:00:00.000'),\n",
       " (1578, '2011-01-01 00:00:00.000'),\n",
       " (1309, '2010-01-01 00:00:00.000')]"
      ]
     },
     "execution_count": 20,
     "metadata": {},
     "output_type": "execute_result"
    }
   ],
   "source": [
    "qres = engine.execute(f\"select count (*), reporting_year from (select lei, reporting_year from epa_ghgrp.parent_company where LEI is not null group by lei, reporting_year) group by reporting_year order by reporting_year desc\")\n",
    "qres.fetchall()"
   ]
  },
  {
   "cell_type": "code",
   "execution_count": 21,
   "id": "c359da00-344c-4c95-a770-edd2a905a6c5",
   "metadata": {},
   "outputs": [
    {
     "data": {
      "text/plain": [
       "[('adsh', 'varchar', '', ''),\n",
       " ('cik', 'integer', '', ''),\n",
       " ('name', 'varchar', '', ''),\n",
       " ('lei', 'varchar', '', ''),\n",
       " ('sic', 'integer', '', ''),\n",
       " ('countryba', 'varchar', '', ''),\n",
       " ('stprba', 'varchar', '', ''),\n",
       " ('cityba', 'varchar', '', ''),\n",
       " ('zipba', 'varchar', '', ''),\n",
       " ('bas1', 'varchar', '', ''),\n",
       " ('bas2', 'varchar', '', ''),\n",
       " ('baph', 'varchar', '', ''),\n",
       " ('countryma', 'varchar', '', ''),\n",
       " ('stprma', 'varchar', '', ''),\n",
       " ('cityma', 'varchar', '', ''),\n",
       " ('zipma', 'varchar', '', ''),\n",
       " ('mas1', 'varchar', '', ''),\n",
       " ('mas2', 'varchar', '', ''),\n",
       " ('countryinc', 'varchar', '', ''),\n",
       " ('stprinc', 'varchar', '', ''),\n",
       " ('ein', 'bigint', '', ''),\n",
       " ('former', 'varchar', '', ''),\n",
       " ('changed', 'varchar', '', ''),\n",
       " ('afs', 'varchar', '', ''),\n",
       " ('wksi', 'boolean', '', ''),\n",
       " ('fye', 'varchar', '', ''),\n",
       " ('form', 'varchar', '', ''),\n",
       " ('period', 'timestamp(3)', '', ''),\n",
       " ('fy', 'timestamp(3)', '', ''),\n",
       " ('fp', 'varchar', '', ''),\n",
       " ('filed', 'timestamp(3)', '', ''),\n",
       " ('accepted', 'timestamp(3)', '', ''),\n",
       " ('prevrpt', 'boolean', '', ''),\n",
       " ('detail', 'boolean', '', ''),\n",
       " ('instance', 'varchar', '', ''),\n",
       " ('nciks', 'integer', '', ''),\n",
       " ('aciks', 'varchar', '', ''),\n",
       " ('uuid', 'varchar', '', ''),\n",
       " ('quarter', 'varchar', '', '')]"
      ]
     },
     "execution_count": 21,
     "metadata": {},
     "output_type": "execute_result"
    }
   ],
   "source": [
    "qres = engine.execute(f\"describe sec_dera.sub\")\n",
    "qres.fetchall()"
   ]
  },
  {
   "cell_type": "code",
   "execution_count": 22,
   "id": "78c2d9c7-c108-4dcc-92c7-65b03556970e",
   "metadata": {},
   "outputs": [
    {
     "data": {
      "text/plain": [
       "[('adsh', 'varchar', '', ''),\n",
       " ('tag', 'varchar', '', ''),\n",
       " ('version', 'varchar', '', ''),\n",
       " ('coreg', 'varchar', '', ''),\n",
       " ('ddate', 'timestamp(3)', '', ''),\n",
       " ('qtrs', 'integer', '', ''),\n",
       " ('uom', 'varchar', '', ''),\n",
       " ('value', 'double', '', ''),\n",
       " ('footnote', 'varchar', '', ''),\n",
       " ('uuid', 'varchar', '', ''),\n",
       " ('quarter', 'varchar', '', '')]"
      ]
     },
     "execution_count": 22,
     "metadata": {},
     "output_type": "execute_result"
    }
   ],
   "source": [
    "qres = engine.execute(f\"describe sec_dera.num\")\n",
    "qres.fetchall()"
   ]
  },
  {
   "cell_type": "raw",
   "id": "53b6c6a7-d440-4dad-bd40-fee7d5db90b9",
   "metadata": {},
   "source": [
    "qres = engine.execute(f\"\"\"select lei, parent_company_name, total_reported_direct_emissions, reporting_year from epa_ghgrp.parent_company, epa_ghgrp.direct_emitters\n",
    "where lei is not null and reporting_year >= DATE('2020-01-01') and epa_ghgrp.parent_company.ghgrp_facility_id=epa_ghgrp.direct_emitters.facility_id\n",
    "order by total_reported_direct_emissions desc\n",
    "limit 10\n",
    "\"\"\")\n",
    "qres.fetchall()"
   ]
  },
  {
   "cell_type": "code",
   "execution_count": 23,
   "id": "26209728-3025-425f-b8c5-02d15bed03b8",
   "metadata": {},
   "outputs": [
    {
     "data": {
      "text/plain": [
       "[(3117,)]"
      ]
     },
     "metadata": {},
     "output_type": "display_data"
    },
    {
     "data": {
      "text/plain": [
       "[(1598,)]"
      ]
     },
     "metadata": {},
     "output_type": "display_data"
    }
   ],
   "source": [
    "qres = engine.execute(\"select count (*) from sfi_geoasset.cement\")\n",
    "display(qres.fetchall())\n",
    "qres = engine.execute(\"select count (*) from sfi_geoasset.steel\")\n",
    "display(qres.fetchall())"
   ]
  },
  {
   "cell_type": "code",
   "execution_count": 24,
   "id": "20119bf9-4af5-468c-aab4-759072af97d0",
   "metadata": {},
   "outputs": [],
   "source": [
    "from osc_ingest_trino import *\n",
    "import pyarrow as pa\n",
    "import pyarrow.parquet as pq\n",
    "import json\n",
    "\n",
    "\n",
    "df = pd.read_sql(\"select facility_id, year, latest_reported_industry_type_sectors, total_reported_direct_emissions from epa_ghgrp.direct_emitters\", engine)\n",
    "df.dropna(how='any', inplace=True)\n",
    "df.facility_id = df.facility_id.astype('int64')\n",
    "df.year = df.year.astype('datetime64[ns, UTC]')\n",
    "df.total_reported_direct_emissions = df.total_reported_direct_emissions.astype('float64')\n",
    "\n",
    "sector_groupings = [(s[0], len(s)-1, s[1:]) for s in df.latest_reported_industry_type_sectors.str.split(',') if type(s)==list]\n",
    "from collections import defaultdict\n",
    "d = defaultdict(list)\n",
    "for s1, s2, s3 in sector_groupings:\n",
    "    if s2:\n",
    "        d[f'{s1} ({s2+1})']  = ','.join([s1] + s3)\n",
    "    else:\n",
    "        d[s1] = s1\n",
    "\n",
    "dinv_map = {v: k for k, v in d.items()}\n",
    "df['sector_groupings'] = df.latest_reported_industry_type_sectors.map(dinv_map)"
   ]
  },
  {
   "cell_type": "code",
   "execution_count": 25,
   "id": "e2d0fdd9-0b9e-44ad-8d35-42c0b726fa7b",
   "metadata": {},
   "outputs": [],
   "source": [
    "for sl in df.latest_reported_industry_type_sectors.str.split(','):\n",
    "    if type(sl)!=list:\n",
    "        continue\n",
    "    # Ensure all primary (and if listed, secondary) sectors are represented\n",
    "    if f's_{sl[0]}' not in df.columns:\n",
    "        df[f's_{sl[0]}'] = 0.0\n",
    "    if len(sl)>1 and f's_{sl[1]}' not in df.columns:\n",
    "        df[f's_{sl[1]}'] = 0.0"
   ]
  },
  {
   "cell_type": "code",
   "execution_count": 26,
   "id": "fe9aa90d-a3b4-4c66-85cf-9c0a062b844a",
   "metadata": {},
   "outputs": [],
   "source": [
    "attribution_vector = [ pd.Series([1.0]),\n",
    "                       pd.Series([2.0/3.0, 1.0/3.0]),\n",
    "                       pd.Series([0.5, 0.3, 0.2]),\n",
    "                       pd.Series([0.4, 0.3, 0.2, 0.1]),\n",
    "                       pd.Series([0.30, 0.25, 0.20, 0.15, 0.10]),\n",
    "                       pd.Series([0.30, 0.24, 0.19, 0.14, 0.09, 0.04])]\n",
    "\n",
    "def apply_attribution(x):\n",
    "    sl = x.latest_reported_industry_type_sectors.split(',')\n",
    "    # Tertiary sectors not previously mentioned are silently converted to Other, keeping our attribution columns from exploding\n",
    "    appropriate_columns = set([f's_{s}' if f's_{s}' in x else 's_Other' for s in sl])\n",
    "    x[ appropriate_columns ] = x.total_reported_direct_emissions * attribution_vector[len(appropriate_columns)-1].values\n",
    "    return x\n",
    "\n",
    "df_emitters = df.apply(apply_attribution, axis=1)\n",
    "enforce_sql_column_names(df_emitters, inplace=True)"
   ]
  },
  {
   "cell_type": "code",
   "execution_count": 27,
   "id": "df5e5497-c005-4296-b572-8ed52afc5283",
   "metadata": {},
   "outputs": [
    {
     "data": {
      "text/html": [
       "<div>\n",
       "<style scoped>\n",
       "    .dataframe tbody tr th:only-of-type {\n",
       "        vertical-align: middle;\n",
       "    }\n",
       "\n",
       "    .dataframe tbody tr th {\n",
       "        vertical-align: top;\n",
       "    }\n",
       "\n",
       "    .dataframe thead th {\n",
       "        text-align: right;\n",
       "    }\n",
       "</style>\n",
       "<table border=\"1\" class=\"dataframe\">\n",
       "  <thead>\n",
       "    <tr style=\"text-align: right;\">\n",
       "      <th></th>\n",
       "      <th>facility_id</th>\n",
       "      <th>year</th>\n",
       "      <th>latest_reported_industry_type_sectors</th>\n",
       "      <th>total_reported_direct_emissions</th>\n",
       "      <th>sector_groupings</th>\n",
       "      <th>s_waste</th>\n",
       "      <th>s_power_plants</th>\n",
       "      <th>s_petroleum_and_natural_gas_systems</th>\n",
       "      <th>s_minerals</th>\n",
       "      <th>s_other</th>\n",
       "      <th>...</th>\n",
       "      <th>s_industrial_gas_suppliers</th>\n",
       "      <th>s_metals</th>\n",
       "      <th>s_suppliers_of_co2</th>\n",
       "      <th>s_pulp_and_paper</th>\n",
       "      <th>s_petroleum_product_suppliers</th>\n",
       "      <th>s_refineries</th>\n",
       "      <th>s_injection_of_co2</th>\n",
       "      <th>s_natural_gas_and_natural_gas_liquids_suppliers</th>\n",
       "      <th>s_import_and_export_of_equipment_containing_fluorintaed_ghgs</th>\n",
       "      <th>s_coal_based_liquid_fuel_supply</th>\n",
       "    </tr>\n",
       "  </thead>\n",
       "  <tbody>\n",
       "    <tr>\n",
       "      <th>8</th>\n",
       "      <td>1004206</td>\n",
       "      <td>2020-01-01 00:00:00+00:00</td>\n",
       "      <td>Chemicals,Industrial Gas Suppliers</td>\n",
       "      <td>4.401626e+04</td>\n",
       "      <td>Chemicals (2)</td>\n",
       "      <td>0.000</td>\n",
       "      <td>0.000000e+00</td>\n",
       "      <td>0.000000</td>\n",
       "      <td>0.000000</td>\n",
       "      <td>0.00</td>\n",
       "      <td>...</td>\n",
       "      <td>14672.088008</td>\n",
       "      <td>0.0</td>\n",
       "      <td>0.000000</td>\n",
       "      <td>0.0</td>\n",
       "      <td>0.0</td>\n",
       "      <td>0.0</td>\n",
       "      <td>0.0</td>\n",
       "      <td>0.000000</td>\n",
       "      <td>0.0</td>\n",
       "      <td>0.0</td>\n",
       "    </tr>\n",
       "    <tr>\n",
       "      <th>9</th>\n",
       "      <td>1006665</td>\n",
       "      <td>2020-01-01 00:00:00+00:00</td>\n",
       "      <td>Chemicals,Industrial Gas Suppliers</td>\n",
       "      <td>6.578659e+05</td>\n",
       "      <td>Chemicals (2)</td>\n",
       "      <td>0.000</td>\n",
       "      <td>0.000000e+00</td>\n",
       "      <td>0.000000</td>\n",
       "      <td>0.000000</td>\n",
       "      <td>0.00</td>\n",
       "      <td>...</td>\n",
       "      <td>219288.632467</td>\n",
       "      <td>0.0</td>\n",
       "      <td>0.000000</td>\n",
       "      <td>0.0</td>\n",
       "      <td>0.0</td>\n",
       "      <td>0.0</td>\n",
       "      <td>0.0</td>\n",
       "      <td>0.000000</td>\n",
       "      <td>0.0</td>\n",
       "      <td>0.0</td>\n",
       "    </tr>\n",
       "    <tr>\n",
       "      <th>10</th>\n",
       "      <td>1004836</td>\n",
       "      <td>2020-01-01 00:00:00+00:00</td>\n",
       "      <td>Chemicals,Industrial Gas Suppliers,Minerals</td>\n",
       "      <td>4.954027e+04</td>\n",
       "      <td>NaN</td>\n",
       "      <td>0.000</td>\n",
       "      <td>0.000000e+00</td>\n",
       "      <td>0.000000</td>\n",
       "      <td>14862.081897</td>\n",
       "      <td>0.00</td>\n",
       "      <td>...</td>\n",
       "      <td>9908.054598</td>\n",
       "      <td>0.0</td>\n",
       "      <td>0.000000</td>\n",
       "      <td>0.0</td>\n",
       "      <td>0.0</td>\n",
       "      <td>0.0</td>\n",
       "      <td>0.0</td>\n",
       "      <td>0.000000</td>\n",
       "      <td>0.0</td>\n",
       "      <td>0.0</td>\n",
       "    </tr>\n",
       "    <tr>\n",
       "      <th>30</th>\n",
       "      <td>1002627</td>\n",
       "      <td>2020-01-01 00:00:00+00:00</td>\n",
       "      <td>Other,Waste</td>\n",
       "      <td>1.425194e+05</td>\n",
       "      <td>Other (2)</td>\n",
       "      <td>47506.450</td>\n",
       "      <td>0.000000e+00</td>\n",
       "      <td>0.000000</td>\n",
       "      <td>0.000000</td>\n",
       "      <td>95012.90</td>\n",
       "      <td>...</td>\n",
       "      <td>0.000000</td>\n",
       "      <td>0.0</td>\n",
       "      <td>0.000000</td>\n",
       "      <td>0.0</td>\n",
       "      <td>0.0</td>\n",
       "      <td>0.0</td>\n",
       "      <td>0.0</td>\n",
       "      <td>0.000000</td>\n",
       "      <td>0.0</td>\n",
       "      <td>0.0</td>\n",
       "    </tr>\n",
       "    <tr>\n",
       "      <th>33</th>\n",
       "      <td>1004761</td>\n",
       "      <td>2020-01-01 00:00:00+00:00</td>\n",
       "      <td>Other,Suppliers of CO2</td>\n",
       "      <td>6.930084e+04</td>\n",
       "      <td>NaN</td>\n",
       "      <td>0.000</td>\n",
       "      <td>0.000000e+00</td>\n",
       "      <td>0.000000</td>\n",
       "      <td>0.000000</td>\n",
       "      <td>46200.56</td>\n",
       "      <td>...</td>\n",
       "      <td>0.000000</td>\n",
       "      <td>0.0</td>\n",
       "      <td>23100.280000</td>\n",
       "      <td>0.0</td>\n",
       "      <td>0.0</td>\n",
       "      <td>0.0</td>\n",
       "      <td>0.0</td>\n",
       "      <td>0.000000</td>\n",
       "      <td>0.0</td>\n",
       "      <td>0.0</td>\n",
       "    </tr>\n",
       "    <tr>\n",
       "      <th>...</th>\n",
       "      <td>...</td>\n",
       "      <td>...</td>\n",
       "      <td>...</td>\n",
       "      <td>...</td>\n",
       "      <td>...</td>\n",
       "      <td>...</td>\n",
       "      <td>...</td>\n",
       "      <td>...</td>\n",
       "      <td>...</td>\n",
       "      <td>...</td>\n",
       "      <td>...</td>\n",
       "      <td>...</td>\n",
       "      <td>...</td>\n",
       "      <td>...</td>\n",
       "      <td>...</td>\n",
       "      <td>...</td>\n",
       "      <td>...</td>\n",
       "      <td>...</td>\n",
       "      <td>...</td>\n",
       "      <td>...</td>\n",
       "      <td>...</td>\n",
       "    </tr>\n",
       "    <tr>\n",
       "      <th>68335</th>\n",
       "      <td>1001822</td>\n",
       "      <td>2011-01-01 00:00:00+00:00</td>\n",
       "      <td>Minerals,Waste</td>\n",
       "      <td>1.017244e+05</td>\n",
       "      <td>Minerals (2)</td>\n",
       "      <td>33908.144</td>\n",
       "      <td>0.000000e+00</td>\n",
       "      <td>0.000000</td>\n",
       "      <td>67816.288000</td>\n",
       "      <td>0.00</td>\n",
       "      <td>...</td>\n",
       "      <td>0.000000</td>\n",
       "      <td>0.0</td>\n",
       "      <td>0.000000</td>\n",
       "      <td>0.0</td>\n",
       "      <td>0.0</td>\n",
       "      <td>0.0</td>\n",
       "      <td>0.0</td>\n",
       "      <td>0.000000</td>\n",
       "      <td>0.0</td>\n",
       "      <td>0.0</td>\n",
       "    </tr>\n",
       "    <tr>\n",
       "      <th>68373</th>\n",
       "      <td>1000912</td>\n",
       "      <td>2011-01-01 00:00:00+00:00</td>\n",
       "      <td>Petroleum and Natural Gas Systems,Power Plants</td>\n",
       "      <td>2.450750e+06</td>\n",
       "      <td>NaN</td>\n",
       "      <td>0.000</td>\n",
       "      <td>1.633833e+06</td>\n",
       "      <td>816916.640667</td>\n",
       "      <td>0.000000</td>\n",
       "      <td>0.00</td>\n",
       "      <td>...</td>\n",
       "      <td>0.000000</td>\n",
       "      <td>0.0</td>\n",
       "      <td>0.000000</td>\n",
       "      <td>0.0</td>\n",
       "      <td>0.0</td>\n",
       "      <td>0.0</td>\n",
       "      <td>0.0</td>\n",
       "      <td>0.000000</td>\n",
       "      <td>0.0</td>\n",
       "      <td>0.0</td>\n",
       "    </tr>\n",
       "    <tr>\n",
       "      <th>68412</th>\n",
       "      <td>1004143</td>\n",
       "      <td>2011-01-01 00:00:00+00:00</td>\n",
       "      <td>Petroleum and Natural Gas Systems,Suppliers of...</td>\n",
       "      <td>5.946525e+04</td>\n",
       "      <td>Petroleum and Natural Gas Systems (2)</td>\n",
       "      <td>0.000</td>\n",
       "      <td>0.000000e+00</td>\n",
       "      <td>39643.500000</td>\n",
       "      <td>0.000000</td>\n",
       "      <td>0.00</td>\n",
       "      <td>...</td>\n",
       "      <td>0.000000</td>\n",
       "      <td>0.0</td>\n",
       "      <td>19821.750000</td>\n",
       "      <td>0.0</td>\n",
       "      <td>0.0</td>\n",
       "      <td>0.0</td>\n",
       "      <td>0.0</td>\n",
       "      <td>0.000000</td>\n",
       "      <td>0.0</td>\n",
       "      <td>0.0</td>\n",
       "    </tr>\n",
       "    <tr>\n",
       "      <th>68414</th>\n",
       "      <td>1004137</td>\n",
       "      <td>2011-01-01 00:00:00+00:00</td>\n",
       "      <td>Petroleum and Natural Gas Systems,Suppliers of...</td>\n",
       "      <td>5.236050e+04</td>\n",
       "      <td>Petroleum and Natural Gas Systems (2)</td>\n",
       "      <td>0.000</td>\n",
       "      <td>0.000000e+00</td>\n",
       "      <td>34906.997333</td>\n",
       "      <td>0.000000</td>\n",
       "      <td>0.00</td>\n",
       "      <td>...</td>\n",
       "      <td>0.000000</td>\n",
       "      <td>0.0</td>\n",
       "      <td>17453.498667</td>\n",
       "      <td>0.0</td>\n",
       "      <td>0.0</td>\n",
       "      <td>0.0</td>\n",
       "      <td>0.0</td>\n",
       "      <td>0.000000</td>\n",
       "      <td>0.0</td>\n",
       "      <td>0.0</td>\n",
       "    </tr>\n",
       "    <tr>\n",
       "      <th>68415</th>\n",
       "      <td>1006270</td>\n",
       "      <td>2011-01-01 00:00:00+00:00</td>\n",
       "      <td>Natural Gas and Natural Gas Liquids Suppliers,...</td>\n",
       "      <td>7.174351e+04</td>\n",
       "      <td>Natural Gas and Natural Gas Liquids Suppliers (2)</td>\n",
       "      <td>0.000</td>\n",
       "      <td>0.000000e+00</td>\n",
       "      <td>23914.504667</td>\n",
       "      <td>0.000000</td>\n",
       "      <td>0.00</td>\n",
       "      <td>...</td>\n",
       "      <td>0.000000</td>\n",
       "      <td>0.0</td>\n",
       "      <td>0.000000</td>\n",
       "      <td>0.0</td>\n",
       "      <td>0.0</td>\n",
       "      <td>0.0</td>\n",
       "      <td>0.0</td>\n",
       "      <td>47829.009333</td>\n",
       "      <td>0.0</td>\n",
       "      <td>0.0</td>\n",
       "    </tr>\n",
       "  </tbody>\n",
       "</table>\n",
       "<p>6289 rows × 21 columns</p>\n",
       "</div>"
      ],
      "text/plain": [
       "       facility_id                      year  \\\n",
       "8          1004206 2020-01-01 00:00:00+00:00   \n",
       "9          1006665 2020-01-01 00:00:00+00:00   \n",
       "10         1004836 2020-01-01 00:00:00+00:00   \n",
       "30         1002627 2020-01-01 00:00:00+00:00   \n",
       "33         1004761 2020-01-01 00:00:00+00:00   \n",
       "...            ...                       ...   \n",
       "68335      1001822 2011-01-01 00:00:00+00:00   \n",
       "68373      1000912 2011-01-01 00:00:00+00:00   \n",
       "68412      1004143 2011-01-01 00:00:00+00:00   \n",
       "68414      1004137 2011-01-01 00:00:00+00:00   \n",
       "68415      1006270 2011-01-01 00:00:00+00:00   \n",
       "\n",
       "                   latest_reported_industry_type_sectors  \\\n",
       "8                     Chemicals,Industrial Gas Suppliers   \n",
       "9                     Chemicals,Industrial Gas Suppliers   \n",
       "10           Chemicals,Industrial Gas Suppliers,Minerals   \n",
       "30                                           Other,Waste   \n",
       "33                                Other,Suppliers of CO2   \n",
       "...                                                  ...   \n",
       "68335                                     Minerals,Waste   \n",
       "68373     Petroleum and Natural Gas Systems,Power Plants   \n",
       "68412  Petroleum and Natural Gas Systems,Suppliers of...   \n",
       "68414  Petroleum and Natural Gas Systems,Suppliers of...   \n",
       "68415  Natural Gas and Natural Gas Liquids Suppliers,...   \n",
       "\n",
       "       total_reported_direct_emissions  \\\n",
       "8                         4.401626e+04   \n",
       "9                         6.578659e+05   \n",
       "10                        4.954027e+04   \n",
       "30                        1.425194e+05   \n",
       "33                        6.930084e+04   \n",
       "...                                ...   \n",
       "68335                     1.017244e+05   \n",
       "68373                     2.450750e+06   \n",
       "68412                     5.946525e+04   \n",
       "68414                     5.236050e+04   \n",
       "68415                     7.174351e+04   \n",
       "\n",
       "                                        sector_groupings    s_waste  \\\n",
       "8                                          Chemicals (2)      0.000   \n",
       "9                                          Chemicals (2)      0.000   \n",
       "10                                                   NaN      0.000   \n",
       "30                                             Other (2)  47506.450   \n",
       "33                                                   NaN      0.000   \n",
       "...                                                  ...        ...   \n",
       "68335                                       Minerals (2)  33908.144   \n",
       "68373                                                NaN      0.000   \n",
       "68412              Petroleum and Natural Gas Systems (2)      0.000   \n",
       "68414              Petroleum and Natural Gas Systems (2)      0.000   \n",
       "68415  Natural Gas and Natural Gas Liquids Suppliers (2)      0.000   \n",
       "\n",
       "       s_power_plants  s_petroleum_and_natural_gas_systems    s_minerals  \\\n",
       "8        0.000000e+00                             0.000000      0.000000   \n",
       "9        0.000000e+00                             0.000000      0.000000   \n",
       "10       0.000000e+00                             0.000000  14862.081897   \n",
       "30       0.000000e+00                             0.000000      0.000000   \n",
       "33       0.000000e+00                             0.000000      0.000000   \n",
       "...               ...                                  ...           ...   \n",
       "68335    0.000000e+00                             0.000000  67816.288000   \n",
       "68373    1.633833e+06                        816916.640667      0.000000   \n",
       "68412    0.000000e+00                         39643.500000      0.000000   \n",
       "68414    0.000000e+00                         34906.997333      0.000000   \n",
       "68415    0.000000e+00                         23914.504667      0.000000   \n",
       "\n",
       "        s_other  ...  s_industrial_gas_suppliers  s_metals  \\\n",
       "8          0.00  ...                14672.088008       0.0   \n",
       "9          0.00  ...               219288.632467       0.0   \n",
       "10         0.00  ...                 9908.054598       0.0   \n",
       "30     95012.90  ...                    0.000000       0.0   \n",
       "33     46200.56  ...                    0.000000       0.0   \n",
       "...         ...  ...                         ...       ...   \n",
       "68335      0.00  ...                    0.000000       0.0   \n",
       "68373      0.00  ...                    0.000000       0.0   \n",
       "68412      0.00  ...                    0.000000       0.0   \n",
       "68414      0.00  ...                    0.000000       0.0   \n",
       "68415      0.00  ...                    0.000000       0.0   \n",
       "\n",
       "       s_suppliers_of_co2  s_pulp_and_paper  s_petroleum_product_suppliers  \\\n",
       "8                0.000000               0.0                            0.0   \n",
       "9                0.000000               0.0                            0.0   \n",
       "10               0.000000               0.0                            0.0   \n",
       "30               0.000000               0.0                            0.0   \n",
       "33           23100.280000               0.0                            0.0   \n",
       "...                   ...               ...                            ...   \n",
       "68335            0.000000               0.0                            0.0   \n",
       "68373            0.000000               0.0                            0.0   \n",
       "68412        19821.750000               0.0                            0.0   \n",
       "68414        17453.498667               0.0                            0.0   \n",
       "68415            0.000000               0.0                            0.0   \n",
       "\n",
       "       s_refineries  s_injection_of_co2  \\\n",
       "8               0.0                 0.0   \n",
       "9               0.0                 0.0   \n",
       "10              0.0                 0.0   \n",
       "30              0.0                 0.0   \n",
       "33              0.0                 0.0   \n",
       "...             ...                 ...   \n",
       "68335           0.0                 0.0   \n",
       "68373           0.0                 0.0   \n",
       "68412           0.0                 0.0   \n",
       "68414           0.0                 0.0   \n",
       "68415           0.0                 0.0   \n",
       "\n",
       "       s_natural_gas_and_natural_gas_liquids_suppliers  \\\n",
       "8                                             0.000000   \n",
       "9                                             0.000000   \n",
       "10                                            0.000000   \n",
       "30                                            0.000000   \n",
       "33                                            0.000000   \n",
       "...                                                ...   \n",
       "68335                                         0.000000   \n",
       "68373                                         0.000000   \n",
       "68412                                         0.000000   \n",
       "68414                                         0.000000   \n",
       "68415                                     47829.009333   \n",
       "\n",
       "       s_import_and_export_of_equipment_containing_fluorintaed_ghgs  \\\n",
       "8                                                    0.0              \n",
       "9                                                    0.0              \n",
       "10                                                   0.0              \n",
       "30                                                   0.0              \n",
       "33                                                   0.0              \n",
       "...                                                  ...              \n",
       "68335                                                0.0              \n",
       "68373                                                0.0              \n",
       "68412                                                0.0              \n",
       "68414                                                0.0              \n",
       "68415                                                0.0              \n",
       "\n",
       "       s_coal_based_liquid_fuel_supply  \n",
       "8                                  0.0  \n",
       "9                                  0.0  \n",
       "10                                 0.0  \n",
       "30                                 0.0  \n",
       "33                                 0.0  \n",
       "...                                ...  \n",
       "68335                              0.0  \n",
       "68373                              0.0  \n",
       "68412                              0.0  \n",
       "68414                              0.0  \n",
       "68415                              0.0  \n",
       "\n",
       "[6289 rows x 21 columns]"
      ]
     },
     "execution_count": 27,
     "metadata": {},
     "output_type": "execute_result"
    }
   ],
   "source": [
    "df_emitters[df_emitters.latest_reported_industry_type_sectors.str.contains(',')]"
   ]
  },
  {
   "cell_type": "code",
   "execution_count": 28,
   "id": "fcc3bac7-99c0-459a-98b7-5764cc7f23e0",
   "metadata": {},
   "outputs": [
    {
     "data": {
      "text/plain": [
       "[(True,)]"
      ]
     },
     "execution_count": 28,
     "metadata": {},
     "output_type": "execute_result"
    }
   ],
   "source": [
    "import uuid\n",
    "ingest_uuid = str(uuid.uuid4())\n",
    "\n",
    "custom_meta_key_fields = 'metafields'\n",
    "custom_meta_key = 'metaset'\n",
    "\n",
    "from datetime import *\n",
    "ingest_schema = 'ghgrp_demo'\n",
    "timestamp = str(datetime.now())\n",
    "\n",
    "qres = engine.execute(f'create schema if not exists {ingest_schema}')\n",
    "qres.fetchall()"
   ]
  },
  {
   "cell_type": "code",
   "execution_count": 29,
   "id": "7c5a6aa5-1fb2-473f-b120-5df6dcbec63a",
   "metadata": {},
   "outputs": [],
   "source": [
    "def create_trino_pipeline (s3, schemaname, tablename, timestamp, df, meta_fields, meta_content):\n",
    "    global ingest_uuid\n",
    "    global custom_meta_key_fields, custom_meta_key\n",
    "    \n",
    "    # First convert dataframe to pyarrow for type conversion and basic metadata\n",
    "    table = pa.Table.from_pandas(df)\n",
    "    # Second, since pyarrow tables are immutable, create a new table with additional combined metadata\n",
    "    if meta_fields or meta_content:\n",
    "        meta_json_fields = json.dumps(meta_fields)\n",
    "        meta_json = json.dumps(meta_content)\n",
    "        existing_meta = table.schema.metadata\n",
    "        combined_meta = {\n",
    "            custom_meta_key_fields.encode(): meta_json_fields.encode(),\n",
    "            custom_meta_key.encode(): meta_json.encode(),\n",
    "            **existing_meta\n",
    "        }\n",
    "        table = table.replace_schema_metadata(combined_meta)\n",
    "    # Third, convert table to parquet format (which cannot be written directly to s3)\n",
    "    pq.write_table(table, f'/tmp/{schemaname}.{tablename}.{ingest_uuid}.{timestamp}.parquet')\n",
    "    # df.to_parquet(f'/tmp/{schemaname}.{tablename}.{uuid}.parquet', index=False)\n",
    "    # Fourth, put the parquet-ified data into our S3 bucket for trino.  We cannot compute parquet format directly to S3 but we can copy it once computed\n",
    "    s3.upload_file(\n",
    "        Bucket=os.environ['S3_DEV_BUCKET'],\n",
    "        Key=f'trino/{schemaname}/{tablename}/{ingest_uuid}/{timestamp}/data.parquet',\n",
    "        Filename=f'/tmp/{schemaname}.{tablename}.{ingest_uuid}.{timestamp}.parquet'\n",
    "    )\n",
    "    # Finally, create the trino table backed by our parquet files enhanced by our metadata\n",
    "    qres = engine.execute(f'drop table if exists {schemaname}.{tablename}')\n",
    "    print(f'dropping table: {tablename}')\n",
    "    qres.fetchall()\n",
    "    \n",
    "    columnschema = create_table_schema_pairs(df)\n",
    "\n",
    "    tabledef = f\"\"\"create table if not exists {schemaname}.{tablename}(\n",
    "{columnschema}\n",
    ") with (\n",
    "    format = 'parquet',\n",
    "    external_location = 's3a://{os.environ['S3_DEV_BUCKET']}/trino/{schemaname}/{tablename}/{ingest_uuid}/{timestamp}'\n",
    ")\"\"\"\n",
    "    print(tabledef)\n",
    "\n",
    "    # tables created externally may not show up immediately in cloud-beaver\n",
    "    qres = engine.execute(tabledef)\n",
    "    qres.fetchall()"
   ]
  },
  {
   "cell_type": "code",
   "execution_count": 30,
   "id": "306328e7-66e3-4fb9-a40d-2a9b21b4ec91",
   "metadata": {},
   "outputs": [],
   "source": [
    "import boto3\n",
    "\n",
    "# Create an S3 client.  We will user later when we write out data and metadata\n",
    "s3_trino = boto3.client(\n",
    "    service_name=\"s3\",\n",
    "    endpoint_url=os.environ['S3_DEV_ENDPOINT'],\n",
    "    aws_access_key_id=os.environ['S3_DEV_ACCESS_KEY'],\n",
    "    aws_secret_access_key=os.environ['S3_DEV_SECRET_KEY'],\n",
    ")"
   ]
  },
  {
   "cell_type": "code",
   "execution_count": 31,
   "id": "07219bbc-bf31-4449-b754-1e34e12481df",
   "metadata": {},
   "outputs": [
    {
     "name": "stdout",
     "output_type": "stream",
     "text": [
      "dropping table: direct_emitters_attributed\n",
      "create table if not exists ghgrp_demo.direct_emitters_attributed(\n",
      "    facility_id bigint,\n",
      "    year timestamp,\n",
      "    latest_reported_industry_type_sectors varchar,\n",
      "    total_reported_direct_emissions double,\n",
      "    sector_groupings varchar,\n",
      "    s_waste double,\n",
      "    s_power_plants double,\n",
      "    s_petroleum_and_natural_gas_systems double,\n",
      "    s_minerals double,\n",
      "    s_other double,\n",
      "    s_chemicals double,\n",
      "    s_industrial_gas_suppliers double,\n",
      "    s_metals double,\n",
      "    s_suppliers_of_co2 double,\n",
      "    s_pulp_and_paper double,\n",
      "    s_petroleum_product_suppliers double,\n",
      "    s_refineries double,\n",
      "    s_injection_of_co2 double,\n",
      "    s_natural_gas_and_natural_gas_liquids_suppliers double,\n",
      "    s_import_and_export_of_equipment_containing_fluorintaed_ghgs double,\n",
      "    s_coal_based_liquid_fuel_supply double\n",
      ") with (\n",
      "    format = 'parquet',\n",
      "    external_location = 's3a://ocp-odh-os-demo-s3/trino/ghgrp_demo/direct_emitters_attributed/023dcd39-5a85-4617-8a30-7ddcb1fc8820/2021-11-30 03:47:15.348210'\n",
      ")\n"
     ]
    }
   ],
   "source": [
    "custom_meta_content = { 'foo':'bar'}\n",
    "custom_meta_fields = { 'GHGRP FACILITY ID':'GHGRP FACILITY ID'}\n",
    "\n",
    "tablename = 'direct_emitters_attributed'\n",
    "create_trino_pipeline (s3_trino, ingest_schema, tablename, timestamp, df_emitters, custom_meta_fields, custom_meta_content)"
   ]
  },
  {
   "cell_type": "raw",
   "id": "8a540101-d984-465f-8fb6-a0171e32ba87",
   "metadata": {},
   "source": [
    "Things start getting tricky here.  The `FACILITY_ID` is a primary key in tables like `DIRECT_EMITTERS`.  The Plum Point Energy Station (#1000539) has 5 owners, meaning there are 5 entries in the `parent_copmany` table with #1000539 as the `GHGRP_FACILITY_ID`.  If not careful, that plant's 3.4M Mt CO2e could be reported as 5x as much if each owner picks up the full attribution of those emissions.  Similarly, the DERA data is both annual (10-K) and quarterly (10-Q), which means that an interesting datapoints can occur 4 times per year.  We must take care when connecting annually-reported data to quarterly-reported data.  So...BEWARE!"
   ]
  },
  {
   "cell_type": "markdown",
   "id": "81001fc3-b01d-4d50-af3b-f44a2d3c0d49",
   "metadata": {},
   "source": [
    "`direct_emitters_oc` gives us an \"owner count (oc)\" so we can pick facilities that make joins and math easier.\n",
    "\n",
    "### When we join tables, it is important to select not only where oc=1 but also where parent_company.lsi is not null (and year=reporting_year)"
   ]
  },
  {
   "cell_type": "code",
   "execution_count": 32,
   "id": "344bf26e-073d-4b21-854a-9d7925d7689d",
   "metadata": {},
   "outputs": [
    {
     "data": {
      "text/plain": [
       "[(52074,)]"
      ]
     },
     "execution_count": 32,
     "metadata": {},
     "output_type": "execute_result"
    }
   ],
   "source": [
    "# Count how many rows of data we have from EPA GHGRP data.  The original datset has about 68K rows for all 10 years.\n",
    "\n",
    "qres = engine.execute('drop table if exists ghgrp_demo.direct_emitters_oc')\n",
    "qres.fetchall()\n",
    "qres = engine.execute(f\"\"\"\n",
    "create table ghgrp_demo.direct_emitters_oc as select facility_id, year, count (ghgrp_facility_id) as oc\n",
    "from ghgrp_demo.direct_emitters_attributed, epa_ghgrp.parent_company\n",
    "where ghgrp_demo.direct_emitters_attributed.facility_id=epa_ghgrp.parent_company.ghgrp_facility_id\n",
    "and ghgrp_demo.direct_emitters_attributed.year=parent_company.reporting_year\n",
    "and parent_company.lei is not null\n",
    "group by facility_id, year\n",
    "\"\"\")\n",
    "qres.fetchall()"
   ]
  },
  {
   "cell_type": "markdown",
   "id": "46a6962c-b269-444b-ac93-4595a6909739",
   "metadata": {},
   "source": [
    "Here's an example of a facility with many owners..."
   ]
  },
  {
   "cell_type": "code",
   "execution_count": 33,
   "id": "87847c4e-9c57-4190-9a5e-d5554b6f8377",
   "metadata": {},
   "outputs": [
    {
     "data": {
      "text/plain": [
       "[(1005071, '110000702730', '2549000NXAL5JJHJYT18', '2020-01-01 00:00:00.000', 'North Terrebonne Gas Plant', '449 Shell E&P Court', 'Gibson', 'LA', '70358', 'TERREBONNE PARISH', 'ENERGY RESOURCES TECHNOLOGY LAND INC', '400 N Sam Houston Parkway East, Suite 400', 'Houston', 'TX', '77060', 0.95, '211130'),\n",
       " (1005071, '110000702730', '54930000S35EESPK1C27', '2020-01-01 00:00:00.000', 'North Terrebonne Gas Plant', '449 Shell E&P Court', 'Gibson', 'LA', '70358', 'TERREBONNE PARISH', 'BYRON ENERGY LLC', '100 Rue Iberville #110', 'Lafayette', 'LA', '70508', 0.64, '211130'),\n",
       " (1005071, '110000702730', '5493003QENHHS261UR94', '2020-01-01 00:00:00.000', 'North Terrebonne Gas Plant', '449 Shell E&P Court', 'Gibson', 'LA', '70358', 'TERREBONNE PARISH', 'TARGA RESOURCES CORP', '1000 Louisiana', 'Houston', 'TX', '77002', 4.75, '211130'),\n",
       " (1005071, '110000702730', '5493005Y7TJPYWLDEO18', '2020-01-01 00:00:00.000', 'North Terrebonne Gas Plant', '449 Shell E&P Court', 'Gibson', 'LA', '70358', 'TERREBONNE PARISH', 'ARENA ENERGY LP', '4200 Research Forest Drive', 'Spring', 'TX', '77381', 1.34, '211130'),\n",
       " (1005071, '110000702730', '5493007VQUSLFRDRBT52', '2020-01-01 00:00:00.000', 'North Terrebonne Gas Plant', '449 Shell E&P Court', 'Gibson', 'LA', '70358', 'TERREBONNE PARISH', 'SUPERIOR NATURAL GAS CORP', '1100 Louisiana St.', 'Houston', 'TX', '77002', 0.69, '211130'),\n",
       " (1005071, '110000702730', '549300HX0ISXOOEMR657', '2020-01-01 00:00:00.000', 'North Terrebonne Gas Plant', '449 Shell E&P Court', 'Gibson', 'LA', '70358', 'TERREBONNE PARISH', 'BLACK ELK ENERGY OFFSHORE OPERATIONS LLC', '11451 Katy Freeway', 'Houston', 'TX', '77079', 0.28, '211130'),\n",
       " (1005071, '110000702730', '549300IRDTHJQ1PVET45', '2020-01-01 00:00:00.000', 'North Terrebonne Gas Plant', '449 Shell E&P Court', 'Gibson', 'LA', '70358', 'TERREBONNE PARISH', 'FREEPORT-MCMORAN INC', '1615 Poydras Street', 'New Orleans', 'LA', '70112', 0.39, '211130'),\n",
       " (1005071, '110000702730', '549300ITPIHLG0LHEC09', '2020-01-01 00:00:00.000', 'North Terrebonne Gas Plant', '449 Shell E&P Court', 'Gibson', 'LA', '70358', 'TERREBONNE PARISH', 'HILCORP ENERGY CO', '1201 Louisiana', 'Houston', 'TX', '77002', 0.95, '211130'),\n",
       " (1005071, '110000702730', '549300NBDON5LHICQC34', '2020-01-01 00:00:00.000', 'North Terrebonne Gas Plant', '449 Shell E&P Court', 'Gibson', 'LA', '70358', 'TERREBONNE PARISH', 'ANKOR E&P HOLDINGS CORP', '5555 San Felipe ', 'Houston', 'TX', '77056', 0.99, '211130'),\n",
       " (1005071, '110000702730', '549300Q7EOY2YIO3YK85', '2020-01-01 00:00:00.000', 'North Terrebonne Gas Plant', '449 Shell E&P Court', 'Gibson', 'LA', '70358', 'TERREBONNE PARISH', 'W&T OFFSHORE INC', '9 Greenway Plaza', 'Houston', 'TX', '77046', 5.17, '211130'),\n",
       " (1005071, '110000702730', '549300T5W131705EK832', '2020-01-01 00:00:00.000', 'North Terrebonne Gas Plant', '449 Shell E&P Court', 'Gibson', 'LA', '70358', 'TERREBONNE PARISH', 'TETRA TECHNOLOGIES INC', '25025 Interstate 45', 'The Woodlands', 'TX', '77380', 0.24, '211130'),\n",
       " (1005071, '110000702730', '549300U6FOM7FA4BEV90', '2020-01-01 00:00:00.000', 'North Terrebonne Gas Plant', '449 Shell E&P Court', 'Gibson', 'LA', '70358', 'TERREBONNE PARISH', 'SAMSUNG OIL & GAS USA CORP', '757 N Eldridge Parkway', 'Houston', 'TX', '77079', 0.27, '211130'),\n",
       " (1005071, '110000702730', '72ZZ1XRHOOU9P9X16K08', '2020-01-01 00:00:00.000', 'North Terrebonne Gas Plant', '449 Shell E&P Court', 'Gibson', 'LA', '70358', 'TERREBONNE PARISH', 'APACHE CORP', '2000 Post Oak', 'Houston', 'TX', '77056', 2.25, '211130'),\n",
       " (1005071, '110000702730', 'J3WHBG0MTS7O8ZVMDC91', '2020-01-01 00:00:00.000', 'North Terrebonne Gas Plant', '449 Shell E&P Court', 'Gibson', 'LA', '70358', 'TERREBONNE PARISH', 'EXXON MOBIL CORP', '800 Bell Street', 'Houston', 'TX', '77002', 3.04, '211130'),\n",
       " (1005071, '110000702730', 'K4CDIF4M54DJZ6TB4Q48', '2020-01-01 00:00:00.000', 'North Terrebonne Gas Plant', '449 Shell E&P Court', 'Gibson', 'LA', '70358', 'TERREBONNE PARISH', 'ENTERPRISE PRODUCTS PARTNERS LP', '1100 Louisiana', 'Houston', 'TX', '77002', 64.19, '211130'),\n",
       " (1005071, '110000702730', 'VQOHU6HCVU6YY1KUKU03', '2020-01-01 00:00:00.000', 'North Terrebonne Gas Plant', '449 Shell E&P Court', 'Gibson', 'LA', '70358', 'TERREBONNE PARISH', 'DCP MIDSTREAM LP', '370 17th Street, Suite 2500', 'Denver', 'CO', '80202', 6.9, '211130'),\n",
       " (1005071, '110000702730', 'WPTL2Z3FIYTHSP5V2253', '2020-01-01 00:00:00.000', 'North Terrebonne Gas Plant', '449 Shell E&P Court', 'Gibson', 'LA', '70358', 'TERREBONNE PARISH', 'CONOCOPHILLIPS', '600 North Dairy Ashford', 'Houston', 'TX', '77079', 0.38, '211130'),\n",
       " (1005071, '110000702730', None, '2020-01-01 00:00:00.000', 'North Terrebonne Gas Plant', '449 Shell E&P Court', 'Gibson', 'LA', '70358', 'TERREBONNE PARISH', 'LEED PETROLEUM LLC', '400 East Kaliste Saloom Road', 'Lafayette', 'LA', '70508', 2.56, '211130'),\n",
       " (1005071, '110000702730', None, '2020-01-01 00:00:00.000', 'North Terrebonne Gas Plant', '449 Shell E&P Court', 'Gibson', 'LA', '70358', 'TERREBONNE PARISH', 'UNION EXPLORATION PARTNERS LTD', 'Highway 332 & Intercoastal Waterway', 'Houston', 'TX', '77541', 1.12, '211130'),\n",
       " (1005071, '110000702730', None, '2020-01-01 00:00:00.000', 'North Terrebonne Gas Plant', '449 Shell E&P Court', 'Gibson', 'LA', '70358', 'TERREBONNE PARISH', 'GRIZZLY ENERGY LLC', '1415 Louisiana #2700', 'Houston', 'TX', '77002', 1.67, '211130'),\n",
       " (1005071, '110000702730', None, '2020-01-01 00:00:00.000', 'North Terrebonne Gas Plant', '449 Shell E&P Court', 'Gibson', 'LA', '70358', 'TERREBONNE PARISH', 'ENI PETROLEUM CO INC', '1201 Louisiana', 'Houston', 'TX', '77002', 1.23, '211130')]"
      ]
     },
     "execution_count": 33,
     "metadata": {},
     "output_type": "execute_result"
    }
   ],
   "source": [
    "qres = engine.execute(\"select * from epa_ghgrp.parent_company where reporting_year=DATE('2020-01-01') and ghgrp_facility_id=1005071 order by lei\")\n",
    "qres.fetchall()"
   ]
  },
  {
   "cell_type": "markdown",
   "id": "8ac88c9d-2e37-4180-b1bd-3218c884a759",
   "metadata": {},
   "source": [
    "...meaning 10 rows of data that's outside our easy-to-aggregate data"
   ]
  },
  {
   "cell_type": "code",
   "execution_count": 34,
   "id": "94486cf4-341a-4d32-b574-1e68f77ce619",
   "metadata": {
    "tags": []
   },
   "outputs": [
    {
     "data": {
      "text/plain": [
       "[(1005071, '110000702730', 'North Terrebonne Gas Plant', 'Gibson', 'LA', '70358', '449 Shell E&P Court', 'TERREBONNE PARISH', 29.6257, -90.9289, '211130', 'C,W-PROC', 'Petroleum and Natural Gas Systems', 383446.646, '2011-01-01 00:00:00.000'),\n",
       " (1005071, '110000702730', 'North Terrebonne Gas Plant', 'Gibson', 'LA', '70358', '449 Shell E&P Court', 'TERREBONNE PARISH', 29.6257, -90.9289, '211130', 'C,W-PROC', 'Petroleum and Natural Gas Systems', 339163.524, '2012-01-01 00:00:00.000'),\n",
       " (1005071, '110000702730', 'North Terrebonne Gas Plant', 'Gibson', 'LA', '70358', '449 Shell E&P Court', 'TERREBONNE PARISH', 29.6257, -90.9289, '211130', 'C,W-PROC', 'Petroleum and Natural Gas Systems', 313640.418, '2013-01-01 00:00:00.000'),\n",
       " (1005071, '110000702730', 'North Terrebonne Gas Plant', 'Gibson', 'LA', '70358', '449 Shell E&P Court', 'TERREBONNE PARISH', 29.6257, -90.9289, '211130', 'C,W-PROC', 'Petroleum and Natural Gas Systems', 312585.924, '2014-01-01 00:00:00.000'),\n",
       " (1005071, '110000702730', 'North Terrebonne Gas Plant', 'Gibson', 'LA', '70358', '449 Shell E&P Court', 'TERREBONNE PARISH', 29.6257, -90.9289, '211130', 'C,W-PROC', 'Petroleum and Natural Gas Systems', 292713.398, '2015-01-01 00:00:00.000'),\n",
       " (1005071, '110000702730', 'North Terrebonne Gas Plant', 'Gibson', 'LA', '70358', '449 Shell E&P Court', 'TERREBONNE PARISH', 29.6257, -90.9289, '211130', 'C,W-PROC', 'Petroleum and Natural Gas Systems', 216519.086, '2016-01-01 00:00:00.000'),\n",
       " (1005071, '110000702730', 'North Terrebonne Gas Plant', 'Gibson', 'LA', '70358', '449 Shell E&P Court', 'TERREBONNE PARISH', 29.6257, -90.9289, '211130', 'C,W-PROC', 'Petroleum and Natural Gas Systems', 194438.318, '2017-01-01 00:00:00.000'),\n",
       " (1005071, '110000702730', 'North Terrebonne Gas Plant', 'Gibson', 'LA', '70358', '449 Shell E&P Court', 'TERREBONNE PARISH', 29.6257, -90.9289, '211130', 'C,W-PROC', 'Petroleum and Natural Gas Systems', 229860.336, '2018-01-01 00:00:00.000'),\n",
       " (1005071, '110000702730', 'North Terrebonne Gas Plant', 'Gibson', 'LA', '70358', '449 Shell E&P Court', 'TERREBONNE PARISH', 29.6257, -90.9289, '211130', 'C,W-PROC', 'Petroleum and Natural Gas Systems', 307975.99, '2019-01-01 00:00:00.000'),\n",
       " (1005071, '110000702730', 'North Terrebonne Gas Plant', 'Gibson', 'LA', '70358', '449 Shell E&P Court', 'TERREBONNE PARISH', 29.6257, -90.9289, '211130', 'C,W-PROC', 'Petroleum and Natural Gas Systems', 45206.88, '2020-01-01 00:00:00.000')]"
      ]
     },
     "execution_count": 34,
     "metadata": {},
     "output_type": "execute_result"
    }
   ],
   "source": [
    "qres = engine.execute('select * from epa_ghgrp.direct_emitters where facility_id=1005071 order by year')\n",
    "qres.fetchall()"
   ]
  },
  {
   "cell_type": "markdown",
   "id": "ec65c04a-1e8e-4d65-8d11-338980e8371c",
   "metadata": {},
   "source": [
    "Of the 52K rows of emissions we have, how many **_facilities_** are present in CY2020 data with OC=1?"
   ]
  },
  {
   "cell_type": "code",
   "execution_count": 35,
   "id": "aae79cc9-39b0-4011-a7ab-c64d1aba3bde",
   "metadata": {},
   "outputs": [
    {
     "data": {
      "text/plain": [
       "[(4823, '2020-01-01 00:00:00.000')]"
      ]
     },
     "execution_count": 35,
     "metadata": {},
     "output_type": "execute_result"
    }
   ],
   "source": [
    "qres = engine.execute(f\"\"\"select count (*), ghgrp_demo.direct_emitters_oc.year\n",
    "from epa_ghgrp.parent_company, ghgrp_demo.direct_emitters_oc\n",
    "where epa_ghgrp.parent_company.ghgrp_facility_id=ghgrp_demo.direct_emitters_oc.facility_id\n",
    "and epa_ghgrp.parent_company.reporting_year=ghgrp_demo.direct_emitters_oc.year\n",
    "and ghgrp_demo.direct_emitters_oc.oc=1\n",
    "and reporting_year >= DATE('2020-01-01')\n",
    "group by ghgrp_demo.direct_emitters_oc.year\n",
    "\"\"\")\n",
    "qres.fetchall()"
   ]
  },
  {
   "cell_type": "markdown",
   "id": "9133ec21-82ac-456b-9a50-613600a14437",
   "metadata": {},
   "source": [
    "Of the 4823 rows of CY2020 emissions data we have, how many **_facilities owned by public companies_** match to corporate reports we can see using the SEC's DERA dataset?"
   ]
  },
  {
   "cell_type": "code",
   "execution_count": 36,
   "id": "7f502b2b-b9f2-4c1b-b03c-78a5aee2d3c8",
   "metadata": {},
   "outputs": [
    {
     "data": {
      "text/plain": [
       "[(2651, '2020-01-01 00:00:00.000')]"
      ]
     },
     "execution_count": 36,
     "metadata": {},
     "output_type": "execute_result"
    }
   ],
   "source": [
    "qres = engine.execute(f\"\"\"select count (*), ghgrp_demo.direct_emitters_oc.year\n",
    "from epa_ghgrp.parent_company, ghgrp_demo.direct_emitters_oc, sec_dera.sub\n",
    "where form='10-K'\n",
    "and epa_ghgrp.parent_company.ghgrp_facility_id=ghgrp_demo.direct_emitters_oc.facility_id\n",
    "and epa_ghgrp.parent_company.reporting_year=ghgrp_demo.direct_emitters_oc.year\n",
    "and ghgrp_demo.direct_emitters_oc.oc=1\n",
    "and reporting_year >= DATE('2020-01-01') and filed >= DATE('2020-01-01') and filed < DATE('2021-01-01')\n",
    "and epa_ghgrp.parent_company.lei=sec_dera.sub.lei and epa_ghgrp.parent_company.lei is not null\n",
    "group by ghgrp_demo.direct_emitters_oc.year\n",
    "order by ghgrp_demo.direct_emitters_oc.year desc\n",
    "\"\"\")\n",
    "qres.fetchall()"
   ]
  },
  {
   "cell_type": "markdown",
   "id": "e0ce70f0-dfeb-4c7d-a144-bce48b425aaf",
   "metadata": {},
   "source": [
    "We can tie these companies to ticker symbols..."
   ]
  },
  {
   "cell_type": "code",
   "execution_count": 37,
   "id": "caac6388-9fa6-46e2-89b5-1096dd466fb9",
   "metadata": {},
   "outputs": [
    {
     "data": {
      "text/plain": [
       "[(320193, 'aapl'),\n",
       " (789019, 'msft'),\n",
       " (1652044, 'goog'),\n",
       " (1018724, 'amzn'),\n",
       " (1318605, 'tsla'),\n",
       " (1326801, 'fb'),\n",
       " (40545, 'ge'),\n",
       " (1067983, 'brk-a'),\n",
       " (1046179, 'tsm'),\n",
       " (1293451, 'tcehy')]"
      ]
     },
     "execution_count": 37,
     "metadata": {},
     "output_type": "execute_result"
    }
   ],
   "source": [
    "qres = engine.execute(f\"\"\"select * from sec_dera.ticker limit 10\"\"\")\n",
    "qres.fetchall()"
   ]
  },
  {
   "cell_type": "markdown",
   "id": "8748ac18-59aa-4c55-9351-9d16db1b28b5",
   "metadata": {},
   "source": [
    "How many distinct companies own these facilities (and what are their ticker symbols)?"
   ]
  },
  {
   "cell_type": "code",
   "execution_count": 38,
   "id": "065ae190-4b46-4cc4-abed-715d2332d8f9",
   "metadata": {},
   "outputs": [
    {
     "name": "stdout",
     "output_type": "stream",
     "text": [
      "365\n"
     ]
    }
   ],
   "source": [
    "qres = engine.execute(f\"\"\"\n",
    "with leis as (select DISTINCT(sec_dera.sub.lei), if(tname IS NULL, '<private>', tname) as ticker\n",
    "              from epa_ghgrp.parent_company,sec_dera.sub,sec_dera.ticker\n",
    "              where epa_ghgrp.parent_company.lei=sec_dera.sub.lei and form='10-K'\n",
    "              and sec_dera.sub.cik=sec_dera.ticker.cik\n",
    "              and period>=DATE('2020-01-01')\n",
    "              and period<DATE('2021-01-01'))\n",
    "select count (*), ticker, leis.lei, parent_company_name, reporting_year\n",
    "from epa_ghgrp.parent_company, ghgrp_demo.direct_emitters_oc, leis\n",
    "where ghgrp_demo.direct_emitters_oc.oc=1\n",
    "and reporting_year >= DATE('2020-01-01') and year=reporting_year\n",
    "and epa_ghgrp.parent_company.lei=leis.lei\n",
    "and epa_ghgrp.parent_company.ghgrp_facility_id=ghgrp_demo.direct_emitters_oc.facility_id\n",
    "group by leis.ticker, leis.lei, parent_company_name, reporting_year\n",
    "order by count(*) desc\n",
    "-- limit 10\n",
    "\"\"\")\n",
    "ticker_list = qres.fetchall()\n",
    "print(len(ticker_list))"
   ]
  },
  {
   "cell_type": "markdown",
   "id": "83b777c0-ed9c-46b7-8f55-4d3411ad7243",
   "metadata": {},
   "source": [
    "Note that some comapnies have more than one ticker symbol!"
   ]
  },
  {
   "cell_type": "code",
   "execution_count": 39,
   "id": "6de62aab-52e4-4fd5-98d6-bcc4499f5754",
   "metadata": {},
   "outputs": [
    {
     "data": {
      "text/plain": [
       "[(228, 'wm', '549300YX8JIID70NFS41', 'WASTE MANAGEMENT INC', '2020-01-01 00:00:00.000'),\n",
       " (162, 'rsg', 'NKNQHM6BLECKVOQP7O46', 'REPUBLIC SERVICES INC', '2020-01-01 00:00:00.000'),\n",
       " (160, 'ep-pc', '549300WR7IX8XE0TBO16', 'KINDER MORGAN INC', '2020-01-01 00:00:00.000'),\n",
       " (160, 'kmi', '549300WR7IX8XE0TBO16', 'KINDER MORGAN INC', '2020-01-01 00:00:00.000'),\n",
       " (108, 'et-pc', 'MTLVN9N7JE8MIBIJ1H73', 'ENERGY TRANSFER LP', '2020-01-01 00:00:00.000'),\n",
       " (108, 'et-pe', 'MTLVN9N7JE8MIBIJ1H73', 'ENERGY TRANSFER LP', '2020-01-01 00:00:00.000'),\n",
       " (108, 'et', 'MTLVN9N7JE8MIBIJ1H73', 'ENERGY TRANSFER LP', '2020-01-01 00:00:00.000'),\n",
       " (108, 'et-pd', 'MTLVN9N7JE8MIBIJ1H73', 'ENERGY TRANSFER LP', '2020-01-01 00:00:00.000'),\n",
       " (82, 'brk-b', '5493000C01ZX7D35SD85', 'BERKSHIRE HATHAWAY INC', '2020-01-01 00:00:00.000'),\n",
       " (82, 'brk-a', '5493000C01ZX7D35SD85', 'BERKSHIRE HATHAWAY INC', '2020-01-01 00:00:00.000'),\n",
       " (55, 'wmb', 'D71FAKCBLFS2O0RBPG08', 'THE WILLIAMS COS INC', '2020-01-01 00:00:00.000'),\n",
       " (50, 'epd', 'K4CDIF4M54DJZ6TB4Q48', 'ENTERPRISE PRODUCTS PARTNERS LP', '2020-01-01 00:00:00.000'),\n",
       " (40, 'l', 'R8V1FN4M5ITGZOG7BS19', 'LOEWS CORP', '2020-01-01 00:00:00.000'),\n",
       " (39, 'vst', '549300KP43CPCUJOOG15', 'Vistra Corp', '2020-01-01 00:00:00.000'),\n",
       " (35, 'duk', 'I1BZKREC126H0VB1BL91', 'DUKE ENERGY CORP', '2020-01-01 00:00:00.000'),\n",
       " (35, 'dukb', 'I1BZKREC126H0VB1BL91', 'DUKE ENERGY CORP', '2020-01-01 00:00:00.000'),\n",
       " (35, 'duk-pa', 'I1BZKREC126H0VB1BL91', 'DUKE ENERGY CORP', '2020-01-01 00:00:00.000'),\n",
       " (34, 'dcp-pc', 'VQOHU6HCVU6YY1KUKU03', 'DCP MIDSTREAM LP', '2020-01-01 00:00:00.000'),\n",
       " (34, 'dcp', 'VQOHU6HCVU6YY1KUKU03', 'DCP MIDSTREAM LP', '2020-01-01 00:00:00.000'),\n",
       " (34, 'dcp-pb', 'VQOHU6HCVU6YY1KUKU03', 'DCP MIDSTREAM LP', '2020-01-01 00:00:00.000'),\n",
       " (32, 'dcue', 'ILUL7B6Z54MRYCF6H308', 'DOMINION ENERGY INC', '2020-01-01 00:00:00.000'),\n",
       " (32, 'd', 'ILUL7B6Z54MRYCF6H308', 'DOMINION ENERGY INC', '2020-01-01 00:00:00.000'),\n",
       " (31, 'ip', '824LMFJDH41EY779Q875', 'INTERNATIONAL PAPER CO', '2020-01-01 00:00:00.000'),\n",
       " (31, 'tsn', 'WD6L6041MNRW1JE49D58', 'TYSON FOODS INC', '2020-01-01 00:00:00.000'),\n",
       " (30, 'enbl', '549300TLGDBYE711G509', 'ENABLE MIDSTREAM PARTNERS LP', '2020-01-01 00:00:00.000'),\n",
       " (29, 'xel', 'LGJNMI9GH8XIDG5RCM61', 'XCEL ENERGY INC', '2020-01-01 00:00:00.000'),\n",
       " (28, 'sojd', '549300FC3G3YU2FBZD92', 'THE SOUTHERN CO', '2020-01-01 00:00:00.000'),\n",
       " (28, 'trgp', '5493003QENHHS261UR94', 'TARGA RESOURCES CORP', '2020-01-01 00:00:00.000'),\n",
       " (28, 'wrk', '549300JEB576INN13W07', 'WESTROCK CO', '2020-01-01 00:00:00.000'),\n",
       " (28, 'clf', '549300TM2WLI2BJMDD86', 'CLEVELAND-CLIFFS INC', '2020-01-01 00:00:00.000'),\n",
       " (28, 'sojc', '549300FC3G3YU2FBZD92', 'THE SOUTHERN CO', '2020-01-01 00:00:00.000'),\n",
       " (28, 'soln', '549300FC3G3YU2FBZD92', 'THE SOUTHERN CO', '2020-01-01 00:00:00.000'),\n",
       " (28, 'so', '549300FC3G3YU2FBZD92', 'THE SOUTHERN CO', '2020-01-01 00:00:00.000'),\n",
       " (28, 'soje', '549300FC3G3YU2FBZD92', 'THE SOUTHERN CO', '2020-01-01 00:00:00.000'),\n",
       " (27, 'vlo', '549300XTO5VR8SKV1V74', 'VALERO ENERGY CORP', '2020-01-01 00:00:00.000'),\n",
       " (25, 'oxy-wt', 'IM7X0T3ECJW4C1T7ON55', 'OCCIDENTAL PETROLEUM CORP', '2020-01-01 00:00:00.000'),\n",
       " (25, 'oxy', 'IM7X0T3ECJW4C1T7ON55', 'OCCIDENTAL PETROLEUM CORP', '2020-01-01 00:00:00.000'),\n",
       " (23, 'apd', '7QEON6Y1RL5XR3R1W237', 'AIR PRODUCTS & CHEMICALS INC', '2020-01-01 00:00:00.000'),\n",
       " (23, 'aeppl', '1B4S6S7G0TW5EE83BO58', 'AMERICAN ELECTRIC POWER CO INC', '2020-01-01 00:00:00.000'),\n",
       " (23, 'aeppz', '1B4S6S7G0TW5EE83BO58', 'AMERICAN ELECTRIC POWER CO INC', '2020-01-01 00:00:00.000'),\n",
       " (23, 'aep', '1B4S6S7G0TW5EE83BO58', 'AMERICAN ELECTRIC POWER CO INC', '2020-01-01 00:00:00.000'),\n",
       " (23, 'nue', '549300GGJCRSI2TIEJ46', 'NUCOR CORP', '2020-01-01 00:00:00.000'),\n",
       " (23, 'oke', '2T3D6M0JSY48PSZI1Q41', 'ONEOK INC', '2020-01-01 00:00:00.000'),\n",
       " (22, 'mpc', '3BNYRYQHD39K4LCKQF12', 'MARATHON PETROLEUM CORP', '2020-01-01 00:00:00.000'),\n",
       " (22, 'etr', '4XM3TW50JULSLG8BNC79', 'ENTERGY CORP', '2020-01-01 00:00:00.000'),\n",
       " (22, 'mplx', '5493000CZJ19CK4P3G36', 'MPLX LP', '2020-01-01 00:00:00.000'),\n",
       " (21, 'nrg', '5E2UPK5SW04M13XY7I38', 'NRG ENERGY INC', '2020-01-01 00:00:00.000'),\n",
       " (21, 'cva', '40XIFLS8XDQGGHGPGC04', 'COVANTA HOLDING CORP', '2020-01-01 00:00:00.000'),\n",
       " (19, 'nee-pq', 'UMI46YPGBLUE4VGNNT48', 'NEXTERA ENERGY INC', '2020-01-01 00:00:00.000'),\n",
       " (19, 'nee-pk', 'UMI46YPGBLUE4VGNNT48', 'NEXTERA ENERGY INC', '2020-01-01 00:00:00.000')]"
      ]
     },
     "execution_count": 39,
     "metadata": {},
     "output_type": "execute_result"
    }
   ],
   "source": [
    "ticker_list[0:50]"
   ]
  },
  {
   "cell_type": "markdown",
   "id": "a8f0006c-5bdd-4a08-a696-c687486c72ca",
   "metadata": {},
   "source": [
    "We can try to add up all the faciltiies for all the tickers, but that leads to counting duplicates for companies that have multiple ticker symbols...(should be 2651, not 3935)"
   ]
  },
  {
   "cell_type": "code",
   "execution_count": 40,
   "id": "647de092-d4b0-48e1-b4c1-2e8fbc93f1f7",
   "metadata": {},
   "outputs": [
    {
     "data": {
      "text/plain": [
       "3935"
      ]
     },
     "execution_count": 40,
     "metadata": {},
     "output_type": "execute_result"
    }
   ],
   "source": [
    "sum([te[0] for te in ticker_list])"
   ]
  },
  {
   "cell_type": "markdown",
   "id": "ce4257a1-778a-4511-81ae-3ce6a1357ad9",
   "metadata": {},
   "source": [
    "Compute intensity in metric tons per million dollars"
   ]
  },
  {
   "cell_type": "code",
   "execution_count": 41,
   "id": "c39b33d6-02ae-4807-baf3-17c818b234de",
   "metadata": {},
   "outputs": [
    {
     "name": "stdout",
     "output_type": "stream",
     "text": [
      "2700\n"
     ]
    }
   ],
   "source": [
    "qres = engine.execute(f\"\"\"\n",
    "select DISTINCT(sec_dera.sub.lei), ghgrp_facility_id, adsh\n",
    "              from epa_ghgrp.parent_company,ghgrp_demo.direct_emitters_oc,sec_dera.sub\n",
    "              where epa_ghgrp.parent_company.ghgrp_facility_id=ghgrp_demo.direct_emitters_oc.facility_id\n",
    "              and epa_ghgrp.parent_company.reporting_year=ghgrp_demo.direct_emitters_oc.year\n",
    "              and epa_ghgrp.parent_company.reporting_year>=DATE('2020-01-01')\n",
    "              and ghgrp_demo.direct_emitters_oc.oc=1\n",
    "              and epa_ghgrp.parent_company.lei=sec_dera.sub.lei and form='10-K'\n",
    "              and period>=DATE('2020-01-01') and period<DATE('2021-01-01')\"\"\")\n",
    "l = qres.fetchall()\n",
    "print(len(l))\n",
    "# display(l)"
   ]
  },
  {
   "cell_type": "code",
   "execution_count": 42,
   "id": "7e1565a7-fb6c-48b1-b051-75e244c15c7b",
   "metadata": {},
   "outputs": [
    {
     "name": "stdout",
     "output_type": "stream",
     "text": [
      "161\n"
     ]
    },
    {
     "data": {
      "text/plain": [
       "[('549300O4B5CVWMKUES27', 'MIDWEST ENERGY INC', 59963.176, '2020-01-01 00:00:00.000', 'USD', 19575475.0, 3063.1785946445743, 'tCO2e / $MM'),\n",
       " ('529900EECJ7CSX1S1S58', 'NATURAL RESOURCE PARTNERS LP', 4878785.088, '2020-01-01 00:00:00.000', 'USD', 2050080000.0, 2379.8022945446032, 'tCO2e / $MM'),\n",
       " ('5493003JOBJGLZSDDQ28', 'PNM RESOURCES INC', 90250765.12799995, '2020-01-01 00:00:00.000', 'USD', 61961417000.0, 1456.5639311960854, 'tCO2e / $MM'),\n",
       " ('254900GKEQRHOI2SSC19', 'HALLADOR ENERGY CO', 2396625.0, '2020-01-01 00:00:00.000', 'USD', 1706271000.0, 1404.5980972541877, 'tCO2e / $MM'),\n",
       " ('9N3UAJSNOUXFKQLF3V18', 'PPL CORP', 403635742.11000025, '2020-01-01 00:00:00.000', 'USD', 295770000000.0, 1364.6946685262205, 'tCO2e / $MM'),\n",
       " ('WS423EPRKJIIJUITXD73', 'Tampa Electric CO', 24036405.102, '2020-01-01 00:00:00.000', 'USD', 21600000000.0, 1112.7965325, 'tCO2e / $MM'),\n",
       " ('5493002H80P81B3HXL31', 'CLECO CORPORATE HOLDINGS LLC', 60698341.05599997, '2020-01-01 00:00:00.000', 'USD', 54677371000.0, 1110.1181338071278, 'tCO2e / $MM'),\n",
       " ('549300JK3KH8PWM3B226', 'CONSOL ENERGY INC', 35806097.148, '2020-01-01 00:00:00.000', 'USD', 35581688000.0, 1006.3068718943294, 'tCO2e / $MM'),\n",
       " ('5493001UYHG3UMYXNS32', 'LINCOLNWAY ENERGY LLC', 277863.15599999996, '2020-01-01 00:00:00.000', 'USD', 304593868.0, 912.2414637710301, 'tCO2e / $MM'),\n",
       " ('529900CG8YAQFZ2JMV97', 'CF INDUSTRIES HOLDINGS INC', 58808769.228, '2020-01-01 00:00:00.000', 'USD', 65715000000.0, 894.9063262268888, 'tCO2e / $MM'),\n",
       " ('5493004SX0PIADWWCR57', 'GOLDEN GRAIN ENERGY LLC', 494804.78400000004, '2020-01-01 00:00:00.000', 'USD', 577624567.0, 856.6200474641516, 'tCO2e / $MM'),\n",
       " ('549300YON1UVV8QXPK98', 'CARDINAL ETHANOL LLC', 529348.008, '2020-01-01 00:00:00.000', 'USD', 772246366.0, 685.4651977734267, 'tCO2e / $MM'),\n",
       " ('549300SVYJS666PQJH88', 'FIRSTENERGY CORP', 43557836.7, '2020-01-01 00:00:00.000', 'USD', 66172000000.0, 658.2517786979387, 'tCO2e / $MM'),\n",
       " ('CE5OG6JPOZMDSA0LAQ19', 'OGE ENERGY CORP', 52922231.00400001, '2020-01-01 00:00:00.000', 'USD', 92738800000.0, 570.6590014535449, 'tCO2e / $MM'),\n",
       " ('549300PGTHDQY6PSUI61', 'EVERGY INC', 166686270.93000004, '2020-01-01 00:00:00.000', 'USD', 299339700000.0, 556.8465222955726, 'tCO2e / $MM'),\n",
       " ('1B4S6S7G0TW5EE83BO58', 'AMERICAN ELECTRIC POWER CO INC', 1050071229.3599982, '2020-01-01 00:00:00.000', 'USD', 1944063000000.0, 540.142592786344, 'tCO2e / $MM'),\n",
       " ('5VVF8ENF5JE3D3XLEF32', 'BLUE RIDGE RESOURCE AUTHORITY', 74698.2, '2020-01-01 00:00:00.000', 'USD', 160968000.0, 464.05620992992397, 'tCO2e / $MM'),\n",
       " ('5493009ML300G373MZ12', 'ALLIANT ENERGY CORP', 106154944.93800001, '2020-01-01 00:00:00.000', 'USD', 231000000000.0, 459.54521618181826, 'tCO2e / $MM'),\n",
       " ('GJOUP9M7C39GLSK9R870', 'PORTLAND GENERAL ELECTRIC CO', 7838112.881999999, '2020-01-01 00:00:00.000', 'USD', 18777000000.0, 417.43158555679815, 'tCO2e / $MM'),\n",
       " ('254900DQF4U5U9W7AR72', 'AEMETIS INC', 150268.212, '2020-01-01 00:00:00.000', 'USD', 367555000.0, 408.8319081498007, 'tCO2e / $MM'),\n",
       " ('549300IV6EW4O1OJD686', 'GEVO INC', 11126.16, '2020-01-01 00:00:00.000', 'USD', 30023000.0, 370.5878826233221, 'tCO2e / $MM'),\n",
       " ('21TPXMRRHFKOBHDC8J74', 'CENTERPOINT ENERGY INC', 42450803.20799999, '2020-01-01 00:00:00.000', 'USD', 120930000000.0, 351.03616313569825, 'tCO2e / $MM'),\n",
       " ('FDPVHDGJ1IQZFK9KH630', 'Eastman Chemical Co', 17799893.172, '2020-01-01 00:00:00.000', 'USD', 55794000000.0, 319.028805462953, 'tCO2e / $MM'),\n",
       " ('549300TM2WLI2BJMDD86', 'CLEVELAND-CLIFFS INC', 81703840.14600003, '2020-01-01 00:00:00.000', 'USD', 261252000000.0, 312.7395776721328, 'tCO2e / $MM'),\n",
       " ('5493003Q8F0T4F4YMR48', 'CALIFORNIA RESOURCES CORP', 3221763.212, '2020-01-01 00:00:00.000', 'USD', 11396000000.0, 282.7100045630046, 'tCO2e / $MM'),\n",
       " ('549300FC3G3YU2FBZD92', 'THE SOUTHERN CO', 933136214.3279991, '2020-01-01 00:00:00.000', 'USD', 3615500000000.0, 258.0932690714975, 'tCO2e / $MM'),\n",
       " ('TWSEY0NEDUDCKS27AH81', 'PINNACLE WEST CAPITAL CORP', 26890726.608000003, '2020-01-01 00:00:00.000', 'USD', 107479855000.0, 250.19317906597476, 'tCO2e / $MM'),\n",
       " ('3MGELCRSTNSAMJ962671', 'BLACK HILLS CORP', 7454214.126, '2020-01-01 00:00:00.000', 'USD', 31116654000.0, 239.55705925193627, 'tCO2e / $MM'),\n",
       " ('549300KP43CPCUJOOG15', 'Vistra Corp', 272918363.31, '2020-01-01 00:00:00.000', 'USD', 1263444000000.0, 216.0114443616021, 'tCO2e / $MM'),\n",
       " ('JJ8FWOCWCV22X7GUPJ23', 'HAWAIIAN ELECTRIC INDUSTRIES INC', 34406801.802, '2020-01-01 00:00:00.000', 'USD', 166280620000.0, 206.92009569124772, 'tCO2e / $MM'),\n",
       " ('254900WW0FDCKAOCKE74', 'CHESAPEAKE UTILITIES CORP', 291686.952, '2020-01-01 00:00:00.000', 'USD', 1458119000.0, 200.0433105939913, 'tCO2e / $MM'),\n",
       " ('2NUNNB7D43COUIRE5295', 'AES CORP', 49999534.536000006, '2020-01-01 00:00:00.000', 'USD', 275265000000.0, 181.64145291264785, 'tCO2e / $MM'),\n",
       " ('549300VDHNFNPADSSV98', 'TRI-STATE GENERATION & TRANSMISSION ASSOC INC', 3602040.4319999996, '2020-01-01 00:00:00.000', 'USD', 20293020000.0, 177.50144788700743, 'tCO2e / $MM'),\n",
       " ('529900SOYZIXZBTXB558', 'CVR ENERGY INC', 12352330.584, '2020-01-01 00:00:00.000', 'USD', 69672000000.0, 177.2926079917327, 'tCO2e / $MM'),\n",
       " ('MIHC87W9WTYSYZWV1J40', 'CHENIERE ENERGY INC', 18375007.146000005, '2020-01-01 00:00:00.000', 'USD', 108300000000.0, 169.66765601108037, 'tCO2e / $MM'),\n",
       " ('549300G6KKUMMXM8NH73', 'BERRY GLOBAL GROUP INC', 279233.994, '2020-01-01 00:00:00.000', 'USD', 1669795000.0, 167.22651223653202, 'tCO2e / $MM'),\n",
       " ('PUSS41EMO3E6XXNV3U28', 'PUBLIC SERVICE ENTERPRISE GROUP INC', 103076767.10400012, '2020-01-01 00:00:00.000', 'USD', 627120000000.0, 164.3653002678915, 'tCO2e / $MM'),\n",
       " ('549300HHVBQRQUVKKD91', 'OTTER TAIL CORP', 804539.304, '2020-01-01 00:00:00.000', 'USD', 5452114000.0, 147.56465180295203, 'tCO2e / $MM'),\n",
       " ('QBKYQD0ODE7DC7PDIN91', 'MURPHY OIL CORP', 953658.324, '2020-01-01 00:00:00.000', 'USD', 6587795000.0, 144.76138434787362, 'tCO2e / $MM'),\n",
       " ('549300C841GHSUPKR373', 'CLEARWAY ENERGY GROUP LLC', 1744374.4079999998, '2020-01-01 00:00:00.000', 'USD', 13136000000.0, 132.7934232643118, 'tCO2e / $MM'),\n",
       " ('549300IA9XFBAGNIBW29', 'CMS ENERGY CORP', 49620105.492, '2020-01-01 00:00:00.000', 'USD', 394270000000.0, 125.8531095239303, 'tCO2e / $MM'),\n",
       " ('5E2UPK5SW04M13XY7I38', 'NRG ENERGY INC', 73852727.65499999, '2020-01-01 00:00:00.000', 'USD', 596232000000.0, 123.86575637503519, 'tCO2e / $MM'),\n",
       " ('PBBKGKLRK5S5C0Y4T545', 'SEMPRA ENERGY', 11511816.012, '2020-01-01 00:00:00.000', 'USD', 96903000000.0, 118.79731290052939, 'tCO2e / $MM'),\n",
       " ('40XIFLS8XDQGGHGPGC04', 'COVANTA HOLDING CORP', 12972873.042000003, '2020-01-01 00:00:00.000', 'USD', 118482000000.0, 109.49235362333522, 'tCO2e / $MM'),\n",
       " ('JNLUVFYJT1OZSIQ24U47', 'US STEEL CORP', 53110727.17799999, '2020-01-01 00:00:00.000', 'USD', 515984000000.0, 102.93095750643428, 'tCO2e / $MM'),\n",
       " ('ILUL7B6Z54MRYCF6H308', 'DOMINION ENERGY INC', 202690609.52400008, '2020-01-01 00:00:00.000', 'USD', 2024384000000.0, 100.1245858117828, 'tCO2e / $MM'),\n",
       " ('549300IGLYTZUK3PVP70', 'WEC Energy Group Inc', 27335522.424000002, '2020-01-01 00:00:00.000', 'USD', 291775900000.0, 93.68670415891101, 'tCO2e / $MM'),\n",
       " ('549300I7ROF15MAEVP56', 'EDISON INTERNATIONAL', 6924650.832, '2020-01-01 00:00:00.000', 'USD', 77045000000.0, 89.8780041793757, 'tCO2e / $MM'),\n",
       " ('549300OX0Q38NLSKPB49', 'AVANGRID INC', 3420898.5359999994, '2020-01-01 00:00:00.000', 'USD', 38266000000.0, 89.39786065959336, 'tCO2e / $MM'),\n",
       " ('549300C841GHSUPKR373', 'CLEARWAY ENERGY INC', 3368455.824, '2020-01-01 00:00:00.000', 'USD', 39408000000.0, 85.47644701583435, 'tCO2e / $MM'),\n",
       " ('549300HCVV19GXN4P292', 'CLEARWATER PAPER CORP', 2167301.4659999995, '2020-01-01 00:00:00.000', 'USD', 26771500000.0, 80.95554847505741, 'tCO2e / $MM'),\n",
       " ('549300XGK22FZCTN8B67', 'UNIT CORP', 200114.93, '2020-01-01 00:00:00.000', 'USD', 2698536000.0, 74.156850232867, 'tCO2e / $MM'),\n",
       " ('8EU0XUFVJ48U37IIDH51', 'CASELLA WASTE SYSTEMS INC', 1352884.236, '2020-01-01 00:00:00.000', 'USD', 19606806000.0, 69.00074576144631, 'tCO2e / $MM'),\n",
       " ('549300KCWA5W52MS5559', 'DENBURY INC', 172479.66, '2020-01-01 00:00:00.000', 'USD', 2748508000.0, 62.753923219433965, 'tCO2e / $MM'),\n",
       " ('3BPWMBHR1R9SHUN7J795', 'NORTHWESTERN CORP', 439119.852, '2020-01-01 00:00:00.000', 'USD', 7297178000.0, 60.17666719929266, 'tCO2e / $MM'),\n",
       " ('3SOUA6IRML7435B56G12', 'EXELON CORP', 203127496.254, '2020-01-01 00:00:00.000', 'USD', 3375885000000.0, 60.17014686637726, 'tCO2e / $MM'),\n",
       " ('K05C0SER542GQ6VLRO68', 'CABOT CORP', 2629960.29, '2020-01-01 00:00:00.000', 'USD', 45965000000.0, 57.216584140106605, 'tCO2e / $MM'),\n",
       " ('7QEON6Y1RL5XR3R1W237', 'AIR PRODUCTS & CHEMICALS INC', 34818973.968, '2020-01-01 00:00:00.000', 'USD', 614224200000.0, 56.68772732822966, 'tCO2e / $MM'),\n",
       " ('254900X7T4Y6FPMCZR24', 'ALEXANDER & BALDWIN INC', 230704.266, '2020-01-01 00:00:00.000', 'USD', 4154700000.0, 55.52850169687342, 'tCO2e / $MM'),\n",
       " ('549300OKFHZ84SFJFT95', 'TALOS ENERGY INC', 711663.6599999999, '2020-01-01 00:00:00.000', 'USD', 14438364000.0, 49.289771334203785, 'tCO2e / $MM'),\n",
       " ('0T6SBMK3JTBI1JR36794', 'MDU RESOURCES GROUP INC', 3021080.8200000003, '2020-01-01 00:00:00.000', 'USD', 61604312000.0, 49.04008699910487, 'tCO2e / $MM'),\n",
       " ('549300C841GHSUPKR373', 'Clearway Energy LLC dba Energy Center Omaha LLC', 317021.69999999995, '2020-01-01 00:00:00.000', 'USD', 6568000000.0, 48.26761571254567, 'tCO2e / $MM'),\n",
       " ('GOXNEVUM0LL78B1OS344', 'WESTLAKE CHEMICAL CORP', 11544145.038, '2020-01-01 00:00:00.000', 'USD', 242570000000.0, 47.59098420249825, 'tCO2e / $MM'),\n",
       " ('549300DJYWYT5VXLFA46', 'SOUTH JERSEY INDUSTRIES INC', 293826.696, '2020-01-01 00:00:00.000', 'USD', 6500360000.0, 45.20160360349273, 'tCO2e / $MM'),\n",
       " ('549300WP6AHVIXRL5R36', 'WESTERN MIDSTREAM PARTNERS LP', 5640322.704000001, '2020-01-01 00:00:00.000', 'USD', 125094784000.0, 45.088392366543445, 'tCO2e / $MM'),\n",
       " ('54930033SBW53OO8T749', 'CONSOLIDATED EDISON INC', 16687351.940000001, '2020-01-01 00:00:00.000', 'USD', 406690000000.0, 41.03211768177236, 'tCO2e / $MM'),\n",
       " ('549300J3U2WK73C9ZK26', 'HOLLYFRONTIER CORP', 15028260.714000003, '2020-01-01 00:00:00.000', 'USD', 371079096000.0, 40.49880706295567, 'tCO2e / $MM'),\n",
       " ('PBBKGKLRK5S5C0Y4T545', 'SEMPRA ENERGY INC', 2493626.004, '2020-01-01 00:00:00.000', 'USD', 64602000000.0, 38.59982669267205, 'tCO2e / $MM'),\n",
       " ('549300Y8626JCSA3I053', 'GREEN PLAINS INC', 3584566.4999999995, '2020-01-01 00:00:00.000', 'USD', 95223557000.0, 37.64369461644874, 'tCO2e / $MM'),\n",
       " ('SO75N4VY5NXGQSK8YQ65', 'GRAPHIC PACKAGING HOLDING CO', 9010100.207999997, '2020-01-01 00:00:00.000', 'USD', 262491600000.0, 34.325289677841106, 'tCO2e / $MM'),\n",
       " ('72ZZ1XRHOOU9P9X16K08', 'APACHE CORP', 631870.218, '2020-01-01 00:00:00.000', 'USD', 18625000000.0, 33.92591774496644, 'tCO2e / $MM'),\n",
       " ('5493003X5Z6TVAXIPW56', 'WR GRACE & CO', 762632.8259999999, '2020-01-01 00:00:00.000', 'USD', 22480000000.0, 33.9249477758007, 'tCO2e / $MM'),\n",
       " ('549300WP6AHVIXRL5R36', 'WESTERN MIDSTREAM PARTNERS LLC', 482821.644, '2020-01-01 00:00:00.000', 'USD', 15636848000.0, 30.877171921093048, 'tCO2e / $MM'),\n",
       " ('Q0IK63NITJD6RJ47SW96', 'AVISTA CORP', 363010.7639999999, '2020-01-01 00:00:00.000', 'USD', 12193218000.0, 29.771530698458758, 'tCO2e / $MM'),\n",
       " ('EJCO258LNNVSKAR2JX59', 'PEABODY ENERGY CORP', 1477256.046, '2020-01-01 00:00:00.000', 'USD', 52345200000.0, 28.221423282364, 'tCO2e / $MM'),\n",
       " ('549300WFHLTCZV7D6V29', 'ARCOSA INC', 950185.104, '2020-01-01 00:00:00.000', 'USD', 35930300000.0, 26.44523157335174, 'tCO2e / $MM'),\n",
       " ('5493003S21INSLK2IP73', 'DOW INC', 49376234.748, '2020-01-01 00:00:00.000', 'USD', 1966455000000.0, 25.109262478927818, 'tCO2e / $MM'),\n",
       " ('MZF5TI8NFVZZNUSKDL39', 'MAGELLAN MIDSTREAM PARTNERS LP', 194432.78399999999, '2020-01-01 00:00:00.000', 'USD', 7982287000.0, 24.35802972255946, 'tCO2e / $MM'),\n",
       " ('8JB38FFW1Y3C1HM8E841', 'NATIONAL FUEL GAS CO', 914140.1160000002, '2020-01-01 00:00:00.000', 'USD', 38658328000.0, 23.646654247436675, 'tCO2e / $MM'),\n",
       " ('HDBLS2Q6GV1LSKQPBS54', 'ALBEMARLE CORP', 715957.452, '2020-01-01 00:00:00.000', 'USD', 30279858000.0, 23.644676669223482, 'tCO2e / $MM'),\n",
       " ('549300CUY0F1TYDLDL45', 'CRESTWOOD EQUITY PARTNERS LP', 2146120.7640000004, '2020-01-01 00:00:00.000', 'USD', 90903000000.0, 23.60891020098347, 'tCO2e / $MM'),\n",
       " ('549300HGGKEL4FYTTQ83', 'STEEL DYNAMICS INC', 6763870.427999999, '2020-01-01 00:00:00.000', 'USD', 286994808000.0, 23.5679191381051, 'tCO2e / $MM'),\n",
       " ('2YD5STGSJNMUB7H76907', 'THE MOSAIC CO', 4479002.382, '2020-01-01 00:00:00.000', 'USD', 190227100000.0, 23.545553614600653, 'tCO2e / $MM'),\n",
       " ('SO0H5YEO14Y4PVKQH532', 'MAXIM INTEGRATED PRODUCTS INC', 138865.94218800002, '2020-01-01 00:00:00.000', 'USD', 6985790000.0, 19.87834478104839, 'tCO2e / $MM'),\n",
       " ('549300NNLSIMY6Z8OT86', 'ALLETE INC', 305155.5240000001, '2020-01-01 00:00:00.000', 'USD', 15632800000.0, 19.520209047643423, 'tCO2e / $MM'),\n",
       " ('BN6WCCZ8OVP3ITUUVN49', 'LYONDELLBASELL INDUSTRIES INC', 23460373.086, '2020-01-01 00:00:00.000', 'USD', 1217808000000.0, 19.264426811122934, 'tCO2e / $MM'),\n",
       " ('DKOVQUCDW4ZLYCUD4T55', 'LEGGETT & PLATT INC', 248837.22000000003, '2020-01-01 00:00:00.000', 'USD', 13478900000.0, 18.461240902447532, 'tCO2e / $MM'),\n",
       " ('254900YAUJV2EUEVBR11', 'QORVO INC', 475016.17009200004, '2020-01-01 00:00:00.000', 'USD', 27909006000.0, 17.020175139594727, 'tCO2e / $MM'),\n",
       " ('UASVRYNXNK17ULIGK870', 'HESS CORP', 1752821.0505860164, '2020-01-01 00:00:00.000', 'USD', 106680000000.0, 16.430643518804054, 'tCO2e / $MM'),\n",
       " ('8YQ2GSDWYZXO2EDN3511', 'PG&E CORP', 17195433.924000002, '2020-01-01 00:00:00.000', 'USD', 1047150000000.0, 16.42117549921215, 'tCO2e / $MM'),\n",
       " ('54930000GY1H533OBE23', 'ENLINK MIDSTREAM LLC', 4875293.112, '2020-01-01 00:00:00.000', 'USD', 299976900000.0, 16.252228461591542, 'tCO2e / $MM'),\n",
       " ('XEIEFTLYDQ1MZ6TZV015', 'CHS INC', 7418520.576000002, '2020-01-01 00:00:00.000', 'USD', 464950825000.0, 15.955495026812786, 'tCO2e / $MM'),\n",
       " ('ZD2NBKV6GCC3UMGBM518', 'SPIRIT AEROSYSTEMS HOLDINGS INC', 288179.52, '2020-01-01 00:00:00.000', 'USD', 18489900000.0, 15.585780344945078, 'tCO2e / $MM'),\n",
       " ('VQOHU6HCVU6YY1KUKU03', 'DCP MIDSTREAM LP', 11949262.289999997, '2020-01-01 00:00:00.000', 'USD', 807466000000.0, 14.798471130672992, 'tCO2e / $MM'),\n",
       " ('IM7X0T3ECJW4C1T7ON55', 'OCCIDENTAL PETROLEUM CORP', 20665126.908, '2020-01-01 00:00:00.000', 'USD', 1413600000000.0, 14.618793794567063, 'tCO2e / $MM'),\n",
       " ('549300HPU3BD8ZI0X358', 'RENEWABLE ENERGY GROUP INC', 96464.484, '2020-01-01 00:00:00.000', 'USD', 7130842000.0, 13.527783114532618, 'tCO2e / $MM'),\n",
       " ('5493003QENHHS261UR94', 'TARGA RESOURCES CORP', 8968348.075644383, '2020-01-01 00:00:00.000', 'USD', 767631200000.0, 11.6831469013302, 'tCO2e / $MM'),\n",
       " ('QVLWEGTD2S8GJMO8D383', 'ATMOS ENERGY CORP', 493394.87999999995, '2020-01-01 00:00:00.000', 'USD', 44192655000.0, 11.164635390202285, 'tCO2e / $MM'),\n",
       " ('5493000CZJ19CK4P3G36', 'MPLX LP', 5750888.376, '2020-01-01 00:00:00.000', 'USD', 519530000000.0, 11.069405762901084, 'tCO2e / $MM'),\n",
       " ('D71FAKCBLFS2O0RBPG08', 'THE WILLIAMS COS INC', 13674155.705999997, '2020-01-01 00:00:00.000', 'USD', 1353330000000.0, 10.104080827292675, 'tCO2e / $MM'),\n",
       " ('549300LO13MQ9HYSTR83', 'ARCHER DANIELS MIDLAND CO', 33814906.746, '2020-01-01 00:00:00.000', 'USD', 3480336000000.0, 9.715989130359826, 'tCO2e / $MM'),\n",
       " ('549300C7E2UAO5BVRR75', 'LOUISIANA-PACIFIC CORP', 68701.302, '2020-01-01 00:00:00.000', 'USD', 7926000000.0, 8.667840272520817, 'tCO2e / $MM'),\n",
       " ('549300VVH8HHFMWL8536', 'CHEVRON CORP', 33377893.512, '2020-01-01 00:00:00.000', 'USD', 4075470000000.0, 8.189949505701183, 'tCO2e / $MM'),\n",
       " ('GKOMIK4RDJGHEF0VNP11', 'SONOCO PRODUCTS CO', 645299.7539999998, '2020-01-01 00:00:00.000', 'USD', 82137900000.0, 7.8562972026311835, 'tCO2e / $MM'),\n",
       " ('2T3D6M0JSY48PSZI1Q41', 'ONEOK INC', 5539213.944, '2020-01-01 00:00:00.000', 'USD', 719895515000.0, 7.69446930642428, 'tCO2e / $MM'),\n",
       " ('J3WHBG0MTS7O8ZVMDC91', 'EXXON MOBIL CORP', 89385498.59399998, '2020-01-01 00:00:00.000', 'USD', 11786432000000.0, 7.583762294984605, 'tCO2e / $MM'),\n",
       " ('YM4O38W15AX4YLLQKU27', 'BRUNSWICK CORP', 94229.988, '2020-01-01 00:00:00.000', 'USD', 12576800000.0, 7.492365943642262, 'tCO2e / $MM'),\n",
       " ('BIMGBY40SIN95O01BN93', 'LINCOLN ELECTRIC HOLDINGS INC', 62390.916000000005, '2020-01-01 00:00:00.000', 'USD', 8687346000.0, 7.18181548196653, 'tCO2e / $MM'),\n",
       " ('1WRCIANKYOIK6KYE5E82', 'WORTHINGTON INDUSTRIES INC', 74169.168, '2020-01-01 00:00:00.000', 'USD', 10400295000.0, 7.1314484829516855, 'tCO2e / $MM'),\n",
       " ('5493007JDSMX8Z5Z1902', 'CAMPBELL SOUP CO', 656849.778, '2020-01-01 00:00:00.000', 'USD', 93652000000.0, 7.013729317046086, 'tCO2e / $MM'),\n",
       " ('549300IGLYTZUK3PVP70', 'WEC ENERGY GROUP Inc', 149675.892, '2020-01-01 00:00:00.000', 'USD', 22444300000.0, 6.668770779217886, 'tCO2e / $MM'),\n",
       " ('5TZLZ6WJTBVJ0QWBG121', 'HUNTINGTON INGALLS INDUSTRIES INC', 175194.18, '2020-01-01 00:00:00.000', 'USD', 26436000000.0, 6.627106218792556, 'tCO2e / $MM'),\n",
       " ('JM1I5YUAURL6DC8N1468', 'POST HOLDINGS INC', 229686.936, '2020-01-01 00:00:00.000', 'USD', 35274000000.0, 6.511508079605375, 'tCO2e / $MM'),\n",
       " ('549300X2937PB0CJ7I56', 'CORNING INC', 647413.5600000002, '2020-01-01 00:00:00.000', 'USD', 102870000000.0, 6.293511811023623, 'tCO2e / $MM'),\n",
       " ('549300JD0S5IZJE9LY15', 'Berkshire Hathaway Energy', 14192333.484000001, '2020-01-01 00:00:00.000', 'USD', 2280663000000.0, 6.222898115153358, 'tCO2e / $MM'),\n",
       " ('MP3J6QPYPGN75NVW2S34', 'KIMBERLY-CLARK CORP', 3134867.6219999995, '2020-01-01 00:00:00.000', 'USD', 504684000000.0, 6.211545485888198, 'tCO2e / $MM'),\n",
       " ('DX6GCWD4Q1JO9CRE5I40', 'UGI CORP', 393161.31599999993, '2020-01-01 00:00:00.000', 'USD', 64590000000.0, 6.087030747793775, 'tCO2e / $MM'),\n",
       " ('54930073LBBH6ZCBE225', 'MOLSON COORS BEVERAGE CO', 1089134.2079999999, '2020-01-01 00:00:00.000', 'USD', 190354500000.0, 5.721609985579536, 'tCO2e / $MM'),\n",
       " ('NKNQHM6BLECKVOQP7O46', 'REPUBLIC SERVICES INC', 30305893.78200001, '2020-01-01 00:00:00.000', 'USD', 5851942200000.0, 5.178775310186763, 'tCO2e / $MM'),\n",
       " ('FDPVHDGJ1IQZFK9KH630', 'EASTMAN CHEMICAL CO', 706533.144, '2020-01-01 00:00:00.000', 'USD', 139485000000.0, 5.065298376169481, 'tCO2e / $MM'),\n",
       " ('K4CDIF4M54DJZ6TB4Q48', 'ENTERPRISE PRODUCTS PARTNERS LP', 22948749.293999996, '2020-01-01 00:00:00.000', 'USD', 4826155000000.0, 4.7550792077751325, 'tCO2e / $MM'),\n",
       " ('GIE4CCPBJDI8SMV1OX95', 'STEELCASE INC', 47776.020000000004, '2020-01-01 00:00:00.000', 'USD', 10222400000.0, 4.67365980591642, 'tCO2e / $MM'),\n",
       " ('08IRJODWFYBI7QWRGS31', 'WEYERHAEUSER CO', 99060.52799999999, '2020-01-01 00:00:00.000', 'USD', 21562000000.0, 4.594217976069009, 'tCO2e / $MM'),\n",
       " ('549300IRDTHJQ1PVET45', 'FREEPORT-MCMORAN INC', 623611.398, '2020-01-01 00:00:00.000', 'USD', 141684000000.0, 4.401424282205471, 'tCO2e / $MM'),\n",
       " ('549300AM3633XDFU1Q85', 'Rexnord Industries LLC', 25665.203999999998, '2020-01-01 00:00:00.000', 'USD', 5970800000.0, 4.298453138607891, 'tCO2e / $MM'),\n",
       " ('R8V1FN4M5ITGZOG7BS19', 'LOEWS CORP', 6901883.352, '2020-01-01 00:00:00.000', 'USD', 1663200000000.0, 4.149761515151515, 'tCO2e / $MM'),\n",
       " ('549300WZN9I2QKLS0O94', 'CORTEVA INC', 340748.016, '2020-01-01 00:00:00.000', 'USD', 84700000000.0, 4.022999008264462, 'tCO2e / $MM'),\n",
       " ('549300WR7IX8XE0TBO16', 'KINDER MORGAN INC', 23606659.56599999, '2020-01-01 00:00:00.000', 'USD', 6248480000000.0, 3.7779843363505985, 'tCO2e / $MM'),\n",
       " ('XWTZDRYZPBUHIQBKDB46', 'EOG RESOURCES INC', 1102826.5920000002, '2020-01-01 00:00:00.000', 'USD', 319811940000.0, 3.4483596578664333, 'tCO2e / $MM'),\n",
       " ('LUZQVYP4VS22CLWDAR65', '3M CO', 3203990.5392449996, '2020-01-01 00:00:00.000', 'USD', 1067935000000.0, 3.000173736458679, 'tCO2e / $MM'),\n",
       " ('2572IBTT8CCZW6AU4141', 'THE PROCTER & GAMBLE CO', 5266744.374, '2020-01-01 00:00:00.000', 'USD', 1849194000000.0, 2.8481297116473447, 'tCO2e / $MM'),\n",
       " ('PBBKGKLRK5S5C0Y4T545', 'SEMPRA ENERGY ', 342620.172, '2020-01-01 00:00:00.000', 'USD', 129204000000.0, 2.6517768180551684, 'tCO2e / $MM'),\n",
       " ('LONOZNOJYIBXOHXWDB86', 'KELLOGG CO', 498051.40800000005, '2020-01-01 00:00:00.000', 'USD', 204475000000.0, 2.4357569776256267, 'tCO2e / $MM'),\n",
       " ('5493004JF0SDFLM8GD76', 'DUPONT DE NEMOURS INC', 1322708.148, '2020-01-01 00:00:00.000', 'USD', 580527000000.0, 2.278461032820179, 'tCO2e / $MM'),\n",
       " ('3PPKBHUG1HD6BO7RNR87', 'TEXTRON INC', 174115.36200000002, '2020-01-01 00:00:00.000', 'USD', 78506000000.0, 2.2178605711665353, 'tCO2e / $MM'),\n",
       " ('5493007TDQLA2Z7RB387', 'AMGEN INC', 148850.08800000002, '2020-01-01 00:00:00.000', 'USD', 72533000000.0, 2.052170570636814, 'tCO2e / $MM'),\n",
       " ('W8J5WZB5IY3K0NDQT671', 'BIOGEN INC', 81302.988, '2020-01-01 00:00:00.000', 'USD', 41275400000.0, 1.9697686273179666, 'tCO2e / $MM'),\n",
       " ('D71FAKCBLFS2O0RBPG08', 'WILLIAMS COS INC (THE)', 42499.835999999996, '2020-01-01 00:00:00.000', 'USD', 24606000000.0, 1.7272143379663494, 'tCO2e / $MM'),\n",
       " ('FR5LCKFTG8054YNNRU85', 'ABBVIE INC', 385248.52800000005, '2020-01-01 00:00:00.000', 'USD', 223646000000.0, 1.722581794443004, 'tCO2e / $MM'),\n",
       " ('3C7474T6CDKPR9K6YT90', 'GENERAL ELECTRIC CO', 4440451.578000001, '2020-01-01 00:00:00.000', 'USD', 2973820000000.0, 1.4931810190260342, 'tCO2e / $MM'),\n",
       " ('5493000C01ZX7D35SD85', 'BERKSHIRE HATHAWAY INC', 88122536.15400001, '2020-01-01 00:00:00.000', 'USD', 61332966000000.0, 1.436789085888982, 'tCO2e / $MM'),\n",
       " ('WD6L6041MNRW1JE49D58', 'TYSON FOODS INC', 5412282.858000001, '2020-01-01 00:00:00.000', 'USD', 3894902000000.0, 1.389581267513278, 'tCO2e / $MM'),\n",
       " ('WNDD3CRVXJGC8I7GX671', 'NAVISTAR INTERNATIONAL CORP', 39837.600000000006, '2020-01-01 00:00:00.000', 'USD', 29004000000.0, 1.3735208936698389, 'tCO2e / $MM'),\n",
       " ('HLYYNH7UQUORYSJQCN42', 'BRISTOL-MYERS SQUIBB CO', 250424.592, '2020-01-01 00:00:00.000', 'USD', 182448000000.0, 1.3725806366745594, 'tCO2e / $MM'),\n",
       " ('H1J8DDZKZP6H7RWC0H53', 'QUALCOMM INC', 187461.64800000002, '2020-01-01 00:00:00.000', 'USD', 140830000000.0, 1.3311201306539802, 'tCO2e / $MM'),\n",
       " ('WRJR7GS4GTRECRRTVX92', 'CATERPILLAR INC', 1377783.396, '2020-01-01 00:00:00.000', 'USD', 1051890000000.0, 1.309816992271055, 'tCO2e / $MM'),\n",
       " ('MTLVN9N7JE8MIBIJ1H73', 'ENERGY TRANSFER LP', 20277743.808, '2020-01-01 00:00:00.000', 'USD', 15903432000000.0, 1.2750545799170896, 'tCO2e / $MM'),\n",
       " ('RIMU48P07456QXSO0R61', 'NORTHROP GRUMMAN CORP', 228253.212, '2020-01-01 00:00:00.000', 'USD', 201470000000.0, 1.1329389586538938, 'tCO2e / $MM'),\n",
       " ('54930043XZGB27CTOV49', 'TESLA INC', 84226.63200000001, '2020-01-01 00:00:00.000', 'USD', 77575000000.0, 1.0857445310989366, 'tCO2e / $MM'),\n",
       " ('FRDRIPF3EKNDJ2CQJL29', 'ELI LILLY & CO', 69967.218, '2020-01-01 00:00:00.000', 'USD', 68352600000.0, 1.0236218958752117, 'tCO2e / $MM'),\n",
       " ('549300O56BSKRD8FAM12', 'PLAINS GP HOLDINGS LP', 366177.516, '2020-01-01 00:00:00.000', 'USD', 364056000000.0, 1.0058274441294746, 'tCO2e / $MM'),\n",
       " ('I07WOS4YJ0N7YRFE7309', 'RAYTHEON TECHNOLOGIES CORP', 469053.62399999995, '2020-01-01 00:00:00.000', 'USD', 546548000000.0, 0.8582112165811602, 'tCO2e / $MM'),\n",
       " ('PWFTNG3EI0Y73OXWDH08', 'DEERE & CO', 189041.892, '2020-01-01 00:00:00.000', 'USD', 224312000000.0, 0.8427631691572453, 'tCO2e / $MM'),\n",
       " ('X2MT1W32SPAZ9WSKLE78', 'CHESAPEAKE ENERGY CORP', 31157.280000000002, '2020-01-01 00:00:00.000', 'USD', 47802000000.0, 0.651798669511736, 'tCO2e / $MM'),\n",
       " ('DPRBOZP0K5RM2YE8UU08', 'LOCKHEED MARTIN CORP', 342226.254, '2020-01-01 00:00:00.000', 'USD', 536916000000.0, 0.6373925418501218, 'tCO2e / $MM'),\n",
       " ('FJSUNZKFNQ5YPJ5OT455', 'PEPSICO INC', 1407652.7399999998, '2020-01-01 00:00:00.000', 'USD', 2224134000000.0, 0.6328992497754181, 'tCO2e / $MM'),\n",
       " ('5493008B6JBRUJ90QL97', 'GENERAL MOTORS CO', 2778467.5319999997, '2020-01-01 00:00:00.000', 'USD', 5390064000000.0, 0.5154795067368402, 'tCO2e / $MM'),\n",
       " ('RVHJWBXLJ1RFUBSY1F30', 'THE BOEING CO', 456801.162, '2020-01-01 00:00:00.000', 'USD', 943376000000.0, 0.48421961338851105, 'tCO2e / $MM'),\n",
       " ('5493008B6JBRUJ90QL97', 'GENERAL MOTORS LLC', 428163.324, '2020-01-01 00:00:00.000', 'USD', 898344000000.0, 0.4766139964200796, 'tCO2e / $MM'),\n",
       " ('20S05OYHG0MQM4VUIC57', 'FORD MOTOR CO', 1443337.3139999998, '2020-01-01 00:00:00.000', 'USD', 4433820000000.0, 0.3255290728987644, 'tCO2e / $MM'),\n",
       " ('APVBKPOULHUX7YZLKU17', 'ANTERO RESOURCES CORP', 822.7439999999999, '2020-01-01 00:00:00.000', 'USD', 12040015000.0, 0.06833413413521494, 'tCO2e / $MM')]"
      ]
     },
     "metadata": {},
     "output_type": "display_data"
    }
   ],
   "source": [
    "qres = engine.execute(f\"\"\"\n",
    "with leis as (select DISTINCT(sec_dera.sub.lei), ghgrp_facility_id, adsh\n",
    "              from epa_ghgrp.parent_company,ghgrp_demo.direct_emitters_oc,sec_dera.sub\n",
    "              where epa_ghgrp.parent_company.ghgrp_facility_id=ghgrp_demo.direct_emitters_oc.facility_id\n",
    "              and epa_ghgrp.parent_company.reporting_year=ghgrp_demo.direct_emitters_oc.year\n",
    "              and epa_ghgrp.parent_company.reporting_year>=DATE('2020-01-01')\n",
    "              and ghgrp_demo.direct_emitters_oc.oc=1\n",
    "              and epa_ghgrp.parent_company.lei=sec_dera.sub.lei and form='10-K'\n",
    "              and period>=DATE('2020-01-01') and period<DATE('2021-01-01'))\n",
    "select leis.lei as lei, parent_company_name, sum(total_reported_direct_emissions) as tot_co2e, reporting_year, uom, sum(value) as tot_revenue, 1000000*sum(total_reported_direct_emissions)/sum(value) as intensity, 'tCO2e / $MM' as intensity_metric\n",
    "from leis, epa_ghgrp.parent_company, ghgrp_demo.direct_emitters_oc, ghgrp_demo.direct_emitters_attributed, sec_dera.num\n",
    "where ghgrp_demo.direct_emitters_oc.oc=1\n",
    "and epa_ghgrp.parent_company.ghgrp_facility_id=ghgrp_demo.direct_emitters_oc.facility_id\n",
    "and epa_ghgrp.parent_company.ghgrp_facility_id=ghgrp_demo.direct_emitters_attributed.facility_id\n",
    "and epa_ghgrp.parent_company.ghgrp_facility_id=leis.ghgrp_facility_id\n",
    "and epa_ghgrp.parent_company.lei=leis.lei\n",
    "and reporting_year >= DATE('2020-01-01')\n",
    "and reporting_year=ghgrp_demo.direct_emitters_oc.year\n",
    "and reporting_year=ghgrp_demo.direct_emitters_attributed.year\n",
    "and leis.adsh=sec_dera.num.adsh\n",
    "and sec_dera.num.tag = 'Revenues'\n",
    "and sec_dera.num.qtrs=4\n",
    "and total_reported_direct_emissions>0\n",
    "group by leis.lei, parent_company_name, reporting_year, uom\n",
    "order by intensity desc\n",
    "-- limit 100\n",
    "\"\"\")\n",
    "list = qres.fetchall()\n",
    "print(len(list))\n",
    "display(list)"
   ]
  },
  {
   "cell_type": "code",
   "execution_count": null,
   "id": "2ac52434-a323-40ad-9d21-e37a27eb2f5e",
   "metadata": {},
   "outputs": [],
   "source": []
  },
  {
   "cell_type": "code",
   "execution_count": null,
   "id": "bf846061-1c8c-4026-b0c0-a98c772f9ba3",
   "metadata": {},
   "outputs": [],
   "source": []
  }
 ],
 "metadata": {
  "kernelspec": {
   "display_name": "Python 3",
   "language": "python",
   "name": "python3"
  },
  "language_info": {
   "codemirror_mode": {
    "name": "ipython",
    "version": 3
   },
   "file_extension": ".py",
   "mimetype": "text/x-python",
   "name": "python",
   "nbconvert_exporter": "python",
   "pygments_lexer": "ipython3",
   "version": "3.8.3"
  }
 },
 "nbformat": 4,
 "nbformat_minor": 5
}
