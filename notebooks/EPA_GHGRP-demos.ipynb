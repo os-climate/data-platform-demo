{
 "cells": [
  {
   "cell_type": "markdown",
   "id": "ca4752d9-088b-4323-a255-01cb4291fd24",
   "metadata": {},
   "source": [
    "# EPA GHGRP demo of Data in Data Commons\n",
    "\n",
    "The purpose of this notebook is to provide a visual representation of the availability and connectivity of some of the data in the Data Commons.  The Data are:\n",
    "* EPA_GHGRP: Asset-level data (physical plants and operations in the US that emit >= 25 kt CO2e and others covered by GHG Reporting Project)\n",
    "* GLEIF: Legal Entity Identifiers for parent companies that own assets (and identification of parent companies that don't have LEIs)\n",
    "* Type of emissions from parent companies: Direct Emitters, LDC Emissions, On-Shore Refining, Gathering and Boosting, Transmission Pipelines, SF6 from Electrical Equipment\n",
    "* Types of operations by SIC/NAICS codes (Steel, Cement, Electricity Generation, Pulp and Paper Manufacturing, etc)\n",
    "* Sectors (Manufacturing, Transportation Communications and Utilities, Service Industries, Mining, etc)\n",
    "* SEC 10-K reports: Revenue Data (can be compared/contrasted with EPA CO2e emissions data)\n",
    "\n",
    "The data developed in this notebook can be visualized by running the notebook https://github.com/os-climate/data-platform-demo/blob/master/notebooks/Sankey.ipynb\n",
    "\n",
    "Then visualizing the data in SuperSet here: https://superset-secure-odh-superset.apps.odh-cl2.apps.os-climate.org/superset/explore/"
   ]
  },
  {
   "cell_type": "markdown",
   "id": "92b2f17a-aad8-4016-83c9-5c3ac057bbb6",
   "metadata": {},
   "source": [
    "This data is incomplete from a number of perspectives:\n",
    "* Major non-emitting power plants (hydro electric dams, solar arrays, wind turbines, and nuclear powerplants) may be missing as assets\n",
    "* There are no metrics for energy generation or consumption, nor for other units of production (such as tons of steel produced)\n",
    "* All emissions are essentially Scope 1 emissions; there are no Scope 2 attributions for major energy consumers (such as Steel manufacturing)\n",
    "* There are also no Scope 3 metrics\n",
    "* The data is exclusively US-based\n",
    "\n",
    "Despite these shortcomings, this illustration/demonstration shows how additional data can be linked in to provide a more complete picture:\n",
    "* WRI Power Plant data, providing a global perspective on power plants, including emissions, generation, capacity, fuel type, etc.\n",
    "* RMI Utility Transition Hub data, providing fine-grained, up-to-date information about US power plants, including emissions targets\n",
    "* SEC data at Business Segment level (to separate Berkshire Hathaway's \\\\$65B energy business from their overall \\\\$265B enterprise, for example)\n",
    "* SPGI sustainability reports (require NLP analysis to yield quantitative metrics)\n",
    "* etc."
   ]
  },
  {
   "cell_type": "markdown",
   "id": "f45b2468-38d7-46b0-bef3-27cb7ae39856",
   "metadata": {},
   "source": [
    "# Begin with Credentials and Connection to Trino"
   ]
  },
  {
   "cell_type": "code",
   "execution_count": null,
   "id": "f3930173-d987-4032-ad15-717f43242262",
   "metadata": {},
   "outputs": [],
   "source": [
    "import os\n",
    "import pathlib\n",
    "from dotenv import load_dotenv\n",
    "\n",
    "# Load some standard environment variables from a dot-env file, if it exists.\n",
    "# If no such file can be found, does not fail, and so allows these environment vars to\n",
    "# be populated in some other way\n",
    "dotenv_dir = os.environ.get('CREDENTIAL_DOTENV_DIR', os.environ.get('PWD', '/opt/app-root/src'))\n",
    "dotenv_path = pathlib.Path(dotenv_dir) / 'credentials.env'\n",
    "if os.path.exists(dotenv_path):\n",
    "    load_dotenv(dotenv_path=dotenv_path,override=True)"
   ]
  },
  {
   "cell_type": "markdown",
   "id": "240a8da7-6fff-42ee-8f0b-387b67e3cf9d",
   "metadata": {},
   "source": [
    "Set session variable CATALOG to make query terms much more compact"
   ]
  },
  {
   "cell_type": "code",
   "execution_count": null,
   "id": "a4b2596e-6876-4ff4-bba4-73ad49391435",
   "metadata": {},
   "outputs": [],
   "source": [
    "import trino\n",
    "from sqlalchemy.engine import create_engine\n",
    "\n",
    "sqlstring = 'trino://{user}@{host}:{port}/'.format(\n",
    "    user = os.environ['TRINO_USER'],\n",
    "    host = os.environ['TRINO_HOST'],\n",
    "    port = os.environ['TRINO_PORT']\n",
    ")\n",
    "\n",
    "ingest_catalog = 'osc_datacommons_dev'\n",
    "ingest_schema = 'sandbox'\n",
    "epa_table_prefix = 'epa_'\n",
    "dera_table_prefix = 'dera_'\n",
    "\n",
    "sqlargs = {\n",
    "    'auth': trino.auth.JWTAuthentication(os.environ['TRINO_PASSWD']),\n",
    "    'http_scheme': 'https',\n",
    "    'catalog': ingest_catalog,\n",
    "    'schema': ingest_schema,\n",
    "}\n",
    "engine = create_engine(sqlstring, connect_args = sqlargs)\n",
    "connection = engine.connect()\n",
    "\n",
    "import pandas as pd\n",
    "import osc_ingest_trino as osc"
   ]
  },
  {
   "cell_type": "code",
   "execution_count": null,
   "id": "c5aff6c9-105b-4185-87ce-edd8af8e5700",
   "metadata": {},
   "outputs": [],
   "source": [
    "cleanup = False\n",
    "\n",
    "if cleanup:\n",
    "    qres = engine.execute(f\"show tables in {ingest_schema}\")\n",
    "    l = qres.fetchall()\n",
    "\n",
    "    for schema in [ ingest_schema ]:\n",
    "        print(schema)\n",
    "        qres = engine.execute(f'show tables in {schema}')\n",
    "        l = qres.fetchall()\n",
    "\n",
    "        for table in l:\n",
    "            qres = engine.execute(f'drop table {schema}.{table[0]}')\n",
    "            display(qres.fetchall())\n",
    "\n",
    "        qres = engine.execute(f'show tables in {schema}')\n",
    "        display(qres.fetchall())\n",
    "\n",
    "        qres = engine.execute(f'drop schema {schema}')\n",
    "        display(qres.fetchall())\n",
    "\n",
    "\n",
    "    qres = engine.execute('show schemas')\n",
    "    qres.fetchall()"
   ]
  },
  {
   "cell_type": "raw",
   "id": "fc807736-dcca-4a1f-9c39-21f3137367b8",
   "metadata": {},
   "source": [
    "qres = engine.execute(\"\"\"\n",
    "CREATE OR REPLACE VIEW sec_dera.rev\n",
    "COMMENT 'Revenue facts that match a set of tags'\n",
    "-- WITH ( partitioning = ARRAY['mktsegment', 'nationkey'] )\n",
    "-- WITH ( format = 'ORC', partitioning = ARRAY['_date'] )\n",
    "AS\n",
    "    SELECT N.value\n",
    "    FROM sec_dera.num AS N\n",
    "    WHERE N.tag='Revenues'\n",
    "     or N.tag='RevenueFromContractWithCustomerIncludingAssessedTax'\n",
    "     or N.tag='RevenueFromContractWithCustomerExcludingAssessedTax'\n",
    "     or N.tag='RevenuesNetOfInterestExpense'\n",
    "     or N.tag='RegulatedAndUnregulatedOperatingRevenue'\n",
    "     or N.tag='RegulatedOperatingRevenuePipelines'\n",
    "\"\"\")\n",
    "qres.fetchall()\n",
    "\n",
    "qres = engine.execute(\"\"\"\n",
    "DROP VIEW sec_dera.rev\n",
    "\"\"\")\n",
    "qres.fetchall()"
   ]
  },
  {
   "cell_type": "markdown",
   "id": "0b805347-5fcf-484e-ba3f-48f63dce3c34",
   "metadata": {},
   "source": [
    "# Introduction to EPA GHG Reporting Program data (EPA_GHGRP)"
   ]
  },
  {
   "cell_type": "markdown",
   "id": "a6ee5bc9-6ec3-422e-87ad-9df7d4a09452",
   "metadata": {},
   "source": [
    "The EPA's GHG Reporting Program (GHGRP) seems to be a gold standard in terms of creating a bottoms-up list that's good enough to play a major role in tops-down estimates."
   ]
  },
  {
   "cell_type": "raw",
   "id": "8f4fa4ff-9848-4b74-a5a9-74cd254336a1",
   "metadata": {},
   "source": [
    "qres = engine.execute(f\"show tables in epa_ghgrp\")\n",
    "display(qres.fetchall())"
   ]
  },
  {
   "cell_type": "markdown",
   "id": "fc3d71b7-9647-42f8-9d69-fcca59150e44",
   "metadata": {},
   "source": [
    "`Direct_Emitters` are the lion's share of CO2 _emissions_.  `Suppliers` tracks fuels and products which, when used as intended, will create GHG emissions (by direct emitters or others)."
   ]
  },
  {
   "cell_type": "code",
   "execution_count": null,
   "id": "cac9acf8-c604-4bbd-ad94-a753e2225a2e",
   "metadata": {},
   "outputs": [],
   "source": [
    "qres = engine.execute(f\"describe {epa_table_prefix}direct_emitters\")\n",
    "display(qres.fetchall())"
   ]
  },
  {
   "cell_type": "code",
   "execution_count": null,
   "id": "28beafc4-0bc3-4ee8-8b40-79c91d953d21",
   "metadata": {},
   "outputs": [],
   "source": [
    "qres = engine.execute(f\"\"\"\n",
    "select format('%tY', year), format('%,.2f', sum(total_reported_emissions)/1e9) || ' Gt CO2e'\n",
    "from {epa_table_prefix}direct_emitters group by year order by year desc\"\"\")\n",
    "display(qres.fetchall())"
   ]
  },
  {
   "cell_type": "markdown",
   "id": "f412b218-a6eb-46c1-a7a4-af045c10621e",
   "metadata": {},
   "source": [
    "Here's a look at how they stack up (from a Database perspective--we should also look at this in Super Set)."
   ]
  },
  {
   "cell_type": "code",
   "execution_count": null,
   "id": "b016a60d-59cb-4b3e-9373-bb422b56c586",
   "metadata": {},
   "outputs": [],
   "source": [
    "qres = engine.execute(f\"\"\"\n",
    "select count (*), latest_reported_industry_type_sectors,\n",
    "       format('%,.2f', sum(total_reported_emissions)/1e6) || ' Mt CO2e' as MtCO2e\n",
    "from {epa_table_prefix}direct_emitters\n",
    "where year>=DATE('2020-01-01') and year<DATE('2021-01-01')\n",
    "group by latest_reported_industry_type_sectors\n",
    "order by MtCO2e desc\n",
    "\"\"\")\n",
    "display(qres.fetchall())"
   ]
  },
  {
   "cell_type": "markdown",
   "id": "26d22206-2eef-4f73-90be-5d07556118c6",
   "metadata": {},
   "source": [
    "This looks at the `Minerals` industry (which includes cement).  We see that the top emitters have multiple facility locations."
   ]
  },
  {
   "cell_type": "code",
   "execution_count": null,
   "id": "3f647b46-20a7-4f94-ad3d-821947944555",
   "metadata": {},
   "outputs": [],
   "source": [
    "qres = engine.execute(f\"\"\"\n",
    "select count (*), parent_company_name, format('%5.2f', sum(total_reported_emissions)/1e6) || ' Mt CO2e' as MtCO2e\n",
    "from {epa_table_prefix}direct_emitters, {epa_table_prefix}parent_company\n",
    "where year>=DATE('2020-01-01') and year<DATE('2021-01-01') and year=reporting_year\n",
    "      and latest_reported_industry_type_sectors='Minerals'\n",
    "      and {epa_table_prefix}direct_emitters.facility_id={epa_table_prefix}parent_company.ghgrp_facility_id\n",
    "group by parent_company_name\n",
    "order by MtCO2e desc\n",
    "limit 20\n",
    "\"\"\")\n",
    "display(qres.fetchall())"
   ]
  },
  {
   "cell_type": "markdown",
   "id": "27289ccb-a1f5-48b4-b58c-ba9aea39e4b0",
   "metadata": {},
   "source": [
    "`Suppliers` are those who buy and sell GHG-emitting products, but they do not, themselves, cause the emissions.  They merely enable others to emit."
   ]
  },
  {
   "cell_type": "code",
   "execution_count": null,
   "id": "6827713e-298b-4d39-8483-2885803ea013",
   "metadata": {},
   "outputs": [],
   "source": [
    "qres = engine.execute(f\"describe {epa_table_prefix}suppliers\")\n",
    "display(qres.fetchall())"
   ]
  },
  {
   "cell_type": "markdown",
   "id": "d55668ba-edde-4070-962a-53da099a4c07",
   "metadata": {},
   "source": [
    "A quick summary of how many rows of data we have in `epa_ghgrp`.\n",
    "\n",
    "68k rows in `direct_emitters`: lots of facilities  \n",
    "103k rows in `parent_company`: lots of facility/owner relationships"
   ]
  },
  {
   "cell_type": "code",
   "execution_count": null,
   "id": "0c9a9354-06e9-4322-a52a-e7f35ea12118",
   "metadata": {},
   "outputs": [],
   "source": [
    "qres = engine.execute('show tables in sandbox')\n",
    "l = qres.fetchall()\n",
    "\n",
    "l = [t for t in l if t[0].startswith('epa_')]\n",
    "totalrows = 0\n",
    "for e in l:\n",
    "    s = f'select count (*) from {e[0]}'\n",
    "    qres = engine.execute(s)\n",
    "    rowcount = qres.fetchall()[0][0]\n",
    "    totalrows += rowcount\n",
    "    print(f\"{rowcount:>6} <- {s})\")\n",
    "\n",
    "print(f'{totalrows} <- total rows')"
   ]
  },
  {
   "cell_type": "markdown",
   "id": "cbc478cb-03c7-4bc6-8737-0dd11a53ace2",
   "metadata": {},
   "source": [
    "# Reshaping tables to make them easier to chart"
   ]
  },
  {
   "cell_type": "markdown",
   "id": "cfac04f0-ac46-492a-9fcd-867aa64f37e7",
   "metadata": {},
   "source": [
    "The key metric is total_emissions (in metric tons of CO2e), but the name of the metric depends on the source/process.  Nevertheless, we know that `year` is our last metric and that the CO2e metric is 2nd-to-last (hence the `-2` index).\n",
    "\n",
    "We also know that when building our final summary table, the sums feeding into it are all only one row per year.  We use `iat[0,1` to access the 0th row and the 1st column (which will be named specifically to the source/process).  By using `iat`, we get a scalar value we can sum, instead of a Series object we'd have to `squeeze`."
   ]
  },
  {
   "cell_type": "code",
   "execution_count": null,
   "id": "a8b01763-822b-4405-8fdb-8af3353b1fa4",
   "metadata": {},
   "outputs": [],
   "source": [
    "import pandas as pd\n",
    "\n",
    "emission_tables = ['direct_emitters', 'onshore_oil_gas_prod', 'gathering_boosting',\n",
    "                   'transmission_pipelines', 'ldc_direct_emissions', 'sf6_from_elec_equip']\n",
    "tot_em_columns = []\n",
    "\n",
    "q_dict = {}\n",
    "\n",
    "for t in emission_tables:\n",
    "    qres = engine.execute(f\"describe {epa_table_prefix}{t}\")\n",
    "    tr = qres.fetchall()\n",
    "    # Each table's total reported emissions are in column total_reported_emissions\n",
    "    # (paired with total_reported_emissions_units).  We need to make unique names for this merge\n",
    "    total_emission_cname = t+\"_em\"\n",
    "    tot_em_columns.append(total_emission_cname)\n",
    "    qres = engine.execute(f\"\"\"\n",
    "select year, sum(total_reported_emissions), total_reported_emissions_units\n",
    "from {epa_table_prefix}{t}\n",
    "group by year, total_reported_emissions_units\n",
    "\"\"\")\n",
    "    q_dict[t] = pd.DataFrame(qres.fetchall(), columns=['year', total_emission_cname, total_emission_cname+\"_units\"])"
   ]
  },
  {
   "cell_type": "code",
   "execution_count": null,
   "id": "7c0fb13c-40ff-49fb-9614-3cf446dd6563",
   "metadata": {},
   "outputs": [],
   "source": [
    "# A function that excludes terms using SQL to say \"and X!=Y\"\n",
    "def excl_text(excl):\n",
    "    return ' and '.join([f\"latest_reported_industry_type_sectors!='{e}'\" for e in excl])\n",
    "\n",
    "# A function that includes text that matches; SQL that says \"or X like '%Y%'\"\n",
    "def incl_text(incl):\n",
    "    return ' or '.join([f\"latest_reported_industry_type_sectors like '%{e}%'\" for e in incl])\n",
    "\n",
    "t = 'direct_emitters'\n",
    "qres = engine.execute(f\"describe epa_{t}\")\n",
    "t_cols = qres.fetchall()\n",
    "total_emission_cname = t+\"_em\"\n",
    "\n",
    "incl = [ 'Power', 'Petroleum']\n",
    "qres = engine.execute(f\"\"\"\n",
    "select year, sum(total_reported_emissions),  total_reported_emissions_units\n",
    "from {epa_table_prefix}{t}\n",
    "where {incl_text(incl)}\n",
    "group by year, total_reported_emissions_units\n",
    "\"\"\")\n",
    "\n",
    "q_dict[t + f\" (incl {','.join(incl)})\"] = pd.DataFrame(qres.fetchall(),\n",
    "                                                       columns=['year',\n",
    "                                                                total_emission_cname + f\" (matching {','.join(incl)})\",\n",
    "                                                                total_emission_cname + f\" (matching {','.join(incl)})\" + \"_units\"])\n",
    "\n",
    "excl = [ 'Minerals', 'Other', 'Waste', 'Chemicals', 'Pulp and Paper,Waste',\n",
    "        'Metals,Waste', 'Pulp and Paper']\n",
    "qres = engine.execute(f\"\"\"\n",
    "select year, sum(total_reported_emissions),  total_reported_emissions_units\n",
    "from {epa_table_prefix}{t}\n",
    "where {excl_text(excl)}\n",
    "group by year, total_reported_emissions_units\n",
    "\"\"\")\n",
    "q_dict[t + f\" (excl {','.join(excl)})\"] = pd.DataFrame(qres.fetchall(),\n",
    "                                                       columns=['year',\n",
    "                                                                total_emission_cname + f\" (excl {','.join(excl)})\",\n",
    "                                                                total_emission_cname + f\" (excl {','.join(excl)})\" + \"_units\"])"
   ]
  },
  {
   "cell_type": "code",
   "execution_count": null,
   "id": "56eaa35d-1875-44a9-b49c-f506c79fd151",
   "metadata": {},
   "outputs": [],
   "source": [
    "for t in emission_tables:\n",
    "    qres = engine.execute(f\"describe {epa_table_prefix}{t}\")\n",
    "    tr = qres.fetchall()\n",
    "    total_emission_cname = t+\"_em\"\n",
    "    qres = engine.execute(f\"\"\"\n",
    "select year, sum(total_reported_emissions),  total_reported_emissions_units\n",
    "from {epa_table_prefix}{t}\n",
    "group by year, total_reported_emissions_units\n",
    "\"\"\")\n",
    "    q_dict[t] = pd.DataFrame(qres.fetchall(), columns=['year',\n",
    "                                                       total_emission_cname,\n",
    "                                                       total_emission_cname + \"_units\"])\n",
    "\n",
    "grand_total = {}\n",
    "\n",
    "for year in q_dict['direct_emitters'].year:\n",
    "    grand_total[year] = sum([q_dict[t][q_dict[t].year==year].iat[0,1]\n",
    "                             for t in emission_tables if year in q_dict[t].year.values])\n",
    "\n",
    "df = pd.DataFrame.from_dict(grand_total, orient='index', columns=['total_co2e']).reset_index()\n",
    "df.rename(columns={'index':'year'}, inplace=True)\n",
    "# Grab the common unit that all these reports share\n",
    "df['total_co2e_units'] = q_dict['direct_emitters'].iat[0,2]\n",
    "q_dict['grand_total'] = df"
   ]
  },
  {
   "cell_type": "markdown",
   "id": "b775bc69-9788-4c29-af4c-4ac86a6a9528",
   "metadata": {},
   "source": [
    "This gem comes from https://stackoverflow.com/questions/44327999/python-pandas-merge-multiple-dataframes"
   ]
  },
  {
   "cell_type": "code",
   "execution_count": null,
   "id": "20de814b-a94b-4c9f-aec1-c032f97d545e",
   "metadata": {},
   "outputs": [],
   "source": [
    "from functools import reduce\n",
    "\n",
    "df_merged = reduce(lambda left,right: pd.merge(left,right,on=['year'], how='outer'), q_dict.values()).fillna(0)\n",
    "df_merged.sort_values(by='year', ascending=False, inplace=True)\n",
    "df_merged.index = pd.RangeIndex(len(df_merged.index))"
   ]
  },
  {
   "cell_type": "code",
   "execution_count": null,
   "id": "561b7052-d71c-4f5d-8ee1-e2ef885b551a",
   "metadata": {},
   "outputs": [],
   "source": [
    "df_merged"
   ]
  },
  {
   "cell_type": "markdown",
   "id": "e9fa55d5-1fa1-48b0-8bb6-d59201619d3e",
   "metadata": {},
   "source": [
    "A summary table consolidating the totals from the GHGRP, plus three additional columns:\n",
    "1. direct emitters that match \"Power\" or \"Petroleum\"\n",
    "2. direct emitters that are not the top other industries\n",
    "3. total co2e"
   ]
  },
  {
   "cell_type": "code",
   "execution_count": null,
   "id": "16b2e44a-1e17-4b69-be21-19b797e0896f",
   "metadata": {},
   "outputs": [],
   "source": [
    "df_merged.rename(columns={v:v.replace('_', ' ') for v in df_merged.columns.values})"
   ]
  },
  {
   "cell_type": "markdown",
   "id": "1a654764-e8eb-4baf-ad76-9b45169d016e",
   "metadata": {},
   "source": [
    "# Cross-check with ESSD tops-down dataset"
   ]
  },
  {
   "cell_type": "markdown",
   "id": "d629c242-cb58-45fa-a480-943e64f24594",
   "metadata": {},
   "source": [
    "A quick look at *just* CO2.  We'll look at CO2e in the next set of cells."
   ]
  },
  {
   "cell_type": "code",
   "execution_count": null,
   "id": "5070bb4f-f419-4163-b45f-4b2bdde15c7e",
   "metadata": {},
   "outputs": [],
   "source": [
    "qres = engine.execute(\"\"\"\n",
    "select format('%tY', year), sector_title, format('%,.2f', sum(value)/1e9) || ' Gt CO2' as GtCO2 from essd_ghg_data\n",
    "where sector_title='Energy systems' and gas='CO2' and year>=DATE('2010-01-01') and year<DATE('2021-01-01') and ISO='USA'\n",
    "group by year, sector_title, gas order by year desc\"\"\")\n",
    "qres.fetchall()"
   ]
  },
  {
   "cell_type": "code",
   "execution_count": null,
   "id": "b82ce748-3e90-4fe8-a676-cc457bc73192",
   "metadata": {},
   "outputs": [],
   "source": [
    "qres = engine.execute('describe essd_ghg_data')\n",
    "qres.fetchall()"
   ]
  },
  {
   "cell_type": "code",
   "execution_count": null,
   "id": "ede8810a-a4e6-4889-8330-ed3f1e090e2f",
   "metadata": {},
   "outputs": [],
   "source": [
    "qres = engine.execute('describe essd_gwp100_data')\n",
    "qres.fetchall()"
   ]
  },
  {
   "cell_type": "markdown",
   "id": "80d50525-a408-4a60-baa1-300b74a90597",
   "metadata": {},
   "source": [
    "A look at CO2e (presuming that's what GHG gives us from the GWP100 table) for the category `Energy Systems`."
   ]
  },
  {
   "cell_type": "code",
   "execution_count": null,
   "id": "dc81d08f-8b5e-43b9-8e5f-a9a9b59b7ddc",
   "metadata": {},
   "outputs": [],
   "source": [
    "qres = engine.execute(\"\"\"\n",
    "select format('%tY', year), sector_title, format('%,.2f', sum(GHG)/1e9) || ' Gt CO2' as GtCO2 from essd_gwp100_data\n",
    "where sector_title='Energy systems' and year>DATE('2010-01-01') and year<=DATE('2021-01-01') and ISO='USA'\n",
    "group by year, sector_title order by year desc\"\"\")\n",
    "qres.fetchall()"
   ]
  },
  {
   "cell_type": "markdown",
   "id": "d0f652c2-0a1d-425c-83ac-01068f0468be",
   "metadata": {},
   "source": [
    "# Connect with economic data provided by US CENSUS All-sector Survey (2017)"
   ]
  },
  {
   "cell_type": "code",
   "execution_count": null,
   "id": "d8c935b0-78ae-463e-8ed8-c233541f7d2d",
   "metadata": {},
   "outputs": [],
   "source": [
    "qres = engine.execute(\"describe census_all_sector_survey_2017\")\n",
    "display(qres.fetchall())\n",
    "qres = engine.execute(\"select * from census_all_sector_survey_2017 where naics2012='221112'\")\n",
    "display(qres.fetchall())\n"
   ]
  },
  {
   "cell_type": "markdown",
   "id": "3f4584df-8e81-4f43-a406-9f1a19265051",
   "metadata": {},
   "source": [
    "Exercise the connection to NAICS and sector information provided by US Department of Commerce (US_CENSUS)"
   ]
  },
  {
   "cell_type": "code",
   "execution_count": null,
   "id": "72e985b2-beaf-4613-a558-3858ebb91f3e",
   "metadata": {},
   "outputs": [],
   "source": [
    "# Show how many facilities are tagged with what primary NAICS codes\n",
    "\n",
    "qres = engine.execute(f\"\"\"\n",
    "select count (*), format('%tY', {epa_table_prefix}direct_emitters.year), primary_naics_code, naics2012_label\n",
    "from {epa_table_prefix}direct_emitters, census_all_sector_survey_2017\n",
    "where primary_naics_code=naics2012\n",
    "      and census_all_sector_survey_2017.year='2017' and {epa_table_prefix}direct_emitters.year=DATE('2017-01-01')\n",
    "group by {epa_table_prefix}direct_emitters.year, primary_naics_code, naics2012_label\n",
    "order by count (*) desc limit 20\n",
    "\"\"\")\n",
    "display(qres.fetchall())"
   ]
  },
  {
   "cell_type": "markdown",
   "id": "72e98a0a-d874-48d7-b8d3-9589a1e1317e",
   "metadata": {},
   "source": [
    "# More table reshaping: attribution estimation"
   ]
  },
  {
   "cell_type": "code",
   "execution_count": null,
   "id": "20119bf9-4af5-468c-aab4-759072af97d0",
   "metadata": {},
   "outputs": [],
   "source": [
    "df = pd.read_sql(f\"\"\"\n",
    "select facility_id, year, latitude, longitude, latest_reported_industry_type_sectors, total_reported_emissions, total_reported_emissions_units\n",
    "from {epa_table_prefix}direct_emitters\"\"\", engine)\n",
    "df.facility_id = df.facility_id.astype('int64')\n",
    "df.year = df.year.astype('datetime64[ns, UTC]')\n",
    "df.total_reported_emissions = df.total_reported_emissions.astype('float64')\n",
    "df.total_reported_emissions_units = df.total_reported_emissions_units.astype('string')\n",
    "df.latest_reported_industry_type_sectors.fillna('Other', inplace=True)\n",
    "\n",
    "df['sector_groupings'] = pd.Series([f\"{s[0]} ({len(s)+1})\" if len(s)>1 else s[0] for s in df.latest_reported_industry_type_sectors.str.split(',')])"
   ]
  },
  {
   "cell_type": "code",
   "execution_count": null,
   "id": "e2d0fdd9-0b9e-44ad-8d35-42c0b726fa7b",
   "metadata": {},
   "outputs": [],
   "source": [
    "for sl in df.latest_reported_industry_type_sectors.str.split(','):\n",
    "    # Ensure all primary (and if listed, secondary) sectors are represented\n",
    "    if f's_{sl[0]}' not in df.columns:\n",
    "        df[f's_{sl[0]}'] = 0.0\n",
    "    if len(sl)>1 and f's_{sl[1]}' not in df.columns:\n",
    "        df[f's_{sl[1]}'] = 0.0"
   ]
  },
  {
   "cell_type": "code",
   "execution_count": null,
   "id": "fe9aa90d-a3b4-4c66-85cf-9c0a062b844a",
   "metadata": {},
   "outputs": [],
   "source": [
    "attribution_vector = [ pd.Series([1.0]),\n",
    "                       pd.Series([2.0/3.0, 1.0/3.0]),\n",
    "                       pd.Series([0.5, 0.3, 0.2]),\n",
    "                       pd.Series([0.4, 0.3, 0.2, 0.1]),\n",
    "                       pd.Series([0.30, 0.25, 0.20, 0.15, 0.10]),\n",
    "                       pd.Series([0.30, 0.24, 0.19, 0.14, 0.09, 0.04])]\n",
    "\n",
    "def apply_attribution(x):\n",
    "    sl = x.latest_reported_industry_type_sectors.split(',')\n",
    "    # Tertiary sectors not previously mentioned are silently converted to Other, keeping our attribution columns from exploding\n",
    "    appropriate_columns = list(set([f's_{s}' if f's_{s}' in x else 's_Other' for s in sl]))\n",
    "    x[ appropriate_columns ] = x.total_reported_emissions * attribution_vector[len(appropriate_columns)-1].values\n",
    "    return x\n",
    "\n",
    "df_emitters = df.apply(apply_attribution, axis=1)"
   ]
  },
  {
   "cell_type": "code",
   "execution_count": null,
   "id": "df5e5497-c005-4296-b572-8ed52afc5283",
   "metadata": {},
   "outputs": [],
   "source": [
    "df_emitters[df_emitters.latest_reported_industry_type_sectors.str.contains(',')]"
   ]
  },
  {
   "cell_type": "code",
   "execution_count": null,
   "id": "11b2d574-26e7-43cf-8bee-6dce91f60d44",
   "metadata": {},
   "outputs": [],
   "source": [
    "df_emitters[df_emitters.latest_reported_industry_type_sectors.str.count(',')>1]"
   ]
  },
  {
   "cell_type": "raw",
   "id": "728a0551-0251-4ef2-b75c-64d3c7a93cc1",
   "metadata": {},
   "source": [
    "import boto3\n",
    "\n",
    "# Create an S3 client.  We will user later when we write out data and metadata\n",
    "s3_trino = boto3.client(\n",
    "    service_name=\"s3\",\n",
    "    endpoint_url=os.environ['S3_DEV_ENDPOINT'],\n",
    "    aws_access_key_id=os.environ['S3_DEV_ACCESS_KEY'],\n",
    "    aws_secret_access_key=os.environ['S3_DEV_SECRET_KEY'],\n",
    ")"
   ]
  },
  {
   "cell_type": "raw",
   "id": "dbc4d56c-9e9b-4a66-994e-753345be62de",
   "metadata": {},
   "source": [
    "custom_meta_key_fields = 'metafields'\n",
    "custom_meta_key = 'metaset'\n",
    "\n",
    "# from datetime import *\n",
    "# timestamp = str(datetime.now())\n",
    "\n",
    "qres = engine.execute(f'create schema if not exists {ingest_schema}')\n",
    "qres.fetchall()"
   ]
  },
  {
   "cell_type": "markdown",
   "id": "62542299-89e8-4ef1-be52-5c3154ad4704",
   "metadata": {},
   "source": [
    "# Working with Materialized Views\n",
    "\n",
    "For now, we use Database Tables, because the specific Trino connector we are using does not support Materialized Views."
   ]
  },
  {
   "cell_type": "raw",
   "id": "8a540101-d984-465f-8fb6-a0171e32ba87",
   "metadata": {},
   "source": [
    "Things start getting tricky here.  The `FACILITY_ID` is a primary key in tables like `DIRECT_EMITTERS`.  The Plum Point Energy Station (#1000539) has 5 owners, meaning there are 5 entries in the `parent_copmany` table with #1000539 as the `GHGRP_FACILITY_ID`.  If not careful, that plant's 3.4M Mt CO2e could be reported as 5x as much if each owner picks up the full attribution of those emissions.  Similarly, the DERA data is both annual (10-K, 20-F, 40-F) and quarterly (10-Q), which means that an interesting datapoints can occur 4 times per year.  We must take care when connecting annually-reported data to quarterly-reported data.  So...BEWARE!\n",
    "\n",
    "And...use the parent_attribution table, which properly attributes a fraction of the emissions generated to the owner's fractional ownership.  Using this table, all 10 owners will have the correct emissions attributions, and the emissions won't be wrongly counted ten times."
   ]
  },
  {
   "cell_type": "markdown",
   "id": "46a6962c-b269-444b-ac93-4595a6909739",
   "metadata": {},
   "source": [
    "Here's an example of a facility with many owners..."
   ]
  },
  {
   "cell_type": "code",
   "execution_count": null,
   "id": "87847c4e-9c57-4190-9a5e-d5554b6f8377",
   "metadata": {},
   "outputs": [],
   "source": [
    "qres = engine.execute(f\"\"\"\n",
    "select ghgrp_facility_id,frs_id_facility,lei,format('%tY', reporting_year),facility_name,\n",
    "       facility_city,facility_state,parent_company_name,facility_naics_code\n",
    "from {epa_table_prefix}parent_company where YEAR(reporting_year)=2020 and ghgrp_facility_id=1005071 order by lei\"\"\")\n",
    "qres.fetchall()"
   ]
  },
  {
   "cell_type": "markdown",
   "id": "8ac88c9d-2e37-4180-b1bd-3218c884a759",
   "metadata": {},
   "source": [
    "...meaning 10 rows of data that's outside our easy-to-aggregate data"
   ]
  },
  {
   "cell_type": "code",
   "execution_count": null,
   "id": "94486cf4-341a-4d32-b574-1e68f77ce619",
   "metadata": {
    "tags": []
   },
   "outputs": [],
   "source": [
    "qres = engine.execute(f\"\"\"\n",
    "select facility_id,facility_name,total_reported_emissions,\n",
    "       city,state,latitude,longitude,primary_naics_code,\n",
    "       latest_reported_industry_type_subparts,latest_reported_industry_type_sectors,format('%tY', year)\n",
    "from {epa_table_prefix}direct_emitters where facility_id=1005071 order by year\"\"\")\n",
    "qres.fetchall()"
   ]
  },
  {
   "cell_type": "markdown",
   "id": "e3da67e1-4999-4f44-b708-c9df70e1e5dd",
   "metadata": {},
   "source": [
    "Create actual materialized data from a large concatenation operation"
   ]
  },
  {
   "cell_type": "code",
   "execution_count": null,
   "id": "a6452820-cecc-4d7d-9a82-fd56b73308af",
   "metadata": {
    "tags": []
   },
   "outputs": [],
   "source": [
    "import osc_ingest_trino as osc\n",
    "import itertools\n",
    "\n",
    "engine.execute(f\"create schema if not exists {ingest_schema}\")\n",
    "\n",
    "# display([(x, y) for x, y in zip(emission_tables,tot_em_columns)])\n",
    "\n",
    "emission_selects = [ f\"\"\"\n",
    "select ghgrp_facility_id, reporting_year, lei, '{e_tbl}' as table_source,\n",
    "         primary_naics_code, parent_co_percent_ownership * 0.01 * {e_col} as fractional_emissions,\n",
    "         facility_naics_code, parent_company_name\n",
    "    from {epa_table_prefix}parent_company as PC join {epa_table_prefix}{e_tbl} as ET on PC.ghgrp_facility_id=ET.facility_id and PC.reporting_year=ET.year\n",
    "\"\"\" for e_tbl, e_col in zip(emission_tables,itertools.repeat('total_reported_emissions')) ]\n",
    "\n",
    "qres = engine.execute(f\"drop table if exists {epa_table_prefix}parent_attribution\")\n",
    "print(qres.fetchall())\n",
    "\n",
    "sql = f\"\"\"\n",
    "create table {epa_table_prefix}parent_attribution as {' union all '.join(emission_selects)}\n",
    "\"\"\"\n",
    "\n",
    "print(sql)\n",
    "\n",
    "qres = engine.execute(sql)\n",
    "print(qres.fetchall())"
   ]
  },
  {
   "cell_type": "code",
   "execution_count": null,
   "id": "75fac9c0-a162-4251-aeae-f20d99dbfdca",
   "metadata": {},
   "outputs": [],
   "source": [
    "qres = engine.execute(f\"describe {epa_table_prefix}parent_attribution\")\n",
    "display(qres.fetchall())\n",
    "\n",
    "qres = engine.execute(f\"\"\"\n",
    "select ghgrp_facility_id, YEAR(reporting_year), lei, table_source, format('%,.2f', fractional_emissions) || ' t CO2e' as metric\n",
    "from {epa_table_prefix}parent_attribution\"\"\")\n",
    "qres.fetchall()[::2000]"
   ]
  },
  {
   "cell_type": "markdown",
   "id": "9133ec21-82ac-456b-9a50-613600a14437",
   "metadata": {},
   "source": [
    "How many **_facilities owned by public companies_** match to corporate reports we can see using the SEC's DERA dataset?"
   ]
  },
  {
   "cell_type": "markdown",
   "id": "035a266e-d461-4b5d-a7f2-a1915e495843",
   "metadata": {},
   "source": [
    "See how many `PARENT_COMPANY` records have LEIs we know.  Note that there are about 8400 total facilities, so 4 facilities not covered by LEI for each that is.\n",
    "There are 3K-4K distinctly named entities, so average entity owns (at least partially) approx 2-3 facilities.  It also means we know the LEIs of approximately half of the parent copmanies."
   ]
  },
  {
   "cell_type": "code",
   "execution_count": null,
   "id": "588d685e-730a-4814-885c-514bb18851ae",
   "metadata": {},
   "outputs": [],
   "source": [
    "qres = engine.execute(f\"\"\"select count (*), DATE(reporting_year)\n",
    "from (select lei, reporting_year from {epa_table_prefix}parent_company where LEI is not null group by lei, reporting_year)\n",
    "group by reporting_year order by reporting_year desc\"\"\")\n",
    "qres.fetchall()"
   ]
  },
  {
   "cell_type": "code",
   "execution_count": null,
   "id": "ca190fe9-7f34-4c25-b490-07d71a9b72ba",
   "metadata": {},
   "outputs": [],
   "source": [
    "qres = engine.execute(f\"describe {dera_table_prefix}sub\")\n",
    "qres.fetchall()"
   ]
  },
  {
   "cell_type": "code",
   "execution_count": null,
   "id": "c130ecc5-4298-495d-ab65-e25730aa44b7",
   "metadata": {},
   "outputs": [],
   "source": [
    "qres = engine.execute(f\"describe {dera_table_prefix}num\")\n",
    "qres.fetchall()"
   ]
  },
  {
   "cell_type": "code",
   "execution_count": null,
   "id": "7f502b2b-b9f2-4c1b-b03c-78a5aee2d3c8",
   "metadata": {},
   "outputs": [],
   "source": [
    "qres = engine.execute(f\"\"\"select count (*), DATE(reporting_year)\n",
    "from {epa_table_prefix}parent_attribution PA join {dera_table_prefix}sub S on PA.lei=S.lei\n",
    "where (form='10-K' or form='20-F' or form='40-F')\n",
    "and YEAR(reporting_year)=2020 and YEAR(fy)=2020\n",
    "and PA.lei is not null\n",
    "group by PA.reporting_year\n",
    "order by PA.reporting_year\n",
    "\"\"\")\n",
    "qres.fetchall()"
   ]
  },
  {
   "cell_type": "markdown",
   "id": "e0ce70f0-dfeb-4c7d-a144-bce48b425aaf",
   "metadata": {},
   "source": [
    "We can tie these companies to ticker symbols..."
   ]
  },
  {
   "cell_type": "code",
   "execution_count": null,
   "id": "caac6388-9fa6-46e2-89b5-1096dd466fb9",
   "metadata": {},
   "outputs": [],
   "source": [
    "qres = engine.execute(f\"\"\"select * from ticker limit 10\"\"\")\n",
    "qres.fetchall()"
   ]
  },
  {
   "cell_type": "markdown",
   "id": "8748ac18-59aa-4c55-9351-9d16db1b28b5",
   "metadata": {},
   "source": [
    "How many distinct companies own these facilities (and what are their ticker symbols)?"
   ]
  },
  {
   "cell_type": "code",
   "execution_count": null,
   "id": "065ae190-4b46-4cc4-abed-715d2332d8f9",
   "metadata": {},
   "outputs": [],
   "source": [
    "qres = engine.execute(f\"\"\"\n",
    "with leis as (select DISTINCT(S.lei), name, if(tname IS NULL, '<private>', tname) as ticker\n",
    "              from {epa_table_prefix}parent_attribution PA join {dera_table_prefix}sub S on PA.lei=S.lei\n",
    "                   join ticker on S.cik=ticker.cik\n",
    "              where (form='10-K' or form='20-F' or form='40-F')\n",
    "              and period>=DATE('2020-01-01')\n",
    "              and period<DATE('2021-01-01'))\n",
    "select count (*), ticker, leis.lei, name, format('%tY', reporting_year)\n",
    "from {epa_table_prefix}parent_attribution PA join leis on PA.lei=leis.lei\n",
    "where YEAR(reporting_year)=2020\n",
    "group by leis.ticker, leis.lei, name, reporting_year\n",
    "order by count(*) desc\n",
    "-- limit 10\n",
    "\"\"\")\n",
    "ticker_list = qres.fetchall()\n",
    "print(len(ticker_list))"
   ]
  },
  {
   "cell_type": "markdown",
   "id": "83b777c0-ed9c-46b7-8f55-4d3411ad7243",
   "metadata": {},
   "source": [
    "Note that some comapnies have more than one ticker symbol!"
   ]
  },
  {
   "cell_type": "code",
   "execution_count": null,
   "id": "6de62aab-52e4-4fd5-98d6-bcc4499f5754",
   "metadata": {},
   "outputs": [],
   "source": [
    "ticker_list[0:50]"
   ]
  },
  {
   "cell_type": "markdown",
   "id": "a8f0006c-5bdd-4a08-a696-c687486c72ca",
   "metadata": {},
   "source": [
    "We can try to add up all the faciltiies for all the tickers, but that leads to counting duplicates for companies that have multiple ticker symbols...(should be 2651, not 5746)"
   ]
  },
  {
   "cell_type": "code",
   "execution_count": null,
   "id": "647de092-d4b0-48e1-b4c1-2e8fbc93f1f7",
   "metadata": {},
   "outputs": [],
   "source": [
    "sum([te[0] for te in ticker_list])"
   ]
  },
  {
   "cell_type": "markdown",
   "id": "abf70ce4-944c-4e4c-91a5-a2e64f216d34",
   "metadata": {},
   "source": [
    "Sample data to cross-check LEI, Facility ID and EDGAR submission data"
   ]
  },
  {
   "cell_type": "code",
   "execution_count": null,
   "id": "c39b33d6-02ae-4807-baf3-17c818b234de",
   "metadata": {},
   "outputs": [],
   "source": [
    "qres = engine.execute(f\"\"\"\n",
    "select DISTINCT(S.lei), ghgrp_facility_id, adsh\n",
    "              from {epa_table_prefix}parent_attribution PA join {dera_table_prefix}sub S on PA.lei=S.lei\n",
    "              where YEAR(reporting_year)=2020\n",
    "              and (form='10-K' or form='20-F' or form='40-F')\n",
    "              and YEAR(period)=2020\n",
    "              order by S.lei desc\"\"\")\n",
    "l = qres.fetchall()\n",
    "print(len(l))\n",
    "display(l[::100])"
   ]
  },
  {
   "cell_type": "markdown",
   "id": "e5f11baa-e547-4253-a902-2c25dabd0cb2",
   "metadata": {},
   "source": [
    "Compute intensity in metric tons of CO2e per million dollars"
   ]
  },
  {
   "cell_type": "code",
   "execution_count": null,
   "id": "7e1565a7-fb6c-48b1-b051-75e244c15c7b",
   "metadata": {},
   "outputs": [],
   "source": [
    "qres = engine.execute(f\"\"\"\n",
    "select PA.lei, sic, floor(sic/100) as sic_2digit, format('%1$tY-%1$tm-%1$td', reporting_year),\n",
    "       name, sum(fractional_emissions) as tot_co2e,\n",
    "       uom || ' $M', round(max(value)/1e6,3) as tot_revenue,\n",
    "       format('%7.2f', 1e6*sum(fractional_emissions)/sum(value)) || ' t CO2e/$M' as intensity\n",
    "from {epa_table_prefix}parent_attribution as PA join {dera_table_prefix}sub as S on PA.lei=S.lei\n",
    "     join {dera_table_prefix}num as N on S.adsh=N.adsh\n",
    "where YEAR(reporting_year)=2020\n",
    "and (form='10-K' or form='20-F' or form='40-F')\n",
    "and YEAR(period)=2020\n",
    "and YEAR(ddate)=2020\n",
    "and coreg is NULL\n",
    "and (N.tag='Revenues'\n",
    "     or N.tag='RevenueFromContractWithCustomerIncludingAssessedTax'\n",
    "     or N.tag='RevenueFromContractWithCustomerExcludingAssessedTax'\n",
    "     or N.tag='RevenuesNetOfInterestExpense'\n",
    "     or N.tag='RegulatedAndUnregulatedOperatingRevenue'\n",
    "     or N.tag='RegulatedOperatingRevenuePipelines')\n",
    "and N.qtrs=4\n",
    "group by PA.lei, PA.reporting_year, sic, name, uom\n",
    "order by intensity desc\n",
    "-- limit 100\n",
    "\"\"\")\n",
    "rows = qres.fetchall()\n",
    "print(len(rows))\n",
    "display(rows[::5])"
   ]
  },
  {
   "cell_type": "markdown",
   "id": "9ef54491-7aa8-45a7-9b7c-aae87af6e187",
   "metadata": {},
   "source": [
    "# A Deep Dive into outlier data"
   ]
  },
  {
   "cell_type": "code",
   "execution_count": null,
   "id": "2ac52434-a323-40ad-9d21-e37a27eb2f5e",
   "metadata": {},
   "outputs": [],
   "source": [
    "qreg=engine.execute(f\"\"\"\n",
    "select DISTINCT(S.lei), ghgrp_facility_id, name, adsh\n",
    "from {epa_table_prefix}parent_attribution PA join {dera_table_prefix}sub S on PA.lei=S.lei\n",
    "where YEAR(reporting_year)=2020 and S.lei='549300O4B5CVWMKUES27'\n",
    "and (form='10-K' or form='20-F' or form='40-F')\n",
    "and YEAR(period)=2020\"\"\")\n",
    "qreg.fetchall()"
   ]
  },
  {
   "cell_type": "code",
   "execution_count": null,
   "id": "c47588b6-6cae-495a-a955-13f6d10b8888",
   "metadata": {},
   "outputs": [],
   "source": [
    "qreg=engine.execute(f\"\"\"\n",
    "select DATE(reporting_year), format ('%,10.2f', sum(fractional_emissions)) || ' t CO2e' as metric\n",
    "from {epa_table_prefix}parent_attribution\n",
    "where lei='549300O4B5CVWMKUES27'\n",
    "group by DATE(reporting_year)\n",
    "\"\"\")\n",
    "l = qreg.fetchall()\n",
    "l"
   ]
  },
  {
   "cell_type": "code",
   "execution_count": null,
   "id": "c428e2c1-3496-40ca-ba06-6ea94aaca240",
   "metadata": {},
   "outputs": [],
   "source": []
  },
  {
   "cell_type": "markdown",
   "id": "43b628b9-e0eb-4cd9-b775-a149cc48c993",
   "metadata": {},
   "source": [
    "# GHGRP Direct Emitters include Cement and Steel Plans (which we can connect to SFI data)"
   ]
  },
  {
   "cell_type": "code",
   "execution_count": null,
   "id": "2d8653b3-e57d-4d0b-817f-407b55b47ad4",
   "metadata": {},
   "outputs": [],
   "source": [
    "qres = engine.execute(\"describe sfi_cement\")\n",
    "display(qres.fetchall())"
   ]
  },
  {
   "cell_type": "code",
   "execution_count": null,
   "id": "4d871556-f785-4269-8d6c-e2f2aaf169d8",
   "metadata": {},
   "outputs": [],
   "source": [
    "qres = engine.execute(\"select count (*) from sfi_cement\")\n",
    "display(qres.fetchall())\n",
    "qres = engine.execute(\"select count (*) from sfi_steel\")\n",
    "display(qres.fetchall())\n",
    "\n",
    "# There are 105 US-located cement plants listed in the SFI report with parent LEIs\n",
    "qres = engine.execute(\"select count (*), iso3 from sfi_cement where iso3='USA' group by iso3\")\n",
    "display(qres.fetchall())\n",
    "\n",
    "qres = engine.execute(f\"\"\"\n",
    "select owner_name, parent_name, lei, parent_lei, facility_id\n",
    "from sfi_cement, {epa_table_prefix}direct_emitters, {epa_table_prefix}parent_company\n",
    "where ghgrp_facility_id=facility_id\n",
    "and reporting_year={epa_table_prefix}direct_emitters.year\n",
    "and YEAR(reporting_year)=2020\n",
    "and sfi_cement.iso3='USA'\n",
    "and abs(sfi_cement.latitude-{epa_table_prefix}direct_emitters.latitude)<0.01\n",
    "and abs(sfi_cement.longitude-{epa_table_prefix}direct_emitters.longitude)<0.01\n",
    "\"\"\")\n",
    "l = qres.fetchall()\n",
    "print(f\"{len(l)}: facilities/parent relationships matched in USA using lat/lon\")"
   ]
  },
  {
   "cell_type": "code",
   "execution_count": null,
   "id": "5b4c6483-7534-40de-a40b-9ae019c96fb2",
   "metadata": {},
   "outputs": [],
   "source": [
    "l[3::2]"
   ]
  },
  {
   "cell_type": "code",
   "execution_count": null,
   "id": "15104b85-b29b-472d-89a0-84f79863d7e4",
   "metadata": {},
   "outputs": [],
   "source": []
  }
 ],
 "metadata": {
  "kernelspec": {
   "display_name": "Python 3 (ipykernel)",
   "language": "python",
   "name": "python3"
  },
  "language_info": {
   "codemirror_mode": {
    "name": "ipython",
    "version": 3
   },
   "file_extension": ".py",
   "mimetype": "text/x-python",
   "name": "python",
   "nbconvert_exporter": "python",
   "pygments_lexer": "ipython3",
   "version": "3.9.12"
  }
 },
 "nbformat": 4,
 "nbformat_minor": 5
}
