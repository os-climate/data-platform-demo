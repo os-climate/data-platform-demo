{
 "cells": [
  {
   "cell_type": "markdown",
   "id": "42935db6-b8be-436b-b217-3af1e57dbf42",
   "metadata": {},
   "source": [
    "Load PUDL Data as example of Data Ingestion pipeline\n",
    "Copyright (C) 2021 OS-Climate\n",
    "\n",
    "Permission is hereby granted, free of charge, to any person obtaining a copy of this software and associated documentation files (the \"Software\"), to deal in the Software without restriction, including without limitation the rights to use, copy, modify, merge, publish, distribute, sublicense, and/or sell copies of the Software, and to permit persons to whom the Software is furnished to do so, subject to the following conditions:\n",
    "\n",
    "The above copyright notice and this permission notice shall be included in all copies or substantial portions of the Software.\n",
    "\n",
    "THE SOFTWARE IS PROVIDED \"AS IS\", WITHOUT WARRANTY OF ANY KIND, EXPRESS OR IMPLIED, INCLUDING BUT NOT LIMITED TO THE WARRANTIES OF MERCHANTABILITY, FITNESS FOR A PARTICULAR PURPOSE AND NONINFRINGEMENT. IN NO EVENT SHALL THE AUTHORS OR COPYRIGHT HOLDERS BE LIABLE FOR ANY CLAIM, DAMAGES OR OTHER LIABILITY, WHETHER IN AN ACTION OF CONTRACT, TORT OR OTHERWISE, ARISING FROM, OUT OF OR IN CONNECTION WITH THE SOFTWARE OR THE USE OR OTHER DEALINGS IN THE SOFTWARE."
   ]
  },
  {
   "cell_type": "code",
   "execution_count": null,
   "id": "fb2950ef-da2e-4eea-92a0-c3d34c26e2b1",
   "metadata": {},
   "outputs": [],
   "source": [
    "# pip install boto3\n",
    "# pip install python-dotenv\n",
    "# pip install trino\n",
    "# pip install pandas\n",
    "# pip install pyarrow"
   ]
  },
  {
   "cell_type": "code",
   "execution_count": null,
   "id": "52835db2-bc08-4cdd-9c63-3bbd0e8da54a",
   "metadata": {},
   "outputs": [],
   "source": [
    "from dotenv import dotenv_values, load_dotenv\n",
    "from osc_ingest_trino import *\n",
    "import os\n",
    "import pathlib\n",
    "import boto3\n",
    "import pandas as pd\n",
    "import trino\n",
    "import io"
   ]
  },
  {
   "cell_type": "markdown",
   "id": "826c573d-900c-4d91-b850-5830ea8596f0",
   "metadata": {},
   "source": [
    "Load Environment Variables"
   ]
  },
  {
   "cell_type": "code",
   "execution_count": null,
   "id": "8c8915ef-49f4-4e1e-80b5-2ee72d551945",
   "metadata": {},
   "outputs": [],
   "source": [
    "dotenv_dir = os.environ.get('CREDENTIAL_DOTENV_DIR', os.environ.get('PWD', '/opt/app-root/src'))\n",
    "dotenv_path = pathlib.Path(dotenv_dir) / 'credentials.env'\n",
    "if os.path.exists(dotenv_path):\n",
    "    load_dotenv(dotenv_path=dotenv_path,override=True)"
   ]
  },
  {
   "cell_type": "markdown",
   "id": "d6f311b5-ed84-46a4-b8f3-95df12f6dd07",
   "metadata": {},
   "source": [
    "Create an S3 resource for the bucket holding source data, then retrieve the relevant bucket and list objects"
   ]
  },
  {
   "cell_type": "code",
   "execution_count": null,
   "id": "86f3304b-1b2e-466d-9c06-e27913fc35d4",
   "metadata": {},
   "outputs": [],
   "source": [
    "s3_resource = boto3.resource(\n",
    "    service_name=\"s3\",\n",
    "    endpoint_url=os.environ['S3_LANDING_ENDPOINT'],\n",
    "    aws_access_key_id=os.environ['S3_LANDING_ACCESS_KEY'],\n",
    "    aws_secret_access_key=os.environ['S3_LANDING_SECRET_KEY'],\n",
    ")"
   ]
  },
  {
   "cell_type": "code",
   "execution_count": null,
   "id": "ca020b72-3228-46eb-8ce1-f5d34e12f9d4",
   "metadata": {},
   "outputs": [],
   "source": [
    "bucket = s3_resource.Bucket(os.environ['S3_LANDING_BUCKET'])\n",
    "\n",
    "# list all objects\n",
    "#for obj in bucket.objects.all():\n",
    "#    print(obj.key, obj.last_modified)\n",
    "    \n",
    "files = []\n",
    "for file in bucket.objects.filter(Prefix='PUDL/pudl-v0.5.0/pudl_data/parquet/'):\n",
    "    if file.key.endswith('parquet'):\n",
    "        files.append(file.key)\n",
    "files[0:10]"
   ]
  },
  {
   "cell_type": "code",
   "execution_count": null,
   "id": "a50b83d3-9930-4ee2-a612-8f0710018dac",
   "metadata": {},
   "outputs": [],
   "source": [
    "from os.path import exists\n",
    "\n",
    "for sqlite_name in ['pudl', 'ferc1']:\n",
    "    sqlite_filepath = f'/opt/app-root/share/pudl/sqlite/{sqlite_name}.sqlite'\n",
    "    if not exists(sqlite_filepath):\n",
    "        os.makedirs('/opt/app-root/share/pudl/sqlite', mode=0o775, exist_ok=True)\n",
    "        sqlite_src = s3_resource.Object(os.environ['S3_LANDING_BUCKET'],f'PUDL/pudl-v0.5.0/pudl_data/sqlite/{sqlite_name}.sqlite')\n",
    "        sqlite_src.download_file(sqlite_filepath)\n",
    "    else:\n",
    "        print(f'{sqlite_filepath} exists')"
   ]
  },
  {
   "cell_type": "markdown",
   "id": "431cba45-14f6-4d43-aa57-eb42ebf81502",
   "metadata": {},
   "source": [
    "Read the first parquet file into a Pandas data frame and view the results"
   ]
  },
  {
   "cell_type": "code",
   "execution_count": null,
   "id": "6e2c3d8f-0b00-4546-9a67-18784bb4e8e3",
   "metadata": {},
   "outputs": [],
   "source": [
    "buffer = io.BytesIO()\n",
    "parquet_file = s3_resource.Object(os.environ['S3_LANDING_BUCKET'],files[0])\n",
    "parquet_file.download_fileobj(buffer)\n",
    "df = pd.read_parquet(buffer)\n",
    "df"
   ]
  },
  {
   "cell_type": "code",
   "execution_count": null,
   "id": "2199874e-4f84-4a22-938a-726e73191a43",
   "metadata": {},
   "outputs": [],
   "source": [
    "df.info(verbose=True)"
   ]
  },
  {
   "cell_type": "markdown",
   "id": "9dcb3c2b-3dc7-4ab8-84b4-6752e94471f4",
   "metadata": {},
   "source": [
    "Ingest the data onto the S3 Development Bucket"
   ]
  },
  {
   "cell_type": "code",
   "execution_count": null,
   "id": "46b36466-893a-4c82-8e32-09a35e628441",
   "metadata": {},
   "outputs": [],
   "source": [
    "tablename = 'Y95_AL'\n",
    "df.to_parquet('/tmp/{tname}.parquet'.format(tname=tablename), index=False)"
   ]
  },
  {
   "cell_type": "code",
   "execution_count": null,
   "id": "7190d363-3ec9-473c-86d9-3343d7167431",
   "metadata": {},
   "outputs": [],
   "source": [
    "# Create an S3 client\n",
    "s3 = boto3.client(\n",
    "    service_name=\"s3\",\n",
    "    endpoint_url=os.environ['S3_DEV_ENDPOINT'],\n",
    "    aws_access_key_id=os.environ['S3_DEV_ACCESS_KEY'],\n",
    "    aws_secret_access_key=os.environ['S3_DEV_SECRET_KEY'],\n",
    ")"
   ]
  },
  {
   "cell_type": "code",
   "execution_count": null,
   "id": "48bf38bc-7a18-4d4a-b093-5cafe3e78e7a",
   "metadata": {
    "tags": []
   },
   "outputs": [],
   "source": [
    "s3.upload_file(\n",
    "    Bucket=os.environ['S3_DEV_BUCKET'],\n",
    "    Key='trino/pudl/{tname}/{tname}.parquet'.format(tname=tablename),\n",
    "    Filename='/tmp/{tname}.parquet'.format(tname=tablename)\n",
    ")"
   ]
  },
  {
   "cell_type": "code",
   "execution_count": null,
   "id": "ffca2dd9-9108-4a24-93d1-eaefa358f357",
   "metadata": {},
   "outputs": [],
   "source": [
    "conn = trino.dbapi.connect(\n",
    "    host=os.environ['TRINO_HOST'],\n",
    "    port=int(os.environ['TRINO_PORT']),\n",
    "    user=os.environ['TRINO_USER'],\n",
    "    http_scheme='https',\n",
    "    auth=trino.auth.JWTAuthentication(os.environ['TRINO_PASSWD']),\n",
    "    verify=True,\n",
    ")\n",
    "cur = conn.cursor()"
   ]
  },
  {
   "cell_type": "code",
   "execution_count": null,
   "id": "f0d7f9aa-dcd9-4d0b-9a55-2305e8acd356",
   "metadata": {},
   "outputs": [],
   "source": [
    "# Show available schemas to ensure trino connection is set correctly\n",
    "cur.execute('show schemas in osc_datacommons_dev')\n",
    "cur.fetchall()"
   ]
  },
  {
   "cell_type": "markdown",
   "id": "26ec9ce0-3c93-4811-8019-3798e3ba183a",
   "metadata": {},
   "source": [
    "Create ingestion schema based on source data name and remove old tables if necessary"
   ]
  },
  {
   "cell_type": "code",
   "execution_count": null,
   "id": "927a3497-6c7f-4bd8-89cb-4f29e9d46821",
   "metadata": {},
   "outputs": [],
   "source": [
    "cur.execute('create schema if not exists osc_datacommons_dev.pudl')\n",
    "cur.fetchall()"
   ]
  },
  {
   "cell_type": "code",
   "execution_count": null,
   "id": "a32fdc98-1092-4627-8b04-3c5680a433c5",
   "metadata": {},
   "outputs": [],
   "source": [
    "cur.execute('drop table if exists osc_datacommons_dev.pudl.' + tablename)\n",
    "cur.fetchall()"
   ]
  },
  {
   "cell_type": "code",
   "execution_count": null,
   "id": "f130ab91-1bf4-4a41-bf63-68c7b02af7d8",
   "metadata": {},
   "outputs": [],
   "source": [
    "schema = create_table_schema_pairs(df)\n",
    "\n",
    "tabledef = \"\"\"create table if not exists osc_datacommons_dev.pudl.{tname}(\n",
    "{schema}\n",
    ") with (\n",
    "    format = 'parquet',\n",
    "    external_location = 's3a://{bucket}/trino/pudl/{tname}/'\n",
    ")\"\"\".format(schema=schema,bucket=os.environ['S3_DEV_BUCKET'],tname=tablename)\n",
    "print(tabledef)\n",
    "\n",
    "# tables created externally may not show up immediately in cloud-beaver\n",
    "cur.execute(tabledef)\n",
    "cur.fetchall()"
   ]
  },
  {
   "cell_type": "code",
   "execution_count": null,
   "id": "bd0bb121-d1ee-42bb-b17b-c52d455f9600",
   "metadata": {},
   "outputs": [],
   "source": [
    "cur.execute('SELECT * FROM osc_datacommons_dev.pudl.y95_al limit 10')\n",
    "cur.fetchall()"
   ]
  },
  {
   "cell_type": "code",
   "execution_count": null,
   "id": "41350913-b539-48a5-a9b5-f58b11429283",
   "metadata": {},
   "outputs": [],
   "source": []
  }
 ],
 "metadata": {
  "kernelspec": {
   "display_name": "Python 3",
   "language": "python",
   "name": "python3"
  },
  "language_info": {
   "codemirror_mode": {
    "name": "ipython",
    "version": 3
   },
   "file_extension": ".py",
   "mimetype": "text/x-python",
   "name": "python",
   "nbconvert_exporter": "python",
   "pygments_lexer": "ipython3",
   "version": "3.8.3"
  }
 },
 "nbformat": 4,
 "nbformat_minor": 5
}
