{
 "cells": [
  {
   "cell_type": "markdown",
   "id": "ab47f544-db81-414f-a1c3-e7313056cae3",
   "metadata": {},
   "source": [
    "## Loading package dependencies\n",
    "\n",
    "`%pip install` commands need only be run once per JupyterHub session.\n",
    "If you restart your JupyterHub server, they should be re-installed.\n",
    "\n",
    "If you want to ensure you are running latest version of packages, use `pip install --upgrade ...`\n",
    "\n",
    "Notebook dependencies may be pre-installed on custom notebook images in future iterations.\n",
    "\n",
    "The cell below uses `%%capture` to capture the (usually long) output of pip installs in a variable,\n",
    "so it does not fill your console with large output cells"
   ]
  },
  {
   "cell_type": "code",
   "execution_count": 1,
   "id": "ee278cd4-28f3-4490-ada1-2412c957cca1",
   "metadata": {},
   "outputs": [],
   "source": [
    "%%capture pipoutput\n",
    "%pip install trino[sqlalchemy] python-dotenv pandas\n",
    "%pip install osc-ingest-tools"
   ]
  },
  {
   "cell_type": "markdown",
   "id": "402696d7-7bf3-421c-a7d5-ab2abe10ac46",
   "metadata": {
    "tags": []
   },
   "source": [
    "## Load credentials\n",
    "OS-Climate convention is to store credentials using the `dotenv` file `credentials.env`\n",
    "\n",
    "This cell loads the environment variables defined in `credentials.env` and sets them in python's\n",
    "standard `os.environ` environment variable dictionary.\n",
    "\n",
    "You can obtain your own `credentials.env` file as part of the OS-climate onboarding process.\n",
    "You can upload this file from your computer using the 'upload' button on the left of the Jupyter console.\n",
    "\n",
    "Here we are using a standard OSC utility `load_credentials_dotenv()` that loads `credentials.env`.\n",
    "It expects to find this file at the top-level directory in the file browsing menu on the left hand side\n",
    "of the Jupyter console."
   ]
  },
  {
   "cell_type": "code",
   "execution_count": 2,
   "id": "53100d78-e1c8-426e-b2f1-cab892ecfce3",
   "metadata": {},
   "outputs": [],
   "source": [
    "import osc_ingest_trino as osc\n",
    "osc.load_credentials_dotenv()"
   ]
  },
  {
   "cell_type": "markdown",
   "id": "631f583a-58ca-4266-bfcd-32056b91a747",
   "metadata": {},
   "source": [
    "## Connect to trino with sqlalchemy engine\n",
    "\n",
    "The following cell establishes an `sqlalchemy` connection to trino\n",
    "\n",
    "By default, `attach_trino_engine()` expects the following environment variables,\n",
    "which should be supplied by the `credentials.env` file above:\n",
    "\n",
    "```\n",
    "TRINO_USER\n",
    "TRINO_PASSWD\n",
    "TRINO_HOST\n",
    "TRINO_PORT\n",
    "```"
   ]
  },
  {
   "cell_type": "code",
   "execution_count": 3,
   "id": "6b8fee53-c7b0-410e-898e-c6bad39211b8",
   "metadata": {},
   "outputs": [],
   "source": [
    "# connect to the Trino DB and return a sqlalchemy engine\n",
    "engine = osc.attach_trino_engine()"
   ]
  },
  {
   "cell_type": "markdown",
   "id": "0a7a38d6-6118-4996-a2b3-180ac1e14f4e",
   "metadata": {},
   "source": [
    "## Obtain query results directly from sqlalchemy\n",
    "\n",
    "The following cell shows an example of running a simple SQL query,\n",
    "and obtaining the results directly from the `sqlalchemy` engine."
   ]
  },
  {
   "cell_type": "code",
   "execution_count": 4,
   "id": "7a519adc-74bb-4d5b-b6e4-bddb6fa78592",
   "metadata": {},
   "outputs": [
    {
     "data": {
      "text/plain": [
       "[(['hive_ingest', 'aicoe_osc_demo', 'admins'],)]"
      ]
     },
     "execution_count": 4,
     "metadata": {},
     "output_type": "execute_result"
    }
   ],
   "source": [
    "sql = \"\"\"\n",
    "select current_groups()\n",
    "\"\"\"\n",
    "qres = engine.execute(sql)\n",
    "qres.fetchall()"
   ]
  },
  {
   "cell_type": "markdown",
   "id": "7310a8e5-5e66-4ff9-a0d3-658861114e72",
   "metadata": {},
   "source": [
    "## Load an SQL query into pandas\n",
    "The `pandas` library can read a sql query directly into a DataFrame\n",
    "using an `sqlalchemy` engine, as shown in the following cell.\n",
    "\n",
    "Note the use of `convert_dtypes()` to tell pandas to assess the data types of the columns."
   ]
  },
  {
   "cell_type": "code",
   "execution_count": 5,
   "id": "d69381cf-1815-4cd9-bdfa-17065d36f3ec",
   "metadata": {
    "tags": []
   },
   "outputs": [
    {
     "data": {
      "text/html": [
       "<div>\n",
       "<style scoped>\n",
       "    .dataframe tbody tr th:only-of-type {\n",
       "        vertical-align: middle;\n",
       "    }\n",
       "\n",
       "    .dataframe tbody tr th {\n",
       "        vertical-align: top;\n",
       "    }\n",
       "\n",
       "    .dataframe thead th {\n",
       "        text-align: right;\n",
       "    }\n",
       "</style>\n",
       "<table border=\"1\" class=\"dataframe\">\n",
       "  <thead>\n",
       "    <tr style=\"text-align: right;\">\n",
       "      <th></th>\n",
       "      <th>Catalog</th>\n",
       "    </tr>\n",
       "  </thead>\n",
       "  <tbody>\n",
       "    <tr>\n",
       "      <th>0</th>\n",
       "      <td>jmx</td>\n",
       "    </tr>\n",
       "    <tr>\n",
       "      <th>1</th>\n",
       "      <td>kafka_fx</td>\n",
       "    </tr>\n",
       "    <tr>\n",
       "      <th>2</th>\n",
       "      <td>osc_datacommons_dev</td>\n",
       "    </tr>\n",
       "    <tr>\n",
       "      <th>3</th>\n",
       "      <td>osc_datacommons_hive_ingest</td>\n",
       "    </tr>\n",
       "    <tr>\n",
       "      <th>4</th>\n",
       "      <td>riskthinking</td>\n",
       "    </tr>\n",
       "    <tr>\n",
       "      <th>5</th>\n",
       "      <td>system</td>\n",
       "    </tr>\n",
       "  </tbody>\n",
       "</table>\n",
       "</div>"
      ],
      "text/plain": [
       "                       Catalog\n",
       "0                          jmx\n",
       "1                     kafka_fx\n",
       "2          osc_datacommons_dev\n",
       "3  osc_datacommons_hive_ingest\n",
       "4                 riskthinking\n",
       "5                       system"
      ]
     },
     "execution_count": 5,
     "metadata": {},
     "output_type": "execute_result"
    }
   ],
   "source": [
    "import pandas as pd\n",
    "\n",
    "sql = \"\"\"\n",
    "show catalogs\n",
    "\"\"\"\n",
    "\n",
    "# execute the SQL query and load it into a pandas dataframe\n",
    "df = pd.read_sql(sql, engine)\n",
    "\n",
    "# assess the column data types from their contents:\n",
    "df = df.convert_dtypes()\n",
    "\n",
    "# display the dataframe\n",
    "df"
   ]
  },
  {
   "cell_type": "markdown",
   "id": "843c6331-6110-4e17-881e-1735be4c0fd2",
   "metadata": {},
   "source": [
    "## check the column data types\n",
    "\n",
    "You can check the column types returned for your query using the `info` DataFrame method:"
   ]
  },
  {
   "cell_type": "code",
   "execution_count": 6,
   "id": "9bae46b1-b0e7-4647-a658-47d8f58c9e32",
   "metadata": {},
   "outputs": [
    {
     "name": "stdout",
     "output_type": "stream",
     "text": [
      "<class 'pandas.core.frame.DataFrame'>\n",
      "RangeIndex: 6 entries, 0 to 5\n",
      "Data columns (total 1 columns):\n",
      " #   Column   Non-Null Count  Dtype \n",
      "---  ------   --------------  ----- \n",
      " 0   Catalog  6 non-null      string\n",
      "dtypes: string(1)\n",
      "memory usage: 176.0 bytes\n"
     ]
    }
   ],
   "source": [
    "df.info(verbose=True)"
   ]
  },
  {
   "cell_type": "code",
   "execution_count": null,
   "id": "e4347850-3f64-4068-8216-802452ac8785",
   "metadata": {},
   "outputs": [],
   "source": []
  }
 ],
 "metadata": {
  "kernelspec": {
   "display_name": "Python 3 (ipykernel)",
   "language": "python",
   "name": "python3"
  },
  "language_info": {
   "codemirror_mode": {
    "name": "ipython",
    "version": 3
   },
   "file_extension": ".py",
   "mimetype": "text/x-python",
   "name": "python",
   "nbconvert_exporter": "python",
   "pygments_lexer": "ipython3",
   "version": "3.8.8"
  }
 },
 "nbformat": 4,
 "nbformat_minor": 5
}
