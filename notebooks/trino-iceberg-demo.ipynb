{
 "cells": [
  {
   "cell_type": "markdown",
   "id": "fa0781cf-2492-4cb4-9927-f0fe43b1ce47",
   "metadata": {},
   "source": [
    "Run these in a notebook cell if you need to install onto your nb env\n",
    "\n",
    "```python\n",
    "# 'capture' magic prevents long outputs from spamming your notebook\n",
    "%%capture pipoutput\n",
    "\n",
    "# For loading predefined environment variables from files\n",
    "# Typically used to load sensitive access credentials\n",
    "%pip install python-dotenv\n",
    "\n",
    "# Standard python package for interacting with S3 buckets\n",
    "%pip install boto3\n",
    "\n",
    "# Interacting with Trino and using Trino with sqlalchemy\n",
    "%pip install trino[sqlalchemy]\n",
    "\n",
    "# Pandas and parquet file i/o\n",
    "%pip install pandas pyarrow fastparquet\n",
    "\n",
    "# OS-Climate utilities to make data ingest easier\n",
    "%pip install osc-ingest-tools\n",
    "```"
   ]
  },
  {
   "cell_type": "code",
   "execution_count": 2,
   "id": "d692d82d-a0af-4713-9c50-2bcaea3d68f5",
   "metadata": {},
   "outputs": [],
   "source": [
    "# use a catalog that is configured for iceberg\n",
    "ingest_catalog = 'osc_datacommons_iceberg_dev'\n",
    "ingest_schema = 'iceberg_demo'\n",
    "ingest_table = 'trino_iceberg_demo'"
   ]
  },
  {
   "cell_type": "code",
   "execution_count": 3,
   "id": "70765256-643c-4417-a405-ec8a96e20e03",
   "metadata": {},
   "outputs": [
    {
     "name": "stdout",
     "output_type": "stream",
     "text": [
      "using connect string: trino://erikerlandson@trino-secure-odh-trino.apps.odh-cl1.apps.os-climate.org:443/osc_datacommons_iceberg_dev\n"
     ]
    },
    {
     "name": "stderr",
     "output_type": "stream",
     "text": [
      "/opt/app-root/lib64/python3.8/site-packages/sqlalchemy_trino/dialect.py:259: SAWarning: Dialect trino:rest will not make use of SQL compilation caching as it does not set the 'supports_statement_cache' attribute to ``True``.  This can have significant performance implications including some performance degradations in comparison to prior SQLAlchemy versions.  Dialect maintainers should seek to set this attribute to True after appropriate development and testing for SQLAlchemy 1.4 caching support.   Alternatively, this attribute may be set to False which will disable this warning. (Background on this error at: https://sqlalche.me/e/14/cprf)\n",
      "  res = connection.execute(sql.text(query)).scalar()\n"
     ]
    }
   ],
   "source": [
    "# load standard credentials and get a database connection\n",
    "import osc_ingest_trino as osc\n",
    "osc.load_credentials_dotenv()\n",
    "engine = osc.attach_trino_engine(verbose=True, catalog=ingest_catalog)"
   ]
  },
  {
   "cell_type": "markdown",
   "id": "8355d76e-03d9-4d42-b01e-409dd60b3404",
   "metadata": {},
   "source": [
    "set up some example data in a pandas DF"
   ]
  },
  {
   "cell_type": "code",
   "execution_count": 4,
   "id": "a15f9c2f-ff47-4cbb-bce8-f9aafa79e16e",
   "metadata": {},
   "outputs": [
    {
     "name": "stdout",
     "output_type": "stream",
     "text": [
      "<class 'pandas.core.frame.DataFrame'>\n",
      "RangeIndex: 9 entries, 0 to 8\n",
      "Data columns (total 2 columns):\n",
      " #   Column     Non-Null Count  Dtype  \n",
      "---  ------     --------------  -----  \n",
      " 0   quarter    9 non-null      string \n",
      " 1   reduction  9 non-null      Float64\n",
      "dtypes: Float64(1), string(1)\n",
      "memory usage: 281.0 bytes\n",
      "None\n"
     ]
    },
    {
     "data": {
      "text/html": [
       "<div>\n",
       "<style scoped>\n",
       "    .dataframe tbody tr th:only-of-type {\n",
       "        vertical-align: middle;\n",
       "    }\n",
       "\n",
       "    .dataframe tbody tr th {\n",
       "        vertical-align: top;\n",
       "    }\n",
       "\n",
       "    .dataframe thead th {\n",
       "        text-align: right;\n",
       "    }\n",
       "</style>\n",
       "<table border=\"1\" class=\"dataframe\">\n",
       "  <thead>\n",
       "    <tr style=\"text-align: right;\">\n",
       "      <th></th>\n",
       "      <th>quarter</th>\n",
       "      <th>reduction</th>\n",
       "    </tr>\n",
       "  </thead>\n",
       "  <tbody>\n",
       "    <tr>\n",
       "      <th>0</th>\n",
       "      <td>2021Q4</td>\n",
       "      <td>0.6</td>\n",
       "    </tr>\n",
       "    <tr>\n",
       "      <th>1</th>\n",
       "      <td>2021Q4</td>\n",
       "      <td>0.7</td>\n",
       "    </tr>\n",
       "    <tr>\n",
       "      <th>2</th>\n",
       "      <td>2021Q4</td>\n",
       "      <td>0.8</td>\n",
       "    </tr>\n",
       "    <tr>\n",
       "      <th>3</th>\n",
       "      <td>2022Q1</td>\n",
       "      <td>0.7</td>\n",
       "    </tr>\n",
       "    <tr>\n",
       "      <th>4</th>\n",
       "      <td>2022Q1</td>\n",
       "      <td>0.8</td>\n",
       "    </tr>\n",
       "    <tr>\n",
       "      <th>5</th>\n",
       "      <td>2022Q1</td>\n",
       "      <td>0.9</td>\n",
       "    </tr>\n",
       "    <tr>\n",
       "      <th>6</th>\n",
       "      <td>2022Q2</td>\n",
       "      <td>0.8</td>\n",
       "    </tr>\n",
       "    <tr>\n",
       "      <th>7</th>\n",
       "      <td>2022Q2</td>\n",
       "      <td>0.9</td>\n",
       "    </tr>\n",
       "    <tr>\n",
       "      <th>8</th>\n",
       "      <td>2022Q2</td>\n",
       "      <td>0.95</td>\n",
       "    </tr>\n",
       "  </tbody>\n",
       "</table>\n",
       "</div>"
      ],
      "text/plain": [
       "  quarter  reduction\n",
       "0  2021Q4        0.6\n",
       "1  2021Q4        0.7\n",
       "2  2021Q4        0.8\n",
       "3  2022Q1        0.7\n",
       "4  2022Q1        0.8\n",
       "5  2022Q1        0.9\n",
       "6  2022Q2        0.8\n",
       "7  2022Q2        0.9\n",
       "8  2022Q2       0.95"
      ]
     },
     "execution_count": 4,
     "metadata": {},
     "output_type": "execute_result"
    }
   ],
   "source": [
    "import pandas as pd\n",
    "data1 = [\n",
    "    ['2021Q4', 0.6],\n",
    "    ['2021Q4', 0.7],\n",
    "    ['2021Q4', 0.8],\n",
    "    ['2022Q1', 0.7],\n",
    "    ['2022Q1', 0.8],\n",
    "    ['2022Q1', 0.9],\n",
    "    ['2022Q2', 0.8],\n",
    "    ['2022Q2', 0.9],\n",
    "    ['2022Q2', 0.95],\n",
    "]\n",
    "df1 = pd.DataFrame(data1, columns = ['quarter', 'reduction'])\n",
    "df1 = df1.convert_dtypes()\n",
    "print(df1.info(verbose=True))\n",
    "df1"
   ]
  },
  {
   "cell_type": "code",
   "execution_count": 5,
   "id": "680ef6e6-3c9f-431e-aa54-4299c710de0e",
   "metadata": {},
   "outputs": [
    {
     "name": "stdout",
     "output_type": "stream",
     "text": [
      "[(True,)]\n"
     ]
    }
   ],
   "source": [
    "# make sure schema exists, or table creation below will fail in weird ways\n",
    "sql = f\"\"\"\n",
    "create schema if not exists {ingest_catalog}.{ingest_schema}\n",
    "\"\"\"\n",
    "qres = engine.execute(sql)\n",
    "print(qres.fetchall())"
   ]
  },
  {
   "cell_type": "markdown",
   "id": "26f02c24-e830-4a54-8417-4573593e764e",
   "metadata": {},
   "source": [
    "create a table with a particular data partitioning on our `quarter` column,\n",
    "and request underlying data to use `ORC` columnar storage format"
   ]
  },
  {
   "cell_type": "code",
   "execution_count": 6,
   "id": "b13b7403-17c5-43d6-b219-6ffc1f9c6fa5",
   "metadata": {},
   "outputs": [
    {
     "name": "stdout",
     "output_type": "stream",
     "text": [
      "\n",
      "create table if not exists osc_datacommons_iceberg_dev.iceberg_demo.trino_iceberg_demo(\n",
      "    quarter varchar,\n",
      "    reduction double\n",
      ") with (\n",
      "    format = 'ORC',\n",
      "    partitioning = array['quarter']\n",
      ")\n",
      "\n",
      "[(True,)]\n"
     ]
    }
   ],
   "source": [
    "import osc_ingest_trino as osc\n",
    "columnschema = osc.create_table_schema_pairs(df1)\n",
    "\n",
    "tabledef = f\"\"\"\n",
    "create table if not exists {ingest_catalog}.{ingest_schema}.{ingest_table}(\n",
    "{columnschema}\n",
    ") with (\n",
    "    format = 'ORC',\n",
    "    partitioning = array['quarter']\n",
    ")\n",
    "\"\"\"\n",
    "print(tabledef)\n",
    "qres = engine.execute(tabledef)\n",
    "print(qres.fetchall())"
   ]
  },
  {
   "cell_type": "code",
   "execution_count": 7,
   "id": "e036b845-fd4f-4bdf-9ced-8fffe9a82768",
   "metadata": {},
   "outputs": [
    {
     "name": "stdout",
     "output_type": "stream",
     "text": [
      "[(None,)]\n"
     ]
    }
   ],
   "source": [
    "# Delete all data from our db, so we start with empty table\n",
    "sql=f\"\"\"\n",
    "delete from {ingest_catalog}.{ingest_schema}.{ingest_table}\n",
    "\"\"\"\n",
    "qres = engine.execute(sql)\n",
    "print(qres.fetchall())"
   ]
  },
  {
   "cell_type": "markdown",
   "id": "edc0974d-476f-4a6b-8bf6-8817e022f4cd",
   "metadata": {},
   "source": [
    "Following is the standard `to_sql` functionality provided by `sqlalchemy-trino`.\n",
    "This default logic writes the entire pandas dataframe as a single sql `insert`.\n",
    "Note: on very large data frames this may fail because trino limits the size of sql commands.\n",
    "Below we will create a custom inserting class to adapt to these limits"
   ]
  },
  {
   "cell_type": "code",
   "execution_count": 8,
   "id": "5af7b306-b4d9-4ea0-9a67-561e23d8b713",
   "metadata": {},
   "outputs": [
    {
     "data": {
      "text/plain": [
       "-1"
      ]
     },
     "execution_count": 8,
     "metadata": {},
     "output_type": "execute_result"
    }
   ],
   "source": [
    "# method = 'multi' is important, default will not work\n",
    "# important to tell it about schema here, and catalog when you create the db connection above\n",
    "# index = False, unless you declared that as a column when you create the table\n",
    "# use 'append' mode since we already created the table\n",
    "df1.to_sql(ingest_table,\n",
    "           con=engine,\n",
    "           schema=ingest_schema,\n",
    "           if_exists='append',\n",
    "           index=False,\n",
    "           method='multi')"
   ]
  },
  {
   "cell_type": "code",
   "execution_count": 9,
   "id": "d6fd631e-5655-44e5-a5c6-54b813f4d0fb",
   "metadata": {},
   "outputs": [
    {
     "data": {
      "text/html": [
       "<div>\n",
       "<style scoped>\n",
       "    .dataframe tbody tr th:only-of-type {\n",
       "        vertical-align: middle;\n",
       "    }\n",
       "\n",
       "    .dataframe tbody tr th {\n",
       "        vertical-align: top;\n",
       "    }\n",
       "\n",
       "    .dataframe thead th {\n",
       "        text-align: right;\n",
       "    }\n",
       "</style>\n",
       "<table border=\"1\" class=\"dataframe\">\n",
       "  <thead>\n",
       "    <tr style=\"text-align: right;\">\n",
       "      <th></th>\n",
       "      <th>quarter</th>\n",
       "      <th>reduction</th>\n",
       "    </tr>\n",
       "  </thead>\n",
       "  <tbody>\n",
       "    <tr>\n",
       "      <th>0</th>\n",
       "      <td>2022Q1</td>\n",
       "      <td>0.70</td>\n",
       "    </tr>\n",
       "    <tr>\n",
       "      <th>1</th>\n",
       "      <td>2022Q1</td>\n",
       "      <td>0.80</td>\n",
       "    </tr>\n",
       "    <tr>\n",
       "      <th>2</th>\n",
       "      <td>2022Q1</td>\n",
       "      <td>0.90</td>\n",
       "    </tr>\n",
       "    <tr>\n",
       "      <th>3</th>\n",
       "      <td>2022Q2</td>\n",
       "      <td>0.80</td>\n",
       "    </tr>\n",
       "    <tr>\n",
       "      <th>4</th>\n",
       "      <td>2022Q2</td>\n",
       "      <td>0.90</td>\n",
       "    </tr>\n",
       "    <tr>\n",
       "      <th>5</th>\n",
       "      <td>2022Q2</td>\n",
       "      <td>0.95</td>\n",
       "    </tr>\n",
       "    <tr>\n",
       "      <th>6</th>\n",
       "      <td>2021Q4</td>\n",
       "      <td>0.60</td>\n",
       "    </tr>\n",
       "    <tr>\n",
       "      <th>7</th>\n",
       "      <td>2021Q4</td>\n",
       "      <td>0.70</td>\n",
       "    </tr>\n",
       "    <tr>\n",
       "      <th>8</th>\n",
       "      <td>2021Q4</td>\n",
       "      <td>0.80</td>\n",
       "    </tr>\n",
       "  </tbody>\n",
       "</table>\n",
       "</div>"
      ],
      "text/plain": [
       "  quarter  reduction\n",
       "0  2022Q1       0.70\n",
       "1  2022Q1       0.80\n",
       "2  2022Q1       0.90\n",
       "3  2022Q2       0.80\n",
       "4  2022Q2       0.90\n",
       "5  2022Q2       0.95\n",
       "6  2021Q4       0.60\n",
       "7  2021Q4       0.70\n",
       "8  2021Q4       0.80"
      ]
     },
     "execution_count": 9,
     "metadata": {},
     "output_type": "execute_result"
    }
   ],
   "source": [
    "sql=f\"\"\"\n",
    "select * from {ingest_catalog}.{ingest_schema}.{ingest_table}\n",
    "\"\"\"\n",
    "pd.read_sql(sql, engine)"
   ]
  },
  {
   "cell_type": "markdown",
   "id": "f317b0fe-7f81-44d0-880c-0a30506f9332",
   "metadata": {},
   "source": [
    "pandas also allows you to write your own `callable` insertion method and\n",
    "provide it for `to_sql` to use.\n",
    "\n",
    "osc-ingest-tools provides a predefined class `TrinoBatchInsert` that allows you to\n",
    "break data insertions up into batches,\n",
    "which is useful if you are inserting large dataframes that may exceed\n",
    "trino's limits on sql command size"
   ]
  },
  {
   "cell_type": "markdown",
   "id": "fe7a9143-c249-4461-8441-6c787244124c",
   "metadata": {},
   "source": [
    "Below we use our custom insertion method.\n",
    "Note that this method inserts our data in two separate insert commands,\n",
    "and so it will add TWO snapshots to our iceberg db"
   ]
  },
  {
   "cell_type": "code",
   "execution_count": 10,
   "id": "4a51099c-1541-467e-8050-67196ff223fa",
   "metadata": {},
   "outputs": [
    {
     "name": "stdout",
     "output_type": "stream",
     "text": [
      "inserting 5 records\n",
      "constructed fully qualified table name as: \"iceberg_demo.trino_iceberg_demo\"\n",
      "batch insert result: [(5,)]\n",
      "inserting 4 records\n",
      "constructed fully qualified table name as: \"iceberg_demo.trino_iceberg_demo\"\n",
      "batch insert result: [(4,)]\n"
     ]
    }
   ],
   "source": [
    "df1.to_sql(ingest_table,\n",
    "           con=engine,\n",
    "           schema=ingest_schema,\n",
    "           if_exists='append',\n",
    "           index=False,\n",
    "           method=osc.TrinoBatchInsert(batch_size = 5, verbose = True))"
   ]
  },
  {
   "cell_type": "markdown",
   "id": "97eb5841-8120-4f72-9639-a6d09dfe0bcd",
   "metadata": {},
   "source": [
    "we can see that a second copy of our dataframe has been inserted into the table"
   ]
  },
  {
   "cell_type": "code",
   "execution_count": 11,
   "id": "b9537be5-da47-48d3-9147-74afcc79140a",
   "metadata": {},
   "outputs": [
    {
     "data": {
      "text/html": [
       "<div>\n",
       "<style scoped>\n",
       "    .dataframe tbody tr th:only-of-type {\n",
       "        vertical-align: middle;\n",
       "    }\n",
       "\n",
       "    .dataframe tbody tr th {\n",
       "        vertical-align: top;\n",
       "    }\n",
       "\n",
       "    .dataframe thead th {\n",
       "        text-align: right;\n",
       "    }\n",
       "</style>\n",
       "<table border=\"1\" class=\"dataframe\">\n",
       "  <thead>\n",
       "    <tr style=\"text-align: right;\">\n",
       "      <th></th>\n",
       "      <th>quarter</th>\n",
       "      <th>reduction</th>\n",
       "    </tr>\n",
       "  </thead>\n",
       "  <tbody>\n",
       "    <tr>\n",
       "      <th>0</th>\n",
       "      <td>2021Q4</td>\n",
       "      <td>0.60</td>\n",
       "    </tr>\n",
       "    <tr>\n",
       "      <th>1</th>\n",
       "      <td>2021Q4</td>\n",
       "      <td>0.70</td>\n",
       "    </tr>\n",
       "    <tr>\n",
       "      <th>2</th>\n",
       "      <td>2021Q4</td>\n",
       "      <td>0.80</td>\n",
       "    </tr>\n",
       "    <tr>\n",
       "      <th>3</th>\n",
       "      <td>2021Q4</td>\n",
       "      <td>0.60</td>\n",
       "    </tr>\n",
       "    <tr>\n",
       "      <th>4</th>\n",
       "      <td>2021Q4</td>\n",
       "      <td>0.70</td>\n",
       "    </tr>\n",
       "    <tr>\n",
       "      <th>5</th>\n",
       "      <td>2021Q4</td>\n",
       "      <td>0.80</td>\n",
       "    </tr>\n",
       "    <tr>\n",
       "      <th>6</th>\n",
       "      <td>2022Q1</td>\n",
       "      <td>0.70</td>\n",
       "    </tr>\n",
       "    <tr>\n",
       "      <th>7</th>\n",
       "      <td>2022Q1</td>\n",
       "      <td>0.80</td>\n",
       "    </tr>\n",
       "    <tr>\n",
       "      <th>8</th>\n",
       "      <td>2022Q2</td>\n",
       "      <td>0.80</td>\n",
       "    </tr>\n",
       "    <tr>\n",
       "      <th>9</th>\n",
       "      <td>2022Q2</td>\n",
       "      <td>0.90</td>\n",
       "    </tr>\n",
       "    <tr>\n",
       "      <th>10</th>\n",
       "      <td>2022Q2</td>\n",
       "      <td>0.95</td>\n",
       "    </tr>\n",
       "    <tr>\n",
       "      <th>11</th>\n",
       "      <td>2022Q1</td>\n",
       "      <td>0.70</td>\n",
       "    </tr>\n",
       "    <tr>\n",
       "      <th>12</th>\n",
       "      <td>2022Q1</td>\n",
       "      <td>0.80</td>\n",
       "    </tr>\n",
       "    <tr>\n",
       "      <th>13</th>\n",
       "      <td>2022Q1</td>\n",
       "      <td>0.90</td>\n",
       "    </tr>\n",
       "    <tr>\n",
       "      <th>14</th>\n",
       "      <td>2022Q2</td>\n",
       "      <td>0.80</td>\n",
       "    </tr>\n",
       "    <tr>\n",
       "      <th>15</th>\n",
       "      <td>2022Q2</td>\n",
       "      <td>0.90</td>\n",
       "    </tr>\n",
       "    <tr>\n",
       "      <th>16</th>\n",
       "      <td>2022Q2</td>\n",
       "      <td>0.95</td>\n",
       "    </tr>\n",
       "    <tr>\n",
       "      <th>17</th>\n",
       "      <td>2022Q1</td>\n",
       "      <td>0.90</td>\n",
       "    </tr>\n",
       "  </tbody>\n",
       "</table>\n",
       "</div>"
      ],
      "text/plain": [
       "   quarter  reduction\n",
       "0   2021Q4       0.60\n",
       "1   2021Q4       0.70\n",
       "2   2021Q4       0.80\n",
       "3   2021Q4       0.60\n",
       "4   2021Q4       0.70\n",
       "5   2021Q4       0.80\n",
       "6   2022Q1       0.70\n",
       "7   2022Q1       0.80\n",
       "8   2022Q2       0.80\n",
       "9   2022Q2       0.90\n",
       "10  2022Q2       0.95\n",
       "11  2022Q1       0.70\n",
       "12  2022Q1       0.80\n",
       "13  2022Q1       0.90\n",
       "14  2022Q2       0.80\n",
       "15  2022Q2       0.90\n",
       "16  2022Q2       0.95\n",
       "17  2022Q1       0.90"
      ]
     },
     "execution_count": 11,
     "metadata": {},
     "output_type": "execute_result"
    }
   ],
   "source": [
    "sql=f\"\"\"\n",
    "select * from {ingest_catalog}.{ingest_schema}.{ingest_table}\n",
    "\"\"\"\n",
    "pd.read_sql(sql, engine)"
   ]
  },
  {
   "cell_type": "markdown",
   "id": "c5cde3ff-63e5-4181-ba36-1912da6856ec",
   "metadata": {},
   "source": [
    "iceberg maintains snapshots that capture the state of your database after each operation.\n",
    "Below is an example of how to look at recent snapshots"
   ]
  },
  {
   "cell_type": "code",
   "execution_count": 12,
   "id": "b8560910-fff1-4085-8bb1-f076a7839062",
   "metadata": {},
   "outputs": [
    {
     "data": {
      "text/plain": [
       "[(5810673469520150672, '2022-02-25 14:58:40.867 UTC'),\n",
       " (4699703140021177177, '2022-02-25 14:58:40.146 UTC'),\n",
       " (5147174654935222430, '2022-02-25 14:58:32.208 UTC'),\n",
       " (5982042343219821442, '2022-02-25 14:58:28.810 UTC'),\n",
       " (1411313338609090893, '2022-02-25 14:56:59.358 UTC')]"
      ]
     },
     "execution_count": 12,
     "metadata": {},
     "output_type": "execute_result"
    }
   ],
   "source": [
    "sql=f\"\"\"\n",
    "select snapshot_id, committed_at from {ingest_catalog}.{ingest_schema}.\"{ingest_table}$snapshots\"\n",
    "    order by committed_at desc\n",
    "    limit 5\n",
    "\"\"\"\n",
    "qres = engine.execute(sql)\n",
    "snapshots = qres.fetchall()\n",
    "snapshots"
   ]
  },
  {
   "cell_type": "markdown",
   "id": "fc2964eb-5cfd-402b-8082-7d4ac661b461",
   "metadata": {},
   "source": [
    "And here is the snapshot of the previous state of our db"
   ]
  },
  {
   "cell_type": "code",
   "execution_count": 13,
   "id": "0090a64b-d96e-4620-a858-6709dd0cf9a8",
   "metadata": {},
   "outputs": [
    {
     "data": {
      "text/plain": [
       "4699703140021177177"
      ]
     },
     "execution_count": 13,
     "metadata": {},
     "output_type": "execute_result"
    }
   ],
   "source": [
    "previous_snapshot = snapshots[1][0]\n",
    "previous_snapshot"
   ]
  },
  {
   "cell_type": "markdown",
   "id": "b9326427-56a8-4c31-b835-8d6e1ea86eef",
   "metadata": {},
   "source": [
    "You can run your query against a particular snapshot of your db,\n",
    "as in this example\n",
    "\n",
    "Notice that the previous snapshot includes the FIRST insertion from our custom method,\n",
    "but not the second one"
   ]
  },
  {
   "cell_type": "code",
   "execution_count": 14,
   "id": "6a0056c3-1606-4b76-9983-4141f5031660",
   "metadata": {},
   "outputs": [
    {
     "data": {
      "text/html": [
       "<div>\n",
       "<style scoped>\n",
       "    .dataframe tbody tr th:only-of-type {\n",
       "        vertical-align: middle;\n",
       "    }\n",
       "\n",
       "    .dataframe tbody tr th {\n",
       "        vertical-align: top;\n",
       "    }\n",
       "\n",
       "    .dataframe thead th {\n",
       "        text-align: right;\n",
       "    }\n",
       "</style>\n",
       "<table border=\"1\" class=\"dataframe\">\n",
       "  <thead>\n",
       "    <tr style=\"text-align: right;\">\n",
       "      <th></th>\n",
       "      <th>quarter</th>\n",
       "      <th>reduction</th>\n",
       "    </tr>\n",
       "  </thead>\n",
       "  <tbody>\n",
       "    <tr>\n",
       "      <th>0</th>\n",
       "      <td>2021Q4</td>\n",
       "      <td>0.60</td>\n",
       "    </tr>\n",
       "    <tr>\n",
       "      <th>1</th>\n",
       "      <td>2021Q4</td>\n",
       "      <td>0.70</td>\n",
       "    </tr>\n",
       "    <tr>\n",
       "      <th>2</th>\n",
       "      <td>2021Q4</td>\n",
       "      <td>0.80</td>\n",
       "    </tr>\n",
       "    <tr>\n",
       "      <th>3</th>\n",
       "      <td>2022Q1</td>\n",
       "      <td>0.70</td>\n",
       "    </tr>\n",
       "    <tr>\n",
       "      <th>4</th>\n",
       "      <td>2022Q1</td>\n",
       "      <td>0.80</td>\n",
       "    </tr>\n",
       "    <tr>\n",
       "      <th>5</th>\n",
       "      <td>2022Q1</td>\n",
       "      <td>0.90</td>\n",
       "    </tr>\n",
       "    <tr>\n",
       "      <th>6</th>\n",
       "      <td>2022Q1</td>\n",
       "      <td>0.70</td>\n",
       "    </tr>\n",
       "    <tr>\n",
       "      <th>7</th>\n",
       "      <td>2022Q1</td>\n",
       "      <td>0.80</td>\n",
       "    </tr>\n",
       "    <tr>\n",
       "      <th>8</th>\n",
       "      <td>2022Q2</td>\n",
       "      <td>0.80</td>\n",
       "    </tr>\n",
       "    <tr>\n",
       "      <th>9</th>\n",
       "      <td>2022Q2</td>\n",
       "      <td>0.90</td>\n",
       "    </tr>\n",
       "    <tr>\n",
       "      <th>10</th>\n",
       "      <td>2022Q2</td>\n",
       "      <td>0.95</td>\n",
       "    </tr>\n",
       "    <tr>\n",
       "      <th>11</th>\n",
       "      <td>2021Q4</td>\n",
       "      <td>0.60</td>\n",
       "    </tr>\n",
       "    <tr>\n",
       "      <th>12</th>\n",
       "      <td>2021Q4</td>\n",
       "      <td>0.70</td>\n",
       "    </tr>\n",
       "    <tr>\n",
       "      <th>13</th>\n",
       "      <td>2021Q4</td>\n",
       "      <td>0.80</td>\n",
       "    </tr>\n",
       "  </tbody>\n",
       "</table>\n",
       "</div>"
      ],
      "text/plain": [
       "   quarter  reduction\n",
       "0   2021Q4       0.60\n",
       "1   2021Q4       0.70\n",
       "2   2021Q4       0.80\n",
       "3   2022Q1       0.70\n",
       "4   2022Q1       0.80\n",
       "5   2022Q1       0.90\n",
       "6   2022Q1       0.70\n",
       "7   2022Q1       0.80\n",
       "8   2022Q2       0.80\n",
       "9   2022Q2       0.90\n",
       "10  2022Q2       0.95\n",
       "11  2021Q4       0.60\n",
       "12  2021Q4       0.70\n",
       "13  2021Q4       0.80"
      ]
     },
     "execution_count": 14,
     "metadata": {},
     "output_type": "execute_result"
    }
   ],
   "source": [
    "sql=f\"\"\"\n",
    "select * from {ingest_catalog}.{ingest_schema}.\"{ingest_table}@{previous_snapshot}\"\n",
    "\"\"\"\n",
    "pd.read_sql(sql, engine)"
   ]
  },
  {
   "cell_type": "markdown",
   "id": "9b77a9f4-a3fe-43cc-b434-68e76bc57c9a",
   "metadata": {},
   "source": [
    "You can also roll-back the state of your database to a particular snapshot.\n",
    "\n",
    "Note - rollback appears to not be robust against dropping a table and re-creating it.\n",
    "Still investigating what the problem is here."
   ]
  },
  {
   "cell_type": "code",
   "execution_count": 15,
   "id": "c8957591-156f-4fe6-bad6-8301fec2906d",
   "metadata": {},
   "outputs": [
    {
     "name": "stdout",
     "output_type": "stream",
     "text": [
      "[(True,)]\n"
     ]
    }
   ],
   "source": [
    "try:\n",
    "    sql=f\"\"\"\n",
    "    call {ingest_catalog}.system.rollback_to_snapshot('{ingest_schema}', '{ingest_table}', {previous_snapshot})\n",
    "    \"\"\"\n",
    "    qres = engine.execute(sql)\n",
    "    print(qres.fetchall())\n",
    "except Exception as e:\n",
    "    print(e)"
   ]
  },
  {
   "cell_type": "code",
   "execution_count": 16,
   "id": "cd6c9e56-954c-4964-9efa-60ee462f230e",
   "metadata": {},
   "outputs": [
    {
     "data": {
      "text/html": [
       "<div>\n",
       "<style scoped>\n",
       "    .dataframe tbody tr th:only-of-type {\n",
       "        vertical-align: middle;\n",
       "    }\n",
       "\n",
       "    .dataframe tbody tr th {\n",
       "        vertical-align: top;\n",
       "    }\n",
       "\n",
       "    .dataframe thead th {\n",
       "        text-align: right;\n",
       "    }\n",
       "</style>\n",
       "<table border=\"1\" class=\"dataframe\">\n",
       "  <thead>\n",
       "    <tr style=\"text-align: right;\">\n",
       "      <th></th>\n",
       "      <th>quarter</th>\n",
       "      <th>reduction</th>\n",
       "    </tr>\n",
       "  </thead>\n",
       "  <tbody>\n",
       "    <tr>\n",
       "      <th>0</th>\n",
       "      <td>2022Q1</td>\n",
       "      <td>0.70</td>\n",
       "    </tr>\n",
       "    <tr>\n",
       "      <th>1</th>\n",
       "      <td>2022Q1</td>\n",
       "      <td>0.80</td>\n",
       "    </tr>\n",
       "    <tr>\n",
       "      <th>2</th>\n",
       "      <td>2022Q1</td>\n",
       "      <td>0.90</td>\n",
       "    </tr>\n",
       "    <tr>\n",
       "      <th>3</th>\n",
       "      <td>2022Q1</td>\n",
       "      <td>0.70</td>\n",
       "    </tr>\n",
       "    <tr>\n",
       "      <th>4</th>\n",
       "      <td>2021Q4</td>\n",
       "      <td>0.60</td>\n",
       "    </tr>\n",
       "    <tr>\n",
       "      <th>5</th>\n",
       "      <td>2022Q1</td>\n",
       "      <td>0.80</td>\n",
       "    </tr>\n",
       "    <tr>\n",
       "      <th>6</th>\n",
       "      <td>2022Q2</td>\n",
       "      <td>0.80</td>\n",
       "    </tr>\n",
       "    <tr>\n",
       "      <th>7</th>\n",
       "      <td>2022Q2</td>\n",
       "      <td>0.90</td>\n",
       "    </tr>\n",
       "    <tr>\n",
       "      <th>8</th>\n",
       "      <td>2022Q2</td>\n",
       "      <td>0.95</td>\n",
       "    </tr>\n",
       "    <tr>\n",
       "      <th>9</th>\n",
       "      <td>2021Q4</td>\n",
       "      <td>0.70</td>\n",
       "    </tr>\n",
       "    <tr>\n",
       "      <th>10</th>\n",
       "      <td>2021Q4</td>\n",
       "      <td>0.80</td>\n",
       "    </tr>\n",
       "    <tr>\n",
       "      <th>11</th>\n",
       "      <td>2021Q4</td>\n",
       "      <td>0.60</td>\n",
       "    </tr>\n",
       "    <tr>\n",
       "      <th>12</th>\n",
       "      <td>2021Q4</td>\n",
       "      <td>0.70</td>\n",
       "    </tr>\n",
       "    <tr>\n",
       "      <th>13</th>\n",
       "      <td>2021Q4</td>\n",
       "      <td>0.80</td>\n",
       "    </tr>\n",
       "  </tbody>\n",
       "</table>\n",
       "</div>"
      ],
      "text/plain": [
       "   quarter  reduction\n",
       "0   2022Q1       0.70\n",
       "1   2022Q1       0.80\n",
       "2   2022Q1       0.90\n",
       "3   2022Q1       0.70\n",
       "4   2021Q4       0.60\n",
       "5   2022Q1       0.80\n",
       "6   2022Q2       0.80\n",
       "7   2022Q2       0.90\n",
       "8   2022Q2       0.95\n",
       "9   2021Q4       0.70\n",
       "10  2021Q4       0.80\n",
       "11  2021Q4       0.60\n",
       "12  2021Q4       0.70\n",
       "13  2021Q4       0.80"
      ]
     },
     "execution_count": 16,
     "metadata": {},
     "output_type": "execute_result"
    }
   ],
   "source": [
    "sql=f\"\"\"\n",
    "select * from {ingest_catalog}.{ingest_schema}.{ingest_table}\n",
    "\"\"\"\n",
    "pd.read_sql(sql, engine)"
   ]
  },
  {
   "cell_type": "code",
   "execution_count": null,
   "id": "59077592-6f1b-4e79-b640-491e6df0ff0b",
   "metadata": {},
   "outputs": [],
   "source": []
  }
 ],
 "metadata": {
  "kernelspec": {
   "display_name": "Python 3 (ipykernel)",
   "language": "python",
   "name": "python3"
  },
  "language_info": {
   "codemirror_mode": {
    "name": "ipython",
    "version": 3
   },
   "file_extension": ".py",
   "mimetype": "text/x-python",
   "name": "python",
   "nbconvert_exporter": "python",
   "pygments_lexer": "ipython3",
   "version": "3.8.8"
  }
 },
 "nbformat": 4,
 "nbformat_minor": 5
}
