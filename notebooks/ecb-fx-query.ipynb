{
 "cells": [
  {
   "cell_type": "markdown",
   "id": "c7ec0950-6a83-40de-92a4-b2b4b7b19597",
   "metadata": {},
   "source": [
    "# Query FX Rates from ECB APIs\n",
    "Copyright (C) 2021 OS-Climate\n",
    "\n",
    "This sample shows:\n",
    "* How to connect to the Kafka cluster streaming Daily FX Rates from ECB APIs\n",
    "* How to query and retrieve the rates based on currency and date parameters\n",
    "\n",
    "Permission is hereby granted, free of charge, to any person obtaining a copy of this software and associated documentation files (the \"Software\"), to deal in the Software without restriction, including without limitation the rights to use, copy, modify, merge, publish, distribute, sublicense, and/or sell copies of the Software, and to permit persons to whom the Software is furnished to do so, subject to the following conditions:\n",
    "\n",
    "The above copyright notice and this permission notice shall be included in all copies or substantial portions of the Software.\n",
    "\n",
    "THE SOFTWARE IS PROVIDED \"AS IS\", WITHOUT WARRANTY OF ANY KIND, EXPRESS OR IMPLIED, INCLUDING BUT NOT LIMITED TO THE WARRANTIES OF MERCHANTABILITY, FITNESS FOR A PARTICULAR PURPOSE AND NONINFRINGEMENT. IN NO EVENT SHALL THE AUTHORS OR COPYRIGHT HOLDERS BE LIABLE FOR ANY CLAIM, DAMAGES OR OTHER LIABILITY, WHETHER IN AN ACTION OF CONTRACT, TORT OR OTHERWISE, ARISING FROM, OUT OF OR IN CONNECTION WITH THE SOFTWARE OR THE USE OR OTHER DEALINGS IN THE SOFTWARE."
   ]
  },
  {
   "cell_type": "code",
   "execution_count": 1,
   "id": "05b1de22-aa52-4a71-b881-b63020a7a515",
   "metadata": {},
   "outputs": [],
   "source": [
    "%%capture pipoutput\n",
    "\n",
    "# For loading predefined environment variables from files\n",
    "# Typically used to load sensitive access credentials\n",
    "%pip install python-dotenv\n",
    "\n",
    "# Interacting with Trino and using Trino with sqlalchemy\n",
    "%pip install trino sqlalchemy sqlalchemy-trino\n",
    "\n",
    "# Pandas for data processing\n",
    "%pip install pandas\n",
    "\n",
    "# OS-Climate utilities to make data ingest easier\n",
    "%pip install osc-ingest-tools"
   ]
  },
  {
   "cell_type": "code",
   "execution_count": 2,
   "id": "e04c5311-a68d-4dac-9a9f-a82b3b151e13",
   "metadata": {},
   "outputs": [
    {
     "name": "stdout",
     "output_type": "stream",
     "text": [
      "Exception reporting mode: Minimal\n"
     ]
    }
   ],
   "source": [
    "# Report exceptions only in cells output\n",
    "%xmode Minimal"
   ]
  },
  {
   "cell_type": "code",
   "execution_count": 3,
   "id": "58d0bab1-256e-4a7d-9127-daa98948b846",
   "metadata": {},
   "outputs": [],
   "source": [
    "from dotenv import dotenv_values, load_dotenv\n",
    "import os\n",
    "import pandas as pd\n",
    "import trino\n",
    "from sqlalchemy.engine import create_engine\n",
    "import osc_ingest_trino as osc"
   ]
  },
  {
   "cell_type": "markdown",
   "id": "63bb84d9-57e2-4154-bd8c-92c11f70b924",
   "metadata": {},
   "source": [
    "Environment and Execution Variables"
   ]
  },
  {
   "cell_type": "code",
   "execution_count": 4,
   "id": "492a3882-14cc-4e3a-94ef-79bb13fdf38e",
   "metadata": {},
   "outputs": [],
   "source": [
    "# Load environment variables from credentials.env\n",
    "osc.load_credentials_dotenv()"
   ]
  },
  {
   "cell_type": "markdown",
   "id": "6aaf77f3-5e8b-47d1-b12a-65f49fb56b72",
   "metadata": {},
   "source": [
    "Connect to Trino and load the data"
   ]
  },
  {
   "cell_type": "code",
   "execution_count": 5,
   "id": "b945ade0-e122-4b93-b489-23dcbe08041d",
   "metadata": {},
   "outputs": [],
   "source": [
    "# Define execution variables for querying rates in Trino\n",
    "query_catalog = 'kafka_fx'\n",
    "query_schema = 'ecb-fx'\n",
    "query_table = 'fx'"
   ]
  },
  {
   "cell_type": "code",
   "execution_count": 6,
   "id": "e6ef8b47-a094-4dd9-a0bb-f1c053a70bd3",
   "metadata": {},
   "outputs": [
    {
     "name": "stdout",
     "output_type": "stream",
     "text": [
      "using connect string: trino://caldeirav@trino-secure-odh-trino.apps.odh-cl2.apps.os-climate.org:443/kafka_fx\n"
     ]
    }
   ],
   "source": [
    "engine = osc.attach_trino_engine(verbose=True, catalog=query_catalog)"
   ]
  },
  {
   "cell_type": "code",
   "execution_count": 7,
   "id": "0ca11aec-a44d-446e-8f79-6a3826458108",
   "metadata": {},
   "outputs": [],
   "source": [
    "sql=f\"\"\"\n",
    "select currency, \\\"currency-denom\\\", \\\"end-time-period\\\", \\\"obs-value\\\"\n",
    "from {query_catalog}.\\\"{query_schema}\\\".{query_table}\n",
    "where date(\\\"end-time-period\\\") between date('2022-10-01') and date('2022-10-22')\n",
    "\"\"\""
   ]
  },
  {
   "cell_type": "code",
   "execution_count": 8,
   "id": "5ae974a3-356c-46ab-84b0-17e050b9f776",
   "metadata": {},
   "outputs": [],
   "source": [
    "df = pd.read_sql(sql, engine).convert_dtypes()"
   ]
  },
  {
   "cell_type": "code",
   "execution_count": 9,
   "id": "3a417615-e43a-404f-8351-f1f81de80919",
   "metadata": {},
   "outputs": [
    {
     "name": "stdout",
     "output_type": "stream",
     "text": [
      "<class 'pandas.core.frame.DataFrame'>\n",
      "RangeIndex: 44 entries, 0 to 43\n",
      "Data columns (total 4 columns):\n",
      " #   Column           Non-Null Count  Dtype  \n",
      "---  ------           --------------  -----  \n",
      " 0   currency         44 non-null     string \n",
      " 1   currency-denom   44 non-null     string \n",
      " 2   end-time-period  44 non-null     string \n",
      " 3   obs-value        44 non-null     Float64\n",
      "dtypes: Float64(1), string(3)\n",
      "memory usage: 1.5 KB\n",
      "None\n"
     ]
    }
   ],
   "source": [
    "print(df.info(verbose=True))"
   ]
  },
  {
   "cell_type": "code",
   "execution_count": 10,
   "id": "791d97a1-db57-4001-aeaf-a433f82e7b32",
   "metadata": {},
   "outputs": [
    {
     "data": {
      "text/html": [
       "<div>\n",
       "<style scoped>\n",
       "    .dataframe tbody tr th:only-of-type {\n",
       "        vertical-align: middle;\n",
       "    }\n",
       "\n",
       "    .dataframe tbody tr th {\n",
       "        vertical-align: top;\n",
       "    }\n",
       "\n",
       "    .dataframe thead th {\n",
       "        text-align: right;\n",
       "    }\n",
       "</style>\n",
       "<table border=\"1\" class=\"dataframe\">\n",
       "  <thead>\n",
       "    <tr style=\"text-align: right;\">\n",
       "      <th></th>\n",
       "      <th>currency</th>\n",
       "      <th>currency-denom</th>\n",
       "      <th>end-time-period</th>\n",
       "      <th>obs-value</th>\n",
       "    </tr>\n",
       "  </thead>\n",
       "  <tbody>\n",
       "    <tr>\n",
       "      <th>0</th>\n",
       "      <td>TRY</td>\n",
       "      <td>EUR</td>\n",
       "      <td>2022-10-03 21:59:59.999</td>\n",
       "      <td>18.124</td>\n",
       "    </tr>\n",
       "    <tr>\n",
       "      <th>1</th>\n",
       "      <td>TRY</td>\n",
       "      <td>EUR</td>\n",
       "      <td>2022-10-04 21:59:59.999</td>\n",
       "      <td>18.3374</td>\n",
       "    </tr>\n",
       "    <tr>\n",
       "      <th>2</th>\n",
       "      <td>TRY</td>\n",
       "      <td>EUR</td>\n",
       "      <td>2022-10-05 21:59:59.999</td>\n",
       "      <td>18.4201</td>\n",
       "    </tr>\n",
       "    <tr>\n",
       "      <th>3</th>\n",
       "      <td>TRY</td>\n",
       "      <td>EUR</td>\n",
       "      <td>2022-10-06 21:59:59.999</td>\n",
       "      <td>18.3191</td>\n",
       "    </tr>\n",
       "    <tr>\n",
       "      <th>4</th>\n",
       "      <td>THB</td>\n",
       "      <td>EUR</td>\n",
       "      <td>2022-10-03 21:59:59.999</td>\n",
       "      <td>37.181</td>\n",
       "    </tr>\n",
       "  </tbody>\n",
       "</table>\n",
       "</div>"
      ],
      "text/plain": [
       "  currency currency-denom          end-time-period  obs-value\n",
       "0      TRY            EUR  2022-10-03 21:59:59.999     18.124\n",
       "1      TRY            EUR  2022-10-04 21:59:59.999    18.3374\n",
       "2      TRY            EUR  2022-10-05 21:59:59.999    18.4201\n",
       "3      TRY            EUR  2022-10-06 21:59:59.999    18.3191\n",
       "4      THB            EUR  2022-10-03 21:59:59.999     37.181"
      ]
     },
     "execution_count": 10,
     "metadata": {},
     "output_type": "execute_result"
    }
   ],
   "source": [
    "df.head()"
   ]
  },
  {
   "cell_type": "code",
   "execution_count": null,
   "id": "c2e86217-75ee-4424-8597-ab1737120f32",
   "metadata": {},
   "outputs": [],
   "source": []
  }
 ],
 "metadata": {
  "kernelspec": {
   "display_name": "Python 3 (ipykernel)",
   "language": "python",
   "name": "python3"
  },
  "language_info": {
   "codemirror_mode": {
    "name": "ipython",
    "version": 3
   },
   "file_extension": ".py",
   "mimetype": "text/x-python",
   "name": "python",
   "nbconvert_exporter": "python",
   "pygments_lexer": "ipython3",
   "version": "3.8.8"
  }
 },
 "nbformat": 4,
 "nbformat_minor": 5
}
