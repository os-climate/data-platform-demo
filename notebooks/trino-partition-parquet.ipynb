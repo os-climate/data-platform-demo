{
 "cells": [
  {
   "cell_type": "markdown",
   "id": "055e228d-c294-4bff-ace1-8470358f0a57",
   "metadata": {},
   "source": [
    "Run these in a notebook cell if you need to install onto your nb env\n",
    "```\n",
    "# 'capture' magic prevents long outputs from spamming your notebook\n",
    "%%capture pipoutput\n",
    "\n",
    "# For loading predefined environment variables from files\n",
    "# Typically used to load sensitive access credentials\n",
    "%pip install python-dotenv\n",
    "\n",
    "# Standard python package for interacting with S3 buckets\n",
    "%pip install boto3\n",
    "\n",
    "# Interacting with Trino and using Trino with sqlalchemy\n",
    "%pip install trino sqlalchemy sqlalchemy-trino\n",
    "\n",
    "# Pandas and parquet file i/o\n",
    "%pip install pandas pyarrow fastparquet\n",
    "\n",
    "# OS-Climate utilities to make data ingest easier\n",
    "%pip install osc-ingest-tools\n",
    "```"
   ]
  },
  {
   "cell_type": "code",
   "execution_count": 2,
   "id": "92b3a90b-b48f-4f0f-aa4a-f49c4e47e384",
   "metadata": {},
   "outputs": [],
   "source": [
    "# this notebook assumes osc-ingest-tools >= 0.2.0\n",
    "import osc_ingest_trino as osc\n",
    "osc.load_credentials_dotenv()\n",
    "bucket = osc.attach_s3_bucket('S3_DEV')\n",
    "engine = osc.attach_trino_engine()"
   ]
  },
  {
   "cell_type": "code",
   "execution_count": 3,
   "id": "64f8501f-6145-4cc1-8573-892a63cccaac",
   "metadata": {},
   "outputs": [],
   "source": [
    "ingest_catalog = 'osc_datacommons_dev'\n",
    "ingest_schema = 'demo'\n",
    "ingest_table = 'parquet_partitions_tutorial'"
   ]
  },
  {
   "cell_type": "code",
   "execution_count": 4,
   "id": "643cf26e-8c52-422d-b6c5-a5f802ed86ac",
   "metadata": {},
   "outputs": [],
   "source": [
    "partition_columns = ['year']"
   ]
  },
  {
   "cell_type": "code",
   "execution_count": 5,
   "id": "4b00f05a-5e85-4212-9c93-b368d9051661",
   "metadata": {},
   "outputs": [],
   "source": [
    "import pandas as pd\n",
    "data = [['2020', 10], ['2021', 15], ['2022', 14]]\n",
    "df1 = pd.DataFrame(data, columns = ['year', 'metric'])\n",
    "df1 = df1.convert_dtypes()"
   ]
  },
  {
   "cell_type": "code",
   "execution_count": 6,
   "id": "75f91a7d-271e-4a04-9b95-759d2f851741",
   "metadata": {},
   "outputs": [
    {
     "data": {
      "text/html": [
       "<div>\n",
       "<style scoped>\n",
       "    .dataframe tbody tr th:only-of-type {\n",
       "        vertical-align: middle;\n",
       "    }\n",
       "\n",
       "    .dataframe tbody tr th {\n",
       "        vertical-align: top;\n",
       "    }\n",
       "\n",
       "    .dataframe thead th {\n",
       "        text-align: right;\n",
       "    }\n",
       "</style>\n",
       "<table border=\"1\" class=\"dataframe\">\n",
       "  <thead>\n",
       "    <tr style=\"text-align: right;\">\n",
       "      <th></th>\n",
       "      <th>metric</th>\n",
       "      <th>year</th>\n",
       "    </tr>\n",
       "  </thead>\n",
       "  <tbody>\n",
       "    <tr>\n",
       "      <th>0</th>\n",
       "      <td>10</td>\n",
       "      <td>2020</td>\n",
       "    </tr>\n",
       "    <tr>\n",
       "      <th>1</th>\n",
       "      <td>15</td>\n",
       "      <td>2021</td>\n",
       "    </tr>\n",
       "    <tr>\n",
       "      <th>2</th>\n",
       "      <td>14</td>\n",
       "      <td>2022</td>\n",
       "    </tr>\n",
       "  </tbody>\n",
       "</table>\n",
       "</div>"
      ],
      "text/plain": [
       "   metric  year\n",
       "0      10  2020\n",
       "1      15  2021\n",
       "2      14  2022"
      ]
     },
     "execution_count": 6,
     "metadata": {},
     "output_type": "execute_result"
    }
   ],
   "source": [
    "osc.enforce_partition_column_order(df1, partition_columns, inplace=True)\n",
    "df1"
   ]
  },
  {
   "cell_type": "code",
   "execution_count": 7,
   "id": "b668e919-1fc6-441d-ae2f-be77b821b24c",
   "metadata": {},
   "outputs": [
    {
     "name": "stdout",
     "output_type": "stream",
     "text": [
      "[{'ResponseMetadata': {'RequestId': 'RJZQFTWK5B7N7A1M', 'HostId': 'Wx/Hc4BEry+c2i7wjIA5Vo/d2aheuI/YgBotE+P7C7sYnzG2heMbr18vanheETqY1z0RF7wO13Q=', 'HTTPStatusCode': 200, 'HTTPHeaders': {'x-amz-id-2': 'Wx/Hc4BEry+c2i7wjIA5Vo/d2aheuI/YgBotE+P7C7sYnzG2heMbr18vanheETqY1z0RF7wO13Q=', 'x-amz-request-id': 'RJZQFTWK5B7N7A1M', 'date': 'Sun, 05 Dec 2021 15:15:51 GMT', 'content-type': 'application/xml', 'transfer-encoding': 'chunked', 'server': 'AmazonS3', 'connection': 'close'}, 'RetryAttempts': 0}, 'Deleted': [{'Key': 'trino/demo/parquet_partitions_tutorial/year=2021/4e3ab70e95c14cdab797ec3d436feb11.parquet'}, {'Key': 'trino/demo/parquet_partitions_tutorial/year=2022/de1af663382f4da1b85454b0fd9ace44.parquet'}, {'Key': 'trino/demo/parquet_partitions_tutorial/year=2024/ca8b0f0aa61f48a0a344460cae8bff4d.parquet'}, {'Key': 'trino/demo/parquet_partitions_tutorial/year=2023/1a76544770b342c494b9c6ec578433ab.parquet'}, {'Key': 'trino/demo/parquet_partitions_tutorial/year=2020/672b79c84998434c8af3ba8452588cb3.parquet'}, {'Key': 'trino/demo/parquet_partitions_tutorial/year=2022/f0c7c0e2d72148af945e1bd459cda135.parquet'}]}]\n"
     ]
    },
    {
     "data": {
      "text/plain": [
       "<sqlalchemy.engine.result.ResultProxy at 0x7f2fc4aabe50>"
      ]
     },
     "execution_count": 7,
     "metadata": {},
     "output_type": "execute_result"
    }
   ],
   "source": [
    "osc.drop_unmanaged_table(ingest_catalog, ingest_schema, ingest_table, engine, bucket, verbose=True)"
   ]
  },
  {
   "cell_type": "code",
   "execution_count": 8,
   "id": "7cf12db5-8ba9-4c1d-844b-a9868f82e7d9",
   "metadata": {},
   "outputs": [
    {
     "name": "stdout",
     "output_type": "stream",
     "text": [
      "/tmp/parquet_partitions_tutorial/year=2020/3b495ac0d15748268d2e9f9ec7d45642.parquet  -->  trino/demo/parquet_partitions_tutorial/year=2020/3b495ac0d15748268d2e9f9ec7d45642.parquet\n",
      "/tmp/parquet_partitions_tutorial/year=2021/6928287dbdbd40adb02ee43984bcc21e.parquet  -->  trino/demo/parquet_partitions_tutorial/year=2021/6928287dbdbd40adb02ee43984bcc21e.parquet\n",
      "/tmp/parquet_partitions_tutorial/year=2022/a41cc3e7c81f44b199d7aecd13aa455d.parquet  -->  trino/demo/parquet_partitions_tutorial/year=2022/a41cc3e7c81f44b199d7aecd13aa455d.parquet\n"
     ]
    }
   ],
   "source": [
    "osc.ingest_unmanaged_parquet(df1, ingest_schema, ingest_table, bucket,\n",
    "                             partition_columns=partition_columns,\n",
    "                             verbose=True)"
   ]
  },
  {
   "cell_type": "code",
   "execution_count": 9,
   "id": "9efa26a6-8002-4ab2-b859-45ce1eac224c",
   "metadata": {},
   "outputs": [
    {
     "name": "stdout",
     "output_type": "stream",
     "text": [
      "trino/demo/parquet_partitions_tutorial/year=2020/3b495ac0d15748268d2e9f9ec7d45642.parquet\n",
      "trino/demo/parquet_partitions_tutorial/year=2021/6928287dbdbd40adb02ee43984bcc21e.parquet\n",
      "trino/demo/parquet_partitions_tutorial/year=2022/a41cc3e7c81f44b199d7aecd13aa455d.parquet\n"
     ]
    }
   ],
   "source": [
    "for e in bucket.objects \\\n",
    "    .filter(Prefix=f'trino/{ingest_schema}/{ingest_table}/'):\n",
    "    print(e.key)"
   ]
  },
  {
   "cell_type": "code",
   "execution_count": 10,
   "id": "8fdaba9f-bcd3-4055-89c4-9e51ee985a8e",
   "metadata": {},
   "outputs": [
    {
     "name": "stdout",
     "output_type": "stream",
     "text": [
      "create table if not exists osc_datacommons_dev.demo.parquet_partitions_tutorial (\n",
      "    metric bigint,\n",
      "    year varchar\n",
      ") with (\n",
      "    format = 'parquet',\n",
      "    partitioned_by = array['year'],\n",
      "    external_location = 's3a://ocp-odh-os-demo-s3/trino/demo/parquet_partitions_tutorial/'\n",
      ")\n",
      "[(True,)]\n"
     ]
    }
   ],
   "source": [
    "sql = osc.unmanaged_parquet_tabledef(df1, ingest_catalog, ingest_schema, ingest_table, bucket,\n",
    "                                    partition_columns = partition_columns,\n",
    "                                    verbose = True)\n",
    "qres = engine.execute(sql)\n",
    "print(qres.fetchall())"
   ]
  },
  {
   "cell_type": "code",
   "execution_count": 11,
   "id": "c20b9f91-5879-49b4-9032-6e9afc404e25",
   "metadata": {},
   "outputs": [
    {
     "name": "stdout",
     "output_type": "stream",
     "text": [
      "[(True,)]\n"
     ]
    }
   ],
   "source": [
    "sql = f\"\"\"\n",
    "call {ingest_catalog}.system.sync_partition_metadata('{ingest_schema}', '{ingest_table}', 'FULL')\n",
    "\"\"\"\n",
    "qres = engine.execute(sql)\n",
    "print(qres.fetchall())"
   ]
  },
  {
   "cell_type": "code",
   "execution_count": 12,
   "id": "fcd63805-7930-435e-ae38-69de37a9def5",
   "metadata": {},
   "outputs": [
    {
     "data": {
      "text/html": [
       "<div>\n",
       "<style scoped>\n",
       "    .dataframe tbody tr th:only-of-type {\n",
       "        vertical-align: middle;\n",
       "    }\n",
       "\n",
       "    .dataframe tbody tr th {\n",
       "        vertical-align: top;\n",
       "    }\n",
       "\n",
       "    .dataframe thead th {\n",
       "        text-align: right;\n",
       "    }\n",
       "</style>\n",
       "<table border=\"1\" class=\"dataframe\">\n",
       "  <thead>\n",
       "    <tr style=\"text-align: right;\">\n",
       "      <th></th>\n",
       "      <th>year</th>\n",
       "    </tr>\n",
       "  </thead>\n",
       "  <tbody>\n",
       "    <tr>\n",
       "      <th>0</th>\n",
       "      <td>2020</td>\n",
       "    </tr>\n",
       "    <tr>\n",
       "      <th>1</th>\n",
       "      <td>2021</td>\n",
       "    </tr>\n",
       "    <tr>\n",
       "      <th>2</th>\n",
       "      <td>2022</td>\n",
       "    </tr>\n",
       "  </tbody>\n",
       "</table>\n",
       "</div>"
      ],
      "text/plain": [
       "   year\n",
       "0  2020\n",
       "1  2021\n",
       "2  2022"
      ]
     },
     "execution_count": 12,
     "metadata": {},
     "output_type": "execute_result"
    }
   ],
   "source": [
    "sql = f\"\"\"\n",
    "select * from {ingest_catalog}.{ingest_schema}.\"{ingest_table}$partitions\"\n",
    "\"\"\"\n",
    "df = pd.read_sql(sql, engine)\n",
    "df"
   ]
  },
  {
   "cell_type": "code",
   "execution_count": 13,
   "id": "1e58eb64-90a8-4abb-aef5-6da46a8d2e40",
   "metadata": {},
   "outputs": [
    {
     "data": {
      "text/html": [
       "<div>\n",
       "<style scoped>\n",
       "    .dataframe tbody tr th:only-of-type {\n",
       "        vertical-align: middle;\n",
       "    }\n",
       "\n",
       "    .dataframe tbody tr th {\n",
       "        vertical-align: top;\n",
       "    }\n",
       "\n",
       "    .dataframe thead th {\n",
       "        text-align: right;\n",
       "    }\n",
       "</style>\n",
       "<table border=\"1\" class=\"dataframe\">\n",
       "  <thead>\n",
       "    <tr style=\"text-align: right;\">\n",
       "      <th></th>\n",
       "      <th>metric</th>\n",
       "      <th>year</th>\n",
       "    </tr>\n",
       "  </thead>\n",
       "  <tbody>\n",
       "    <tr>\n",
       "      <th>0</th>\n",
       "      <td>14</td>\n",
       "      <td>2022</td>\n",
       "    </tr>\n",
       "    <tr>\n",
       "      <th>1</th>\n",
       "      <td>15</td>\n",
       "      <td>2021</td>\n",
       "    </tr>\n",
       "    <tr>\n",
       "      <th>2</th>\n",
       "      <td>10</td>\n",
       "      <td>2020</td>\n",
       "    </tr>\n",
       "  </tbody>\n",
       "</table>\n",
       "</div>"
      ],
      "text/plain": [
       "   metric  year\n",
       "0      14  2022\n",
       "1      15  2021\n",
       "2      10  2020"
      ]
     },
     "execution_count": 13,
     "metadata": {},
     "output_type": "execute_result"
    }
   ],
   "source": [
    "sql = f\"\"\"\n",
    "select * from {ingest_catalog}.{ingest_schema}.{ingest_table}\n",
    "\"\"\"\n",
    "df = pd.read_sql(sql, engine)\n",
    "df"
   ]
  },
  {
   "cell_type": "code",
   "execution_count": 14,
   "id": "4f793519-50fe-4208-890e-f8dfd7b5c2ae",
   "metadata": {},
   "outputs": [
    {
     "data": {
      "text/html": [
       "<div>\n",
       "<style scoped>\n",
       "    .dataframe tbody tr th:only-of-type {\n",
       "        vertical-align: middle;\n",
       "    }\n",
       "\n",
       "    .dataframe tbody tr th {\n",
       "        vertical-align: top;\n",
       "    }\n",
       "\n",
       "    .dataframe thead th {\n",
       "        text-align: right;\n",
       "    }\n",
       "</style>\n",
       "<table border=\"1\" class=\"dataframe\">\n",
       "  <thead>\n",
       "    <tr style=\"text-align: right;\">\n",
       "      <th></th>\n",
       "      <th>metric</th>\n",
       "      <th>year</th>\n",
       "    </tr>\n",
       "  </thead>\n",
       "  <tbody>\n",
       "    <tr>\n",
       "      <th>0</th>\n",
       "      <td>30</td>\n",
       "      <td>2022</td>\n",
       "    </tr>\n",
       "    <tr>\n",
       "      <th>1</th>\n",
       "      <td>35</td>\n",
       "      <td>2023</td>\n",
       "    </tr>\n",
       "    <tr>\n",
       "      <th>2</th>\n",
       "      <td>40</td>\n",
       "      <td>2024</td>\n",
       "    </tr>\n",
       "  </tbody>\n",
       "</table>\n",
       "</div>"
      ],
      "text/plain": [
       "   metric  year\n",
       "0      30  2022\n",
       "1      35  2023\n",
       "2      40  2024"
      ]
     },
     "execution_count": 14,
     "metadata": {},
     "output_type": "execute_result"
    }
   ],
   "source": [
    "data = [['2022', 30], ['2023', 35], ['2024', 40]]\n",
    "df2 = pd.DataFrame(data, columns = ['year', 'metric'])\n",
    "df2 = df2.convert_dtypes()\n",
    "osc.enforce_partition_column_order(df2, partition_columns, inplace=True)\n",
    "df2"
   ]
  },
  {
   "cell_type": "code",
   "execution_count": 15,
   "id": "bd34590e-e395-4a28-90f4-4941e6bb7e34",
   "metadata": {},
   "outputs": [
    {
     "name": "stdout",
     "output_type": "stream",
     "text": [
      "/tmp/parquet_partitions_tutorial/year=2022/1377770283354cd7a4874b013ef4dea9.parquet  -->  trino/demo/parquet_partitions_tutorial/year=2022/1377770283354cd7a4874b013ef4dea9.parquet\n",
      "/tmp/parquet_partitions_tutorial/year=2023/4c5701cf885948c6beb414288a17b19a.parquet  -->  trino/demo/parquet_partitions_tutorial/year=2023/4c5701cf885948c6beb414288a17b19a.parquet\n",
      "/tmp/parquet_partitions_tutorial/year=2024/378baaefec0a44bea04938ae6f3134e9.parquet  -->  trino/demo/parquet_partitions_tutorial/year=2024/378baaefec0a44bea04938ae6f3134e9.parquet\n"
     ]
    }
   ],
   "source": [
    "osc.ingest_unmanaged_parquet(df2, ingest_schema, ingest_table, bucket,\n",
    "                             partition_columns=partition_columns,\n",
    "                             verbose=True)"
   ]
  },
  {
   "cell_type": "code",
   "execution_count": 16,
   "id": "f603b7eb-7142-4d36-939a-7e672804199c",
   "metadata": {},
   "outputs": [
    {
     "name": "stdout",
     "output_type": "stream",
     "text": [
      "trino/demo/parquet_partitions_tutorial/year=2020/3b495ac0d15748268d2e9f9ec7d45642.parquet\n",
      "trino/demo/parquet_partitions_tutorial/year=2021/6928287dbdbd40adb02ee43984bcc21e.parquet\n",
      "trino/demo/parquet_partitions_tutorial/year=2022/1377770283354cd7a4874b013ef4dea9.parquet\n",
      "trino/demo/parquet_partitions_tutorial/year=2022/a41cc3e7c81f44b199d7aecd13aa455d.parquet\n",
      "trino/demo/parquet_partitions_tutorial/year=2023/4c5701cf885948c6beb414288a17b19a.parquet\n",
      "trino/demo/parquet_partitions_tutorial/year=2024/378baaefec0a44bea04938ae6f3134e9.parquet\n"
     ]
    }
   ],
   "source": [
    "for e in bucket.objects \\\n",
    "    .filter(Prefix=f'trino/{ingest_schema}/{ingest_table}/'):\n",
    "    print(e.key)"
   ]
  },
  {
   "cell_type": "code",
   "execution_count": 17,
   "id": "63c9b68b-0307-4c06-b018-a56c1d1592d5",
   "metadata": {},
   "outputs": [
    {
     "name": "stdout",
     "output_type": "stream",
     "text": [
      "[(True,)]\n"
     ]
    }
   ],
   "source": [
    "sql = f\"\"\"\n",
    "call {ingest_catalog}.system.sync_partition_metadata('{ingest_schema}', '{ingest_table}', 'FULL')\n",
    "\"\"\"\n",
    "qres = engine.execute(sql)\n",
    "print(qres.fetchall())"
   ]
  },
  {
   "cell_type": "code",
   "execution_count": 18,
   "id": "76e3795e-19a2-461e-8984-f6e63b214f31",
   "metadata": {},
   "outputs": [
    {
     "data": {
      "text/html": [
       "<div>\n",
       "<style scoped>\n",
       "    .dataframe tbody tr th:only-of-type {\n",
       "        vertical-align: middle;\n",
       "    }\n",
       "\n",
       "    .dataframe tbody tr th {\n",
       "        vertical-align: top;\n",
       "    }\n",
       "\n",
       "    .dataframe thead th {\n",
       "        text-align: right;\n",
       "    }\n",
       "</style>\n",
       "<table border=\"1\" class=\"dataframe\">\n",
       "  <thead>\n",
       "    <tr style=\"text-align: right;\">\n",
       "      <th></th>\n",
       "      <th>year</th>\n",
       "    </tr>\n",
       "  </thead>\n",
       "  <tbody>\n",
       "    <tr>\n",
       "      <th>0</th>\n",
       "      <td>2020</td>\n",
       "    </tr>\n",
       "    <tr>\n",
       "      <th>1</th>\n",
       "      <td>2021</td>\n",
       "    </tr>\n",
       "    <tr>\n",
       "      <th>2</th>\n",
       "      <td>2022</td>\n",
       "    </tr>\n",
       "    <tr>\n",
       "      <th>3</th>\n",
       "      <td>2023</td>\n",
       "    </tr>\n",
       "    <tr>\n",
       "      <th>4</th>\n",
       "      <td>2024</td>\n",
       "    </tr>\n",
       "  </tbody>\n",
       "</table>\n",
       "</div>"
      ],
      "text/plain": [
       "   year\n",
       "0  2020\n",
       "1  2021\n",
       "2  2022\n",
       "3  2023\n",
       "4  2024"
      ]
     },
     "execution_count": 18,
     "metadata": {},
     "output_type": "execute_result"
    }
   ],
   "source": [
    "sql = f\"\"\"\n",
    "select * from {ingest_catalog}.{ingest_schema}.\"{ingest_table}$partitions\"\n",
    "\"\"\"\n",
    "df = pd.read_sql(sql, engine)\n",
    "df"
   ]
  },
  {
   "cell_type": "code",
   "execution_count": 19,
   "id": "a5c415e7-950a-46ef-a1c9-97d78d4142f5",
   "metadata": {},
   "outputs": [
    {
     "data": {
      "text/html": [
       "<div>\n",
       "<style scoped>\n",
       "    .dataframe tbody tr th:only-of-type {\n",
       "        vertical-align: middle;\n",
       "    }\n",
       "\n",
       "    .dataframe tbody tr th {\n",
       "        vertical-align: top;\n",
       "    }\n",
       "\n",
       "    .dataframe thead th {\n",
       "        text-align: right;\n",
       "    }\n",
       "</style>\n",
       "<table border=\"1\" class=\"dataframe\">\n",
       "  <thead>\n",
       "    <tr style=\"text-align: right;\">\n",
       "      <th></th>\n",
       "      <th>metric</th>\n",
       "      <th>year</th>\n",
       "    </tr>\n",
       "  </thead>\n",
       "  <tbody>\n",
       "    <tr>\n",
       "      <th>0</th>\n",
       "      <td>10</td>\n",
       "      <td>2020</td>\n",
       "    </tr>\n",
       "    <tr>\n",
       "      <th>1</th>\n",
       "      <td>15</td>\n",
       "      <td>2021</td>\n",
       "    </tr>\n",
       "    <tr>\n",
       "      <th>2</th>\n",
       "      <td>14</td>\n",
       "      <td>2022</td>\n",
       "    </tr>\n",
       "    <tr>\n",
       "      <th>3</th>\n",
       "      <td>30</td>\n",
       "      <td>2022</td>\n",
       "    </tr>\n",
       "    <tr>\n",
       "      <th>4</th>\n",
       "      <td>35</td>\n",
       "      <td>2023</td>\n",
       "    </tr>\n",
       "    <tr>\n",
       "      <th>5</th>\n",
       "      <td>40</td>\n",
       "      <td>2024</td>\n",
       "    </tr>\n",
       "  </tbody>\n",
       "</table>\n",
       "</div>"
      ],
      "text/plain": [
       "   metric  year\n",
       "0      10  2020\n",
       "1      15  2021\n",
       "2      14  2022\n",
       "3      30  2022\n",
       "4      35  2023\n",
       "5      40  2024"
      ]
     },
     "execution_count": 19,
     "metadata": {},
     "output_type": "execute_result"
    }
   ],
   "source": [
    "sql = f\"\"\"\n",
    "select * from {ingest_catalog}.{ingest_schema}.{ingest_table}\n",
    "order by year asc\n",
    "\"\"\"\n",
    "df = pd.read_sql(sql, engine)\n",
    "df"
   ]
  },
  {
   "cell_type": "code",
   "execution_count": null,
   "id": "17ac1f26-7a62-4ae6-afb7-24c3caf807bc",
   "metadata": {},
   "outputs": [],
   "source": []
  }
 ],
 "metadata": {
  "kernelspec": {
   "display_name": "Python 3",
   "language": "python",
   "name": "python3"
  },
  "language_info": {
   "codemirror_mode": {
    "name": "ipython",
    "version": 3
   },
   "file_extension": ".py",
   "mimetype": "text/x-python",
   "name": "python",
   "nbconvert_exporter": "python",
   "pygments_lexer": "ipython3",
   "version": "3.8.3"
  }
 },
 "nbformat": 4,
 "nbformat_minor": 5
}
