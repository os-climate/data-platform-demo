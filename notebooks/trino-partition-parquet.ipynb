{
 "cells": [
  {
   "cell_type": "markdown",
   "id": "055e228d-c294-4bff-ace1-8470358f0a57",
   "metadata": {},
   "source": [
    "Run these in a notebook cell if you need to install onto your nb env\n",
    "```\n",
    "# 'capture' magic prevents long outputs from spamming your notebook\n",
    "%%capture pipoutput\n",
    "\n",
    "# For loading predefined environment variables from files\n",
    "# Typically used to load sensitive access credentials\n",
    "%pip install python-dotenv\n",
    "\n",
    "# Standard python package for interacting with S3 buckets\n",
    "%pip install boto3\n",
    "\n",
    "# Interacting with Trino and using Trino with sqlalchemy\n",
    "%pip install trino sqlalchemy sqlalchemy-trino\n",
    "\n",
    "# Pandas and parquet file i/o\n",
    "%pip install pandas pyarrow fastparquet\n",
    "\n",
    "# OS-Climate utilities to make data ingest easier\n",
    "%pip install osc-ingest-tools\n",
    "```"
   ]
  },
  {
   "cell_type": "code",
   "execution_count": 1,
   "id": "0b9915e4-cb4e-43ad-9865-4cea6d160b3e",
   "metadata": {},
   "outputs": [],
   "source": [
    "import os\n",
    "import pathlib\n",
    "from dotenv import load_dotenv\n",
    "\n",
    "# Load some standard environment variables from a dot-env file, if it exists.\n",
    "# If no such file can be found, does not fail, and so allows these environment vars to\n",
    "# be populated in some other way\n",
    "dotenv_dir = os.environ.get('CREDENTIAL_DOTENV_DIR', os.environ.get('PWD', '/opt/app-root/src'))\n",
    "dotenv_path = pathlib.Path(dotenv_dir) / 'credentials.env'\n",
    "if os.path.exists(dotenv_path):\n",
    "    load_dotenv(dotenv_path=dotenv_path,override=True)"
   ]
  },
  {
   "cell_type": "code",
   "execution_count": 2,
   "id": "0d9eb6da-2292-4dcc-b025-e95b194ef691",
   "metadata": {},
   "outputs": [],
   "source": [
    "import boto3\n",
    "s3 = boto3.resource(\n",
    "    service_name=\"s3\",\n",
    "    endpoint_url=os.environ[\"S3_DEV_ENDPOINT\"],\n",
    "    aws_access_key_id=os.environ[\"S3_DEV_ACCESS_KEY\"],\n",
    "    aws_secret_access_key=os.environ[\"S3_DEV_SECRET_KEY\"],\n",
    ")\n",
    "bucket = s3.Bucket(os.environ[\"S3_DEV_BUCKET\"])"
   ]
  },
  {
   "cell_type": "code",
   "execution_count": 3,
   "id": "67058349-ee99-41c0-80de-3ebb1d556372",
   "metadata": {},
   "outputs": [],
   "source": [
    "import trino\n",
    "from sqlalchemy.engine import create_engine\n",
    "\n",
    "sqlstring = 'trino://{user}@{host}:{port}/'.format(\n",
    "    user = os.environ['TRINO_USER'],\n",
    "    host = os.environ['TRINO_HOST'],\n",
    "    port = os.environ['TRINO_PORT']\n",
    ")\n",
    "sqlargs = {\n",
    "    'auth': trino.auth.JWTAuthentication(os.environ['TRINO_PASSWD']),\n",
    "    'http_scheme': 'https'\n",
    "}\n",
    "engine = create_engine(sqlstring, connect_args = sqlargs)\n",
    "connection = engine.connect()"
   ]
  },
  {
   "cell_type": "code",
   "execution_count": 4,
   "id": "64f8501f-6145-4cc1-8573-892a63cccaac",
   "metadata": {},
   "outputs": [],
   "source": [
    "ingest_catalog = 'osc_datacommons_dev'\n",
    "ingest_schema = 'demo'\n",
    "ingest_table = 'parquet_partitions_tutorial'"
   ]
  },
  {
   "cell_type": "code",
   "execution_count": 5,
   "id": "643cf26e-8c52-422d-b6c5-a5f802ed86ac",
   "metadata": {},
   "outputs": [],
   "source": [
    "partition_columns = ['year']"
   ]
  },
  {
   "cell_type": "code",
   "execution_count": 6,
   "id": "4b00f05a-5e85-4212-9c93-b368d9051661",
   "metadata": {},
   "outputs": [],
   "source": [
    "import pandas as pd\n",
    "data = [['2020', 10], ['2021', 15], ['2022', 14]]\n",
    "df1 = pd.DataFrame(data, columns = ['year', 'metric'])\n",
    "df1 = df1.convert_dtypes()"
   ]
  },
  {
   "cell_type": "code",
   "execution_count": 7,
   "id": "485e58c0-4d1e-4a1a-8d9b-7c2ab3e92c42",
   "metadata": {},
   "outputs": [],
   "source": [
    "# to do: put this in osc-ingest-tools\n",
    "def enforce_partition_column_order(df, pcols, inplace=False):\n",
    "    cols = list(df.columns.values)\n",
    "    for c in pcols:\n",
    "        cols.remove(c)\n",
    "        cols.append(c)\n",
    "    if not inplace:\n",
    "        return df[cols]\n",
    "    for c in cols:\n",
    "        s = df[c]\n",
    "        df.drop(columns=[c], inplace=True)\n",
    "        df[c] = s"
   ]
  },
  {
   "cell_type": "code",
   "execution_count": 8,
   "id": "75f91a7d-271e-4a04-9b95-759d2f851741",
   "metadata": {},
   "outputs": [
    {
     "data": {
      "text/html": [
       "<div>\n",
       "<style scoped>\n",
       "    .dataframe tbody tr th:only-of-type {\n",
       "        vertical-align: middle;\n",
       "    }\n",
       "\n",
       "    .dataframe tbody tr th {\n",
       "        vertical-align: top;\n",
       "    }\n",
       "\n",
       "    .dataframe thead th {\n",
       "        text-align: right;\n",
       "    }\n",
       "</style>\n",
       "<table border=\"1\" class=\"dataframe\">\n",
       "  <thead>\n",
       "    <tr style=\"text-align: right;\">\n",
       "      <th></th>\n",
       "      <th>metric</th>\n",
       "      <th>year</th>\n",
       "    </tr>\n",
       "  </thead>\n",
       "  <tbody>\n",
       "    <tr>\n",
       "      <th>0</th>\n",
       "      <td>10</td>\n",
       "      <td>2020</td>\n",
       "    </tr>\n",
       "    <tr>\n",
       "      <th>1</th>\n",
       "      <td>15</td>\n",
       "      <td>2021</td>\n",
       "    </tr>\n",
       "    <tr>\n",
       "      <th>2</th>\n",
       "      <td>14</td>\n",
       "      <td>2022</td>\n",
       "    </tr>\n",
       "  </tbody>\n",
       "</table>\n",
       "</div>"
      ],
      "text/plain": [
       "   metric  year\n",
       "0      10  2020\n",
       "1      15  2021\n",
       "2      14  2022"
      ]
     },
     "execution_count": 8,
     "metadata": {},
     "output_type": "execute_result"
    }
   ],
   "source": [
    "enforce_partition_column_order(df1, partition_columns, inplace=True)\n",
    "df1"
   ]
  },
  {
   "cell_type": "code",
   "execution_count": 9,
   "id": "b668e919-1fc6-441d-ae2f-be77b821b24c",
   "metadata": {},
   "outputs": [
    {
     "name": "stdout",
     "output_type": "stream",
     "text": [
      "[(True,)]\n"
     ]
    },
    {
     "data": {
      "text/plain": [
       "[{'ResponseMetadata': {'RequestId': 'M91YEP0813EZH0ZA',\n",
       "   'HostId': 'TiYsfaLZOCcZcIo+/n2vN/vWdqFsSzOkrFhd3rTNej6N1GQynjWdRBd1D6OUnoYnJFfjfJIUzPg=',\n",
       "   'HTTPStatusCode': 200,\n",
       "   'HTTPHeaders': {'x-amz-id-2': 'TiYsfaLZOCcZcIo+/n2vN/vWdqFsSzOkrFhd3rTNej6N1GQynjWdRBd1D6OUnoYnJFfjfJIUzPg=',\n",
       "    'x-amz-request-id': 'M91YEP0813EZH0ZA',\n",
       "    'date': 'Fri, 03 Dec 2021 23:15:53 GMT',\n",
       "    'content-type': 'application/xml',\n",
       "    'transfer-encoding': 'chunked',\n",
       "    'server': 'AmazonS3',\n",
       "    'connection': 'close'},\n",
       "   'RetryAttempts': 0},\n",
       "  'Deleted': [{'Key': 'trino/demo/parquet_partitions_tutorial/year=2021/c0ded545f68843b8a34903c1aa17f391.parquet'},\n",
       "   {'Key': 'trino/demo/parquet_partitions_tutorial/year=2020/eeef91d926af44c2b3458697b3243613.parquet'},\n",
       "   {'Key': 'trino/demo/parquet_partitions_tutorial/year=2022/537b859071174d9fb5955b2264abc793.parquet'}]}]"
      ]
     },
     "execution_count": 9,
     "metadata": {},
     "output_type": "execute_result"
    }
   ],
   "source": [
    "sql = f\"\"\"\n",
    "drop table if exists {ingest_catalog}.{ingest_schema}.{ingest_table}\n",
    "\"\"\"\n",
    "qres = engine.execute(sql)\n",
    "print(qres.fetchall())\n",
    "\n",
    "# hive connector does not manage underlying files for you\n",
    "# so to truly drop a table you must manually remove underlying data files\n",
    "bucket.objects \\\n",
    "    .filter(Prefix=f'trino/{ingest_schema}/{ingest_table}/') \\\n",
    "    .delete()"
   ]
  },
  {
   "cell_type": "code",
   "execution_count": 10,
   "id": "4def7855-7e32-4c7f-b0d6-2fcfac6e7043",
   "metadata": {},
   "outputs": [],
   "source": [
    "# todo: add this utility to osc-ingest-tools\n",
    "import os\n",
    "def upload_directory_to_s3(path, bucket, prefix):\n",
    "    for subdir, dirs, files in os.walk(path):\n",
    "        for f in files:\n",
    "            pfx = subdir.replace(path, prefix)\n",
    "            src = os.path.join(subdir, f)\n",
    "            dst = os.path.join(pfx, f)\n",
    "            #print(f'{src}  -->  {dst}')\n",
    "            bucket.upload_file(src, dst)"
   ]
  },
  {
   "cell_type": "code",
   "execution_count": 11,
   "id": "7cf12db5-8ba9-4c1d-844b-a9868f82e7d9",
   "metadata": {},
   "outputs": [],
   "source": [
    "import shutil\n",
    "tmp = f'/tmp/{ingest_table}'\n",
    "\n",
    "# pandas does not clean out destination directory for you:\n",
    "shutil.rmtree(tmp, ignore_errors=True)\n",
    "\n",
    "# tell pandas to write a directory tree, using partitions\n",
    "df1.to_parquet(tmp,\n",
    "               partition_cols=partition_columns,\n",
    "               index=False)\n",
    "\n",
    "# upload the tree onto S3\n",
    "# The previous call to `df.to_parquet` automatically creates unique filenames,\n",
    "# so any pre-existing data out on s3 is NOT overwritten.\n",
    "# Effectively this is an \"append\" operation on the corresponding trino DB\n",
    "# If you want to overwrite trino's data you will also have to remove\n",
    "# any pre-existing data out on S3 before you upload\n",
    "upload_directory_to_s3(tmp, bucket, f'trino/{ingest_schema}/{ingest_table}')"
   ]
  },
  {
   "cell_type": "code",
   "execution_count": 12,
   "id": "9efa26a6-8002-4ab2-b859-45ce1eac224c",
   "metadata": {},
   "outputs": [
    {
     "name": "stdout",
     "output_type": "stream",
     "text": [
      "trino/demo/parquet_partitions_tutorial/year=2020/ae44418ebbb246b891ce4bdff939b2f5.parquet\n",
      "trino/demo/parquet_partitions_tutorial/year=2021/d1001551ca81425eaa0eafc4e33468be.parquet\n",
      "trino/demo/parquet_partitions_tutorial/year=2022/c8db9cc2e12a4521913c100a052a486d.parquet\n"
     ]
    }
   ],
   "source": [
    "for e in bucket.objects \\\n",
    "    .filter(Prefix=f'trino/{ingest_schema}/{ingest_table}/'):\n",
    "    print(e.key)"
   ]
  },
  {
   "cell_type": "code",
   "execution_count": 13,
   "id": "8fdaba9f-bcd3-4055-89c4-9e51ee985a8e",
   "metadata": {},
   "outputs": [
    {
     "name": "stdout",
     "output_type": "stream",
     "text": [
      "\n",
      "create table if not exists osc_datacommons_dev.demo.parquet_partitions_tutorial(\n",
      "    metric bigint,\n",
      "    year varchar\n",
      ") with (\n",
      "    format = 'parquet',\n",
      "    partitioned_by = array['year'],\n",
      "    external_location = 's3a://ocp-odh-os-demo-s3/trino/demo/parquet_partitions_tutorial/'\n",
      ")\n",
      "\n",
      "[(True,)]\n"
     ]
    }
   ],
   "source": [
    "import osc_ingest_trino as osc\n",
    "columnschema = osc.create_table_schema_pairs(df1)\n",
    "\n",
    "tabledef = f\"\"\"\n",
    "create table if not exists {ingest_catalog}.{ingest_schema}.{ingest_table}(\n",
    "{columnschema}\n",
    ") with (\n",
    "    format = 'parquet',\n",
    "    partitioned_by = array{partition_columns},\n",
    "    external_location = 's3a://{bucket.name}/trino/{ingest_schema}/{ingest_table}/'\n",
    ")\n",
    "\"\"\"\n",
    "print(tabledef)\n",
    "qres = engine.execute(tabledef)\n",
    "print(qres.fetchall())"
   ]
  },
  {
   "cell_type": "code",
   "execution_count": 21,
   "id": "c20b9f91-5879-49b4-9032-6e9afc404e25",
   "metadata": {},
   "outputs": [
    {
     "name": "stdout",
     "output_type": "stream",
     "text": [
      "[(True,)]\n"
     ]
    }
   ],
   "source": [
    "sql = f\"\"\"\n",
    "call {ingest_catalog}.system.sync_partition_metadata('{ingest_schema}', '{ingest_table}', 'FULL')\n",
    "\"\"\"\n",
    "qres = engine.execute(sql)\n",
    "print(qres.fetchall())"
   ]
  },
  {
   "cell_type": "code",
   "execution_count": 22,
   "id": "fcd63805-7930-435e-ae38-69de37a9def5",
   "metadata": {},
   "outputs": [
    {
     "data": {
      "text/html": [
       "<div>\n",
       "<style scoped>\n",
       "    .dataframe tbody tr th:only-of-type {\n",
       "        vertical-align: middle;\n",
       "    }\n",
       "\n",
       "    .dataframe tbody tr th {\n",
       "        vertical-align: top;\n",
       "    }\n",
       "\n",
       "    .dataframe thead th {\n",
       "        text-align: right;\n",
       "    }\n",
       "</style>\n",
       "<table border=\"1\" class=\"dataframe\">\n",
       "  <thead>\n",
       "    <tr style=\"text-align: right;\">\n",
       "      <th></th>\n",
       "      <th>year</th>\n",
       "    </tr>\n",
       "  </thead>\n",
       "  <tbody>\n",
       "    <tr>\n",
       "      <th>0</th>\n",
       "      <td>2020</td>\n",
       "    </tr>\n",
       "    <tr>\n",
       "      <th>1</th>\n",
       "      <td>2021</td>\n",
       "    </tr>\n",
       "    <tr>\n",
       "      <th>2</th>\n",
       "      <td>2022</td>\n",
       "    </tr>\n",
       "  </tbody>\n",
       "</table>\n",
       "</div>"
      ],
      "text/plain": [
       "   year\n",
       "0  2020\n",
       "1  2021\n",
       "2  2022"
      ]
     },
     "execution_count": 22,
     "metadata": {},
     "output_type": "execute_result"
    }
   ],
   "source": [
    "sql = f\"\"\"\n",
    "select * from {ingest_catalog}.{ingest_schema}.\"{ingest_table}$partitions\"\n",
    "\"\"\"\n",
    "df = pd.read_sql(sql, engine)\n",
    "df"
   ]
  },
  {
   "cell_type": "code",
   "execution_count": 23,
   "id": "1e58eb64-90a8-4abb-aef5-6da46a8d2e40",
   "metadata": {},
   "outputs": [
    {
     "data": {
      "text/html": [
       "<div>\n",
       "<style scoped>\n",
       "    .dataframe tbody tr th:only-of-type {\n",
       "        vertical-align: middle;\n",
       "    }\n",
       "\n",
       "    .dataframe tbody tr th {\n",
       "        vertical-align: top;\n",
       "    }\n",
       "\n",
       "    .dataframe thead th {\n",
       "        text-align: right;\n",
       "    }\n",
       "</style>\n",
       "<table border=\"1\" class=\"dataframe\">\n",
       "  <thead>\n",
       "    <tr style=\"text-align: right;\">\n",
       "      <th></th>\n",
       "      <th>metric</th>\n",
       "      <th>year</th>\n",
       "    </tr>\n",
       "  </thead>\n",
       "  <tbody>\n",
       "    <tr>\n",
       "      <th>0</th>\n",
       "      <td>10</td>\n",
       "      <td>2020</td>\n",
       "    </tr>\n",
       "    <tr>\n",
       "      <th>1</th>\n",
       "      <td>14</td>\n",
       "      <td>2022</td>\n",
       "    </tr>\n",
       "    <tr>\n",
       "      <th>2</th>\n",
       "      <td>15</td>\n",
       "      <td>2021</td>\n",
       "    </tr>\n",
       "  </tbody>\n",
       "</table>\n",
       "</div>"
      ],
      "text/plain": [
       "   metric  year\n",
       "0      10  2020\n",
       "1      14  2022\n",
       "2      15  2021"
      ]
     },
     "execution_count": 23,
     "metadata": {},
     "output_type": "execute_result"
    }
   ],
   "source": [
    "sql = f\"\"\"\n",
    "select * from {ingest_catalog}.{ingest_schema}.{ingest_table}\n",
    "\"\"\"\n",
    "df = pd.read_sql(sql, engine)\n",
    "df"
   ]
  },
  {
   "cell_type": "code",
   "execution_count": 24,
   "id": "4f793519-50fe-4208-890e-f8dfd7b5c2ae",
   "metadata": {},
   "outputs": [
    {
     "data": {
      "text/html": [
       "<div>\n",
       "<style scoped>\n",
       "    .dataframe tbody tr th:only-of-type {\n",
       "        vertical-align: middle;\n",
       "    }\n",
       "\n",
       "    .dataframe tbody tr th {\n",
       "        vertical-align: top;\n",
       "    }\n",
       "\n",
       "    .dataframe thead th {\n",
       "        text-align: right;\n",
       "    }\n",
       "</style>\n",
       "<table border=\"1\" class=\"dataframe\">\n",
       "  <thead>\n",
       "    <tr style=\"text-align: right;\">\n",
       "      <th></th>\n",
       "      <th>metric</th>\n",
       "      <th>year</th>\n",
       "    </tr>\n",
       "  </thead>\n",
       "  <tbody>\n",
       "    <tr>\n",
       "      <th>0</th>\n",
       "      <td>30</td>\n",
       "      <td>2022</td>\n",
       "    </tr>\n",
       "    <tr>\n",
       "      <th>1</th>\n",
       "      <td>35</td>\n",
       "      <td>2023</td>\n",
       "    </tr>\n",
       "    <tr>\n",
       "      <th>2</th>\n",
       "      <td>40</td>\n",
       "      <td>2024</td>\n",
       "    </tr>\n",
       "  </tbody>\n",
       "</table>\n",
       "</div>"
      ],
      "text/plain": [
       "   metric  year\n",
       "0      30  2022\n",
       "1      35  2023\n",
       "2      40  2024"
      ]
     },
     "execution_count": 24,
     "metadata": {},
     "output_type": "execute_result"
    }
   ],
   "source": [
    "data = [['2022', 30], ['2023', 35], ['2024', 40]]\n",
    "df2 = pd.DataFrame(data, columns = ['year', 'metric'])\n",
    "df2 = df2.convert_dtypes()\n",
    "enforce_partition_column_order(df2, partition_columns, inplace=True)\n",
    "df2"
   ]
  },
  {
   "cell_type": "code",
   "execution_count": 25,
   "id": "bd34590e-e395-4a28-90f4-4941e6bb7e34",
   "metadata": {},
   "outputs": [],
   "source": [
    "tmp = f'/tmp/{ingest_table}'\n",
    "\n",
    "shutil.rmtree(tmp, ignore_errors=True)\n",
    "\n",
    "df2.to_parquet(tmp,\n",
    "               partition_cols=partition_columns,\n",
    "               index=False)\n",
    "\n",
    "upload_directory_to_s3(tmp, bucket, f'trino/{ingest_schema}/{ingest_table}')"
   ]
  },
  {
   "cell_type": "code",
   "execution_count": 26,
   "id": "f603b7eb-7142-4d36-939a-7e672804199c",
   "metadata": {},
   "outputs": [
    {
     "name": "stdout",
     "output_type": "stream",
     "text": [
      "trino/demo/parquet_partitions_tutorial/year=2020/ae44418ebbb246b891ce4bdff939b2f5.parquet\n",
      "trino/demo/parquet_partitions_tutorial/year=2021/d1001551ca81425eaa0eafc4e33468be.parquet\n",
      "trino/demo/parquet_partitions_tutorial/year=2022/2b0d52d8fd354ae897265a168d9a209e.parquet\n",
      "trino/demo/parquet_partitions_tutorial/year=2022/c8db9cc2e12a4521913c100a052a486d.parquet\n",
      "trino/demo/parquet_partitions_tutorial/year=2023/e943b0c0689d4e6eb7aae84d8842dd2a.parquet\n",
      "trino/demo/parquet_partitions_tutorial/year=2024/11b39fd4560c4aa8b5a7ea8d86690530.parquet\n"
     ]
    }
   ],
   "source": [
    "for e in bucket.objects \\\n",
    "    .filter(Prefix=f'trino/{ingest_schema}/{ingest_table}/'):\n",
    "    print(e.key)"
   ]
  },
  {
   "cell_type": "code",
   "execution_count": 27,
   "id": "63c9b68b-0307-4c06-b018-a56c1d1592d5",
   "metadata": {},
   "outputs": [
    {
     "name": "stdout",
     "output_type": "stream",
     "text": [
      "[(True,)]\n"
     ]
    }
   ],
   "source": [
    "sql = f\"\"\"\n",
    "call {ingest_catalog}.system.sync_partition_metadata('{ingest_schema}', '{ingest_table}', 'FULL')\n",
    "\"\"\"\n",
    "qres = engine.execute(sql)\n",
    "print(qres.fetchall())"
   ]
  },
  {
   "cell_type": "code",
   "execution_count": 28,
   "id": "76e3795e-19a2-461e-8984-f6e63b214f31",
   "metadata": {},
   "outputs": [
    {
     "data": {
      "text/html": [
       "<div>\n",
       "<style scoped>\n",
       "    .dataframe tbody tr th:only-of-type {\n",
       "        vertical-align: middle;\n",
       "    }\n",
       "\n",
       "    .dataframe tbody tr th {\n",
       "        vertical-align: top;\n",
       "    }\n",
       "\n",
       "    .dataframe thead th {\n",
       "        text-align: right;\n",
       "    }\n",
       "</style>\n",
       "<table border=\"1\" class=\"dataframe\">\n",
       "  <thead>\n",
       "    <tr style=\"text-align: right;\">\n",
       "      <th></th>\n",
       "      <th>year</th>\n",
       "    </tr>\n",
       "  </thead>\n",
       "  <tbody>\n",
       "    <tr>\n",
       "      <th>0</th>\n",
       "      <td>2020</td>\n",
       "    </tr>\n",
       "    <tr>\n",
       "      <th>1</th>\n",
       "      <td>2021</td>\n",
       "    </tr>\n",
       "    <tr>\n",
       "      <th>2</th>\n",
       "      <td>2022</td>\n",
       "    </tr>\n",
       "    <tr>\n",
       "      <th>3</th>\n",
       "      <td>2023</td>\n",
       "    </tr>\n",
       "    <tr>\n",
       "      <th>4</th>\n",
       "      <td>2024</td>\n",
       "    </tr>\n",
       "  </tbody>\n",
       "</table>\n",
       "</div>"
      ],
      "text/plain": [
       "   year\n",
       "0  2020\n",
       "1  2021\n",
       "2  2022\n",
       "3  2023\n",
       "4  2024"
      ]
     },
     "execution_count": 28,
     "metadata": {},
     "output_type": "execute_result"
    }
   ],
   "source": [
    "sql = f\"\"\"\n",
    "select * from {ingest_catalog}.{ingest_schema}.\"{ingest_table}$partitions\"\n",
    "\"\"\"\n",
    "df = pd.read_sql(sql, engine)\n",
    "df"
   ]
  },
  {
   "cell_type": "code",
   "execution_count": 30,
   "id": "a5c415e7-950a-46ef-a1c9-97d78d4142f5",
   "metadata": {},
   "outputs": [
    {
     "data": {
      "text/html": [
       "<div>\n",
       "<style scoped>\n",
       "    .dataframe tbody tr th:only-of-type {\n",
       "        vertical-align: middle;\n",
       "    }\n",
       "\n",
       "    .dataframe tbody tr th {\n",
       "        vertical-align: top;\n",
       "    }\n",
       "\n",
       "    .dataframe thead th {\n",
       "        text-align: right;\n",
       "    }\n",
       "</style>\n",
       "<table border=\"1\" class=\"dataframe\">\n",
       "  <thead>\n",
       "    <tr style=\"text-align: right;\">\n",
       "      <th></th>\n",
       "      <th>metric</th>\n",
       "      <th>year</th>\n",
       "    </tr>\n",
       "  </thead>\n",
       "  <tbody>\n",
       "    <tr>\n",
       "      <th>0</th>\n",
       "      <td>10</td>\n",
       "      <td>2020</td>\n",
       "    </tr>\n",
       "    <tr>\n",
       "      <th>1</th>\n",
       "      <td>15</td>\n",
       "      <td>2021</td>\n",
       "    </tr>\n",
       "    <tr>\n",
       "      <th>2</th>\n",
       "      <td>14</td>\n",
       "      <td>2022</td>\n",
       "    </tr>\n",
       "    <tr>\n",
       "      <th>3</th>\n",
       "      <td>30</td>\n",
       "      <td>2022</td>\n",
       "    </tr>\n",
       "    <tr>\n",
       "      <th>4</th>\n",
       "      <td>35</td>\n",
       "      <td>2023</td>\n",
       "    </tr>\n",
       "    <tr>\n",
       "      <th>5</th>\n",
       "      <td>40</td>\n",
       "      <td>2024</td>\n",
       "    </tr>\n",
       "  </tbody>\n",
       "</table>\n",
       "</div>"
      ],
      "text/plain": [
       "   metric  year\n",
       "0      10  2020\n",
       "1      15  2021\n",
       "2      14  2022\n",
       "3      30  2022\n",
       "4      35  2023\n",
       "5      40  2024"
      ]
     },
     "execution_count": 30,
     "metadata": {},
     "output_type": "execute_result"
    }
   ],
   "source": [
    "sql = f\"\"\"\n",
    "select * from {ingest_catalog}.{ingest_schema}.{ingest_table}\n",
    "order by year asc\n",
    "\"\"\"\n",
    "df = pd.read_sql(sql, engine)\n",
    "df"
   ]
  },
  {
   "cell_type": "code",
   "execution_count": null,
   "id": "77713dba-0fa2-4796-8208-1df45e3ba9cf",
   "metadata": {},
   "outputs": [],
   "source": []
  }
 ],
 "metadata": {
  "kernelspec": {
   "display_name": "Python 3",
   "language": "python",
   "name": "python3"
  },
  "language_info": {
   "codemirror_mode": {
    "name": "ipython",
    "version": 3
   },
   "file_extension": ".py",
   "mimetype": "text/x-python",
   "name": "python",
   "nbconvert_exporter": "python",
   "pygments_lexer": "ipython3",
   "version": "3.8.3"
  }
 },
 "nbformat": 4,
 "nbformat_minor": 5
}
