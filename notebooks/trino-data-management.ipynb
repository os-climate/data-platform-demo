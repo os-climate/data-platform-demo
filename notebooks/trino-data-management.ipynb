{
 "cells": [
  {
   "cell_type": "markdown",
   "id": "6abf0869-f139-411a-9b34-51945c12cade",
   "metadata": {},
   "source": [
    "# Trino data management demo sample\n",
    "Copyright (C) 2021 OS-Climate\n",
    "\n",
    "This sample shows:\n",
    "* How Arrow and Parquet can be used to provide direct support for persisting dataFrames and metadata together in highly portable and performant files. This mechanism allows us to manage data ingestion and metadata in a transactional and integrated way.\n",
    "* Simple metadata management for data set-level and field-level information inside dedicated Trino schema and tables\n",
    "\n",
    "\n",
    "Permission is hereby granted, free of charge, to any person obtaining a copy of this software and associated documentation files (the \"Software\"), to deal in the Software without restriction, including without limitation the rights to use, copy, modify, merge, publish, distribute, sublicense, and/or sell copies of the Software, and to permit persons to whom the Software is furnished to do so, subject to the following conditions:\n",
    "\n",
    "The above copyright notice and this permission notice shall be included in all copies or substantial portions of the Software.\n",
    "\n",
    "THE SOFTWARE IS PROVIDED \"AS IS\", WITHOUT WARRANTY OF ANY KIND, EXPRESS OR IMPLIED, INCLUDING BUT NOT LIMITED TO THE WARRANTIES OF MERCHANTABILITY, FITNESS FOR A PARTICULAR PURPOSE AND NONINFRINGEMENT. IN NO EVENT SHALL THE AUTHORS OR COPYRIGHT HOLDERS BE LIABLE FOR ANY CLAIM, DAMAGES OR OTHER LIABILITY, WHETHER IN AN ACTION OF CONTRACT, TORT OR OTHERWISE, ARISING FROM, OUT OF OR IN CONNECTION WITH THE SOFTWARE OR THE USE OR OTHER DEALINGS IN THE SOFTWARE."
   ]
  },
  {
   "cell_type": "code",
   "execution_count": 1,
   "id": "d6875d86-4d96-4344-8051-76cad8b5aed0",
   "metadata": {},
   "outputs": [],
   "source": [
    "# pip install boto3\n",
    "# pip install python-dotenv\n",
    "# pip install trino\n",
    "# pip install pandas\n",
    "# pip install pyarrow\n",
    "# pip install osc-ingest-tools"
   ]
  },
  {
   "cell_type": "code",
   "execution_count": 2,
   "id": "789567ff-268c-45e8-8f6f-e768ba62f327",
   "metadata": {},
   "outputs": [],
   "source": [
    "from dotenv import dotenv_values, load_dotenv\n",
    "from osc_ingest_trino import *\n",
    "import os\n",
    "import pathlib\n",
    "import boto3\n",
    "import pandas as pd\n",
    "import uuid\n",
    "import pyarrow as pa\n",
    "import pyarrow.parquet as pq\n",
    "import json\n",
    "import trino\n",
    "import io"
   ]
  },
  {
   "cell_type": "markdown",
   "id": "f7692120-2f4f-48be-9847-0f78a3359bc1",
   "metadata": {},
   "source": [
    "Load Environment Variables"
   ]
  },
  {
   "cell_type": "code",
   "execution_count": 3,
   "id": "a2ba14b4-0746-4ce6-9c0f-ff680221bdc9",
   "metadata": {},
   "outputs": [],
   "source": [
    "dotenv_dir = os.environ.get('CREDENTIAL_DOTENV_DIR', os.environ.get('PWD', '/opt/app-root/src'))\n",
    "dotenv_path = pathlib.Path(dotenv_dir) / 'credentials.env'\n",
    "if os.path.exists(dotenv_path):\n",
    "    load_dotenv(dotenv_path=dotenv_path,override=True)"
   ]
  },
  {
   "cell_type": "markdown",
   "id": "9cb78b98-863c-4626-adab-8c5d9dd6b094",
   "metadata": {},
   "source": [
    "Create a simple data frame for testing"
   ]
  },
  {
   "cell_type": "code",
   "execution_count": 4,
   "id": "fa67d836-453f-42e1-88cd-159b2f9543a3",
   "metadata": {},
   "outputs": [],
   "source": [
    "# initialise data of lists of powerplants and capacity\n",
    "data = {'name':['Albas', 'Albi', 'Albias', 'Allaire'],\n",
    "        'capacity_gwh':[1.8, 6.70448, 2.41, 8.2]}\n",
    "# Create DataFrame\n",
    "df = pd.DataFrame(data)\n",
    "# Add a unique identifier to the data set\n",
    "uid = str(uuid.uuid4())\n",
    "df['uuid'] = uid\n",
    "# Print the output\n",
    "df = df.convert_dtypes()"
   ]
  },
  {
   "cell_type": "code",
   "execution_count": 5,
   "id": "cf641410-4c4a-46d3-b824-a32b871e186b",
   "metadata": {},
   "outputs": [
    {
     "name": "stdout",
     "output_type": "stream",
     "text": [
      "<class 'pandas.core.frame.DataFrame'>\n",
      "RangeIndex: 4 entries, 0 to 3\n",
      "Data columns (total 3 columns):\n",
      " #   Column        Non-Null Count  Dtype  \n",
      "---  ------        --------------  -----  \n",
      " 0   name          4 non-null      string \n",
      " 1   capacity_gwh  4 non-null      Float64\n",
      " 2   uuid          4 non-null      string \n",
      "dtypes: Float64(1), string(2)\n",
      "memory usage: 228.0 bytes\n"
     ]
    }
   ],
   "source": [
    "df.info(verbose=True)"
   ]
  },
  {
   "cell_type": "markdown",
   "id": "4818183b-ba9c-44f5-8e34-02a82444b3ab",
   "metadata": {},
   "source": [
    "Convert the DataFrame to an Arrow table using PyArrow and inspect the table’s metadata property "
   ]
  },
  {
   "cell_type": "code",
   "execution_count": 6,
   "id": "5224ba80-d9b8-462e-a825-9e084851bfcc",
   "metadata": {},
   "outputs": [
    {
     "name": "stdout",
     "output_type": "stream",
     "text": [
      "{b'pandas': b'{\"index_columns\": [{\"kind\": \"range\", \"name\": null, \"start\": 0, \"stop\": 4, \"step\": 1}], \"column_indexes\": [{\"name\": null, \"field_name\": null, \"pandas_type\": \"unicode\", \"numpy_type\": \"object\", \"metadata\": {\"encoding\": \"UTF-8\"}}], \"columns\": [{\"name\": \"name\", \"field_name\": \"name\", \"pandas_type\": \"unicode\", \"numpy_type\": \"string\", \"metadata\": null}, {\"name\": \"capacity_gwh\", \"field_name\": \"capacity_gwh\", \"pandas_type\": \"float64\", \"numpy_type\": \"Float64\", \"metadata\": null}, {\"name\": \"uuid\", \"field_name\": \"uuid\", \"pandas_type\": \"unicode\", \"numpy_type\": \"string\", \"metadata\": null}], \"creator\": {\"library\": \"pyarrow\", \"version\": \"5.0.0\"}, \"pandas_version\": \"1.3.3\"}'}\n"
     ]
    }
   ],
   "source": [
    "table = pa.Table.from_pandas(df)\n",
    "print(table.schema.metadata)"
   ]
  },
  {
   "cell_type": "markdown",
   "id": "3b94102c-8c8e-450a-b95e-ea5a368fe09f",
   "metadata": {},
   "source": [
    "Create custom meta data and key"
   ]
  },
  {
   "cell_type": "code",
   "execution_count": 7,
   "id": "d0dc3dea-79c1-4ed6-a21a-b89032981fcd",
   "metadata": {},
   "outputs": [],
   "source": [
    "custom_meta_content = {\n",
    "    'dataset_key': 'gppd',\n",
    "    'title': 'Global Power Plant Database',\n",
    "    'description': 'A comprehensive, global, open source database of power plants',\n",
    "    'version': '1.3.0',\n",
    "    'release_date': '20210602',\n",
    "    'fields': [\n",
    "    {\n",
    "        'field_name': 'name',\n",
    "        'definition': 'name of the power plant',\n",
    "        'type': 'text'\n",
    "    },\n",
    "    {\n",
    "        'field_name': 'capacity_gwh',\n",
    "        'definition': 'electricity generation in gigawatt-hours',\n",
    "        'type': 'number'\n",
    "    }]\n",
    "}\n",
    "custom_meta_key = 'metaset'"
   ]
  },
  {
   "cell_type": "markdown",
   "id": "8178d132-7e42-4855-be76-2b6d3a2618dd",
   "metadata": {},
   "source": [
    "Construct the combined metadata by merging existing table metadata and custom metadata.\n",
    "Note: The metadata content must be JSON serialisable and encoded as bytes; the metadata key must also be encoded as bytes."
   ]
  },
  {
   "cell_type": "code",
   "execution_count": 8,
   "id": "95883da2-4380-4e28-bde6-42a5fe89341a",
   "metadata": {},
   "outputs": [],
   "source": [
    "custom_meta_json = json.dumps(custom_meta_content)\n",
    "existing_meta = table.schema.metadata\n",
    "combined_meta = {\n",
    "    custom_meta_key.encode(): custom_meta_json.encode(),\n",
    "    **existing_meta\n",
    "}"
   ]
  },
  {
   "cell_type": "markdown",
   "id": "74c14f09-78b9-45b7-b0ed-8782670bf291",
   "metadata": {},
   "source": [
    "Replace the original table metadata by the combined metadata in the Arrow table. This table now contains both the custom metadata and the Pandas metadata. "
   ]
  },
  {
   "cell_type": "code",
   "execution_count": 9,
   "id": "447fda86-776e-4c06-b162-842669719bff",
   "metadata": {},
   "outputs": [
    {
     "name": "stdout",
     "output_type": "stream",
     "text": [
      "{b'metaset': b'{\"dataset_key\": \"gppd\", \"title\": \"Global Power Plant Database\", \"description\": \"A comprehensive, global, open source database of power plants\", \"version\": \"1.3.0\", \"release_date\": \"20210602\", \"fields\": [{\"field_name\": \"name\", \"definition\": \"name of the power plant\", \"type\": \"text\"}, {\"field_name\": \"capacity_gwh\", \"definition\": \"electricity generation in gigawatt-hours\", \"type\": \"number\"}]}', b'pandas': b'{\"index_columns\": [{\"kind\": \"range\", \"name\": null, \"start\": 0, \"stop\": 4, \"step\": 1}], \"column_indexes\": [{\"name\": null, \"field_name\": null, \"pandas_type\": \"unicode\", \"numpy_type\": \"object\", \"metadata\": {\"encoding\": \"UTF-8\"}}], \"columns\": [{\"name\": \"name\", \"field_name\": \"name\", \"pandas_type\": \"unicode\", \"numpy_type\": \"string\", \"metadata\": null}, {\"name\": \"capacity_gwh\", \"field_name\": \"capacity_gwh\", \"pandas_type\": \"float64\", \"numpy_type\": \"Float64\", \"metadata\": null}, {\"name\": \"uuid\", \"field_name\": \"uuid\", \"pandas_type\": \"unicode\", \"numpy_type\": \"string\", \"metadata\": null}], \"creator\": {\"library\": \"pyarrow\", \"version\": \"5.0.0\"}, \"pandas_version\": \"1.3.3\"}'}\n"
     ]
    }
   ],
   "source": [
    "table = table.replace_schema_metadata(combined_meta)\n",
    "print(table.schema.metadata)"
   ]
  },
  {
   "cell_type": "markdown",
   "id": "b1110d19-1f2e-4973-ac0e-0c82a8c04999",
   "metadata": {},
   "source": [
    "Open an S3 client connection and save the dataframe as a parquet file so that dataFrame & metadata are now coupled together"
   ]
  },
  {
   "cell_type": "code",
   "execution_count": 10,
   "id": "d4fb03e9-d0a9-414d-8334-d8292372e9d0",
   "metadata": {},
   "outputs": [],
   "source": [
    "# Create an S3 client\n",
    "s3 = boto3.client(\n",
    "    service_name=\"s3\",\n",
    "    endpoint_url=os.environ['S3_DEV_ENDPOINT'],\n",
    "    aws_access_key_id=os.environ['S3_DEV_ACCESS_KEY'],\n",
    "    aws_secret_access_key=os.environ['S3_DEV_SECRET_KEY'],\n",
    ")"
   ]
  },
  {
   "cell_type": "code",
   "execution_count": 11,
   "id": "a91e1ad2-5e28-4a74-9ce6-c956544cad98",
   "metadata": {},
   "outputs": [],
   "source": [
    "schemaname = 'wri'\n",
    "tablename = 'gppd'\n",
    "pq.write_table(\n",
    "    table,\n",
    "    '/tmp/{tname}.parquet'.format(tname=tablename)\n",
    ")\n",
    "s3.upload_file(\n",
    "    Bucket=os.environ['S3_DEV_BUCKET'],\n",
    "    Key='trino/{sname}/{tname}/{tname}.parquet'.format(sname=schemaname,tname=tablename),\n",
    "    Filename='/tmp/{tname}.parquet'.format(tname=tablename)\n",
    ")"
   ]
  },
  {
   "cell_type": "markdown",
   "id": "f80c9a40-2fdb-40c0-9dd5-7e7bf53db3da",
   "metadata": {},
   "source": [
    "Convert custom metadata content in json format into Pandas DataFrame"
   ]
  },
  {
   "cell_type": "code",
   "execution_count": 12,
   "id": "fcf5ef1b-05d4-4319-9b6e-073816e2dde1",
   "metadata": {},
   "outputs": [
    {
     "data": {
      "text/html": [
       "<div>\n",
       "<style scoped>\n",
       "    .dataframe tbody tr th:only-of-type {\n",
       "        vertical-align: middle;\n",
       "    }\n",
       "\n",
       "    .dataframe tbody tr th {\n",
       "        vertical-align: top;\n",
       "    }\n",
       "\n",
       "    .dataframe thead th {\n",
       "        text-align: right;\n",
       "    }\n",
       "</style>\n",
       "<table border=\"1\" class=\"dataframe\">\n",
       "  <thead>\n",
       "    <tr style=\"text-align: right;\">\n",
       "      <th></th>\n",
       "      <th>field_name</th>\n",
       "      <th>definition</th>\n",
       "      <th>type</th>\n",
       "      <th>dataset_key</th>\n",
       "    </tr>\n",
       "  </thead>\n",
       "  <tbody>\n",
       "    <tr>\n",
       "      <th>0</th>\n",
       "      <td>name</td>\n",
       "      <td>name of the power plant</td>\n",
       "      <td>text</td>\n",
       "      <td>gppd</td>\n",
       "    </tr>\n",
       "    <tr>\n",
       "      <th>1</th>\n",
       "      <td>capacity_gwh</td>\n",
       "      <td>electricity generation in gigawatt-hours</td>\n",
       "      <td>number</td>\n",
       "      <td>gppd</td>\n",
       "    </tr>\n",
       "  </tbody>\n",
       "</table>\n",
       "</div>"
      ],
      "text/plain": [
       "     field_name                                definition    type dataset_key\n",
       "0          name                   name of the power plant    text        gppd\n",
       "1  capacity_gwh  electricity generation in gigawatt-hours  number        gppd"
      ]
     },
     "execution_count": 12,
     "metadata": {},
     "output_type": "execute_result"
    }
   ],
   "source": [
    "df_meta_fields = pd.json_normalize(custom_meta_content, record_path =['fields'], meta=['dataset_key']).convert_dtypes()\n",
    "df_meta_fields"
   ]
  },
  {
   "cell_type": "code",
   "execution_count": 13,
   "id": "7f89670f-677f-4a2c-a258-259c671ea99c",
   "metadata": {},
   "outputs": [
    {
     "name": "stdout",
     "output_type": "stream",
     "text": [
      "<class 'pandas.core.frame.DataFrame'>\n",
      "RangeIndex: 2 entries, 0 to 1\n",
      "Data columns (total 4 columns):\n",
      " #   Column       Non-Null Count  Dtype \n",
      "---  ------       --------------  ----- \n",
      " 0   field_name   2 non-null      string\n",
      " 1   definition   2 non-null      string\n",
      " 2   type         2 non-null      string\n",
      " 3   dataset_key  2 non-null      string\n",
      "dtypes: string(4)\n",
      "memory usage: 192.0 bytes\n"
     ]
    }
   ],
   "source": [
    "df_meta_fields.info(verbose=True)"
   ]
  },
  {
   "cell_type": "code",
   "execution_count": 14,
   "id": "6fdf1950-cd9c-4b61-b4d2-12a8d8fe4ace",
   "metadata": {},
   "outputs": [
    {
     "data": {
      "text/html": [
       "<div>\n",
       "<style scoped>\n",
       "    .dataframe tbody tr th:only-of-type {\n",
       "        vertical-align: middle;\n",
       "    }\n",
       "\n",
       "    .dataframe tbody tr th {\n",
       "        vertical-align: top;\n",
       "    }\n",
       "\n",
       "    .dataframe thead th {\n",
       "        text-align: right;\n",
       "    }\n",
       "</style>\n",
       "<table border=\"1\" class=\"dataframe\">\n",
       "  <thead>\n",
       "    <tr style=\"text-align: right;\">\n",
       "      <th></th>\n",
       "      <th>dataset_key</th>\n",
       "      <th>title</th>\n",
       "      <th>description</th>\n",
       "      <th>version</th>\n",
       "      <th>release_date</th>\n",
       "      <th>schema</th>\n",
       "    </tr>\n",
       "  </thead>\n",
       "  <tbody>\n",
       "    <tr>\n",
       "      <th>0</th>\n",
       "      <td>gppd</td>\n",
       "      <td>Global Power Plant Database</td>\n",
       "      <td>A comprehensive, global, open source database ...</td>\n",
       "      <td>1.3.0</td>\n",
       "      <td>20210602</td>\n",
       "      <td>wri</td>\n",
       "    </tr>\n",
       "  </tbody>\n",
       "</table>\n",
       "</div>"
      ],
      "text/plain": [
       "  dataset_key                        title  \\\n",
       "0        gppd  Global Power Plant Database   \n",
       "\n",
       "                                         description version release_date  \\\n",
       "0  A comprehensive, global, open source database ...   1.3.0     20210602   \n",
       "\n",
       "  schema  \n",
       "0    wri  "
      ]
     },
     "execution_count": 14,
     "metadata": {},
     "output_type": "execute_result"
    }
   ],
   "source": [
    "df_meta_table = pd.json_normalize(custom_meta_content, max_level=0)\n",
    "df_meta_table.drop('fields', inplace=True, axis=1)\n",
    "df_meta_table['schema'] = schemaname\n",
    "df_meta_table = df_meta_table.convert_dtypes()\n",
    "df_meta_table"
   ]
  },
  {
   "cell_type": "code",
   "execution_count": 15,
   "id": "d1da3217-69e2-45cf-bc89-07898eee4ff0",
   "metadata": {},
   "outputs": [
    {
     "name": "stdout",
     "output_type": "stream",
     "text": [
      "<class 'pandas.core.frame.DataFrame'>\n",
      "RangeIndex: 1 entries, 0 to 0\n",
      "Data columns (total 6 columns):\n",
      " #   Column        Non-Null Count  Dtype \n",
      "---  ------        --------------  ----- \n",
      " 0   dataset_key   1 non-null      string\n",
      " 1   title         1 non-null      string\n",
      " 2   description   1 non-null      string\n",
      " 3   version       1 non-null      string\n",
      " 4   release_date  1 non-null      string\n",
      " 5   schema        1 non-null      string\n",
      "dtypes: string(6)\n",
      "memory usage: 176.0 bytes\n"
     ]
    }
   ],
   "source": [
    "df_meta_table.info(verbose=True)"
   ]
  },
  {
   "cell_type": "markdown",
   "id": "e660a286-bb72-4caf-8de5-421145426c11",
   "metadata": {},
   "source": [
    "Upload parquet file for metadata storage in Trino"
   ]
  },
  {
   "cell_type": "code",
   "execution_count": 16,
   "id": "9a36103c-8db3-4528-acab-cfaef8e9f318",
   "metadata": {},
   "outputs": [],
   "source": [
    "tablename_meta_table = 'tables'\n",
    "tablename_meta_fields ='fields'\n",
    "df_meta_table.to_parquet('/tmp/{tname}.parquet'.format(tname=tablename_meta_table), index=False)\n",
    "s3.upload_file(\n",
    "    Bucket=os.environ['S3_DEV_BUCKET'],\n",
    "    Key='trino/{sname}/{tname}/{tname}.parquet'.format(sname='metastore',tname=tablename_meta_table),\n",
    "    Filename='/tmp/{tname}.parquet'.format(tname=tablename_meta_table)\n",
    ")\n",
    "df_meta_fields.to_parquet('/tmp/{tname}.parquet'.format(tname=tablename_meta_fields), index=False)\n",
    "s3.upload_file(\n",
    "    Bucket=os.environ['S3_DEV_BUCKET'],\n",
    "    Key='trino/{sname}/{tname}/{tname}.parquet'.format(sname='metastore',tname=tablename_meta_fields),\n",
    "    Filename='/tmp/{tname}.parquet'.format(tname=tablename_meta_fields)\n",
    ")"
   ]
  },
  {
   "cell_type": "markdown",
   "id": "7076edd3-161c-4d13-8722-6902d43af75b",
   "metadata": {},
   "source": [
    "Restore data and metadata"
   ]
  },
  {
   "cell_type": "code",
   "execution_count": 17,
   "id": "e47a8647-3d68-47a5-b87d-48c10b123a4c",
   "metadata": {},
   "outputs": [],
   "source": [
    "# Read the Parquet file into an Arrow table\n",
    "obj = s3.get_object(\n",
    "    Bucket=os.environ['S3_DEV_BUCKET'], \n",
    "    Key='trino/wri/{tname}/{tname}.parquet'.format(tname=tablename)\n",
    ")\n",
    "restored_table = pq.read_table(io.BytesIO(obj['Body'].read()))\n",
    "# Call the table’s to_pandas conversion method to restore the dataframe\n",
    "# This operation uses the Pandas metadata to reconstruct the dataFrame under the hood\n",
    "restored_df = restored_table.to_pandas()\n",
    "# The custom metadata is accessible via the Arrow table’s metadata object\n",
    "# Use the custom metadata key used earlier (taking care to once again encode the key as bytes)\n",
    "restored_meta_json = restored_table.schema.metadata[custom_meta_key.encode()]\n",
    "# Deserialize the json string to get back metadata\n",
    "restored_meta = json.loads(restored_meta_json)"
   ]
  },
  {
   "cell_type": "code",
   "execution_count": 18,
   "id": "2f1fe28f-ea5b-4330-815f-75178f78a053",
   "metadata": {},
   "outputs": [
    {
     "data": {
      "text/html": [
       "<div>\n",
       "<style scoped>\n",
       "    .dataframe tbody tr th:only-of-type {\n",
       "        vertical-align: middle;\n",
       "    }\n",
       "\n",
       "    .dataframe tbody tr th {\n",
       "        vertical-align: top;\n",
       "    }\n",
       "\n",
       "    .dataframe thead th {\n",
       "        text-align: right;\n",
       "    }\n",
       "</style>\n",
       "<table border=\"1\" class=\"dataframe\">\n",
       "  <thead>\n",
       "    <tr style=\"text-align: right;\">\n",
       "      <th></th>\n",
       "      <th>name</th>\n",
       "      <th>capacity_gwh</th>\n",
       "      <th>uuid</th>\n",
       "    </tr>\n",
       "  </thead>\n",
       "  <tbody>\n",
       "    <tr>\n",
       "      <th>0</th>\n",
       "      <td>Albas</td>\n",
       "      <td>1.8</td>\n",
       "      <td>0a8d1a11-dabe-4b86-b562-2b586baf7531</td>\n",
       "    </tr>\n",
       "    <tr>\n",
       "      <th>1</th>\n",
       "      <td>Albi</td>\n",
       "      <td>6.70448</td>\n",
       "      <td>0a8d1a11-dabe-4b86-b562-2b586baf7531</td>\n",
       "    </tr>\n",
       "    <tr>\n",
       "      <th>2</th>\n",
       "      <td>Albias</td>\n",
       "      <td>2.41</td>\n",
       "      <td>0a8d1a11-dabe-4b86-b562-2b586baf7531</td>\n",
       "    </tr>\n",
       "    <tr>\n",
       "      <th>3</th>\n",
       "      <td>Allaire</td>\n",
       "      <td>8.2</td>\n",
       "      <td>0a8d1a11-dabe-4b86-b562-2b586baf7531</td>\n",
       "    </tr>\n",
       "  </tbody>\n",
       "</table>\n",
       "</div>"
      ],
      "text/plain": [
       "      name  capacity_gwh                                  uuid\n",
       "0    Albas           1.8  0a8d1a11-dabe-4b86-b562-2b586baf7531\n",
       "1     Albi       6.70448  0a8d1a11-dabe-4b86-b562-2b586baf7531\n",
       "2   Albias          2.41  0a8d1a11-dabe-4b86-b562-2b586baf7531\n",
       "3  Allaire           8.2  0a8d1a11-dabe-4b86-b562-2b586baf7531"
      ]
     },
     "execution_count": 18,
     "metadata": {},
     "output_type": "execute_result"
    }
   ],
   "source": [
    "restored_df"
   ]
  },
  {
   "cell_type": "code",
   "execution_count": 19,
   "id": "e8ca804b-938e-4e0c-ab2e-05e1dfb89b1c",
   "metadata": {},
   "outputs": [
    {
     "data": {
      "text/plain": [
       "{'dataset_key': 'gppd',\n",
       " 'title': 'Global Power Plant Database',\n",
       " 'description': 'A comprehensive, global, open source database of power plants',\n",
       " 'version': '1.3.0',\n",
       " 'release_date': '20210602',\n",
       " 'fields': [{'field_name': 'name',\n",
       "   'definition': 'name of the power plant',\n",
       "   'type': 'text'},\n",
       "  {'field_name': 'capacity_gwh',\n",
       "   'definition': 'electricity generation in gigawatt-hours',\n",
       "   'type': 'number'}]}"
      ]
     },
     "execution_count": 19,
     "metadata": {},
     "output_type": "execute_result"
    }
   ],
   "source": [
    "restored_meta"
   ]
  },
  {
   "cell_type": "markdown",
   "id": "15efe080-b4eb-4713-8fd0-7f1d2e1fd966",
   "metadata": {},
   "source": [
    "Open a Trino connection using JWT for authentication"
   ]
  },
  {
   "cell_type": "code",
   "execution_count": 20,
   "id": "790b5e63-8d67-4314-844c-ae42266070b3",
   "metadata": {},
   "outputs": [],
   "source": [
    "conn = trino.dbapi.connect(\n",
    "    host=os.environ['TRINO_HOST'],\n",
    "    port=int(os.environ['TRINO_PORT']),\n",
    "    user=os.environ['TRINO_USER'],\n",
    "    http_scheme='https',\n",
    "    auth=trino.auth.JWTAuthentication(os.environ['TRINO_PASSWD']),\n",
    "    verify=True,\n",
    ")\n",
    "cur = conn.cursor()"
   ]
  },
  {
   "cell_type": "code",
   "execution_count": 21,
   "id": "bb96687d-74a7-46d8-9944-b63fddf11bd1",
   "metadata": {},
   "outputs": [
    {
     "data": {
      "text/plain": [
       "[['aicoe_osc_demo'],\n",
       " ['company_data'],\n",
       " ['default'],\n",
       " ['defaultschema1'],\n",
       " ['demo'],\n",
       " ['eje'],\n",
       " ['epacems'],\n",
       " ['epacems_y95_al'],\n",
       " ['information_schema'],\n",
       " ['metastore'],\n",
       " ['osc_corp_data'],\n",
       " ['physical_risk_project'],\n",
       " ['pudl'],\n",
       " ['rmi_utility_transition_hub'],\n",
       " ['team1'],\n",
       " ['team2'],\n",
       " ['testaccessschema1'],\n",
       " ['urgentem'],\n",
       " ['wri'],\n",
       " ['wri_gppd'],\n",
       " ['wri_gppd_md']]"
      ]
     },
     "execution_count": 21,
     "metadata": {},
     "output_type": "execute_result"
    }
   ],
   "source": [
    "# Show available schemas to ensure trino connection is set correctly\n",
    "cur.execute('show schemas in osc_datacommons_dev')\n",
    "cur.fetchall()"
   ]
  },
  {
   "cell_type": "markdown",
   "id": "2c0e2635-ac17-4dda-bc41-a5a18c61c44d",
   "metadata": {},
   "source": [
    "Create ingestion schema based on source data name and remove old tables if necessary"
   ]
  },
  {
   "cell_type": "code",
   "execution_count": 22,
   "id": "4aa21228-ec3d-4506-820a-bb071b56fc07",
   "metadata": {},
   "outputs": [
    {
     "data": {
      "text/plain": [
       "[[True]]"
      ]
     },
     "execution_count": 22,
     "metadata": {},
     "output_type": "execute_result"
    }
   ],
   "source": [
    "cur.execute('create schema if not exists osc_datacommons_dev.wri')\n",
    "cur.fetchall()"
   ]
  },
  {
   "cell_type": "code",
   "execution_count": 23,
   "id": "06e809a5-85eb-4879-86ed-1b1c01e4104b",
   "metadata": {},
   "outputs": [
    {
     "data": {
      "text/plain": [
       "[[True]]"
      ]
     },
     "execution_count": 23,
     "metadata": {},
     "output_type": "execute_result"
    }
   ],
   "source": [
    "cur.execute('drop table if exists osc_datacommons_dev.wri.' + tablename)\n",
    "cur.fetchall()"
   ]
  },
  {
   "cell_type": "code",
   "execution_count": 24,
   "id": "726c7d8e-45f9-48e7-a0db-66b103d5b25f",
   "metadata": {},
   "outputs": [
    {
     "name": "stdout",
     "output_type": "stream",
     "text": [
      "create table if not exists osc_datacommons_dev.wri.gppd(\n",
      "    name varchar,\n",
      "    capacity_gwh double,\n",
      "    uuid varchar\n",
      ") with (\n",
      "    format = 'parquet',\n",
      "    external_location = 's3a://ocp-odh-os-demo-s3/trino/wri/gppd/'\n",
      ")\n"
     ]
    },
    {
     "data": {
      "text/plain": [
       "[[True]]"
      ]
     },
     "execution_count": 24,
     "metadata": {},
     "output_type": "execute_result"
    }
   ],
   "source": [
    "schema = create_table_schema_pairs(df)\n",
    "tabledef = \"\"\"create table if not exists osc_datacommons_dev.{sname}.{tname}(\n",
    "{schema}\n",
    ") with (\n",
    "    format = 'parquet',\n",
    "    external_location = 's3a://{bucket}/trino/{sname}/{tname}/'\n",
    ")\"\"\".format(schema=schema,bucket=os.environ['S3_DEV_BUCKET'],sname=schemaname,tname=tablename)\n",
    "print(tabledef)\n",
    "\n",
    "# tables created externally may not show up immediately in cloud-beaver\n",
    "cur.execute(tabledef)\n",
    "cur.fetchall()"
   ]
  },
  {
   "cell_type": "code",
   "execution_count": 25,
   "id": "50b9a8b7-ebcf-4f5c-b162-d5a018b18901",
   "metadata": {},
   "outputs": [
    {
     "name": "stdout",
     "output_type": "stream",
     "text": [
      "SELECT * FROM osc_datacommons_dev.wri.gppd limit 10\n"
     ]
    },
    {
     "data": {
      "text/plain": [
       "[['Albas', 1.8, '0a8d1a11-dabe-4b86-b562-2b586baf7531'],\n",
       " ['Albi', 6.70448, '0a8d1a11-dabe-4b86-b562-2b586baf7531'],\n",
       " ['Albias', 2.41, '0a8d1a11-dabe-4b86-b562-2b586baf7531'],\n",
       " ['Allaire', 8.2, '0a8d1a11-dabe-4b86-b562-2b586baf7531']]"
      ]
     },
     "execution_count": 25,
     "metadata": {},
     "output_type": "execute_result"
    }
   ],
   "source": [
    "dataset_query = ('SELECT * FROM osc_datacommons_dev.{sname}.{tname} limit 10').format(sname=schemaname,tname=tablename)\n",
    "print(dataset_query)\n",
    "cur.execute(dataset_query)\n",
    "cur.fetchall()"
   ]
  },
  {
   "cell_type": "markdown",
   "id": "1f87b7dd-d925-4eac-a5d4-edb831d3756f",
   "metadata": {},
   "source": [
    "Create metadata table for schema / dataset level information"
   ]
  },
  {
   "cell_type": "code",
   "execution_count": 26,
   "id": "2ab44cbd-9472-4651-a1fd-fc87824c4122",
   "metadata": {},
   "outputs": [
    {
     "name": "stdout",
     "output_type": "stream",
     "text": [
      "create table if not exists osc_datacommons_dev.metastore.tables(\n",
      "    dataset_key varchar,\n",
      "    title varchar,\n",
      "    description varchar,\n",
      "    version varchar,\n",
      "    release_date varchar,\n",
      "    schema varchar\n",
      ") with (\n",
      "    format = 'parquet',\n",
      "    external_location = 's3a://ocp-odh-os-demo-s3/trino/metastore/tables/'\n",
      ")\n"
     ]
    },
    {
     "data": {
      "text/plain": [
       "[[True]]"
      ]
     },
     "execution_count": 26,
     "metadata": {},
     "output_type": "execute_result"
    }
   ],
   "source": [
    "schema_meta_table = create_table_schema_pairs(df_meta_table)\n",
    "tabledef = \"\"\"create table if not exists osc_datacommons_dev.{sname}.{tname}(\n",
    "{schema}\n",
    ") with (\n",
    "    format = 'parquet',\n",
    "    external_location = 's3a://{bucket}/trino/{sname}/{tname}/'\n",
    ")\"\"\".format(schema=schema_meta_table,bucket=os.environ['S3_DEV_BUCKET'],sname='metastore',tname=tablename_meta_table)\n",
    "print(tabledef)\n",
    "\n",
    "# tables created externally may not show up immediately in cloud-beaver\n",
    "cur.execute(tabledef)\n",
    "cur.fetchall()"
   ]
  },
  {
   "cell_type": "code",
   "execution_count": 27,
   "id": "01ef31ba-66a1-436d-9e40-73d5b5663241",
   "metadata": {},
   "outputs": [
    {
     "name": "stdout",
     "output_type": "stream",
     "text": [
      "SELECT * FROM osc_datacommons_dev.metastore.tables limit 10\n"
     ]
    },
    {
     "data": {
      "text/plain": [
       "[['gppd',\n",
       "  'Global Power Plant Database',\n",
       "  'A comprehensive, global, open source database of power plants',\n",
       "  '1.3.0',\n",
       "  '20210602',\n",
       "  'wri']]"
      ]
     },
     "execution_count": 27,
     "metadata": {},
     "output_type": "execute_result"
    }
   ],
   "source": [
    "meta_query_table = ('SELECT * FROM osc_datacommons_dev.{sname}.{tname} limit 10').format(sname='metastore',tname=tablename_meta_table)\n",
    "print(meta_query_table)\n",
    "cur.execute(meta_query_table)\n",
    "cur.fetchall()"
   ]
  },
  {
   "cell_type": "markdown",
   "id": "f0ac0007-d564-46e8-a111-a568b05355de",
   "metadata": {},
   "source": [
    "Create metadata table for fields information"
   ]
  },
  {
   "cell_type": "code",
   "execution_count": 28,
   "id": "cc1964ef-40f5-4285-b65d-c02ba2aa053a",
   "metadata": {},
   "outputs": [
    {
     "name": "stdout",
     "output_type": "stream",
     "text": [
      "create table if not exists osc_datacommons_dev.metastore.fields(\n",
      "    field_name varchar,\n",
      "    definition varchar,\n",
      "    type varchar,\n",
      "    dataset_key varchar\n",
      ") with (\n",
      "    format = 'parquet',\n",
      "    external_location = 's3a://ocp-odh-os-demo-s3/trino/metastore/fields/'\n",
      ")\n"
     ]
    },
    {
     "data": {
      "text/plain": [
       "[[True]]"
      ]
     },
     "execution_count": 28,
     "metadata": {},
     "output_type": "execute_result"
    }
   ],
   "source": [
    "schema_meta_fields = create_table_schema_pairs(df_meta_fields)\n",
    "tabledef = \"\"\"create table if not exists osc_datacommons_dev.{sname}.{tname}(\n",
    "{schema}\n",
    ") with (\n",
    "    format = 'parquet',\n",
    "    external_location = 's3a://{bucket}/trino/{sname}/{tname}/'\n",
    ")\"\"\".format(schema=schema_meta_fields,bucket=os.environ['S3_DEV_BUCKET'],sname='metastore',tname=tablename_meta_fields)\n",
    "print(tabledef)\n",
    "\n",
    "# tables created externally may not show up immediately in cloud-beaver\n",
    "cur.execute(tabledef)\n",
    "cur.fetchall()"
   ]
  },
  {
   "cell_type": "code",
   "execution_count": 29,
   "id": "4de0d1d2-1125-4286-b92c-b463f430e340",
   "metadata": {},
   "outputs": [
    {
     "name": "stdout",
     "output_type": "stream",
     "text": [
      "SELECT * FROM osc_datacommons_dev.metastore.fields limit 10\n"
     ]
    },
    {
     "data": {
      "text/plain": [
       "[['name', 'name of the power plant', 'text', 'gppd'],\n",
       " ['capacity_gwh',\n",
       "  'electricity generation in gigawatt-hours',\n",
       "  'number',\n",
       "  'gppd']]"
      ]
     },
     "execution_count": 29,
     "metadata": {},
     "output_type": "execute_result"
    }
   ],
   "source": [
    "meta_query_fields = ('SELECT * FROM osc_datacommons_dev.{sname}.{tname} limit 10').format(sname='metastore',tname=tablename_meta_fields)\n",
    "print(meta_query_fields)\n",
    "cur.execute(meta_query_fields)\n",
    "cur.fetchall()"
   ]
  },
  {
   "cell_type": "code",
   "execution_count": null,
   "id": "220516ae-6987-483b-b7e2-4b8ebaed083f",
   "metadata": {},
   "outputs": [],
   "source": []
  }
 ],
 "metadata": {
  "kernelspec": {
   "display_name": "Python 3",
   "language": "python",
   "name": "python3"
  },
  "language_info": {
   "codemirror_mode": {
    "name": "ipython",
    "version": 3
   },
   "file_extension": ".py",
   "mimetype": "text/x-python",
   "name": "python",
   "nbconvert_exporter": "python",
   "pygments_lexer": "ipython3",
   "version": "3.8.3"
  }
 },
 "nbformat": 4,
 "nbformat_minor": 5
}
