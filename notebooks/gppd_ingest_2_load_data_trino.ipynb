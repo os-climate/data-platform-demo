{
 "cells": [
  {
   "cell_type": "markdown",
   "id": "f3f25610-ad0f-4740-b898-a9e0fcd53aa2",
   "metadata": {},
   "source": [
    "# WRI Global Power Plant Database Ingestion Pipeline (Step 2)\n",
    "# Trino Get Started Demo Sample: Data Ingestion\n",
    "Copyright (C) 2021 OS-Climate\n",
    "\n",
    "This sample shows:\n",
    "* How to connect to pachyderm service and retrieve data for loading\n",
    "* How to load data into Trino\n",
    "\n",
    "\n",
    "Permission is hereby granted, free of charge, to any person obtaining a copy of this software and associated documentation files (the \"Software\"), to deal in the Software without restriction, including without limitation the rights to use, copy, modify, merge, publish, distribute, sublicense, and/or sell copies of the Software, and to permit persons to whom the Software is furnished to do so, subject to the following conditions:\n",
    "\n",
    "The above copyright notice and this permission notice shall be included in all copies or substantial portions of the Software.\n",
    "\n",
    "THE SOFTWARE IS PROVIDED \"AS IS\", WITHOUT WARRANTY OF ANY KIND, EXPRESS OR IMPLIED, INCLUDING BUT NOT LIMITED TO THE WARRANTIES OF MERCHANTABILITY, FITNESS FOR A PARTICULAR PURPOSE AND NONINFRINGEMENT. IN NO EVENT SHALL THE AUTHORS OR COPYRIGHT HOLDERS BE LIABLE FOR ANY CLAIM, DAMAGES OR OTHER LIABILITY, WHETHER IN AN ACTION OF CONTRACT, TORT OR OTHERWISE, ARISING FROM, OUT OF OR IN CONNECTION WITH THE SOFTWARE OR THE USE OR OTHER DEALINGS IN THE SOFTWARE."
   ]
  },
  {
   "cell_type": "code",
   "execution_count": null,
   "id": "12ea025c-b859-4e57-88a0-30d48d42302b",
   "metadata": {},
   "outputs": [],
   "source": [
    "%%capture pipoutput\n",
    "\n",
    "# For loading predefined environment variables from files\n",
    "# Typically used to load sensitive access credentials\n",
    "%pip install python-dotenv\n",
    "\n",
    "# Standard python package for interacting with S3 buckets\n",
    "%pip install boto3\n",
    "\n",
    "# Interacting with Trino and using Trino with sqlalchemy\n",
    "%pip install trino sqlalchemy sqlalchemy-trino\n",
    "\n",
    "# Pandas, pandas profiling and pyarrow\n",
    "%pip install pandas\n",
    "%pip install -U pandas-profiling[notebook]\n",
    "%pip install pyarrow\n",
    "\n",
    "# OS-Climate utilities to make data ingest easier\n",
    "%pip install osc-ingest-tools\n",
    "\n",
    "# Python client for Pachyderm\n",
    "%pip install python_pachyderm"
   ]
  },
  {
   "cell_type": "code",
   "execution_count": null,
   "id": "3fcc12b1-067c-4eb7-bd7f-63aa8c3b0667",
   "metadata": {},
   "outputs": [],
   "source": [
    "# Report exceptions only in cells output\n",
    "%xmode Minimal"
   ]
  },
  {
   "cell_type": "code",
   "execution_count": 1,
   "id": "161992e0-45da-4912-b91e-f97b0030e4ab",
   "metadata": {},
   "outputs": [],
   "source": [
    "from dotenv import dotenv_values, load_dotenv\n",
    "import os\n",
    "import pathlib\n",
    "import pandas as pd\n",
    "import trino\n",
    "from sqlalchemy.engine import create_engine\n",
    "import osc_ingest_trino as osc\n",
    "import python_pachyderm"
   ]
  },
  {
   "cell_type": "markdown",
   "id": "8e8e8b69-6f29-4f3c-b05d-8ee2e780ea9f",
   "metadata": {},
   "source": [
    "Define Environment and Execution Variables"
   ]
  },
  {
   "cell_type": "code",
   "execution_count": 2,
   "id": "1e785101-ad84-4382-a725-8bb0c1280ed8",
   "metadata": {},
   "outputs": [],
   "source": [
    "# Load environment variables from credentials.env\n",
    "osc.load_credentials_dotenv()"
   ]
  },
  {
   "cell_type": "markdown",
   "id": "deae859a-20d9-479f-b331-90502842e193",
   "metadata": {},
   "source": [
    "Connect to Pachyderm service using the Python client, retrieve the data from ingested file and load into a dataframe"
   ]
  },
  {
   "cell_type": "code",
   "execution_count": 3,
   "id": "1200fa03-5a23-405e-826c-d8f69065ce12",
   "metadata": {},
   "outputs": [],
   "source": [
    "# Create a pachyderm client by manually setting up host and port\n",
    "client = python_pachyderm.Client(os.environ['PACH_ENDPOINT'], os.environ['PACH_PORT'])"
   ]
  },
  {
   "cell_type": "code",
   "execution_count": 4,
   "id": "fc45482d-5cb7-4591-9120-9471a96c3760",
   "metadata": {
    "tags": []
   },
   "outputs": [
    {
     "name": "stdout",
     "output_type": "stream",
     "text": [
      "[file {\n",
      "  commit {\n",
      "    branch {\n",
      "      repo {\n",
      "        name: \"gppd\"\n",
      "        type: \"user\"\n",
      "      }\n",
      "      name: \"master\"\n",
      "    }\n",
      "    id: \"47471da1ef9f4f5ba4410fc17887983a\"\n",
      "  }\n",
      "  path: \"/global_power_plant_database_v_1_3/global_power_plant_database.csv\"\n",
      "  datum: \"default\"\n",
      "}\n",
      "file_type: FILE\n",
      "committed {\n",
      "  seconds: 1650532143\n",
      "  nanos: 409389000\n",
      "}\n",
      "size_bytes: 11973385\n",
      "hash: \"\\304|:tF\\261\\020&\\267;\\340\\217\\241U\\361;\\030le \\024\\200\\021\\363R\\230t\\003\\\"5\\261\\363\"\n",
      ", file {\n",
      "  commit {\n",
      "    branch {\n",
      "      repo {\n",
      "        name: \"gppd\"\n",
      "        type: \"user\"\n",
      "      }\n",
      "      name: \"master\"\n",
      "    }\n",
      "    id: \"47471da1ef9f4f5ba4410fc17887983a\"\n",
      "  }\n",
      "  path: \"/global_power_plant_database_v_1_3/historic_global_power_plant_database.csv\"\n",
      "  datum: \"default\"\n",
      "}\n",
      "file_type: FILE\n",
      "committed {\n",
      "  seconds: 1650532143\n",
      "  nanos: 409389000\n",
      "}\n",
      "size_bytes: 109413187\n",
      "hash: \"eO=\\233D\\023FOv\\326S\\263\\321\\277\\362h\\244\\364\\264\\371\\005{wV\\352Yq\\312\\353\\306\\372\\226\"\n",
      "]\n"
     ]
    }
   ],
   "source": [
    "# Check for committed data files\n",
    "print(list(client.list_file((\"gppd\",\"master\"), \"/global_power_plant_database_v_1_3/\")))"
   ]
  },
  {
   "cell_type": "code",
   "execution_count": 5,
   "id": "660dac53-a872-4c62-be59-6593f359388d",
   "metadata": {},
   "outputs": [],
   "source": [
    "# Verify the csv file can be read\n",
    "f = client.get_file((\"gppd\", \"master\"), \"/global_power_plant_database_v_1_3/historic_global_power_plant_database.csv\")\n",
    "df_gppd = pd.read_csv(f).convert_dtypes()"
   ]
  },
  {
   "cell_type": "code",
   "execution_count": 6,
   "id": "e6087e48-070f-4a4e-ad5a-2c147f7c57f0",
   "metadata": {},
   "outputs": [
    {
     "name": "stdout",
     "output_type": "stream",
     "text": [
      "<class 'pandas.core.frame.DataFrame'>\n",
      "RangeIndex: 419232 entries, 0 to 419231\n",
      "Data columns (total 22 columns):\n",
      " #   Column                  Non-Null Count   Dtype  \n",
      "---  ------                  --------------   -----  \n",
      " 0   country                 419232 non-null  string \n",
      " 1   country_long            419232 non-null  string \n",
      " 2   name                    419232 non-null  string \n",
      " 3   gppd_idnr               419232 non-null  string \n",
      " 4   capacity_mw             419232 non-null  Float64\n",
      " 5   latitude                419232 non-null  Float64\n",
      " 6   longitude               419232 non-null  Float64\n",
      " 7   primary_fuel            419232 non-null  string \n",
      " 8   other_fuel1             23328 non-null   string \n",
      " 9   other_fuel2             3312 non-null    string \n",
      " 10  other_fuel3             1104 non-null    string \n",
      " 11  commissioning_year      209364 non-null  Float64\n",
      " 12  owner                   250416 non-null  string \n",
      " 13  source                  419052 non-null  string \n",
      " 14  url                     419016 non-null  string \n",
      " 15  geolocation_source      414204 non-null  string \n",
      " 16  wepp_id                 194808 non-null  string \n",
      " 17  year_of_capacity_data   178644 non-null  Int64  \n",
      " 18  generation_data_source  136800 non-null  string \n",
      " 19  value                   160167 non-null  Float64\n",
      " 20  observation_method      419232 non-null  string \n",
      " 21  observation_year        419232 non-null  Int64  \n",
      "dtypes: Float64(5), Int64(2), string(15)\n",
      "memory usage: 73.2 MB\n",
      "None\n"
     ]
    }
   ],
   "source": [
    "print(df_gppd.info(verbose=True))"
   ]
  },
  {
   "cell_type": "code",
   "execution_count": 7,
   "id": "9a014d4a-09dc-498b-ba6e-f675c5ef2050",
   "metadata": {},
   "outputs": [
    {
     "data": {
      "text/html": [
       "<div>\n",
       "<style scoped>\n",
       "    .dataframe tbody tr th:only-of-type {\n",
       "        vertical-align: middle;\n",
       "    }\n",
       "\n",
       "    .dataframe tbody tr th {\n",
       "        vertical-align: top;\n",
       "    }\n",
       "\n",
       "    .dataframe thead th {\n",
       "        text-align: right;\n",
       "    }\n",
       "</style>\n",
       "<table border=\"1\" class=\"dataframe\">\n",
       "  <thead>\n",
       "    <tr style=\"text-align: right;\">\n",
       "      <th></th>\n",
       "      <th>country</th>\n",
       "      <th>country_long</th>\n",
       "      <th>name</th>\n",
       "      <th>gppd_idnr</th>\n",
       "      <th>capacity_mw</th>\n",
       "      <th>latitude</th>\n",
       "      <th>longitude</th>\n",
       "      <th>primary_fuel</th>\n",
       "      <th>other_fuel1</th>\n",
       "      <th>other_fuel2</th>\n",
       "      <th>...</th>\n",
       "      <th>owner</th>\n",
       "      <th>source</th>\n",
       "      <th>url</th>\n",
       "      <th>geolocation_source</th>\n",
       "      <th>wepp_id</th>\n",
       "      <th>year_of_capacity_data</th>\n",
       "      <th>generation_data_source</th>\n",
       "      <th>value</th>\n",
       "      <th>observation_method</th>\n",
       "      <th>observation_year</th>\n",
       "    </tr>\n",
       "  </thead>\n",
       "  <tbody>\n",
       "    <tr>\n",
       "      <th>0</th>\n",
       "      <td>AFG</td>\n",
       "      <td>Afghanistan</td>\n",
       "      <td>Kajaki Hydroelectric Power Plant Afghanistan</td>\n",
       "      <td>GEODB0040538</td>\n",
       "      <td>33.0</td>\n",
       "      <td>32.322</td>\n",
       "      <td>65.119</td>\n",
       "      <td>Hydro</td>\n",
       "      <td>&lt;NA&gt;</td>\n",
       "      <td>&lt;NA&gt;</td>\n",
       "      <td>...</td>\n",
       "      <td>&lt;NA&gt;</td>\n",
       "      <td>GEODB</td>\n",
       "      <td>http://globalenergyobservatory.org</td>\n",
       "      <td>GEODB</td>\n",
       "      <td>1009793</td>\n",
       "      <td>2017</td>\n",
       "      <td>&lt;NA&gt;</td>\n",
       "      <td>&lt;NA&gt;</td>\n",
       "      <td>generation_gwh</td>\n",
       "      <td>2013</td>\n",
       "    </tr>\n",
       "    <tr>\n",
       "      <th>1</th>\n",
       "      <td>AFG</td>\n",
       "      <td>Afghanistan</td>\n",
       "      <td>Kandahar DOG</td>\n",
       "      <td>WKS0070144</td>\n",
       "      <td>10.0</td>\n",
       "      <td>31.67</td>\n",
       "      <td>65.795</td>\n",
       "      <td>Solar</td>\n",
       "      <td>&lt;NA&gt;</td>\n",
       "      <td>&lt;NA&gt;</td>\n",
       "      <td>...</td>\n",
       "      <td>&lt;NA&gt;</td>\n",
       "      <td>Wiki-Solar</td>\n",
       "      <td>https://www.wiki-solar.org</td>\n",
       "      <td>Wiki-Solar</td>\n",
       "      <td>&lt;NA&gt;</td>\n",
       "      <td>&lt;NA&gt;</td>\n",
       "      <td>&lt;NA&gt;</td>\n",
       "      <td>&lt;NA&gt;</td>\n",
       "      <td>generation_gwh</td>\n",
       "      <td>2013</td>\n",
       "    </tr>\n",
       "    <tr>\n",
       "      <th>2</th>\n",
       "      <td>AFG</td>\n",
       "      <td>Afghanistan</td>\n",
       "      <td>Kandahar JOL</td>\n",
       "      <td>WKS0071196</td>\n",
       "      <td>10.0</td>\n",
       "      <td>31.623</td>\n",
       "      <td>65.792</td>\n",
       "      <td>Solar</td>\n",
       "      <td>&lt;NA&gt;</td>\n",
       "      <td>&lt;NA&gt;</td>\n",
       "      <td>...</td>\n",
       "      <td>&lt;NA&gt;</td>\n",
       "      <td>Wiki-Solar</td>\n",
       "      <td>https://www.wiki-solar.org</td>\n",
       "      <td>Wiki-Solar</td>\n",
       "      <td>&lt;NA&gt;</td>\n",
       "      <td>&lt;NA&gt;</td>\n",
       "      <td>&lt;NA&gt;</td>\n",
       "      <td>&lt;NA&gt;</td>\n",
       "      <td>generation_gwh</td>\n",
       "      <td>2013</td>\n",
       "    </tr>\n",
       "    <tr>\n",
       "      <th>3</th>\n",
       "      <td>AFG</td>\n",
       "      <td>Afghanistan</td>\n",
       "      <td>Mahipar Hydroelectric Power Plant Afghanistan</td>\n",
       "      <td>GEODB0040541</td>\n",
       "      <td>66.0</td>\n",
       "      <td>34.556</td>\n",
       "      <td>69.4787</td>\n",
       "      <td>Hydro</td>\n",
       "      <td>&lt;NA&gt;</td>\n",
       "      <td>&lt;NA&gt;</td>\n",
       "      <td>...</td>\n",
       "      <td>&lt;NA&gt;</td>\n",
       "      <td>GEODB</td>\n",
       "      <td>http://globalenergyobservatory.org</td>\n",
       "      <td>GEODB</td>\n",
       "      <td>1009795</td>\n",
       "      <td>2017</td>\n",
       "      <td>&lt;NA&gt;</td>\n",
       "      <td>&lt;NA&gt;</td>\n",
       "      <td>generation_gwh</td>\n",
       "      <td>2013</td>\n",
       "    </tr>\n",
       "    <tr>\n",
       "      <th>4</th>\n",
       "      <td>AFG</td>\n",
       "      <td>Afghanistan</td>\n",
       "      <td>Naghlu Dam Hydroelectric Power Plant Afghanistan</td>\n",
       "      <td>GEODB0040534</td>\n",
       "      <td>100.0</td>\n",
       "      <td>34.641</td>\n",
       "      <td>69.717</td>\n",
       "      <td>Hydro</td>\n",
       "      <td>&lt;NA&gt;</td>\n",
       "      <td>&lt;NA&gt;</td>\n",
       "      <td>...</td>\n",
       "      <td>&lt;NA&gt;</td>\n",
       "      <td>GEODB</td>\n",
       "      <td>http://globalenergyobservatory.org</td>\n",
       "      <td>GEODB</td>\n",
       "      <td>1009797</td>\n",
       "      <td>2017</td>\n",
       "      <td>&lt;NA&gt;</td>\n",
       "      <td>&lt;NA&gt;</td>\n",
       "      <td>generation_gwh</td>\n",
       "      <td>2013</td>\n",
       "    </tr>\n",
       "  </tbody>\n",
       "</table>\n",
       "<p>5 rows × 22 columns</p>\n",
       "</div>"
      ],
      "text/plain": [
       "  country country_long                                              name  \\\n",
       "0     AFG  Afghanistan      Kajaki Hydroelectric Power Plant Afghanistan   \n",
       "1     AFG  Afghanistan                                      Kandahar DOG   \n",
       "2     AFG  Afghanistan                                      Kandahar JOL   \n",
       "3     AFG  Afghanistan     Mahipar Hydroelectric Power Plant Afghanistan   \n",
       "4     AFG  Afghanistan  Naghlu Dam Hydroelectric Power Plant Afghanistan   \n",
       "\n",
       "      gppd_idnr  capacity_mw  latitude  longitude primary_fuel other_fuel1  \\\n",
       "0  GEODB0040538         33.0    32.322     65.119        Hydro        <NA>   \n",
       "1    WKS0070144         10.0     31.67     65.795        Solar        <NA>   \n",
       "2    WKS0071196         10.0    31.623     65.792        Solar        <NA>   \n",
       "3  GEODB0040541         66.0    34.556    69.4787        Hydro        <NA>   \n",
       "4  GEODB0040534        100.0    34.641     69.717        Hydro        <NA>   \n",
       "\n",
       "  other_fuel2  ... owner      source                                 url  \\\n",
       "0        <NA>  ...  <NA>       GEODB  http://globalenergyobservatory.org   \n",
       "1        <NA>  ...  <NA>  Wiki-Solar          https://www.wiki-solar.org   \n",
       "2        <NA>  ...  <NA>  Wiki-Solar          https://www.wiki-solar.org   \n",
       "3        <NA>  ...  <NA>       GEODB  http://globalenergyobservatory.org   \n",
       "4        <NA>  ...  <NA>       GEODB  http://globalenergyobservatory.org   \n",
       "\n",
       "  geolocation_source  wepp_id year_of_capacity_data generation_data_source  \\\n",
       "0              GEODB  1009793                  2017                   <NA>   \n",
       "1         Wiki-Solar     <NA>                  <NA>                   <NA>   \n",
       "2         Wiki-Solar     <NA>                  <NA>                   <NA>   \n",
       "3              GEODB  1009795                  2017                   <NA>   \n",
       "4              GEODB  1009797                  2017                   <NA>   \n",
       "\n",
       "   value observation_method  observation_year  \n",
       "0   <NA>     generation_gwh              2013  \n",
       "1   <NA>     generation_gwh              2013  \n",
       "2   <NA>     generation_gwh              2013  \n",
       "3   <NA>     generation_gwh              2013  \n",
       "4   <NA>     generation_gwh              2013  \n",
       "\n",
       "[5 rows x 22 columns]"
      ]
     },
     "execution_count": 7,
     "metadata": {},
     "output_type": "execute_result"
    }
   ],
   "source": [
    "df_gppd.head()"
   ]
  },
  {
   "cell_type": "markdown",
   "id": "3de49f3a-d729-4af4-9edc-224fc7356ea9",
   "metadata": {},
   "source": [
    "Connect to Trino and load the data"
   ]
  },
  {
   "cell_type": "code",
   "execution_count": 8,
   "id": "edc9ff36-00e0-47b2-87e3-1c908e72facd",
   "metadata": {},
   "outputs": [],
   "source": [
    "# Define execution variables for loading to Iceberg / Trino\n",
    "ingest_catalog = 'osc_datacommons_dev'\n",
    "ingest_schema = 'sandbox'\n",
    "ingest_table = 'gppd'"
   ]
  },
  {
   "cell_type": "code",
   "execution_count": 9,
   "id": "9a6e4160-86fb-4107-a01f-fa2213c3091b",
   "metadata": {},
   "outputs": [
    {
     "name": "stdout",
     "output_type": "stream",
     "text": [
      "using connect string: trino://caldeirav@trino-secure-odh-trino.apps.odh-cl2.apps.os-climate.org:443/osc_datacommons_dev\n"
     ]
    }
   ],
   "source": [
    "engine = osc.attach_trino_engine(verbose=True, catalog=ingest_catalog)"
   ]
  },
  {
   "cell_type": "code",
   "execution_count": 10,
   "id": "2cb4b34d-6f8d-4758-9420-8767c77e2d12",
   "metadata": {},
   "outputs": [
    {
     "name": "stdout",
     "output_type": "stream",
     "text": [
      "[('default',), ('demo_dv',), ('iceberg_demo',), ('information_schema',), ('sandbox',)]\n"
     ]
    }
   ],
   "source": [
    "# Show available schemas to ensure trino connection is set correctly\n",
    "schema_show_sql = f\"\"\"\n",
    "show schemas in {ingest_catalog}\n",
    "\"\"\"\n",
    "schema_show = engine.execute(schema_show_sql)\n",
    "print(schema_show.fetchall())"
   ]
  },
  {
   "cell_type": "markdown",
   "id": "fa681a70-4775-4609-b95e-1423813c3321",
   "metadata": {},
   "source": [
    "Create target table"
   ]
  },
  {
   "cell_type": "code",
   "execution_count": 11,
   "id": "d8b6b66c-d11a-4754-b61b-077bac7d1f74",
   "metadata": {},
   "outputs": [
    {
     "name": "stdout",
     "output_type": "stream",
     "text": [
      "[(True,)]\n"
     ]
    }
   ],
   "source": [
    "# Drop table if exists in case we run the pipeline multiple times\n",
    "sql=f\"\"\"\n",
    "drop table if exists {ingest_catalog}.{ingest_schema}.{ingest_table}\n",
    "\"\"\"\n",
    "qres = engine.execute(sql)\n",
    "print(qres.fetchall())"
   ]
  },
  {
   "cell_type": "code",
   "execution_count": 12,
   "id": "c9058867-4a87-4e50-8081-5b5f337dc740",
   "metadata": {},
   "outputs": [
    {
     "name": "stdout",
     "output_type": "stream",
     "text": [
      "\n",
      "create table if not exists osc_datacommons_dev.sandbox.gppd(\n",
      "    country varchar,\n",
      "    country_long varchar,\n",
      "    name varchar,\n",
      "    gppd_idnr varchar,\n",
      "    capacity_mw double,\n",
      "    latitude double,\n",
      "    longitude double,\n",
      "    primary_fuel varchar,\n",
      "    other_fuel1 varchar,\n",
      "    other_fuel2 varchar,\n",
      "    other_fuel3 varchar,\n",
      "    commissioning_year double,\n",
      "    owner varchar,\n",
      "    source varchar,\n",
      "    url varchar,\n",
      "    geolocation_source varchar,\n",
      "    wepp_id varchar,\n",
      "    year_of_capacity_data bigint,\n",
      "    generation_data_source varchar,\n",
      "    value double,\n",
      "    observation_method varchar,\n",
      "    observation_year bigint\n",
      ") with (\n",
      "    format = 'ORC',\n",
      "    partitioning = array['country']\n",
      ")\n",
      "\n"
     ]
    }
   ],
   "source": [
    "# Create table definition and create table query\n",
    "columnschema = osc.create_table_schema_pairs(df_gppd)\n",
    "tabledef = f\"\"\"\n",
    "create table if not exists {ingest_catalog}.{ingest_schema}.{ingest_table}(\n",
    "{columnschema}\n",
    ") with (\n",
    "    format = 'ORC',\n",
    "    partitioning = array['country']\n",
    ")\n",
    "\"\"\"\n",
    "print(tabledef)"
   ]
  },
  {
   "cell_type": "code",
   "execution_count": 13,
   "id": "ea9c433a-5dc3-4eca-8fd6-58eed033558f",
   "metadata": {},
   "outputs": [
    {
     "name": "stdout",
     "output_type": "stream",
     "text": [
      "[(True,)]\n"
     ]
    }
   ],
   "source": [
    "# Execute table creation if the table does not exist\n",
    "qres = engine.execute(tabledef)\n",
    "print(qres.fetchall())"
   ]
  },
  {
   "cell_type": "code",
   "execution_count": 14,
   "id": "617cdf78-743c-4652-b37d-c052dbcc1521",
   "metadata": {},
   "outputs": [],
   "source": [
    "# Replace NaN observations with zero for graphing\n",
    "df_gppd['value'] = df_gppd['value'].fillna(0)"
   ]
  },
  {
   "cell_type": "code",
   "execution_count": 15,
   "id": "ad235bff-0117-484c-9ee7-0d1e0556eb5c",
   "metadata": {},
   "outputs": [],
   "source": [
    "# Filter the dataframe to one country in order to fasten the demo\n",
    "df_gppd = df_gppd[df_gppd.isin(['Afghanistan']).any(axis=1)]"
   ]
  },
  {
   "cell_type": "code",
   "execution_count": 16,
   "id": "731eb9eb-91e6-4af4-ac39-e0b64a93a76e",
   "metadata": {},
   "outputs": [],
   "source": [
    "# Insert the dataframe data in batches of 100\n",
    "df_gppd.to_sql(ingest_table,\n",
    "           con=engine,\n",
    "           schema=ingest_schema,\n",
    "           if_exists='append',\n",
    "           index=False,\n",
    "           method=osc.TrinoBatchInsert(batch_size = 100, verbose = False))"
   ]
  },
  {
   "cell_type": "code",
   "execution_count": null,
   "id": "a09c7e4c-70a8-4ea1-a3cb-bec9b7dfc175",
   "metadata": {},
   "outputs": [],
   "source": []
  }
 ],
 "metadata": {
  "kernelspec": {
   "display_name": "Python 3 (ipykernel)",
   "language": "python",
   "name": "python3"
  },
  "language_info": {
   "codemirror_mode": {
    "name": "ipython",
    "version": 3
   },
   "file_extension": ".py",
   "mimetype": "text/x-python",
   "name": "python",
   "nbconvert_exporter": "python",
   "pygments_lexer": "ipython3",
   "version": "3.8.8"
  }
 },
 "nbformat": 4,
 "nbformat_minor": 5
}
