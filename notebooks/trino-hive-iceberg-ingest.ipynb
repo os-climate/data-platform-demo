{
 "cells": [
  {
   "cell_type": "code",
   "execution_count": 1,
   "id": "b34594f6-c5c7-42e0-8904-2d5022c5e78f",
   "metadata": {},
   "outputs": [
    {
     "name": "stdout",
     "output_type": "stream",
     "text": [
      "Exception reporting mode: Minimal\n"
     ]
    }
   ],
   "source": [
    "%xmode Minimal"
   ]
  },
  {
   "cell_type": "code",
   "execution_count": 2,
   "id": "743ee77d-ef5f-4735-8d24-8d0195a0066c",
   "metadata": {},
   "outputs": [],
   "source": [
    "%%capture pipoutput\n",
    "%pip install python-dotenv boto3 pandas pyarrow fastparquet "
   ]
  },
  {
   "cell_type": "code",
   "execution_count": 3,
   "id": "be49e398-3ce3-4cda-be1d-c6c0ea3689ab",
   "metadata": {},
   "outputs": [],
   "source": [
    "%%capture pipoutput\n",
    "%pip install --upgrade osc-ingest-tools"
   ]
  },
  {
   "cell_type": "code",
   "execution_count": 4,
   "id": "3bbd349c-99a5-4e11-898d-2ca7a9627221",
   "metadata": {},
   "outputs": [
    {
     "data": {
      "text/plain": [
       "'23b38211'"
      ]
     },
     "execution_count": 4,
     "metadata": {},
     "output_type": "execute_result"
    }
   ],
   "source": [
    "import uuid\n",
    "#uniq = uuid.uuid4().hex[:8]\n",
    "uniq = '23b38211'\n",
    "uniq"
   ]
  },
  {
   "cell_type": "code",
   "execution_count": 5,
   "id": "6ad0299b-4a92-4dbc-81f2-336084bf6078",
   "metadata": {},
   "outputs": [],
   "source": [
    "ingest_catalog = 'osc_datacommons_dev'\n",
    "ingest_schema = 'demo'"
   ]
  },
  {
   "cell_type": "code",
   "execution_count": 6,
   "id": "a4205f08-c1ba-4b14-90b8-fd3a1a4910b1",
   "metadata": {},
   "outputs": [],
   "source": [
    "partition_columns = ['year']"
   ]
  },
  {
   "cell_type": "code",
   "execution_count": 7,
   "id": "e79f7952-0fbe-483e-b6b0-806cf715e900",
   "metadata": {},
   "outputs": [],
   "source": [
    "iceberg_catalog = 'osc_datacommons_iceberg_dev'\n",
    "iceberg_schema = 'iceberg_demo'\n",
    "iceberg_table = f'iceberg_{uniq}'"
   ]
  },
  {
   "cell_type": "code",
   "execution_count": 8,
   "id": "92b3a90b-b48f-4f0f-aa4a-f49c4e47e384",
   "metadata": {},
   "outputs": [
    {
     "name": "stdout",
     "output_type": "stream",
     "text": [
      "using connect string: trino://erikerlandson@trino-secure-odh-trino.apps.odh-cl1.apps.os-climate.org:443/osc_datacommons_iceberg_dev\n"
     ]
    }
   ],
   "source": [
    "import osc_ingest_trino as osc\n",
    "osc.load_credentials_dotenv()\n",
    "\n",
    "engine = osc.attach_trino_engine(catalog = iceberg_catalog, verbose=True)"
   ]
  },
  {
   "cell_type": "code",
   "execution_count": 9,
   "id": "b7e37147-3bf8-4fdc-ac45-87f3647af84a",
   "metadata": {},
   "outputs": [],
   "source": [
    "# bucket must be configured with credentials for trino, and accessible to the hive catalog\n",
    "bucket = osc.attach_s3_bucket('S3_DEV')"
   ]
  },
  {
   "cell_type": "code",
   "execution_count": 10,
   "id": "af903cc5-8b28-43c8-b1f5-6e22ea79f670",
   "metadata": {},
   "outputs": [
    {
     "data": {
      "text/html": [
       "<div>\n",
       "<style scoped>\n",
       "    .dataframe tbody tr th:only-of-type {\n",
       "        vertical-align: middle;\n",
       "    }\n",
       "\n",
       "    .dataframe tbody tr th {\n",
       "        vertical-align: top;\n",
       "    }\n",
       "\n",
       "    .dataframe thead th {\n",
       "        text-align: right;\n",
       "    }\n",
       "</style>\n",
       "<table border=\"1\" class=\"dataframe\">\n",
       "  <thead>\n",
       "    <tr style=\"text-align: right;\">\n",
       "      <th></th>\n",
       "      <th>year</th>\n",
       "      <th>metric</th>\n",
       "    </tr>\n",
       "  </thead>\n",
       "  <tbody>\n",
       "    <tr>\n",
       "      <th>0</th>\n",
       "      <td>2022</td>\n",
       "      <td>0.152365</td>\n",
       "    </tr>\n",
       "    <tr>\n",
       "      <th>1</th>\n",
       "      <td>2021</td>\n",
       "      <td>0.352381</td>\n",
       "    </tr>\n",
       "    <tr>\n",
       "      <th>2</th>\n",
       "      <td>2021</td>\n",
       "      <td>0.655158</td>\n",
       "    </tr>\n",
       "    <tr>\n",
       "      <th>3</th>\n",
       "      <td>2020</td>\n",
       "      <td>0.413705</td>\n",
       "    </tr>\n",
       "    <tr>\n",
       "      <th>4</th>\n",
       "      <td>2022</td>\n",
       "      <td>0.871667</td>\n",
       "    </tr>\n",
       "    <tr>\n",
       "      <th>...</th>\n",
       "      <td>...</td>\n",
       "      <td>...</td>\n",
       "    </tr>\n",
       "    <tr>\n",
       "      <th>995</th>\n",
       "      <td>2022</td>\n",
       "      <td>0.618417</td>\n",
       "    </tr>\n",
       "    <tr>\n",
       "      <th>996</th>\n",
       "      <td>2021</td>\n",
       "      <td>0.582545</td>\n",
       "    </tr>\n",
       "    <tr>\n",
       "      <th>997</th>\n",
       "      <td>2021</td>\n",
       "      <td>0.553149</td>\n",
       "    </tr>\n",
       "    <tr>\n",
       "      <th>998</th>\n",
       "      <td>2020</td>\n",
       "      <td>0.708774</td>\n",
       "    </tr>\n",
       "    <tr>\n",
       "      <th>999</th>\n",
       "      <td>2021</td>\n",
       "      <td>0.695551</td>\n",
       "    </tr>\n",
       "  </tbody>\n",
       "</table>\n",
       "<p>1000 rows × 2 columns</p>\n",
       "</div>"
      ],
      "text/plain": [
       "     year    metric\n",
       "0    2022  0.152365\n",
       "1    2021  0.352381\n",
       "2    2021  0.655158\n",
       "3    2020  0.413705\n",
       "4    2022  0.871667\n",
       "..    ...       ...\n",
       "995  2022  0.618417\n",
       "996  2021  0.582545\n",
       "997  2021  0.553149\n",
       "998  2020  0.708774\n",
       "999  2021  0.695551\n",
       "\n",
       "[1000 rows x 2 columns]"
      ]
     },
     "execution_count": 10,
     "metadata": {},
     "output_type": "execute_result"
    }
   ],
   "source": [
    "import random\n",
    "import pandas as pd\n",
    "\n",
    "datasize = 1000\n",
    "yeardata = [random.randrange(2020,2023) for x in range(datasize)]\n",
    "metricdata = [random.random() for x in range(datasize)]\n",
    "\n",
    "df1 = pd.DataFrame(data={\"year\": yeardata, \"metric\": metricdata})\n",
    "df1.convert_dtypes()"
   ]
  },
  {
   "cell_type": "code",
   "execution_count": 11,
   "id": "4b00f05a-5e85-4212-9c93-b368d9051661",
   "metadata": {},
   "outputs": [
    {
     "name": "stdout",
     "output_type": "stream",
     "text": [
      "<class 'pandas.core.frame.DataFrame'>\n",
      "RangeIndex: 1000 entries, 0 to 999\n",
      "Data columns (total 2 columns):\n",
      " #   Column  Non-Null Count  Dtype  \n",
      "---  ------  --------------  -----  \n",
      " 0   year    1000 non-null   int64  \n",
      " 1   metric  1000 non-null   float64\n",
      "dtypes: float64(1), int64(1)\n",
      "memory usage: 15.8 KB\n"
     ]
    }
   ],
   "source": [
    "df1.info(verbose=True)"
   ]
  },
  {
   "cell_type": "code",
   "execution_count": 12,
   "id": "056268c2-3dc0-412c-8518-f711380e59d9",
   "metadata": {},
   "outputs": [],
   "source": [
    "osc.fast_pandas_ingest_via_hive(\n",
    "    df1,\n",
    "    engine,\n",
    "    iceberg_catalog, iceberg_schema, iceberg_table,\n",
    "    bucket, ingest_catalog, ingest_schema,\n",
    "    partition_columns = partition_columns,\n",
    "    overwrite = False,\n",
    "    verbose = False\n",
    ")"
   ]
  },
  {
   "cell_type": "code",
   "execution_count": 13,
   "id": "3ea340f3-b6df-4182-bbe4-57df39314010",
   "metadata": {},
   "outputs": [
    {
     "data": {
      "text/html": [
       "<div>\n",
       "<style scoped>\n",
       "    .dataframe tbody tr th:only-of-type {\n",
       "        vertical-align: middle;\n",
       "    }\n",
       "\n",
       "    .dataframe tbody tr th {\n",
       "        vertical-align: top;\n",
       "    }\n",
       "\n",
       "    .dataframe thead th {\n",
       "        text-align: right;\n",
       "    }\n",
       "</style>\n",
       "<table border=\"1\" class=\"dataframe\">\n",
       "  <thead>\n",
       "    <tr style=\"text-align: right;\">\n",
       "      <th></th>\n",
       "      <th>metric</th>\n",
       "      <th>year</th>\n",
       "    </tr>\n",
       "  </thead>\n",
       "  <tbody>\n",
       "    <tr>\n",
       "      <th>0</th>\n",
       "      <td>0.906234</td>\n",
       "      <td>2021</td>\n",
       "    </tr>\n",
       "    <tr>\n",
       "      <th>1</th>\n",
       "      <td>0.093459</td>\n",
       "      <td>2021</td>\n",
       "    </tr>\n",
       "    <tr>\n",
       "      <th>2</th>\n",
       "      <td>0.744767</td>\n",
       "      <td>2021</td>\n",
       "    </tr>\n",
       "    <tr>\n",
       "      <th>3</th>\n",
       "      <td>0.065963</td>\n",
       "      <td>2021</td>\n",
       "    </tr>\n",
       "    <tr>\n",
       "      <th>4</th>\n",
       "      <td>0.286204</td>\n",
       "      <td>2020</td>\n",
       "    </tr>\n",
       "    <tr>\n",
       "      <th>...</th>\n",
       "      <td>...</td>\n",
       "      <td>...</td>\n",
       "    </tr>\n",
       "    <tr>\n",
       "      <th>2995</th>\n",
       "      <td>0.983955</td>\n",
       "      <td>2022</td>\n",
       "    </tr>\n",
       "    <tr>\n",
       "      <th>2996</th>\n",
       "      <td>0.797005</td>\n",
       "      <td>2022</td>\n",
       "    </tr>\n",
       "    <tr>\n",
       "      <th>2997</th>\n",
       "      <td>0.767044</td>\n",
       "      <td>2022</td>\n",
       "    </tr>\n",
       "    <tr>\n",
       "      <th>2998</th>\n",
       "      <td>0.805545</td>\n",
       "      <td>2022</td>\n",
       "    </tr>\n",
       "    <tr>\n",
       "      <th>2999</th>\n",
       "      <td>0.618417</td>\n",
       "      <td>2022</td>\n",
       "    </tr>\n",
       "  </tbody>\n",
       "</table>\n",
       "<p>3000 rows × 2 columns</p>\n",
       "</div>"
      ],
      "text/plain": [
       "        metric  year\n",
       "0     0.906234  2021\n",
       "1     0.093459  2021\n",
       "2     0.744767  2021\n",
       "3     0.065963  2021\n",
       "4     0.286204  2020\n",
       "...        ...   ...\n",
       "2995  0.983955  2022\n",
       "2996  0.797005  2022\n",
       "2997  0.767044  2022\n",
       "2998  0.805545  2022\n",
       "2999  0.618417  2022\n",
       "\n",
       "[3000 rows x 2 columns]"
      ]
     },
     "execution_count": 13,
     "metadata": {},
     "output_type": "execute_result"
    }
   ],
   "source": [
    "sql = f\"\"\"\n",
    "select * from {iceberg_catalog}.{iceberg_schema}.{iceberg_table}\n",
    "\"\"\"\n",
    "df = pd.read_sql(sql, engine).convert_dtypes()\n",
    "df"
   ]
  },
  {
   "cell_type": "code",
   "execution_count": null,
   "id": "21f1af1f-ff2b-4071-ae35-d4bf43014a21",
   "metadata": {},
   "outputs": [],
   "source": []
  }
 ],
 "metadata": {
  "kernelspec": {
   "display_name": "Python 3 (ipykernel)",
   "language": "python",
   "name": "python3"
  },
  "language_info": {
   "codemirror_mode": {
    "name": "ipython",
    "version": 3
   },
   "file_extension": ".py",
   "mimetype": "text/x-python",
   "name": "python",
   "nbconvert_exporter": "python",
   "pygments_lexer": "ipython3",
   "version": "3.8.8"
  }
 },
 "nbformat": 4,
 "nbformat_minor": 5
}
