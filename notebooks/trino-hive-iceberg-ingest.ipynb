{
 "cells": [
  {
   "cell_type": "code",
   "execution_count": 1,
   "id": "b34594f6-c5c7-42e0-8904-2d5022c5e78f",
   "metadata": {},
   "outputs": [
    {
     "name": "stdout",
     "output_type": "stream",
     "text": [
      "Exception reporting mode: Minimal\n"
     ]
    }
   ],
   "source": [
    "%xmode Minimal"
   ]
  },
  {
   "cell_type": "code",
   "execution_count": 2,
   "id": "743ee77d-ef5f-4735-8d24-8d0195a0066c",
   "metadata": {},
   "outputs": [],
   "source": [
    "%%capture pipoutput\n",
    "%pip install python-dotenv boto3 pandas pyarrow fastparquet "
   ]
  },
  {
   "cell_type": "code",
   "execution_count": 3,
   "id": "be49e398-3ce3-4cda-be1d-c6c0ea3689ab",
   "metadata": {},
   "outputs": [],
   "source": [
    "%%capture pipoutput\n",
    "%pip install --upgrade osc-ingest-tools"
   ]
  },
  {
   "cell_type": "code",
   "execution_count": 4,
   "id": "92b3a90b-b48f-4f0f-aa4a-f49c4e47e384",
   "metadata": {},
   "outputs": [
    {
     "name": "stdout",
     "output_type": "stream",
     "text": [
      "using connect string: trino://erikerlandson@trino-secure-odh-trino.apps.odh-cl2.apps.os-climate.org:443\n"
     ]
    }
   ],
   "source": [
    "import osc_ingest_trino as osc\n",
    "osc.load_credentials_dotenv()\n",
    "\n",
    "engine = osc.attach_trino_engine(verbose=True)"
   ]
  },
  {
   "cell_type": "code",
   "execution_count": 5,
   "id": "b7e37147-3bf8-4fdc-ac45-87f3647af84a",
   "metadata": {},
   "outputs": [],
   "source": [
    "# bucket must be configured with credentials for trino, and accessible to the hive catalog\n",
    "# You may need to use a different prefix here depending on how you name your credentials.env variables\n",
    "bucket = osc.attach_s3_bucket('S3_OSCCL2')"
   ]
  },
  {
   "cell_type": "code",
   "execution_count": 6,
   "id": "3bbd349c-99a5-4e11-898d-2ca7a9627221",
   "metadata": {},
   "outputs": [
    {
     "data": {
      "text/plain": [
       "'erikerlandson'"
      ]
     },
     "execution_count": 6,
     "metadata": {},
     "output_type": "execute_result"
    }
   ],
   "source": [
    "import os\n",
    "# create demo table named per user\n",
    "# avoids problems with users reusing table names and associated permission problems\n",
    "uniq = os.environ['TRINO_USER']\n",
    "uniq"
   ]
  },
  {
   "cell_type": "code",
   "execution_count": 7,
   "id": "6ad0299b-4a92-4dbc-81f2-336084bf6078",
   "metadata": {},
   "outputs": [],
   "source": [
    "ingest_catalog = 'osc_datacommons_hive_ingest'\n",
    "ingest_schema = 'ingest'"
   ]
  },
  {
   "cell_type": "code",
   "execution_count": 8,
   "id": "a4205f08-c1ba-4b14-90b8-fd3a1a4910b1",
   "metadata": {},
   "outputs": [],
   "source": [
    "partition_columns = ['year']"
   ]
  },
  {
   "cell_type": "code",
   "execution_count": 9,
   "id": "e79f7952-0fbe-483e-b6b0-806cf715e900",
   "metadata": {},
   "outputs": [],
   "source": [
    "iceberg_catalog = 'osc_datacommons_dev'\n",
    "iceberg_schema = 'sandbox'\n",
    "iceberg_table = f'iceberg_demo_{uniq}'"
   ]
  },
  {
   "cell_type": "code",
   "execution_count": 10,
   "id": "af903cc5-8b28-43c8-b1f5-6e22ea79f670",
   "metadata": {},
   "outputs": [
    {
     "data": {
      "text/html": [
       "<div>\n",
       "<style scoped>\n",
       "    .dataframe tbody tr th:only-of-type {\n",
       "        vertical-align: middle;\n",
       "    }\n",
       "\n",
       "    .dataframe tbody tr th {\n",
       "        vertical-align: top;\n",
       "    }\n",
       "\n",
       "    .dataframe thead th {\n",
       "        text-align: right;\n",
       "    }\n",
       "</style>\n",
       "<table border=\"1\" class=\"dataframe\">\n",
       "  <thead>\n",
       "    <tr style=\"text-align: right;\">\n",
       "      <th></th>\n",
       "      <th>year</th>\n",
       "      <th>metric</th>\n",
       "    </tr>\n",
       "  </thead>\n",
       "  <tbody>\n",
       "    <tr>\n",
       "      <th>0</th>\n",
       "      <td>2020</td>\n",
       "      <td>0.660268</td>\n",
       "    </tr>\n",
       "    <tr>\n",
       "      <th>1</th>\n",
       "      <td>2020</td>\n",
       "      <td>0.455403</td>\n",
       "    </tr>\n",
       "    <tr>\n",
       "      <th>2</th>\n",
       "      <td>2022</td>\n",
       "      <td>0.134238</td>\n",
       "    </tr>\n",
       "    <tr>\n",
       "      <th>3</th>\n",
       "      <td>2022</td>\n",
       "      <td>0.23197</td>\n",
       "    </tr>\n",
       "    <tr>\n",
       "      <th>4</th>\n",
       "      <td>2020</td>\n",
       "      <td>0.685925</td>\n",
       "    </tr>\n",
       "    <tr>\n",
       "      <th>...</th>\n",
       "      <td>...</td>\n",
       "      <td>...</td>\n",
       "    </tr>\n",
       "    <tr>\n",
       "      <th>995</th>\n",
       "      <td>2020</td>\n",
       "      <td>0.565553</td>\n",
       "    </tr>\n",
       "    <tr>\n",
       "      <th>996</th>\n",
       "      <td>2022</td>\n",
       "      <td>0.356613</td>\n",
       "    </tr>\n",
       "    <tr>\n",
       "      <th>997</th>\n",
       "      <td>2021</td>\n",
       "      <td>0.608207</td>\n",
       "    </tr>\n",
       "    <tr>\n",
       "      <th>998</th>\n",
       "      <td>2021</td>\n",
       "      <td>0.036636</td>\n",
       "    </tr>\n",
       "    <tr>\n",
       "      <th>999</th>\n",
       "      <td>2020</td>\n",
       "      <td>0.360225</td>\n",
       "    </tr>\n",
       "  </tbody>\n",
       "</table>\n",
       "<p>1000 rows × 2 columns</p>\n",
       "</div>"
      ],
      "text/plain": [
       "     year    metric\n",
       "0    2020  0.660268\n",
       "1    2020  0.455403\n",
       "2    2022  0.134238\n",
       "3    2022   0.23197\n",
       "4    2020  0.685925\n",
       "..    ...       ...\n",
       "995  2020  0.565553\n",
       "996  2022  0.356613\n",
       "997  2021  0.608207\n",
       "998  2021  0.036636\n",
       "999  2020  0.360225\n",
       "\n",
       "[1000 rows x 2 columns]"
      ]
     },
     "execution_count": 10,
     "metadata": {},
     "output_type": "execute_result"
    }
   ],
   "source": [
    "import random\n",
    "import pandas as pd\n",
    "\n",
    "datasize = 1000\n",
    "yeardata = [random.randrange(2020,2023) for x in range(datasize)]\n",
    "metricdata = [random.random() for x in range(datasize)]\n",
    "\n",
    "df1 = pd.DataFrame(data={\"year\": yeardata, \"metric\": metricdata})\n",
    "df1.convert_dtypes()"
   ]
  },
  {
   "cell_type": "code",
   "execution_count": 11,
   "id": "4b00f05a-5e85-4212-9c93-b368d9051661",
   "metadata": {},
   "outputs": [
    {
     "name": "stdout",
     "output_type": "stream",
     "text": [
      "<class 'pandas.core.frame.DataFrame'>\n",
      "RangeIndex: 1000 entries, 0 to 999\n",
      "Data columns (total 2 columns):\n",
      " #   Column  Non-Null Count  Dtype  \n",
      "---  ------  --------------  -----  \n",
      " 0   year    1000 non-null   int64  \n",
      " 1   metric  1000 non-null   float64\n",
      "dtypes: float64(1), int64(1)\n",
      "memory usage: 15.8 KB\n"
     ]
    }
   ],
   "source": [
    "df1.info(verbose=True)"
   ]
  },
  {
   "cell_type": "code",
   "execution_count": 12,
   "id": "056268c2-3dc0-412c-8518-f711380e59d9",
   "metadata": {},
   "outputs": [
    {
     "name": "stdout",
     "output_type": "stream",
     "text": [
      "enforcing dataframe partition column order\n",
      "\n",
      "verifying existence of table osc_datacommons_dev.sandbox.iceberg_demo_erikerlandson\n",
      "create table if not exists osc_datacommons_dev.sandbox.iceberg_demo_erikerlandson (\n",
      "    metric double,\n",
      "    year bigint\n",
      ") with (\n",
      "    format = 'parquet',\n",
      "    partitioning = array['year']\n",
      ")\n",
      "[(True,)]\n",
      "\n",
      "staging dataframe parquet to s3 osc-datacommons-s3-bucket-dev02\n",
      "/tmp/ingest_temp_790cfbe8/year=2020/b751a7265ec3482f81312d77c101c1c5-0.parquet  -->  trino/ingest/ingest_temp_790cfbe8/year=2020/b751a7265ec3482f81312d77c101c1c5-0.parquet\n",
      "/tmp/ingest_temp_790cfbe8/year=2021/b751a7265ec3482f81312d77c101c1c5-0.parquet  -->  trino/ingest/ingest_temp_790cfbe8/year=2021/b751a7265ec3482f81312d77c101c1c5-0.parquet\n",
      "/tmp/ingest_temp_790cfbe8/year=2022/b751a7265ec3482f81312d77c101c1c5-0.parquet  -->  trino/ingest/ingest_temp_790cfbe8/year=2022/b751a7265ec3482f81312d77c101c1c5-0.parquet\n",
      "\n",
      "declaring intermediate hive table osc_datacommons_hive_ingest.ingest.ingest_temp_790cfbe8\n",
      "create table if not exists osc_datacommons_hive_ingest.ingest.ingest_temp_790cfbe8 (\n",
      "    metric double,\n",
      "    year bigint\n",
      ") with (\n",
      "    format = 'parquet',\n",
      "    partitioned_by = array['year'],\n",
      "    external_location = 's3a://osc-datacommons-s3-bucket-dev02/trino/ingest/ingest_temp_790cfbe8/'\n",
      ")\n",
      "[(True,)]\n",
      "\n",
      "syncing partition metadata on intermediate hive table\n",
      "call osc_datacommons_hive_ingest.system.sync_partition_metadata('ingest', 'ingest_temp_790cfbe8', 'FULL')\n",
      "[(True,)]\n",
      "\n",
      "overwriting data in osc_datacommons_dev.sandbox.iceberg_demo_erikerlandson\n",
      "delete from osc_datacommons_dev.sandbox.iceberg_demo_erikerlandson\n",
      "[(1000,)]\n",
      "\n",
      "transferring data: osc_datacommons_hive_ingest.ingest.ingest_temp_790cfbe8 -> osc_datacommons_dev.sandbox.iceberg_demo_erikerlandson\n",
      "insert into osc_datacommons_dev.sandbox.iceberg_demo_erikerlandson\n",
      "select * from osc_datacommons_hive_ingest.ingest.ingest_temp_790cfbe8\n",
      "[(1000,)]\n",
      "\n",
      "deleting table and data for intermediate table osc_datacommons_hive_ingest.ingest.ingest_temp_790cfbe8\n",
      "[{'ResponseMetadata': {'RequestId': 'ZX19E9H9T2WWH9EF', 'HostId': 'CfwSVDRotA9OWizByuBGeiIsVTf48dwA/0SbaBgS1bqyxEG0fso2POw346H3MZZ3CD3AGSU43EY=', 'HTTPStatusCode': 200, 'HTTPHeaders': {'x-amz-id-2': 'CfwSVDRotA9OWizByuBGeiIsVTf48dwA/0SbaBgS1bqyxEG0fso2POw346H3MZZ3CD3AGSU43EY=', 'x-amz-request-id': 'ZX19E9H9T2WWH9EF', 'date': 'Wed, 10 Aug 2022 19:53:47 GMT', 'content-type': 'application/xml', 'transfer-encoding': 'chunked', 'server': 'AmazonS3', 'connection': 'close'}, 'RetryAttempts': 0}, 'Deleted': [{'Key': 'trino/ingest/ingest_temp_790cfbe8/year=2022/b751a7265ec3482f81312d77c101c1c5-0.parquet'}, {'Key': 'trino/ingest/ingest_temp_790cfbe8/year=2021/b751a7265ec3482f81312d77c101c1c5-0.parquet'}, {'Key': 'trino/ingest/ingest_temp_790cfbe8/year=2020/b751a7265ec3482f81312d77c101c1c5-0.parquet'}]}]\n"
     ]
    }
   ],
   "source": [
    "osc.fast_pandas_ingest_via_hive(\n",
    "    df1,\n",
    "    engine,\n",
    "    iceberg_catalog, iceberg_schema, iceberg_table,\n",
    "    bucket, ingest_catalog, ingest_schema,\n",
    "    partition_columns = partition_columns,\n",
    "    overwrite = True,\n",
    "    verbose = True\n",
    ")"
   ]
  },
  {
   "cell_type": "code",
   "execution_count": 13,
   "id": "3ea340f3-b6df-4182-bbe4-57df39314010",
   "metadata": {},
   "outputs": [
    {
     "data": {
      "text/html": [
       "<div>\n",
       "<style scoped>\n",
       "    .dataframe tbody tr th:only-of-type {\n",
       "        vertical-align: middle;\n",
       "    }\n",
       "\n",
       "    .dataframe tbody tr th {\n",
       "        vertical-align: top;\n",
       "    }\n",
       "\n",
       "    .dataframe thead th {\n",
       "        text-align: right;\n",
       "    }\n",
       "</style>\n",
       "<table border=\"1\" class=\"dataframe\">\n",
       "  <thead>\n",
       "    <tr style=\"text-align: right;\">\n",
       "      <th></th>\n",
       "      <th>metric</th>\n",
       "      <th>year</th>\n",
       "    </tr>\n",
       "  </thead>\n",
       "  <tbody>\n",
       "    <tr>\n",
       "      <th>0</th>\n",
       "      <td>0.355128</td>\n",
       "      <td>2021</td>\n",
       "    </tr>\n",
       "    <tr>\n",
       "      <th>1</th>\n",
       "      <td>0.281124</td>\n",
       "      <td>2021</td>\n",
       "    </tr>\n",
       "    <tr>\n",
       "      <th>2</th>\n",
       "      <td>0.971087</td>\n",
       "      <td>2021</td>\n",
       "    </tr>\n",
       "    <tr>\n",
       "      <th>3</th>\n",
       "      <td>0.880857</td>\n",
       "      <td>2021</td>\n",
       "    </tr>\n",
       "    <tr>\n",
       "      <th>4</th>\n",
       "      <td>0.886227</td>\n",
       "      <td>2021</td>\n",
       "    </tr>\n",
       "    <tr>\n",
       "      <th>...</th>\n",
       "      <td>...</td>\n",
       "      <td>...</td>\n",
       "    </tr>\n",
       "    <tr>\n",
       "      <th>995</th>\n",
       "      <td>0.136344</td>\n",
       "      <td>2022</td>\n",
       "    </tr>\n",
       "    <tr>\n",
       "      <th>996</th>\n",
       "      <td>0.11782</td>\n",
       "      <td>2022</td>\n",
       "    </tr>\n",
       "    <tr>\n",
       "      <th>997</th>\n",
       "      <td>0.400703</td>\n",
       "      <td>2022</td>\n",
       "    </tr>\n",
       "    <tr>\n",
       "      <th>998</th>\n",
       "      <td>0.61321</td>\n",
       "      <td>2022</td>\n",
       "    </tr>\n",
       "    <tr>\n",
       "      <th>999</th>\n",
       "      <td>0.356613</td>\n",
       "      <td>2022</td>\n",
       "    </tr>\n",
       "  </tbody>\n",
       "</table>\n",
       "<p>1000 rows × 2 columns</p>\n",
       "</div>"
      ],
      "text/plain": [
       "       metric  year\n",
       "0    0.355128  2021\n",
       "1    0.281124  2021\n",
       "2    0.971087  2021\n",
       "3    0.880857  2021\n",
       "4    0.886227  2021\n",
       "..        ...   ...\n",
       "995  0.136344  2022\n",
       "996   0.11782  2022\n",
       "997  0.400703  2022\n",
       "998   0.61321  2022\n",
       "999  0.356613  2022\n",
       "\n",
       "[1000 rows x 2 columns]"
      ]
     },
     "execution_count": 13,
     "metadata": {},
     "output_type": "execute_result"
    }
   ],
   "source": [
    "sql = f\"\"\"\n",
    "select * from {iceberg_catalog}.{iceberg_schema}.{iceberg_table}\n",
    "\"\"\"\n",
    "df = pd.read_sql(sql, engine).convert_dtypes()\n",
    "df"
   ]
  },
  {
   "cell_type": "code",
   "execution_count": null,
   "id": "21f1af1f-ff2b-4071-ae35-d4bf43014a21",
   "metadata": {},
   "outputs": [],
   "source": []
  }
 ],
 "metadata": {
  "kernelspec": {
   "display_name": "Python 3 (ipykernel)",
   "language": "python",
   "name": "python3"
  },
  "language_info": {
   "codemirror_mode": {
    "name": "ipython",
    "version": 3
   },
   "file_extension": ".py",
   "mimetype": "text/x-python",
   "name": "python",
   "nbconvert_exporter": "python",
   "pygments_lexer": "ipython3",
   "version": "3.8.8"
  }
 },
 "nbformat": 4,
 "nbformat_minor": 5
}
